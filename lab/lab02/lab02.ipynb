{
 "cells": [
  {
   "cell_type": "code",
   "execution_count": null,
   "metadata": {
    "deletable": false,
    "editable": false
   },
   "outputs": [],
   "source": [
    "# Initialize Otter\n",
    "import otter\n",
    "grader = otter.Notebook(\"lab02.ipynb\")"
   ]
  },
  {
   "cell_type": "markdown",
   "metadata": {},
   "source": [
    "# Lab 2: Table operations\n",
    "\n",
    "Welcome to Lab 2!  This week, we'll learn how to import a module and practice table operations!\n",
    "\n",
    "Recommended Reading:\n",
    " * [Introduction to tables](https://www.inferentialthinking.com/chapters/03/4/Introduction_to_Tables)\n",
    "\n",
    "First, set up the tests and imports by running the cell below."
   ]
  },
  {
   "cell_type": "code",
   "execution_count": 23,
   "metadata": {},
   "outputs": [],
   "source": [
    "# Just run this cell\n",
    "\n",
    "import numpy as np\n",
    "from datascience import *\n",
    "\n",
    "\n",
    "# These lines load the tests.\n",
    "# When you log-in please hit return (not shift + return) after typing in your email\n"
   ]
  },
  {
   "cell_type": "markdown",
   "metadata": {},
   "source": [
    "# 1. Review: The building blocks of Python code\n",
    "\n",
    "The two building blocks of Python code are *expressions* and *statements*.  An **expression** is a piece of code that\n",
    "\n",
    "* is self-contained, meaning it would make sense to write it on a line by itself, and\n",
    "* usually evaluates to a value.\n",
    "\n",
    "\n",
    "Here are two expressions that both evaluate to 3:\n",
    "\n",
    "    3\n",
    "    5 - 2\n",
    "    \n",
    "One important type of expression is the **call expression**. A call expression begins with the name of a function and is followed by the argument(s) of that function in parentheses. The function returns some value, based on its arguments. Some important mathematical functions are listed below.\n",
    "\n",
    "| Function | Description                                                   |\n",
    "|----------|---------------------------------------------------------------|\n",
    "| `abs`      | Returns the absolute value of its argument                    |\n",
    "| `max`      | Returns the maximum of all its arguments                      |\n",
    "| `min`      | Returns the minimum of all its arguments                      |\n",
    "| `pow`      | Raises its first argument to the power of its second argument |\n",
    "| `round`    | Rounds its argument to the nearest integer                     |\n",
    "\n",
    "Here are two call expressions that both evaluate to 3:\n",
    "\n",
    "    abs(2 - 5)\n",
    "    max(round(2.8), min(pow(2, 10), -1 * pow(2, 10)))\n",
    "\n",
    "The expression `2 - 5` and the two call expressions given above are examples of **compound expressions**, meaning that they are actually combinations of several smaller expressions.  `2 - 5` combines the expressions `2` and `5` by subtraction.  In this case, `2` and `5` are called **subexpressions** because they're expressions that are part of a larger expression.\n",
    "\n",
    "A **statement** is a whole line of code.  Some statements are just expressions.  The expressions listed above are examples.\n",
    "\n",
    "Other statements *make something happen* rather than *having a value*. For example, an **assignment statement** assigns a value to a name. \n",
    "\n",
    "A good way to think about this is that we're **evaluating the right-hand side** of the equals sign and **assigning it to the left-hand side**. Here are some assignment statements:\n",
    "    \n",
    "    height = 1.3\n",
    "    the_number_five = abs(-5)\n",
    "    absolute_height_difference = abs(height - 1.688)\n",
    "\n",
    "An important idea in programming is that large, interesting things can be built by combining many simple, uninteresting things.  The key to understanding a complicated piece of code is breaking it down into its simple components.\n",
    "\n",
    "For example, a lot is going on in the last statement above, but it's really just a combination of a few things.  This picture describes what's going on.\n",
    "\n",
    "<img src=\"data/statement.png\">"
   ]
  },
  {
   "cell_type": "markdown",
   "metadata": {
    "deletable": false,
    "editable": false
   },
   "source": [
    "**Question 1.1.** In the next cell, assign the name `new_year` to the larger number among the following two numbers:\n",
    "\n",
    "1. the **absolute value** of $2^{5}-2^{11}-2^1 - 5$, and \n",
    "2. $5 \\times 13 \\times 31 + 8$.\n",
    "\n",
    "Try to use just one statement (one line of code). Be sure to check your work by executing the test cell afterward.\n",
    "\n",
    "<!--\n",
    "BEGIN QUESTION\n",
    "name: q11\n",
    "-->"
   ]
  },
  {
   "cell_type": "code",
   "execution_count": 24,
   "metadata": {},
   "outputs": [],
   "source": [
    "new_year = ...\n",
    "new_year"
   ]
  },
  {
   "cell_type": "code",
   "execution_count": null,
   "metadata": {
    "deletable": false,
    "editable": false
   },
   "outputs": [],
   "source": [
    "grader.check(\"q11\")"
   ]
  },
  {
   "cell_type": "markdown",
   "metadata": {},
   "source": [
    "We've asked you to use one line of code in the question above because it only involves mathematical operations. However, more complicated programming questions will more require more steps. It isn’t always a good idea to jam these steps into a single line because it can make the code harder to read and harder to debug.\n",
    "\n",
    "Good programming practice involves splitting up your code into smaller steps and using appropriate names. You'll have plenty of practice in the rest of this course!"
   ]
  },
  {
   "cell_type": "markdown",
   "metadata": {},
   "source": [
    "# 2. Importing code\n",
    "\n",
    "![imports](https://external-preview.redd.it/ZVPjiFo_Ubl4JeiU63SaTjdIoq5zveSnNZimKpgn2I8.png?auto=webp&s=bf32c94b630befa121075c1ae99b2599af6dedc5) \n",
    "\n",
    "[source](https://www.reddit.com/r/ProgrammerHumor/comments/cgtk7s/theres_no_need_to_reinvent_the_wheel_oc/)\n",
    "\n",
    "Most programming involves work that is very similar to work that has been done before.  Since writing code is time-consuming, it's good to rely on others' published code when you can.  Rather than copy-pasting, Python allows us to **import modules**. A module is a file with Python code that has defined variables and functions. By importing a module, we are able to use its code in our own notebook.\n",
    "\n",
    "Python includes many useful modules that are just an `import` away.  We'll look at the `math` module as a first example. The `math` module is extremely useful in computing mathematical expressions in Python. \n",
    "\n",
    "Suppose we want to very accurately compute the area of a circle with a radius of 5 meters.  For that, we need the constant $\\pi$, which is roughly 3.14.  Conveniently, the `math` module has `pi` defined for us:"
   ]
  },
  {
   "cell_type": "code",
   "execution_count": 26,
   "metadata": {},
   "outputs": [],
   "source": [
    "import math\n",
    "radius = 5\n",
    "area_of_circle = radius**2 * math.pi\n",
    "area_of_circle"
   ]
  },
  {
   "cell_type": "markdown",
   "metadata": {},
   "source": [
    "In the code above, the line `import math` imports the math module. This statement creates a module and then assigns the name `math` to that module. We are now able to access any variables or functions defined within `math` by typing the name of the module followed by a dot, then followed by the name of the variable or function we want.\n",
    "\n",
    "    <module name>.<name>"
   ]
  },
  {
   "cell_type": "markdown",
   "metadata": {
    "deletable": false,
    "editable": false
   },
   "source": [
    "**Question 2.1.** The module `math` also provides the name `e` for the base of the natural logarithm, which is roughly 2.71. Compute $e^{\\pi}-\\pi$, giving it the name `near_twenty`.\n",
    "\n",
    "*Remember: You can access `pi` from the `math` module as well!*\n",
    "\n",
    "<!--\n",
    "BEGIN QUESTION\n",
    "name: q21\n",
    "-->"
   ]
  },
  {
   "cell_type": "code",
   "execution_count": 27,
   "metadata": {},
   "outputs": [],
   "source": [
    "near_twenty = ...\n",
    "near_twenty"
   ]
  },
  {
   "cell_type": "code",
   "execution_count": null,
   "metadata": {
    "deletable": false,
    "editable": false
   },
   "outputs": [],
   "source": [
    "grader.check(\"q21\")"
   ]
  },
  {
   "cell_type": "markdown",
   "metadata": {},
   "source": [
    "![XKCD](http://imgs.xkcd.com/comics/e_to_the_pi_minus_pi.png)\n",
    "\n",
    "[Source](http://imgs.xkcd.com/comics/e_to_the_pi_minus_pi.png)\n",
    "[Explaination](https://www.explainxkcd.com/wiki/index.php/217:_e_to_the_pi_Minus_pi)"
   ]
  },
  {
   "cell_type": "markdown",
   "metadata": {
    "deletable": false,
    "editable": false
   },
   "source": [
    "## 2.1. Accessing functions\n",
    "\n",
    "In the question above, you accessed variables within the `math` module. \n",
    "\n",
    "**Modules** also define **functions**.  For example, `math` provides the name `sin` for the sine function.  Having imported `math` already, we can write `math.sin(3)` to compute the sine of 3.  (Note that this sine function considers its argument to be in [radians](https://en.wikipedia.org/wiki/Radian), not degrees.  180 degrees are equivalent to $\\pi$ radians.)\n",
    "\n",
    "**Question 2.1.1.** A $\\frac{\\pi}{4}$-radian (45-degree) angle forms a right triangle with equal base and height, pictured below.  If the hypotenuse (the radius of the circle in the picture) is 1, then the height is $\\sin(\\frac{\\pi}{4})$.  Compute that value using `sin` and `pi` from the `math` module.  Give the result the name `sine_of_pi_over_four`.\n",
    "\n",
    "<img src=\"http://mathworld.wolfram.com/images/eps-gif/TrigonometryAnglesPi4_1000.gif\">\n",
    "\n",
    "[Source](http://mathworld.wolfram.com/images/eps-gif/TrigonometryAnglesPi4_1000.gif)\n",
    "\n",
    "<!--\n",
    "BEGIN QUESTION\n",
    "name: q211\n",
    "-->"
   ]
  },
  {
   "cell_type": "code",
   "execution_count": 29,
   "metadata": {},
   "outputs": [],
   "source": [
    "sine_of_pi_over_four = ...\n",
    "sine_of_pi_over_four"
   ]
  },
  {
   "cell_type": "code",
   "execution_count": null,
   "metadata": {
    "deletable": false,
    "editable": false
   },
   "outputs": [],
   "source": [
    "grader.check(\"q211\")"
   ]
  },
  {
   "cell_type": "markdown",
   "metadata": {},
   "source": [
    "For your reference, below are some more examples of functions from the `math` module.\n",
    "\n",
    "Notice how different functions take in different numbers of arguments. Often, the [documentation](https://docs.python.org/3/library/math.html) of the module will provide information on how many arguments are required for each function.\n",
    "\n",
    "*Hint: If you press `shift+tab` while next to the function call, the documentation for that function will appear*"
   ]
  },
  {
   "cell_type": "code",
   "execution_count": 31,
   "metadata": {},
   "outputs": [],
   "source": [
    "# Calculating logarithms (the logarithm of 8 in base 2).\n",
    "# The result is 3 because 2 to the power of 3 is 8.\n",
    "math.log(8, 2)"
   ]
  },
  {
   "cell_type": "code",
   "execution_count": 32,
   "metadata": {},
   "outputs": [],
   "source": [
    "# Calculating square roots.\n",
    "math.sqrt(5)"
   ]
  },
  {
   "cell_type": "markdown",
   "metadata": {},
   "source": [
    "There are various ways to import and access code from outside sources. The method we used above — `import <module_name>` — imports the entire module and requires that we use `<module_name>.<name>` to access its code. \n",
    "\n",
    "We can also import a specific constant or function instead of the entire module. Notice that you don't have to use the module name beforehand to reference that particular value. However, you do have to be careful about reassigning the names of the constants or functions to other values!"
   ]
  },
  {
   "cell_type": "code",
   "execution_count": 33,
   "metadata": {},
   "outputs": [],
   "source": [
    "# Importing just cos and pi from math.\n",
    "# We don't have to use `math.` in front of cos or pi\n",
    "from math import cos, pi\n",
    "print(cos(pi))\n",
    "\n",
    "# We do have to use it in front of other functions from math, though\n",
    "math.log(pi)"
   ]
  },
  {
   "cell_type": "markdown",
   "metadata": {},
   "source": [
    "Or we can import every function and value from the entire module."
   ]
  },
  {
   "cell_type": "code",
   "execution_count": 34,
   "metadata": {},
   "outputs": [],
   "source": [
    "# Lastly, we can import everything from math using the *\n",
    "# Once again, we don't have to use 'math.' beforehand \n",
    "from math import *\n",
    "log(pi)"
   ]
  },
  {
   "cell_type": "markdown",
   "metadata": {},
   "source": [
    "Don't worry too much about which type of import to use. It's often a coding style choice left up to each programmer. In this course, you'll always import the necessary modules when you run the setup cell (like the first code cell in this lab).\n",
    "\n",
    "Let's move on to practicing some of the table operations you've learned in lecture!"
   ]
  },
  {
   "cell_type": "markdown",
   "metadata": {},
   "source": [
    "# 3. Table operations\n",
    "\n",
    "The table `farmers_markets.csv` contains data on farmers' markets in the United States  (data collected [by the USDA](https://apps.ams.usda.gov/FarmersMarketsExport/ExcelExport.aspx)).  Each row represents one such market.\n",
    "\n",
    "Run the next cell to load the `farmers_markets` table."
   ]
  },
  {
   "cell_type": "code",
   "execution_count": 35,
   "metadata": {},
   "outputs": [],
   "source": [
    "# Just run this cell\n",
    "\n",
    "farmers_markets = Table.read_table('data/farmers_markets.csv')"
   ]
  },
  {
   "cell_type": "markdown",
   "metadata": {},
   "source": [
    "Let's examine our table to see what data it contains.\n",
    "\n",
    "**Question 3.1.** Use the method `show` to display the first 5 rows of `farmers_markets`. \n",
    "\n",
    "*Note:* The terms \"method\" and \"function\" are technically not the same thing, but for the purposes of this course, we will use them interchangeably.\n",
    "\n",
    "**Hint:** `tbl.show(3)` will show the first 3 rows of `tbl`. Additionally, make sure not to call `.show()` without an argument, as this will crash your kernel!\n"
   ]
  },
  {
   "cell_type": "code",
   "execution_count": 36,
   "metadata": {},
   "outputs": [],
   "source": [
    "..."
   ]
  },
  {
   "cell_type": "markdown",
   "metadata": {
    "deletable": false,
    "editable": false
   },
   "source": [
    "Notice that some of the values in this table are missing, as denoted by \"nan.\" This means either that the value is not available (e.g. if we don’t know the market’s street address) or not applicable (e.g. if the market doesn’t have a street address). You'll also notice that the table has a large number of columns in it!\n",
    "\n",
    "### `num_columns`\n",
    "\n",
    "The table property `num_columns` returns the number of columns in a table. (A \"property\" is just a method that doesn't need to be called by adding parentheses.)\n",
    "\n",
    "Example call: `<tbl>.num_columns`\n",
    "\n",
    "**Question 3.2.** Use `num_columns` to find the number of columns in our farmers' markets dataset.\n",
    "\n",
    "Assign the number of columns to `num_farmers_markets_columns`.\n",
    "\n",
    "<!--\n",
    "BEGIN QUESTION\n",
    "name: q32\n",
    "-->"
   ]
  },
  {
   "cell_type": "code",
   "execution_count": 37,
   "metadata": {},
   "outputs": [],
   "source": [
    "num_farmers_markets_columns = ...\n",
    "print(\"The table has\", num_farmers_markets_columns, \"columns in it!\")"
   ]
  },
  {
   "cell_type": "code",
   "execution_count": null,
   "metadata": {
    "deletable": false,
    "editable": false
   },
   "outputs": [],
   "source": [
    "grader.check(\"q32\")"
   ]
  },
  {
   "cell_type": "markdown",
   "metadata": {},
   "source": [
    "### `num_rows`\n",
    "\n",
    "Similarly, the property `num_rows` tells you how many rows are in a table."
   ]
  },
  {
   "cell_type": "code",
   "execution_count": 39,
   "metadata": {},
   "outputs": [],
   "source": [
    "# Just run this cell\n",
    "\n",
    "num_farmers_markets_rows = farmers_markets.num_rows\n",
    "print(\"The table has\", num_farmers_markets_rows, \"rows in it!\")"
   ]
  },
  {
   "cell_type": "markdown",
   "metadata": {
    "deletable": false,
    "editable": false
   },
   "source": [
    "### `select`\n",
    "\n",
    "Most of the columns are about particular products -- whether the market sells tofu, pet food, etc.  If we're not interested in that information, it just makes the table difficult to read.  This comes up more than you might think, because people who collect and publish data may not know ahead of time what people will want to do with it.\n",
    "\n",
    "In such situations, we can use the table method `select` to choose only the columns that we want in a particular table. It takes any number of arguments. Each should be the name of a column in the table. It returns a new table with only those columns in it. The columns are in the order *in which they were listed as arguments*.\n",
    "\n",
    "For example, the value of `farmers_markets.select(\"MarketName\", \"State\")` is a table with only the name and the state of each farmers' market in `farmers_markets`.\n",
    "\n",
    "\n",
    "\n",
    "**Question 3.3.** Use `select` to create a table with only the name, city, state, latitude (`y`), and longitude (`x`) of each market.  Call that new table `farmers_markets_locations`.\n",
    "\n",
    "*Hint:* Make sure to be exact when using column names with `select`; double-check capitalization!\n",
    "\n",
    "<!--\n",
    "BEGIN QUESTION\n",
    "name: q33\n",
    "-->"
   ]
  },
  {
   "cell_type": "code",
   "execution_count": 40,
   "metadata": {},
   "outputs": [],
   "source": [
    "farmers_markets_locations = ...\n",
    "farmers_markets_locations"
   ]
  },
  {
   "cell_type": "code",
   "execution_count": null,
   "metadata": {
    "deletable": false,
    "editable": false
   },
   "outputs": [],
   "source": [
    "grader.check(\"q33\")"
   ]
  },
  {
   "cell_type": "markdown",
   "metadata": {
    "deletable": false,
    "editable": false
   },
   "source": [
    "### `drop`\n",
    "\n",
    "`drop` serves the same purpose as `select`, but it takes away the columns that you provide rather than the ones that you don't provide. Like `select`, `drop` returns a new table.\n",
    "\n",
    "**Question 3.4.** Suppose you just didn't want the `FMID` and `updateTime` columns in `farmers_markets`.  Create a table that's a copy of `farmers_markets` but doesn't include those columns.  Call that table `farmers_markets_without_fmid`.\n",
    "\n",
    "<!--\n",
    "BEGIN QUESTION\n",
    "name: q34\n",
    "-->"
   ]
  },
  {
   "cell_type": "code",
   "execution_count": 43,
   "metadata": {},
   "outputs": [],
   "source": [
    "farmers_markets_without_fmid = ...\n",
    "farmers_markets_without_fmid"
   ]
  },
  {
   "cell_type": "code",
   "execution_count": null,
   "metadata": {
    "deletable": false,
    "editable": false
   },
   "outputs": [],
   "source": [
    "grader.check(\"q34\")"
   ]
  },
  {
   "cell_type": "markdown",
   "metadata": {},
   "source": [
    "Now, suppose we want to answer some questions about farmers' markets in the US. For example, which market(s) have the largest longitude (given by the `x` column)? \n",
    "\n",
    "To answer this, we'll sort `farmers_markets_locations` by longitude."
   ]
  },
  {
   "cell_type": "code",
   "execution_count": 46,
   "metadata": {},
   "outputs": [],
   "source": [
    "farmers_markets_locations.sort('x')"
   ]
  },
  {
   "cell_type": "markdown",
   "metadata": {},
   "source": [
    "Oops, that didn't answer our question because we sorted from smallest to largest longitude. To look at the largest longitudes, we'll have to sort in reverse order."
   ]
  },
  {
   "cell_type": "code",
   "execution_count": 47,
   "metadata": {},
   "outputs": [],
   "source": [
    "farmers_markets_locations.sort('x', descending=True)"
   ]
  },
  {
   "cell_type": "markdown",
   "metadata": {
    "deletable": false,
    "editable": false
   },
   "source": [
    "(The `descending=True` bit is called an *optional argument*. It has a default value of `False`, so when you explicitly tell the function `descending=True`, then the function will sort in descending order.)\n",
    "\n",
    "### `sort`\n",
    "\n",
    "Some details about sort:\n",
    "\n",
    "1. The first argument to `sort` is the name of a column to sort by.\n",
    "2. If the column has text in it, `sort` will sort alphabetically; if the column has numbers, it will sort numerically.\n",
    "3. The value of `farmers_markets_locations.sort(\"x\")` is a *copy* of `farmers_markets_locations`; the `farmers_markets_locations` table doesn't get modified. For example, if we called `farmers_markets_locations.sort(\"x\")`, then running `farmers_markets_locations` by itself would still return the unsorted table.\n",
    "4. Rows always stick together when a table is sorted.  It wouldn't make sense to sort just one column and leave the other columns alone.  For example, in this case, if we sorted just the `x` column, the farmers' markets would all end up with the wrong longitudes.\n",
    "\n",
    "**Question 3.5.** Create a version of `farmers_markets_locations` that's sorted by **latitude (`y`)**, with the largest latitudes first.  Call it `farmers_markets_locations_by_latitude`.\n",
    "\n",
    "<!--\n",
    "BEGIN QUESTION\n",
    "name: q35\n",
    "-->"
   ]
  },
  {
   "cell_type": "code",
   "execution_count": 48,
   "metadata": {
    "scrolled": true
   },
   "outputs": [],
   "source": [
    "farmers_markets_locations_by_latitude = ...\n",
    "farmers_markets_locations_by_latitude"
   ]
  },
  {
   "cell_type": "code",
   "execution_count": null,
   "metadata": {
    "deletable": false,
    "editable": false
   },
   "outputs": [],
   "source": [
    "grader.check(\"q35\")"
   ]
  },
  {
   "cell_type": "markdown",
   "metadata": {},
   "source": [
    "Now let's say we want a table of all farmers' markets in California. Sorting won't help us much here because California  is closer to the middle of the dataset.\n",
    "\n",
    "Instead, we use the table method `where`."
   ]
  },
  {
   "cell_type": "code",
   "execution_count": 51,
   "metadata": {},
   "outputs": [],
   "source": [
    "california_farmers_markets = farmers_markets_locations.where('State', are.equal_to('California'))\n",
    "california_farmers_markets.show()"
   ]
  },
  {
   "cell_type": "markdown",
   "metadata": {},
   "source": [
    "Ignore the syntax for the moment.  Instead, try to read that line like this:\n",
    "\n",
    "> Assign the name **`california_farmers_markets`** to a table whose rows are the rows in the **`farmers_markets_locations`** table **`where`** the **`'State'`**s **`are` `equal` `to` `California`**."
   ]
  },
  {
   "cell_type": "markdown",
   "metadata": {},
   "source": [
    "### `where`\n",
    "\n",
    "Now let's dive into the details a bit more.  `where` takes 2 arguments:\n",
    "\n",
    "1. The name of a column.  `where` finds rows where that column's values meet some criterion.\n",
    "2. A predicate that describes the criterion that the column needs to meet.\n",
    "\n",
    "The predicate in the example above called the function `are.equal_to` with the value we wanted, 'California'.  We'll see other predicates soon.\n",
    "\n",
    "`where` returns a table that's a copy of the original table, but **with only the rows that meet the given predicate**."
   ]
  },
  {
   "cell_type": "markdown",
   "metadata": {
    "deletable": false,
    "editable": false
   },
   "source": [
    "**Question 3.6.** Use `california_farmers_markets` to create a table called `goleta_markets` containing farmers' markets in Goleta, California.\n",
    "<!--\n",
    "BEGIN QUESTION\n",
    "name: q36\n",
    "-->"
   ]
  },
  {
   "cell_type": "code",
   "execution_count": 52,
   "metadata": {},
   "outputs": [],
   "source": [
    "goleta_markets = ...\n",
    "goleta_markets"
   ]
  },
  {
   "cell_type": "code",
   "execution_count": null,
   "metadata": {
    "deletable": false,
    "editable": false
   },
   "outputs": [],
   "source": [
    "grader.check(\"q36\")"
   ]
  },
  {
   "cell_type": "markdown",
   "metadata": {},
   "source": [
    "Recognize any of them?"
   ]
  },
  {
   "cell_type": "markdown",
   "metadata": {},
   "source": [
    "So far we've only been using `where` with the predicate that requires finding the values in a column to be *exactly* equal to a certain value. However, there are many other predicates. Here are a few:\n",
    "\n",
    "|Predicate|Example|Result|\n",
    "|-|-|-|\n",
    "|`are.equal_to`|`are.equal_to(50)`|Find rows with values equal to 50|\n",
    "|`are.not_equal_to`|`are.not_equal_to(50)`|Find rows with values not equal to 50|\n",
    "|`are.above`|`are.above(50)`|Find rows with values above (and not equal to) 50|\n",
    "|`are.above_or_equal_to`|`are.above_or_equal_to(50)`|Find rows with values above 50 or equal to 50|\n",
    "|`are.below`|`are.below(50)`|Find rows with values below 50|\n",
    "|`are.between`|`are.between(2, 10)`|Find rows with values above or equal to 2 and below 10|"
   ]
  },
  {
   "cell_type": "markdown",
   "metadata": {},
   "source": [
    "# 4. Analyzing a dataset\n",
    "\n",
    "Now that you're familiar with table operations, let’s answer an interesting question about a dataset!\n",
    "\n",
    "Run the cell below to load the `imdb` table. It contains information about the 250 highest-rated movies on IMDb."
   ]
  },
  {
   "cell_type": "code",
   "execution_count": 55,
   "metadata": {
    "scrolled": true
   },
   "outputs": [],
   "source": [
    "# Just run this cell\n",
    "\n",
    "imdb = Table.read_table('data/imdb.csv')\n",
    "imdb"
   ]
  },
  {
   "cell_type": "markdown",
   "metadata": {},
   "source": [
    "Often, we want to perform multiple operations - sorting, filtering, or others - in order to turn a table we have into something more useful. You can do these operations one by one, e.g.\n",
    "\n",
    "```\n",
    "first_step = original_tbl.where(“col1”, are.equal_to(12))\n",
    "second_step = first_step.sort(‘col2’, descending=True)\n",
    "```\n",
    "\n",
    "However, since the value of the expression `original_tbl.where(“col1”, are.equal_to(12))` is itself a table, you can just call a table method on it:\n",
    "\n",
    "```\n",
    "original_tbl.where(“col1”, are.equal_to(12)).sort(‘col2’, descending=True)\n",
    "```\n",
    "You should organize your work in the way that makes the most sense to you, using informative names for any intermediate tables you create. "
   ]
  },
  {
   "cell_type": "markdown",
   "metadata": {
    "deletable": false,
    "editable": false
   },
   "source": [
    "**Question 4.1.** Create a table of movies released between 2010 and 2016 (inclusive) with ratings above 8. The table should only contain the columns `Title` and `Rating`, **in that order**.\n",
    "\n",
    "Assign the table to the name `above_eight`.\n",
    "\n",
    "*Hint:* Think about the steps you need to take, and try to put them in an order that make sense. Feel free to create intermediate tables for each step, but please make sure you assign your final table the name `above_eight`!\n",
    "\n",
    "<!--\n",
    "BEGIN QUESTION\n",
    "name: q41\n",
    "-->"
   ]
  },
  {
   "cell_type": "code",
   "execution_count": 56,
   "metadata": {},
   "outputs": [],
   "source": [
    "above_eight = ...\n",
    "above_eight"
   ]
  },
  {
   "cell_type": "code",
   "execution_count": null,
   "metadata": {
    "deletable": false,
    "editable": false
   },
   "outputs": [],
   "source": [
    "grader.check(\"q41\")"
   ]
  },
  {
   "cell_type": "markdown",
   "metadata": {
    "deletable": false,
    "editable": false
   },
   "source": [
    "**Question 4.2.** Use `num_rows` (and arithmetic) to find the *proportion* of movies in the dataset that were released 1900-1999, and the *proportion* of movies in the dataset that were released in the year 2000 or later.\n",
    "\n",
    "Assign `proportion_in_20th_century` to the proportion of movies in the dataset that were released 1900-1999, and `proportion_in_21st_century` to the proportion of movies in the dataset that were released in the year 2000 or later.\n",
    "\n",
    "*Hint:* The *proportion* of movies released in the 1900's is the *number* of movies released in the 1900's, divided by the *total number* of movies.\n",
    "\n",
    "<!--\n",
    "BEGIN QUESTION\n",
    "name: q42\n",
    "-->"
   ]
  },
  {
   "cell_type": "code",
   "execution_count": 60,
   "metadata": {},
   "outputs": [],
   "source": [
    "num_movies_in_dataset = ...\n",
    "num_in_20th_century = ...\n",
    "num_in_21st_century = ...\n",
    "proportion_in_20th_century = ...\n",
    "proportion_in_21st_century = ...\n",
    "print(\"Proportion in 20th century:\", proportion_in_20th_century)\n",
    "print(\"Proportion in 21st century:\", proportion_in_21st_century)"
   ]
  },
  {
   "cell_type": "code",
   "execution_count": null,
   "metadata": {
    "deletable": false,
    "editable": false
   },
   "outputs": [],
   "source": [
    "grader.check(\"q42\")"
   ]
  },
  {
   "cell_type": "markdown",
   "metadata": {},
   "source": [
    "# 5. Summary\n",
    "\n",
    "For your reference, here's a table of all the functions and methods we saw in this lab. We'll learn more methods to add to this table in the coming week!\n",
    "\n",
    "|Name|Example|Purpose|\n",
    "|-|-|-|\n",
    "|`sort`|`tbl.sort(\"N\")`|Create a copy of a table sorted by the values in a column|\n",
    "|`where`|`tbl.where(\"N\", are.above(2))`|Create a copy of a table with only the rows that match some *predicate*|\n",
    "|`num_rows`|`tbl.num_rows`|Compute the number of rows in a table|\n",
    "|`num_columns`|`tbl.num_columns`|Compute the number of columns in a table|\n",
    "|`select`|`tbl.select(\"N\")`|Create a copy of a table with only some of the columns|\n",
    "|`drop`|`tbl.drop(\"2*N\")`|Create a copy of a table without some of the columns|\n",
    "\n",
    "<br/>\n",
    "\n"
   ]
  },
  {
   "cell_type": "markdown",
   "metadata": {},
   "source": [
    "# 6. Submit your work\n",
    "\n",
    "Before you submit your work, \n",
    "* Make sure you **save the notebook** first, \n",
    "* Then go up to the `Kernel` menu and select `Restart & Clear Output` (make sure the notebook is saved first, because otherwise, you will lose all your work!). \n",
    "* Now, go to `Cell -> Run All`. Carefully look through your notebook and verify that all computations execute correctly. You should see **no errors**; if there are any errors, make sure to correct them before you submit the notebook.\n",
    "* Then, go to `File -> Download as -> Notebook` and download the notebook to your own computer. ([Please verify](https://ucsb-ds.github.io/ds1-f20/troubleshooting/#i-downloaded-the-notebook-file-but-it-saves-as-the-ipynbjson-extension-so-whenever-i-upload-it-to-gradescope-it-fails) that it got saved as an `.ipynb` file.)\n",
    "* Upload the notebook to [Gradescope](https://www.gradescope.com/).\n",
    "\n",
    "Congratulations! You are done!"
   ]
  },
  {
   "cell_type": "markdown",
   "metadata": {
    "deletable": false,
    "editable": false
   },
   "source": [
    "---\n",
    "\n",
    "To double-check your work, the cell below will rerun all of the autograder tests."
   ]
  },
  {
   "cell_type": "code",
   "execution_count": null,
   "metadata": {
    "deletable": false,
    "editable": false
   },
   "outputs": [],
   "source": [
    "grader.check_all()"
   ]
  }
 ],
 "metadata": {
  "celltoolbar": "Edit Metadata",
  "history": [
   {
    "code": "# Just run this cell\n\nimport numpy as np\nfrom datascience import *\n\n\n# These lines load the tests.\n# When you log-in please hit return (not shift + return) after typing in your email\n",
    "id": "38b63798e7304efb8cd8b1a7a52bcddb",
    "idx": 2,
    "time": "2021-02-16T04:53:03.752Z",
    "type": "execution"
   },
   {
    "id": "38b63798e7304efb8cd8b1a7a52bcddb",
    "time": "2021-02-16T04:53:09.673Z",
    "type": "completion"
   },
   {
    "code": "near_twenty = radius**2 * math.pi # SOLUTION\nnear_twenty",
    "id": "14c3280f0b54464c85242ba22e7381f1",
    "idx": 12,
    "time": "2021-02-16T08:11:29.080Z",
    "type": "execution"
   },
   {
    "id": "14c3280f0b54464c85242ba22e7381f1",
    "time": "2021-02-16T08:11:29.250Z",
    "type": "completion"
   },
   {
    "code": "# Just run this cell\n\nimport numpy as np\nfrom datascience import *\n\n\n# These lines load the tests.\n# When you log-in please hit return (not shift + return) after typing in your email\n",
    "id": "9104c45c29614eb686d57e49e14e386c",
    "idx": 2,
    "time": "2021-02-16T08:11:36.571Z",
    "type": "execution"
   },
   {
    "code": "new_year = 2020 # SOLUTION\nnew_year",
    "id": "6b6244eb0cb14ef88c50c8077c4a1025",
    "idx": 5,
    "time": "2021-02-16T08:11:36.574Z",
    "type": "execution"
   },
   {
    "code": "#HIDDEN TEST\nnew_year == 2020",
    "id": "cd56254d288b462ba94fb43c0ebc1359",
    "idx": 6,
    "time": "2021-02-16T08:11:36.576Z",
    "type": "execution"
   },
   {
    "code": "import math\nradius = 5\narea_of_circle = radius**2 * math.pi\narea_of_circle",
    "id": "c4b687e408d5479abdc414b6c633c026",
    "idx": 9,
    "time": "2021-02-16T08:11:36.579Z",
    "type": "execution"
   },
   {
    "id": "9104c45c29614eb686d57e49e14e386c",
    "time": "2021-02-16T08:11:38.880Z",
    "type": "completion"
   },
   {
    "id": "6b6244eb0cb14ef88c50c8077c4a1025",
    "time": "2021-02-16T08:11:38.885Z",
    "type": "completion"
   },
   {
    "id": "cd56254d288b462ba94fb43c0ebc1359",
    "time": "2021-02-16T08:11:38.922Z",
    "type": "completion"
   },
   {
    "id": "c4b687e408d5479abdc414b6c633c026",
    "time": "2021-02-16T08:11:38.924Z",
    "type": "completion"
   },
   {
    "code": "near_twenty = radius**2 * math.pi # SOLUTION\nnear_twenty",
    "id": "14c3280f0b54464c85242ba22e7381f1",
    "idx": 12,
    "time": "2021-02-16T08:11:41.398Z",
    "type": "execution"
   },
   {
    "id": "14c3280f0b54464c85242ba22e7381f1",
    "time": "2021-02-16T08:11:41.473Z",
    "type": "completion"
   },
   {
    "code": "# TEST\nround(near_twenty, 8)",
    "id": "a458fc90b75d459785aaf63c1b17a80b",
    "idx": 13,
    "time": "2021-02-16T08:12:21.539Z",
    "type": "execution"
   },
   {
    "id": "a458fc90b75d459785aaf63c1b17a80b",
    "time": "2021-02-16T08:12:21.600Z",
    "type": "completion"
   },
   {
    "code": "near_twenty = math.e ** math.pi - math.pi # SOLUTION\nnear_twenty",
    "id": "14c3280f0b54464c85242ba22e7381f1",
    "idx": 12,
    "time": "2021-02-16T08:13:23.657Z",
    "type": "execution"
   },
   {
    "id": "14c3280f0b54464c85242ba22e7381f1",
    "time": "2021-02-16T08:13:23.739Z",
    "type": "completion"
   },
   {
    "code": "# TEST\nround(near_twenty, 8)",
    "id": "a458fc90b75d459785aaf63c1b17a80b",
    "idx": 13,
    "time": "2021-02-16T08:13:30.429Z",
    "type": "execution"
   },
   {
    "id": "a458fc90b75d459785aaf63c1b17a80b",
    "time": "2021-02-16T08:13:30.497Z",
    "type": "completion"
   },
   {
    "code": "sine_of_pi_over_four = math.sin(math.pi / 4) # SOLUTION\nsine_of_pi_over_four",
    "id": "309cf9facf204c5fbca06e9109147fe8",
    "idx": 16,
    "time": "2021-02-16T08:14:40.418Z",
    "type": "execution"
   },
   {
    "id": "309cf9facf204c5fbca06e9109147fe8",
    "time": "2021-02-16T08:14:40.489Z",
    "type": "completion"
   },
   {
    "code": "# TEST\n# Hint: You can write the sine of 1.5*pi as:\n#   math.sin(1.5 * math.pi)\nimport math\nround(sine_of_pi_over_four, 8)",
    "id": "534b367c21944f3488de2187b6fa31d5",
    "idx": 17,
    "time": "2021-02-16T08:15:39.172Z",
    "type": "execution"
   },
   {
    "id": "534b367c21944f3488de2187b6fa31d5",
    "time": "2021-02-16T08:15:39.240Z",
    "type": "completion"
   },
   {
    "code": "# Calculating logarithms (the logarithm of 8 in base 2).\n# The result is 3 because 2 to the power of 3 is 8.\nmath.log(8, 2)",
    "id": "7c67ab3427ba49888e871707bac58449",
    "idx": 19,
    "time": "2021-02-16T08:16:01.798Z",
    "type": "execution"
   },
   {
    "id": "7c67ab3427ba49888e871707bac58449",
    "time": "2021-02-16T08:16:01.874Z",
    "type": "completion"
   },
   {
    "code": "# Calculating square roots.\nmath.sqrt(5)",
    "id": "8e618a8ace414fa38f6f2c3aaf4711cc",
    "idx": 20,
    "time": "2021-02-16T08:16:04.705Z",
    "type": "execution"
   },
   {
    "id": "8e618a8ace414fa38f6f2c3aaf4711cc",
    "time": "2021-02-16T08:16:04.790Z",
    "type": "completion"
   },
   {
    "code": "# Importing just cos and pi from math.\n# We don't have to use `math.` in front of cos or pi\nfrom math import cos, pi\nprint(cos(pi))\n\n# We do have to use it in front of other functions from math, though\nmath.log(pi)",
    "id": "2aac6edd752f464a8577596dc7b10c1b",
    "idx": 22,
    "time": "2021-02-16T08:16:10.269Z",
    "type": "execution"
   },
   {
    "id": "2aac6edd752f464a8577596dc7b10c1b",
    "time": "2021-02-16T08:16:10.357Z",
    "type": "completion"
   },
   {
    "code": "# Lastly, we can import everything from math using the *\n# Once again, we don't have to use 'math.' beforehand \nfrom math import *\nlog(pi)",
    "id": "161f5c794d4847f2898fd15871db4b2d",
    "idx": 24,
    "time": "2021-02-16T08:16:11.168Z",
    "type": "execution"
   },
   {
    "id": "161f5c794d4847f2898fd15871db4b2d",
    "time": "2021-02-16T08:16:11.232Z",
    "type": "completion"
   },
   {
    "code": "# Just run this cell\n\nfarmers_markets = Table.read_table('farmers_markets.csv')",
    "id": "d71d39971a3b4765834a26779cba57d3",
    "idx": 27,
    "time": "2021-02-16T08:16:16.949Z",
    "type": "execution"
   },
   {
    "id": "d71d39971a3b4765834a26779cba57d3",
    "time": "2021-02-16T08:16:17.584Z",
    "type": "completion"
   },
   {
    "code": "num_farmers_markets_columns = farmers_markets.num_columns # SOLUTION\nprint(\"The table has\", num_farmers_markets_columns, \"columns in it!\")",
    "id": "f1d8353ea3fe4174a10df0c70119b860",
    "idx": 31,
    "time": "2021-02-16T08:21:57.979Z",
    "type": "execution"
   },
   {
    "id": "f1d8353ea3fe4174a10df0c70119b860",
    "time": "2021-02-16T08:21:58.069Z",
    "type": "completion"
   },
   {
    "code": "# HIDDEN TEST\nnum_farmers_markets_columns == 59",
    "id": "c576cbb902764c24aa4f0beb55a685b8",
    "idx": 32,
    "time": "2021-02-16T08:22:37.649Z",
    "type": "execution"
   },
   {
    "id": "c576cbb902764c24aa4f0beb55a685b8",
    "time": "2021-02-16T08:22:37.736Z",
    "type": "completion"
   },
   {
    "code": "# Just run this cell\n\nnum_farmers_markets_rows = farmers_markets.num_rows\nprint(\"The table has\", num_farmers_markets_rows, \"rows in it!\")",
    "id": "d78045d1705748b388e0738c7b903124",
    "idx": 34,
    "time": "2021-02-16T08:22:44.968Z",
    "type": "execution"
   },
   {
    "id": "d78045d1705748b388e0738c7b903124",
    "time": "2021-02-16T08:22:45.045Z",
    "type": "completion"
   },
   {
    "code": "farmers_markets_locations = farmers_markets.select(\"city\", \"State\", \"y\", \"MarketName\", \"x\") # SOLUTION\nfarmers_markets_locations",
    "id": "c661c0d5ebac486b88bac48a85d7193c",
    "idx": 36,
    "time": "2021-02-16T08:24:34.269Z",
    "type": "execution"
   },
   {
    "id": "c661c0d5ebac486b88bac48a85d7193c",
    "time": "2021-02-16T08:24:34.383Z",
    "type": "completion"
   },
   {
    "code": "# TEST\nsorted(farmers_markets_locations.labels)",
    "id": "90060034698440a484cc2a1c89d0a4f2",
    "idx": 37,
    "time": "2021-02-16T08:25:36.293Z",
    "type": "execution"
   },
   {
    "id": "90060034698440a484cc2a1c89d0a4f2",
    "time": "2021-02-16T08:25:36.392Z",
    "type": "completion"
   },
   {
    "code": "# HIDDEN TEST\nsorted(farmers_markets_locations.labels) == ['MarketName', 'State', 'city', 'x', 'y']",
    "id": "90060034698440a484cc2a1c89d0a4f2",
    "idx": 37,
    "time": "2021-02-16T08:26:04.025Z",
    "type": "execution"
   },
   {
    "id": "90060034698440a484cc2a1c89d0a4f2",
    "time": "2021-02-16T08:26:04.097Z",
    "type": "completion"
   },
   {
    "code": "# TEST\nfarmers_markets_locations.num_rows == 8546",
    "id": "6915a30f7e704a7b8af96316833f29ca",
    "idx": 38,
    "time": "2021-02-16T08:26:30.404Z",
    "type": "execution"
   },
   {
    "id": "6915a30f7e704a7b8af96316833f29ca",
    "time": "2021-02-16T08:26:30.478Z",
    "type": "completion"
   },
   {
    "code": "# TEST\nsorted(farmers_markets_locations.labels) == ['MarketName', 'State', 'city', 'x', 'y']",
    "id": "90060034698440a484cc2a1c89d0a4f2",
    "idx": 37,
    "time": "2021-02-16T08:26:36.934Z",
    "type": "execution"
   },
   {
    "id": "90060034698440a484cc2a1c89d0a4f2",
    "time": "2021-02-16T08:26:37.004Z",
    "type": "completion"
   },
   {
    "code": "# TEST\nfarmers_markets_locations.num_rows == 8546",
    "id": "6915a30f7e704a7b8af96316833f29ca",
    "idx": 38,
    "time": "2021-02-16T08:26:37.511Z",
    "type": "execution"
   },
   {
    "id": "6915a30f7e704a7b8af96316833f29ca",
    "time": "2021-02-16T08:26:37.599Z",
    "type": "completion"
   },
   {
    "code": "# HIDDEN TEST\nsorted(farmers_markets_locations.labels) == ['MarketName', 'State', 'city', 'x', 'y']",
    "id": "90060034698440a484cc2a1c89d0a4f2",
    "idx": 37,
    "time": "2021-02-16T08:26:50.086Z",
    "type": "execution"
   },
   {
    "id": "90060034698440a484cc2a1c89d0a4f2",
    "time": "2021-02-16T08:26:50.156Z",
    "type": "completion"
   },
   {
    "code": "# TEST\nfarmers_markets_locations.num_rows == 8546",
    "id": "6915a30f7e704a7b8af96316833f29ca",
    "idx": 38,
    "time": "2021-02-16T08:26:52.154Z",
    "type": "execution"
   },
   {
    "id": "6915a30f7e704a7b8af96316833f29ca",
    "time": "2021-02-16T08:26:52.227Z",
    "type": "completion"
   },
   {
    "code": "farmers_markets_without_fmid = farmers_markets.drop(\"FMID\", \"updateTime\") # SOLUTION\nfarmers_markets_without_fmid",
    "id": "88e101833a3a43f281c8fbe4e5edc41d",
    "idx": 40,
    "time": "2021-02-16T08:28:08.077Z",
    "type": "execution"
   },
   {
    "id": "88e101833a3a43f281c8fbe4e5edc41d",
    "time": "2021-02-16T08:28:10.051Z",
    "type": "completion"
   },
   {
    "code": "# TEST\nfarmers_markets_without_fmid.num_columns",
    "id": "0107ee9d3b6d42b795d6cfe3f4ec045d",
    "idx": 41,
    "time": "2021-02-16T08:29:01.460Z",
    "type": "execution"
   },
   {
    "id": "0107ee9d3b6d42b795d6cfe3f4ec045d",
    "time": "2021-02-16T08:29:01.527Z",
    "type": "completion"
   },
   {
    "code": "# TEST\nfarmers_markets_without_fmid.num_columns == 57",
    "id": "0107ee9d3b6d42b795d6cfe3f4ec045d",
    "idx": 41,
    "time": "2021-02-16T08:29:06.489Z",
    "type": "execution"
   },
   {
    "id": "0107ee9d3b6d42b795d6cfe3f4ec045d",
    "time": "2021-02-16T08:29:06.573Z",
    "type": "completion"
   },
   {
    "code": "# TEST\nprint(sorted(farmers_markets_without_fmid.labels))",
    "id": "a1399913244f44e6a9e7801dd9b67ba7",
    "idx": 42,
    "time": "2021-02-16T08:30:09.349Z",
    "type": "execution"
   },
   {
    "id": "a1399913244f44e6a9e7801dd9b67ba7",
    "time": "2021-02-16T08:30:09.437Z",
    "type": "completion"
   },
   {
    "code": "farmers_markets_locations.sort('x')",
    "id": "4d95bd7f16da4005ba887722861a39dd",
    "idx": 44,
    "time": "2021-02-16T08:30:20.125Z",
    "type": "execution"
   },
   {
    "id": "4d95bd7f16da4005ba887722861a39dd",
    "time": "2021-02-16T08:30:20.238Z",
    "type": "completion"
   },
   {
    "code": "farmers_markets_locations.sort('x', descending=True)",
    "id": "4bb9cd749f8a45b49221d5adc37ee3f6",
    "idx": 46,
    "time": "2021-02-16T08:30:24.250Z",
    "type": "execution"
   },
   {
    "id": "4bb9cd749f8a45b49221d5adc37ee3f6",
    "time": "2021-02-16T08:30:24.336Z",
    "type": "completion"
   },
   {
    "code": "farmers_markets_locations_by_latitude = farmers_markets_locations.sort('y', descending = True) # SOLUTION\nfarmers_markets_locations_by_latitude",
    "id": "c97efa93abf4478aaed3a0c0af8f3446",
    "idx": 48,
    "time": "2021-02-16T08:31:49.614Z",
    "type": "execution"
   },
   {
    "id": "c97efa93abf4478aaed3a0c0af8f3446",
    "time": "2021-02-16T08:31:49.718Z",
    "type": "completion"
   },
   {
    "code": "# TEST\ntype(farmers_markets_locations_by_latitude) == tables.Table",
    "id": "c79101f0a71a42d8a252e4da2cb8f841",
    "idx": 49,
    "time": "2021-02-16T08:32:26.295Z",
    "type": "execution"
   },
   {
    "id": "c79101f0a71a42d8a252e4da2cb8f841",
    "time": "2021-02-16T08:32:26.360Z",
    "type": "completion"
   },
   {
    "code": "# TEST\nlist(farmers_markets_locations_by_latitude.column('y').take(range(3)))",
    "id": "ecdc073691ad4db783cf43f2ed31c132",
    "idx": 50,
    "time": "2021-02-16T08:32:42.926Z",
    "type": "execution"
   },
   {
    "id": "ecdc073691ad4db783cf43f2ed31c132",
    "time": "2021-02-16T08:32:43.860Z",
    "type": "completion"
   },
   {
    "code": "# HIDDEN TEST\nsorted(farmers_markets_locations.labels)",
    "id": "90060034698440a484cc2a1c89d0a4f2",
    "idx": 37,
    "time": "2021-02-16T08:33:17.072Z",
    "type": "execution"
   },
   {
    "id": "90060034698440a484cc2a1c89d0a4f2",
    "time": "2021-02-16T08:33:17.280Z",
    "type": "completion"
   },
   {
    "code": "berkeley_markets = california_farmers_markets.where('city', are.equal_to(\"Berkeley\")) # SOLUTION\nberkeley_markets",
    "id": "ed886e4d66b048178c9e9840557fdf4b",
    "idx": 56,
    "time": "2021-02-16T08:34:30.821Z",
    "type": "execution"
   },
   {
    "id": "ed886e4d66b048178c9e9840557fdf4b",
    "time": "2021-02-16T08:34:31.045Z",
    "type": "completion"
   },
   {
    "code": "# Just run this cell\n\nimport numpy as np\nfrom datascience import *\n\n\n# These lines load the tests.\n# When you log-in please hit return (not shift + return) after typing in your email\n",
    "id": "9104c45c29614eb686d57e49e14e386c",
    "idx": 2,
    "time": "2021-02-16T08:34:37.329Z",
    "type": "execution"
   },
   {
    "code": "new_year = 2020 # SOLUTION\nnew_year",
    "id": "6b6244eb0cb14ef88c50c8077c4a1025",
    "idx": 5,
    "time": "2021-02-16T08:34:37.332Z",
    "type": "execution"
   },
   {
    "code": "#HIDDEN TEST\nnew_year == 2020",
    "id": "cd56254d288b462ba94fb43c0ebc1359",
    "idx": 6,
    "time": "2021-02-16T08:34:37.333Z",
    "type": "execution"
   },
   {
    "code": "import math\nradius = 5\narea_of_circle = radius**2 * math.pi\narea_of_circle",
    "id": "c4b687e408d5479abdc414b6c633c026",
    "idx": 9,
    "time": "2021-02-16T08:34:37.335Z",
    "type": "execution"
   },
   {
    "code": "near_twenty = math.e ** math.pi - math.pi # SOLUTION\nnear_twenty",
    "id": "14c3280f0b54464c85242ba22e7381f1",
    "idx": 12,
    "time": "2021-02-16T08:34:37.337Z",
    "type": "execution"
   },
   {
    "code": "# TEST\nround(near_twenty, 8)",
    "id": "a458fc90b75d459785aaf63c1b17a80b",
    "idx": 13,
    "time": "2021-02-16T08:34:37.339Z",
    "type": "execution"
   },
   {
    "code": "sine_of_pi_over_four = math.sin(math.pi / 4) # SOLUTION\nsine_of_pi_over_four",
    "id": "309cf9facf204c5fbca06e9109147fe8",
    "idx": 16,
    "time": "2021-02-16T08:34:37.364Z",
    "type": "execution"
   },
   {
    "code": "# TEST\n# Hint: You can write the sine of 1.5*pi as:\n#   math.sin(1.5 * math.pi)\nimport math\nround(sine_of_pi_over_four, 8)",
    "id": "534b367c21944f3488de2187b6fa31d5",
    "idx": 17,
    "time": "2021-02-16T08:34:37.366Z",
    "type": "execution"
   },
   {
    "code": "# Calculating logarithms (the logarithm of 8 in base 2).\n# The result is 3 because 2 to the power of 3 is 8.\nmath.log(8, 2)",
    "id": "7c67ab3427ba49888e871707bac58449",
    "idx": 19,
    "time": "2021-02-16T08:34:37.368Z",
    "type": "execution"
   },
   {
    "code": "# Calculating square roots.\nmath.sqrt(5)",
    "id": "8e618a8ace414fa38f6f2c3aaf4711cc",
    "idx": 20,
    "time": "2021-02-16T08:34:37.369Z",
    "type": "execution"
   },
   {
    "code": "# Importing just cos and pi from math.\n# We don't have to use `math.` in front of cos or pi\nfrom math import cos, pi\nprint(cos(pi))\n\n# We do have to use it in front of other functions from math, though\nmath.log(pi)",
    "id": "2aac6edd752f464a8577596dc7b10c1b",
    "idx": 22,
    "time": "2021-02-16T08:34:37.371Z",
    "type": "execution"
   },
   {
    "code": "# Lastly, we can import everything from math using the *\n# Once again, we don't have to use 'math.' beforehand \nfrom math import *\nlog(pi)",
    "id": "161f5c794d4847f2898fd15871db4b2d",
    "idx": 24,
    "time": "2021-02-16T08:34:37.372Z",
    "type": "execution"
   },
   {
    "code": "# Just run this cell\n\nfarmers_markets = Table.read_table('farmers_markets.csv')",
    "id": "d71d39971a3b4765834a26779cba57d3",
    "idx": 27,
    "time": "2021-02-16T08:34:37.374Z",
    "type": "execution"
   },
   {
    "code": "farmers_markets.show(5) # SOLUTION",
    "id": "221a7797806447ff84de2dd296fa365b",
    "idx": 29,
    "time": "2021-02-16T08:34:37.378Z",
    "type": "execution"
   },
   {
    "code": "num_farmers_markets_columns = farmers_markets.num_columns # SOLUTION\nprint(\"The table has\", num_farmers_markets_columns, \"columns in it!\")",
    "id": "f1d8353ea3fe4174a10df0c70119b860",
    "idx": 31,
    "time": "2021-02-16T08:34:37.379Z",
    "type": "execution"
   },
   {
    "code": "# HIDDEN TEST\nnum_farmers_markets_columns == 59",
    "id": "c576cbb902764c24aa4f0beb55a685b8",
    "idx": 32,
    "time": "2021-02-16T08:34:37.382Z",
    "type": "execution"
   },
   {
    "code": "# Just run this cell\n\nnum_farmers_markets_rows = farmers_markets.num_rows\nprint(\"The table has\", num_farmers_markets_rows, \"rows in it!\")",
    "id": "d78045d1705748b388e0738c7b903124",
    "idx": 34,
    "time": "2021-02-16T08:34:37.383Z",
    "type": "execution"
   },
   {
    "code": "farmers_markets_locations = farmers_markets.select(\"city\", \"State\", \"y\", \"MarketName\", \"x\") # SOLUTION\nfarmers_markets_locations",
    "id": "c661c0d5ebac486b88bac48a85d7193c",
    "idx": 36,
    "time": "2021-02-16T08:34:37.385Z",
    "type": "execution"
   },
   {
    "code": "# HIDDEN TEST\nsorted(farmers_markets_locations.labels)",
    "id": "90060034698440a484cc2a1c89d0a4f2",
    "idx": 37,
    "time": "2021-02-16T08:34:37.387Z",
    "type": "execution"
   },
   {
    "code": "# TEST\nfarmers_markets_locations.num_rows == 8546",
    "id": "6915a30f7e704a7b8af96316833f29ca",
    "idx": 38,
    "time": "2021-02-16T08:34:37.388Z",
    "type": "execution"
   },
   {
    "code": "farmers_markets_without_fmid = farmers_markets.drop(\"FMID\", \"updateTime\") # SOLUTION\nfarmers_markets_without_fmid",
    "id": "88e101833a3a43f281c8fbe4e5edc41d",
    "idx": 40,
    "time": "2021-02-16T08:34:37.392Z",
    "type": "execution"
   },
   {
    "code": "# TEST\nfarmers_markets_without_fmid.num_columns == 57",
    "id": "0107ee9d3b6d42b795d6cfe3f4ec045d",
    "idx": 41,
    "time": "2021-02-16T08:34:37.393Z",
    "type": "execution"
   },
   {
    "code": "# TEST\nprint(sorted(farmers_markets_without_fmid.labels))",
    "id": "a1399913244f44e6a9e7801dd9b67ba7",
    "idx": 42,
    "time": "2021-02-16T08:34:37.394Z",
    "type": "execution"
   },
   {
    "code": "farmers_markets_locations.sort('x')",
    "id": "4d95bd7f16da4005ba887722861a39dd",
    "idx": 44,
    "time": "2021-02-16T08:34:37.396Z",
    "type": "execution"
   },
   {
    "code": "farmers_markets_locations.sort('x', descending=True)",
    "id": "4bb9cd749f8a45b49221d5adc37ee3f6",
    "idx": 46,
    "time": "2021-02-16T08:34:37.399Z",
    "type": "execution"
   },
   {
    "code": "farmers_markets_locations_by_latitude = farmers_markets_locations.sort('y', descending = True) # SOLUTION\nfarmers_markets_locations_by_latitude",
    "id": "c97efa93abf4478aaed3a0c0af8f3446",
    "idx": 48,
    "time": "2021-02-16T08:34:37.400Z",
    "type": "execution"
   },
   {
    "code": "# TEST\ntype(farmers_markets_locations_by_latitude) == tables.Table",
    "id": "c79101f0a71a42d8a252e4da2cb8f841",
    "idx": 49,
    "time": "2021-02-16T08:34:37.402Z",
    "type": "execution"
   },
   {
    "code": "# TEST\nlist(farmers_markets_locations_by_latitude.column('y').take(range(3)))",
    "id": "ecdc073691ad4db783cf43f2ed31c132",
    "idx": 50,
    "time": "2021-02-16T08:34:37.405Z",
    "type": "execution"
   },
   {
    "code": "california_farmers_markets = farmers_markets_locations.where('State', are.equal_to('California'))\ncalifornia_farmers_markets",
    "id": "d6b1384d7d5442408204eac1fa8ae4ae",
    "idx": 52,
    "time": "2021-02-16T08:34:37.407Z",
    "type": "execution"
   },
   {
    "id": "9104c45c29614eb686d57e49e14e386c",
    "time": "2021-02-16T08:34:37.491Z",
    "type": "completion"
   },
   {
    "id": "6b6244eb0cb14ef88c50c8077c4a1025",
    "time": "2021-02-16T08:34:37.494Z",
    "type": "completion"
   },
   {
    "id": "cd56254d288b462ba94fb43c0ebc1359",
    "time": "2021-02-16T08:34:37.496Z",
    "type": "completion"
   },
   {
    "id": "c4b687e408d5479abdc414b6c633c026",
    "time": "2021-02-16T08:34:37.497Z",
    "type": "completion"
   },
   {
    "id": "14c3280f0b54464c85242ba22e7381f1",
    "time": "2021-02-16T08:34:37.500Z",
    "type": "completion"
   },
   {
    "id": "a458fc90b75d459785aaf63c1b17a80b",
    "time": "2021-02-16T08:34:37.526Z",
    "type": "completion"
   },
   {
    "id": "309cf9facf204c5fbca06e9109147fe8",
    "time": "2021-02-16T08:34:37.558Z",
    "type": "completion"
   },
   {
    "id": "534b367c21944f3488de2187b6fa31d5",
    "time": "2021-02-16T08:34:37.560Z",
    "type": "completion"
   },
   {
    "id": "7c67ab3427ba49888e871707bac58449",
    "time": "2021-02-16T08:34:37.582Z",
    "type": "completion"
   },
   {
    "id": "8e618a8ace414fa38f6f2c3aaf4711cc",
    "time": "2021-02-16T08:34:37.606Z",
    "type": "completion"
   },
   {
    "id": "2aac6edd752f464a8577596dc7b10c1b",
    "time": "2021-02-16T08:34:37.655Z",
    "type": "completion"
   },
   {
    "id": "161f5c794d4847f2898fd15871db4b2d",
    "time": "2021-02-16T08:34:37.665Z",
    "type": "completion"
   },
   {
    "id": "d71d39971a3b4765834a26779cba57d3",
    "time": "2021-02-16T08:34:38.110Z",
    "type": "completion"
   },
   {
    "id": "221a7797806447ff84de2dd296fa365b",
    "time": "2021-02-16T08:34:38.123Z",
    "type": "completion"
   },
   {
    "id": "f1d8353ea3fe4174a10df0c70119b860",
    "time": "2021-02-16T08:34:38.162Z",
    "type": "completion"
   },
   {
    "id": "c576cbb902764c24aa4f0beb55a685b8",
    "time": "2021-02-16T08:34:38.164Z",
    "type": "completion"
   },
   {
    "id": "d78045d1705748b388e0738c7b903124",
    "time": "2021-02-16T08:34:38.188Z",
    "type": "completion"
   },
   {
    "id": "c661c0d5ebac486b88bac48a85d7193c",
    "time": "2021-02-16T08:34:38.238Z",
    "type": "completion"
   },
   {
    "id": "90060034698440a484cc2a1c89d0a4f2",
    "time": "2021-02-16T08:34:38.242Z",
    "type": "completion"
   },
   {
    "id": "6915a30f7e704a7b8af96316833f29ca",
    "time": "2021-02-16T08:34:38.269Z",
    "type": "completion"
   },
   {
    "id": "88e101833a3a43f281c8fbe4e5edc41d",
    "time": "2021-02-16T08:34:38.438Z",
    "type": "completion"
   },
   {
    "id": "0107ee9d3b6d42b795d6cfe3f4ec045d",
    "time": "2021-02-16T08:34:38.479Z",
    "type": "completion"
   },
   {
    "id": "a1399913244f44e6a9e7801dd9b67ba7",
    "time": "2021-02-16T08:34:38.482Z",
    "type": "completion"
   },
   {
    "id": "4d95bd7f16da4005ba887722861a39dd",
    "time": "2021-02-16T08:34:38.527Z",
    "type": "completion"
   },
   {
    "id": "4bb9cd749f8a45b49221d5adc37ee3f6",
    "time": "2021-02-16T08:34:38.531Z",
    "type": "completion"
   },
   {
    "id": "c97efa93abf4478aaed3a0c0af8f3446",
    "time": "2021-02-16T08:34:38.562Z",
    "type": "completion"
   },
   {
    "id": "c79101f0a71a42d8a252e4da2cb8f841",
    "time": "2021-02-16T08:34:38.567Z",
    "type": "completion"
   },
   {
    "id": "ecdc073691ad4db783cf43f2ed31c132",
    "time": "2021-02-16T08:34:38.570Z",
    "type": "completion"
   },
   {
    "id": "d6b1384d7d5442408204eac1fa8ae4ae",
    "time": "2021-02-16T08:34:38.624Z",
    "type": "completion"
   },
   {
    "code": "berkeley_markets = california_farmers_markets.where('city', are.equal_to(\"Berkeley\")) # SOLUTION\nberkeley_markets",
    "id": "ed886e4d66b048178c9e9840557fdf4b",
    "idx": 56,
    "time": "2021-02-16T08:34:41.451Z",
    "type": "execution"
   },
   {
    "id": "ed886e4d66b048178c9e9840557fdf4b",
    "time": "2021-02-16T08:34:41.595Z",
    "type": "completion"
   },
   {
    "code": "# TEST\nberkeley_markets.num_rows == 3",
    "id": "9549beef875c4953ab13e533d42edd71",
    "idx": 57,
    "time": "2021-02-16T08:35:17.237Z",
    "type": "execution"
   },
   {
    "id": "9549beef875c4953ab13e533d42edd71",
    "time": "2021-02-16T08:35:17.310Z",
    "type": "completion"
   },
   {
    "code": "# TEST\nlist(berkeley_markets.column('city')) == ['Berkeley', 'Berkeley', 'Berkeley']",
    "id": "9406b57a66ca4f209dd18789a0ac339c",
    "idx": 58,
    "time": "2021-02-16T08:35:51.241Z",
    "type": "execution"
   },
   {
    "id": "9406b57a66ca4f209dd18789a0ac339c",
    "time": "2021-02-16T08:35:51.328Z",
    "type": "completion"
   },
   {
    "code": "above_eight = imdb.where('Year', are.between(2010, 2017)).where('Rating', are.above(8)).select('Title', 'Rating') # SOLUTION\nabove_eight",
    "id": "0bdc63c61ddd4cfd8cc080152f5b8a5a",
    "idx": 65,
    "time": "2021-02-16T08:37:05.820Z",
    "type": "execution"
   },
   {
    "id": "0bdc63c61ddd4cfd8cc080152f5b8a5a",
    "time": "2021-02-16T08:37:05.956Z",
    "type": "completion"
   },
   {
    "code": "# Just run this cell\n\nimport numpy as np\nfrom datascience import *\n\n\n# These lines load the tests.\n# When you log-in please hit return (not shift + return) after typing in your email\n",
    "id": "9104c45c29614eb686d57e49e14e386c",
    "idx": 2,
    "time": "2021-02-16T08:37:10.041Z",
    "type": "execution"
   },
   {
    "code": "new_year = 2020 # SOLUTION\nnew_year",
    "id": "6b6244eb0cb14ef88c50c8077c4a1025",
    "idx": 5,
    "time": "2021-02-16T08:37:10.043Z",
    "type": "execution"
   },
   {
    "code": "#HIDDEN TEST\nnew_year == 2020",
    "id": "cd56254d288b462ba94fb43c0ebc1359",
    "idx": 6,
    "time": "2021-02-16T08:37:10.045Z",
    "type": "execution"
   },
   {
    "code": "import math\nradius = 5\narea_of_circle = radius**2 * math.pi\narea_of_circle",
    "id": "c4b687e408d5479abdc414b6c633c026",
    "idx": 9,
    "time": "2021-02-16T08:37:10.048Z",
    "type": "execution"
   },
   {
    "code": "near_twenty = math.e ** math.pi - math.pi # SOLUTION\nnear_twenty",
    "id": "14c3280f0b54464c85242ba22e7381f1",
    "idx": 12,
    "time": "2021-02-16T08:37:10.050Z",
    "type": "execution"
   },
   {
    "code": "# TEST\nround(near_twenty, 8)",
    "id": "a458fc90b75d459785aaf63c1b17a80b",
    "idx": 13,
    "time": "2021-02-16T08:37:10.051Z",
    "type": "execution"
   },
   {
    "code": "sine_of_pi_over_four = math.sin(math.pi / 4) # SOLUTION\nsine_of_pi_over_four",
    "id": "309cf9facf204c5fbca06e9109147fe8",
    "idx": 16,
    "time": "2021-02-16T08:37:10.053Z",
    "type": "execution"
   },
   {
    "code": "# TEST\n# Hint: You can write the sine of 1.5*pi as:\n#   math.sin(1.5 * math.pi)\nimport math\nround(sine_of_pi_over_four, 8)",
    "id": "534b367c21944f3488de2187b6fa31d5",
    "idx": 17,
    "time": "2021-02-16T08:37:10.055Z",
    "type": "execution"
   },
   {
    "code": "# Calculating logarithms (the logarithm of 8 in base 2).\n# The result is 3 because 2 to the power of 3 is 8.\nmath.log(8, 2)",
    "id": "7c67ab3427ba49888e871707bac58449",
    "idx": 19,
    "time": "2021-02-16T08:37:10.057Z",
    "type": "execution"
   },
   {
    "code": "# Calculating square roots.\nmath.sqrt(5)",
    "id": "8e618a8ace414fa38f6f2c3aaf4711cc",
    "idx": 20,
    "time": "2021-02-16T08:37:10.059Z",
    "type": "execution"
   },
   {
    "code": "# Importing just cos and pi from math.\n# We don't have to use `math.` in front of cos or pi\nfrom math import cos, pi\nprint(cos(pi))\n\n# We do have to use it in front of other functions from math, though\nmath.log(pi)",
    "id": "2aac6edd752f464a8577596dc7b10c1b",
    "idx": 22,
    "time": "2021-02-16T08:37:10.061Z",
    "type": "execution"
   },
   {
    "code": "# Lastly, we can import everything from math using the *\n# Once again, we don't have to use 'math.' beforehand \nfrom math import *\nlog(pi)",
    "id": "161f5c794d4847f2898fd15871db4b2d",
    "idx": 24,
    "time": "2021-02-16T08:37:10.063Z",
    "type": "execution"
   },
   {
    "code": "# Just run this cell\n\nfarmers_markets = Table.read_table('farmers_markets.csv')",
    "id": "d71d39971a3b4765834a26779cba57d3",
    "idx": 27,
    "time": "2021-02-16T08:37:10.065Z",
    "type": "execution"
   },
   {
    "code": "farmers_markets.show(5) # SOLUTION",
    "id": "221a7797806447ff84de2dd296fa365b",
    "idx": 29,
    "time": "2021-02-16T08:37:10.069Z",
    "type": "execution"
   },
   {
    "code": "num_farmers_markets_columns = farmers_markets.num_columns # SOLUTION\nprint(\"The table has\", num_farmers_markets_columns, \"columns in it!\")",
    "id": "f1d8353ea3fe4174a10df0c70119b860",
    "idx": 31,
    "time": "2021-02-16T08:37:10.070Z",
    "type": "execution"
   },
   {
    "code": "# HIDDEN TEST\nnum_farmers_markets_columns == 59",
    "id": "c576cbb902764c24aa4f0beb55a685b8",
    "idx": 32,
    "time": "2021-02-16T08:37:10.072Z",
    "type": "execution"
   },
   {
    "code": "# Just run this cell\n\nnum_farmers_markets_rows = farmers_markets.num_rows\nprint(\"The table has\", num_farmers_markets_rows, \"rows in it!\")",
    "id": "d78045d1705748b388e0738c7b903124",
    "idx": 34,
    "time": "2021-02-16T08:37:10.074Z",
    "type": "execution"
   },
   {
    "code": "farmers_markets_locations = farmers_markets.select(\"city\", \"State\", \"y\", \"MarketName\", \"x\") # SOLUTION\nfarmers_markets_locations",
    "id": "c661c0d5ebac486b88bac48a85d7193c",
    "idx": 36,
    "time": "2021-02-16T08:37:10.076Z",
    "type": "execution"
   },
   {
    "code": "# HIDDEN TEST\nsorted(farmers_markets_locations.labels)",
    "id": "90060034698440a484cc2a1c89d0a4f2",
    "idx": 37,
    "time": "2021-02-16T08:37:10.078Z",
    "type": "execution"
   },
   {
    "code": "# TEST\nfarmers_markets_locations.num_rows == 8546",
    "id": "6915a30f7e704a7b8af96316833f29ca",
    "idx": 38,
    "time": "2021-02-16T08:37:10.079Z",
    "type": "execution"
   },
   {
    "code": "farmers_markets_without_fmid = farmers_markets.drop(\"FMID\", \"updateTime\") # SOLUTION\nfarmers_markets_without_fmid",
    "id": "88e101833a3a43f281c8fbe4e5edc41d",
    "idx": 40,
    "time": "2021-02-16T08:37:10.084Z",
    "type": "execution"
   },
   {
    "code": "# TEST\nfarmers_markets_without_fmid.num_columns == 57",
    "id": "0107ee9d3b6d42b795d6cfe3f4ec045d",
    "idx": 41,
    "time": "2021-02-16T08:37:10.085Z",
    "type": "execution"
   },
   {
    "code": "# TEST\nprint(sorted(farmers_markets_without_fmid.labels))",
    "id": "a1399913244f44e6a9e7801dd9b67ba7",
    "idx": 42,
    "time": "2021-02-16T08:37:10.087Z",
    "type": "execution"
   },
   {
    "code": "farmers_markets_locations.sort('x')",
    "id": "4d95bd7f16da4005ba887722861a39dd",
    "idx": 44,
    "time": "2021-02-16T08:37:10.089Z",
    "type": "execution"
   },
   {
    "code": "farmers_markets_locations.sort('x', descending=True)",
    "id": "4bb9cd749f8a45b49221d5adc37ee3f6",
    "idx": 46,
    "time": "2021-02-16T08:37:10.091Z",
    "type": "execution"
   },
   {
    "code": "farmers_markets_locations_by_latitude = farmers_markets_locations.sort('y', descending = True) # SOLUTION\nfarmers_markets_locations_by_latitude",
    "id": "c97efa93abf4478aaed3a0c0af8f3446",
    "idx": 48,
    "time": "2021-02-16T08:37:10.092Z",
    "type": "execution"
   },
   {
    "code": "# TEST\ntype(farmers_markets_locations_by_latitude) == tables.Table",
    "id": "c79101f0a71a42d8a252e4da2cb8f841",
    "idx": 49,
    "time": "2021-02-16T08:37:10.094Z",
    "type": "execution"
   },
   {
    "code": "# TEST\nlist(farmers_markets_locations_by_latitude.column('y').take(range(3)))",
    "id": "ecdc073691ad4db783cf43f2ed31c132",
    "idx": 50,
    "time": "2021-02-16T08:37:10.096Z",
    "type": "execution"
   },
   {
    "code": "california_farmers_markets = farmers_markets_locations.where('State', are.equal_to('California'))\ncalifornia_farmers_markets",
    "id": "d6b1384d7d5442408204eac1fa8ae4ae",
    "idx": 52,
    "time": "2021-02-16T08:37:10.098Z",
    "type": "execution"
   },
   {
    "code": "berkeley_markets = california_farmers_markets.where('city', are.equal_to(\"Berkeley\")) # SOLUTION\nberkeley_markets",
    "id": "ed886e4d66b048178c9e9840557fdf4b",
    "idx": 56,
    "time": "2021-02-16T08:37:10.100Z",
    "type": "execution"
   },
   {
    "code": "# TEST\nberkeley_markets.num_rows == 3",
    "id": "9549beef875c4953ab13e533d42edd71",
    "idx": 57,
    "time": "2021-02-16T08:37:10.101Z",
    "type": "execution"
   },
   {
    "code": "# TEST\nlist(berkeley_markets.column('city')) == ['Berkeley', 'Berkeley', 'Berkeley']",
    "id": "9406b57a66ca4f209dd18789a0ac339c",
    "idx": 58,
    "time": "2021-02-16T08:37:10.103Z",
    "type": "execution"
   },
   {
    "code": "# Just run this cell\n\nimdb = Table.read_table('imdb.csv')\nimdb",
    "id": "1a5d75aab64340d386bcf9b8ed037ab5",
    "idx": 62,
    "time": "2021-02-16T08:37:10.105Z",
    "type": "execution"
   },
   {
    "id": "9104c45c29614eb686d57e49e14e386c",
    "time": "2021-02-16T08:37:10.146Z",
    "type": "completion"
   },
   {
    "id": "6b6244eb0cb14ef88c50c8077c4a1025",
    "time": "2021-02-16T08:37:10.149Z",
    "type": "completion"
   },
   {
    "id": "cd56254d288b462ba94fb43c0ebc1359",
    "time": "2021-02-16T08:37:10.172Z",
    "type": "completion"
   },
   {
    "id": "c4b687e408d5479abdc414b6c633c026",
    "time": "2021-02-16T08:37:10.217Z",
    "type": "completion"
   },
   {
    "id": "14c3280f0b54464c85242ba22e7381f1",
    "time": "2021-02-16T08:37:10.222Z",
    "type": "completion"
   },
   {
    "id": "a458fc90b75d459785aaf63c1b17a80b",
    "time": "2021-02-16T08:37:10.277Z",
    "type": "completion"
   },
   {
    "id": "309cf9facf204c5fbca06e9109147fe8",
    "time": "2021-02-16T08:37:10.306Z",
    "type": "completion"
   },
   {
    "id": "534b367c21944f3488de2187b6fa31d5",
    "time": "2021-02-16T08:37:10.346Z",
    "type": "completion"
   },
   {
    "id": "7c67ab3427ba49888e871707bac58449",
    "time": "2021-02-16T08:37:10.369Z",
    "type": "completion"
   },
   {
    "id": "8e618a8ace414fa38f6f2c3aaf4711cc",
    "time": "2021-02-16T08:37:10.393Z",
    "type": "completion"
   },
   {
    "id": "2aac6edd752f464a8577596dc7b10c1b",
    "time": "2021-02-16T08:37:10.401Z",
    "type": "completion"
   },
   {
    "id": "161f5c794d4847f2898fd15871db4b2d",
    "time": "2021-02-16T08:37:10.422Z",
    "type": "completion"
   },
   {
    "id": "d71d39971a3b4765834a26779cba57d3",
    "time": "2021-02-16T08:37:10.762Z",
    "type": "completion"
   },
   {
    "id": "221a7797806447ff84de2dd296fa365b",
    "time": "2021-02-16T08:37:10.810Z",
    "type": "completion"
   },
   {
    "id": "f1d8353ea3fe4174a10df0c70119b860",
    "time": "2021-02-16T08:37:10.812Z",
    "type": "completion"
   },
   {
    "id": "c576cbb902764c24aa4f0beb55a685b8",
    "time": "2021-02-16T08:37:10.814Z",
    "type": "completion"
   },
   {
    "id": "d78045d1705748b388e0738c7b903124",
    "time": "2021-02-16T08:37:10.846Z",
    "type": "completion"
   },
   {
    "id": "c661c0d5ebac486b88bac48a85d7193c",
    "time": "2021-02-16T08:37:10.880Z",
    "type": "completion"
   },
   {
    "id": "90060034698440a484cc2a1c89d0a4f2",
    "time": "2021-02-16T08:37:10.903Z",
    "type": "completion"
   },
   {
    "id": "6915a30f7e704a7b8af96316833f29ca",
    "time": "2021-02-16T08:37:10.929Z",
    "type": "completion"
   },
   {
    "id": "88e101833a3a43f281c8fbe4e5edc41d",
    "time": "2021-02-16T08:37:11.140Z",
    "type": "completion"
   },
   {
    "id": "0107ee9d3b6d42b795d6cfe3f4ec045d",
    "time": "2021-02-16T08:37:11.146Z",
    "type": "completion"
   },
   {
    "id": "a1399913244f44e6a9e7801dd9b67ba7",
    "time": "2021-02-16T08:37:11.148Z",
    "type": "completion"
   },
   {
    "id": "4d95bd7f16da4005ba887722861a39dd",
    "time": "2021-02-16T08:37:11.151Z",
    "type": "completion"
   },
   {
    "id": "4bb9cd749f8a45b49221d5adc37ee3f6",
    "time": "2021-02-16T08:37:11.177Z",
    "type": "completion"
   },
   {
    "id": "c97efa93abf4478aaed3a0c0af8f3446",
    "time": "2021-02-16T08:37:11.227Z",
    "type": "completion"
   },
   {
    "id": "c79101f0a71a42d8a252e4da2cb8f841",
    "time": "2021-02-16T08:37:11.229Z",
    "type": "completion"
   },
   {
    "id": "ecdc073691ad4db783cf43f2ed31c132",
    "time": "2021-02-16T08:37:11.259Z",
    "type": "completion"
   },
   {
    "id": "d6b1384d7d5442408204eac1fa8ae4ae",
    "time": "2021-02-16T08:37:11.288Z",
    "type": "completion"
   },
   {
    "id": "ed886e4d66b048178c9e9840557fdf4b",
    "time": "2021-02-16T08:37:11.295Z",
    "type": "completion"
   },
   {
    "id": "9549beef875c4953ab13e533d42edd71",
    "time": "2021-02-16T08:37:11.298Z",
    "type": "completion"
   },
   {
    "id": "9406b57a66ca4f209dd18789a0ac339c",
    "time": "2021-02-16T08:37:11.324Z",
    "type": "completion"
   },
   {
    "id": "1a5d75aab64340d386bcf9b8ed037ab5",
    "time": "2021-02-16T08:37:11.375Z",
    "type": "completion"
   },
   {
    "code": "above_eight = imdb.where('Year', are.between(2010, 2017)).where('Rating', are.above(8)).select('Title', 'Rating') # SOLUTION\nabove_eight",
    "id": "0bdc63c61ddd4cfd8cc080152f5b8a5a",
    "idx": 65,
    "time": "2021-02-16T08:37:13.832Z",
    "type": "execution"
   },
   {
    "id": "0bdc63c61ddd4cfd8cc080152f5b8a5a",
    "time": "2021-02-16T08:37:13.908Z",
    "type": "completion"
   },
   {
    "code": "# TEST\nabove_eight.num_rows == 20",
    "id": "f8c595cf25f342fe8ae63ba0fa78b906",
    "idx": 66,
    "time": "2021-02-16T08:38:01.173Z",
    "type": "execution"
   },
   {
    "id": "f8c595cf25f342fe8ae63ba0fa78b906",
    "time": "2021-02-16T08:38:01.305Z",
    "type": "completion"
   },
   {
    "code": "# TEST\ntype(above_eight) == tables.Table",
    "id": "f8c595cf25f342fe8ae63ba0fa78b906",
    "idx": 66,
    "time": "2021-02-16T08:38:31.611Z",
    "type": "execution"
   },
   {
    "id": "f8c595cf25f342fe8ae63ba0fa78b906",
    "time": "2021-02-16T08:38:31.685Z",
    "type": "completion"
   },
   {
    "code": "# TEST\nabove_eight.num_rows == 20",
    "id": "8aa9c1defa0d425b9895cf473178fe8f",
    "idx": 67,
    "time": "2021-02-16T08:38:32.171Z",
    "type": "execution"
   },
   {
    "id": "8aa9c1defa0d425b9895cf473178fe8f",
    "time": "2021-02-16T08:38:32.295Z",
    "type": "completion"
   },
   {
    "code": "# TEST\n# Make sure your columns are in the right order!\n# First column should be 'Title', second column should be 'Rating'\nprint(above_eight.sort(0).take([17]))",
    "id": "d129b87619634c298f5e616c6b5411e1",
    "idx": 68,
    "time": "2021-02-16T08:39:13.833Z",
    "type": "execution"
   },
   {
    "id": "d129b87619634c298f5e616c6b5411e1",
    "time": "2021-02-16T08:39:13.897Z",
    "type": "completion"
   },
   {
    "code": "num_movies_in_dataset = imdb.num_rows # SOLUTION\nnum_in_20th_century = imdb.where('Year', are.below(2000)).num_rows # SOLUTION\nnum_in_21st_century = imdb.where('Year', are.above_or_equal_to(2000)).num_rows # SOLUTION\nproportion_in_20th_century = num_in_20th_century / num_movies_in_dataset # SOLUTION\nproportion_in_21st_century = num_in_21st_century / num_movies_in_dataset # SOLUTION\nprint(\"Proportion in 20th century:\", proportion_in_20th_century)\nprint(\"Proportion in 21st century:\", proportion_in_21st_century)",
    "id": "971381be596347fba06f2b4905874100",
    "idx": 70,
    "time": "2021-02-16T08:41:30.945Z",
    "type": "execution"
   },
   {
    "id": "971381be596347fba06f2b4905874100",
    "time": "2021-02-16T08:41:31.032Z",
    "type": "completion"
   },
   {
    "code": "# HIDDEN TEST\nproportion_in_20th_century == 0.684",
    "id": "28fb10b6b71f407a9c6689b9c4b352f7",
    "idx": 71,
    "time": "2021-02-16T08:42:01.990Z",
    "type": "execution"
   },
   {
    "id": "28fb10b6b71f407a9c6689b9c4b352f7",
    "time": "2021-02-16T08:42:03.529Z",
    "type": "completion"
   },
   {
    "code": "# HIDDEN TEST\nproportion_in_21st_century == 0.316",
    "id": "d3e1ba07ac3347b295d42fbb8a0bf6ef",
    "idx": 72,
    "time": "2021-02-16T08:42:23.363Z",
    "type": "execution"
   },
   {
    "id": "d3e1ba07ac3347b295d42fbb8a0bf6ef",
    "time": "2021-02-16T08:42:23.425Z",
    "type": "completion"
   }
  ],
  "kernelspec": {
   "display_name": "Python 3 (ipykernel)",
   "language": "python",
   "name": "python3"
  },
  "language_info": {
   "codemirror_mode": {
    "name": "ipython",
    "version": 3
   },
   "file_extension": ".py",
   "mimetype": "text/x-python",
   "name": "python",
   "nbconvert_exporter": "python",
   "pygments_lexer": "ipython3",
   "version": "3.10.9"
  },
  "toc": {
   "base_numbering": 1,
   "nav_menu": {},
   "number_sections": false,
   "sideBar": true,
   "skip_h1_title": false,
   "title_cell": "Table of Contents",
   "title_sidebar": "Contents",
   "toc_cell": false,
   "toc_position": {
    "height": "calc(100% - 180px)",
    "left": "10px",
    "top": "150px",
    "width": "165px"
   },
   "toc_section_display": true,
   "toc_window_display": true
  }
 },
 "nbformat": 4,
 "nbformat_minor": 4
}
