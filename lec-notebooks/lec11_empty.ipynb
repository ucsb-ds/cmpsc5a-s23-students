{
 "cells": [
  {
   "cell_type": "code",
   "execution_count": null,
   "metadata": {
    "tags": []
   },
   "outputs": [],
   "source": [
    "from datascience import *\n",
    "%matplotlib inline\n",
    "\n",
    "import matplotlib.pyplot as plt\n",
    "plt.style.use('fivethirtyeight')\n",
    "\n",
    "import numpy as np\n",
    "import warnings\n",
    "warnings.simplefilter(action='ignore')"
   ]
  },
  {
   "cell_type": "markdown",
   "metadata": {},
   "source": [
    "## Lecture 11"
   ]
  },
  {
   "cell_type": "markdown",
   "metadata": {
    "tags": []
   },
   "source": [
    "## `join()` vs `with_column()`"
   ]
  },
  {
   "cell_type": "markdown",
   "metadata": {
    "tags": []
   },
   "source": [
    "### Example 1: Sections"
   ]
  },
  {
   "cell_type": "code",
   "execution_count": null,
   "metadata": {
    "tags": []
   },
   "outputs": [],
   "source": [
    "sections = Table().with_columns('Section No', [1,2,3,4,5,6], \n",
    "                                'Room', ['PHELP 2514', 'PHELP 2514', 'PHELP 2514', 'GIRV 1115', 'PHELP 1440', 'PHELP 1445'])\n",
    "sections"
   ]
  },
  {
   "cell_type": "code",
   "execution_count": null,
   "metadata": {
    "tags": []
   },
   "outputs": [],
   "source": [
    "ulas = ['Caden', 'Gianmarco', 'Jai', 'Justin', 'Christian', 'Anushka']\n",
    "tas  = []\n",
    "sections.with_column('ula', ulas)"
   ]
  },
  {
   "cell_type": "code",
   "execution_count": null,
   "metadata": {
    "tags": []
   },
   "outputs": [],
   "source": [
    "rooms = ['PHELP 2514', 'GIRV 1115', 'PHELP 1440', 'PHELP 1445']\n",
    "url = []\n",
    "capacity = [35, 48, 35, 35]\n",
    "renovation = [2018, 2017, 2018, 2018]\n",
    "Table().with_columns('room', rooms, 'capacity', capacity, 'renovated', renovation)"
   ]
  },
  {
   "cell_type": "markdown",
   "metadata": {},
   "source": [
    "### Example 2: Flights"
   ]
  },
  {
   "cell_type": "code",
   "execution_count": null,
   "metadata": {
    "tags": []
   },
   "outputs": [],
   "source": [
    "def distance(lat1, lon1, lat2, lon2):\n",
    "    # Havesine Formula\n",
    "    r_earth = 4000 #miles\n",
    "    lat1 = np.deg2rad(lat1)\n",
    "    lon1 = np.deg2rad(lon1)\n",
    "    lat2 = np.deg2rad(lat2)\n",
    "    lon2 = np.deg2rad(lon2)\n",
    "    \n",
    "    distance = np.arccos(np.sin(lat1)*np.sin(lat2) + np.cos(lat1)*np.cos(lat2)*np.cos(lon2-lon1)) * r_earth\n",
    "    return distance"
   ]
  },
  {
   "cell_type": "code",
   "execution_count": null,
   "metadata": {
    "tags": []
   },
   "outputs": [],
   "source": [
    "flights = Table.read_table('data/flights.csv').select('carrier', 'flight', 'origin', 'air_time', 'dest')\n",
    "airports = Table.read_table('data/airports.csv').select('faa', 'lat', 'lon')"
   ]
  },
  {
   "cell_type": "markdown",
   "metadata": {},
   "source": [
    "**Tasks**\n",
    "We want to get the distribution of the airspeeds\n",
    "\n",
    "- join the airports with the flight data to get location information about origin and destination location\n",
    "    - We need to join the airport table twice; \n",
    "    - therefore we should create two copies of the airports table with distinct labels\n",
    "- apply the havesine formula to get an approximation of the distances between origin and destinations\n",
    "- calculate the speed\n",
    "- create a histogram"
   ]
  },
  {
   "cell_type": "code",
   "execution_count": null,
   "metadata": {
    "tags": []
   },
   "outputs": [],
   "source": []
  },
  {
   "cell_type": "markdown",
   "metadata": {},
   "source": [
    "---\n",
    "Back to slides\n",
    "\n",
    "---"
   ]
  },
  {
   "cell_type": "markdown",
   "metadata": {},
   "source": [
    "## Bike Sharing ##"
   ]
  },
  {
   "cell_type": "code",
   "execution_count": null,
   "metadata": {
    "tags": []
   },
   "outputs": [],
   "source": [
    "trip = Table.read_table('data/trip.csv')\n",
    "trip.show(3)"
   ]
  },
  {
   "cell_type": "markdown",
   "metadata": {},
   "source": [
    "## Distribution of Durations ##"
   ]
  },
  {
   "cell_type": "code",
   "execution_count": null,
   "metadata": {
    "tags": []
   },
   "outputs": [],
   "source": [
    "trip.hist('Duration')"
   ]
  },
  {
   "cell_type": "markdown",
   "metadata": {},
   "source": [
    "**Question** What is going on??"
   ]
  },
  {
   "cell_type": "code",
   "execution_count": null,
   "metadata": {
    "tags": []
   },
   "outputs": [],
   "source": [
    "trip.sort('Duration', descending=True)"
   ]
  },
  {
   "cell_type": "markdown",
   "metadata": {},
   "source": [
    "**Task** \n",
    "- Let's find trips that were shorter than 30 minutes and create a histogram of those\n",
    "- Let's set the bins to 5 minute bins and add a unit"
   ]
  },
  {
   "cell_type": "code",
   "execution_count": null,
   "metadata": {
    "tags": []
   },
   "outputs": [],
   "source": []
  },
  {
   "cell_type": "markdown",
   "metadata": {
    "tags": []
   },
   "source": [
    "**Question**\n",
    "What share of trips was between 5 and 10 minutes?\n",
    "- eyeball from reading the histogram\n",
    "- find the exact value (using table functions)"
   ]
  },
  {
   "cell_type": "code",
   "execution_count": null,
   "metadata": {
    "tags": []
   },
   "outputs": [],
   "source": [
    "# Eyeball:\n"
   ]
  },
  {
   "cell_type": "code",
   "execution_count": null,
   "metadata": {
    "tags": []
   },
   "outputs": [],
   "source": [
    "# Exact:\n"
   ]
  },
  {
   "cell_type": "markdown",
   "metadata": {},
   "source": [
    "## Start and End Stations \n",
    "- How many (start) stations are there?\n",
    "- let's find the most common start station"
   ]
  },
  {
   "cell_type": "code",
   "execution_count": null,
   "metadata": {
    "tags": []
   },
   "outputs": [],
   "source": []
  },
  {
   "cell_type": "markdown",
   "metadata": {},
   "source": [
    "**Tasks**\n",
    "\n",
    "let's\n",
    "- find the count of trips between each station combination\n",
    "    - Why do we have a trip count of 0 for some of the combinations?\n",
    "    - Is it plausible that there are trips that start and stop at the same station? \n",
    "- find the average trip time between each station\n",
    "    - The average might be skewed by people taking a long time because they e.g. got food on the way. \n",
    "    - How could we find the typical trip time between each station? \n",
    "    - Or maybe the fastest?\n",
    "\n",
    "**Question:** Should we use `group()` or `pivot()`?"
   ]
  },
  {
   "cell_type": "code",
   "execution_count": null,
   "metadata": {
    "tags": []
   },
   "outputs": [],
   "source": []
  },
  {
   "cell_type": "markdown",
   "metadata": {},
   "source": [
    "## Discussion question\n",
    "Find the 5 stations closest to Civic Center BART by minimum trip time.\n",
    "\n",
    "Things you need to do:\n",
    "- find all the trips that start at `Civic Center Bart`\n",
    "- find the shortest trip between stations\n",
    "- optionally, subset the dataset to only the relevant columns"
   ]
  },
  {
   "cell_type": "code",
   "execution_count": null,
   "metadata": {
    "tags": []
   },
   "outputs": [],
   "source": []
  },
  {
   "cell_type": "markdown",
   "metadata": {},
   "source": [
    "## Maps \n",
    "Geographical data on the stations\n"
   ]
  },
  {
   "cell_type": "code",
   "execution_count": null,
   "metadata": {
    "tags": []
   },
   "outputs": [],
   "source": [
    "stations = Table.read_table('data/station.csv').drop(4, 6)\n",
    "stations"
   ]
  },
  {
   "cell_type": "code",
   "execution_count": null,
   "metadata": {
    "tags": []
   },
   "outputs": [],
   "source": [
    "sf_stations = stations.where('landmark', are.equal_to('San Francisco'))\n",
    "sf_stations_map_data = (sf_stations.select('lat', 'long', 'name').relabeled('name', 'labels'))\n",
    "sf_stations_map_data.show(3)"
   ]
  },
  {
   "cell_type": "code",
   "execution_count": null,
   "metadata": {
    "tags": []
   },
   "outputs": [],
   "source": [
    "Marker.map_table(sf_stations_map_data)"
   ]
  },
  {
   "cell_type": "code",
   "execution_count": null,
   "metadata": {
    "tags": []
   },
   "outputs": [],
   "source": [
    "Circle.map_table(sf_stations_map_data)"
   ]
  },
  {
   "cell_type": "markdown",
   "metadata": {},
   "source": [
    "### Discussion question"
   ]
  },
  {
   "cell_type": "markdown",
   "metadata": {},
   "source": [
    "Map all stations within 4 minutes (minimum ride time) of Civic Center."
   ]
  },
  {
   "cell_type": "code",
   "execution_count": null,
   "metadata": {
    "tags": []
   },
   "outputs": [],
   "source": []
  },
  {
   "cell_type": "code",
   "execution_count": null,
   "metadata": {
    "tags": []
   },
   "outputs": [],
   "source": []
  },
  {
   "cell_type": "markdown",
   "metadata": {},
   "source": [
    "## Example Questions\n",
    "\n",
    "For each of the following, write a Python expression that returns the given data:\n",
    "\n",
    "1. The name of the station where most rentals ended\n",
    "\n",
    "2. The number of stations for which the average duration of trips ending at that station was more than 10 minutes\n",
    "\n",
    "3. The number of stations that have more than 500 starts and more than 500 ends."
   ]
  },
  {
   "cell_type": "code",
   "execution_count": null,
   "metadata": {},
   "outputs": [],
   "source": []
  }
 ],
 "metadata": {
  "kernelspec": {
   "display_name": "Python 3 (ipykernel)",
   "language": "python",
   "name": "python3"
  },
  "language_info": {
   "codemirror_mode": {
    "name": "ipython",
    "version": 3
   },
   "file_extension": ".py",
   "mimetype": "text/x-python",
   "name": "python",
   "nbconvert_exporter": "python",
   "pygments_lexer": "ipython3",
   "version": "3.10.6"
  }
 },
 "nbformat": 4,
 "nbformat_minor": 4
}
