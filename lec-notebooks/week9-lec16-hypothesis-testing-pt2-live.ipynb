{
 "cells": [
  {
   "cell_type": "code",
   "execution_count": 2,
   "metadata": {},
   "outputs": [],
   "source": [
    "from datascience import *\n",
    "import numpy as np\n",
    "\n",
    "%matplotlib inline\n",
    "import matplotlib.pyplot as plots\n",
    "plots.style.use('fivethirtyeight')"
   ]
  },
  {
   "cell_type": "markdown",
   "metadata": {},
   "source": [
    "# Lecture 16: Hypothesis Testing Pt. II"
   ]
  },
  {
   "cell_type": "markdown",
   "metadata": {},
   "source": [
    "## Hypothesis Testing Example: Right-Handedness"
   ]
  },
  {
   "cell_type": "markdown",
   "metadata": {},
   "source": [
    "We want to assess the null hypothesis that 90% of CMPSC 5a students are right-handed. Suppose that we took a simple random sample of 82 CMPSC 5a students and asked whether they are left or right handed:"
   ]
  },
  {
   "cell_type": "code",
   "execution_count": 3,
   "metadata": {},
   "outputs": [
    {
     "data": {
      "text/html": [
       "<table border=\"1\" class=\"dataframe\">\n",
       "    <thead>\n",
       "        <tr>\n",
       "            <th>Handedness</th>\n",
       "        </tr>\n",
       "    </thead>\n",
       "    <tbody>\n",
       "        <tr>\n",
       "            <td>Right-handed</td>\n",
       "        </tr>\n",
       "        <tr>\n",
       "            <td>Right-handed</td>\n",
       "        </tr>\n",
       "        <tr>\n",
       "            <td>Right-handed</td>\n",
       "        </tr>\n",
       "        <tr>\n",
       "            <td>Right-handed</td>\n",
       "        </tr>\n",
       "        <tr>\n",
       "            <td>Right-handed</td>\n",
       "        </tr>\n",
       "    </tbody>\n",
       "</table>\n",
       "<p>... (77 rows omitted)</p>"
      ],
      "text/plain": [
       "<IPython.core.display.HTML object>"
      ]
     },
     "metadata": {},
     "output_type": "display_data"
    }
   ],
   "source": [
    "# Load results from the class data survey\n",
    "hand_data = Table.read_table('./data/cmpsc5a-classdata-w23.csv').select('Handedness')\n",
    "hand_data.show(5)"
   ]
  },
  {
   "cell_type": "markdown",
   "metadata": {},
   "source": [
    "Our test statistic is `abs(frac_right_handed - 0.9)`:"
   ]
  },
  {
   "cell_type": "code",
   "execution_count": 4,
   "metadata": {},
   "outputs": [
    {
     "name": "stdout",
     "output_type": "stream",
     "text": [
      "Observed value of the test statistic: 0.02682926829268295\n"
     ]
    }
   ],
   "source": [
    "# Count how many respondents are left-handed\n",
    "n_right_handed = np.count_nonzero(hand_data.column('Handedness') == 'Right-handed')\n",
    "\n",
    "# Convert to a fraction\n",
    "observed_frac_right_handed = n_right_handed / 82\n",
    "\n",
    "# Compute test statistic\n",
    "observed_test_stat = abs(observed_frac_right_handed - 0.9)\n",
    "\n",
    "print('Observed value of the test statistic:', observed_test_stat)"
   ]
  },
  {
   "cell_type": "markdown",
   "metadata": {},
   "source": [
    "The observed value of the test statistic is about 0.03, which is different from the value of zero predicted by the null hypothesis. Some random variation is to be expected---it is a random sample, after all. But is this discrepancy too big to be explained by random variation alone?"
   ]
  },
  {
   "cell_type": "markdown",
   "metadata": {},
   "source": [
    "We need to repeatedly simulate the class data survey responses *as if the null hypothesis were true*, to see what values of the test statistic we would end up with."
   ]
  },
  {
   "cell_type": "markdown",
   "metadata": {},
   "source": [
    "**Question:** write a line of code to create an array of 82 survey responses, where each response has a 90% chance of being `\"Right-handed\"` and a 10% chance of being `\"Other\"`."
   ]
  },
  {
   "cell_type": "code",
   "execution_count": 5,
   "metadata": {},
   "outputs": [],
   "source": [
    "simulated_responses = np.random.choice(\n",
    "    make_array('Right-handed', 'Other'),  # What are the possible outcomes\n",
    "    82,  # How many samples to generate\n",
    "    p=make_array(0.9, 0.1))  # What are the probabilities for each outcome"
   ]
  },
  {
   "cell_type": "markdown",
   "metadata": {},
   "source": [
    "This array contains an example of survey responses that we might see if the null hypothesis were true (i.e., if CMPSC 5a students have a 90% chance of being right-handed). Write another line of code to calculate the value of the test statistic:"
   ]
  },
  {
   "cell_type": "code",
   "execution_count": 7,
   "metadata": {},
   "outputs": [],
   "source": [
    "simulated_frac_right_hand = np.count_nonzero(simulated_responses == 'Right-handed') / 82\n",
    "simulated_test_stat = abs(simulated_frac_right_hand - 0.9)"
   ]
  },
  {
   "cell_type": "code",
   "execution_count": 8,
   "metadata": {},
   "outputs": [
    {
     "data": {
      "text/plain": [
       "0.02195121951219514"
      ]
     },
     "execution_count": 8,
     "metadata": {},
     "output_type": "execute_result"
    }
   ],
   "source": [
    "simulated_test_stat"
   ]
  },
  {
   "cell_type": "markdown",
   "metadata": {},
   "source": [
    "This number is a *single sample* from the distribution of the test statistic that is predicted by the null hypothesis. To get a better approximation of this distribution, we will need to repeat this process many times."
   ]
  },
  {
   "cell_type": "code",
   "execution_count": 9,
   "metadata": {},
   "outputs": [],
   "source": [
    "simulated_test_stats = make_array()\n",
    "for i in range(10000):\n",
    "    \n",
    "    # Simulate our dataset as if the null hyp were correct\n",
    "    simulated_responses = np.random.choice(\n",
    "        make_array('Right-handed', 'Other'),\n",
    "        82,\n",
    "        p=make_array(0.9, 0.1))\n",
    "    \n",
    "    # Calculate the test statistic\n",
    "    simulated_frac_right_hand = np.count_nonzero(simulated_responses == 'Right-handed') / 82\n",
    "    simulated_test_stat = abs(simulated_frac_right_hand - 0.9)\n",
    "    \n",
    "    # Record this simulated value of the test statistic\n",
    "    simulated_test_stats = np.append(simulated_test_stats, simulated_test_stat)"
   ]
  },
  {
   "cell_type": "code",
   "execution_count": 11,
   "metadata": {},
   "outputs": [
    {
     "data": {
      "text/plain": [
       "10000"
      ]
     },
     "execution_count": 11,
     "metadata": {},
     "output_type": "execute_result"
    }
   ],
   "source": [
    "len(simulated_test_stats)"
   ]
  },
  {
   "cell_type": "markdown",
   "metadata": {},
   "source": [
    "Now we can use a histogram to plot this distribution. Remember this is an *approximation* of the true probability distribution predicted by the null hypothesis. We could calculate the exact distribution using probability rules if we wanted to, but after 10,000 trials, this empirical distribution is probably a very good approximation."
   ]
  },
  {
   "cell_type": "code",
   "execution_count": 12,
   "metadata": {},
   "outputs": [
    {
     "data": {
      "image/png": "[encoded data removed]",
      "text/plain": [
       "<Figure size 600x400 with 1 Axes>"
      ]
     },
     "metadata": {},
     "output_type": "display_data"
    }
   ],
   "source": [
    "Table().with_column('abs(frac_right_hand - 0.9)', simulated_test_stats).hist()\n",
    "plots.title('Approx. distribution of test stat. under the null');"
   ]
  },
  {
   "cell_type": "markdown",
   "metadata": {},
   "source": [
    "Recall the observed value of the test statistic:"
   ]
  },
  {
   "cell_type": "code",
   "execution_count": 13,
   "metadata": {},
   "outputs": [
    {
     "name": "stdout",
     "output_type": "stream",
     "text": [
      "Observed value of the test statistic: 0.02682926829268295\n"
     ]
    }
   ],
   "source": [
    "print('Observed value of the test statistic:', observed_test_stat)"
   ]
  },
  {
   "cell_type": "markdown",
   "metadata": {},
   "source": [
    "We chose this test statistic so that *larger values make us lean toward the alternative hypothesis*. How should we conclude this test? We can calculate what fraction of the simulated test values are at least the observed value of the test statistic:"
   ]
  },
  {
   "cell_type": "code",
   "execution_count": 14,
   "metadata": {},
   "outputs": [
    {
     "data": {
      "text/plain": [
       "0.46779999999999999"
      ]
     },
     "execution_count": 14,
     "metadata": {},
     "output_type": "execute_result"
    }
   ],
   "source": [
    "sum(simulated_test_stats >= observed_test_stat) / 10000"
   ]
  },
  {
   "cell_type": "markdown",
   "metadata": {},
   "source": [
    "Roughly half of the simulated results are at least as high as the observed value. It appears that a test statistic value of 0.027 is consistent with the null hypothesis, so in this case, our data supports the model."
   ]
  },
  {
   "cell_type": "markdown",
   "metadata": {},
   "source": [
    "## Hypothesis Testing Example: Commute Times"
   ]
  },
  {
   "cell_type": "markdown",
   "metadata": {},
   "source": [
    "Let's define a \"short commute\" as a commute that is strictly less than 15 minutes. According to [Statista](https://www.statista.com/chart/24684/average-duration-of-a-one-way-commute/), 24% of Americans have a short commute. Since many of you live on campus or in IV, we might expect the fraction of students in CMPSC 5a who have a short commute is higher. Does the evidence support this claim?"
   ]
  },
  {
   "cell_type": "markdown",
   "metadata": {},
   "source": [
    "**Null hypothesis:** 24% of students in CMPSC 5a have a short commute.\n",
    "\n",
    "**Alternative Hypothesis:** the fraction of CMPSC 5a students who have a short commute is > 24%."
   ]
  },
  {
   "cell_type": "markdown",
   "metadata": {},
   "source": [
    "To perform a hypothesis test, let's load and clean the `Commute Time` column from the class data survey."
   ]
  },
  {
   "cell_type": "code",
   "execution_count": 15,
   "metadata": {},
   "outputs": [
    {
     "data": {
      "text/html": [
       "<table border=\"1\" class=\"dataframe\">\n",
       "    <thead>\n",
       "        <tr>\n",
       "            <th>Commute Time</th>\n",
       "        </tr>\n",
       "    </thead>\n",
       "    <tbody>\n",
       "        <tr>\n",
       "            <td>15          </td>\n",
       "        </tr>\n",
       "        <tr>\n",
       "            <td>10          </td>\n",
       "        </tr>\n",
       "        <tr>\n",
       "            <td>30          </td>\n",
       "        </tr>\n",
       "        <tr>\n",
       "            <td>30          </td>\n",
       "        </tr>\n",
       "        <tr>\n",
       "            <td>15          </td>\n",
       "        </tr>\n",
       "    </tbody>\n",
       "</table>\n",
       "<p>... (73 rows omitted)</p>"
      ],
      "text/plain": [
       "<IPython.core.display.HTML object>"
      ]
     },
     "metadata": {},
     "output_type": "display_data"
    }
   ],
   "source": [
    "class_data = Table.read_table('./data/cmpsc5a-classdata-w23.csv')\n",
    "commute_data = class_data.where('Commute Time', are.above_or_equal_to(0)).select('Commute Time')\n",
    "commute_data.show(5)"
   ]
  },
  {
   "cell_type": "markdown",
   "metadata": {},
   "source": [
    "**Question:** what test statistic should we use? Calculate the observed value of the test statistic from the `commute_data` table."
   ]
  },
  {
   "cell_type": "code",
   "execution_count": 16,
   "metadata": {},
   "outputs": [
    {
     "data": {
      "text/plain": [
       "0.5641025641025641"
      ]
     },
     "execution_count": 16,
     "metadata": {},
     "output_type": "execute_result"
    }
   ],
   "source": [
    "observed_frac = sum(commute_data.column('Commute Time') < 15) / 78\n",
    "observed_frac"
   ]
  },
  {
   "cell_type": "markdown",
   "metadata": {},
   "source": [
    "To approximate the distribution of the test statistic, we will need to simulate the results of the class survey (at least the `Commute Time` column) under the null hypothesis. In other words, we will simulate what fraction of the 78 respondents have a short commute, if 24% of the class has a short commute."
   ]
  },
  {
   "cell_type": "code",
   "execution_count": 17,
   "metadata": {},
   "outputs": [],
   "source": [
    "def simulate_responses():\n",
    "    \"\"\"\n",
    "    Simulate the fraction of survey respondents with a short commute,\n",
    "    under the null hypothesis that 24% of the class has a short commute.\n",
    "    \"\"\"\n",
    "    outcome_probabilities = make_array(0.24, 0.76)\n",
    "    n_responses = 78\n",
    "    simulated_fractions = sample_proportions(n_responses, outcome_probabilities)\n",
    "    return simulated_fractions.item(0)"
   ]
  },
  {
   "cell_type": "code",
   "execution_count": 20,
   "metadata": {},
   "outputs": [
    {
     "data": {
      "text/plain": [
       "0.2692307692307692"
      ]
     },
     "execution_count": 20,
     "metadata": {},
     "output_type": "execute_result"
    }
   ],
   "source": [
    "simulate_responses()"
   ]
  },
  {
   "cell_type": "markdown",
   "metadata": {},
   "source": [
    "We will approximate the distribution of the test statistic under the null hypothesis by simulating the responses 10,000 times. We will then plot a histogram of the results, and compare it to the observed value of the test statistic."
   ]
  },
  {
   "cell_type": "code",
   "execution_count": 21,
   "metadata": {},
   "outputs": [],
   "source": [
    "simulated_stats = make_array()\n",
    "for i in range(10000):\n",
    "    simulated_stats = np.append(simulated_stats, simulate_responses())"
   ]
  },
  {
   "cell_type": "code",
   "execution_count": 23,
   "metadata": {},
   "outputs": [
    {
     "data": {
      "text/plain": [
       "10000"
      ]
     },
     "execution_count": 23,
     "metadata": {},
     "output_type": "execute_result"
    }
   ],
   "source": [
    "len(simulated_stats)"
   ]
  },
  {
   "cell_type": "code",
   "execution_count": 24,
   "metadata": {},
   "outputs": [
    {
     "data": {
      "image/png": "[encoded data removed]",
      "text/plain": [
       "<Figure size 600x400 with 1 Axes>"
      ]
     },
     "metadata": {},
     "output_type": "display_data"
    }
   ],
   "source": [
    "# Generate a histogram for the distribution of the test statistic\n",
    "my_bins = np.arange(0, 0.6, 0.025)\n",
    "Table().with_column('Simulated Fraction with Short Commute', simulated_stats).hist(0, bins=my_bins)\n",
    "\n",
    "# Plot the observed value of the test statistic\n",
    "plots.ylim([-0.5, 9])\n",
    "plots.scatter(observed_frac, 0, color='red', s=30);"
   ]
  },
  {
   "cell_type": "markdown",
   "metadata": {},
   "source": [
    "**Question:** can we reject the null hypothesis? What do we conclude?"
   ]
  },
  {
   "cell_type": "code",
   "execution_count": null,
   "metadata": {},
   "outputs": [],
   "source": [
    "# Yes!"
   ]
  },
  {
   "cell_type": "markdown",
   "metadata": {},
   "source": [
    "## Example: Computing p-Values"
   ]
  },
  {
   "cell_type": "markdown",
   "metadata": {},
   "source": [
    "Suppose that we find a coin on the sidewalk and want to decide if it's fair (i.e., a 50-50 chance of landing heads or tails). "
   ]
  },
  {
   "cell_type": "markdown",
   "metadata": {},
   "source": [
    "**Null Hypothesis:** the coin has a 50% chance of landing on heads and 50% chance of landing on tails each flip."
   ]
  },
  {
   "cell_type": "markdown",
   "metadata": {},
   "source": [
    "**Alternative Hypothesis:** the null hypothesis is wrong, i.e., the coin is biased."
   ]
  },
  {
   "cell_type": "markdown",
   "metadata": {},
   "source": [
    "**Data:** we flip the coin 100 times and find that it lands on heads 58% of the time."
   ]
  },
  {
   "cell_type": "markdown",
   "metadata": {},
   "source": [
    "**Test statistic:** we use `abs(frac_heads - 0.5)`. Larger values indicate that the actual observed fraction of heads if further from the expected value of 0.5 under the null hypothesis, so *large values of this statistic suggest that the null hypothesis is wrong.*"
   ]
  },
  {
   "cell_type": "markdown",
   "metadata": {},
   "source": [
    "**Question:** what is the observed value of the test statistic?"
   ]
  },
  {
   "cell_type": "code",
   "execution_count": null,
   "metadata": {},
   "outputs": [],
   "source": [
    "# ..."
   ]
  },
  {
   "cell_type": "markdown",
   "metadata": {},
   "source": [
    "To approximate the distribution of the test statistic predicted by the null hypothesis, we can use the `sample_proportions` function to simulate the outcome of 100 fair coin flips."
   ]
  },
  {
   "cell_type": "code",
   "execution_count": null,
   "metadata": {},
   "outputs": [],
   "source": [
    "coin_test_stats = make_array()\n",
    "for i in range(10000):\n",
    "    \n",
    "    # Simulate the fraction of heads / tails out of 100 fair coin flips\n",
    "    simulated_outcomes = sample_proportions(100, make_array(0.5, 0.5))\n",
    "    frac_heads = simulated_outcomes.item(0)\n",
    "    \n",
    "    # Compute the test statistic and append it to the coin_test_stats array\n",
    "    simulated_test_stat = abs(frac_heads - 0.5)\n",
    "    coin_test_stats = np.append(coin_test_stats, simulated_test_stat)"
   ]
  },
  {
   "cell_type": "markdown",
   "metadata": {},
   "source": [
    "To conclude the test, we will plot the distribution of the test statistic predicted by the null hypothesis, and compare it to the observed value of the test statistic."
   ]
  },
  {
   "cell_type": "code",
   "execution_count": null,
   "metadata": {},
   "outputs": [],
   "source": [
    "# Plot a histogram of the test statistic distribution\n",
    "my_bins = np.arange(0, 0.22, 0.02)\n",
    "Table().with_column('Simulated Test Stats', coin_test_stats).hist(bins=my_bins)\n",
    "\n",
    "# Mark the observed value on the histogram \n",
    "plots.ylim([-0.5, 18])\n",
    "plots.scatter(0.08, 0, color='red', s=30);"
   ]
  },
  {
   "cell_type": "markdown",
   "metadata": {},
   "source": [
    "The observed value is larger than most of the simulated outcomes, indicating that observing this data would be unlikely if the null hypothesis were true. But is it so unlikely that we have disproven the null hypothesis, demonstrating that the coin is biased?"
   ]
  },
  {
   "cell_type": "markdown",
   "metadata": {},
   "source": [
    "**Question:** using the `coin_test_stats` array, calculate the $p$-value. In other words, calculate what fraction of the test statistics simulated under the null hypothesis are *at least as large* as the observed value of 0.08."
   ]
  },
  {
   "cell_type": "code",
   "execution_count": null,
   "metadata": {},
   "outputs": [],
   "source": [
    "# ..."
   ]
  },
  {
   "cell_type": "markdown",
   "metadata": {},
   "source": [
    "**Question:** the data isn't very consistent with the null hypothesis, but is the result *statistically significant*? What is the outcome of the hypothesis test?"
   ]
  },
  {
   "cell_type": "code",
   "execution_count": null,
   "metadata": {},
   "outputs": [],
   "source": [
    "# ..."
   ]
  }
 ],
 "metadata": {
  "anaconda-cloud": {},
  "kernelspec": {
   "display_name": "Python 3 (ipykernel)",
   "language": "python",
   "name": "python3"
  },
  "language_info": {
   "codemirror_mode": {
    "name": "ipython",
    "version": 3
   },
   "file_extension": ".py",
   "mimetype": "text/x-python",
   "name": "python",
   "nbconvert_exporter": "python",
   "pygments_lexer": "ipython3",
   "version": "3.10.8"
  },
  "toc": {
   "base_numbering": 1,
   "nav_menu": {},
   "number_sections": false,
   "sideBar": true,
   "skip_h1_title": false,
   "title_cell": "Table of Contents",
   "title_sidebar": "Contents",
   "toc_cell": false,
   "toc_position": {},
   "toc_section_display": true,
   "toc_window_display": false
  }
 },
 "nbformat": 4,
 "nbformat_minor": 4
}
