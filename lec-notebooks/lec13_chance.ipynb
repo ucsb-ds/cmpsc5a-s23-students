{
 "cells": [
  {
   "cell_type": "code",
   "execution_count": null,
   "metadata": {
    "tags": []
   },
   "outputs": [],
   "source": [
    "from datascience import *\n",
    "%matplotlib inline\n",
    "\n",
    "import matplotlib.pyplot as plt\n",
    "plt.style.use('fivethirtyeight')\n",
    "import numpy as np\n",
    "import warnings\n",
    "warnings.simplefilter(action='ignore', category=np.VisibleDeprecationWarning)"
   ]
  },
  {
   "cell_type": "markdown",
   "metadata": {},
   "source": [
    "## Simulation"
   ]
  },
  {
   "cell_type": "code",
   "execution_count": null,
   "metadata": {
    "tags": []
   },
   "outputs": [],
   "source": [
    "coin = make_array('heads', 'tails')"
   ]
  },
  {
   "cell_type": "code",
   "execution_count": null,
   "metadata": {
    "tags": []
   },
   "outputs": [],
   "source": [
    "np.random.choice(coin)"
   ]
  },
  {
   "cell_type": "code",
   "execution_count": null,
   "metadata": {
    "tags": []
   },
   "outputs": [],
   "source": [
    "np.random.choice(coin, 10)"
   ]
  },
  {
   "cell_type": "code",
   "execution_count": null,
   "metadata": {
    "tags": []
   },
   "outputs": [],
   "source": [
    "sum(np.random.choice(coin, 10) == 'heads')"
   ]
  },
  {
   "cell_type": "code",
   "execution_count": null,
   "metadata": {
    "tags": []
   },
   "outputs": [],
   "source": [
    "# Simulate one outcome\n",
    "\n",
    "def heads_in_100_tosses():\n",
    "    return sum(np.random.choice(coin, 100) == 'heads')"
   ]
  },
  {
   "cell_type": "code",
   "execution_count": null,
   "metadata": {
    "tags": []
   },
   "outputs": [],
   "source": [
    "# Decide how many times you want to repeat the experiment\n",
    "\n",
    "num_simulations = 10000"
   ]
  },
  {
   "cell_type": "code",
   "execution_count": null,
   "metadata": {
    "tags": []
   },
   "outputs": [],
   "source": [
    "# Simulate that many outcomes\n",
    "\n",
    "outcomes = make_array()\n",
    "\n",
    "for i in np.arange(num_simulations):\n",
    "    outcomes = np.append(outcomes, heads_in_100_tosses())\n",
    "    \n",
    "outcomes"
   ]
  },
  {
   "cell_type": "code",
   "execution_count": null,
   "metadata": {
    "tags": []
   },
   "outputs": [],
   "source": [
    "heads = Table().with_column('Heads', outcomes)\n",
    "heads.hist(bins = np.arange(24.5, 76.5))"
   ]
  },
  {
   "cell_type": "markdown",
   "metadata": {},
   "source": [
    "# Chance #"
   ]
  },
  {
   "cell_type": "markdown",
   "metadata": {},
   "source": [
    "### Probability Question\n",
    "- I have three cards: ace of hearts, king of diamonds, and queen of spades.\n",
    "- I shuffle them and draw two cards at random without replacement.\n",
    "- What is the chance that I get the Queen followed by the King?"
   ]
  },
  {
   "cell_type": "markdown",
   "metadata": {},
   "source": [
    "**Answer**: \n",
    "|outcome   | first | second |\n",
    "| :--| :--| :--|\n",
    "|1 | ace   | king| \n",
    "|2 | ace   | queen |\n",
    "|3 | king  | ace |\n",
    "|4 | king  | queen|\n",
    "|4 | queen | ace |\n",
    "|6 | **queen** | **king** |\n",
    "\n",
    "There are 6 possible outcomes: First round I had 3 different options, second round I had 2 different options. I.e. total possible outcomes:  $3*2$\n",
    "\n",
    "The chance of getting Queen followed by King is 1/6."
   ]
  },
  {
   "cell_type": "markdown",
   "metadata": {},
   "source": [
    "**Multiplication rule:**\n",
    "\n",
    "1. A K [Q] \n",
    "    - chance: 1/3\n",
    "2. A [K]\n",
    "    - chance: 1/2"
   ]
  },
  {
   "cell_type": "code",
   "execution_count": null,
   "metadata": {
    "tags": []
   },
   "outputs": [],
   "source": [
    "cards = make_array('ace', 'king', 'queen')"
   ]
  },
  {
   "cell_type": "code",
   "execution_count": null,
   "metadata": {
    "tags": []
   },
   "outputs": [],
   "source": [
    "np.random.choice(cards, 2, replace=False)"
   ]
  },
  {
   "cell_type": "markdown",
   "metadata": {
    "tags": []
   },
   "source": [
    "---\n",
    "back to slides\n",
    "\n",
    "---"
   ]
  },
  {
   "cell_type": "markdown",
   "metadata": {},
   "source": [
    "### Another Question\n",
    "- I have three cards: ace of hearts, king of diamonds, and queen of spades.\n",
    "- I shuffle them and draw two cards at random without replacement.\n",
    "- What is the chance that one of the cards I draw is a King and the other is Queen?"
   ]
  },
  {
   "cell_type": "markdown",
   "metadata": {
    "tags": []
   },
   "source": [
    "**Answer**: \n",
    "|outcome   | first | second |\n",
    "| :--| :--| :--|\n",
    "|1 | ace   | king| \n",
    "|2 | ace   | queen |\n",
    "|3 | king  | ace |\n",
    "|4 | **king**  | **queen** |\n",
    "|4 | queen | ace |\n",
    "|6 | **queen** | **king** |\n",
    "\n",
    "There are 6 possible outcomes: First round I had 3 different options, second round I had 2 different options. I.e. total possible outcomes:  $3*2$\n",
    "\n",
    "The chance of getting a king and a queen is \n",
    "$2/6 = 1/6 + 1/6$"
   ]
  },
  {
   "cell_type": "markdown",
   "metadata": {
    "tags": []
   },
   "source": [
    "--- \n",
    "back to slides\n",
    "\n",
    "---"
   ]
  },
  {
   "cell_type": "markdown",
   "metadata": {},
   "source": [
    "## Discussion question\n",
    "A population has 100 people, including Rick and Morty.\n",
    "We sample two people at random without replacement.\n",
    "\n",
    "1. P(both Rick and Morty are in the sample)\n",
    "1. P(neither Rick nor Morty is in the sample)"
   ]
  },
  {
   "cell_type": "markdown",
   "metadata": {},
   "source": [
    "P(both Rick and Morty are in the sample) <br/>\n",
    " = P(first Rick, then Morty) + P(first Morty, then Rick)  <br/>\n",
    " = (1/100) * (1/99)   +   (1/100) * (1/99)        <br/>\n",
    " = (2/100) * (1/99) <br/>\n",
    " =  0.0002\n",
    "\n",
    "\n",
    "P(neither Rick nor Morty is in the sample) <br/>\n",
    "= (98/100) * (97/99) <br/>\n",
    "=  0.9602\n"
   ]
  },
  {
   "cell_type": "markdown",
   "metadata": {
    "tags": []
   },
   "source": [
    "---\n",
    "back to slides\n",
    "\n",
    "---"
   ]
  },
  {
   "cell_type": "markdown",
   "metadata": {},
   "source": [
    "### The Monty Hall Problem ###"
   ]
  },
  {
   "cell_type": "code",
   "execution_count": null,
   "metadata": {
    "tags": []
   },
   "outputs": [],
   "source": [
    "doors = make_array('car', 'first goat', 'second goat')\n",
    "doors"
   ]
  },
  {
   "cell_type": "code",
   "execution_count": null,
   "metadata": {
    "tags": []
   },
   "outputs": [],
   "source": [
    "def monty_hall():\n",
    "    \"\"\"Return \n",
    "    [contestant's guess, what Monty reveals, what remains behind the other door]\"\"\"\n",
    "    \n",
    "    contestant_choice = np.random.choice(doors)\n",
    "    \n",
    "    if contestant_choice == 'first goat':\n",
    "        monty_choice = 'second goat'\n",
    "        remaining_choice = 'car' # Contestant wins if they switch door\n",
    "    \n",
    "    if contestant_choice == 'second goat':\n",
    "        monty_choice = 'first goat'\n",
    "        remaining_choice = 'car' # Contestant wins if they switch door\n",
    "    \n",
    "    if contestant_choice == 'car':\n",
    "        monty_choice = np.random.choice(['first goat', 'second goat'])\n",
    "        if monty_choice == 'first goat':\n",
    "            remaining_choice = 'second goat' # Contestant looses if they switch door\n",
    "        elif monty_choice == 'second goat':\n",
    "            remaining_choice = 'first goat' # Contestant looses if they switch door        \n",
    "        \n",
    "    return [contestant_choice, monty_choice, remaining_choice]"
   ]
  },
  {
   "cell_type": "code",
   "execution_count": null,
   "metadata": {
    "tags": []
   },
   "outputs": [],
   "source": [
    "monty_hall()"
   ]
  },
  {
   "cell_type": "code",
   "execution_count": null,
   "metadata": {
    "tags": []
   },
   "outputs": [],
   "source": [
    "results = Table(['Guess', 'Revealed', 'Remaining'])\n",
    "\n",
    "for i in np.arange(10000):\n",
    "    results.append(monty_hall())"
   ]
  },
  {
   "cell_type": "code",
   "execution_count": null,
   "metadata": {
    "tags": []
   },
   "outputs": [],
   "source": [
    "results.show(3)"
   ]
  },
  {
   "cell_type": "code",
   "execution_count": null,
   "metadata": {
    "tags": []
   },
   "outputs": [],
   "source": [
    "results.group('Guess').barh('Guess')"
   ]
  },
  {
   "cell_type": "code",
   "execution_count": null,
   "metadata": {
    "tags": []
   },
   "outputs": [],
   "source": [
    "results.group('Remaining').barh('Remaining')"
   ]
  },
  {
   "cell_type": "code",
   "execution_count": null,
   "metadata": {},
   "outputs": [],
   "source": []
  }
 ],
 "metadata": {
  "kernelspec": {
   "display_name": "Python 3 (ipykernel)",
   "language": "python",
   "name": "python3"
  },
  "language_info": {
   "codemirror_mode": {
    "name": "ipython",
    "version": 3
   },
   "file_extension": ".py",
   "mimetype": "text/x-python",
   "name": "python",
   "nbconvert_exporter": "python",
   "pygments_lexer": "ipython3",
   "version": "3.10.6"
  }
 },
 "nbformat": 4,
 "nbformat_minor": 4
}
