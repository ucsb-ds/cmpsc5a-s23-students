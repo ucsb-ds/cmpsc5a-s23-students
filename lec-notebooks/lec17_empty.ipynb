{
 "cells": [
  {
   "cell_type": "code",
   "execution_count": null,
   "metadata": {
    "tags": []
   },
   "outputs": [],
   "source": [
    "from datascience import *\n",
    "import numpy as np\n",
    "\n",
    "%matplotlib inline\n",
    "import matplotlib.pyplot as plots\n",
    "plots.style.use('fivethirtyeight')"
   ]
  },
  {
   "cell_type": "markdown",
   "metadata": {},
   "source": [
    "## The GSI's Defense ##\n",
    "- find the count of students in every section\n",
    "- find the average score of every section\n",
    "- find the count of students of section 3\n",
    "- find the average score of section 3\n",
    "\n",
    "Find a random sample of students of the same size as the number of students of section 3 and calculate their average score"
   ]
  },
  {
   "cell_type": "code",
   "execution_count": null,
   "metadata": {
    "tags": []
   },
   "outputs": [],
   "source": [
    "scores = Table.read_table('data/scores_by_section.csv')"
   ]
  },
  {
   "cell_type": "code",
   "execution_count": null,
   "metadata": {},
   "outputs": [],
   "source": []
  },
  {
   "cell_type": "markdown",
   "metadata": {},
   "source": [
    "## Make a simulation\n",
    "we just calculated one sample. Let's do this 50 000 times.\n",
    "- Write a function that takes a random sample and calculates the average score (under the hypothesis that the section is like a random sample from the class)\n",
    "- evaluate the functions 50 000 times\n",
    "- plot the results in a histogram (need to create a table first)\n",
    "- add the observed average as a point\n",
    "\n",
    "What do you think; could the TA just have gotten unlucky? "
   ]
  },
  {
   "cell_type": "code",
   "execution_count": null,
   "metadata": {},
   "outputs": [],
   "source": []
  },
  {
   "cell_type": "markdown",
   "metadata": {},
   "source": [
    "---\n",
    "back to slides\n",
    "\n",
    "--- \n",
    "\n",
    "## Conventions About Inconsistency"
   ]
  },
  {
   "cell_type": "markdown",
   "metadata": {},
   "source": [
    "### Approach 1\n",
    "1. Find the area of the histogram that is beyond our observed value.\n",
    "    - How do we find all simulation results that had statistics less than our observed statistic?\n",
    "    \n",
    "1. Find the share of simuations that had statistics less than our observed statistic?\n",
    "    - This is called the `p-value`\n",
    "    \n",
    "1. See if this is less than 5%"
   ]
  },
  {
   "cell_type": "code",
   "execution_count": null,
   "metadata": {},
   "outputs": [],
   "source": []
  },
  {
   "cell_type": "markdown",
   "metadata": {},
   "source": [
    "### Approach 2\n",
    "1. Find simulated value corresponding to 5% of 50,000 = 2500. Call it  `five_percent_point`\n",
    "1. See if this value is greater than observed value"
   ]
  },
  {
   "cell_type": "code",
   "execution_count": null,
   "metadata": {},
   "outputs": [],
   "source": []
  },
  {
   "cell_type": "markdown",
   "metadata": {},
   "source": [
    "### Visual Representation\n",
    "- plot the histogram\n",
    "- add a title\n",
    "- add a line with the `five_percent_point`\n",
    "- add a dot for the the observed average"
   ]
  },
  {
   "cell_type": "code",
   "execution_count": null,
   "metadata": {},
   "outputs": [],
   "source": []
  }
 ],
 "metadata": {
  "anaconda-cloud": {},
  "kernelspec": {
   "display_name": "Python 3 (ipykernel)",
   "language": "python",
   "name": "python3"
  },
  "language_info": {
   "codemirror_mode": {
    "name": "ipython",
    "version": 3
   },
   "file_extension": ".py",
   "mimetype": "text/x-python",
   "name": "python",
   "nbconvert_exporter": "python",
   "pygments_lexer": "ipython3",
   "version": "3.10.6"
  }
 },
 "nbformat": 4,
 "nbformat_minor": 4
}
