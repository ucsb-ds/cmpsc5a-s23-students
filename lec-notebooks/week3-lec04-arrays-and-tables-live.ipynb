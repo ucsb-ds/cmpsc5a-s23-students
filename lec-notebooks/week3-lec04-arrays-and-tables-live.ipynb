{
 "cells": [
  {
   "cell_type": "code",
   "execution_count": 1,
   "metadata": {
    "hideCode": false,
    "hidePrompt": false
   },
   "outputs": [],
   "source": [
    "from datascience import *\n",
    "import numpy as np\n",
    "\n",
    "%matplotlib inline\n",
    "import matplotlib.pyplot as plots\n",
    "plots.style.use('fivethirtyeight')"
   ]
  },
  {
   "cell_type": "markdown",
   "metadata": {
    "hideCode": false,
    "hidePrompt": false
   },
   "source": [
    "## Types ##"
   ]
  },
  {
   "cell_type": "code",
   "execution_count": 2,
   "metadata": {
    "hideCode": false,
    "hidePrompt": false
   },
   "outputs": [
    {
     "data": {
      "text/plain": [
       "int"
      ]
     },
     "execution_count": 2,
     "metadata": {},
     "output_type": "execute_result"
    }
   ],
   "source": [
    "type(10)"
   ]
  },
  {
   "cell_type": "code",
   "execution_count": 3,
   "metadata": {
    "hideCode": false,
    "hidePrompt": false
   },
   "outputs": [
    {
     "data": {
      "text/plain": [
       "int"
      ]
     },
     "execution_count": 3,
     "metadata": {},
     "output_type": "execute_result"
    }
   ],
   "source": [
    "a = 10\n",
    "type(a)"
   ]
  },
  {
   "cell_type": "code",
   "execution_count": 4,
   "metadata": {
    "hideCode": false,
    "hidePrompt": false
   },
   "outputs": [
    {
     "data": {
      "text/plain": [
       "float"
      ]
     },
     "execution_count": 4,
     "metadata": {},
     "output_type": "execute_result"
    }
   ],
   "source": [
    "type(4.5)"
   ]
  },
  {
   "cell_type": "code",
   "execution_count": 5,
   "metadata": {
    "hideCode": false,
    "hidePrompt": false
   },
   "outputs": [
    {
     "data": {
      "text/plain": [
       "str"
      ]
     },
     "execution_count": 5,
     "metadata": {},
     "output_type": "execute_result"
    }
   ],
   "source": [
    "type('abc')"
   ]
  },
  {
   "cell_type": "code",
   "execution_count": 6,
   "metadata": {},
   "outputs": [
    {
     "data": {
      "text/plain": [
       "builtin_function_or_method"
      ]
     },
     "execution_count": 6,
     "metadata": {},
     "output_type": "execute_result"
    }
   ],
   "source": [
    "type(abs)"
   ]
  },
  {
   "cell_type": "code",
   "execution_count": 7,
   "metadata": {
    "hideCode": false,
    "hidePrompt": false
   },
   "outputs": [
    {
     "data": {
      "text/html": [
       "<table border=\"1\" class=\"dataframe\">\n",
       "    <thead>\n",
       "        <tr>\n",
       "            <th>name</th> <th>material</th> <th>city</th> <th>height</th> <th>completed</th>\n",
       "        </tr>\n",
       "    </thead>\n",
       "    <tbody>\n",
       "        <tr>\n",
       "            <td>One World Trade Center           </td> <td>composite</td> <td>New York City</td> <td>541.3 </td> <td>2014     </td>\n",
       "        </tr>\n",
       "        <tr>\n",
       "            <td>Willis Tower                     </td> <td>steel    </td> <td>Chicago      </td> <td>442.14</td> <td>1974     </td>\n",
       "        </tr>\n",
       "        <tr>\n",
       "            <td>432 Park Avenue                  </td> <td>concrete </td> <td>New York City</td> <td>425.5 </td> <td>2015     </td>\n",
       "        </tr>\n",
       "        <tr>\n",
       "            <td>Trump International Hotel & Tower</td> <td>concrete </td> <td>Chicago      </td> <td>423.22</td> <td>2009     </td>\n",
       "        </tr>\n",
       "        <tr>\n",
       "            <td>Empire State Building            </td> <td>steel    </td> <td>New York City</td> <td>381   </td> <td>1931     </td>\n",
       "        </tr>\n",
       "        <tr>\n",
       "            <td>Bank of America Tower            </td> <td>composite</td> <td>New York City</td> <td>365.8 </td> <td>2009     </td>\n",
       "        </tr>\n",
       "        <tr>\n",
       "            <td>Stratosphere Tower               </td> <td>concrete </td> <td>Las Vegas    </td> <td>350.22</td> <td>1996     </td>\n",
       "        </tr>\n",
       "        <tr>\n",
       "            <td>Aon Center                       </td> <td>steel    </td> <td>Chicago      </td> <td>346.26</td> <td>1973     </td>\n",
       "        </tr>\n",
       "        <tr>\n",
       "            <td>John Hancock Center              </td> <td>steel    </td> <td>Chicago      </td> <td>343.69</td> <td>1969     </td>\n",
       "        </tr>\n",
       "        <tr>\n",
       "            <td>WITI TV Tower                    </td> <td>steel    </td> <td>Shorewood    </td> <td>329   </td> <td>1962     </td>\n",
       "        </tr>\n",
       "    </tbody>\n",
       "</table>\n",
       "<p>... (190 rows omitted)</p>"
      ],
      "text/plain": [
       "name                              | material  | city          | height | completed\n",
       "One World Trade Center            | composite | New York City | 541.3  | 2014\n",
       "Willis Tower                      | steel     | Chicago       | 442.14 | 1974\n",
       "432 Park Avenue                   | concrete  | New York City | 425.5  | 2015\n",
       "Trump International Hotel & Tower | concrete  | Chicago       | 423.22 | 2009\n",
       "Empire State Building             | steel     | New York City | 381    | 1931\n",
       "Bank of America Tower             | composite | New York City | 365.8  | 2009\n",
       "Stratosphere Tower                | concrete  | Las Vegas     | 350.22 | 1996\n",
       "Aon Center                        | steel     | Chicago       | 346.26 | 1973\n",
       "John Hancock Center               | steel     | Chicago       | 343.69 | 1969\n",
       "WITI TV Tower                     | steel     | Shorewood     | 329    | 1962\n",
       "... (190 rows omitted)"
      ]
     },
     "execution_count": 7,
     "metadata": {},
     "output_type": "execute_result"
    }
   ],
   "source": [
    "skyscrapers = Table.read_table('data/skyscrapers.csv')\n",
    "skyscrapers"
   ]
  },
  {
   "cell_type": "code",
   "execution_count": 8,
   "metadata": {
    "hideCode": false,
    "hidePrompt": false
   },
   "outputs": [
    {
     "data": {
      "text/plain": [
       "datascience.tables.Table"
      ]
     },
     "execution_count": 8,
     "metadata": {},
     "output_type": "execute_result"
    }
   ],
   "source": [
    "type(skyscrapers)"
   ]
  },
  {
   "cell_type": "code",
   "execution_count": 9,
   "metadata": {
    "hideCode": false,
    "hidePrompt": false
   },
   "outputs": [
    {
     "data": {
      "text/plain": [
       "bool"
      ]
     },
     "execution_count": 9,
     "metadata": {},
     "output_type": "execute_result"
    }
   ],
   "source": [
    "type(False)"
   ]
  },
  {
   "cell_type": "markdown",
   "metadata": {},
   "source": [
    "**Question:** what will `type(int(float('3.14159')))` return?"
   ]
  },
  {
   "cell_type": "code",
   "execution_count": null,
   "metadata": {},
   "outputs": [],
   "source": [
    "type(int(float('3.14159')))"
   ]
  },
  {
   "cell_type": "markdown",
   "metadata": {
    "hideCode": false,
    "hidePrompt": false
   },
   "source": [
    "## Arrays"
   ]
  },
  {
   "cell_type": "code",
   "execution_count": 10,
   "metadata": {
    "hideCode": false,
    "hidePrompt": false
   },
   "outputs": [
    {
     "data": {
      "text/plain": [
       "array([67, 60, 71, 63, 65])"
      ]
     },
     "execution_count": 10,
     "metadata": {},
     "output_type": "execute_result"
    }
   ],
   "source": [
    "heights = make_array(67, 60, 71, 63, 65) # make an array\n",
    "heights"
   ]
  },
  {
   "cell_type": "code",
   "execution_count": 11,
   "metadata": {
    "hideCode": false,
    "hidePrompt": false
   },
   "outputs": [
    {
     "data": {
      "text/plain": [
       "array([77, 70, 81, 73, 75])"
      ]
     },
     "execution_count": 11,
     "metadata": {},
     "output_type": "execute_result"
    }
   ],
   "source": [
    "heights + 10"
   ]
  },
  {
   "cell_type": "code",
   "execution_count": 12,
   "metadata": {
    "hideCode": false,
    "hidePrompt": false
   },
   "outputs": [
    {
     "data": {
      "text/plain": [
       "array([ 5.58333333,  5.        ,  5.91666667,  5.25      ,  5.41666667])"
      ]
     },
     "execution_count": 12,
     "metadata": {},
     "output_type": "execute_result"
    }
   ],
   "source": [
    "heights / 12"
   ]
  },
  {
   "cell_type": "code",
   "execution_count": 13,
   "metadata": {
    "hideCode": false,
    "hidePrompt": false
   },
   "outputs": [
    {
     "data": {
      "text/plain": [
       "array([134, 120, 142, 126, 130])"
      ]
     },
     "execution_count": 13,
     "metadata": {},
     "output_type": "execute_result"
    }
   ],
   "source": [
    "heights * 2"
   ]
  },
  {
   "cell_type": "code",
   "execution_count": 14,
   "metadata": {
    "hideCode": false,
    "hidePrompt": false
   },
   "outputs": [
    {
     "data": {
      "text/plain": [
       "array([134, 120, 142, 126, 130])"
      ]
     },
     "execution_count": 14,
     "metadata": {},
     "output_type": "execute_result"
    }
   ],
   "source": [
    "heights + heights"
   ]
  },
  {
   "cell_type": "code",
   "execution_count": 15,
   "metadata": {},
   "outputs": [
    {
     "data": {
      "text/plain": [
       "array([     67,     160,    1071,   10063, 1000065])"
      ]
     },
     "execution_count": 15,
     "metadata": {},
     "output_type": "execute_result"
    }
   ],
   "source": [
    "heights + make_array(0, 100, 1000, 10000, 1000000)"
   ]
  },
  {
   "cell_type": "code",
   "execution_count": 16,
   "metadata": {
    "hideCode": false,
    "hidePrompt": false
   },
   "outputs": [
    {
     "data": {
      "text/plain": [
       "5"
      ]
     },
     "execution_count": 16,
     "metadata": {},
     "output_type": "execute_result"
    }
   ],
   "source": [
    "len(heights)"
   ]
  },
  {
   "cell_type": "code",
   "execution_count": 17,
   "metadata": {
    "hideCode": false,
    "hidePrompt": false
   },
   "outputs": [
    {
     "data": {
      "text/plain": [
       "326"
      ]
     },
     "execution_count": 17,
     "metadata": {},
     "output_type": "execute_result"
    }
   ],
   "source": [
    "sum(heights)"
   ]
  },
  {
   "cell_type": "code",
   "execution_count": 18,
   "metadata": {
    "hideCode": false,
    "hidePrompt": false
   },
   "outputs": [
    {
     "data": {
      "text/plain": [
       "65.200000000000003"
      ]
     },
     "execution_count": 18,
     "metadata": {},
     "output_type": "execute_result"
    }
   ],
   "source": [
    "sum(heights) / len(heights)"
   ]
  },
  {
   "cell_type": "code",
   "execution_count": 21,
   "metadata": {
    "hideCode": false,
    "hidePrompt": false
   },
   "outputs": [
    {
     "data": {
      "text/plain": [
       "65.200000000000003"
      ]
     },
     "execution_count": 21,
     "metadata": {},
     "output_type": "execute_result"
    }
   ],
   "source": [
    "np.average(heights)"
   ]
  },
  {
   "cell_type": "code",
   "execution_count": 22,
   "metadata": {
    "hideCode": false,
    "hidePrompt": false
   },
   "outputs": [
    {
     "data": {
      "text/plain": [
       "array(['marmots', 'gophers', 'capybaras'],\n",
       "      dtype='<U9')"
      ]
     },
     "execution_count": 22,
     "metadata": {},
     "output_type": "execute_result"
    }
   ],
   "source": [
    "rodents = make_array('marmots', 'gophers', 'capybaras')\n",
    "rodents"
   ]
  },
  {
   "cell_type": "code",
   "execution_count": 23,
   "metadata": {},
   "outputs": [
    {
     "data": {
      "text/plain": [
       "array(['capybaras', 'gophers', 'marmots'],\n",
       "      dtype='<U9')"
      ]
     },
     "execution_count": 23,
     "metadata": {},
     "output_type": "execute_result"
    }
   ],
   "source": [
    "np.sort(rodents)"
   ]
  },
  {
   "cell_type": "code",
   "execution_count": 24,
   "metadata": {},
   "outputs": [
    {
     "data": {
      "text/plain": [
       "array([67, 60, 71, 63, 65])"
      ]
     },
     "execution_count": 24,
     "metadata": {},
     "output_type": "execute_result"
    }
   ],
   "source": [
    "heights"
   ]
  },
  {
   "cell_type": "code",
   "execution_count": 28,
   "metadata": {
    "hideCode": false,
    "hidePrompt": false
   },
   "outputs": [
    {
     "data": {
      "text/plain": [
       "60"
      ]
     },
     "execution_count": 28,
     "metadata": {},
     "output_type": "execute_result"
    }
   ],
   "source": [
    "heights.item(1)"
   ]
  },
  {
   "cell_type": "code",
   "execution_count": 29,
   "metadata": {
    "hideCode": false,
    "hidePrompt": false
   },
   "outputs": [
    {
     "data": {
      "text/plain": [
       "'marmots'"
      ]
     },
     "execution_count": 29,
     "metadata": {},
     "output_type": "execute_result"
    }
   ],
   "source": [
    "rodents.item(0)"
   ]
  },
  {
   "cell_type": "markdown",
   "metadata": {
    "hideCode": false,
    "hidePrompt": false
   },
   "source": [
    "**Question:** how do we get the last item in the `heights` array?"
   ]
  },
  {
   "cell_type": "code",
   "execution_count": 32,
   "metadata": {},
   "outputs": [
    {
     "data": {
      "text/plain": [
       "63"
      ]
     },
     "execution_count": 32,
     "metadata": {},
     "output_type": "execute_result"
    }
   ],
   "source": [
    "heights.item(-2)"
   ]
  },
  {
   "cell_type": "code",
   "execution_count": null,
   "metadata": {
    "hideCode": false,
    "hidePrompt": false,
    "scrolled": true
   },
   "outputs": [],
   "source": [
    "heights.item(5)"
   ]
  },
  {
   "cell_type": "code",
   "execution_count": 33,
   "metadata": {
    "hideCode": false,
    "hidePrompt": false
   },
   "outputs": [
    {
     "data": {
      "text/plain": [
       "numpy.ndarray"
      ]
     },
     "execution_count": 33,
     "metadata": {},
     "output_type": "execute_result"
    }
   ],
   "source": [
    "type(heights)"
   ]
  },
  {
   "cell_type": "markdown",
   "metadata": {
    "hideCode": false,
    "hidePrompt": false
   },
   "source": [
    "## Columns of Tables are Arrays ##"
   ]
  },
  {
   "cell_type": "code",
   "execution_count": 34,
   "metadata": {},
   "outputs": [
    {
     "data": {
      "text/html": [
       "<table border=\"1\" class=\"dataframe\">\n",
       "    <thead>\n",
       "        <tr>\n",
       "            <th>name</th> <th>material</th> <th>city</th> <th>height</th> <th>completed</th>\n",
       "        </tr>\n",
       "    </thead>\n",
       "    <tbody>\n",
       "        <tr>\n",
       "            <td>One World Trade Center           </td> <td>composite</td> <td>New York City</td> <td>541.3 </td> <td>2014     </td>\n",
       "        </tr>\n",
       "        <tr>\n",
       "            <td>Willis Tower                     </td> <td>steel    </td> <td>Chicago      </td> <td>442.14</td> <td>1974     </td>\n",
       "        </tr>\n",
       "        <tr>\n",
       "            <td>432 Park Avenue                  </td> <td>concrete </td> <td>New York City</td> <td>425.5 </td> <td>2015     </td>\n",
       "        </tr>\n",
       "        <tr>\n",
       "            <td>Trump International Hotel & Tower</td> <td>concrete </td> <td>Chicago      </td> <td>423.22</td> <td>2009     </td>\n",
       "        </tr>\n",
       "        <tr>\n",
       "            <td>Empire State Building            </td> <td>steel    </td> <td>New York City</td> <td>381   </td> <td>1931     </td>\n",
       "        </tr>\n",
       "        <tr>\n",
       "            <td>Bank of America Tower            </td> <td>composite</td> <td>New York City</td> <td>365.8 </td> <td>2009     </td>\n",
       "        </tr>\n",
       "        <tr>\n",
       "            <td>Stratosphere Tower               </td> <td>concrete </td> <td>Las Vegas    </td> <td>350.22</td> <td>1996     </td>\n",
       "        </tr>\n",
       "        <tr>\n",
       "            <td>Aon Center                       </td> <td>steel    </td> <td>Chicago      </td> <td>346.26</td> <td>1973     </td>\n",
       "        </tr>\n",
       "        <tr>\n",
       "            <td>John Hancock Center              </td> <td>steel    </td> <td>Chicago      </td> <td>343.69</td> <td>1969     </td>\n",
       "        </tr>\n",
       "        <tr>\n",
       "            <td>WITI TV Tower                    </td> <td>steel    </td> <td>Shorewood    </td> <td>329   </td> <td>1962     </td>\n",
       "        </tr>\n",
       "    </tbody>\n",
       "</table>\n",
       "<p>... (190 rows omitted)</p>"
      ],
      "text/plain": [
       "name                              | material  | city          | height | completed\n",
       "One World Trade Center            | composite | New York City | 541.3  | 2014\n",
       "Willis Tower                      | steel     | Chicago       | 442.14 | 1974\n",
       "432 Park Avenue                   | concrete  | New York City | 425.5  | 2015\n",
       "Trump International Hotel & Tower | concrete  | Chicago       | 423.22 | 2009\n",
       "Empire State Building             | steel     | New York City | 381    | 1931\n",
       "Bank of America Tower             | composite | New York City | 365.8  | 2009\n",
       "Stratosphere Tower                | concrete  | Las Vegas     | 350.22 | 1996\n",
       "Aon Center                        | steel     | Chicago       | 346.26 | 1973\n",
       "John Hancock Center               | steel     | Chicago       | 343.69 | 1969\n",
       "WITI TV Tower                     | steel     | Shorewood     | 329    | 1962\n",
       "... (190 rows omitted)"
      ]
     },
     "execution_count": 34,
     "metadata": {},
     "output_type": "execute_result"
    }
   ],
   "source": [
    "skyscrapers = Table.read_table('data/skyscrapers.csv')\n",
    "skyscrapers"
   ]
  },
  {
   "cell_type": "code",
   "execution_count": 35,
   "metadata": {
    "hideCode": false,
    "hidePrompt": false
   },
   "outputs": [
    {
     "data": {
      "text/html": [
       "<table border=\"1\" class=\"dataframe\">\n",
       "    <thead>\n",
       "        <tr>\n",
       "            <th>name</th> <th>material</th> <th>city</th> <th>height</th> <th>completed</th>\n",
       "        </tr>\n",
       "    </thead>\n",
       "    <tbody>\n",
       "        <tr>\n",
       "            <td>Transamerica Pyramid </td> <td>composite</td> <td>San Francisco</td> <td>260   </td> <td>1972     </td>\n",
       "        </tr>\n",
       "        <tr>\n",
       "            <td>555 California Street</td> <td>steel    </td> <td>San Francisco</td> <td>237.44</td> <td>1969     </td>\n",
       "        </tr>\n",
       "        <tr>\n",
       "            <td>345 California Center</td> <td>steel    </td> <td>San Francisco</td> <td>211.84</td> <td>1986     </td>\n",
       "        </tr>\n",
       "        <tr>\n",
       "            <td>Millennium Tower     </td> <td>concrete </td> <td>San Francisco</td> <td>196.6 </td> <td>2009     </td>\n",
       "        </tr>\n",
       "    </tbody>\n",
       "</table>"
      ],
      "text/plain": [
       "name                  | material  | city          | height | completed\n",
       "Transamerica Pyramid  | composite | San Francisco | 260    | 1972\n",
       "555 California Street | steel     | San Francisco | 237.44 | 1969\n",
       "345 California Center | steel     | San Francisco | 211.84 | 1986\n",
       "Millennium Tower      | concrete  | San Francisco | 196.6  | 2009"
      ]
     },
     "execution_count": 35,
     "metadata": {},
     "output_type": "execute_result"
    }
   ],
   "source": [
    "# Remember what does the table where() function does?\n",
    "sf = skyscrapers.where('city', 'San Francisco')\n",
    "sf"
   ]
  },
  {
   "cell_type": "code",
   "execution_count": 36,
   "metadata": {
    "hideCode": false,
    "hidePrompt": false
   },
   "outputs": [
    {
     "data": {
      "text/html": [
       "<table border=\"1\" class=\"dataframe\">\n",
       "    <thead>\n",
       "        <tr>\n",
       "            <th>height</th>\n",
       "        </tr>\n",
       "    </thead>\n",
       "    <tbody>\n",
       "        <tr>\n",
       "            <td>260   </td>\n",
       "        </tr>\n",
       "        <tr>\n",
       "            <td>237.44</td>\n",
       "        </tr>\n",
       "        <tr>\n",
       "            <td>211.84</td>\n",
       "        </tr>\n",
       "        <tr>\n",
       "            <td>196.6 </td>\n",
       "        </tr>\n",
       "    </tbody>\n",
       "</table>"
      ],
      "text/plain": [
       "height\n",
       "260\n",
       "237.44\n",
       "211.84\n",
       "196.6"
      ]
     },
     "execution_count": 36,
     "metadata": {},
     "output_type": "execute_result"
    }
   ],
   "source": [
    "# Remember what the table select() function does?\n",
    "sf.select('height')"
   ]
  },
  {
   "cell_type": "code",
   "execution_count": 37,
   "metadata": {
    "hideCode": false,
    "hidePrompt": false
   },
   "outputs": [
    {
     "data": {
      "text/plain": [
       "datascience.tables.Table"
      ]
     },
     "execution_count": 37,
     "metadata": {},
     "output_type": "execute_result"
    }
   ],
   "source": [
    "type(sf.select('height'))"
   ]
  },
  {
   "cell_type": "code",
   "execution_count": 38,
   "metadata": {
    "hideCode": false,
    "hidePrompt": false,
    "scrolled": true
   },
   "outputs": [
    {
     "data": {
      "text/plain": [
       "array([ 260.        ,  237.44000244,  211.83999634,  196.6000061 ])"
      ]
     },
     "execution_count": 38,
     "metadata": {},
     "output_type": "execute_result"
    }
   ],
   "source": [
    "sf.column('height')"
   ]
  },
  {
   "cell_type": "code",
   "execution_count": 39,
   "metadata": {
    "hideCode": false,
    "hidePrompt": false
   },
   "outputs": [
    {
     "data": {
      "text/plain": [
       "numpy.ndarray"
      ]
     },
     "execution_count": 39,
     "metadata": {},
     "output_type": "execute_result"
    }
   ],
   "source": [
    "type(sf.column('height')) "
   ]
  },
  {
   "cell_type": "code",
   "execution_count": 40,
   "metadata": {
    "hideCode": false,
    "hidePrompt": false
   },
   "outputs": [
    {
     "data": {
      "text/plain": [
       "226.470001220705"
      ]
     },
     "execution_count": 40,
     "metadata": {},
     "output_type": "execute_result"
    }
   ],
   "source": [
    "np.average(sf.column('height'))"
   ]
  },
  {
   "cell_type": "markdown",
   "metadata": {},
   "source": [
    "**Question:** How do we create an array with the numbers 0, 1, 2, 3, 4, 5, 6?"
   ]
  },
  {
   "cell_type": "code",
   "execution_count": 42,
   "metadata": {},
   "outputs": [
    {
     "data": {
      "text/plain": [
       "array([0, 1, 2, 3, 4, 5, 6])"
      ]
     },
     "execution_count": 42,
     "metadata": {},
     "output_type": "execute_result"
    }
   ],
   "source": [
    "a = make_array(0, 1, 2, 3, 4, 5, 6)\n",
    "a"
   ]
  },
  {
   "cell_type": "markdown",
   "metadata": {},
   "source": [
    "Is there an easier way?"
   ]
  },
  {
   "cell_type": "markdown",
   "metadata": {
    "hideCode": false,
    "hidePrompt": false
   },
   "source": [
    "## Ranges ##"
   ]
  },
  {
   "cell_type": "code",
   "execution_count": 43,
   "metadata": {
    "hideCode": false,
    "hidePrompt": false
   },
   "outputs": [
    {
     "data": {
      "text/plain": [
       "array([0, 1, 2, 3, 4, 5])"
      ]
     },
     "execution_count": 43,
     "metadata": {},
     "output_type": "execute_result"
    }
   ],
   "source": [
    "np.arange(6)"
   ]
  },
  {
   "cell_type": "code",
   "execution_count": 44,
   "metadata": {
    "hideCode": false,
    "hidePrompt": false
   },
   "outputs": [
    {
     "data": {
      "text/plain": [
       "array([0, 1, 2, 3, 4, 5, 6])"
      ]
     },
     "execution_count": 44,
     "metadata": {},
     "output_type": "execute_result"
    }
   ],
   "source": [
    "np.arange(7)"
   ]
  },
  {
   "cell_type": "code",
   "execution_count": 45,
   "metadata": {
    "hideCode": false,
    "hidePrompt": false
   },
   "outputs": [
    {
     "data": {
      "text/plain": [
       "array([ 5,  6,  7,  8,  9, 10])"
      ]
     },
     "execution_count": 45,
     "metadata": {},
     "output_type": "execute_result"
    }
   ],
   "source": [
    "np.arange(5, 11)"
   ]
  },
  {
   "cell_type": "code",
   "execution_count": 46,
   "metadata": {
    "hideCode": false,
    "hidePrompt": false
   },
   "outputs": [
    {
     "data": {
      "text/plain": [
       "array([ 0,  2,  4,  6,  8, 10, 12, 14, 16, 18])"
      ]
     },
     "execution_count": 46,
     "metadata": {},
     "output_type": "execute_result"
    }
   ],
   "source": [
    "np.arange(0, 20, 2)"
   ]
  },
  {
   "cell_type": "code",
   "execution_count": 47,
   "metadata": {
    "hideCode": false,
    "hidePrompt": false
   },
   "outputs": [
    {
     "data": {
      "text/plain": [
       "array([ 0,  2,  4,  6,  8, 10, 12, 14, 16, 18, 20])"
      ]
     },
     "execution_count": 47,
     "metadata": {},
     "output_type": "execute_result"
    }
   ],
   "source": [
    "# What will the last number of this array be?\n",
    "np.arange(0, 21, 2)"
   ]
  },
  {
   "cell_type": "code",
   "execution_count": 48,
   "metadata": {
    "hideCode": false,
    "hidePrompt": false
   },
   "outputs": [
    {
     "data": {
      "text/plain": [
       "array([ 0. ,  0.1,  0.2,  0.3,  0.4,  0.5,  0.6,  0.7,  0.8,  0.9])"
      ]
     },
     "execution_count": 48,
     "metadata": {},
     "output_type": "execute_result"
    }
   ],
   "source": [
    "# What will the last number of this array be?\n",
    "np.arange(0, 1, 0.1)"
   ]
  },
  {
   "cell_type": "markdown",
   "metadata": {},
   "source": [
    "**Question 1:** can we create an array from 0 to 100, including 100, with a step increase of 10?"
   ]
  },
  {
   "cell_type": "code",
   "execution_count": 56,
   "metadata": {},
   "outputs": [
    {
     "data": {
      "text/plain": [
       "array([  0,  10,  20,  30,  40,  50,  60,  70,  80,  90, 100])"
      ]
     },
     "execution_count": 56,
     "metadata": {},
     "output_type": "execute_result"
    }
   ],
   "source": [
    "np.arange(0, 109, 10)"
   ]
  },
  {
   "cell_type": "markdown",
   "metadata": {},
   "source": [
    "**Question 2:** can we create an array from 100 to 200, not including 200, with a step increase of 10?"
   ]
  },
  {
   "cell_type": "code",
   "execution_count": 50,
   "metadata": {},
   "outputs": [
    {
     "data": {
      "text/plain": [
       "array([100, 110, 120, 130, 140, 150, 160, 170, 180, 190])"
      ]
     },
     "execution_count": 50,
     "metadata": {},
     "output_type": "execute_result"
    }
   ],
   "source": [
    "np.arange(100, 200, 10)"
   ]
  },
  {
   "cell_type": "markdown",
   "metadata": {},
   "source": [
    "**Challenge question:** can we create an array that *decreases* from 10 to 0 (including both 10 and 0)?"
   ]
  },
  {
   "cell_type": "code",
   "execution_count": 51,
   "metadata": {},
   "outputs": [
    {
     "data": {
      "text/plain": [
       "array([10,  9,  8,  7,  6,  5,  4,  3,  2,  1,  0])"
      ]
     },
     "execution_count": 51,
     "metadata": {},
     "output_type": "execute_result"
    }
   ],
   "source": [
    "np.arange(10, -1, -1)"
   ]
  },
  {
   "cell_type": "code",
   "execution_count": null,
   "metadata": {},
   "outputs": [],
   "source": [
    "help(np.arange)"
   ]
  },
  {
   "cell_type": "markdown",
   "metadata": {
    "hideCode": false,
    "hidePrompt": false
   },
   "source": [
    "## Creating a Table from Scratch ##"
   ]
  },
  {
   "cell_type": "code",
   "execution_count": 57,
   "metadata": {
    "hideCode": false,
    "hidePrompt": false
   },
   "outputs": [
    {
     "data": {
      "text/plain": [
       "array(['dp', 'sabado', 'trigo', 'pasado', 'sueno'],\n",
       "      dtype='<U6')"
      ]
     },
     "execution_count": 57,
     "metadata": {},
     "output_type": "execute_result"
    }
   ],
   "source": [
    "streets = make_array('dp', 'sabado', 'trigo', 'pasado', 'sueno')\n",
    "streets"
   ]
  },
  {
   "cell_type": "code",
   "execution_count": 58,
   "metadata": {
    "hideCode": false,
    "hidePrompt": false
   },
   "outputs": [
    {
     "data": {
      "text/html": [
       "<table border=\"1\" class=\"dataframe\">\n",
       "    <thead>\n",
       "        <tr>\n",
       "            \n",
       "        </tr>\n",
       "    </thead>\n",
       "    <tbody>\n",
       "    </tbody>\n",
       "</table>"
      ],
      "text/plain": []
     },
     "execution_count": 58,
     "metadata": {},
     "output_type": "execute_result"
    }
   ],
   "source": [
    "Table()"
   ]
  },
  {
   "cell_type": "code",
   "execution_count": 59,
   "metadata": {
    "hideCode": false,
    "hidePrompt": false
   },
   "outputs": [
    {
     "data": {
      "text/html": [
       "<table border=\"1\" class=\"dataframe\">\n",
       "    <thead>\n",
       "        <tr>\n",
       "            <th>Streets</th>\n",
       "        </tr>\n",
       "    </thead>\n",
       "    <tbody>\n",
       "        <tr>\n",
       "            <td>dp     </td>\n",
       "        </tr>\n",
       "        <tr>\n",
       "            <td>sabado </td>\n",
       "        </tr>\n",
       "        <tr>\n",
       "            <td>trigo  </td>\n",
       "        </tr>\n",
       "        <tr>\n",
       "            <td>pasado </td>\n",
       "        </tr>\n",
       "        <tr>\n",
       "            <td>sueno  </td>\n",
       "        </tr>\n",
       "    </tbody>\n",
       "</table>"
      ],
      "text/plain": [
       "Streets\n",
       "dp\n",
       "sabado\n",
       "trigo\n",
       "pasado\n",
       "sueno"
      ]
     },
     "execution_count": 59,
     "metadata": {},
     "output_type": "execute_result"
    }
   ],
   "source": [
    "iv = Table().with_column('Streets', streets)\n",
    "iv"
   ]
  },
  {
   "cell_type": "code",
   "execution_count": 60,
   "metadata": {
    "hideCode": false,
    "hidePrompt": false
   },
   "outputs": [
    {
     "data": {
      "text/plain": [
       "array([0, 1, 2, 3, 4])"
      ]
     },
     "execution_count": 60,
     "metadata": {},
     "output_type": "execute_result"
    }
   ],
   "source": [
    "blocks_from_beach = np.arange(len(streets))\n",
    "blocks_from_beach"
   ]
  },
  {
   "cell_type": "code",
   "execution_count": 61,
   "metadata": {},
   "outputs": [
    {
     "data": {
      "text/html": [
       "<table border=\"1\" class=\"dataframe\">\n",
       "    <thead>\n",
       "        <tr>\n",
       "            <th>Streets</th> <th>Blocks from Beach</th>\n",
       "        </tr>\n",
       "    </thead>\n",
       "    <tbody>\n",
       "        <tr>\n",
       "            <td>dp     </td> <td>0                </td>\n",
       "        </tr>\n",
       "        <tr>\n",
       "            <td>sabado </td> <td>1                </td>\n",
       "        </tr>\n",
       "        <tr>\n",
       "            <td>trigo  </td> <td>2                </td>\n",
       "        </tr>\n",
       "        <tr>\n",
       "            <td>pasado </td> <td>3                </td>\n",
       "        </tr>\n",
       "        <tr>\n",
       "            <td>sueno  </td> <td>4                </td>\n",
       "        </tr>\n",
       "    </tbody>\n",
       "</table>"
      ],
      "text/plain": [
       "Streets | Blocks from Beach\n",
       "dp      | 0\n",
       "sabado  | 1\n",
       "trigo   | 2\n",
       "pasado  | 3\n",
       "sueno   | 4"
      ]
     },
     "execution_count": 61,
     "metadata": {},
     "output_type": "execute_result"
    }
   ],
   "source": [
    "iv.with_column('Blocks from Beach', blocks_from_beach)"
   ]
  },
  {
   "cell_type": "code",
   "execution_count": 63,
   "metadata": {},
   "outputs": [
    {
     "data": {
      "text/html": [
       "<table border=\"1\" class=\"dataframe\">\n",
       "    <thead>\n",
       "        <tr>\n",
       "            <th>Streets</th>\n",
       "        </tr>\n",
       "    </thead>\n",
       "    <tbody>\n",
       "        <tr>\n",
       "            <td>dp     </td>\n",
       "        </tr>\n",
       "        <tr>\n",
       "            <td>sabado </td>\n",
       "        </tr>\n",
       "        <tr>\n",
       "            <td>trigo  </td>\n",
       "        </tr>\n",
       "        <tr>\n",
       "            <td>pasado </td>\n",
       "        </tr>\n",
       "        <tr>\n",
       "            <td>sueno  </td>\n",
       "        </tr>\n",
       "    </tbody>\n",
       "</table>"
      ],
      "text/plain": [
       "Streets\n",
       "dp\n",
       "sabado\n",
       "trigo\n",
       "pasado\n",
       "sueno"
      ]
     },
     "execution_count": 63,
     "metadata": {},
     "output_type": "execute_result"
    }
   ],
   "source": [
    "iv\n",
    "# Why isn't there a Blocks from Beach column?"
   ]
  },
  {
   "cell_type": "code",
   "execution_count": 64,
   "metadata": {
    "hideCode": false,
    "hidePrompt": false
   },
   "outputs": [
    {
     "data": {
      "text/html": [
       "<table border=\"1\" class=\"dataframe\">\n",
       "    <thead>\n",
       "        <tr>\n",
       "            <th>Streets</th> <th>Blocks from Beach</th>\n",
       "        </tr>\n",
       "    </thead>\n",
       "    <tbody>\n",
       "        <tr>\n",
       "            <td>dp     </td> <td>0                </td>\n",
       "        </tr>\n",
       "        <tr>\n",
       "            <td>sabado </td> <td>1                </td>\n",
       "        </tr>\n",
       "        <tr>\n",
       "            <td>trigo  </td> <td>2                </td>\n",
       "        </tr>\n",
       "        <tr>\n",
       "            <td>pasado </td> <td>3                </td>\n",
       "        </tr>\n",
       "        <tr>\n",
       "            <td>sueno  </td> <td>4                </td>\n",
       "        </tr>\n",
       "    </tbody>\n",
       "</table>"
      ],
      "text/plain": [
       "Streets | Blocks from Beach\n",
       "dp      | 0\n",
       "sabado  | 1\n",
       "trigo   | 2\n",
       "pasado  | 3\n",
       "sueno   | 4"
      ]
     },
     "execution_count": 64,
     "metadata": {},
     "output_type": "execute_result"
    }
   ],
   "source": [
    "iv = iv.with_column('Blocks from Beach', blocks_from_beach)\n",
    "iv"
   ]
  },
  {
   "cell_type": "code",
   "execution_count": 65,
   "metadata": {},
   "outputs": [
    {
     "data": {
      "text/html": [
       "<table border=\"1\" class=\"dataframe\">\n",
       "    <thead>\n",
       "        <tr>\n",
       "            <th>Streets</th> <th>Blocks from Beach</th>\n",
       "        </tr>\n",
       "    </thead>\n",
       "    <tbody>\n",
       "        <tr>\n",
       "            <td>dp     </td> <td>0                </td>\n",
       "        </tr>\n",
       "        <tr>\n",
       "            <td>sabado </td> <td>1                </td>\n",
       "        </tr>\n",
       "        <tr>\n",
       "            <td>trigo  </td> <td>2                </td>\n",
       "        </tr>\n",
       "        <tr>\n",
       "            <td>pasado </td> <td>3                </td>\n",
       "        </tr>\n",
       "        <tr>\n",
       "            <td>sueno  </td> <td>4                </td>\n",
       "        </tr>\n",
       "    </tbody>\n",
       "</table>"
      ],
      "text/plain": [
       "Streets | Blocks from Beach\n",
       "dp      | 0\n",
       "sabado  | 1\n",
       "trigo   | 2\n",
       "pasado  | 3\n",
       "sueno   | 4"
      ]
     },
     "execution_count": 65,
     "metadata": {},
     "output_type": "execute_result"
    }
   ],
   "source": [
    "iv"
   ]
  },
  {
   "cell_type": "markdown",
   "metadata": {
    "hideCode": false,
    "hidePrompt": false
   },
   "source": [
    "## Reading a Table from a File  ##"
   ]
  },
  {
   "cell_type": "code",
   "execution_count": null,
   "metadata": {
    "hideCode": false,
    "hidePrompt": false
   },
   "outputs": [],
   "source": [
    "int(sum(heights))"
   ]
  },
  {
   "cell_type": "code",
   "execution_count": null,
   "metadata": {
    "hideCode": false,
    "hidePrompt": false
   },
   "outputs": [],
   "source": [
    "strings_array + make_array('A', 'b', 'c')"
   ]
  },
  {
   "cell_type": "code",
   "execution_count": 66,
   "metadata": {
    "hideCode": false,
    "hidePrompt": false
   },
   "outputs": [
    {
     "data": {
      "text/html": [
       "<table border=\"1\" class=\"dataframe\">\n",
       "    <thead>\n",
       "        <tr>\n",
       "            <th>CLASS</th> <th>ACTUAL AVERAGE</th> <th>RENT</th> <th>FOOD</th> <th>CLOTHES</th> <th>TAXES</th> <th>OTHER</th> <th>STATUS</th>\n",
       "        </tr>\n",
       "    </thead>\n",
       "    <tbody>\n",
       "        <tr>\n",
       "            <td>100-200      </td> <td>139.1         </td> <td>0.19</td> <td>0.43</td> <td>0.28   </td> <td>0.001</td> <td>0.099</td> <td>POOR       </td>\n",
       "        </tr>\n",
       "        <tr>\n",
       "            <td>200-300      </td> <td>249.45        </td> <td>0.22</td> <td>0.47</td> <td>0.23   </td> <td>0.04 </td> <td>0.04 </td> <td>POOR       </td>\n",
       "        </tr>\n",
       "        <tr>\n",
       "            <td>300-400      </td> <td>335.66        </td> <td>0.23</td> <td>0.43</td> <td>0.18   </td> <td>0.045</td> <td>0.115</td> <td>FAIR       </td>\n",
       "        </tr>\n",
       "        <tr>\n",
       "            <td>400-500      </td> <td>433.82        </td> <td>0.18</td> <td>0.37</td> <td>0.15   </td> <td>0.055</td> <td>0.245</td> <td>FAIR       </td>\n",
       "        </tr>\n",
       "        <tr>\n",
       "            <td>500-750      </td> <td>547           </td> <td>0.13</td> <td>0.31</td> <td>0.17   </td> <td>0.05 </td> <td>0.34 </td> <td>COMFORTABLE</td>\n",
       "        </tr>\n",
       "        <tr>\n",
       "            <td>750-1000     </td> <td>880           </td> <td>0   </td> <td>0.37</td> <td>0.19   </td> <td>0.08 </td> <td>0.36 </td> <td>COMFORTABLE</td>\n",
       "        </tr>\n",
       "        <tr>\n",
       "            <td>1000 and over</td> <td>1125          </td> <td>0   </td> <td>0.29</td> <td>0.16   </td> <td>0.045</td> <td>0.505</td> <td>WELL-TO-DO </td>\n",
       "        </tr>\n",
       "    </tbody>\n",
       "</table>"
      ],
      "text/plain": [
       "CLASS         | ACTUAL AVERAGE | RENT | FOOD | CLOTHES | TAXES | OTHER | STATUS\n",
       "100-200       | 139.1          | 0.19 | 0.43 | 0.28    | 0.001 | 0.099 | POOR\n",
       "200-300       | 249.45         | 0.22 | 0.47 | 0.23    | 0.04  | 0.04  | POOR\n",
       "300-400       | 335.66         | 0.23 | 0.43 | 0.18    | 0.045 | 0.115 | FAIR\n",
       "400-500       | 433.82         | 0.18 | 0.37 | 0.15    | 0.055 | 0.245 | FAIR\n",
       "500-750       | 547            | 0.13 | 0.31 | 0.17    | 0.05  | 0.34  | COMFORTABLE\n",
       "750-1000      | 880            | 0    | 0.37 | 0.19    | 0.08  | 0.36  | COMFORTABLE\n",
       "1000 and over | 1125           | 0    | 0.29 | 0.16    | 0.045 | 0.505 | WELL-TO-DO"
      ]
     },
     "execution_count": 66,
     "metadata": {},
     "output_type": "execute_result"
    }
   ],
   "source": [
    "du_bois = Table.read_table('data/du_bois.csv')\n",
    "du_bois"
   ]
  },
  {
   "cell_type": "code",
   "execution_count": 76,
   "metadata": {
    "hideCode": false,
    "hidePrompt": false
   },
   "outputs": [
    {
     "data": {
      "text/html": [
       "<table border=\"1\" class=\"dataframe\">\n",
       "    <thead>\n",
       "        <tr>\n",
       "            <th>RENT</th> <th>STATUS</th> <th>CLASS</th>\n",
       "        </tr>\n",
       "    </thead>\n",
       "    <tbody>\n",
       "        <tr>\n",
       "            <td>0.23</td> <td>FAIR       </td> <td>300-400      </td>\n",
       "        </tr>\n",
       "        <tr>\n",
       "            <td>0.22</td> <td>POOR       </td> <td>200-300      </td>\n",
       "        </tr>\n",
       "        <tr>\n",
       "            <td>0.19</td> <td>POOR       </td> <td>100-200      </td>\n",
       "        </tr>\n",
       "        <tr>\n",
       "            <td>0.18</td> <td>FAIR       </td> <td>400-500      </td>\n",
       "        </tr>\n",
       "        <tr>\n",
       "            <td>0.13</td> <td>COMFORTABLE</td> <td>500-750      </td>\n",
       "        </tr>\n",
       "        <tr>\n",
       "            <td>0   </td> <td>COMFORTABLE</td> <td>750-1000     </td>\n",
       "        </tr>\n",
       "        <tr>\n",
       "            <td>0   </td> <td>WELL-TO-DO </td> <td>1000 and over</td>\n",
       "        </tr>\n",
       "    </tbody>\n",
       "</table>"
      ],
      "text/plain": [
       "RENT | STATUS      | CLASS\n",
       "0.23 | FAIR        | 300-400\n",
       "0.22 | POOR        | 200-300\n",
       "0.19 | POOR        | 100-200\n",
       "0.18 | FAIR        | 400-500\n",
       "0.13 | COMFORTABLE | 500-750\n",
       "0    | COMFORTABLE | 750-1000\n",
       "0    | WELL-TO-DO  | 1000 and over"
      ]
     },
     "execution_count": 76,
     "metadata": {},
     "output_type": "execute_result"
    }
   ],
   "source": [
    "# Which group (\"CLASS\") spent the highest percentage on rent?\n",
    "rent_status_class_only = du_bois.select('RENT', 'STATUS','CLASS')\n",
    "rent_status_class_only_sorted = rent_status_class_only.sort('RENT', descending = True)\n",
    "rent_status_class_only_sorted.take(0).select('CLASS') # take first row, selected Class column \n",
    "\n",
    "# The Class, categoried as Fair, with an annual income of $300-400, spent the highest percentage on rent, 23%.\n",
    "rent_status_class_only_sorted"
   ]
  },
  {
   "cell_type": "code",
   "execution_count": null,
   "metadata": {
    "hideCode": false,
    "hidePrompt": false
   },
   "outputs": [],
   "source": []
  },
  {
   "cell_type": "code",
   "execution_count": 82,
   "metadata": {
    "hideCode": false,
    "hidePrompt": false
   },
   "outputs": [
    {
     "data": {
      "text/html": [
       "<table border=\"1\" class=\"dataframe\">\n",
       "    <thead>\n",
       "        <tr>\n",
       "            <th>STATUS</th>\n",
       "        </tr>\n",
       "    </thead>\n",
       "    <tbody>\n",
       "        <tr>\n",
       "            <td>POOR       </td>\n",
       "        </tr>\n",
       "        <tr>\n",
       "            <td>POOR       </td>\n",
       "        </tr>\n",
       "        <tr>\n",
       "            <td>FAIR       </td>\n",
       "        </tr>\n",
       "        <tr>\n",
       "            <td>FAIR       </td>\n",
       "        </tr>\n",
       "        <tr>\n",
       "            <td>COMFORTABLE</td>\n",
       "        </tr>\n",
       "        <tr>\n",
       "            <td>COMFORTABLE</td>\n",
       "        </tr>\n",
       "        <tr>\n",
       "            <td>WELL-TO-DO </td>\n",
       "        </tr>\n",
       "    </tbody>\n",
       "</table>"
      ],
      "text/plain": [
       "STATUS\n",
       "POOR\n",
       "POOR\n",
       "FAIR\n",
       "FAIR\n",
       "COMFORTABLE\n",
       "COMFORTABLE\n",
       "WELL-TO-DO"
      ]
     },
     "execution_count": 82,
     "metadata": {},
     "output_type": "execute_result"
    }
   ],
   "source": [
    "du_bois.select('STATUS') # table format"
   ]
  },
  {
   "cell_type": "code",
   "execution_count": 84,
   "metadata": {
    "hideCode": false,
    "hidePrompt": false
   },
   "outputs": [
    {
     "data": {
      "text/plain": [
       "array(['POOR', 'POOR', 'FAIR', 'FAIR', 'COMFORTABLE', 'COMFORTABLE',\n",
       "       'WELL-TO-DO'],\n",
       "      dtype='<U11')"
      ]
     },
     "execution_count": 84,
     "metadata": {},
     "output_type": "execute_result"
    }
   ],
   "source": [
    "du_bois.column('STATUS') # extracting a column from a table, in an array format\n",
    "# n-dimensional array from the numpy package\n",
    "# array form"
   ]
  },
  {
   "cell_type": "code",
   "execution_count": 85,
   "metadata": {
    "hideCode": false,
    "hidePrompt": false,
    "scrolled": true
   },
   "outputs": [
    {
     "data": {
      "text/html": [
       "<table border=\"1\" class=\"dataframe\">\n",
       "    <thead>\n",
       "        <tr>\n",
       "            <th>STATUS</th>\n",
       "        </tr>\n",
       "    </thead>\n",
       "    <tbody>\n",
       "        <tr>\n",
       "            <td>POOR       </td>\n",
       "        </tr>\n",
       "        <tr>\n",
       "            <td>POOR       </td>\n",
       "        </tr>\n",
       "        <tr>\n",
       "            <td>FAIR       </td>\n",
       "        </tr>\n",
       "        <tr>\n",
       "            <td>FAIR       </td>\n",
       "        </tr>\n",
       "        <tr>\n",
       "            <td>COMFORTABLE</td>\n",
       "        </tr>\n",
       "        <tr>\n",
       "            <td>COMFORTABLE</td>\n",
       "        </tr>\n",
       "        <tr>\n",
       "            <td>WELL-TO-DO </td>\n",
       "        </tr>\n",
       "    </tbody>\n",
       "</table>"
      ],
      "text/plain": [
       "STATUS\n",
       "POOR\n",
       "POOR\n",
       "FAIR\n",
       "FAIR\n",
       "COMFORTABLE\n",
       "COMFORTABLE\n",
       "WELL-TO-DO"
      ]
     },
     "execution_count": 85,
     "metadata": {},
     "output_type": "execute_result"
    }
   ],
   "source": [
    "du_bois.select('STATUS')"
   ]
  },
  {
   "cell_type": "code",
   "execution_count": 86,
   "metadata": {
    "hideCode": false,
    "hidePrompt": false
   },
   "outputs": [
    {
     "data": {
      "text/plain": [
       "array(['POOR', 'POOR', 'FAIR', 'FAIR', 'COMFORTABLE', 'COMFORTABLE',\n",
       "       'WELL-TO-DO'],\n",
       "      dtype='<U11')"
      ]
     },
     "execution_count": 86,
     "metadata": {},
     "output_type": "execute_result"
    }
   ],
   "source": [
    "du_bois.column('STATUS')"
   ]
  },
  {
   "cell_type": "code",
   "execution_count": 87,
   "metadata": {
    "hideCode": false,
    "hidePrompt": false
   },
   "outputs": [
    {
     "data": {
      "text/plain": [
       "5"
      ]
     },
     "execution_count": 87,
     "metadata": {},
     "output_type": "execute_result"
    }
   ],
   "source": [
    "heights.size"
   ]
  },
  {
   "cell_type": "code",
   "execution_count": 88,
   "metadata": {
    "hideCode": false,
    "hidePrompt": false
   },
   "outputs": [
    {
     "data": {
      "text/plain": [
       "array([  139.1 ,   249.45,   335.66,   433.82,   547.  ,   880.  ,  1125.  ])"
      ]
     },
     "execution_count": 88,
     "metadata": {},
     "output_type": "execute_result"
    }
   ],
   "source": [
    "du_bois.column('ACTUAL AVERAGE')"
   ]
  },
  {
   "cell_type": "code",
   "execution_count": 89,
   "metadata": {
    "hideCode": false,
    "hidePrompt": false
   },
   "outputs": [
    {
     "data": {
      "text/plain": [
       "array([ 0.43,  0.47,  0.43,  0.37,  0.31,  0.37,  0.29])"
      ]
     },
     "execution_count": 89,
     "metadata": {},
     "output_type": "execute_result"
    }
   ],
   "source": [
    "du_bois.column('FOOD')"
   ]
  },
  {
   "cell_type": "code",
   "execution_count": 91,
   "metadata": {},
   "outputs": [
    {
     "data": {
      "text/plain": [
       "59.812999999999995"
      ]
     },
     "execution_count": 91,
     "metadata": {},
     "output_type": "execute_result"
    }
   ],
   "source": [
    "139.1*.43\n",
    "# on average, the poorest class spent $59.81 on food per year. That was 43% of their annual income."
   ]
  },
  {
   "cell_type": "code",
   "execution_count": 90,
   "metadata": {
    "hideCode": false,
    "hidePrompt": false
   },
   "outputs": [
    {
     "data": {
      "text/plain": [
       "array([  59.813 ,  117.2415,  144.3338,  160.5134,  169.57  ,  325.6   ,\n",
       "        326.25  ])"
      ]
     },
     "execution_count": 90,
     "metadata": {},
     "output_type": "execute_result"
    }
   ],
   "source": [
    "du_bois.column('ACTUAL AVERAGE') * du_bois.column('FOOD')\n"
   ]
  },
  {
   "cell_type": "code",
   "execution_count": 92,
   "metadata": {
    "hideCode": false,
    "hidePrompt": false
   },
   "outputs": [
    {
     "data": {
      "text/html": [
       "<table border=\"1\" class=\"dataframe\">\n",
       "    <thead>\n",
       "        <tr>\n",
       "            <th>CLASS</th> <th>ACTUAL AVERAGE</th> <th>RENT</th> <th>FOOD</th> <th>CLOTHES</th> <th>TAXES</th> <th>OTHER</th> <th>STATUS</th> <th>Food $</th>\n",
       "        </tr>\n",
       "    </thead>\n",
       "    <tbody>\n",
       "        <tr>\n",
       "            <td>100-200      </td> <td>139.1         </td> <td>0.19</td> <td>0.43</td> <td>0.28   </td> <td>0.001</td> <td>0.099</td> <td>POOR       </td> <td>59.813 </td>\n",
       "        </tr>\n",
       "        <tr>\n",
       "            <td>200-300      </td> <td>249.45        </td> <td>0.22</td> <td>0.47</td> <td>0.23   </td> <td>0.04 </td> <td>0.04 </td> <td>POOR       </td> <td>117.241</td>\n",
       "        </tr>\n",
       "        <tr>\n",
       "            <td>300-400      </td> <td>335.66        </td> <td>0.23</td> <td>0.43</td> <td>0.18   </td> <td>0.045</td> <td>0.115</td> <td>FAIR       </td> <td>144.334</td>\n",
       "        </tr>\n",
       "        <tr>\n",
       "            <td>400-500      </td> <td>433.82        </td> <td>0.18</td> <td>0.37</td> <td>0.15   </td> <td>0.055</td> <td>0.245</td> <td>FAIR       </td> <td>160.513</td>\n",
       "        </tr>\n",
       "        <tr>\n",
       "            <td>500-750      </td> <td>547           </td> <td>0.13</td> <td>0.31</td> <td>0.17   </td> <td>0.05 </td> <td>0.34 </td> <td>COMFORTABLE</td> <td>169.57 </td>\n",
       "        </tr>\n",
       "        <tr>\n",
       "            <td>750-1000     </td> <td>880           </td> <td>0   </td> <td>0.37</td> <td>0.19   </td> <td>0.08 </td> <td>0.36 </td> <td>COMFORTABLE</td> <td>325.6  </td>\n",
       "        </tr>\n",
       "        <tr>\n",
       "            <td>1000 and over</td> <td>1125          </td> <td>0   </td> <td>0.29</td> <td>0.16   </td> <td>0.045</td> <td>0.505</td> <td>WELL-TO-DO </td> <td>326.25 </td>\n",
       "        </tr>\n",
       "    </tbody>\n",
       "</table>"
      ],
      "text/plain": [
       "CLASS         | ACTUAL AVERAGE | RENT | FOOD | CLOTHES | TAXES | OTHER | STATUS      | Food $\n",
       "100-200       | 139.1          | 0.19 | 0.43 | 0.28    | 0.001 | 0.099 | POOR        | 59.813\n",
       "200-300       | 249.45         | 0.22 | 0.47 | 0.23    | 0.04  | 0.04  | POOR        | 117.241\n",
       "300-400       | 335.66         | 0.23 | 0.43 | 0.18    | 0.045 | 0.115 | FAIR        | 144.334\n",
       "400-500       | 433.82         | 0.18 | 0.37 | 0.15    | 0.055 | 0.245 | FAIR        | 160.513\n",
       "500-750       | 547            | 0.13 | 0.31 | 0.17    | 0.05  | 0.34  | COMFORTABLE | 169.57\n",
       "750-1000      | 880            | 0    | 0.37 | 0.19    | 0.08  | 0.36  | COMFORTABLE | 325.6\n",
       "1000 and over | 1125           | 0    | 0.29 | 0.16    | 0.045 | 0.505 | WELL-TO-DO  | 326.25"
      ]
     },
     "execution_count": 92,
     "metadata": {},
     "output_type": "execute_result"
    }
   ],
   "source": [
    "food_dollars = du_bois.column('ACTUAL AVERAGE') * du_bois.column('FOOD') # find out in dollar amounts what each class\n",
    "# spent on food per year, on aerage\n",
    "du_bois = du_bois.with_column(\n",
    "    'Food $',\n",
    "    food_dollars # adding food_dollars array to the du_bois table, and calling it 'Food $'\n",
    ")\n",
    "du_bois"
   ]
  },
  {
   "cell_type": "code",
   "execution_count": 93,
   "metadata": {
    "hideCode": false,
    "hidePrompt": false
   },
   "outputs": [
    {
     "data": {
      "text/html": [
       "<table border=\"1\" class=\"dataframe\">\n",
       "    <thead>\n",
       "        <tr>\n",
       "            <th>CLASS</th> <th>ACTUAL AVERAGE</th> <th>RENT</th> <th>FOOD</th> <th>CLOTHES</th> <th>TAXES</th> <th>OTHER</th> <th>STATUS</th> <th>Food $</th>\n",
       "        </tr>\n",
       "    </thead>\n",
       "    <tbody>\n",
       "        <tr>\n",
       "            <td>100-200      </td> <td>139.1         </td> <td>0.19</td> <td>43.00%</td> <td>0.28   </td> <td>0.001</td> <td>0.099</td> <td>POOR       </td> <td>59.813 </td>\n",
       "        </tr>\n",
       "        <tr>\n",
       "            <td>200-300      </td> <td>249.45        </td> <td>0.22</td> <td>47.00%</td> <td>0.23   </td> <td>0.04 </td> <td>0.04 </td> <td>POOR       </td> <td>117.241</td>\n",
       "        </tr>\n",
       "        <tr>\n",
       "            <td>300-400      </td> <td>335.66        </td> <td>0.23</td> <td>43.00%</td> <td>0.18   </td> <td>0.045</td> <td>0.115</td> <td>FAIR       </td> <td>144.334</td>\n",
       "        </tr>\n",
       "        <tr>\n",
       "            <td>400-500      </td> <td>433.82        </td> <td>0.18</td> <td>37.00%</td> <td>0.15   </td> <td>0.055</td> <td>0.245</td> <td>FAIR       </td> <td>160.513</td>\n",
       "        </tr>\n",
       "        <tr>\n",
       "            <td>500-750      </td> <td>547           </td> <td>0.13</td> <td>31.00%</td> <td>0.17   </td> <td>0.05 </td> <td>0.34 </td> <td>COMFORTABLE</td> <td>169.57 </td>\n",
       "        </tr>\n",
       "        <tr>\n",
       "            <td>750-1000     </td> <td>880           </td> <td>0   </td> <td>37.00%</td> <td>0.19   </td> <td>0.08 </td> <td>0.36 </td> <td>COMFORTABLE</td> <td>325.6  </td>\n",
       "        </tr>\n",
       "        <tr>\n",
       "            <td>1000 and over</td> <td>1125          </td> <td>0   </td> <td>29.00%</td> <td>0.16   </td> <td>0.045</td> <td>0.505</td> <td>WELL-TO-DO </td> <td>326.25 </td>\n",
       "        </tr>\n",
       "    </tbody>\n",
       "</table>"
      ],
      "text/plain": [
       "CLASS         | ACTUAL AVERAGE | RENT | FOOD   | CLOTHES | TAXES | OTHER | STATUS      | Food $\n",
       "100-200       | 139.1          | 0.19 | 43.00% | 0.28    | 0.001 | 0.099 | POOR        | 59.813\n",
       "200-300       | 249.45         | 0.22 | 47.00% | 0.23    | 0.04  | 0.04  | POOR        | 117.241\n",
       "300-400       | 335.66         | 0.23 | 43.00% | 0.18    | 0.045 | 0.115 | FAIR        | 144.334\n",
       "400-500       | 433.82         | 0.18 | 37.00% | 0.15    | 0.055 | 0.245 | FAIR        | 160.513\n",
       "500-750       | 547            | 0.13 | 31.00% | 0.17    | 0.05  | 0.34  | COMFORTABLE | 169.57\n",
       "750-1000      | 880            | 0    | 37.00% | 0.19    | 0.08  | 0.36  | COMFORTABLE | 325.6\n",
       "1000 and over | 1125           | 0    | 29.00% | 0.16    | 0.045 | 0.505 | WELL-TO-DO  | 326.25"
      ]
     },
     "execution_count": 93,
     "metadata": {},
     "output_type": "execute_result"
    }
   ],
   "source": [
    "du_bois.set_format('FOOD', PercentFormatter)"
   ]
  },
  {
   "cell_type": "code",
   "execution_count": null,
   "metadata": {
    "hideCode": false,
    "hidePrompt": false
   },
   "outputs": [],
   "source": [
    "du_bois.select('CLASS', 'ACTUAL AVERAGE', 'FOOD', 'Food $')"
   ]
  },
  {
   "cell_type": "code",
   "execution_count": null,
   "metadata": {
    "hideCode": false,
    "hidePrompt": false
   },
   "outputs": [],
   "source": [
    "du_bois.column('FOOD')"
   ]
  },
  {
   "cell_type": "markdown",
   "metadata": {
    "hideCode": false,
    "hidePrompt": false
   },
   "source": [
    "## Selecting data in a column ##"
   ]
  },
  {
   "cell_type": "code",
   "execution_count": null,
   "metadata": {
    "hideCode": false,
    "hidePrompt": false
   },
   "outputs": [],
   "source": [
    "movies = Table.read_table('data/movies_by_year_with_ticket_price.csv')\n",
    "movies.show()"
   ]
  },
  {
   "cell_type": "code",
   "execution_count": null,
   "metadata": {
    "hideCode": false,
    "hidePrompt": false
   },
   "outputs": [],
   "source": [
    "gross_in_dollars = movies.column('Total Gross') * 1e6\n",
    "tix_sold = gross_in_dollars / movies.column('Average Ticket Price')"
   ]
  },
  {
   "cell_type": "code",
   "execution_count": null,
   "metadata": {
    "hideCode": false,
    "hidePrompt": false
   },
   "outputs": [],
   "source": [
    "movies = movies.with_column('Tickets sold', tix_sold)"
   ]
  },
  {
   "cell_type": "code",
   "execution_count": null,
   "metadata": {
    "hideCode": false,
    "hidePrompt": false
   },
   "outputs": [],
   "source": [
    "movies.show(4)"
   ]
  },
  {
   "cell_type": "code",
   "execution_count": null,
   "metadata": {
    "hideCode": false,
    "hidePrompt": false
   },
   "outputs": [],
   "source": [
    "movies.set_format('Tickets sold', NumberFormatter)"
   ]
  },
  {
   "cell_type": "code",
   "execution_count": null,
   "metadata": {
    "hideCode": false,
    "hidePrompt": false
   },
   "outputs": [],
   "source": [
    "movies.plot('Year', 'Tickets sold')"
   ]
  },
  {
   "cell_type": "code",
   "execution_count": null,
   "metadata": {
    "hideCode": false,
    "hidePrompt": false
   },
   "outputs": [],
   "source": [
    "movies.where('Year', are.between(2000, 2005))"
   ]
  },
  {
   "cell_type": "code",
   "execution_count": null,
   "metadata": {
    "hideCode": false,
    "hidePrompt": false
   },
   "outputs": [],
   "source": [
    "movies.where('Year', 2002)"
   ]
  },
  {
   "cell_type": "code",
   "execution_count": null,
   "metadata": {
    "hideCode": false,
    "hidePrompt": false
   },
   "outputs": [],
   "source": [
    "movies.where('Year', are.equal_to(2002))"
   ]
  },
  {
   "cell_type": "code",
   "execution_count": null,
   "metadata": {
    "hideCode": false,
    "hidePrompt": false
   },
   "outputs": [],
   "source": [
    "movies.where('#1 Movie', are.containing('Harry Potter'))"
   ]
  },
  {
   "cell_type": "code",
   "execution_count": null,
   "metadata": {
    "hideCode": false,
    "hidePrompt": false
   },
   "outputs": [],
   "source": [
    "movies.take(np.arange(2, 5))"
   ]
  }
 ],
 "metadata": {
  "hide_code_all_hidden": false,
  "kernelspec": {
   "display_name": "Python 3 (ipykernel)",
   "language": "python",
   "name": "python3"
  },
  "language_info": {
   "codemirror_mode": {
    "name": "ipython",
    "version": 3
   },
   "file_extension": ".py",
   "mimetype": "text/x-python",
   "name": "python",
   "nbconvert_exporter": "python",
   "pygments_lexer": "ipython3",
   "version": "3.10.8"
  },
  "toc": {
   "base_numbering": 1,
   "nav_menu": {},
   "number_sections": false,
   "sideBar": true,
   "skip_h1_title": false,
   "title_cell": "Table of Contents",
   "title_sidebar": "Contents",
   "toc_cell": false,
   "toc_position": {
    "height": "calc(100% - 180px)",
    "left": "10px",
    "top": "150px",
    "width": "209.006px"
   },
   "toc_section_display": true,
   "toc_window_display": false
  }
 },
 "nbformat": 4,
 "nbformat_minor": 4
}
