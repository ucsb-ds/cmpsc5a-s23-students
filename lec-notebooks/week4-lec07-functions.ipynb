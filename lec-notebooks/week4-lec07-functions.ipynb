{
 "cells": [
  {
   "cell_type": "code",
   "execution_count": null,
   "metadata": {},
   "outputs": [],
   "source": [
    "from datascience import *\n",
    "import numpy as np \n",
    "\n",
    "%matplotlib inline\n",
    "import matplotlib.pyplot as plots\n",
    "plots.style.use('fivethirtyeight')\n",
    "\n",
    "from IPython.display import Image"
   ]
  },
  {
   "cell_type": "markdown",
   "metadata": {},
   "source": [
    "# Lecture 7"
   ]
  },
  {
   "cell_type": "markdown",
   "metadata": {},
   "source": [
    "## Class Data Survey\n",
    "\n",
    "Please fill out the following survey before Wednesday's lecture:\n",
    "https://forms.gle/wv67cXJN6o83vqDbA\n",
    "\n",
    "We will use the data as a (hopefully) interesting case study for learning the `group` method next class. (Individuals will not be identified, and you are free to skip whatever questions you'd like.)"
   ]
  },
  {
   "cell_type": "markdown",
   "metadata": {},
   "source": [
    "## Histograms"
   ]
  },
  {
   "cell_type": "markdown",
   "metadata": {},
   "source": [
    "We will briefly review histograms. First, load the table of top movies from 2017, and add a column containing the age of each movie:"
   ]
  },
  {
   "cell_type": "code",
   "execution_count": null,
   "metadata": {},
   "outputs": [],
   "source": [
    "# Highest grossing movies as of 2017\n",
    "top_movies = Table.read_table('data/top_movies_2017.csv')\n",
    "\n",
    "# Add a column of ages\n",
    "ages = 2023 - top_movies.column('Year')\n",
    "top_movies = top_movies.with_column('Age', ages)\n",
    "\n",
    "top_movies "
   ]
  },
  {
   "cell_type": "markdown",
   "metadata": {},
   "source": [
    "Remember that *bins* are defined by an array, and we can use the `hist` method to visualize the distribution of ages with a histogram:"
   ]
  },
  {
   "cell_type": "code",
   "execution_count": null,
   "metadata": {},
   "outputs": [],
   "source": [
    "# Define the bins [0, 5), [5, 10), [10, 15), ..., [65, 102]\n",
    "my_bins = make_array(0, 5, 10, 15, 25, 40, 65, 102)\n",
    "\n",
    "top_movies.hist('Age', bins = my_bins, unit = 'Year')"
   ]
  },
  {
   "cell_type": "markdown",
   "metadata": {},
   "source": [
    "If we don't want to specify bins ourselves, we can omit the `bins=my_bins` argument, and let Python select bins for us:"
   ]
  },
  {
   "cell_type": "code",
   "execution_count": null,
   "metadata": {},
   "outputs": [],
   "source": [
    "top_movies.hist('Age', unit = 'Year')"
   ]
  },
  {
   "cell_type": "markdown",
   "metadata": {},
   "source": [
    "## Lists\n",
    "\n",
    "Much like arrays, lists are another way of storing sequences in Python. You can create a new list using square brackets `[` and `]`:"
   ]
  },
  {
   "cell_type": "code",
   "execution_count": null,
   "metadata": {},
   "outputs": [],
   "source": [
    "# Define our first list\n",
    "L = [42, 'capybara', min, make_array(1, 2, 3, 4)]"
   ]
  },
  {
   "cell_type": "markdown",
   "metadata": {},
   "source": [
    "This list has 4 elements. You can confirm this using the `len` function:"
   ]
  },
  {
   "cell_type": "code",
   "execution_count": null,
   "metadata": {},
   "outputs": [],
   "source": [
    "len(L)"
   ]
  },
  {
   "cell_type": "markdown",
   "metadata": {},
   "source": [
    "Individual elements of a list can also be accessed using square brackets:"
   ]
  },
  {
   "cell_type": "code",
   "execution_count": null,
   "metadata": {},
   "outputs": [],
   "source": [
    "L[0]"
   ]
  },
  {
   "cell_type": "code",
   "execution_count": null,
   "metadata": {},
   "outputs": [],
   "source": [
    "L[1]"
   ]
  },
  {
   "cell_type": "markdown",
   "metadata": {},
   "source": [
    "**Question:** the last element of `L` is an array. How can you look up the first element of this array?"
   ]
  },
  {
   "cell_type": "code",
   "execution_count": null,
   "metadata": {},
   "outputs": [],
   "source": [
    "# ..."
   ]
  },
  {
   "cell_type": "markdown",
   "metadata": {},
   "source": [
    "We can use lists to add new rows to a table. Let's load a table of top movies each year:"
   ]
  },
  {
   "cell_type": "code",
   "execution_count": null,
   "metadata": {},
   "outputs": [],
   "source": [
    "movies = Table.read_table('data/movies_by_year.csv')\n",
    "movies"
   ]
  },
  {
   "cell_type": "markdown",
   "metadata": {},
   "source": [
    "The table is missing data from 2023. So far this year, 91 movies have been released, with a total gross of $672,638,766. While *Avatar: The Way of Water* was released in 2022, it is still the highest-grossing film of the year 2023. We can append this information to the table using the `with_row` method:"
   ]
  },
  {
   "cell_type": "code",
   "execution_count": null,
   "metadata": {},
   "outputs": [],
   "source": [
    "# Create a list with the relevant data\n",
    "new_row = [2023, 672638766, 91, 'Avatar: The Way of Water']\n",
    "movies = movies.with_row(new_row)\n",
    "\n",
    "# Sort the table so that the 2023 row appears on top\n",
    "movies = movies.sort('Year', descending=True)\n",
    "movies"
   ]
  },
  {
   "cell_type": "markdown",
   "metadata": {},
   "source": [
    "## Functions ##"
   ]
  },
  {
   "cell_type": "markdown",
   "metadata": {},
   "source": [
    "Let's start out by defining a simple function. Given an array of numbers `values`, define `spread(values)` to be the difference between the max and min value:"
   ]
  },
  {
   "cell_type": "code",
   "execution_count": null,
   "metadata": {},
   "outputs": [],
   "source": [
    "def spread(values):\n",
    "    \"\"\"\n",
    "    Takes a set of values and computes the difference between the max and min value.\n",
    "    (Using triple quotes, I can write a string on multiple lines.)\n",
    "    This string serves as a comment, called a 'docstring.'\n",
    "    \"\"\"\n",
    "    return max(values) - min(values)"
   ]
  },
  {
   "cell_type": "code",
   "execution_count": null,
   "metadata": {},
   "outputs": [],
   "source": [
    "help(spread)"
   ]
  },
  {
   "cell_type": "code",
   "execution_count": null,
   "metadata": {},
   "outputs": [],
   "source": [
    "ages = make_array(18, 20, 22, 32)\n",
    "spread(ages)"
   ]
  },
  {
   "cell_type": "markdown",
   "metadata": {},
   "source": [
    "Here's another example of a function:"
   ]
  },
  {
   "cell_type": "markdown",
   "metadata": {},
   "source": [
    "**Question:** define a function `triple` that takes a single input `x` and triples its value:"
   ]
  },
  {
   "cell_type": "code",
   "execution_count": null,
   "metadata": {},
   "outputs": [],
   "source": [
    "# ..."
   ]
  },
  {
   "cell_type": "code",
   "execution_count": null,
   "metadata": {},
   "outputs": [],
   "source": [
    "triple(3)"
   ]
  },
  {
   "cell_type": "code",
   "execution_count": null,
   "metadata": {},
   "outputs": [],
   "source": [
    "num = 4\n",
    "triple(num)"
   ]
  },
  {
   "cell_type": "code",
   "execution_count": null,
   "metadata": {},
   "outputs": [],
   "source": [
    "triple(num * 5)"
   ]
  },
  {
   "cell_type": "markdown",
   "metadata": {},
   "source": [
    "**Discussion question:** What does the function below do?\n",
    "What kind of input does it take?\n",
    "What output will it give?\n",
    "What's a reasonable name?"
   ]
  },
  {
   "cell_type": "code",
   "execution_count": null,
   "metadata": {},
   "outputs": [],
   "source": [
    "def f(s):\n",
    "    return np.round(s / sum(s) * 100, 2)"
   ]
  },
  {
   "cell_type": "code",
   "execution_count": null,
   "metadata": {},
   "outputs": [],
   "source": [
    "# Suggestion: try breaking up the function into several steps\n",
    "# Test out what each step does with different values of s\n",
    "# ..."
   ]
  },
  {
   "cell_type": "markdown",
   "metadata": {},
   "source": [
    "Functions can also take in multiple arguments! Remember the Pythagorean Theorem? Let's define a function to compute the hypotenuse length for a right triangle with side lengths $x$ and $y$:\n",
    "\n",
    "$ h = \\sqrt{ x^2 + y^2 } $"
   ]
  },
  {
   "cell_type": "code",
   "execution_count": null,
   "metadata": {},
   "outputs": [],
   "source": [
    "def hypotenuse(x, y):\n",
    "    \"\"\"\n",
    "    Compute the length of the hypotenuse for a right triangle with side lengths x and y.\n",
    "    \"\"\"\n",
    "    hypot_squared = x ** 2 + y ** 2\n",
    "    return np.sqrt(hypot_squared)"
   ]
  },
  {
   "cell_type": "code",
   "execution_count": null,
   "metadata": {},
   "outputs": [],
   "source": [
    "hypotenuse(9, 12)"
   ]
  },
  {
   "cell_type": "code",
   "execution_count": null,
   "metadata": {},
   "outputs": [],
   "source": [
    "hypotenuse(2, 2)"
   ]
  },
  {
   "cell_type": "markdown",
   "metadata": {},
   "source": [
    "**Question:** If you drive $x$ miles in $t$ hours, then your average speed is $x / t$ miles per hour. Write a function called `average_speed` with two arguments `x` and `t` that returns average speed."
   ]
  },
  {
   "cell_type": "code",
   "execution_count": null,
   "metadata": {},
   "outputs": [],
   "source": [
    "# ..."
   ]
  },
  {
   "cell_type": "markdown",
   "metadata": {},
   "source": [
    "## Apply"
   ]
  },
  {
   "cell_type": "markdown",
   "metadata": {},
   "source": [
    "The table method `apply` calls a function on every entry of a column (or multiple columns), returning an array with the results. Let's look at some basic examples."
   ]
  },
  {
   "cell_type": "markdown",
   "metadata": {},
   "source": [
    "Earlier, we loaded the table of top movies as of 2017, then added a column containing the age of each movie:"
   ]
  },
  {
   "cell_type": "code",
   "execution_count": null,
   "metadata": {},
   "outputs": [],
   "source": [
    "# Load the table of top movies from 2017\n",
    "# Remember this table doesn't have a column for movies ages---we had to calculate that ourselves\n",
    "top_movies_without_age = Table.read_table('data/top_movies_2017.csv')\n",
    "\n",
    "# Select only the top 10 movies so that we don't print out 200 rows\n",
    "top10 = top_movies_without_age.sort('Gross (Adjusted)', descending=True).take(np.arange(10))\n",
    "top10"
   ]
  },
  {
   "cell_type": "markdown",
   "metadata": {},
   "source": [
    "One way to get a column of ages (which we did earlier in this notebook) is to first extract the column of years as an array:"
   ]
  },
  {
   "cell_type": "code",
   "execution_count": null,
   "metadata": {},
   "outputs": [],
   "source": [
    "ages = 2023 - top10.column('Year')\n",
    "top10.with_column('Age', ages)  "
   ]
  },
  {
   "cell_type": "markdown",
   "metadata": {},
   "source": [
    "Another approach is to use the `apply` method."
   ]
  },
  {
   "cell_type": "markdown",
   "metadata": {},
   "source": [
    "**Question:** define a function called `get_age` which takes a single argument `movie_year` and returns the age of the movie."
   ]
  },
  {
   "cell_type": "code",
   "execution_count": null,
   "metadata": {},
   "outputs": [],
   "source": [
    "# ..."
   ]
  },
  {
   "cell_type": "markdown",
   "metadata": {},
   "source": [
    "We can then **apply** our new `get_age` function to each row of the table, using the `apply` method:"
   ]
  },
  {
   "cell_type": "code",
   "execution_count": null,
   "metadata": {},
   "outputs": [],
   "source": [
    "# Apply takes two (or more) arguments:\n",
    "# First is the name of the function to apply \n",
    "# The remaining arguments are names of columns that we are applying the function to\n",
    "ages = top10.apply(get_age, 'Year')\n",
    "ages"
   ]
  },
  {
   "cell_type": "code",
   "execution_count": null,
   "metadata": {},
   "outputs": [],
   "source": [
    "# Again, use the with_column method to add the new ages array as a column of the table\n",
    "top10.with_column('Age', ages)"
   ]
  },
  {
   "cell_type": "markdown",
   "metadata": {},
   "source": [
    "The `apply` method also works with functions that take several arguments."
   ]
  },
  {
   "cell_type": "code",
   "execution_count": null,
   "metadata": {},
   "outputs": [],
   "source": [
    "def get_movie_info(title, gross_adj, year):\n",
    "    \"\"\"\n",
    "    Create a string explaining some basic information about a movie.\n",
    "    Takes 3 arguments: the movie title, adjusted gross earnings, and year as arguments.\n",
    "    \"\"\"\n",
    "    age = 2023 - year\n",
    "    millions = gross_adj / 1000000\n",
    "    millions_rounded_down = int(millions)\n",
    "    return 'The movie ' + title + ' is ' + str(age) + ' years old and made over $' + str(millions_rounded_down) + ' million'"
   ]
  },
  {
   "cell_type": "code",
   "execution_count": null,
   "metadata": {},
   "outputs": [],
   "source": [
    "# Since get_movie_info takes 3 arguments, we need to name 3 columns in the apply function:\n",
    "top10.apply(get_movie_info, 'Title', 'Gross (Adjusted)', 'Year')"
   ]
  },
  {
   "cell_type": "markdown",
   "metadata": {},
   "source": [
    "The order of columns matters! If the order of columns doesn't match the function signature `get_movie_info(title, gross_adj, year)`, then problems can occur:"
   ]
  },
  {
   "cell_type": "code",
   "execution_count": null,
   "metadata": {},
   "outputs": [],
   "source": [
    "# Apply get_movie_info again, but with the columns out of order\n",
    "top10.apply(get_movie_info, 'Title', 'Year', 'Gross (Adjusted)')"
   ]
  },
  {
   "cell_type": "markdown",
   "metadata": {},
   "source": [
    "## Challenge Questions"
   ]
  },
  {
   "cell_type": "markdown",
   "metadata": {},
   "source": [
    "Suppose that we are investigating different models of hybrid cars. A table of hybrid car specs can be read in from `data/cars2016.csv`:"
   ]
  },
  {
   "cell_type": "code",
   "execution_count": null,
   "metadata": {},
   "outputs": [],
   "source": [
    "cars = Table.read_table('data/cars2016.csv')\n",
    "cars"
   ]
  },
  {
   "cell_type": "markdown",
   "metadata": {},
   "source": [
    "**Question 1:** generate a histogram to visualize the distribution of highway MPG for models from the year 2012."
   ]
  },
  {
   "cell_type": "code",
   "execution_count": null,
   "metadata": {},
   "outputs": [],
   "source": [
    "# ..."
   ]
  },
  {
   "cell_type": "markdown",
   "metadata": {},
   "source": [
    "The `cars` table has a column `year`, making it easy to select only rows from the year 2012. But it's not always this easy when working with real-world datasets. What if the `cars2016.csv` file didn't have a column for years? Let's drop this column using the `drop` method:"
   ]
  },
  {
   "cell_type": "code",
   "execution_count": null,
   "metadata": {},
   "outputs": [],
   "source": [
    "cars_without_year = cars.drop('year')\n",
    "cars_without_year"
   ]
  },
  {
   "cell_type": "markdown",
   "metadata": {},
   "source": [
    "Can we still guess the year for each row in the table? Take a look at the `name` column! Let's look at the value of `name` for several rows in the table:"
   ]
  },
  {
   "cell_type": "code",
   "execution_count": null,
   "metadata": {},
   "outputs": [],
   "source": [
    "names_array = cars_without_year.column('name')\n",
    "print(names_array.item(0))\n",
    "print(names_array.item(100))\n",
    "print(names_array.item(1000))\n",
    "print(names_array.item(5000))"
   ]
  },
  {
   "cell_type": "markdown",
   "metadata": {},
   "source": [
    "Do you see a pattern?"
   ]
  },
  {
   "cell_type": "markdown",
   "metadata": {},
   "source": [
    "Given a string `s` with multiple words (separated by spaces), you can use the string method `s.split()` to get a list of each word:"
   ]
  },
  {
   "cell_type": "code",
   "execution_count": null,
   "metadata": {},
   "outputs": [],
   "source": [
    "\"2009 Audi A3 3.2\".split()"
   ]
  },
  {
   "cell_type": "markdown",
   "metadata": {},
   "source": [
    "**Question 2:** define a function called `get_year` with a single argument `name`. The function should take a name from the `cars` table, e.g. \"2009 Audi A3 3.2\", and return a reasonable guess for the year of the car, as an int. "
   ]
  },
  {
   "cell_type": "code",
   "execution_count": null,
   "metadata": {},
   "outputs": [],
   "source": [
    "# ..."
   ]
  },
  {
   "cell_type": "markdown",
   "metadata": {},
   "source": [
    "**Question 3:** using the `apply` method and your new `get_year` function, create an array of ints called `inferred_years`. Add this array to the `cars_without_year` table as a column called `inferred_year`."
   ]
  },
  {
   "cell_type": "code",
   "execution_count": null,
   "metadata": {},
   "outputs": [],
   "source": [
    "# ..."
   ]
  },
  {
   "cell_type": "markdown",
   "metadata": {},
   "source": [
    "Instead of highway MPG, let's look at *combined MPG*. The EPA defines combined MPG as a specific weighted average of city MPG and highway MPG. Given numbers `city_mpg` and `highway_mpg`, the formula is `combined_mpg = 0.55 * city_mpg + 0.45 * highway_mpg`."
   ]
  },
  {
   "cell_type": "markdown",
   "metadata": {},
   "source": [
    "**Question 4:** by defining your own function to calculate `combined_mpg` from two arguments, and using the `apply` method, create an array of combined MPGs. Add this array to the `cars_without_year` table as a column called `combined_mpg`."
   ]
  },
  {
   "cell_type": "code",
   "execution_count": null,
   "metadata": {},
   "outputs": [],
   "source": [
    "# ..."
   ]
  },
  {
   "cell_type": "markdown",
   "metadata": {},
   "source": [
    "**Bonus challenge question:** we've been careful to refer to the years in the `inferred_year` columns as guesses, since while our approach to guessing the years is reasonable, it might not be 100% accurate. Can you calculate the accuracy of our prediction (as a percentage)?\n",
    "\n",
    "*Hint 1:* remember that the `inferred_year` column from the `cars_without_year` table contains our predictions, while the `year` column from the `cars` table contains the true years.\n",
    "\n",
    "*Hint 2:* you can do this using the `apply` method, but remember that `apply` only works on a single table. Feel free to add extra columns to your tables as needed to answer this question.\n",
    "\n",
    "*Hint 3:* I've provided a useful function below. It uses an `if` statement, which we have't learned about yet, but see if you can understand the behavior of this function anyway:"
   ]
  },
  {
   "cell_type": "code",
   "execution_count": null,
   "metadata": {},
   "outputs": [],
   "source": [
    "def numbers_are_equal(x, y):\n",
    "    \"\"\"\n",
    "    Returns 1 if x and y are equal, and 0 otherwise.\n",
    "    \"\"\"\n",
    "    if x == y:     # This is a \"conditional statement.\" We will learn about them next week!\n",
    "        return 1\n",
    "    else:\n",
    "        return 0"
   ]
  },
  {
   "cell_type": "code",
   "execution_count": null,
   "metadata": {},
   "outputs": [],
   "source": [
    "# ..."
   ]
  }
 ],
 "metadata": {
  "anaconda-cloud": {},
  "kernelspec": {
   "display_name": "Python 3 (ipykernel)",
   "language": "python",
   "name": "python3"
  },
  "language_info": {
   "codemirror_mode": {
    "name": "ipython",
    "version": 3
   },
   "file_extension": ".py",
   "mimetype": "text/x-python",
   "name": "python",
   "nbconvert_exporter": "python",
   "pygments_lexer": "ipython3",
   "version": "3.10.8"
  },
  "toc": {
   "base_numbering": 1,
   "nav_menu": {},
   "number_sections": true,
   "sideBar": true,
   "skip_h1_title": false,
   "title_cell": "Table of Contents",
   "title_sidebar": "Contents",
   "toc_cell": false,
   "toc_position": {},
   "toc_section_display": true,
   "toc_window_display": false
  }
 },
 "nbformat": 4,
 "nbformat_minor": 4
}
