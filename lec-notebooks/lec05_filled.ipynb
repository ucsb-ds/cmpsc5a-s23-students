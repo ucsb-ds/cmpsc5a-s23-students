{
 "cells": [
  {
   "cell_type": "code",
   "execution_count": 2,
   "metadata": {
    "tags": []
   },
   "outputs": [],
   "source": [
    "from datascience import *\n",
    "import numpy as np\n",
    "\n",
    "%matplotlib inline\n",
    "import matplotlib.pyplot as plots\n",
    "plots.style.use('fivethirtyeight')"
   ]
  },
  {
   "cell_type": "markdown",
   "metadata": {},
   "source": [
    "# Lecture 05: Census"
   ]
  },
  {
   "cell_type": "markdown",
   "metadata": {},
   "source": [
    "## Table Review: Welcome Survey\n",
    "\n",
    "Complete this [Class Data Survey](https://forms.gle/Bt7rk5aS16XGyDgr6). Individuals will not be identified. You may leave any answers blank. We'll use this Class Data to use the rest of the quarter. Thank you in advance!"
   ]
  },
  {
   "cell_type": "code",
   "execution_count": 4,
   "metadata": {
    "tags": []
   },
   "outputs": [
    {
     "data": {
      "text/html": [
       "<table border=\"1\" class=\"dataframe\">\n",
       "    <thead>\n",
       "        <tr>\n",
       "            <th>Year</th> <th>Extraversion</th> <th>Number of textees</th> <th>Hours of sleep</th> <th>Handedness</th> <th>Pant leg</th> <th>Sleep position</th> <th>Pets</th> <th>Piercings</th>\n",
       "        </tr>\n",
       "    </thead>\n",
       "    <tbody>\n",
       "        <tr>\n",
       "            <td>Second Year</td> <td>2           </td> <td>5                </td> <td>9             </td> <td>Right-handed</td> <td>Right leg in first</td> <td>On your right side</td> <td>Cat, Dog, Fish, Snake, Lizard</td> <td>-3       </td>\n",
       "        </tr>\n",
       "        <tr>\n",
       "            <td>First Year </td> <td>2           </td> <td>3                </td> <td>8             </td> <td>Right-handed</td> <td>I don't know      </td> <td>On your back      </td> <td>None                         </td> <td>-1       </td>\n",
       "        </tr>\n",
       "        <tr>\n",
       "            <td>First Year </td> <td>5           </td> <td>5                </td> <td>8             </td> <td>Right-handed</td> <td>Right leg in first</td> <td>On your left side </td> <td>Bearded dragon               </td> <td>0        </td>\n",
       "        </tr>\n",
       "        <tr>\n",
       "            <td>Third Year </td> <td>8           </td> <td>4                </td> <td>5             </td> <td>Right-handed</td> <td>I don't know      </td> <td>On your back      </td> <td>Bird                         </td> <td>0        </td>\n",
       "        </tr>\n",
       "        <tr>\n",
       "            <td>First Year </td> <td>3           </td> <td>15               </td> <td>6             </td> <td>Left-handed </td> <td>Right leg in first</td> <td>On your back      </td> <td>Bird                         </td> <td>0        </td>\n",
       "        </tr>\n",
       "        <tr>\n",
       "            <td>Second Year</td> <td>3           </td> <td>1                </td> <td>10            </td> <td>Right-handed</td> <td>Right leg in first</td> <td>On your back      </td> <td>Bird                         </td> <td>0        </td>\n",
       "        </tr>\n",
       "        <tr>\n",
       "            <td>First Year </td> <td>8           </td> <td>7                </td> <td>7             </td> <td>Left-handed </td> <td>Right leg in first</td> <td>On your left side </td> <td>Bird                         </td> <td>0        </td>\n",
       "        </tr>\n",
       "        <tr>\n",
       "            <td>First Year </td> <td>6           </td> <td>3                </td> <td>7             </td> <td>Right-handed</td> <td>I don't know      </td> <td>On your right side</td> <td>Bird                         </td> <td>0        </td>\n",
       "        </tr>\n",
       "        <tr>\n",
       "            <td>Second Year</td> <td>8           </td> <td>5                </td> <td>7             </td> <td>Right-handed</td> <td>Left leg in first </td> <td>On your right side</td> <td>Bird                         </td> <td>0        </td>\n",
       "        </tr>\n",
       "        <tr>\n",
       "            <td>First Year </td> <td>3           </td> <td>2                </td> <td>7             </td> <td>Left-handed </td> <td>Right leg in first</td> <td>On your right side</td> <td>Bird                         </td> <td>0        </td>\n",
       "        </tr>\n",
       "    </tbody>\n",
       "</table>\n",
       "<p>... (1491 rows omitted)</p>"
      ],
      "text/plain": [
       "Year        | Extraversion | Number of textees | Hours of sleep | Handedness   | Pant leg           | Sleep position     | Pets                          | Piercings\n",
       "Second Year | 2            | 5                 | 9              | Right-handed | Right leg in first | On your right side | Cat, Dog, Fish, Snake, Lizard | -3\n",
       "First Year  | 2            | 3                 | 8              | Right-handed | I don't know       | On your back       | None                          | -1\n",
       "First Year  | 5            | 5                 | 8              | Right-handed | Right leg in first | On your left side  | Bearded dragon                | 0\n",
       "Third Year  | 8            | 4                 | 5              | Right-handed | I don't know       | On your back       | Bird                          | 0\n",
       "First Year  | 3            | 15                | 6              | Left-handed  | Right leg in first | On your back       | Bird                          | 0\n",
       "Second Year | 3            | 1                 | 10             | Right-handed | Right leg in first | On your back       | Bird                          | 0\n",
       "First Year  | 8            | 7                 | 7              | Left-handed  | Right leg in first | On your left side  | Bird                          | 0\n",
       "First Year  | 6            | 3                 | 7              | Right-handed | I don't know       | On your right side | Bird                          | 0\n",
       "Second Year | 8            | 5                 | 7              | Right-handed | Left leg in first  | On your right side | Bird                          | 0\n",
       "First Year  | 3            | 2                 | 7              | Left-handed  | Right leg in first | On your right side | Bird                          | 0\n",
       "... (1491 rows omitted)"
      ]
     },
     "execution_count": 4,
     "metadata": {},
     "output_type": "execute_result"
    }
   ],
   "source": [
    "survey = Table.read_table('data/welcome_survey_sp23.csv')\n",
    "survey"
   ]
  },
  {
   "cell_type": "markdown",
   "metadata": {},
   "source": [
    "### Find average hours of sleep for side sleepers (hint: use [where-predicates](http://www.data8.org/datascience/reference-nb/datascience-reference.html#Table.where-Predicates))"
   ]
  },
  {
   "cell_type": "code",
   "execution_count": 13,
   "metadata": {
    "tags": []
   },
   "outputs": [
    {
     "data": {
      "text/plain": [
       "7.0674974039460023"
      ]
     },
     "execution_count": 13,
     "metadata": {},
     "output_type": "execute_result"
    }
   ],
   "source": [
    "np.mean(survey.where('Sleep position', are.containing('side')).column('Hours of sleep'))"
   ]
  },
  {
   "cell_type": "markdown",
   "metadata": {},
   "source": [
    "### Average hours of sleep for back sleepers"
   ]
  },
  {
   "cell_type": "code",
   "execution_count": 14,
   "metadata": {
    "tags": []
   },
   "outputs": [
    {
     "data": {
      "text/plain": [
       "7.1225895316804406"
      ]
     },
     "execution_count": 14,
     "metadata": {},
     "output_type": "execute_result"
    }
   ],
   "source": [
    "np.mean(survey.where('Sleep position', are.containing('back')).column('Hours of sleep'))"
   ]
  },
  {
   "cell_type": "markdown",
   "metadata": {
    "tags": []
   },
   "source": [
    "### Share of students sleeping at least 8 hours"
   ]
  },
  {
   "cell_type": "code",
   "execution_count": 18,
   "metadata": {},
   "outputs": [
    {
     "data": {
      "text/plain": [
       "0.3317788141239174"
      ]
     },
     "execution_count": 18,
     "metadata": {},
     "output_type": "execute_result"
    }
   ],
   "source": [
    "total_number_of_students = survey.num_rows\n",
    "number_of_long_sleepers = survey.where('Hours of sleep', are.above_or_equal_to(8)).num_rows\n",
    "\n",
    "number_of_long_sleepers/total_number_of_students"
   ]
  },
  {
   "cell_type": "markdown",
   "metadata": {},
   "source": [
    "### Subset table with only sleep information"
   ]
  },
  {
   "cell_type": "code",
   "execution_count": 20,
   "metadata": {},
   "outputs": [
    {
     "data": {
      "text/html": [
       "<table border=\"1\" class=\"dataframe\">\n",
       "    <thead>\n",
       "        <tr>\n",
       "            <th>Hours of sleep</th> <th>Sleep position</th>\n",
       "        </tr>\n",
       "    </thead>\n",
       "    <tbody>\n",
       "        <tr>\n",
       "            <td>9             </td> <td>On your right side</td>\n",
       "        </tr>\n",
       "        <tr>\n",
       "            <td>8             </td> <td>On your back      </td>\n",
       "        </tr>\n",
       "        <tr>\n",
       "            <td>8             </td> <td>On your left side </td>\n",
       "        </tr>\n",
       "        <tr>\n",
       "            <td>5             </td> <td>On your back      </td>\n",
       "        </tr>\n",
       "        <tr>\n",
       "            <td>6             </td> <td>On your back      </td>\n",
       "        </tr>\n",
       "        <tr>\n",
       "            <td>10            </td> <td>On your back      </td>\n",
       "        </tr>\n",
       "        <tr>\n",
       "            <td>7             </td> <td>On your left side </td>\n",
       "        </tr>\n",
       "        <tr>\n",
       "            <td>7             </td> <td>On your right side</td>\n",
       "        </tr>\n",
       "        <tr>\n",
       "            <td>7             </td> <td>On your right side</td>\n",
       "        </tr>\n",
       "        <tr>\n",
       "            <td>7             </td> <td>On your right side</td>\n",
       "        </tr>\n",
       "    </tbody>\n",
       "</table>\n",
       "<p>... (1491 rows omitted)</p>"
      ],
      "text/plain": [
       "Hours of sleep | Sleep position\n",
       "9              | On your right side\n",
       "8              | On your back\n",
       "8              | On your left side\n",
       "5              | On your back\n",
       "6              | On your back\n",
       "10             | On your back\n",
       "7              | On your left side\n",
       "7              | On your right side\n",
       "7              | On your right side\n",
       "7              | On your right side\n",
       "... (1491 rows omitted)"
      ]
     },
     "execution_count": 20,
     "metadata": {},
     "output_type": "execute_result"
    }
   ],
   "source": [
    "survey.select('Hours of sleep', 'Sleep position')"
   ]
  },
  {
   "cell_type": "markdown",
   "metadata": {},
   "source": [
    "## Discussion Question: NBA Salaries\n",
    "\n",
    "The table nba has columns PLAYER, POSITION, and SALARY\n",
    "\n",
    "**Tasks:**\n",
    "- Rename \"'15-'16 SALARY\" to \"SALARY\" using `relabeled()`\n",
    "- Subset the table to only contain the player name, the position and the salary"
   ]
  },
  {
   "cell_type": "code",
   "execution_count": 21,
   "metadata": {
    "tags": []
   },
   "outputs": [
    {
     "data": {
      "text/html": [
       "<table border=\"1\" class=\"dataframe\">\n",
       "    <thead>\n",
       "        <tr>\n",
       "            <th>PLAYER</th> <th>POSITION</th> <th>TEAM</th> <th>'15-'16 SALARY</th>\n",
       "        </tr>\n",
       "    </thead>\n",
       "    <tbody>\n",
       "        <tr>\n",
       "            <td>Paul Millsap    </td> <td>PF      </td> <td>Atlanta Hawks</td> <td>18.6717       </td>\n",
       "        </tr>\n",
       "        <tr>\n",
       "            <td>Al Horford      </td> <td>C       </td> <td>Atlanta Hawks</td> <td>12            </td>\n",
       "        </tr>\n",
       "        <tr>\n",
       "            <td>Tiago Splitter  </td> <td>C       </td> <td>Atlanta Hawks</td> <td>9.75625       </td>\n",
       "        </tr>\n",
       "        <tr>\n",
       "            <td>Jeff Teague     </td> <td>PG      </td> <td>Atlanta Hawks</td> <td>8             </td>\n",
       "        </tr>\n",
       "        <tr>\n",
       "            <td>Kyle Korver     </td> <td>SG      </td> <td>Atlanta Hawks</td> <td>5.74648       </td>\n",
       "        </tr>\n",
       "        <tr>\n",
       "            <td>Thabo Sefolosha </td> <td>SF      </td> <td>Atlanta Hawks</td> <td>4             </td>\n",
       "        </tr>\n",
       "        <tr>\n",
       "            <td>Mike Scott      </td> <td>PF      </td> <td>Atlanta Hawks</td> <td>3.33333       </td>\n",
       "        </tr>\n",
       "        <tr>\n",
       "            <td>Kent Bazemore   </td> <td>SF      </td> <td>Atlanta Hawks</td> <td>2             </td>\n",
       "        </tr>\n",
       "        <tr>\n",
       "            <td>Dennis Schroder </td> <td>PG      </td> <td>Atlanta Hawks</td> <td>1.7634        </td>\n",
       "        </tr>\n",
       "        <tr>\n",
       "            <td>Tim Hardaway Jr.</td> <td>SG      </td> <td>Atlanta Hawks</td> <td>1.30452       </td>\n",
       "        </tr>\n",
       "    </tbody>\n",
       "</table>\n",
       "<p>... (407 rows omitted)</p>"
      ],
      "text/plain": [
       "PLAYER           | POSITION | TEAM          | '15-'16 SALARY\n",
       "Paul Millsap     | PF       | Atlanta Hawks | 18.6717\n",
       "Al Horford       | C        | Atlanta Hawks | 12\n",
       "Tiago Splitter   | C        | Atlanta Hawks | 9.75625\n",
       "Jeff Teague      | PG       | Atlanta Hawks | 8\n",
       "Kyle Korver      | SG       | Atlanta Hawks | 5.74648\n",
       "Thabo Sefolosha  | SF       | Atlanta Hawks | 4\n",
       "Mike Scott       | PF       | Atlanta Hawks | 3.33333\n",
       "Kent Bazemore    | SF       | Atlanta Hawks | 2\n",
       "Dennis Schroder  | PG       | Atlanta Hawks | 1.7634\n",
       "Tim Hardaway Jr. | SG       | Atlanta Hawks | 1.30452\n",
       "... (407 rows omitted)"
      ]
     },
     "execution_count": 21,
     "metadata": {},
     "output_type": "execute_result"
    }
   ],
   "source": [
    "nba = Table.read_table('data/nba_salaries.csv')\n",
    "nba"
   ]
  },
  {
   "cell_type": "code",
   "execution_count": 28,
   "metadata": {},
   "outputs": [
    {
     "data": {
      "text/html": [
       "<table border=\"1\" class=\"dataframe\">\n",
       "    <thead>\n",
       "        <tr>\n",
       "            <th>PLAYER</th> <th>POSITION</th> <th>TEAM</th> <th>SALARY</th>\n",
       "        </tr>\n",
       "    </thead>\n",
       "    <tbody>\n",
       "        <tr>\n",
       "            <td>Paul Millsap    </td> <td>PF      </td> <td>Atlanta Hawks</td> <td>18.6717</td>\n",
       "        </tr>\n",
       "        <tr>\n",
       "            <td>Al Horford      </td> <td>C       </td> <td>Atlanta Hawks</td> <td>12     </td>\n",
       "        </tr>\n",
       "        <tr>\n",
       "            <td>Tiago Splitter  </td> <td>C       </td> <td>Atlanta Hawks</td> <td>9.75625</td>\n",
       "        </tr>\n",
       "        <tr>\n",
       "            <td>Jeff Teague     </td> <td>PG      </td> <td>Atlanta Hawks</td> <td>8      </td>\n",
       "        </tr>\n",
       "        <tr>\n",
       "            <td>Kyle Korver     </td> <td>SG      </td> <td>Atlanta Hawks</td> <td>5.74648</td>\n",
       "        </tr>\n",
       "        <tr>\n",
       "            <td>Thabo Sefolosha </td> <td>SF      </td> <td>Atlanta Hawks</td> <td>4      </td>\n",
       "        </tr>\n",
       "        <tr>\n",
       "            <td>Mike Scott      </td> <td>PF      </td> <td>Atlanta Hawks</td> <td>3.33333</td>\n",
       "        </tr>\n",
       "        <tr>\n",
       "            <td>Kent Bazemore   </td> <td>SF      </td> <td>Atlanta Hawks</td> <td>2      </td>\n",
       "        </tr>\n",
       "        <tr>\n",
       "            <td>Dennis Schroder </td> <td>PG      </td> <td>Atlanta Hawks</td> <td>1.7634 </td>\n",
       "        </tr>\n",
       "        <tr>\n",
       "            <td>Tim Hardaway Jr.</td> <td>SG      </td> <td>Atlanta Hawks</td> <td>1.30452</td>\n",
       "        </tr>\n",
       "    </tbody>\n",
       "</table>\n",
       "<p>... (407 rows omitted)</p>"
      ],
      "text/plain": [
       "PLAYER           | POSITION | TEAM          | SALARY\n",
       "Paul Millsap     | PF       | Atlanta Hawks | 18.6717\n",
       "Al Horford       | C        | Atlanta Hawks | 12\n",
       "Tiago Splitter   | C        | Atlanta Hawks | 9.75625\n",
       "Jeff Teague      | PG       | Atlanta Hawks | 8\n",
       "Kyle Korver      | SG       | Atlanta Hawks | 5.74648\n",
       "Thabo Sefolosha  | SF       | Atlanta Hawks | 4\n",
       "Mike Scott       | PF       | Atlanta Hawks | 3.33333\n",
       "Kent Bazemore    | SF       | Atlanta Hawks | 2\n",
       "Dennis Schroder  | PG       | Atlanta Hawks | 1.7634\n",
       "Tim Hardaway Jr. | SG       | Atlanta Hawks | 1.30452\n",
       "... (407 rows omitted)"
      ]
     },
     "execution_count": 28,
     "metadata": {},
     "output_type": "execute_result"
    }
   ],
   "source": [
    "nba = nba.relabeled(\"'15-'16 SALARY\", 'SALARY')"
   ]
  },
  {
   "cell_type": "markdown",
   "metadata": {
    "tags": []
   },
   "source": [
    "**Tasks:**\n",
    "- Create an array containing the **names** of all point guards (PG) who make more than 15 MUSD/year. Salaries are given in MUSD"
   ]
  },
  {
   "cell_type": "code",
   "execution_count": 37,
   "metadata": {
    "tags": []
   },
   "outputs": [
    {
     "data": {
      "text/plain": [
       "array(['Derrick Rose', 'Kyrie Irving', 'Chris Paul', 'Russell Westbrook',\n",
       "       'John Wall'],\n",
       "      dtype='<U24')"
      ]
     },
     "execution_count": 37,
     "metadata": {},
     "output_type": "execute_result"
    }
   ],
   "source": [
    "nba.where('POSITION', 'PG').where('SALARY', are.above(15)).column('PLAYER')"
   ]
  },
  {
   "cell_type": "markdown",
   "metadata": {
    "tags": []
   },
   "source": [
    "**Question**:\n",
    "\n",
    "What does the following return\n",
    "\n",
    "```python\n",
    "nba.drop('POSITION')\n",
    "nba.num_columns\n",
    "```"
   ]
  },
  {
   "cell_type": "code",
   "execution_count": 39,
   "metadata": {},
   "outputs": [
    {
     "data": {
      "text/html": [
       "<table border=\"1\" class=\"dataframe\">\n",
       "    <thead>\n",
       "        <tr>\n",
       "            <th>PLAYER</th> <th>TEAM</th> <th>SALARY</th>\n",
       "        </tr>\n",
       "    </thead>\n",
       "    <tbody>\n",
       "        <tr>\n",
       "            <td>Paul Millsap    </td> <td>Atlanta Hawks</td> <td>18.6717</td>\n",
       "        </tr>\n",
       "        <tr>\n",
       "            <td>Al Horford      </td> <td>Atlanta Hawks</td> <td>12     </td>\n",
       "        </tr>\n",
       "        <tr>\n",
       "            <td>Tiago Splitter  </td> <td>Atlanta Hawks</td> <td>9.75625</td>\n",
       "        </tr>\n",
       "        <tr>\n",
       "            <td>Jeff Teague     </td> <td>Atlanta Hawks</td> <td>8      </td>\n",
       "        </tr>\n",
       "        <tr>\n",
       "            <td>Kyle Korver     </td> <td>Atlanta Hawks</td> <td>5.74648</td>\n",
       "        </tr>\n",
       "        <tr>\n",
       "            <td>Thabo Sefolosha </td> <td>Atlanta Hawks</td> <td>4      </td>\n",
       "        </tr>\n",
       "        <tr>\n",
       "            <td>Mike Scott      </td> <td>Atlanta Hawks</td> <td>3.33333</td>\n",
       "        </tr>\n",
       "        <tr>\n",
       "            <td>Kent Bazemore   </td> <td>Atlanta Hawks</td> <td>2      </td>\n",
       "        </tr>\n",
       "        <tr>\n",
       "            <td>Dennis Schroder </td> <td>Atlanta Hawks</td> <td>1.7634 </td>\n",
       "        </tr>\n",
       "        <tr>\n",
       "            <td>Tim Hardaway Jr.</td> <td>Atlanta Hawks</td> <td>1.30452</td>\n",
       "        </tr>\n",
       "    </tbody>\n",
       "</table>\n",
       "<p>... (407 rows omitted)</p>"
      ],
      "text/plain": [
       "PLAYER           | TEAM          | SALARY\n",
       "Paul Millsap     | Atlanta Hawks | 18.6717\n",
       "Al Horford       | Atlanta Hawks | 12\n",
       "Tiago Splitter   | Atlanta Hawks | 9.75625\n",
       "Jeff Teague      | Atlanta Hawks | 8\n",
       "Kyle Korver      | Atlanta Hawks | 5.74648\n",
       "Thabo Sefolosha  | Atlanta Hawks | 4\n",
       "Mike Scott       | Atlanta Hawks | 3.33333\n",
       "Kent Bazemore    | Atlanta Hawks | 2\n",
       "Dennis Schroder  | Atlanta Hawks | 1.7634\n",
       "Tim Hardaway Jr. | Atlanta Hawks | 1.30452\n",
       "... (407 rows omitted)"
      ]
     },
     "execution_count": 39,
     "metadata": {},
     "output_type": "execute_result"
    }
   ],
   "source": [
    "nba.drop('POSITION')"
   ]
  },
  {
   "cell_type": "code",
   "execution_count": 41,
   "metadata": {},
   "outputs": [
    {
     "data": {
      "text/plain": [
       "4"
      ]
     },
     "execution_count": 41,
     "metadata": {},
     "output_type": "execute_result"
    }
   ],
   "source": [
    "nba.num_columns"
   ]
  },
  {
   "cell_type": "markdown",
   "metadata": {},
   "source": [
    "---\n",
    "Back to slides\n",
    "\n",
    "---"
   ]
  },
  {
   "cell_type": "markdown",
   "metadata": {},
   "source": [
    "## Census: Population Trends"
   ]
  },
  {
   "cell_type": "markdown",
   "metadata": {},
   "source": [
    "[A description of the table appears online.](https://www2.census.gov/programs-surveys/popest/technical-documentation/file-layouts/2010-2019/nc-est2019-agesex-res.pdf)\n",
    "\n",
    "The Census dataset contain estimates of the US population in each category of sex and age in the years 2010 through 2019. The Census is decennial: it takes place every 10 years. The most recent Census was held in 2020 and the one before that in 2010. The Census Bureau also estimates population changes each year. As explained in the Bureau’s description of its methodology, it “adds the estimated changes to the last decennial census to produce updated population estimates every year.”"
   ]
  },
  {
   "cell_type": "code",
   "execution_count": 44,
   "metadata": {
    "tags": []
   },
   "outputs": [
    {
     "data": {
      "text/html": [
       "<table border=\"1\" class=\"dataframe\">\n",
       "    <thead>\n",
       "        <tr>\n",
       "            <th>SEX</th> <th>AGE</th> <th>CENSUS2010POP</th> <th>ESTIMATESBASE2010</th> <th>POPESTIMATE2010</th> <th>POPESTIMATE2011</th> <th>POPESTIMATE2012</th> <th>POPESTIMATE2013</th> <th>POPESTIMATE2014</th> <th>POPESTIMATE2015</th> <th>POPESTIMATE2016</th> <th>POPESTIMATE2017</th> <th>POPESTIMATE2018</th> <th>POPESTIMATE2019</th>\n",
       "        </tr>\n",
       "    </thead>\n",
       "    <tbody>\n",
       "        <tr>\n",
       "            <td>0   </td> <td>0   </td> <td>3944153      </td> <td>3944160          </td> <td>3951430        </td> <td>3963092        </td> <td>3926570        </td> <td>3931258        </td> <td>3954787        </td> <td>3983981        </td> <td>3954773        </td> <td>3893990        </td> <td>3815343        </td> <td>3783052        </td>\n",
       "        </tr>\n",
       "        <tr>\n",
       "            <td>1   </td> <td>0   </td> <td>2014276      </td> <td>2014278          </td> <td>2018474        </td> <td>2028430        </td> <td>2007742        </td> <td>2009723        </td> <td>2024511        </td> <td>2037646        </td> <td>2021375        </td> <td>1991761        </td> <td>1951663        </td> <td>1935117        </td>\n",
       "        </tr>\n",
       "        <tr>\n",
       "            <td>2   </td> <td>0   </td> <td>1929877      </td> <td>1929882          </td> <td>1932956        </td> <td>1934662        </td> <td>1918828        </td> <td>1921535        </td> <td>1930276        </td> <td>1946335        </td> <td>1933398        </td> <td>1902229        </td> <td>1863680        </td> <td>1847935        </td>\n",
       "        </tr>\n",
       "        <tr>\n",
       "            <td>0   </td> <td>1   </td> <td>3978070      </td> <td>3978090          </td> <td>3957730        </td> <td>3966225        </td> <td>3977549        </td> <td>3942698        </td> <td>3948891        </td> <td>3973133        </td> <td>4002903        </td> <td>3972711        </td> <td>3908830        </td> <td>3829599        </td>\n",
       "        </tr>\n",
       "        <tr>\n",
       "            <td>1   </td> <td>1   </td> <td>2030853      </td> <td>2030861          </td> <td>2020235        </td> <td>2025272        </td> <td>2035213        </td> <td>2015723        </td> <td>2018511        </td> <td>2033686        </td> <td>2046917        </td> <td>2030158        </td> <td>1999022        </td> <td>1958585        </td>\n",
       "        </tr>\n",
       "        <tr>\n",
       "            <td>2   </td> <td>1   </td> <td>1947217      </td> <td>1947229          </td> <td>1937495        </td> <td>1940953        </td> <td>1942336        </td> <td>1926975        </td> <td>1930380        </td> <td>1939447        </td> <td>1955986        </td> <td>1942553        </td> <td>1909808        </td> <td>1871014        </td>\n",
       "        </tr>\n",
       "        <tr>\n",
       "            <td>0   </td> <td>2   </td> <td>4096929      </td> <td>4096939          </td> <td>4090621        </td> <td>3970654        </td> <td>3978925        </td> <td>3991740        </td> <td>3958711        </td> <td>3966321        </td> <td>3991349        </td> <td>4020045        </td> <td>3987032        </td> <td>3922044        </td>\n",
       "        </tr>\n",
       "        <tr>\n",
       "            <td>1   </td> <td>2   </td> <td>2092198      </td> <td>2092202          </td> <td>2088545        </td> <td>2026392        </td> <td>2031333        </td> <td>2042266        </td> <td>2023752        </td> <td>2027455        </td> <td>2042821        </td> <td>2055454        </td> <td>2037249        </td> <td>2005544        </td>\n",
       "        </tr>\n",
       "        <tr>\n",
       "            <td>2   </td> <td>2   </td> <td>2004731      </td> <td>2004737          </td> <td>2002076        </td> <td>1944262        </td> <td>1947592        </td> <td>1949474        </td> <td>1934959        </td> <td>1938866        </td> <td>1948528        </td> <td>1964591        </td> <td>1949783        </td> <td>1916500        </td>\n",
       "        </tr>\n",
       "        <tr>\n",
       "            <td>0   </td> <td>3   </td> <td>4119040      </td> <td>4119051          </td> <td>4111688        </td> <td>4101644        </td> <td>3981531        </td> <td>3991017        </td> <td>4005928        </td> <td>3974351        </td> <td>3982984        </td> <td>4006946        </td> <td>4033038        </td> <td>3998665        </td>\n",
       "        </tr>\n",
       "    </tbody>\n",
       "</table>\n",
       "<p>... (296 rows omitted)</p>"
      ],
      "text/plain": [
       "SEX  | AGE  | CENSUS2010POP | ESTIMATESBASE2010 | POPESTIMATE2010 | POPESTIMATE2011 | POPESTIMATE2012 | POPESTIMATE2013 | POPESTIMATE2014 | POPESTIMATE2015 | POPESTIMATE2016 | POPESTIMATE2017 | POPESTIMATE2018 | POPESTIMATE2019\n",
       "0    | 0    | 3944153       | 3944160           | 3951430         | 3963092         | 3926570         | 3931258         | 3954787         | 3983981         | 3954773         | 3893990         | 3815343         | 3783052\n",
       "1    | 0    | 2014276       | 2014278           | 2018474         | 2028430         | 2007742         | 2009723         | 2024511         | 2037646         | 2021375         | 1991761         | 1951663         | 1935117\n",
       "2    | 0    | 1929877       | 1929882           | 1932956         | 1934662         | 1918828         | 1921535         | 1930276         | 1946335         | 1933398         | 1902229         | 1863680         | 1847935\n",
       "0    | 1    | 3978070       | 3978090           | 3957730         | 3966225         | 3977549         | 3942698         | 3948891         | 3973133         | 4002903         | 3972711         | 3908830         | 3829599\n",
       "1    | 1    | 2030853       | 2030861           | 2020235         | 2025272         | 2035213         | 2015723         | 2018511         | 2033686         | 2046917         | 2030158         | 1999022         | 1958585\n",
       "2    | 1    | 1947217       | 1947229           | 1937495         | 1940953         | 1942336         | 1926975         | 1930380         | 1939447         | 1955986         | 1942553         | 1909808         | 1871014\n",
       "0    | 2    | 4096929       | 4096939           | 4090621         | 3970654         | 3978925         | 3991740         | 3958711         | 3966321         | 3991349         | 4020045         | 3987032         | 3922044\n",
       "1    | 2    | 2092198       | 2092202           | 2088545         | 2026392         | 2031333         | 2042266         | 2023752         | 2027455         | 2042821         | 2055454         | 2037249         | 2005544\n",
       "2    | 2    | 2004731       | 2004737           | 2002076         | 1944262         | 1947592         | 1949474         | 1934959         | 1938866         | 1948528         | 1964591         | 1949783         | 1916500\n",
       "0    | 3    | 4119040       | 4119051           | 4111688         | 4101644         | 3981531         | 3991017         | 4005928         | 3974351         | 3982984         | 4006946         | 4033038         | 3998665\n",
       "... (296 rows omitted)"
      ]
     },
     "execution_count": 44,
     "metadata": {},
     "output_type": "execute_result"
    }
   ],
   "source": [
    "data_location = 'http://www2.census.gov/programs-surveys/popest/technical-documentation/file-layouts/2010-2019/nc-est2019-agesex-res.csv'\n",
    "data_location = 'data/nc-est2019-agesex-res.csv'\n",
    "\n",
    "census = Table.read_table(data_location)\n",
    "census.sort('AGE')"
   ]
  },
  {
   "cell_type": "markdown",
   "metadata": {},
   "source": [
    "### Subset the table\n",
    "for now, we are only interested in the population size by sex (`SEX`), age (`AGE`) in 2014 and 2019 (`POPESTIMATE2014`, and `POPESTIMATE2019`).\n",
    "\n",
    "**Tasks**:\n",
    "- `POPESTIMATE2014` and `POPESTIMATE2019` are cumbersome. Lets rename them to `2014` and `2019`\n",
    "- Create a new table containing only the columns we are interested in"
   ]
  },
  {
   "cell_type": "code",
   "execution_count": 57,
   "metadata": {},
   "outputs": [],
   "source": [
    "census = census.select('SEX', 'AGE', 'POPESTIMATE2014', 'POPESTIMATE2019')\n",
    "census = census.relabeled('POPESTIMATE2014', '2014').relabeled('POPESTIMATE2019', '2019')"
   ]
  },
  {
   "cell_type": "markdown",
   "metadata": {},
   "source": [
    "**Tasks:**\n",
    "- How many people above the age of 100 were there in the US in 2014 and 2019?\n",
    "- How about an age of above 99\n",
    "\n",
    "**Question:**\n",
    "- Why don't we see the number of people at age of 101+?\n"
   ]
  },
  {
   "cell_type": "code",
   "execution_count": 58,
   "metadata": {},
   "outputs": [
    {
     "data": {
      "text/html": [
       "<table border=\"1\" class=\"dataframe\">\n",
       "    <thead>\n",
       "        <tr>\n",
       "            <th>SEX</th> <th>AGE</th> <th>2014</th> <th>2019</th>\n",
       "        </tr>\n",
       "    </thead>\n",
       "    <tbody>\n",
       "        <tr>\n",
       "            <td>0   </td> <td>99  </td> <td>41277    </td> <td>57124    </td>\n",
       "        </tr>\n",
       "        <tr>\n",
       "            <td>0   </td> <td>100 </td> <td>70685    </td> <td>100322   </td>\n",
       "        </tr>\n",
       "        <tr>\n",
       "            <td>0   </td> <td>999 </td> <td>318301008</td> <td>328239523</td>\n",
       "        </tr>\n",
       "    </tbody>\n",
       "</table>"
      ],
      "text/plain": [
       "SEX  | AGE  | 2014      | 2019\n",
       "0    | 99   | 41277     | 57124\n",
       "0    | 100  | 70685     | 100322\n",
       "0    | 999  | 318301008 | 328239523"
      ]
     },
     "execution_count": 58,
     "metadata": {},
     "output_type": "execute_result"
    }
   ],
   "source": [
    "census.where('SEX', 0).where('AGE', are.above_or_equal_to(99))"
   ]
  },
  {
   "cell_type": "markdown",
   "metadata": {},
   "source": [
    "---\n",
    "Back to slides\n",
    "\n",
    "---"
   ]
  },
  {
   "cell_type": "markdown",
   "metadata": {
    "tags": []
   },
   "source": [
    "### Sex ratio\n",
    "The Census form asks respondents to provide the sex of each household member by checking one of two boxes labeled Male and Female. The SEX column contains numeric codes: 1 for male, 2 for female, and 0 for the total.\n",
    "\n",
    "**Task**:Find ratio of females to males in the US population in 2019\n",
    "- Remember that `999` contains all ages"
   ]
  },
  {
   "cell_type": "code",
   "execution_count": 59,
   "metadata": {},
   "outputs": [],
   "source": [
    "males = census.where('SEX', 1)\n",
    "females = census.where('SEX', 2)"
   ]
  },
  {
   "cell_type": "code",
   "execution_count": 66,
   "metadata": {},
   "outputs": [
    {
     "data": {
      "text/plain": [
       "array([ 0.50750195])"
      ]
     },
     "execution_count": 66,
     "metadata": {},
     "output_type": "execute_result"
    }
   ],
   "source": [
    "n_males = males.where('AGE', 999).column('2019')\n",
    "n_females = females.where('AGE', 999).column('2019')\n",
    "\n",
    "n_females/ (n_males+n_females)"
   ]
  },
  {
   "cell_type": "markdown",
   "metadata": {
    "tags": []
   },
   "source": [
    "**Task**\n",
    "- Now lets check the ratio for different age groups"
   ]
  },
  {
   "cell_type": "code",
   "execution_count": 68,
   "metadata": {},
   "outputs": [
    {
     "data": {
      "text/html": [
       "<table border=\"1\" class=\"dataframe\">\n",
       "    <thead>\n",
       "        <tr>\n",
       "            <th>SEX</th> <th>AGE</th> <th>2014</th> <th>2019</th>\n",
       "        </tr>\n",
       "    </thead>\n",
       "    <tbody>\n",
       "        <tr>\n",
       "            <td>2   </td> <td>0   </td> <td>1930276</td> <td>1847935</td>\n",
       "        </tr>\n",
       "        <tr>\n",
       "            <td>2   </td> <td>1   </td> <td>1930380</td> <td>1871014</td>\n",
       "        </tr>\n",
       "        <tr>\n",
       "            <td>2   </td> <td>2   </td> <td>1934959</td> <td>1916500</td>\n",
       "        </tr>\n",
       "        <tr>\n",
       "            <td>2   </td> <td>3   </td> <td>1956678</td> <td>1955655</td>\n",
       "        </tr>\n",
       "        <tr>\n",
       "            <td>2   </td> <td>4   </td> <td>1960508</td> <td>1976372</td>\n",
       "        </tr>\n",
       "        <tr>\n",
       "            <td>2   </td> <td>5   </td> <td>1961786</td> <td>1967081</td>\n",
       "        </tr>\n",
       "        <tr>\n",
       "            <td>2   </td> <td>6   </td> <td>2024017</td> <td>1964271</td>\n",
       "        </tr>\n",
       "        <tr>\n",
       "            <td>2   </td> <td>7   </td> <td>2031240</td> <td>1966584</td>\n",
       "        </tr>\n",
       "        <tr>\n",
       "            <td>2   </td> <td>8   </td> <td>2014018</td> <td>1986471</td>\n",
       "        </tr>\n",
       "        <tr>\n",
       "            <td>2   </td> <td>9   </td> <td>2009689</td> <td>1988726</td>\n",
       "        </tr>\n",
       "    </tbody>\n",
       "</table>\n",
       "<p>... (92 rows omitted)</p>"
      ],
      "text/plain": [
       "SEX  | AGE  | 2014    | 2019\n",
       "2    | 0    | 1930276 | 1847935\n",
       "2    | 1    | 1930380 | 1871014\n",
       "2    | 2    | 1934959 | 1916500\n",
       "2    | 3    | 1956678 | 1955655\n",
       "2    | 4    | 1960508 | 1976372\n",
       "2    | 5    | 1961786 | 1967081\n",
       "2    | 6    | 2024017 | 1964271\n",
       "2    | 7    | 2031240 | 1966584\n",
       "2    | 8    | 2014018 | 1986471\n",
       "2    | 9    | 2009689 | 1988726\n",
       "... (92 rows omitted)"
      ]
     },
     "execution_count": 68,
     "metadata": {},
     "output_type": "execute_result"
    }
   ],
   "source": [
    "females"
   ]
  },
  {
   "cell_type": "markdown",
   "metadata": {},
   "source": [
    "**Task:**\n",
    "- Create a new table with columns for age and ratios\n",
    "    - Create a table with only females\n",
    "    - Create a table with only males\n",
    "    - Get the age column from either\n",
    "- plot"
   ]
  },
  {
   "cell_type": "code",
   "execution_count": 71,
   "metadata": {
    "tags": []
   },
   "outputs": [],
   "source": [
    "ratios = females.column('2019') / (females.column('2019') + males.column('2019'))"
   ]
  },
  {
   "cell_type": "code",
   "execution_count": 73,
   "metadata": {},
   "outputs": [
    {
     "data": {
      "text/html": [
       "<table border=\"1\" class=\"dataframe\">\n",
       "    <thead>\n",
       "        <tr>\n",
       "            <th>SEX</th> <th>AGE</th> <th>2014</th> <th>2019</th>\n",
       "        </tr>\n",
       "    </thead>\n",
       "    <tbody>\n",
       "        <tr>\n",
       "            <td>2   </td> <td>0   </td> <td>1930276</td> <td>1847935</td>\n",
       "        </tr>\n",
       "        <tr>\n",
       "            <td>2   </td> <td>1   </td> <td>1930380</td> <td>1871014</td>\n",
       "        </tr>\n",
       "        <tr>\n",
       "            <td>2   </td> <td>2   </td> <td>1934959</td> <td>1916500</td>\n",
       "        </tr>\n",
       "        <tr>\n",
       "            <td>2   </td> <td>3   </td> <td>1956678</td> <td>1955655</td>\n",
       "        </tr>\n",
       "        <tr>\n",
       "            <td>2   </td> <td>4   </td> <td>1960508</td> <td>1976372</td>\n",
       "        </tr>\n",
       "        <tr>\n",
       "            <td>2   </td> <td>5   </td> <td>1961786</td> <td>1967081</td>\n",
       "        </tr>\n",
       "        <tr>\n",
       "            <td>2   </td> <td>6   </td> <td>2024017</td> <td>1964271</td>\n",
       "        </tr>\n",
       "        <tr>\n",
       "            <td>2   </td> <td>7   </td> <td>2031240</td> <td>1966584</td>\n",
       "        </tr>\n",
       "        <tr>\n",
       "            <td>2   </td> <td>8   </td> <td>2014018</td> <td>1986471</td>\n",
       "        </tr>\n",
       "        <tr>\n",
       "            <td>2   </td> <td>9   </td> <td>2009689</td> <td>1988726</td>\n",
       "        </tr>\n",
       "    </tbody>\n",
       "</table>\n",
       "<p>... (92 rows omitted)</p>"
      ],
      "text/plain": [
       "SEX  | AGE  | 2014    | 2019\n",
       "2    | 0    | 1930276 | 1847935\n",
       "2    | 1    | 1930380 | 1871014\n",
       "2    | 2    | 1934959 | 1916500\n",
       "2    | 3    | 1956678 | 1955655\n",
       "2    | 4    | 1960508 | 1976372\n",
       "2    | 5    | 1961786 | 1967081\n",
       "2    | 6    | 2024017 | 1964271\n",
       "2    | 7    | 2031240 | 1966584\n",
       "2    | 8    | 2014018 | 1986471\n",
       "2    | 9    | 2009689 | 1988726\n",
       "... (92 rows omitted)"
      ]
     },
     "execution_count": 73,
     "metadata": {},
     "output_type": "execute_result"
    }
   ],
   "source": [
    "females"
   ]
  },
  {
   "cell_type": "code",
   "execution_count": 78,
   "metadata": {},
   "outputs": [],
   "source": [
    "ratio_table = Table().with_columns('ratio', ratios, \n",
    "                                   'AGE', females.column('AGE'))\n",
    "ratio_table = ratio_table.where('AGE', are.below(200))"
   ]
  },
  {
   "cell_type": "code",
   "execution_count": 79,
   "metadata": {},
   "outputs": [
    {
     "data": {
      "image/png": "[encoded data removed]",
      "text/plain": [
       "<Figure size 600x600 with 1 Axes>"
      ]
     },
     "metadata": {},
     "output_type": "display_data"
    }
   ],
   "source": [
    "ratio_table.plot('AGE', 'ratio')"
   ]
  },
  {
   "cell_type": "markdown",
   "metadata": {
    "tags": []
   },
   "source": [
    "### Age change\n",
    "**Tasks**\n",
    "- Lets compare the change of population per age group.\n",
    "- Calculate the absolute change\n",
    "- Calcluate the relative change"
   ]
  },
  {
   "cell_type": "code",
   "execution_count": null,
   "metadata": {
    "tags": []
   },
   "outputs": [],
   "source": []
  },
  {
   "cell_type": "markdown",
   "metadata": {
    "tags": []
   },
   "source": [
    "**Tasks**\n",
    "- Create a new table with the ages and the age changes\n",
    "- Don't include the *all age row**\n",
    "- Plot the population change vs the age"
   ]
  },
  {
   "cell_type": "code",
   "execution_count": null,
   "metadata": {},
   "outputs": [],
   "source": []
  },
  {
   "cell_type": "markdown",
   "metadata": {},
   "source": [
    "Take a look at the top few rows. While the percent change is about 3% for the overall population, it jumps to well over 20% for the people in their late sixties and early seventies. This stunning change contributes to what is known as the greying of America.\n",
    "\n",
    "What could explain this large increase? \n",
    "\n",
    "<details><summary>Answer</summary>\n",
    "We can explore this question by examining the years in which the relevant groups were born.\n",
    "\n",
    "Those who were in the age group 69 to 72 in 2014 were born in the years 1942 to 1945. The attack on Pearl Harbor was in late 1941, and by 1942 U.S. forces were heavily engaged in a massive war that ended in 1945.\n",
    "\n",
    "Those who were 69 to 72 years old in 2019 were born in the years 1947 to 1950, at the height of the post-WWII baby boom in the United States.\n",
    "\n",
    "The post-war jump in births is a major reason for the large changes that we have observed.\n",
    "</details>"
   ]
  },
  {
   "cell_type": "markdown",
   "metadata": {},
   "source": []
  }
 ],
 "metadata": {
  "anaconda-cloud": {},
  "kernelspec": {
   "display_name": "Python 3 (ipykernel)",
   "language": "python",
   "name": "python3"
  },
  "language_info": {
   "codemirror_mode": {
    "name": "ipython",
    "version": 3
   },
   "file_extension": ".py",
   "mimetype": "text/x-python",
   "name": "python",
   "nbconvert_exporter": "python",
   "pygments_lexer": "ipython3",
   "version": "3.10.9"
  },
  "toc": {
   "base_numbering": 1,
   "nav_menu": {},
   "number_sections": false,
   "sideBar": true,
   "skip_h1_title": false,
   "title_cell": "Table of Contents",
   "title_sidebar": "Contents",
   "toc_cell": false,
   "toc_position": {},
   "toc_section_display": true,
   "toc_window_display": false
  }
 },
 "nbformat": 4,
 "nbformat_minor": 4
}
