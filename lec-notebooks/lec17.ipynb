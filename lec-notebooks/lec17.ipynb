{
 "cells": [
  {
   "cell_type": "code",
   "execution_count": 1,
   "metadata": {
    "tags": []
   },
   "outputs": [],
   "source": [
    "from datascience import *\n",
    "import numpy as np\n",
    "\n",
    "%matplotlib inline\n",
    "import matplotlib.pyplot as plots\n",
    "plots.style.use('fivethirtyeight')"
   ]
  },
  {
   "cell_type": "markdown",
   "metadata": {},
   "source": [
    "## The GSI's Defense ##\n",
    "- find the count of students in every section\n",
    "- find the average score of every section\n",
    "- find the count of students of section 3\n",
    "- find the average score of section 3\n",
    "\n",
    "Find a random sample of students of the same size as the number of students of section 3 and calculate their average score"
   ]
  },
  {
   "cell_type": "code",
   "execution_count": 2,
   "metadata": {
    "tags": []
   },
   "outputs": [
    {
     "data": {
      "text/html": [
       "<table border=\"1\" class=\"dataframe\">\n",
       "    <thead>\n",
       "        <tr>\n",
       "            <th>Section</th> <th>Midterm</th>\n",
       "        </tr>\n",
       "    </thead>\n",
       "    <tbody>\n",
       "        <tr>\n",
       "            <td>1      </td> <td>22     </td>\n",
       "        </tr>\n",
       "        <tr>\n",
       "            <td>2      </td> <td>12     </td>\n",
       "        </tr>\n",
       "        <tr>\n",
       "            <td>2      </td> <td>23     </td>\n",
       "        </tr>\n",
       "        <tr>\n",
       "            <td>2      </td> <td>14     </td>\n",
       "        </tr>\n",
       "        <tr>\n",
       "            <td>1      </td> <td>20     </td>\n",
       "        </tr>\n",
       "        <tr>\n",
       "            <td>3      </td> <td>25     </td>\n",
       "        </tr>\n",
       "        <tr>\n",
       "            <td>4      </td> <td>19     </td>\n",
       "        </tr>\n",
       "        <tr>\n",
       "            <td>1      </td> <td>24     </td>\n",
       "        </tr>\n",
       "        <tr>\n",
       "            <td>5      </td> <td>8      </td>\n",
       "        </tr>\n",
       "        <tr>\n",
       "            <td>6      </td> <td>14     </td>\n",
       "        </tr>\n",
       "    </tbody>\n",
       "</table>\n",
       "<p>... (349 rows omitted)</p>"
      ],
      "text/plain": [
       "Section | Midterm\n",
       "1       | 22\n",
       "2       | 12\n",
       "2       | 23\n",
       "2       | 14\n",
       "1       | 20\n",
       "3       | 25\n",
       "4       | 19\n",
       "1       | 24\n",
       "5       | 8\n",
       "6       | 14\n",
       "... (349 rows omitted)"
      ]
     },
     "execution_count": 2,
     "metadata": {},
     "output_type": "execute_result"
    }
   ],
   "source": [
    "scores = Table.read_table('data/scores_by_section.csv')\n",
    "scores"
   ]
  },
  {
   "cell_type": "code",
   "execution_count": 3,
   "metadata": {
    "tags": []
   },
   "outputs": [
    {
     "data": {
      "text/html": [
       "<table border=\"1\" class=\"dataframe\">\n",
       "    <thead>\n",
       "        <tr>\n",
       "            <th>Section</th> <th>count</th>\n",
       "        </tr>\n",
       "    </thead>\n",
       "    <tbody>\n",
       "        <tr>\n",
       "            <td>1      </td> <td>32   </td>\n",
       "        </tr>\n",
       "        <tr>\n",
       "            <td>2      </td> <td>32   </td>\n",
       "        </tr>\n",
       "        <tr>\n",
       "            <td>3      </td> <td>27   </td>\n",
       "        </tr>\n",
       "        <tr>\n",
       "            <td>4      </td> <td>30   </td>\n",
       "        </tr>\n",
       "        <tr>\n",
       "            <td>5      </td> <td>33   </td>\n",
       "        </tr>\n",
       "        <tr>\n",
       "            <td>6      </td> <td>32   </td>\n",
       "        </tr>\n",
       "        <tr>\n",
       "            <td>7      </td> <td>24   </td>\n",
       "        </tr>\n",
       "        <tr>\n",
       "            <td>8      </td> <td>29   </td>\n",
       "        </tr>\n",
       "        <tr>\n",
       "            <td>9      </td> <td>30   </td>\n",
       "        </tr>\n",
       "        <tr>\n",
       "            <td>10     </td> <td>34   </td>\n",
       "        </tr>\n",
       "    </tbody>\n",
       "</table>\n",
       "<p>... (2 rows omitted)</p>"
      ],
      "text/plain": [
       "Section | count\n",
       "1       | 32\n",
       "2       | 32\n",
       "3       | 27\n",
       "4       | 30\n",
       "5       | 33\n",
       "6       | 32\n",
       "7       | 24\n",
       "8       | 29\n",
       "9       | 30\n",
       "10      | 34\n",
       "... (2 rows omitted)"
      ]
     },
     "execution_count": 3,
     "metadata": {},
     "output_type": "execute_result"
    }
   ],
   "source": [
    "grouped_sizes = scores.group('Section')\n",
    "grouped_sizes"
   ]
  },
  {
   "cell_type": "code",
   "execution_count": 4,
   "metadata": {
    "tags": []
   },
   "outputs": [
    {
     "data": {
      "text/html": [
       "<table border=\"1\" class=\"dataframe\">\n",
       "    <thead>\n",
       "        <tr>\n",
       "            <th>Section</th> <th>Midterm average</th>\n",
       "        </tr>\n",
       "    </thead>\n",
       "    <tbody>\n",
       "        <tr>\n",
       "            <td>1      </td> <td>15.5938        </td>\n",
       "        </tr>\n",
       "        <tr>\n",
       "            <td>2      </td> <td>15.125         </td>\n",
       "        </tr>\n",
       "        <tr>\n",
       "            <td>3      </td> <td>13.6667        </td>\n",
       "        </tr>\n",
       "        <tr>\n",
       "            <td>4      </td> <td>14.7667        </td>\n",
       "        </tr>\n",
       "        <tr>\n",
       "            <td>5      </td> <td>17.4545        </td>\n",
       "        </tr>\n",
       "        <tr>\n",
       "            <td>6      </td> <td>15.0312        </td>\n",
       "        </tr>\n",
       "        <tr>\n",
       "            <td>7      </td> <td>16.625         </td>\n",
       "        </tr>\n",
       "        <tr>\n",
       "            <td>8      </td> <td>16.3103        </td>\n",
       "        </tr>\n",
       "        <tr>\n",
       "            <td>9      </td> <td>14.5667        </td>\n",
       "        </tr>\n",
       "        <tr>\n",
       "            <td>10     </td> <td>15.2353        </td>\n",
       "        </tr>\n",
       "    </tbody>\n",
       "</table>\n",
       "<p>... (2 rows omitted)</p>"
      ],
      "text/plain": [
       "Section | Midterm average\n",
       "1       | 15.5938\n",
       "2       | 15.125\n",
       "3       | 13.6667\n",
       "4       | 14.7667\n",
       "5       | 17.4545\n",
       "6       | 15.0312\n",
       "7       | 16.625\n",
       "8       | 16.3103\n",
       "9       | 14.5667\n",
       "10      | 15.2353\n",
       "... (2 rows omitted)"
      ]
     },
     "execution_count": 4,
     "metadata": {},
     "output_type": "execute_result"
    }
   ],
   "source": [
    "grouped_averages = scores.group('Section', np.average)\n",
    "grouped_averages"
   ]
  },
  {
   "cell_type": "code",
   "execution_count": 5,
   "metadata": {
    "tags": []
   },
   "outputs": [
    {
     "data": {
      "text/plain": [
       "13.666666666666666"
      ]
     },
     "execution_count": 5,
     "metadata": {},
     "output_type": "execute_result"
    }
   ],
   "source": [
    "observed_average = grouped_averages.where('Section', 3).column('Midterm average').item(0)\n",
    "observed_average"
   ]
  },
  {
   "cell_type": "code",
   "execution_count": 6,
   "metadata": {
    "tags": []
   },
   "outputs": [
    {
     "data": {
      "text/html": [
       "<table border=\"1\" class=\"dataframe\">\n",
       "    <thead>\n",
       "        <tr>\n",
       "            <th>Section</th> <th>Midterm</th>\n",
       "        </tr>\n",
       "    </thead>\n",
       "    <tbody>\n",
       "        <tr>\n",
       "            <td>12     </td> <td>16     </td>\n",
       "        </tr>\n",
       "        <tr>\n",
       "            <td>4      </td> <td>22     </td>\n",
       "        </tr>\n",
       "        <tr>\n",
       "            <td>9      </td> <td>14     </td>\n",
       "        </tr>\n",
       "        <tr>\n",
       "            <td>8      </td> <td>19     </td>\n",
       "        </tr>\n",
       "        <tr>\n",
       "            <td>1      </td> <td>12     </td>\n",
       "        </tr>\n",
       "        <tr>\n",
       "            <td>8      </td> <td>24     </td>\n",
       "        </tr>\n",
       "        <tr>\n",
       "            <td>2      </td> <td>14     </td>\n",
       "        </tr>\n",
       "        <tr>\n",
       "            <td>1      </td> <td>9      </td>\n",
       "        </tr>\n",
       "        <tr>\n",
       "            <td>11     </td> <td>13     </td>\n",
       "        </tr>\n",
       "        <tr>\n",
       "            <td>6      </td> <td>23     </td>\n",
       "        </tr>\n",
       "    </tbody>\n",
       "</table>\n",
       "<p>... (17 rows omitted)</p>"
      ],
      "text/plain": [
       "Section | Midterm\n",
       "12      | 16\n",
       "4       | 22\n",
       "9       | 14\n",
       "8       | 19\n",
       "1       | 12\n",
       "8       | 24\n",
       "2       | 14\n",
       "1       | 9\n",
       "11      | 13\n",
       "6       | 23\n",
       "... (17 rows omitted)"
      ]
     },
     "execution_count": 6,
     "metadata": {},
     "output_type": "execute_result"
    }
   ],
   "source": [
    "observed_size = grouped_sizes.where('Section', 3).column('count').item(0)\n",
    "random_sample = scores.sample(observed_size, with_replacement=False)\n",
    "random_sample"
   ]
  },
  {
   "cell_type": "code",
   "execution_count": 7,
   "metadata": {
    "tags": []
   },
   "outputs": [
    {
     "data": {
      "text/plain": [
       "15.925925925925926"
      ]
     },
     "execution_count": 7,
     "metadata": {},
     "output_type": "execute_result"
    }
   ],
   "source": [
    "np.average(random_sample.column('Midterm'))"
   ]
  },
  {
   "cell_type": "markdown",
   "metadata": {},
   "source": [
    "## Make a simulation\n",
    "we just calculated one sample. Let's do this 50 000 times.\n",
    "- Write a function that takes a random sample and calculates the average score\n",
    "- evaluate the functions 50 000 times\n",
    "- plot the results in a histogram (need to create a table first)\n",
    "- add the observed average as a point\n",
    "\n",
    "What do you think; could the TA just have gotten unlucky? "
   ]
  },
  {
   "cell_type": "code",
   "execution_count": 8,
   "metadata": {
    "tags": []
   },
   "outputs": [],
   "source": [
    "# Simulate one value of the test statistic \n",
    "# under the hypothesis that the section is like a random sample from the class\n",
    "\n",
    "def random_sample_midterm_avg():\n",
    "    random_sample = scores.sample(27, with_replacement = False)\n",
    "    return np.average(random_sample.column('Midterm'))"
   ]
  },
  {
   "cell_type": "code",
   "execution_count": 9,
   "metadata": {
    "tags": []
   },
   "outputs": [],
   "source": [
    "# Simulate 50,000 copies of the test statistic\n",
    "\n",
    "sample_averages = make_array()\n",
    "\n",
    "for i in np.arange(50000):\n",
    "    sample_averages = np.append(sample_averages, random_sample_midterm_avg())    "
   ]
  },
  {
   "cell_type": "code",
   "execution_count": 10,
   "metadata": {
    "tags": []
   },
   "outputs": [
    {
     "data": {
      "image/png": "[encoded data removed]",
      "text/plain": [
       "<Figure size 600x400 with 1 Axes>"
      ]
     },
     "metadata": {},
     "output_type": "display_data"
    }
   ],
   "source": [
    "# Compare the simulated distribution of the statistic\n",
    "# and the actual observed statistic\n",
    "averages_tbl = Table().with_column('Random Sample Average', sample_averages)\n",
    "averages_tbl.hist(bins = np.arange(12, 20, 0.5))\n",
    "plots.scatter(observed_average, -0.01, color='red', s=120);"
   ]
  },
  {
   "cell_type": "markdown",
   "metadata": {},
   "source": [
    "---\n",
    "back to slides\n",
    "\n",
    "--- \n",
    "\n",
    "## Conventions About Inconsistency"
   ]
  },
  {
   "cell_type": "markdown",
   "metadata": {},
   "source": [
    "### Approach 1\n",
    "1. Find the area of the histogram that is beyond our observed value.\n",
    "    - How do we find all simulation results that had statistics less than our observed statistic?\n",
    "    \n",
    "1. Find the share of simuations that had statistics less than our observed statistic?\n",
    "    - This is called the `p-value`\n",
    "    \n",
    "1. See if this is less than 5%"
   ]
  },
  {
   "cell_type": "code",
   "execution_count": 11,
   "metadata": {
    "tags": []
   },
   "outputs": [
    {
     "data": {
      "text/plain": [
       "0.0588"
      ]
     },
     "execution_count": 11,
     "metadata": {},
     "output_type": "execute_result"
    }
   ],
   "source": [
    "np.count_nonzero(sample_averages <= observed_average) / 50000"
   ]
  },
  {
   "cell_type": "markdown",
   "metadata": {},
   "source": [
    "### Approach 2\n",
    "1. Find simulated value corresponding to 5% of 50,000 = 2500. Call it  `five_percent_point`\n",
    "1. See if this value is greater than observed value"
   ]
  },
  {
   "cell_type": "code",
   "execution_count": 12,
   "metadata": {
    "tags": []
   },
   "outputs": [
    {
     "data": {
      "text/plain": [
       "13.592592592592593"
      ]
     },
     "execution_count": 12,
     "metadata": {},
     "output_type": "execute_result"
    }
   ],
   "source": [
    "five_percent_point = averages_tbl.sort(0).column(0).item(2500)\n",
    "five_percent_point"
   ]
  },
  {
   "cell_type": "code",
   "execution_count": 13,
   "metadata": {
    "tags": []
   },
   "outputs": [
    {
     "data": {
      "text/plain": [
       "13.666666666666666"
      ]
     },
     "execution_count": 13,
     "metadata": {},
     "output_type": "execute_result"
    }
   ],
   "source": [
    "observed_average"
   ]
  },
  {
   "cell_type": "markdown",
   "metadata": {},
   "source": [
    "### Visual Representation\n",
    "- plot the histogram\n",
    "- add a title\n",
    "- add a line with the `five_percent_point`\n",
    "- add a dot for the the observed average"
   ]
  },
  {
   "cell_type": "code",
   "execution_count": 14,
   "metadata": {
    "tags": []
   },
   "outputs": [
    {
     "data": {
      "image/png": "[encoded data removed]",
      "text/plain": [
       "<Figure size 600x400 with 1 Axes>"
      ]
     },
     "metadata": {},
     "output_type": "display_data"
    }
   ],
   "source": [
    "averages_tbl.hist(bins = 20)\n",
    "plots.plot([five_percent_point, five_percent_point], [0, 0.35], color='gold', lw=2)\n",
    "plots.title('Area to the left of the gold line: 5%');\n",
    "plots.scatter(observed_average, -0.01, color='red', s=120);"
   ]
  }
 ],
 "metadata": {
  "anaconda-cloud": {},
  "kernelspec": {
   "display_name": "Python 3 (ipykernel)",
   "language": "python",
   "name": "python3"
  },
  "language_info": {
   "codemirror_mode": {
    "name": "ipython",
    "version": 3
   },
   "file_extension": ".py",
   "mimetype": "text/x-python",
   "name": "python",
   "nbconvert_exporter": "python",
   "pygments_lexer": "ipython3",
   "version": "3.10.6"
  }
 },
 "nbformat": 4,
 "nbformat_minor": 4
}
