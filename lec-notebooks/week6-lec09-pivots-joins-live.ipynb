{
 "cells": [
  {
   "cell_type": "code",
   "execution_count": 51,
   "metadata": {},
   "outputs": [],
   "source": [
    "from datascience import *\n",
    "import numpy as np\n",
    "\n",
    "%matplotlib inline\n",
    "import matplotlib.pyplot as plots\n",
    "plots.style.use('fivethirtyeight')"
   ]
  },
  {
   "cell_type": "markdown",
   "metadata": {},
   "source": [
    "# Lecture 9"
   ]
  },
  {
   "cell_type": "markdown",
   "metadata": {},
   "source": [
    "## Grouping by 1 Column"
   ]
  },
  {
   "cell_type": "code",
   "execution_count": 52,
   "metadata": {},
   "outputs": [
    {
     "data": {
      "text/html": [
       "<table border=\"1\" class=\"dataframe\">\n",
       "    <thead>\n",
       "        <tr>\n",
       "            <th>Flavor</th> <th>Color</th> <th>Price</th>\n",
       "        </tr>\n",
       "    </thead>\n",
       "    <tbody>\n",
       "        <tr>\n",
       "            <td>strawberry</td> <td>pink       </td> <td>3.55 </td>\n",
       "        </tr>\n",
       "        <tr>\n",
       "            <td>chocolate </td> <td>light brown</td> <td>4.75 </td>\n",
       "        </tr>\n",
       "        <tr>\n",
       "            <td>chocolate </td> <td>dark brown </td> <td>5.25 </td>\n",
       "        </tr>\n",
       "        <tr>\n",
       "            <td>strawberry</td> <td>pink       </td> <td>5.25 </td>\n",
       "        </tr>\n",
       "        <tr>\n",
       "            <td>chocolate </td> <td>dark brown </td> <td>5.25 </td>\n",
       "        </tr>\n",
       "        <tr>\n",
       "            <td>bubblegum </td> <td>pink       </td> <td>4.75 </td>\n",
       "        </tr>\n",
       "    </tbody>\n",
       "</table>"
      ],
      "text/plain": [
       "Flavor     | Color       | Price\n",
       "strawberry | pink        | 3.55\n",
       "chocolate  | light brown | 4.75\n",
       "chocolate  | dark brown  | 5.25\n",
       "strawberry | pink        | 5.25\n",
       "chocolate  | dark brown  | 5.25\n",
       "bubblegum  | pink        | 4.75"
      ]
     },
     "execution_count": 52,
     "metadata": {},
     "output_type": "execute_result"
    }
   ],
   "source": [
    "# Create a table of ice cream cones\n",
    "cones = Table().with_columns(\n",
    "    'Flavor', make_array('strawberry', 'chocolate', 'chocolate', 'strawberry', 'chocolate', 'bubblegum'),\n",
    "    'Color', make_array('pink', 'light brown', 'dark brown', 'pink', 'dark brown', 'pink'),\n",
    "    'Price', make_array(3.55, 4.75, 5.25, 5.25, 5.25, 4.75)\n",
    ")\n",
    "cones"
   ]
  },
  {
   "cell_type": "code",
   "execution_count": 53,
   "metadata": {},
   "outputs": [
    {
     "data": {
      "text/html": [
       "<table border=\"1\" class=\"dataframe\">\n",
       "    <thead>\n",
       "        <tr>\n",
       "            <th>Flavor</th> <th>Color list</th> <th>Price list</th>\n",
       "        </tr>\n",
       "    </thead>\n",
       "    <tbody>\n",
       "        <tr>\n",
       "            <td>bubblegum </td> <td>['pink']                                   </td> <td>[4.75]                    </td>\n",
       "        </tr>\n",
       "        <tr>\n",
       "            <td>chocolate </td> <td>['light brown', 'dark brown', 'dark brown']</td> <td>[4.75, 5.25, 5.25]        </td>\n",
       "        </tr>\n",
       "        <tr>\n",
       "            <td>strawberry</td> <td>['pink', 'pink']                           </td> <td>[3.5499999999999998, 5.25]</td>\n",
       "        </tr>\n",
       "    </tbody>\n",
       "</table>"
      ],
      "text/plain": [
       "Flavor     | Color list                                  | Price list\n",
       "bubblegum  | ['pink']                                    | [4.75]\n",
       "chocolate  | ['light brown', 'dark brown', 'dark brown'] | [4.75, 5.25, 5.25]\n",
       "strawberry | ['pink', 'pink']                            | [3.5499999999999998, 5.25]"
      ]
     },
     "execution_count": 53,
     "metadata": {},
     "output_type": "execute_result"
    }
   ],
   "source": [
    "cones.group('Flavor', list)"
   ]
  },
  {
   "cell_type": "code",
   "execution_count": 54,
   "metadata": {},
   "outputs": [
    {
     "data": {
      "text/html": [
       "<table border=\"1\" class=\"dataframe\">\n",
       "    <thead>\n",
       "        <tr>\n",
       "            <th>Flavor</th> <th>Color max</th> <th>Price max</th>\n",
       "        </tr>\n",
       "    </thead>\n",
       "    <tbody>\n",
       "        <tr>\n",
       "            <td>bubblegum </td> <td>pink       </td> <td>4.75     </td>\n",
       "        </tr>\n",
       "        <tr>\n",
       "            <td>chocolate </td> <td>light brown</td> <td>5.25     </td>\n",
       "        </tr>\n",
       "        <tr>\n",
       "            <td>strawberry</td> <td>pink       </td> <td>5.25     </td>\n",
       "        </tr>\n",
       "    </tbody>\n",
       "</table>"
      ],
      "text/plain": [
       "Flavor     | Color max   | Price max\n",
       "bubblegum  | pink        | 4.75\n",
       "chocolate  | light brown | 5.25\n",
       "strawberry | pink        | 5.25"
      ]
     },
     "execution_count": 54,
     "metadata": {},
     "output_type": "execute_result"
    }
   ],
   "source": [
    "cones.group('Flavor', max)"
   ]
  },
  {
   "cell_type": "code",
   "execution_count": 55,
   "metadata": {},
   "outputs": [
    {
     "data": {
      "text/html": [
       "<table border=\"1\" class=\"dataframe\">\n",
       "    <thead>\n",
       "        <tr>\n",
       "            <th>Flavor</th> <th>Color average</th> <th>Price average</th>\n",
       "        </tr>\n",
       "    </thead>\n",
       "    <tbody>\n",
       "        <tr>\n",
       "            <td>bubblegum </td> <td>             </td> <td>4.75         </td>\n",
       "        </tr>\n",
       "        <tr>\n",
       "            <td>chocolate </td> <td>             </td> <td>5.08333      </td>\n",
       "        </tr>\n",
       "        <tr>\n",
       "            <td>strawberry</td> <td>             </td> <td>4.4          </td>\n",
       "        </tr>\n",
       "    </tbody>\n",
       "</table>"
      ],
      "text/plain": [
       "Flavor     | Color average | Price average\n",
       "bubblegum  |               | 4.75\n",
       "chocolate  |               | 5.08333\n",
       "strawberry |               | 4.4"
      ]
     },
     "execution_count": 55,
     "metadata": {},
     "output_type": "execute_result"
    }
   ],
   "source": [
    "cones.group('Flavor', np.average)"
   ]
  },
  {
   "cell_type": "code",
   "execution_count": 56,
   "metadata": {},
   "outputs": [],
   "source": [
    "def spread(values):\n",
    "    return max(values) - min(values)"
   ]
  },
  {
   "cell_type": "code",
   "execution_count": 57,
   "metadata": {},
   "outputs": [
    {
     "data": {
      "text/plain": [
       "20"
      ]
     },
     "execution_count": 57,
     "metadata": {},
     "output_type": "execute_result"
    }
   ],
   "source": [
    "spread(make_array(-10, 0, 10))"
   ]
  },
  {
   "cell_type": "code",
   "execution_count": 58,
   "metadata": {},
   "outputs": [
    {
     "data": {
      "text/html": [
       "<table border=\"1\" class=\"dataframe\">\n",
       "    <thead>\n",
       "        <tr>\n",
       "            <th>Flavor</th> <th>Color spread</th> <th>Price spread</th>\n",
       "        </tr>\n",
       "    </thead>\n",
       "    <tbody>\n",
       "        <tr>\n",
       "            <td>bubblegum </td> <td>            </td> <td>0           </td>\n",
       "        </tr>\n",
       "        <tr>\n",
       "            <td>chocolate </td> <td>            </td> <td>0.5         </td>\n",
       "        </tr>\n",
       "        <tr>\n",
       "            <td>strawberry</td> <td>            </td> <td>1.7         </td>\n",
       "        </tr>\n",
       "    </tbody>\n",
       "</table>"
      ],
      "text/plain": [
       "Flavor     | Color spread | Price spread\n",
       "bubblegum  |              | 0\n",
       "chocolate  |              | 0.5\n",
       "strawberry |              | 1.7"
      ]
     },
     "execution_count": 58,
     "metadata": {},
     "output_type": "execute_result"
    }
   ],
   "source": [
    "cones.group('Flavor', spread)"
   ]
  },
  {
   "cell_type": "code",
   "execution_count": 59,
   "metadata": {},
   "outputs": [
    {
     "ename": "TypeError",
     "evalue": "unsupported operand type(s) for -: 'str' and 'str'",
     "output_type": "error",
     "traceback": [
      "\u001b[0;31m---------------------------------------------------------------------------\u001b[0m",
      "\u001b[0;31mTypeError\u001b[0m                                 Traceback (most recent call last)",
      "Cell \u001b[0;32mIn[59], line 1\u001b[0m\n\u001b[0;32m----> 1\u001b[0m \u001b[43mspread\u001b[49m\u001b[43m(\u001b[49m\u001b[43m[\u001b[49m\u001b[38;5;124;43m'\u001b[39;49m\u001b[38;5;124;43mapple\u001b[39;49m\u001b[38;5;124;43m'\u001b[39;49m\u001b[43m,\u001b[49m\u001b[43m \u001b[49m\u001b[38;5;124;43m'\u001b[39;49m\u001b[38;5;124;43mbanana\u001b[39;49m\u001b[38;5;124;43m'\u001b[39;49m\u001b[43m]\u001b[49m\u001b[43m)\u001b[49m\n",
      "Cell \u001b[0;32mIn[56], line 2\u001b[0m, in \u001b[0;36mspread\u001b[0;34m(values)\u001b[0m\n\u001b[1;32m      1\u001b[0m \u001b[38;5;28;01mdef\u001b[39;00m \u001b[38;5;21mspread\u001b[39m(values):\n\u001b[0;32m----> 2\u001b[0m     \u001b[38;5;28;01mreturn\u001b[39;00m \u001b[38;5;28;43mmax\u001b[39;49m\u001b[43m(\u001b[49m\u001b[43mvalues\u001b[49m\u001b[43m)\u001b[49m\u001b[43m \u001b[49m\u001b[38;5;241;43m-\u001b[39;49m\u001b[43m \u001b[49m\u001b[38;5;28;43mmin\u001b[39;49m\u001b[43m(\u001b[49m\u001b[43mvalues\u001b[49m\u001b[43m)\u001b[49m\n",
      "\u001b[0;31mTypeError\u001b[0m: unsupported operand type(s) for -: 'str' and 'str'"
     ]
    }
   ],
   "source": [
    "spread(['apple', 'banana'])"
   ]
  },
  {
   "cell_type": "markdown",
   "metadata": {},
   "source": [
    "Another example: from the `top_movies` table, calculate the total gross (adjusted) for movies from each year."
   ]
  },
  {
   "cell_type": "code",
   "execution_count": 60,
   "metadata": {},
   "outputs": [
    {
     "data": {
      "text/html": [
       "<table border=\"1\" class=\"dataframe\">\n",
       "    <thead>\n",
       "        <tr>\n",
       "            <th>Title</th> <th>Studio</th> <th>Gross</th> <th>Gross (Adjusted)</th> <th>Year</th>\n",
       "        </tr>\n",
       "    </thead>\n",
       "    <tbody>\n",
       "        <tr>\n",
       "            <td>Gone with the Wind              </td> <td>MGM            </td> <td>198676459</td> <td>1796176700      </td> <td>1939</td>\n",
       "        </tr>\n",
       "        <tr>\n",
       "            <td>Star Wars                       </td> <td>Fox            </td> <td>460998007</td> <td>1583483200      </td> <td>1977</td>\n",
       "        </tr>\n",
       "        <tr>\n",
       "            <td>The Sound of Music              </td> <td>Fox            </td> <td>158671368</td> <td>1266072700      </td> <td>1965</td>\n",
       "        </tr>\n",
       "        <tr>\n",
       "            <td>E.T.: The Extra-Terrestrial     </td> <td>Universal      </td> <td>435110554</td> <td>1261085000      </td> <td>1982</td>\n",
       "        </tr>\n",
       "        <tr>\n",
       "            <td>Titanic                         </td> <td>Paramount      </td> <td>658672302</td> <td>1204368000      </td> <td>1997</td>\n",
       "        </tr>\n",
       "        <tr>\n",
       "            <td>The Ten Commandments            </td> <td>Paramount      </td> <td>65500000 </td> <td>1164590000      </td> <td>1956</td>\n",
       "        </tr>\n",
       "        <tr>\n",
       "            <td>Jaws                            </td> <td>Universal      </td> <td>260000000</td> <td>1138620700      </td> <td>1975</td>\n",
       "        </tr>\n",
       "        <tr>\n",
       "            <td>Doctor Zhivago                  </td> <td>MGM            </td> <td>111721910</td> <td>1103564200      </td> <td>1965</td>\n",
       "        </tr>\n",
       "        <tr>\n",
       "            <td>The Exorcist                    </td> <td>Warner Brothers</td> <td>232906145</td> <td>983226600       </td> <td>1973</td>\n",
       "        </tr>\n",
       "        <tr>\n",
       "            <td>Snow White and the Seven Dwarves</td> <td>Disney         </td> <td>184925486</td> <td>969010000       </td> <td>1937</td>\n",
       "        </tr>\n",
       "    </tbody>\n",
       "</table>\n",
       "<p>... (190 rows omitted)</p>"
      ],
      "text/plain": [
       "Title                            | Studio          | Gross     | Gross (Adjusted) | Year\n",
       "Gone with the Wind               | MGM             | 198676459 | 1796176700       | 1939\n",
       "Star Wars                        | Fox             | 460998007 | 1583483200       | 1977\n",
       "The Sound of Music               | Fox             | 158671368 | 1266072700       | 1965\n",
       "E.T.: The Extra-Terrestrial      | Universal       | 435110554 | 1261085000       | 1982\n",
       "Titanic                          | Paramount       | 658672302 | 1204368000       | 1997\n",
       "The Ten Commandments             | Paramount       | 65500000  | 1164590000       | 1956\n",
       "Jaws                             | Universal       | 260000000 | 1138620700       | 1975\n",
       "Doctor Zhivago                   | MGM             | 111721910 | 1103564200       | 1965\n",
       "The Exorcist                     | Warner Brothers | 232906145 | 983226600        | 1973\n",
       "Snow White and the Seven Dwarves | Disney          | 184925486 | 969010000        | 1937\n",
       "... (190 rows omitted)"
      ]
     },
     "execution_count": 60,
     "metadata": {},
     "output_type": "execute_result"
    }
   ],
   "source": [
    "# Load the top_movies table\n",
    "top_movies = Table.read_table('data/top_movies_2017.csv')\n",
    "top_movies"
   ]
  },
  {
   "cell_type": "code",
   "execution_count": 61,
   "metadata": {},
   "outputs": [
    {
     "data": {
      "text/html": [
       "<table border=\"1\" class=\"dataframe\">\n",
       "    <thead>\n",
       "        <tr>\n",
       "            <th>Year</th> <th>Gross (Adjusted) sum</th>\n",
       "        </tr>\n",
       "    </thead>\n",
       "    <tbody>\n",
       "        <tr>\n",
       "            <td>1921</td> <td>408214300           </td>\n",
       "        </tr>\n",
       "        <tr>\n",
       "            <td>1937</td> <td>969010000           </td>\n",
       "        </tr>\n",
       "        <tr>\n",
       "            <td>1939</td> <td>1796176700          </td>\n",
       "        </tr>\n",
       "        <tr>\n",
       "            <td>1940</td> <td>599215600           </td>\n",
       "        </tr>\n",
       "        <tr>\n",
       "            <td>1941</td> <td>1166071700          </td>\n",
       "        </tr>\n",
       "        <tr>\n",
       "            <td>1942</td> <td>566403700           </td>\n",
       "        </tr>\n",
       "        <tr>\n",
       "            <td>1945</td> <td>557803900           </td>\n",
       "        </tr>\n",
       "        <tr>\n",
       "            <td>1946</td> <td>942521400           </td>\n",
       "        </tr>\n",
       "        <tr>\n",
       "            <td>1950</td> <td>536079700           </td>\n",
       "        </tr>\n",
       "        <tr>\n",
       "            <td>1952</td> <td>533400000           </td>\n",
       "        </tr>\n",
       "    </tbody>\n",
       "</table>\n",
       "<p>... (62 rows omitted)</p>"
      ],
      "text/plain": [
       "Year | Gross (Adjusted) sum\n",
       "1921 | 408214300\n",
       "1937 | 969010000\n",
       "1939 | 1796176700\n",
       "1940 | 599215600\n",
       "1941 | 1166071700\n",
       "1942 | 566403700\n",
       "1945 | 557803900\n",
       "1946 | 942521400\n",
       "1950 | 536079700\n",
       "1952 | 533400000\n",
       "... (62 rows omitted)"
      ]
     },
     "execution_count": 61,
     "metadata": {},
     "output_type": "execute_result"
    }
   ],
   "source": [
    "# Step 1: Use select to focus on the Year and Gross (Adjusted) columns\n",
    "# Step 2: group by year and aggregate using the average function\n",
    "avg_gross_by_year = top_movies.select('Year', 'Gross (Adjusted)').group('Year', sum)\n",
    "avg_gross_by_year"
   ]
  },
  {
   "cell_type": "code",
   "execution_count": 62,
   "metadata": {},
   "outputs": [
    {
     "data": {
      "image/png": "[encoded data removed]",
      "text/plain": [
       "<Figure size 600x600 with 1 Axes>"
      ]
     },
     "metadata": {},
     "output_type": "display_data"
    }
   ],
   "source": [
    "# Just for fun, let's plot the total gross using a line graph\n",
    "avg_gross_by_year.sort('Year').plot('Year')"
   ]
  },
  {
   "cell_type": "markdown",
   "metadata": {},
   "source": [
    "Another example: calculate how much the highest-grossing movie from each studio earned."
   ]
  },
  {
   "cell_type": "code",
   "execution_count": 63,
   "metadata": {},
   "outputs": [
    {
     "data": {
      "text/html": [
       "<table border=\"1\" class=\"dataframe\">\n",
       "    <thead>\n",
       "        <tr>\n",
       "            <th>Title</th> <th>Studio</th> <th>Gross</th> <th>Gross (Adjusted)</th> <th>Year</th>\n",
       "        </tr>\n",
       "    </thead>\n",
       "    <tbody>\n",
       "        <tr>\n",
       "            <td>Gone with the Wind              </td> <td>MGM            </td> <td>198676459</td> <td>1796176700      </td> <td>1939</td>\n",
       "        </tr>\n",
       "        <tr>\n",
       "            <td>Star Wars                       </td> <td>Fox            </td> <td>460998007</td> <td>1583483200      </td> <td>1977</td>\n",
       "        </tr>\n",
       "        <tr>\n",
       "            <td>The Sound of Music              </td> <td>Fox            </td> <td>158671368</td> <td>1266072700      </td> <td>1965</td>\n",
       "        </tr>\n",
       "        <tr>\n",
       "            <td>E.T.: The Extra-Terrestrial     </td> <td>Universal      </td> <td>435110554</td> <td>1261085000      </td> <td>1982</td>\n",
       "        </tr>\n",
       "        <tr>\n",
       "            <td>Titanic                         </td> <td>Paramount      </td> <td>658672302</td> <td>1204368000      </td> <td>1997</td>\n",
       "        </tr>\n",
       "        <tr>\n",
       "            <td>The Ten Commandments            </td> <td>Paramount      </td> <td>65500000 </td> <td>1164590000      </td> <td>1956</td>\n",
       "        </tr>\n",
       "        <tr>\n",
       "            <td>Jaws                            </td> <td>Universal      </td> <td>260000000</td> <td>1138620700      </td> <td>1975</td>\n",
       "        </tr>\n",
       "        <tr>\n",
       "            <td>Doctor Zhivago                  </td> <td>MGM            </td> <td>111721910</td> <td>1103564200      </td> <td>1965</td>\n",
       "        </tr>\n",
       "        <tr>\n",
       "            <td>The Exorcist                    </td> <td>Warner Brothers</td> <td>232906145</td> <td>983226600       </td> <td>1973</td>\n",
       "        </tr>\n",
       "        <tr>\n",
       "            <td>Snow White and the Seven Dwarves</td> <td>Disney         </td> <td>184925486</td> <td>969010000       </td> <td>1937</td>\n",
       "        </tr>\n",
       "    </tbody>\n",
       "</table>\n",
       "<p>... (190 rows omitted)</p>"
      ],
      "text/plain": [
       "Title                            | Studio          | Gross     | Gross (Adjusted) | Year\n",
       "Gone with the Wind               | MGM             | 198676459 | 1796176700       | 1939\n",
       "Star Wars                        | Fox             | 460998007 | 1583483200       | 1977\n",
       "The Sound of Music               | Fox             | 158671368 | 1266072700       | 1965\n",
       "E.T.: The Extra-Terrestrial      | Universal       | 435110554 | 1261085000       | 1982\n",
       "Titanic                          | Paramount       | 658672302 | 1204368000       | 1997\n",
       "The Ten Commandments             | Paramount       | 65500000  | 1164590000       | 1956\n",
       "Jaws                             | Universal       | 260000000 | 1138620700       | 1975\n",
       "Doctor Zhivago                   | MGM             | 111721910 | 1103564200       | 1965\n",
       "The Exorcist                     | Warner Brothers | 232906145 | 983226600        | 1973\n",
       "Snow White and the Seven Dwarves | Disney          | 184925486 | 969010000        | 1937\n",
       "... (190 rows omitted)"
      ]
     },
     "execution_count": 63,
     "metadata": {},
     "output_type": "execute_result"
    }
   ],
   "source": [
    "top_movies"
   ]
  },
  {
   "cell_type": "code",
   "execution_count": 64,
   "metadata": {},
   "outputs": [
    {
     "data": {
      "text/html": [
       "<table border=\"1\" class=\"dataframe\">\n",
       "    <thead>\n",
       "        <tr>\n",
       "            <th>Studio</th> <th>Gross (Adjusted)</th>\n",
       "        </tr>\n",
       "    </thead>\n",
       "    <tbody>\n",
       "        <tr>\n",
       "            <td>MGM            </td> <td>1796176700      </td>\n",
       "        </tr>\n",
       "        <tr>\n",
       "            <td>Fox            </td> <td>1583483200      </td>\n",
       "        </tr>\n",
       "        <tr>\n",
       "            <td>Fox            </td> <td>1266072700      </td>\n",
       "        </tr>\n",
       "        <tr>\n",
       "            <td>Universal      </td> <td>1261085000      </td>\n",
       "        </tr>\n",
       "        <tr>\n",
       "            <td>Paramount      </td> <td>1204368000      </td>\n",
       "        </tr>\n",
       "        <tr>\n",
       "            <td>Paramount      </td> <td>1164590000      </td>\n",
       "        </tr>\n",
       "        <tr>\n",
       "            <td>Universal      </td> <td>1138620700      </td>\n",
       "        </tr>\n",
       "        <tr>\n",
       "            <td>MGM            </td> <td>1103564200      </td>\n",
       "        </tr>\n",
       "        <tr>\n",
       "            <td>Warner Brothers</td> <td>983226600       </td>\n",
       "        </tr>\n",
       "        <tr>\n",
       "            <td>Disney         </td> <td>969010000       </td>\n",
       "        </tr>\n",
       "    </tbody>\n",
       "</table>\n",
       "<p>... (190 rows omitted)</p>"
      ],
      "text/plain": [
       "Studio          | Gross (Adjusted)\n",
       "MGM             | 1796176700\n",
       "Fox             | 1583483200\n",
       "Fox             | 1266072700\n",
       "Universal       | 1261085000\n",
       "Paramount       | 1204368000\n",
       "Paramount       | 1164590000\n",
       "Universal       | 1138620700\n",
       "MGM             | 1103564200\n",
       "Warner Brothers | 983226600\n",
       "Disney          | 969010000\n",
       "... (190 rows omitted)"
      ]
     },
     "execution_count": 64,
     "metadata": {},
     "output_type": "execute_result"
    }
   ],
   "source": [
    "# Focus on the Studio and Gross (Adjusted) columns\n",
    "top_movies_partial = top_movies.select('Studio', 'Gross (Adjusted)')\n",
    "top_movies_partial"
   ]
  },
  {
   "cell_type": "code",
   "execution_count": 65,
   "metadata": {},
   "outputs": [
    {
     "data": {
      "text/html": [
       "<table border=\"1\" class=\"dataframe\">\n",
       "    <thead>\n",
       "        <tr>\n",
       "            <th>Studio</th> <th>Gross (Adjusted) max</th>\n",
       "        </tr>\n",
       "    </thead>\n",
       "    <tbody>\n",
       "        <tr>\n",
       "            <td>AVCO       </td> <td>760778000           </td>\n",
       "        </tr>\n",
       "        <tr>\n",
       "            <td>Buena Vista</td> <td>961143200           </td>\n",
       "        </tr>\n",
       "        <tr>\n",
       "            <td>Columbia   </td> <td>632734400           </td>\n",
       "        </tr>\n",
       "        <tr>\n",
       "            <td>Disney     </td> <td>969010000           </td>\n",
       "        </tr>\n",
       "        <tr>\n",
       "            <td>Dreamworks </td> <td>631642700           </td>\n",
       "        </tr>\n",
       "        <tr>\n",
       "            <td>Fox        </td> <td>1583483200          </td>\n",
       "        </tr>\n",
       "        <tr>\n",
       "            <td>IFC        </td> <td>368219200           </td>\n",
       "        </tr>\n",
       "        <tr>\n",
       "            <td>Lionsgate  </td> <td>454409200           </td>\n",
       "        </tr>\n",
       "        <tr>\n",
       "            <td>MGM        </td> <td>1796176700          </td>\n",
       "        </tr>\n",
       "        <tr>\n",
       "            <td>Metro      </td> <td>408214300           </td>\n",
       "        </tr>\n",
       "    </tbody>\n",
       "</table>\n",
       "<p>... (13 rows omitted)</p>"
      ],
      "text/plain": [
       "Studio      | Gross (Adjusted) max\n",
       "AVCO        | 760778000\n",
       "Buena Vista | 961143200\n",
       "Columbia    | 632734400\n",
       "Disney      | 969010000\n",
       "Dreamworks  | 631642700\n",
       "Fox         | 1583483200\n",
       "IFC         | 368219200\n",
       "Lionsgate   | 454409200\n",
       "MGM         | 1796176700\n",
       "Metro       | 408214300\n",
       "... (13 rows omitted)"
      ]
     },
     "execution_count": 65,
     "metadata": {},
     "output_type": "execute_result"
    }
   ],
   "source": [
    "# What should we fill in here?\n",
    "top_gross_by_studio = top_movies_partial.group('Studio', max)\n",
    "top_gross_by_studio"
   ]
  },
  {
   "cell_type": "code",
   "execution_count": 66,
   "metadata": {},
   "outputs": [
    {
     "data": {
      "image/png": "[encoded data removed]",
      "text/plain": [
       "<Figure size 600x1150 with 1 Axes>"
      ]
     },
     "metadata": {},
     "output_type": "display_data"
    }
   ],
   "source": [
    "# We can plot these values as well! \n",
    "# Since Studio is a categorical variable, use a bar chart\n",
    "top_gross_by_studio.sort('Gross (Adjusted) max', descending=True).barh('Studio')"
   ]
  },
  {
   "cell_type": "markdown",
   "metadata": {},
   "source": [
    "## Grouping by Multiple Columns (Cross-Classification)"
   ]
  },
  {
   "cell_type": "code",
   "execution_count": 67,
   "metadata": {},
   "outputs": [
    {
     "data": {
      "text/html": [
       "<table border=\"1\" class=\"dataframe\">\n",
       "    <thead>\n",
       "        <tr>\n",
       "            <th>Flavor</th> <th>Color</th> <th>Price sum</th>\n",
       "        </tr>\n",
       "    </thead>\n",
       "    <tbody>\n",
       "        <tr>\n",
       "            <td>bubblegum </td> <td>pink       </td> <td>4.75     </td>\n",
       "        </tr>\n",
       "        <tr>\n",
       "            <td>chocolate </td> <td>dark brown </td> <td>10.5     </td>\n",
       "        </tr>\n",
       "        <tr>\n",
       "            <td>chocolate </td> <td>light brown</td> <td>4.75     </td>\n",
       "        </tr>\n",
       "        <tr>\n",
       "            <td>strawberry</td> <td>pink       </td> <td>8.8      </td>\n",
       "        </tr>\n",
       "    </tbody>\n",
       "</table>"
      ],
      "text/plain": [
       "Flavor     | Color       | Price sum\n",
       "bubblegum  | pink        | 4.75\n",
       "chocolate  | dark brown  | 10.5\n",
       "chocolate  | light brown | 4.75\n",
       "strawberry | pink        | 8.8"
      ]
     },
     "execution_count": 67,
     "metadata": {},
     "output_type": "execute_result"
    }
   ],
   "source": [
    "cones.group(['Flavor', 'Color'], sum)"
   ]
  },
  {
   "cell_type": "markdown",
   "metadata": {},
   "source": [
    "Another example: from the `top_movies` table, calculate the total gross (adjusted) for each studio in each year."
   ]
  },
  {
   "cell_type": "code",
   "execution_count": 68,
   "metadata": {},
   "outputs": [
    {
     "data": {
      "text/html": [
       "<table border=\"1\" class=\"dataframe\">\n",
       "    <thead>\n",
       "        <tr>\n",
       "            <th>Title</th> <th>Studio</th> <th>Gross</th> <th>Gross (Adjusted)</th> <th>Year</th>\n",
       "        </tr>\n",
       "    </thead>\n",
       "    <tbody>\n",
       "        <tr>\n",
       "            <td>Gone with the Wind              </td> <td>MGM            </td> <td>198676459</td> <td>1796176700      </td> <td>1939</td>\n",
       "        </tr>\n",
       "        <tr>\n",
       "            <td>Star Wars                       </td> <td>Fox            </td> <td>460998007</td> <td>1583483200      </td> <td>1977</td>\n",
       "        </tr>\n",
       "        <tr>\n",
       "            <td>The Sound of Music              </td> <td>Fox            </td> <td>158671368</td> <td>1266072700      </td> <td>1965</td>\n",
       "        </tr>\n",
       "        <tr>\n",
       "            <td>E.T.: The Extra-Terrestrial     </td> <td>Universal      </td> <td>435110554</td> <td>1261085000      </td> <td>1982</td>\n",
       "        </tr>\n",
       "        <tr>\n",
       "            <td>Titanic                         </td> <td>Paramount      </td> <td>658672302</td> <td>1204368000      </td> <td>1997</td>\n",
       "        </tr>\n",
       "        <tr>\n",
       "            <td>The Ten Commandments            </td> <td>Paramount      </td> <td>65500000 </td> <td>1164590000      </td> <td>1956</td>\n",
       "        </tr>\n",
       "        <tr>\n",
       "            <td>Jaws                            </td> <td>Universal      </td> <td>260000000</td> <td>1138620700      </td> <td>1975</td>\n",
       "        </tr>\n",
       "        <tr>\n",
       "            <td>Doctor Zhivago                  </td> <td>MGM            </td> <td>111721910</td> <td>1103564200      </td> <td>1965</td>\n",
       "        </tr>\n",
       "        <tr>\n",
       "            <td>The Exorcist                    </td> <td>Warner Brothers</td> <td>232906145</td> <td>983226600       </td> <td>1973</td>\n",
       "        </tr>\n",
       "        <tr>\n",
       "            <td>Snow White and the Seven Dwarves</td> <td>Disney         </td> <td>184925486</td> <td>969010000       </td> <td>1937</td>\n",
       "        </tr>\n",
       "    </tbody>\n",
       "</table>\n",
       "<p>... (190 rows omitted)</p>"
      ],
      "text/plain": [
       "Title                            | Studio          | Gross     | Gross (Adjusted) | Year\n",
       "Gone with the Wind               | MGM             | 198676459 | 1796176700       | 1939\n",
       "Star Wars                        | Fox             | 460998007 | 1583483200       | 1977\n",
       "The Sound of Music               | Fox             | 158671368 | 1266072700       | 1965\n",
       "E.T.: The Extra-Terrestrial      | Universal       | 435110554 | 1261085000       | 1982\n",
       "Titanic                          | Paramount       | 658672302 | 1204368000       | 1997\n",
       "The Ten Commandments             | Paramount       | 65500000  | 1164590000       | 1956\n",
       "Jaws                             | Universal       | 260000000 | 1138620700       | 1975\n",
       "Doctor Zhivago                   | MGM             | 111721910 | 1103564200       | 1965\n",
       "The Exorcist                     | Warner Brothers | 232906145 | 983226600        | 1973\n",
       "Snow White and the Seven Dwarves | Disney          | 184925486 | 969010000        | 1937\n",
       "... (190 rows omitted)"
      ]
     },
     "execution_count": 68,
     "metadata": {},
     "output_type": "execute_result"
    }
   ],
   "source": [
    "top_movies"
   ]
  },
  {
   "cell_type": "code",
   "execution_count": 69,
   "metadata": {},
   "outputs": [
    {
     "data": {
      "text/html": [
       "<table border=\"1\" class=\"dataframe\">\n",
       "    <thead>\n",
       "        <tr>\n",
       "            <th>Studio</th> <th>Year</th> <th>Gross (Adjusted) sum</th>\n",
       "        </tr>\n",
       "    </thead>\n",
       "    <tbody>\n",
       "        <tr>\n",
       "            <td>AVCO       </td> <td>1967</td> <td>760778000           </td>\n",
       "        </tr>\n",
       "        <tr>\n",
       "            <td>Buena Vista</td> <td>1987</td> <td>370746600           </td>\n",
       "        </tr>\n",
       "        <tr>\n",
       "            <td>Buena Vista</td> <td>1988</td> <td>338409100           </td>\n",
       "        </tr>\n",
       "        <tr>\n",
       "            <td>Buena Vista</td> <td>1990</td> <td>374948400           </td>\n",
       "        </tr>\n",
       "        <tr>\n",
       "            <td>Buena Vista</td> <td>1991</td> <td>403283400           </td>\n",
       "        </tr>\n",
       "        <tr>\n",
       "            <td>Buena Vista</td> <td>1992</td> <td>466212500           </td>\n",
       "        </tr>\n",
       "        <tr>\n",
       "            <td>Buena Vista</td> <td>1994</td> <td>792511700           </td>\n",
       "        </tr>\n",
       "        <tr>\n",
       "            <td>Buena Vista</td> <td>1995</td> <td>389989400           </td>\n",
       "        </tr>\n",
       "        <tr>\n",
       "            <td>Buena Vista</td> <td>1998</td> <td>382096000           </td>\n",
       "        </tr>\n",
       "        <tr>\n",
       "            <td>Buena Vista</td> <td>1999</td> <td>937145100           </td>\n",
       "        </tr>\n",
       "    </tbody>\n",
       "</table>\n",
       "<p>... (165 rows omitted)</p>"
      ],
      "text/plain": [
       "Studio      | Year | Gross (Adjusted) sum\n",
       "AVCO        | 1967 | 760778000\n",
       "Buena Vista | 1987 | 370746600\n",
       "Buena Vista | 1988 | 338409100\n",
       "Buena Vista | 1990 | 374948400\n",
       "Buena Vista | 1991 | 403283400\n",
       "Buena Vista | 1992 | 466212500\n",
       "Buena Vista | 1994 | 792511700\n",
       "Buena Vista | 1995 | 389989400\n",
       "Buena Vista | 1998 | 382096000\n",
       "Buena Vista | 1999 | 937145100\n",
       "... (165 rows omitted)"
      ]
     },
     "execution_count": 69,
     "metadata": {},
     "output_type": "execute_result"
    }
   ],
   "source": [
    "top_movies.select(['Studio', 'Year', 'Gross (Adjusted)']).group(['Studio', 'Year'], sum)"
   ]
  },
  {
   "cell_type": "markdown",
   "metadata": {},
   "source": [
    "**Discussion Question 1:** create a table that shows the height of the tallest building in each city for each material."
   ]
  },
  {
   "cell_type": "code",
   "execution_count": 70,
   "metadata": {},
   "outputs": [
    {
     "data": {
      "text/html": [
       "<table border=\"1\" class=\"dataframe\">\n",
       "    <thead>\n",
       "        <tr>\n",
       "            <th>name</th> <th>material</th> <th>city</th> <th>height</th> <th>age</th>\n",
       "        </tr>\n",
       "    </thead>\n",
       "    <tbody>\n",
       "        <tr>\n",
       "            <td>One World Trade Center           </td> <td>mixed/composite</td> <td>New York City</td> <td>541.3 </td> <td>9   </td>\n",
       "        </tr>\n",
       "        <tr>\n",
       "            <td>Willis Tower                     </td> <td>steel          </td> <td>Chicago      </td> <td>442.14</td> <td>49  </td>\n",
       "        </tr>\n",
       "        <tr>\n",
       "            <td>432 Park Avenue                  </td> <td>concrete       </td> <td>New York City</td> <td>425.5 </td> <td>8   </td>\n",
       "        </tr>\n",
       "        <tr>\n",
       "            <td>Trump International Hotel & Tower</td> <td>concrete       </td> <td>Chicago      </td> <td>423.22</td> <td>14  </td>\n",
       "        </tr>\n",
       "        <tr>\n",
       "            <td>Empire State Building            </td> <td>steel          </td> <td>New York City</td> <td>381   </td> <td>92  </td>\n",
       "        </tr>\n",
       "        <tr>\n",
       "            <td>Bank of America Tower            </td> <td>mixed/composite</td> <td>New York City</td> <td>365.8 </td> <td>14  </td>\n",
       "        </tr>\n",
       "        <tr>\n",
       "            <td>Stratosphere Tower               </td> <td>concrete       </td> <td>Las Vegas    </td> <td>350.22</td> <td>27  </td>\n",
       "        </tr>\n",
       "        <tr>\n",
       "            <td>Aon Center                       </td> <td>steel          </td> <td>Chicago      </td> <td>346.26</td> <td>50  </td>\n",
       "        </tr>\n",
       "        <tr>\n",
       "            <td>John Hancock Center              </td> <td>steel          </td> <td>Chicago      </td> <td>343.69</td> <td>54  </td>\n",
       "        </tr>\n",
       "        <tr>\n",
       "            <td>Chrysler Building                </td> <td>steel          </td> <td>New York City</td> <td>318.9 </td> <td>93  </td>\n",
       "        </tr>\n",
       "    </tbody>\n",
       "</table>\n",
       "<p>... (1771 rows omitted)</p>"
      ],
      "text/plain": [
       "name                              | material        | city          | height | age\n",
       "One World Trade Center            | mixed/composite | New York City | 541.3  | 9\n",
       "Willis Tower                      | steel           | Chicago       | 442.14 | 49\n",
       "432 Park Avenue                   | concrete        | New York City | 425.5  | 8\n",
       "Trump International Hotel & Tower | concrete        | Chicago       | 423.22 | 14\n",
       "Empire State Building             | steel           | New York City | 381    | 92\n",
       "Bank of America Tower             | mixed/composite | New York City | 365.8  | 14\n",
       "Stratosphere Tower                | concrete        | Las Vegas     | 350.22 | 27\n",
       "Aon Center                        | steel           | Chicago       | 346.26 | 50\n",
       "John Hancock Center               | steel           | Chicago       | 343.69 | 54\n",
       "Chrysler Building                 | steel           | New York City | 318.9  | 93\n",
       "... (1771 rows omitted)"
      ]
     },
     "execution_count": 70,
     "metadata": {},
     "output_type": "execute_result"
    }
   ],
   "source": [
    "# Load table of skyscrapers\n",
    "sky = Table.read_table('data/skyscrapers_v2.csv')\n",
    "\n",
    "# Replace year completed column with age column\n",
    "sky = sky.with_column('age', 2023 - sky.column('completed')).drop('completed')\n",
    "sky"
   ]
  },
  {
   "cell_type": "code",
   "execution_count": 72,
   "metadata": {},
   "outputs": [
    {
     "data": {
      "text/html": [
       "<table border=\"1\" class=\"dataframe\">\n",
       "    <thead>\n",
       "        <tr>\n",
       "            <th>material</th> <th>city</th> <th>height max</th>\n",
       "        </tr>\n",
       "    </thead>\n",
       "    <tbody>\n",
       "        <tr>\n",
       "            <td>concrete</td> <td>Atlanta   </td> <td>264.25    </td>\n",
       "        </tr>\n",
       "        <tr>\n",
       "            <td>concrete</td> <td>Austin    </td> <td>208.15    </td>\n",
       "        </tr>\n",
       "        <tr>\n",
       "            <td>concrete</td> <td>Baltimore </td> <td>161.24    </td>\n",
       "        </tr>\n",
       "        <tr>\n",
       "            <td>concrete</td> <td>Boston    </td> <td>121.92    </td>\n",
       "        </tr>\n",
       "        <tr>\n",
       "            <td>concrete</td> <td>Charlotte </td> <td>265.48    </td>\n",
       "        </tr>\n",
       "        <tr>\n",
       "            <td>concrete</td> <td>Chicago   </td> <td>423.22    </td>\n",
       "        </tr>\n",
       "        <tr>\n",
       "            <td>concrete</td> <td>Cincinnati</td> <td>125       </td>\n",
       "        </tr>\n",
       "        <tr>\n",
       "            <td>concrete</td> <td>Cleveland </td> <td>125       </td>\n",
       "        </tr>\n",
       "        <tr>\n",
       "            <td>concrete</td> <td>Columbus  </td> <td>79.25     </td>\n",
       "        </tr>\n",
       "        <tr>\n",
       "            <td>concrete</td> <td>Dallas    </td> <td>176.48    </td>\n",
       "        </tr>\n",
       "    </tbody>\n",
       "</table>\n",
       "<p>... (81 rows omitted)</p>"
      ],
      "text/plain": [
       "material | city       | height max\n",
       "concrete | Atlanta    | 264.25\n",
       "concrete | Austin     | 208.15\n",
       "concrete | Baltimore  | 161.24\n",
       "concrete | Boston     | 121.92\n",
       "concrete | Charlotte  | 265.48\n",
       "concrete | Chicago    | 423.22\n",
       "concrete | Cincinnati | 125\n",
       "concrete | Cleveland  | 125\n",
       "concrete | Columbus   | 79.25\n",
       "concrete | Dallas     | 176.48\n",
       "... (81 rows omitted)"
      ]
     },
     "execution_count": 72,
     "metadata": {},
     "output_type": "execute_result"
    }
   ],
   "source": [
    "# What are the two variables that we need to group by?\n",
    "# What function should we use to aggregate?\n",
    "sky.select(['material', 'city', 'height']).group(['material', 'city'], max)"
   ]
  },
  {
   "cell_type": "markdown",
   "metadata": {},
   "source": [
    "## Grouping by 2 Columns: Pivot Tables"
   ]
  },
  {
   "cell_type": "markdown",
   "metadata": {},
   "source": [
    "The following two tables contain the same information, but in different formats:"
   ]
  },
  {
   "cell_type": "code",
   "execution_count": 73,
   "metadata": {},
   "outputs": [
    {
     "data": {
      "text/html": [
       "<table border=\"1\" class=\"dataframe\">\n",
       "    <thead>\n",
       "        <tr>\n",
       "            <th>Flavor</th> <th>Color</th> <th>Price sum</th>\n",
       "        </tr>\n",
       "    </thead>\n",
       "    <tbody>\n",
       "        <tr>\n",
       "            <td>bubblegum </td> <td>pink       </td> <td>4.75     </td>\n",
       "        </tr>\n",
       "        <tr>\n",
       "            <td>chocolate </td> <td>dark brown </td> <td>10.5     </td>\n",
       "        </tr>\n",
       "        <tr>\n",
       "            <td>chocolate </td> <td>light brown</td> <td>4.75     </td>\n",
       "        </tr>\n",
       "        <tr>\n",
       "            <td>strawberry</td> <td>pink       </td> <td>8.8      </td>\n",
       "        </tr>\n",
       "    </tbody>\n",
       "</table>"
      ],
      "text/plain": [
       "Flavor     | Color       | Price sum\n",
       "bubblegum  | pink        | 4.75\n",
       "chocolate  | dark brown  | 10.5\n",
       "chocolate  | light brown | 4.75\n",
       "strawberry | pink        | 8.8"
      ]
     },
     "execution_count": 73,
     "metadata": {},
     "output_type": "execute_result"
    }
   ],
   "source": [
    "cones.group(['Flavor', 'Color'], sum)"
   ]
  },
  {
   "cell_type": "code",
   "execution_count": 74,
   "metadata": {},
   "outputs": [
    {
     "data": {
      "text/html": [
       "<table border=\"1\" class=\"dataframe\">\n",
       "    <thead>\n",
       "        <tr>\n",
       "            <th>Color</th> <th>bubblegum</th> <th>chocolate</th> <th>strawberry</th>\n",
       "        </tr>\n",
       "    </thead>\n",
       "    <tbody>\n",
       "        <tr>\n",
       "            <td>dark brown </td> <td>0        </td> <td>10.5     </td> <td>0         </td>\n",
       "        </tr>\n",
       "        <tr>\n",
       "            <td>light brown</td> <td>0        </td> <td>4.75     </td> <td>0         </td>\n",
       "        </tr>\n",
       "        <tr>\n",
       "            <td>pink       </td> <td>4.75     </td> <td>0        </td> <td>8.8       </td>\n",
       "        </tr>\n",
       "    </tbody>\n",
       "</table>"
      ],
      "text/plain": [
       "Color       | bubblegum | chocolate | strawberry\n",
       "dark brown  | 0         | 10.5      | 0\n",
       "light brown | 0         | 4.75      | 0\n",
       "pink        | 4.75      | 0         | 8.8"
      ]
     },
     "execution_count": 74,
     "metadata": {},
     "output_type": "execute_result"
    }
   ],
   "source": [
    "cones.pivot('Flavor', 'Color', 'Price', sum)"
   ]
  },
  {
   "cell_type": "markdown",
   "metadata": {},
   "source": [
    "What if we reverse the order of the first two arguments?"
   ]
  },
  {
   "cell_type": "code",
   "execution_count": 75,
   "metadata": {},
   "outputs": [
    {
     "data": {
      "text/html": [
       "<table border=\"1\" class=\"dataframe\">\n",
       "    <thead>\n",
       "        <tr>\n",
       "            <th>Flavor</th> <th>dark brown</th> <th>light brown</th> <th>pink</th>\n",
       "        </tr>\n",
       "    </thead>\n",
       "    <tbody>\n",
       "        <tr>\n",
       "            <td>bubblegum </td> <td>0         </td> <td>0          </td> <td>4.75</td>\n",
       "        </tr>\n",
       "        <tr>\n",
       "            <td>chocolate </td> <td>10.5      </td> <td>4.75       </td> <td>0   </td>\n",
       "        </tr>\n",
       "        <tr>\n",
       "            <td>strawberry</td> <td>0         </td> <td>0          </td> <td>8.8 </td>\n",
       "        </tr>\n",
       "    </tbody>\n",
       "</table>"
      ],
      "text/plain": [
       "Flavor     | dark brown | light brown | pink\n",
       "bubblegum  | 0          | 0           | 4.75\n",
       "chocolate  | 10.5       | 4.75        | 0\n",
       "strawberry | 0          | 0           | 8.8"
      ]
     },
     "execution_count": 75,
     "metadata": {},
     "output_type": "execute_result"
    }
   ],
   "source": [
    "cones.pivot('Color', 'Flavor', 'Price', sum)"
   ]
  },
  {
   "cell_type": "markdown",
   "metadata": {},
   "source": [
    "Another example: from the `top_movies` table, calculate the total gross (adjusted) for each studio in each year---using a pivot table!"
   ]
  },
  {
   "cell_type": "code",
   "execution_count": 76,
   "metadata": {},
   "outputs": [
    {
     "data": {
      "text/html": [
       "<table border=\"1\" class=\"dataframe\">\n",
       "    <thead>\n",
       "        <tr>\n",
       "            <th>Year</th> <th>AVCO</th> <th>Buena Vista</th> <th>Columbia</th> <th>Disney</th> <th>Dreamworks</th> <th>Fox</th> <th>IFC</th> <th>Lionsgate</th> <th>MGM</th> <th>Metro</th> <th>NM</th> <th>Newline</th> <th>Orion</th> <th>Paramount</th> <th>Paramount/Dreamworks</th> <th>RKO</th> <th>Selz.</th> <th>Sony</th> <th>Sum.</th> <th>Tristar</th> <th>United Artists</th> <th>Universal</th> <th>Warner Brothers</th>\n",
       "        </tr>\n",
       "    </thead>\n",
       "    <tbody>\n",
       "        <tr>\n",
       "            <td>1921</td> <td>0   </td> <td>0          </td> <td>0       </td> <td>0        </td> <td>0         </td> <td>0   </td> <td>0   </td> <td>0        </td> <td>0         </td> <td>408214300</td> <td>0   </td> <td>0      </td> <td>0    </td> <td>0        </td> <td>0                   </td> <td>0        </td> <td>0        </td> <td>0   </td> <td>0   </td> <td>0      </td> <td>0             </td> <td>0        </td> <td>0              </td>\n",
       "        </tr>\n",
       "        <tr>\n",
       "            <td>1937</td> <td>0   </td> <td>0          </td> <td>0       </td> <td>969010000</td> <td>0         </td> <td>0   </td> <td>0   </td> <td>0        </td> <td>0         </td> <td>0        </td> <td>0   </td> <td>0      </td> <td>0    </td> <td>0        </td> <td>0                   </td> <td>0        </td> <td>0        </td> <td>0   </td> <td>0   </td> <td>0      </td> <td>0             </td> <td>0        </td> <td>0              </td>\n",
       "        </tr>\n",
       "        <tr>\n",
       "            <td>1939</td> <td>0   </td> <td>0          </td> <td>0       </td> <td>0        </td> <td>0         </td> <td>0   </td> <td>0   </td> <td>0        </td> <td>1796176700</td> <td>0        </td> <td>0   </td> <td>0      </td> <td>0    </td> <td>0        </td> <td>0                   </td> <td>0        </td> <td>0        </td> <td>0   </td> <td>0   </td> <td>0      </td> <td>0             </td> <td>0        </td> <td>0              </td>\n",
       "        </tr>\n",
       "        <tr>\n",
       "            <td>1940</td> <td>0   </td> <td>0          </td> <td>0       </td> <td>599215600</td> <td>0         </td> <td>0   </td> <td>0   </td> <td>0        </td> <td>0         </td> <td>0        </td> <td>0   </td> <td>0      </td> <td>0    </td> <td>0        </td> <td>0                   </td> <td>0        </td> <td>0        </td> <td>0   </td> <td>0   </td> <td>0      </td> <td>0             </td> <td>0        </td> <td>0              </td>\n",
       "        </tr>\n",
       "        <tr>\n",
       "            <td>1941</td> <td>0   </td> <td>0          </td> <td>0       </td> <td>738256500</td> <td>0         </td> <td>0   </td> <td>0   </td> <td>0        </td> <td>0         </td> <td>0        </td> <td>0   </td> <td>0      </td> <td>0    </td> <td>0        </td> <td>0                   </td> <td>0        </td> <td>0        </td> <td>0   </td> <td>0   </td> <td>0      </td> <td>0             </td> <td>0        </td> <td>427815200      </td>\n",
       "        </tr>\n",
       "        <tr>\n",
       "            <td>1942</td> <td>0   </td> <td>0          </td> <td>0       </td> <td>0        </td> <td>0         </td> <td>0   </td> <td>0   </td> <td>0        </td> <td>0         </td> <td>0        </td> <td>0   </td> <td>0      </td> <td>0    </td> <td>0        </td> <td>0                   </td> <td>566403700</td> <td>0        </td> <td>0   </td> <td>0   </td> <td>0      </td> <td>0             </td> <td>0        </td> <td>0              </td>\n",
       "        </tr>\n",
       "        <tr>\n",
       "            <td>1945</td> <td>0   </td> <td>0          </td> <td>0       </td> <td>0        </td> <td>0         </td> <td>0   </td> <td>0   </td> <td>0        </td> <td>0         </td> <td>0        </td> <td>0   </td> <td>0      </td> <td>0    </td> <td>0        </td> <td>0                   </td> <td>557803900</td> <td>0        </td> <td>0   </td> <td>0   </td> <td>0      </td> <td>0             </td> <td>0        </td> <td>0              </td>\n",
       "        </tr>\n",
       "        <tr>\n",
       "            <td>1946</td> <td>0   </td> <td>0          </td> <td>0       </td> <td>0        </td> <td>0         </td> <td>0   </td> <td>0   </td> <td>0        </td> <td>0         </td> <td>0        </td> <td>0   </td> <td>0      </td> <td>0    </td> <td>0        </td> <td>0                   </td> <td>488950000</td> <td>453571400</td> <td>0   </td> <td>0   </td> <td>0      </td> <td>0             </td> <td>0        </td> <td>0              </td>\n",
       "        </tr>\n",
       "        <tr>\n",
       "            <td>1950</td> <td>0   </td> <td>0          </td> <td>0       </td> <td>536079700</td> <td>0         </td> <td>0   </td> <td>0   </td> <td>0        </td> <td>0         </td> <td>0        </td> <td>0   </td> <td>0      </td> <td>0    </td> <td>0        </td> <td>0                   </td> <td>0        </td> <td>0        </td> <td>0   </td> <td>0   </td> <td>0      </td> <td>0             </td> <td>0        </td> <td>0              </td>\n",
       "        </tr>\n",
       "        <tr>\n",
       "            <td>1952</td> <td>0   </td> <td>0          </td> <td>0       </td> <td>0        </td> <td>0         </td> <td>0   </td> <td>0   </td> <td>0        </td> <td>0         </td> <td>0        </td> <td>0   </td> <td>0      </td> <td>0    </td> <td>533400000</td> <td>0                   </td> <td>0        </td> <td>0        </td> <td>0   </td> <td>0   </td> <td>0      </td> <td>0             </td> <td>0        </td> <td>0              </td>\n",
       "        </tr>\n",
       "    </tbody>\n",
       "</table>\n",
       "<p>... (62 rows omitted)</p>"
      ],
      "text/plain": [
       "Year | AVCO | Buena Vista | Columbia | Disney    | Dreamworks | Fox  | IFC  | Lionsgate | MGM        | Metro     | NM   | Newline | Orion | Paramount | Paramount/Dreamworks | RKO       | Selz.     | Sony | Sum. | Tristar | United Artists | Universal | Warner Brothers\n",
       "1921 | 0    | 0           | 0        | 0         | 0          | 0    | 0    | 0         | 0          | 408214300 | 0    | 0       | 0     | 0         | 0                    | 0         | 0         | 0    | 0    | 0       | 0              | 0         | 0\n",
       "1937 | 0    | 0           | 0        | 969010000 | 0          | 0    | 0    | 0         | 0          | 0         | 0    | 0       | 0     | 0         | 0                    | 0         | 0         | 0    | 0    | 0       | 0              | 0         | 0\n",
       "1939 | 0    | 0           | 0        | 0         | 0          | 0    | 0    | 0         | 1796176700 | 0         | 0    | 0       | 0     | 0         | 0                    | 0         | 0         | 0    | 0    | 0       | 0              | 0         | 0\n",
       "1940 | 0    | 0           | 0        | 599215600 | 0          | 0    | 0    | 0         | 0          | 0         | 0    | 0       | 0     | 0         | 0                    | 0         | 0         | 0    | 0    | 0       | 0              | 0         | 0\n",
       "1941 | 0    | 0           | 0        | 738256500 | 0          | 0    | 0    | 0         | 0          | 0         | 0    | 0       | 0     | 0         | 0                    | 0         | 0         | 0    | 0    | 0       | 0              | 0         | 427815200\n",
       "1942 | 0    | 0           | 0        | 0         | 0          | 0    | 0    | 0         | 0          | 0         | 0    | 0       | 0     | 0         | 0                    | 566403700 | 0         | 0    | 0    | 0       | 0              | 0         | 0\n",
       "1945 | 0    | 0           | 0        | 0         | 0          | 0    | 0    | 0         | 0          | 0         | 0    | 0       | 0     | 0         | 0                    | 557803900 | 0         | 0    | 0    | 0       | 0              | 0         | 0\n",
       "1946 | 0    | 0           | 0        | 0         | 0          | 0    | 0    | 0         | 0          | 0         | 0    | 0       | 0     | 0         | 0                    | 488950000 | 453571400 | 0    | 0    | 0       | 0              | 0         | 0\n",
       "1950 | 0    | 0           | 0        | 536079700 | 0          | 0    | 0    | 0         | 0          | 0         | 0    | 0       | 0     | 0         | 0                    | 0         | 0         | 0    | 0    | 0       | 0              | 0         | 0\n",
       "1952 | 0    | 0           | 0        | 0         | 0          | 0    | 0    | 0         | 0          | 0         | 0    | 0       | 0     | 533400000 | 0                    | 0         | 0         | 0    | 0    | 0       | 0              | 0         | 0\n",
       "... (62 rows omitted)"
      ]
     },
     "execution_count": 76,
     "metadata": {},
     "output_type": "execute_result"
    }
   ],
   "source": [
    "top_movies.pivot('Studio', 'Year', 'Gross (Adjusted)', sum)"
   ]
  },
  {
   "cell_type": "markdown",
   "metadata": {},
   "source": [
    "Yet another example: remember the census dataset? We can use a pivot table to get the total population for males and females in each age group."
   ]
  },
  {
   "cell_type": "code",
   "execution_count": 77,
   "metadata": {},
   "outputs": [
    {
     "data": {
      "text/html": [
       "<table border=\"1\" class=\"dataframe\">\n",
       "    <thead>\n",
       "        <tr>\n",
       "            <th>SEX</th> <th>AGE</th> <th>CENSUS2010POP</th> <th>ESTIMATESBASE2010</th> <th>POPESTIMATE2010</th> <th>POPESTIMATE2011</th> <th>POPESTIMATE2012</th> <th>POPESTIMATE2013</th> <th>POPESTIMATE2014</th> <th>POPESTIMATE2015</th> <th>POPESTIMATE2016</th> <th>POPESTIMATE2017</th> <th>POPESTIMATE2018</th> <th>POPESTIMATE2019</th>\n",
       "        </tr>\n",
       "    </thead>\n",
       "    <tbody>\n",
       "        <tr>\n",
       "            <td>0   </td> <td>0   </td> <td>3944153      </td> <td>3944160          </td> <td>3951430        </td> <td>3963092        </td> <td>3926570        </td> <td>3931258        </td> <td>3954787        </td> <td>3983981        </td> <td>3954773        </td> <td>3893990        </td> <td>3815343        </td> <td>3783052        </td>\n",
       "        </tr>\n",
       "        <tr>\n",
       "            <td>0   </td> <td>1   </td> <td>3978070      </td> <td>3978090          </td> <td>3957730        </td> <td>3966225        </td> <td>3977549        </td> <td>3942698        </td> <td>3948891        </td> <td>3973133        </td> <td>4002903        </td> <td>3972711        </td> <td>3908830        </td> <td>3829599        </td>\n",
       "        </tr>\n",
       "        <tr>\n",
       "            <td>0   </td> <td>2   </td> <td>4096929      </td> <td>4096939          </td> <td>4090621        </td> <td>3970654        </td> <td>3978925        </td> <td>3991740        </td> <td>3958711        </td> <td>3966321        </td> <td>3991349        </td> <td>4020045        </td> <td>3987032        </td> <td>3922044        </td>\n",
       "        </tr>\n",
       "        <tr>\n",
       "            <td>0   </td> <td>3   </td> <td>4119040      </td> <td>4119051          </td> <td>4111688        </td> <td>4101644        </td> <td>3981531        </td> <td>3991017        </td> <td>4005928        </td> <td>3974351        </td> <td>3982984        </td> <td>4006946        </td> <td>4033038        </td> <td>3998665        </td>\n",
       "        </tr>\n",
       "        <tr>\n",
       "            <td>0   </td> <td>4   </td> <td>4063170      </td> <td>4063186          </td> <td>4077346        </td> <td>4121488        </td> <td>4111490        </td> <td>3992502        </td> <td>4004032        </td> <td>4020292        </td> <td>3989750        </td> <td>3997280        </td> <td>4018719        </td> <td>4043323        </td>\n",
       "        </tr>\n",
       "        <tr>\n",
       "            <td>0   </td> <td>5   </td> <td>4056858      </td> <td>4056872          </td> <td>4064521        </td> <td>4087054        </td> <td>4131049        </td> <td>4121876        </td> <td>4004576        </td> <td>4017589        </td> <td>4035033        </td> <td>4003452        </td> <td>4008443        </td> <td>4028281        </td>\n",
       "        </tr>\n",
       "        <tr>\n",
       "            <td>0   </td> <td>6   </td> <td>4066381      </td> <td>4066412          </td> <td>4072904        </td> <td>4074531        </td> <td>4096631        </td> <td>4141126        </td> <td>4133372        </td> <td>4017388        </td> <td>4031568        </td> <td>4048018        </td> <td>4014057        </td> <td>4017227        </td>\n",
       "        </tr>\n",
       "        <tr>\n",
       "            <td>0   </td> <td>7   </td> <td>4030579      </td> <td>4030594          </td> <td>4042990        </td> <td>4082821        </td> <td>4084175        </td> <td>4106756        </td> <td>4152666        </td> <td>4145872        </td> <td>4030888        </td> <td>4044139        </td> <td>4058370        </td> <td>4022319        </td>\n",
       "        </tr>\n",
       "        <tr>\n",
       "            <td>0   </td> <td>8   </td> <td>4046486      </td> <td>4046497          </td> <td>4025501        </td> <td>4052773        </td> <td>4092559        </td> <td>4094513        </td> <td>4118349        </td> <td>4165033        </td> <td>4158848        </td> <td>4042924        </td> <td>4054236        </td> <td>4066194        </td>\n",
       "        </tr>\n",
       "        <tr>\n",
       "            <td>0   </td> <td>9   </td> <td>4148353      </td> <td>4148369          </td> <td>4125312        </td> <td>4035319        </td> <td>4062726        </td> <td>4103052        </td> <td>4106068        </td> <td>4130887        </td> <td>4177895        </td> <td>4170813        </td> <td>4053179        </td> <td>4061874        </td>\n",
       "        </tr>\n",
       "    </tbody>\n",
       "</table>\n",
       "<p>... (296 rows omitted)</p>"
      ],
      "text/plain": [
       "SEX  | AGE  | CENSUS2010POP | ESTIMATESBASE2010 | POPESTIMATE2010 | POPESTIMATE2011 | POPESTIMATE2012 | POPESTIMATE2013 | POPESTIMATE2014 | POPESTIMATE2015 | POPESTIMATE2016 | POPESTIMATE2017 | POPESTIMATE2018 | POPESTIMATE2019\n",
       "0    | 0    | 3944153       | 3944160           | 3951430         | 3963092         | 3926570         | 3931258         | 3954787         | 3983981         | 3954773         | 3893990         | 3815343         | 3783052\n",
       "0    | 1    | 3978070       | 3978090           | 3957730         | 3966225         | 3977549         | 3942698         | 3948891         | 3973133         | 4002903         | 3972711         | 3908830         | 3829599\n",
       "0    | 2    | 4096929       | 4096939           | 4090621         | 3970654         | 3978925         | 3991740         | 3958711         | 3966321         | 3991349         | 4020045         | 3987032         | 3922044\n",
       "0    | 3    | 4119040       | 4119051           | 4111688         | 4101644         | 3981531         | 3991017         | 4005928         | 3974351         | 3982984         | 4006946         | 4033038         | 3998665\n",
       "0    | 4    | 4063170       | 4063186           | 4077346         | 4121488         | 4111490         | 3992502         | 4004032         | 4020292         | 3989750         | 3997280         | 4018719         | 4043323\n",
       "0    | 5    | 4056858       | 4056872           | 4064521         | 4087054         | 4131049         | 4121876         | 4004576         | 4017589         | 4035033         | 4003452         | 4008443         | 4028281\n",
       "0    | 6    | 4066381       | 4066412           | 4072904         | 4074531         | 4096631         | 4141126         | 4133372         | 4017388         | 4031568         | 4048018         | 4014057         | 4017227\n",
       "0    | 7    | 4030579       | 4030594           | 4042990         | 4082821         | 4084175         | 4106756         | 4152666         | 4145872         | 4030888         | 4044139         | 4058370         | 4022319\n",
       "0    | 8    | 4046486       | 4046497           | 4025501         | 4052773         | 4092559         | 4094513         | 4118349         | 4165033         | 4158848         | 4042924         | 4054236         | 4066194\n",
       "0    | 9    | 4148353       | 4148369           | 4125312         | 4035319         | 4062726         | 4103052         | 4106068         | 4130887         | 4177895         | 4170813         | 4053179         | 4061874\n",
       "... (296 rows omitted)"
      ]
     },
     "execution_count": 77,
     "metadata": {},
     "output_type": "execute_result"
    }
   ],
   "source": [
    "# Download and import the table of census data\n",
    "data = 'http://www2.census.gov/programs-surveys/popest/technical-documentation/file-layouts/2010-2019/nc-est2019-agesex-res.csv' \n",
    "full_census_table = Table.read_table(data)\n",
    "full_census_table"
   ]
  },
  {
   "cell_type": "code",
   "execution_count": 78,
   "metadata": {},
   "outputs": [
    {
     "data": {
      "text/html": [
       "<table border=\"1\" class=\"dataframe\">\n",
       "    <thead>\n",
       "        <tr>\n",
       "            <th>AGE</th> <th>Total</th> <th>MALE</th> <th>FEMALE</th>\n",
       "        </tr>\n",
       "    </thead>\n",
       "    <tbody>\n",
       "        <tr>\n",
       "            <td>0   </td> <td>3783052</td> <td>1935117</td> <td>1847935</td>\n",
       "        </tr>\n",
       "        <tr>\n",
       "            <td>1   </td> <td>3829599</td> <td>1958585</td> <td>1871014</td>\n",
       "        </tr>\n",
       "        <tr>\n",
       "            <td>2   </td> <td>3922044</td> <td>2005544</td> <td>1916500</td>\n",
       "        </tr>\n",
       "        <tr>\n",
       "            <td>3   </td> <td>3998665</td> <td>2043010</td> <td>1955655</td>\n",
       "        </tr>\n",
       "        <tr>\n",
       "            <td>4   </td> <td>4043323</td> <td>2066951</td> <td>1976372</td>\n",
       "        </tr>\n",
       "        <tr>\n",
       "            <td>5   </td> <td>4028281</td> <td>2061200</td> <td>1967081</td>\n",
       "        </tr>\n",
       "        <tr>\n",
       "            <td>6   </td> <td>4017227</td> <td>2052956</td> <td>1964271</td>\n",
       "        </tr>\n",
       "        <tr>\n",
       "            <td>7   </td> <td>4022319</td> <td>2055735</td> <td>1966584</td>\n",
       "        </tr>\n",
       "        <tr>\n",
       "            <td>8   </td> <td>4066194</td> <td>2079723</td> <td>1986471</td>\n",
       "        </tr>\n",
       "        <tr>\n",
       "            <td>9   </td> <td>4061874</td> <td>2073148</td> <td>1988726</td>\n",
       "        </tr>\n",
       "    </tbody>\n",
       "</table>\n",
       "<p>... (92 rows omitted)</p>"
      ],
      "text/plain": [
       "AGE  | Total   | MALE    | FEMALE\n",
       "0    | 3783052 | 1935117 | 1847935\n",
       "1    | 3829599 | 1958585 | 1871014\n",
       "2    | 3922044 | 2005544 | 1916500\n",
       "3    | 3998665 | 2043010 | 1955655\n",
       "4    | 4043323 | 2066951 | 1976372\n",
       "5    | 4028281 | 2061200 | 1967081\n",
       "6    | 4017227 | 2052956 | 1964271\n",
       "7    | 4022319 | 2055735 | 1966584\n",
       "8    | 4066194 | 2079723 | 1986471\n",
       "9    | 4061874 | 2073148 | 1988726\n",
       "... (92 rows omitted)"
      ]
     },
     "execution_count": 78,
     "metadata": {},
     "output_type": "execute_result"
    }
   ],
   "source": [
    "census_pivot = full_census_table.pivot('SEX', 'AGE', 'POPESTIMATE2019', sum)\n",
    "\n",
    "# Relabel columns based on the census sex codes\n",
    "census_pivot.relabel('0', 'Total')\n",
    "census_pivot.relabel('1', 'MALE')\n",
    "census_pivot.relabel('2', 'FEMALE')"
   ]
  },
  {
   "cell_type": "markdown",
   "metadata": {},
   "source": [
    "**Discussion Question 2:** create a table containing the height difference between the tallest steel building and the tallest concrete building in each city.\n",
    "\n",
    "*Hint:* you can solve this by creating a pivot table and then performing some extra steps."
   ]
  },
  {
   "cell_type": "code",
   "execution_count": 79,
   "metadata": {},
   "outputs": [
    {
     "data": {
      "text/html": [
       "<table border=\"1\" class=\"dataframe\">\n",
       "    <thead>\n",
       "        <tr>\n",
       "            <th>name</th> <th>material</th> <th>city</th> <th>height</th> <th>age</th>\n",
       "        </tr>\n",
       "    </thead>\n",
       "    <tbody>\n",
       "        <tr>\n",
       "            <td>One World Trade Center           </td> <td>mixed/composite</td> <td>New York City</td> <td>541.3 </td> <td>9   </td>\n",
       "        </tr>\n",
       "        <tr>\n",
       "            <td>Willis Tower                     </td> <td>steel          </td> <td>Chicago      </td> <td>442.14</td> <td>49  </td>\n",
       "        </tr>\n",
       "        <tr>\n",
       "            <td>432 Park Avenue                  </td> <td>concrete       </td> <td>New York City</td> <td>425.5 </td> <td>8   </td>\n",
       "        </tr>\n",
       "        <tr>\n",
       "            <td>Trump International Hotel & Tower</td> <td>concrete       </td> <td>Chicago      </td> <td>423.22</td> <td>14  </td>\n",
       "        </tr>\n",
       "        <tr>\n",
       "            <td>Empire State Building            </td> <td>steel          </td> <td>New York City</td> <td>381   </td> <td>92  </td>\n",
       "        </tr>\n",
       "        <tr>\n",
       "            <td>Bank of America Tower            </td> <td>mixed/composite</td> <td>New York City</td> <td>365.8 </td> <td>14  </td>\n",
       "        </tr>\n",
       "        <tr>\n",
       "            <td>Stratosphere Tower               </td> <td>concrete       </td> <td>Las Vegas    </td> <td>350.22</td> <td>27  </td>\n",
       "        </tr>\n",
       "        <tr>\n",
       "            <td>Aon Center                       </td> <td>steel          </td> <td>Chicago      </td> <td>346.26</td> <td>50  </td>\n",
       "        </tr>\n",
       "        <tr>\n",
       "            <td>John Hancock Center              </td> <td>steel          </td> <td>Chicago      </td> <td>343.69</td> <td>54  </td>\n",
       "        </tr>\n",
       "        <tr>\n",
       "            <td>Chrysler Building                </td> <td>steel          </td> <td>New York City</td> <td>318.9 </td> <td>93  </td>\n",
       "        </tr>\n",
       "    </tbody>\n",
       "</table>\n",
       "<p>... (1771 rows omitted)</p>"
      ],
      "text/plain": [
       "name                              | material        | city          | height | age\n",
       "One World Trade Center            | mixed/composite | New York City | 541.3  | 9\n",
       "Willis Tower                      | steel           | Chicago       | 442.14 | 49\n",
       "432 Park Avenue                   | concrete        | New York City | 425.5  | 8\n",
       "Trump International Hotel & Tower | concrete        | Chicago       | 423.22 | 14\n",
       "Empire State Building             | steel           | New York City | 381    | 92\n",
       "Bank of America Tower             | mixed/composite | New York City | 365.8  | 14\n",
       "Stratosphere Tower                | concrete        | Las Vegas     | 350.22 | 27\n",
       "Aon Center                        | steel           | Chicago       | 346.26 | 50\n",
       "John Hancock Center               | steel           | Chicago       | 343.69 | 54\n",
       "Chrysler Building                 | steel           | New York City | 318.9  | 93\n",
       "... (1771 rows omitted)"
      ]
     },
     "execution_count": 79,
     "metadata": {},
     "output_type": "execute_result"
    }
   ],
   "source": [
    "sky"
   ]
  },
  {
   "cell_type": "code",
   "execution_count": 84,
   "metadata": {},
   "outputs": [
    {
     "data": {
      "text/html": [
       "<table border=\"1\" class=\"dataframe\">\n",
       "    <thead>\n",
       "        <tr>\n",
       "            <th>city</th> <th>concrete</th> <th>steel</th> <th>Height Diff</th>\n",
       "        </tr>\n",
       "    </thead>\n",
       "    <tbody>\n",
       "        <tr>\n",
       "            <td>Atlanta   </td> <td>264.25  </td> <td>169.47</td> <td>-94.78     </td>\n",
       "        </tr>\n",
       "        <tr>\n",
       "            <td>Austin    </td> <td>208.15  </td> <td>93.6  </td> <td>-114.55    </td>\n",
       "        </tr>\n",
       "        <tr>\n",
       "            <td>Baltimore </td> <td>161.24  </td> <td>155.15</td> <td>-6.09001   </td>\n",
       "        </tr>\n",
       "        <tr>\n",
       "            <td>Boston    </td> <td>121.92  </td> <td>240.79</td> <td>118.87     </td>\n",
       "        </tr>\n",
       "        <tr>\n",
       "            <td>Charlotte </td> <td>265.48  </td> <td>179.23</td> <td>-86.25     </td>\n",
       "        </tr>\n",
       "        <tr>\n",
       "            <td>Chicago   </td> <td>423.22  </td> <td>442.14</td> <td>18.92      </td>\n",
       "        </tr>\n",
       "        <tr>\n",
       "            <td>Cincinnati</td> <td>125     </td> <td>175   </td> <td>50         </td>\n",
       "        </tr>\n",
       "        <tr>\n",
       "            <td>Cleveland </td> <td>125     </td> <td>215.8 </td> <td>90.8       </td>\n",
       "        </tr>\n",
       "        <tr>\n",
       "            <td>Columbus  </td> <td>79.25   </td> <td>169.3 </td> <td>90.05      </td>\n",
       "        </tr>\n",
       "        <tr>\n",
       "            <td>Dallas    </td> <td>176.48  </td> <td>270.06</td> <td>93.58      </td>\n",
       "        </tr>\n",
       "    </tbody>\n",
       "</table>\n",
       "<p>... (25 rows omitted)</p>"
      ],
      "text/plain": [
       "city       | concrete | steel  | Height Diff\n",
       "Atlanta    | 264.25   | 169.47 | -94.78\n",
       "Austin     | 208.15   | 93.6   | -114.55\n",
       "Baltimore  | 161.24   | 155.15 | -6.09001\n",
       "Boston     | 121.92   | 240.79 | 118.87\n",
       "Charlotte  | 265.48   | 179.23 | -86.25\n",
       "Chicago    | 423.22   | 442.14 | 18.92\n",
       "Cincinnati | 125      | 175    | 50\n",
       "Cleveland  | 125      | 215.8  | 90.8\n",
       "Columbus   | 79.25    | 169.3  | 90.05\n",
       "Dallas     | 176.48   | 270.06 | 93.58\n",
       "... (25 rows omitted)"
      ]
     },
     "execution_count": 84,
     "metadata": {},
     "output_type": "execute_result"
    }
   ],
   "source": [
    "# Step 1: create a pivot table\n",
    "# What variables do we want for columns? rows?\n",
    "city_and_material_heights = sky.pivot('material', 'city', 'height', max).drop('mixed/composite')\n",
    "\n",
    "# Step 2: what do we do to the pivot table to get a column of height differences?\n",
    "diffs = city_and_material_heights.column('steel') - city_and_material_heights.column('concrete')\n",
    "city_and_material_heights = city_and_material_heights.with_column('Height Diff', diffs)\n",
    "city_and_material_heights"
   ]
  },
  {
   "cell_type": "markdown",
   "metadata": {},
   "source": [
    "## Joins ##"
   ]
  },
  {
   "cell_type": "markdown",
   "metadata": {},
   "source": [
    "Once again, here is the table of ice cream cones:"
   ]
  },
  {
   "cell_type": "code",
   "execution_count": 85,
   "metadata": {},
   "outputs": [
    {
     "data": {
      "text/html": [
       "<table border=\"1\" class=\"dataframe\">\n",
       "    <thead>\n",
       "        <tr>\n",
       "            <th>Flavor</th> <th>Color</th> <th>Price</th>\n",
       "        </tr>\n",
       "    </thead>\n",
       "    <tbody>\n",
       "        <tr>\n",
       "            <td>strawberry</td> <td>pink       </td> <td>3.55 </td>\n",
       "        </tr>\n",
       "        <tr>\n",
       "            <td>chocolate </td> <td>light brown</td> <td>4.75 </td>\n",
       "        </tr>\n",
       "        <tr>\n",
       "            <td>chocolate </td> <td>dark brown </td> <td>5.25 </td>\n",
       "        </tr>\n",
       "        <tr>\n",
       "            <td>strawberry</td> <td>pink       </td> <td>5.25 </td>\n",
       "        </tr>\n",
       "        <tr>\n",
       "            <td>chocolate </td> <td>dark brown </td> <td>5.25 </td>\n",
       "        </tr>\n",
       "        <tr>\n",
       "            <td>bubblegum </td> <td>pink       </td> <td>4.75 </td>\n",
       "        </tr>\n",
       "    </tbody>\n",
       "</table>"
      ],
      "text/plain": [
       "Flavor     | Color       | Price\n",
       "strawberry | pink        | 3.55\n",
       "chocolate  | light brown | 4.75\n",
       "chocolate  | dark brown  | 5.25\n",
       "strawberry | pink        | 5.25\n",
       "chocolate  | dark brown  | 5.25\n",
       "bubblegum  | pink        | 4.75"
      ]
     },
     "execution_count": 85,
     "metadata": {},
     "output_type": "execute_result"
    }
   ],
   "source": [
    "cones"
   ]
  },
  {
   "cell_type": "markdown",
   "metadata": {},
   "source": [
    "Suppose that different flavors of ice cream have different ratings, summarized in the following table:"
   ]
  },
  {
   "cell_type": "code",
   "execution_count": 86,
   "metadata": {},
   "outputs": [
    {
     "data": {
      "text/html": [
       "<table border=\"1\" class=\"dataframe\">\n",
       "    <thead>\n",
       "        <tr>\n",
       "            <th>Kind</th> <th>Stars</th>\n",
       "        </tr>\n",
       "    </thead>\n",
       "    <tbody>\n",
       "        <tr>\n",
       "            <td>strawberry</td> <td>2.5  </td>\n",
       "        </tr>\n",
       "        <tr>\n",
       "            <td>chocolate </td> <td>3.5  </td>\n",
       "        </tr>\n",
       "        <tr>\n",
       "            <td>bubblegum </td> <td>4    </td>\n",
       "        </tr>\n",
       "    </tbody>\n",
       "</table>"
      ],
      "text/plain": [
       "Kind       | Stars\n",
       "strawberry | 2.5\n",
       "chocolate  | 3.5\n",
       "bubblegum  | 4"
      ]
     },
     "execution_count": 86,
     "metadata": {},
     "output_type": "execute_result"
    }
   ],
   "source": [
    "ratings = Table().with_columns(\n",
    "    'Kind', make_array('strawberry', 'chocolate', 'bubblegum'),\n",
    "    'Stars', make_array(2.5, 3.5, 4)\n",
    ")\n",
    "ratings"
   ]
  },
  {
   "cell_type": "markdown",
   "metadata": {},
   "source": [
    "We can add ratings information to the cones table using `join`:"
   ]
  },
  {
   "cell_type": "code",
   "execution_count": 87,
   "metadata": {},
   "outputs": [
    {
     "data": {
      "text/html": [
       "<table border=\"1\" class=\"dataframe\">\n",
       "    <thead>\n",
       "        <tr>\n",
       "            <th>Flavor</th> <th>Color</th> <th>Price</th> <th>Stars</th>\n",
       "        </tr>\n",
       "    </thead>\n",
       "    <tbody>\n",
       "        <tr>\n",
       "            <td>bubblegum </td> <td>pink       </td> <td>4.75 </td> <td>4    </td>\n",
       "        </tr>\n",
       "        <tr>\n",
       "            <td>chocolate </td> <td>light brown</td> <td>4.75 </td> <td>3.5  </td>\n",
       "        </tr>\n",
       "        <tr>\n",
       "            <td>chocolate </td> <td>dark brown </td> <td>5.25 </td> <td>3.5  </td>\n",
       "        </tr>\n",
       "        <tr>\n",
       "            <td>chocolate </td> <td>dark brown </td> <td>5.25 </td> <td>3.5  </td>\n",
       "        </tr>\n",
       "        <tr>\n",
       "            <td>strawberry</td> <td>pink       </td> <td>3.55 </td> <td>2.5  </td>\n",
       "        </tr>\n",
       "        <tr>\n",
       "            <td>strawberry</td> <td>pink       </td> <td>5.25 </td> <td>2.5  </td>\n",
       "        </tr>\n",
       "    </tbody>\n",
       "</table>"
      ],
      "text/plain": [
       "Flavor     | Color       | Price | Stars\n",
       "bubblegum  | pink        | 4.75  | 4\n",
       "chocolate  | light brown | 4.75  | 3.5\n",
       "chocolate  | dark brown  | 5.25  | 3.5\n",
       "chocolate  | dark brown  | 5.25  | 3.5\n",
       "strawberry | pink        | 3.55  | 2.5\n",
       "strawberry | pink        | 5.25  | 2.5"
      ]
     },
     "execution_count": 87,
     "metadata": {},
     "output_type": "execute_result"
    }
   ],
   "source": [
    "# Join the cones and ratings table\n",
    "# Match rows in cones to rows in ratings by comparing the values of \"Flavor\" to the values of \"Kind\"\n",
    "cones.join('Flavor', ratings, 'Kind')"
   ]
  },
  {
   "cell_type": "markdown",
   "metadata": {},
   "source": [
    "Here's another example. Suppose we have a table of power plants, containing the amount of energy they produced in a day (in Megawatt-hours), as well as their fuel type:"
   ]
  },
  {
   "cell_type": "code",
   "execution_count": 88,
   "metadata": {},
   "outputs": [
    {
     "data": {
      "text/html": [
       "<table border=\"1\" class=\"dataframe\">\n",
       "    <thead>\n",
       "        <tr>\n",
       "            <th>Fuel</th> <th>Energy (MWh)</th>\n",
       "        </tr>\n",
       "    </thead>\n",
       "    <tbody>\n",
       "        <tr>\n",
       "            <td>Coal       </td> <td>2400        </td>\n",
       "        </tr>\n",
       "        <tr>\n",
       "            <td>Natural Gas</td> <td>3600        </td>\n",
       "        </tr>\n",
       "        <tr>\n",
       "            <td>Coal       </td> <td>12000       </td>\n",
       "        </tr>\n",
       "        <tr>\n",
       "            <td>Solar      </td> <td>1200        </td>\n",
       "        </tr>\n",
       "        <tr>\n",
       "            <td>Wind       </td> <td>1200        </td>\n",
       "        </tr>\n",
       "        <tr>\n",
       "            <td>Natural Gas</td> <td>7200        </td>\n",
       "        </tr>\n",
       "        <tr>\n",
       "            <td>Natural Gas</td> <td>7200        </td>\n",
       "        </tr>\n",
       "        <tr>\n",
       "            <td>Solar      </td> <td>2400        </td>\n",
       "        </tr>\n",
       "        <tr>\n",
       "            <td>Solar      </td> <td>2880        </td>\n",
       "        </tr>\n",
       "    </tbody>\n",
       "</table>"
      ],
      "text/plain": [
       "Fuel        | Energy (MWh)\n",
       "Coal        | 2400\n",
       "Natural Gas | 3600\n",
       "Coal        | 12000\n",
       "Solar       | 1200\n",
       "Wind        | 1200\n",
       "Natural Gas | 7200\n",
       "Natural Gas | 7200\n",
       "Solar       | 2400\n",
       "Solar       | 2880"
      ]
     },
     "execution_count": 88,
     "metadata": {},
     "output_type": "execute_result"
    }
   ],
   "source": [
    "power_plants = Table(['Fuel', 'Energy (MWh)'])\n",
    "power_plants = power_plants.with_rows([\n",
    "    ['Coal', 100 * 24],\n",
    "    ['Natural Gas', 150 * 24],\n",
    "    ['Coal', 500 * 24],\n",
    "    ['Solar', 50 * 24],\n",
    "    ['Wind', 50 * 24],\n",
    "    ['Natural Gas', 300 * 24],\n",
    "    ['Natural Gas', 300 * 24],\n",
    "    ['Solar', 100 * 24],\n",
    "    ['Solar', 120 * 24]\n",
    "])\n",
    "power_plants"
   ]
  },
  {
   "cell_type": "markdown",
   "metadata": {},
   "source": [
    "We also have a table of CO2 emissions per MWh:"
   ]
  },
  {
   "cell_type": "code",
   "execution_count": 89,
   "metadata": {},
   "outputs": [
    {
     "data": {
      "text/html": [
       "<table border=\"1\" class=\"dataframe\">\n",
       "    <thead>\n",
       "        <tr>\n",
       "            <th>Fuel Type</th> <th>CO2 Emissions (lbs / MWh)</th>\n",
       "        </tr>\n",
       "    </thead>\n",
       "    <tbody>\n",
       "        <tr>\n",
       "            <td>Coal       </td> <td>2260                     </td>\n",
       "        </tr>\n",
       "        <tr>\n",
       "            <td>Natural Gas</td> <td>970                      </td>\n",
       "        </tr>\n",
       "        <tr>\n",
       "            <td>Solar      </td> <td>0                        </td>\n",
       "        </tr>\n",
       "        <tr>\n",
       "            <td>Wind       </td> <td>0                        </td>\n",
       "        </tr>\n",
       "        <tr>\n",
       "            <td>Petroleum  </td> <td>2440                     </td>\n",
       "        </tr>\n",
       "    </tbody>\n",
       "</table>"
      ],
      "text/plain": [
       "Fuel Type   | CO2 Emissions (lbs / MWh)\n",
       "Coal        | 2260\n",
       "Natural Gas | 970\n",
       "Solar       | 0\n",
       "Wind        | 0\n",
       "Petroleum   | 2440"
      ]
     },
     "execution_count": 89,
     "metadata": {},
     "output_type": "execute_result"
    }
   ],
   "source": [
    "emissions = Table(['Fuel Type', 'CO2 Emissions (lbs / MWh)'])\n",
    "emissions = emissions.with_rows([\n",
    "    ['Coal', 2.26 * 10 ** 3],\n",
    "    ['Natural Gas', 0.97 * 10 ** 3],\n",
    "    ['Solar', 0],\n",
    "    ['Wind', 0],\n",
    "    ['Petroleum', 2.44 * 10 ** 3]\n",
    "])\n",
    "emissions"
   ]
  },
  {
   "cell_type": "markdown",
   "metadata": {},
   "source": [
    "What are the total CO2 emissions of these power plants in a day? We can answer this by joining the two tables:"
   ]
  },
  {
   "cell_type": "code",
   "execution_count": 90,
   "metadata": {},
   "outputs": [
    {
     "data": {
      "text/html": [
       "<table border=\"1\" class=\"dataframe\">\n",
       "    <thead>\n",
       "        <tr>\n",
       "            <th>Fuel</th> <th>Energy (MWh)</th> <th>CO2 Emissions (lbs / MWh)</th>\n",
       "        </tr>\n",
       "    </thead>\n",
       "    <tbody>\n",
       "        <tr>\n",
       "            <td>Coal       </td> <td>2400        </td> <td>2260                     </td>\n",
       "        </tr>\n",
       "        <tr>\n",
       "            <td>Coal       </td> <td>12000       </td> <td>2260                     </td>\n",
       "        </tr>\n",
       "        <tr>\n",
       "            <td>Natural Gas</td> <td>3600        </td> <td>970                      </td>\n",
       "        </tr>\n",
       "        <tr>\n",
       "            <td>Natural Gas</td> <td>7200        </td> <td>970                      </td>\n",
       "        </tr>\n",
       "        <tr>\n",
       "            <td>Natural Gas</td> <td>7200        </td> <td>970                      </td>\n",
       "        </tr>\n",
       "        <tr>\n",
       "            <td>Solar      </td> <td>1200        </td> <td>0                        </td>\n",
       "        </tr>\n",
       "        <tr>\n",
       "            <td>Solar      </td> <td>2400        </td> <td>0                        </td>\n",
       "        </tr>\n",
       "        <tr>\n",
       "            <td>Solar      </td> <td>2880        </td> <td>0                        </td>\n",
       "        </tr>\n",
       "        <tr>\n",
       "            <td>Wind       </td> <td>1200        </td> <td>0                        </td>\n",
       "        </tr>\n",
       "    </tbody>\n",
       "</table>"
      ],
      "text/plain": [
       "Fuel        | Energy (MWh) | CO2 Emissions (lbs / MWh)\n",
       "Coal        | 2400         | 2260\n",
       "Coal        | 12000        | 2260\n",
       "Natural Gas | 3600         | 970\n",
       "Natural Gas | 7200         | 970\n",
       "Natural Gas | 7200         | 970\n",
       "Solar       | 1200         | 0\n",
       "Solar       | 2400         | 0\n",
       "Solar       | 2880         | 0\n",
       "Wind        | 1200         | 0"
      ]
     },
     "execution_count": 90,
     "metadata": {},
     "output_type": "execute_result"
    }
   ],
   "source": [
    "combined = power_plants.join('Fuel', emissions, 'Fuel Type')\n",
    "combined"
   ]
  },
  {
   "cell_type": "code",
   "execution_count": 91,
   "metadata": {},
   "outputs": [
    {
     "data": {
      "text/html": [
       "<table border=\"1\" class=\"dataframe\">\n",
       "    <thead>\n",
       "        <tr>\n",
       "            <th>Fuel</th> <th>Energy (MWh)</th> <th>CO2 Emissions (lbs / MWh)</th> <th>Total Emissions (tons)</th>\n",
       "        </tr>\n",
       "    </thead>\n",
       "    <tbody>\n",
       "        <tr>\n",
       "            <td>Coal       </td> <td>2400        </td> <td>2260                     </td> <td>2712                  </td>\n",
       "        </tr>\n",
       "        <tr>\n",
       "            <td>Coal       </td> <td>12000       </td> <td>2260                     </td> <td>13560                 </td>\n",
       "        </tr>\n",
       "        <tr>\n",
       "            <td>Natural Gas</td> <td>3600        </td> <td>970                      </td> <td>1746                  </td>\n",
       "        </tr>\n",
       "        <tr>\n",
       "            <td>Natural Gas</td> <td>7200        </td> <td>970                      </td> <td>3492                  </td>\n",
       "        </tr>\n",
       "        <tr>\n",
       "            <td>Natural Gas</td> <td>7200        </td> <td>970                      </td> <td>3492                  </td>\n",
       "        </tr>\n",
       "        <tr>\n",
       "            <td>Solar      </td> <td>1200        </td> <td>0                        </td> <td>0                     </td>\n",
       "        </tr>\n",
       "        <tr>\n",
       "            <td>Solar      </td> <td>2400        </td> <td>0                        </td> <td>0                     </td>\n",
       "        </tr>\n",
       "        <tr>\n",
       "            <td>Solar      </td> <td>2880        </td> <td>0                        </td> <td>0                     </td>\n",
       "        </tr>\n",
       "        <tr>\n",
       "            <td>Wind       </td> <td>1200        </td> <td>0                        </td> <td>0                     </td>\n",
       "        </tr>\n",
       "    </tbody>\n",
       "</table>"
      ],
      "text/plain": [
       "Fuel        | Energy (MWh) | CO2 Emissions (lbs / MWh) | Total Emissions (tons)\n",
       "Coal        | 2400         | 2260                      | 2712\n",
       "Coal        | 12000        | 2260                      | 13560\n",
       "Natural Gas | 3600         | 970                       | 1746\n",
       "Natural Gas | 7200         | 970                       | 3492\n",
       "Natural Gas | 7200         | 970                       | 3492\n",
       "Solar       | 1200         | 0                         | 0\n",
       "Solar       | 2400         | 0                         | 0\n",
       "Solar       | 2880         | 0                         | 0\n",
       "Wind        | 1200         | 0                         | 0"
      ]
     },
     "execution_count": 91,
     "metadata": {},
     "output_type": "execute_result"
    }
   ],
   "source": [
    "# Add a column containing the total emissions of each power plant per day\n",
    "combined = combined.with_column(\n",
    "    'Total Emissions (tons)',\n",
    "    combined.column('Energy (MWh)') * combined.column('CO2 Emissions (lbs / MWh)') / 2000)\n",
    "combined"
   ]
  },
  {
   "cell_type": "code",
   "execution_count": 92,
   "metadata": {},
   "outputs": [
    {
     "data": {
      "text/plain": [
       "25002.0"
      ]
     },
     "execution_count": 92,
     "metadata": {},
     "output_type": "execute_result"
    }
   ],
   "source": [
    "# Calculate the total emissions (in tons)\n",
    "sum(combined.column('Total Emissions (tons)'))"
   ]
  },
  {
   "cell_type": "markdown",
   "metadata": {},
   "source": [
    "Let's look at another example. Below are two tables: a table of drinks, and a table of discounts at various cafes."
   ]
  },
  {
   "cell_type": "code",
   "execution_count": 93,
   "metadata": {},
   "outputs": [
    {
     "data": {
      "text/html": [
       "<table border=\"1\" class=\"dataframe\">\n",
       "    <thead>\n",
       "        <tr>\n",
       "            <th>Drink</th> <th>Cafe</th> <th>Price</th>\n",
       "        </tr>\n",
       "    </thead>\n",
       "    <tbody>\n",
       "        <tr>\n",
       "            <td>Milk Tea</td> <td>Asha  </td> <td>5.5  </td>\n",
       "        </tr>\n",
       "        <tr>\n",
       "            <td>Espresso</td> <td>Strada</td> <td>1.75 </td>\n",
       "        </tr>\n",
       "        <tr>\n",
       "            <td>Latte   </td> <td>Strada</td> <td>3.25 </td>\n",
       "        </tr>\n",
       "        <tr>\n",
       "            <td>Espresso</td> <td>FSM   </td> <td>2    </td>\n",
       "        </tr>\n",
       "    </tbody>\n",
       "</table>"
      ],
      "text/plain": [
       "Drink    | Cafe   | Price\n",
       "Milk Tea | Asha   | 5.5\n",
       "Espresso | Strada | 1.75\n",
       "Latte    | Strada | 3.25\n",
       "Espresso | FSM    | 2"
      ]
     },
     "execution_count": 93,
     "metadata": {},
     "output_type": "execute_result"
    }
   ],
   "source": [
    "# CREATE A TABLE OF DRINKS\n",
    "\n",
    "# Create a table with column headings but no rows\n",
    "drinks = Table(['Drink', 'Cafe', 'Price']) \n",
    "\n",
    "# Add rows to the table\n",
    "drinks = drinks.with_rows([\n",
    "    ['Milk Tea', 'Asha', 5.50],\n",
    "    ['Espresso', 'Strada',  1.75],\n",
    "    ['Latte',    'Strada',  3.25],\n",
    "    ['Espresso', \"FSM\",   2]\n",
    "])\n",
    "drinks"
   ]
  },
  {
   "cell_type": "code",
   "execution_count": 94,
   "metadata": {},
   "outputs": [
    {
     "data": {
      "text/html": [
       "<table border=\"1\" class=\"dataframe\">\n",
       "    <thead>\n",
       "        <tr>\n",
       "            <th>Coupon % off</th> <th>Location</th>\n",
       "        </tr>\n",
       "    </thead>\n",
       "    <tbody>\n",
       "        <tr>\n",
       "            <td>10          </td> <td>Asha    </td>\n",
       "        </tr>\n",
       "        <tr>\n",
       "            <td>25          </td> <td>Strada  </td>\n",
       "        </tr>\n",
       "        <tr>\n",
       "            <td>5           </td> <td>FSM     </td>\n",
       "        </tr>\n",
       "    </tbody>\n",
       "</table>"
      ],
      "text/plain": [
       "Coupon % off | Location\n",
       "10           | Asha\n",
       "25           | Strada\n",
       "5            | FSM"
      ]
     },
     "execution_count": 94,
     "metadata": {},
     "output_type": "execute_result"
    }
   ],
   "source": [
    "# CREATE A TABLE OF DISCOUNTS\n",
    "discounts = Table().with_columns(\n",
    "    'Coupon % off', make_array(10, 25, 5),\n",
    "    'Location', make_array('Asha', 'Strada', 'FSM')\n",
    ")\n",
    "discounts"
   ]
  },
  {
   "cell_type": "markdown",
   "metadata": {},
   "source": [
    "**Discussion Question 3:** add a column called `Discounted Price` to the `drinks` table, which contains the price of each drink after applying a coupon. \n",
    "\n",
    "*Hint:* you can solve this using `join` and then some additional steps."
   ]
  },
  {
   "cell_type": "code",
   "execution_count": 99,
   "metadata": {},
   "outputs": [
    {
     "data": {
      "text/html": [
       "<table border=\"1\" class=\"dataframe\">\n",
       "    <thead>\n",
       "        <tr>\n",
       "            <th>Cafe</th> <th>Drink</th> <th>Price</th> <th>Coupon % off</th> <th>Discounted Price</th>\n",
       "        </tr>\n",
       "    </thead>\n",
       "    <tbody>\n",
       "        <tr>\n",
       "            <td>Asha  </td> <td>Milk Tea</td> <td>5.5  </td> <td>10          </td> <td>4.95            </td>\n",
       "        </tr>\n",
       "        <tr>\n",
       "            <td>FSM   </td> <td>Espresso</td> <td>2    </td> <td>5           </td> <td>1.9             </td>\n",
       "        </tr>\n",
       "        <tr>\n",
       "            <td>Strada</td> <td>Espresso</td> <td>1.75 </td> <td>25          </td> <td>1.3125          </td>\n",
       "        </tr>\n",
       "        <tr>\n",
       "            <td>Strada</td> <td>Latte   </td> <td>3.25 </td> <td>25          </td> <td>2.4375          </td>\n",
       "        </tr>\n",
       "    </tbody>\n",
       "</table>"
      ],
      "text/plain": [
       "Cafe   | Drink    | Price | Coupon % off | Discounted Price\n",
       "Asha   | Milk Tea | 5.5   | 10           | 4.95\n",
       "FSM    | Espresso | 2     | 5            | 1.9\n",
       "Strada | Espresso | 1.75  | 25           | 1.3125\n",
       "Strada | Latte    | 3.25  | 25           | 2.4375"
      ]
     },
     "execution_count": 99,
     "metadata": {},
     "output_type": "execute_result"
    }
   ],
   "source": [
    "# Step 1: what two tables do we want to join, and based on what columns?\n",
    "joined_table = drinks.join('Cafe', discounts, 'Location')\n",
    "\n",
    "# Step 2: how do we calculate discounted prices from the joined table?\n",
    "discounted_array = joined_table.column('Price') * (1 - 0.01 * joined_table.column('Coupon % off'))\n",
    "joined_table = joined_table.with_column('Discounted Price', discounted_array)\n",
    "joined_table"
   ]
  },
  {
   "cell_type": "markdown",
   "metadata": {},
   "source": [
    "## Example: Revisiting the Class Data Survey"
   ]
  },
  {
   "cell_type": "code",
   "execution_count": null,
   "metadata": {},
   "outputs": [],
   "source": [
    "# Load part of the class data survey\n",
    "class_data = Table.read_table('data/cmpsc5a-classdata-w23.csv')\n",
    "class_data = class_data.select('Platform', 'Hours of Media', 'Insta Follows', 'Social Media Accounts')\n",
    "class_data"
   ]
  },
  {
   "cell_type": "markdown",
   "metadata": {},
   "source": [
    "Remember that every question was optional! If a respondent did not answer a particular question, there response is recorded as `nan`."
   ]
  },
  {
   "cell_type": "markdown",
   "metadata": {},
   "source": [
    "Let's find out if there is an association between favorite social media platform (`Platform`) and related social media statistics (`Social Media Accounts`, `Insta Follows`, and `Hours of Media`). We will group by `Platform`, and then try to calculate the average of these values using `np.nanmean`, which will calculate the average while ignoring all values `nan`:"
   ]
  },
  {
   "cell_type": "code",
   "execution_count": null,
   "metadata": {},
   "outputs": [],
   "source": [
    "class_data.group('Platform', np.nanmean)"
   ]
  },
  {
   "cell_type": "markdown",
   "metadata": {},
   "source": [
    "Uh oh! Several platform names appear to be repeated, since they are formatted slightly differently. As we saw last week, a good first step to \"clean up\" these platform names is to make all characters lower (or upper) case, and to remove spaces. We can accomplish this by `apply`ing our own cleaning function."
   ]
  },
  {
   "cell_type": "code",
   "execution_count": null,
   "metadata": {},
   "outputs": [],
   "source": [
    "def clean_platform(name):\n",
    "    \"\"\"\n",
    "    Force all characters to be lower case, and remove spaces.\n",
    "    \"\"\"\n",
    "    return name.replace(' ', '').lower()"
   ]
  },
  {
   "cell_type": "code",
   "execution_count": null,
   "metadata": {},
   "outputs": [],
   "source": [
    "clean_platform('Tik Tok')"
   ]
  },
  {
   "cell_type": "code",
   "execution_count": null,
   "metadata": {},
   "outputs": [],
   "source": [
    "clean_platform('TikTok')"
   ]
  },
  {
   "cell_type": "code",
   "execution_count": null,
   "metadata": {},
   "outputs": [],
   "source": [
    "# Apply the clean_platform function to the class data table\n",
    "# Add these \"cleaned\" platform names as a new column\n",
    "class_data = class_data.with_column(\n",
    "    'Platform (Clean)',\n",
    "    class_data.apply(clean_platform, 'Platform'))"
   ]
  },
  {
   "cell_type": "markdown",
   "metadata": {},
   "source": [
    "Let's try this again---now grouping by `\"Platform (Clean)\"` instead of `\"Platform\"`."
   ]
  },
  {
   "cell_type": "code",
   "execution_count": null,
   "metadata": {},
   "outputs": [],
   "source": [
    "class_data.group('Platform (Clean)', np.nanmean).show()"
   ]
  },
  {
   "cell_type": "markdown",
   "metadata": {},
   "source": [
    "Still not quite there! The values `ins` and `instagram` refer to the same platform, as well as `tw` and `twitter`. How can we handle these special cases?\n",
    "\n",
    "First, we will create a table called `platform_codes`. One column in this table will contain all the possible values for `Platform (Clean)`, e.g. `ins`, and the other table will contain the value we want to replace these platform names with, like `instagram`."
   ]
  },
  {
   "cell_type": "code",
   "execution_count": null,
   "metadata": {},
   "outputs": [],
   "source": [
    "# Create a table with two columns called Name and Platform (Cleaner)\n",
    "# that contains no rows\n",
    "empty_table = Table(make_array('Name', 'Platform (Cleaner)'))\n",
    "\n",
    "# Add a row for each value that Platform (Clean) can be\n",
    "platform_codes = empty_table.with_rows([\n",
    "    ['discord', 'discord'],\n",
    "    ['ins', 'instagram'],\n",
    "    ['instagram', 'instagram'],\n",
    "    ['nan', 'none'],\n",
    "    ['pinterest', 'pinterest'],\n",
    "    ['snapchat', 'snapchat'],\n",
    "    ['tiktok', 'tiktok'],\n",
    "    ['tumblr', 'tumblr'],\n",
    "    ['tw', 'twitter'],\n",
    "    ['twitter', 'twitter'],\n",
    "    ['wechat', 'wechat'],\n",
    "    ['youtube', 'youtube']])\n",
    "    \n",
    "\n",
    "platform_codes.show()"
   ]
  },
  {
   "cell_type": "markdown",
   "metadata": {},
   "source": [
    "Now we use `join` to look up the even cleaner platform name for each row in the class data table:"
   ]
  },
  {
   "cell_type": "code",
   "execution_count": null,
   "metadata": {},
   "outputs": [],
   "source": [
    "class_data = class_data.join('Platform (Clean)', platform_codes, 'Name')\n",
    "class_data\n",
    "# Note the last column Platform (Cleaner) is new"
   ]
  },
  {
   "cell_type": "markdown",
   "metadata": {},
   "source": [
    "And we will try group one more time:"
   ]
  },
  {
   "cell_type": "code",
   "execution_count": null,
   "metadata": {},
   "outputs": [],
   "source": [
    "stats_by_platform = class_data.group('Platform (Cleaner)', np.nanmean)\n",
    "stats_by_platform.show()"
   ]
  },
  {
   "cell_type": "markdown",
   "metadata": {},
   "source": [
    "Much better! Let's create some bar charts:"
   ]
  },
  {
   "cell_type": "code",
   "execution_count": null,
   "metadata": {},
   "outputs": [],
   "source": [
    "# Create a table focusing on hours of social media use\n",
    "# sorted in descending order\n",
    "hours_by_platform = stats_by_platform.select('Platform (Cleaner)', 'Hours of Media nanmean')\n",
    "hours_by_platform = hours_by_platform.sort('Hours of Media nanmean', descending=True)\n",
    "\n",
    "# Relabel the column names to something easier to read\n",
    "hours_by_platform.relabel('Platform (Cleaner)', 'Favorite Platform')\n",
    "hours_by_platform.relabel('Hours of Media nanmean', 'Weekly Hours of Social Media Use (average)')\n",
    "\n",
    "# Create a bar chart\n",
    "hours_by_platform.barh('Favorite Platform')"
   ]
  },
  {
   "cell_type": "code",
   "execution_count": null,
   "metadata": {},
   "outputs": [],
   "source": [
    "# Create a table focusing on number of instagram accounts followed\n",
    "# sorted in descending order\n",
    "insta_follows_by_platform = stats_by_platform.select('Platform (Cleaner)', 'Insta Follows nanmean')\n",
    "insta_follows_by_platform = insta_follows_by_platform.sort('Insta Follows nanmean', descending=True)\n",
    "\n",
    "# Relabel the column names to something easier to read\n",
    "insta_follows_by_platform.relabel('Platform (Cleaner)', 'Favorite Platform')\n",
    "insta_follows_by_platform.relabel('Insta Follows nanmean', '# Instagram Accounts Followed (average)')\n",
    "\n",
    "# Create a bar chart\n",
    "insta_follows_by_platform.barh('Favorite Platform')"
   ]
  },
  {
   "cell_type": "code",
   "execution_count": null,
   "metadata": {},
   "outputs": [],
   "source": []
  }
 ],
 "metadata": {
  "kernelspec": {
   "display_name": "Python 3 (ipykernel)",
   "language": "python",
   "name": "python3"
  },
  "language_info": {
   "codemirror_mode": {
    "name": "ipython",
    "version": 3
   },
   "file_extension": ".py",
   "mimetype": "text/x-python",
   "name": "python",
   "nbconvert_exporter": "python",
   "pygments_lexer": "ipython3",
   "version": "3.10.8"
  },
  "toc": {
   "base_numbering": 1,
   "nav_menu": {},
   "number_sections": false,
   "sideBar": true,
   "skip_h1_title": false,
   "title_cell": "Table of Contents",
   "title_sidebar": "Contents",
   "toc_cell": false,
   "toc_position": {},
   "toc_section_display": true,
   "toc_window_display": false
  }
 },
 "nbformat": 4,
 "nbformat_minor": 4
}
