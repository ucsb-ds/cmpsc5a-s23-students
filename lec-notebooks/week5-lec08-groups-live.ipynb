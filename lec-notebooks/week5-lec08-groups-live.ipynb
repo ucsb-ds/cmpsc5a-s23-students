{
 "cells": [
  {
   "cell_type": "code",
   "execution_count": 2,
   "metadata": {},
   "outputs": [],
   "source": [
    "from datascience import *\n",
    "import numpy as np\n",
    "\n",
    "%matplotlib inline\n",
    "import matplotlib.pyplot as plots\n",
    "plots.style.use('fivethirtyeight')"
   ]
  },
  {
   "cell_type": "markdown",
   "metadata": {
    "tags": []
   },
   "source": [
    "# Lecture 8"
   ]
  },
  {
   "cell_type": "markdown",
   "metadata": {},
   "source": [
    "## Warm up: Defining and Applying Functions"
   ]
  },
  {
   "cell_type": "code",
   "execution_count": 3,
   "metadata": {},
   "outputs": [
    {
     "data": {
      "text/html": [
       "<table border=\"1\" class=\"dataframe\">\n",
       "    <thead>\n",
       "        <tr>\n",
       "            <th>family</th> <th>father</th> <th>mother</th> <th>children</th> <th>childNum</th> <th>gender</th> <th>childHeight</th>\n",
       "        </tr>\n",
       "    </thead>\n",
       "    <tbody>\n",
       "        <tr>\n",
       "            <td>1     </td> <td>78.5  </td> <td>67    </td> <td>4       </td> <td>1       </td> <td>male  </td> <td>73.2       </td>\n",
       "        </tr>\n",
       "        <tr>\n",
       "            <td>1     </td> <td>78.5  </td> <td>67    </td> <td>4       </td> <td>2       </td> <td>female</td> <td>69.2       </td>\n",
       "        </tr>\n",
       "        <tr>\n",
       "            <td>1     </td> <td>78.5  </td> <td>67    </td> <td>4       </td> <td>3       </td> <td>female</td> <td>69         </td>\n",
       "        </tr>\n",
       "        <tr>\n",
       "            <td>1     </td> <td>78.5  </td> <td>67    </td> <td>4       </td> <td>4       </td> <td>female</td> <td>69         </td>\n",
       "        </tr>\n",
       "        <tr>\n",
       "            <td>2     </td> <td>75.5  </td> <td>66.5  </td> <td>4       </td> <td>1       </td> <td>male  </td> <td>73.5       </td>\n",
       "        </tr>\n",
       "        <tr>\n",
       "            <td>2     </td> <td>75.5  </td> <td>66.5  </td> <td>4       </td> <td>2       </td> <td>male  </td> <td>72.5       </td>\n",
       "        </tr>\n",
       "        <tr>\n",
       "            <td>2     </td> <td>75.5  </td> <td>66.5  </td> <td>4       </td> <td>3       </td> <td>female</td> <td>65.5       </td>\n",
       "        </tr>\n",
       "        <tr>\n",
       "            <td>2     </td> <td>75.5  </td> <td>66.5  </td> <td>4       </td> <td>4       </td> <td>female</td> <td>65.5       </td>\n",
       "        </tr>\n",
       "        <tr>\n",
       "            <td>3     </td> <td>75    </td> <td>64    </td> <td>2       </td> <td>1       </td> <td>male  </td> <td>71         </td>\n",
       "        </tr>\n",
       "        <tr>\n",
       "            <td>3     </td> <td>75    </td> <td>64    </td> <td>2       </td> <td>2       </td> <td>female</td> <td>68         </td>\n",
       "        </tr>\n",
       "    </tbody>\n",
       "</table>\n",
       "<p>... (924 rows omitted)</p>"
      ],
      "text/plain": [
       "family | father | mother | children | childNum | gender | childHeight\n",
       "1      | 78.5   | 67     | 4        | 1        | male   | 73.2\n",
       "1      | 78.5   | 67     | 4        | 2        | female | 69.2\n",
       "1      | 78.5   | 67     | 4        | 3        | female | 69\n",
       "1      | 78.5   | 67     | 4        | 4        | female | 69\n",
       "2      | 75.5   | 66.5   | 4        | 1        | male   | 73.5\n",
       "2      | 75.5   | 66.5   | 4        | 2        | male   | 72.5\n",
       "2      | 75.5   | 66.5   | 4        | 3        | female | 65.5\n",
       "2      | 75.5   | 66.5   | 4        | 4        | female | 65.5\n",
       "3      | 75     | 64     | 2        | 1        | male   | 71\n",
       "3      | 75     | 64     | 2        | 2        | female | 68\n",
       "... (924 rows omitted)"
      ]
     },
     "execution_count": 3,
     "metadata": {},
     "output_type": "execute_result"
    }
   ],
   "source": [
    "# Load Galton's dataset of parent and child heights\n",
    "galton = Table.read_table('data/galton.csv').drop(3)\n",
    "galton"
   ]
  },
  {
   "cell_type": "markdown",
   "metadata": {},
   "source": [
    "**Question:** define a function called `average_height` that takes two arguments and returns their average."
   ]
  },
  {
   "cell_type": "code",
   "execution_count": 4,
   "metadata": {},
   "outputs": [],
   "source": [
    "def average_height(father, mother):\n",
    "    return np.average(make_array(father, mother))"
   ]
  },
  {
   "cell_type": "code",
   "execution_count": 5,
   "metadata": {},
   "outputs": [
    {
     "data": {
      "text/plain": [
       "7.5"
      ]
     },
     "execution_count": 5,
     "metadata": {},
     "output_type": "execute_result"
    }
   ],
   "source": [
    "average_height(5, 10)"
   ]
  },
  {
   "cell_type": "code",
   "execution_count": 6,
   "metadata": {},
   "outputs": [
    {
     "data": {
      "text/plain": [
       "0.0"
      ]
     },
     "execution_count": 6,
     "metadata": {},
     "output_type": "execute_result"
    }
   ],
   "source": [
    "average_height(-10, 10)"
   ]
  },
  {
   "cell_type": "markdown",
   "metadata": {},
   "source": [
    "**Question:** use the `apply` method to create an array with the average height of `mother` and `father` for each row in the `galton` table."
   ]
  },
  {
   "cell_type": "code",
   "execution_count": 8,
   "metadata": {},
   "outputs": [
    {
     "data": {
      "text/plain": [
       "array([ 72.75,  72.75,  72.75,  72.75,  71.  ,  71.  ,  71.  ,  71.  ,\n",
       "        69.5 ,  69.5 ,  69.5 ,  69.5 ,  69.5 ,  69.5 ,  69.5 ,  66.75,\n",
       "        66.75,  66.75,  66.75,  66.75,  66.75,  71.  ,  71.  ,  71.  ,\n",
       "        71.  ,  71.  ,  71.  ,  71.  ,  70.25,  70.25,  70.25,  70.25,\n",
       "        69.75,  68.  ,  68.  ,  68.  ,  68.  ,  68.  ,  68.  ,  68.  ,\n",
       "        68.  ,  67.5 ,  70.  ,  70.  ,  70.  ,  70.  ,  69.75,  69.75,\n",
       "        69.75,  69.  ,  69.  ,  69.  ,  69.  ,  69.  ,  69.  ,  69.  ,\n",
       "        69.  ,  69.  ,  68.75,  68.75,  68.75,  68.75,  68.75,  68.75,\n",
       "        68.5 ,  68.5 ,  68.5 ,  68.1 ,  70.85,  70.85,  70.85,  70.85,\n",
       "        70.85,  70.85,  70.85,  70.85,  70.  ,  70.  ,  70.  ,  69.5 ,\n",
       "        69.5 ,  69.5 ,  68.5 ,  68.5 ,  68.5 ,  68.5 ,  68.5 ,  68.5 ,\n",
       "        68.5 ,  68.75,  68.  ,  68.  ,  67.5 ,  67.5 ,  67.5 ,  67.5 ,\n",
       "        67.5 ,  67.5 ,  67.5 ,  67.5 ,  67.5 ,  67.5 ,  67.5 ,  67.5 ,\n",
       "        67.5 ,  67.5 ,  68.  ,  68.  ,  68.  ,  67.  ,  67.25,  67.25,\n",
       "        67.25,  67.25,  67.25,  67.25,  67.  ,  67.  ,  67.  ,  67.  ,\n",
       "        67.  ,  67.  ,  67.  ,  67.  ,  67.  ,  67.  ,  66.5 ,  70.  ,\n",
       "        70.  ,  70.  ,  70.  ,  70.  ,  69.  ,  69.  ,  69.  ,  69.  ,\n",
       "        68.5 ,  68.5 ,  68.5 ,  68.5 ,  68.5 ,  68.5 ,  68.5 ,  68.5 ,\n",
       "        68.5 ,  68.5 ,  68.5 ,  68.5 ,  68.5 ,  68.5 ,  68.5 ,  68.5 ,\n",
       "        68.5 ,  68.6 ,  68.25,  68.25,  68.25,  68.25,  68.25,  68.25,\n",
       "        68.5 ,  68.5 ,  68.25,  68.25,  68.  ,  68.  ,  68.  ,  67.5 ,\n",
       "        67.5 ,  67.5 ,  67.5 ,  67.5 ,  67.5 ,  67.5 ,  67.5 ,  68.1 ,\n",
       "        68.1 ,  68.1 ,  68.1 ,  67.5 ,  67.5 ,  67.5 ,  68.  ,  68.  ,\n",
       "        68.  ,  68.  ,  68.  ,  68.  ,  68.  ,  67.75,  67.75,  67.1 ,\n",
       "        67.1 ,  67.25,  67.25,  67.25,  67.25,  67.25,  67.  ,  67.  ,\n",
       "        67.  ,  67.  ,  67.  ,  67.  ,  67.  ,  67.  ,  67.  ,  67.  ,\n",
       "        67.  ,  67.  ,  67.  ,  66.5 ,  66.5 ,  66.5 ,  66.5 ,  66.5 ,\n",
       "        66.5 ,  66.5 ,  66.5 ,  66.5 ,  66.5 ,  66.75,  66.75,  66.75,\n",
       "        66.75,  66.75,  66.5 ,  66.5 ,  66.5 ,  66.5 ,  66.5 ,  66.5 ,\n",
       "        66.5 ,  66.  ,  64.5 ,  64.5 ,  69.5 ,  69.5 ,  69.5 ,  69.5 ,\n",
       "        69.5 ,  69.5 ,  69.5 ,  69.5 ,  69.5 ,  69.5 ,  69.  ,  68.5 ,\n",
       "        68.5 ,  68.5 ,  68.5 ,  68.5 ,  68.5 ,  68.25,  68.25,  68.25,\n",
       "        68.25,  68.25,  68.25,  68.25,  68.25,  68.25,  68.25,  68.25,\n",
       "        67.75,  67.75,  67.75,  67.75,  67.75,  67.75,  67.75,  67.75,\n",
       "        67.75,  67.5 ,  67.5 ,  67.5 ,  67.5 ,  67.5 ,  67.5 ,  67.5 ,\n",
       "        67.5 ,  67.5 ,  67.5 ,  67.5 ,  67.5 ,  67.5 ,  67.5 ,  67.5 ,\n",
       "        67.5 ,  67.5 ,  67.5 ,  67.5 ,  67.5 ,  67.5 ,  67.5 ,  67.5 ,\n",
       "        67.5 ,  67.5 ,  67.5 ,  67.5 ,  67.5 ,  67.5 ,  67.5 ,  67.5 ,\n",
       "        67.35,  67.35,  67.35,  67.35,  67.35,  67.35,  67.35,  67.  ,\n",
       "        67.  ,  67.  ,  67.  ,  67.  ,  67.  ,  67.  ,  67.  ,  67.  ,\n",
       "        67.  ,  67.  ,  67.1 ,  67.1 ,  67.1 ,  67.1 ,  67.1 ,  67.25,\n",
       "        67.25,  67.25,  67.25,  67.25,  67.25,  67.25,  67.25,  67.5 ,\n",
       "        67.  ,  67.  ,  67.  ,  67.  ,  67.  ,  67.  ,  67.  ,  67.  ,\n",
       "        67.  ,  67.  ,  67.  ,  67.  ,  67.  ,  66.85,  66.85,  66.85,\n",
       "        66.85,  66.85,  66.85,  66.85,  66.85,  66.75,  66.75,  66.75,\n",
       "        66.75,  66.75,  66.75,  66.75,  66.75,  66.75,  66.75,  66.75,\n",
       "        66.75,  66.75,  66.5 ,  66.5 ,  66.5 ,  66.5 ,  66.5 ,  66.5 ,\n",
       "        66.5 ,  66.5 ,  66.25,  66.25,  66.25,  66.25,  66.25,  66.25,\n",
       "        66.25,  66.25,  66.5 ,  66.5 ,  66.5 ,  66.5 ,  66.5 ,  66.5 ,\n",
       "        66.5 ,  66.25,  66.25,  66.25,  65.5 ,  65.5 ,  65.  ,  65.  ,\n",
       "        65.  ,  65.  ,  65.  ,  65.  ,  64.25,  64.25,  64.25,  64.  ,\n",
       "        64.  ,  64.  ,  64.  ,  64.  ,  68.75,  68.75,  68.75,  68.75,\n",
       "        68.75,  68.75,  68.75,  68.75,  68.75,  68.75,  68.  ,  67.5 ,\n",
       "        67.5 ,  67.5 ,  67.5 ,  67.5 ,  67.5 ,  67.5 ,  67.5 ,  67.5 ,\n",
       "        67.5 ,  67.5 ,  67.85,  67.85,  67.85,  67.85,  67.5 ,  67.5 ,\n",
       "        67.5 ,  67.5 ,  67.5 ,  67.5 ,  67.75,  67.75,  67.75,  67.75,\n",
       "        67.75,  67.75,  67.75,  68.  ,  68.  ,  68.  ,  68.  ,  67.75,\n",
       "        67.75,  67.75,  67.75,  67.75,  67.75,  67.75,  67.75,  67.75,\n",
       "        67.75,  67.75,  67.75,  67.75,  67.5 ,  67.5 ,  67.5 ,  67.5 ,\n",
       "        67.5 ,  67.5 ,  67.5 ,  67.5 ,  67.5 ,  67.  ,  67.  ,  67.  ,\n",
       "        67.  ,  67.  ,  67.  ,  67.  ,  67.  ,  67.  ,  67.  ,  67.  ,\n",
       "        67.  ,  67.  ,  67.  ,  66.6 ,  66.6 ,  66.6 ,  66.6 ,  66.25,\n",
       "        66.  ,  66.  ,  66.  ,  66.  ,  66.  ,  66.  ,  66.  ,  66.  ,\n",
       "        66.  ,  66.  ,  66.25,  66.25,  66.25,  66.25,  66.25,  66.25,\n",
       "        66.25,  66.25,  66.25,  66.25,  65.85,  65.75,  65.75,  65.75,\n",
       "        65.5 ,  65.5 ,  65.5 ,  65.5 ,  65.5 ,  65.75,  65.75,  65.75,\n",
       "        65.75,  65.75,  65.75,  65.75,  65.75,  65.75,  65.75,  65.75,\n",
       "        65.75,  65.75,  65.75,  65.75,  65.75,  65.75,  65.75,  65.75,\n",
       "        65.5 ,  65.5 ,  65.5 ,  65.5 ,  65.25,  65.25,  65.25,  65.25,\n",
       "        65.25,  65.  ,  65.  ,  65.  ,  65.  ,  65.  ,  65.  ,  65.  ,\n",
       "        65.  ,  65.  ,  64.5 ,  64.5 ,  64.5 ,  64.5 ,  64.5 ,  64.5 ,\n",
       "        64.5 ,  64.75,  69.6 ,  69.6 ,  67.75,  67.75,  67.75,  67.5 ,\n",
       "        67.5 ,  67.5 ,  67.5 ,  67.5 ,  67.5 ,  67.5 ,  67.5 ,  67.5 ,\n",
       "        67.5 ,  67.5 ,  66.5 ,  66.5 ,  66.75,  66.75,  66.75,  66.75,\n",
       "        66.75,  66.75,  66.75,  66.75,  66.75,  66.5 ,  66.5 ,  66.5 ,\n",
       "        66.5 ,  66.75,  66.75,  66.75,  66.75,  66.75,  66.75,  66.75,\n",
       "        66.75,  66.75,  66.75,  66.75,  66.75,  66.75,  66.75,  66.75,\n",
       "        66.75,  66.  ,  66.  ,  66.  ,  66.  ,  66.  ,  66.  ,  66.  ,\n",
       "        66.  ,  66.  ,  66.  ,  66.  ,  66.  ,  66.  ,  66.  ,  66.  ,\n",
       "        66.  ,  66.  ,  66.  ,  66.  ,  66.25,  66.  ,  66.  ,  66.  ,\n",
       "        66.  ,  66.  ,  66.  ,  66.  ,  66.  ,  66.  ,  66.  ,  65.5 ,\n",
       "        65.5 ,  65.5 ,  65.5 ,  65.5 ,  65.5 ,  65.5 ,  65.5 ,  66.  ,\n",
       "        66.  ,  66.  ,  66.  ,  65.5 ,  65.5 ,  65.5 ,  65.5 ,  65.5 ,\n",
       "        65.5 ,  65.5 ,  65.5 ,  65.5 ,  65.5 ,  65.5 ,  65.5 ,  65.5 ,\n",
       "        65.5 ,  65.5 ,  65.5 ,  65.5 ,  65.5 ,  65.5 ,  66.  ,  65.5 ,\n",
       "        65.85,  65.85,  65.85,  65.85,  65.85,  65.25,  65.35,  65.35,\n",
       "        65.25,  64.5 ,  64.5 ,  64.5 ,  64.5 ,  64.5 ,  64.1 ,  64.  ,\n",
       "        64.  ,  64.  ,  64.  ,  64.  ,  64.  ,  64.  ,  64.  ,  64.  ,\n",
       "        64.  ,  64.  ,  63.75,  63.5 ,  63.5 ,  63.5 ,  63.5 ,  63.5 ,\n",
       "        63.5 ,  63.5 ,  63.5 ,  63.5 ,  63.5 ,  66.6 ,  66.6 ,  66.6 ,\n",
       "        66.6 ,  66.6 ,  66.75,  66.5 ,  66.5 ,  66.5 ,  66.5 ,  66.5 ,\n",
       "        66.5 ,  66.5 ,  66.5 ,  66.  ,  66.  ,  66.  ,  66.  ,  66.  ,\n",
       "        66.  ,  66.25,  66.25,  66.25,  66.25,  66.25,  66.25,  66.25,\n",
       "        66.25,  66.25,  66.  ,  66.  ,  66.  ,  66.25,  66.25,  66.25,\n",
       "        66.25,  66.25,  66.25,  66.25,  66.25,  66.25,  66.25,  66.25,\n",
       "        65.5 ,  65.5 ,  65.5 ,  65.5 ,  65.25,  65.25,  65.25,  65.25,\n",
       "        65.25,  65.25,  65.25,  65.25,  65.  ,  65.  ,  65.  ,  64.75,\n",
       "        64.75,  64.75,  64.75,  64.75,  64.  ,  66.5 ,  66.5 ,  66.5 ,\n",
       "        66.5 ,  66.5 ,  66.5 ,  66.5 ,  66.5 ,  66.5 ,  66.5 ,  66.5 ,\n",
       "        66.5 ,  66.5 ,  66.5 ,  66.5 ,  66.5 ,  66.5 ,  66.  ,  66.  ,\n",
       "        66.  ,  66.  ,  66.  ,  66.  ,  66.  ,  66.  ,  66.  ,  66.  ,\n",
       "        66.  ,  65.75,  65.75,  65.75,  65.75,  65.75,  65.75,  65.75,\n",
       "        65.75,  65.75,  65.75,  65.75,  65.75,  65.75,  64.5 ,  64.75,\n",
       "        64.75,  64.75,  64.75,  64.75,  64.75,  64.75,  64.75,  64.5 ,\n",
       "        64.5 ,  64.5 ,  64.5 ,  64.5 ,  64.5 ,  64.5 ,  63.75,  63.  ,\n",
       "        63.  ,  63.  ,  63.  ,  63.  ,  62.5 ,  62.5 ,  62.5 ,  62.5 ,\n",
       "        62.5 ,  62.5 ,  62.5 ,  62.5 ,  62.5 ,  62.5 ,  62.5 ,  62.5 ,\n",
       "        62.5 ,  62.5 ,  62.5 ,  66.  ,  66.  ,  66.  ,  66.  ,  66.  ,\n",
       "        65.5 ,  65.5 ,  65.5 ,  65.5 ,  65.5 ,  65.5 ,  65.5 ,  65.5 ,\n",
       "        65.5 ,  65.  ,  65.  ,  65.  ,  65.  ,  65.  ,  65.  ,  65.  ,\n",
       "        65.  ,  65.  ,  65.25,  65.25,  65.  ,  65.  ,  65.  ,  65.  ,\n",
       "        65.  ,  65.  ,  64.5 ,  64.5 ,  64.5 ,  64.5 ,  64.5 ,  64.5 ,\n",
       "        64.  ,  64.  ,  64.  ,  64.  ,  64.  ,  64.25,  64.25,  64.25,\n",
       "        64.25,  62.75,  62.75,  62.75,  62.75,  62.75,  64.  ,  64.  ,\n",
       "        64.  ,  64.  ,  64.  ,  64.  ,  64.  ,  64.  ,  64.  ,  64.  ,\n",
       "        64.  ,  64.  ,  64.  ,  64.  ,  63.5 ,  62.  ,  62.  ,  63.25,\n",
       "        63.25,  64.  ,  64.  ,  64.  ,  62.75,  62.75])"
      ]
     },
     "execution_count": 8,
     "metadata": {},
     "output_type": "execute_result"
    }
   ],
   "source": [
    "avg_heights = galton.apply(average_height, 'father', 'mother')\n",
    "avg_heights"
   ]
  },
  {
   "cell_type": "markdown",
   "metadata": {},
   "source": [
    "**Question:** add a new column of average parent heights to the table, with the column name `midparentHeight`."
   ]
  },
  {
   "cell_type": "code",
   "execution_count": 9,
   "metadata": {},
   "outputs": [
    {
     "data": {
      "text/html": [
       "<table border=\"1\" class=\"dataframe\">\n",
       "    <thead>\n",
       "        <tr>\n",
       "            <th>family</th> <th>father</th> <th>mother</th> <th>children</th> <th>childNum</th> <th>gender</th> <th>childHeight</th> <th>midparentHeight</th>\n",
       "        </tr>\n",
       "    </thead>\n",
       "    <tbody>\n",
       "        <tr>\n",
       "            <td>1     </td> <td>78.5  </td> <td>67    </td> <td>4       </td> <td>1       </td> <td>male  </td> <td>73.2       </td> <td>72.75          </td>\n",
       "        </tr>\n",
       "        <tr>\n",
       "            <td>1     </td> <td>78.5  </td> <td>67    </td> <td>4       </td> <td>2       </td> <td>female</td> <td>69.2       </td> <td>72.75          </td>\n",
       "        </tr>\n",
       "        <tr>\n",
       "            <td>1     </td> <td>78.5  </td> <td>67    </td> <td>4       </td> <td>3       </td> <td>female</td> <td>69         </td> <td>72.75          </td>\n",
       "        </tr>\n",
       "        <tr>\n",
       "            <td>1     </td> <td>78.5  </td> <td>67    </td> <td>4       </td> <td>4       </td> <td>female</td> <td>69         </td> <td>72.75          </td>\n",
       "        </tr>\n",
       "        <tr>\n",
       "            <td>2     </td> <td>75.5  </td> <td>66.5  </td> <td>4       </td> <td>1       </td> <td>male  </td> <td>73.5       </td> <td>71             </td>\n",
       "        </tr>\n",
       "        <tr>\n",
       "            <td>2     </td> <td>75.5  </td> <td>66.5  </td> <td>4       </td> <td>2       </td> <td>male  </td> <td>72.5       </td> <td>71             </td>\n",
       "        </tr>\n",
       "        <tr>\n",
       "            <td>2     </td> <td>75.5  </td> <td>66.5  </td> <td>4       </td> <td>3       </td> <td>female</td> <td>65.5       </td> <td>71             </td>\n",
       "        </tr>\n",
       "        <tr>\n",
       "            <td>2     </td> <td>75.5  </td> <td>66.5  </td> <td>4       </td> <td>4       </td> <td>female</td> <td>65.5       </td> <td>71             </td>\n",
       "        </tr>\n",
       "        <tr>\n",
       "            <td>3     </td> <td>75    </td> <td>64    </td> <td>2       </td> <td>1       </td> <td>male  </td> <td>71         </td> <td>69.5           </td>\n",
       "        </tr>\n",
       "        <tr>\n",
       "            <td>3     </td> <td>75    </td> <td>64    </td> <td>2       </td> <td>2       </td> <td>female</td> <td>68         </td> <td>69.5           </td>\n",
       "        </tr>\n",
       "    </tbody>\n",
       "</table>\n",
       "<p>... (924 rows omitted)</p>"
      ],
      "text/plain": [
       "family | father | mother | children | childNum | gender | childHeight | midparentHeight\n",
       "1      | 78.5   | 67     | 4        | 1        | male   | 73.2        | 72.75\n",
       "1      | 78.5   | 67     | 4        | 2        | female | 69.2        | 72.75\n",
       "1      | 78.5   | 67     | 4        | 3        | female | 69          | 72.75\n",
       "1      | 78.5   | 67     | 4        | 4        | female | 69          | 72.75\n",
       "2      | 75.5   | 66.5   | 4        | 1        | male   | 73.5        | 71\n",
       "2      | 75.5   | 66.5   | 4        | 2        | male   | 72.5        | 71\n",
       "2      | 75.5   | 66.5   | 4        | 3        | female | 65.5        | 71\n",
       "2      | 75.5   | 66.5   | 4        | 4        | female | 65.5        | 71\n",
       "3      | 75     | 64     | 2        | 1        | male   | 71          | 69.5\n",
       "3      | 75     | 64     | 2        | 2        | female | 68          | 69.5\n",
       "... (924 rows omitted)"
      ]
     },
     "execution_count": 9,
     "metadata": {},
     "output_type": "execute_result"
    }
   ],
   "source": [
    "galton = galton.with_column('midparentHeight', avg_heights)\n",
    "galton"
   ]
  },
  {
   "cell_type": "markdown",
   "metadata": {},
   "source": [
    "## Prediction ##"
   ]
  },
  {
   "cell_type": "markdown",
   "metadata": {},
   "source": [
    "Can we use the average height of a child's parents to predict the child's height? Scatter plots are a good way to look for relationships between two variables:"
   ]
  },
  {
   "cell_type": "code",
   "execution_count": 10,
   "metadata": {},
   "outputs": [
    {
     "data": {
      "image/png": "[encoded data removed]",
      "text/plain": [
       "<Figure size 500x500 with 1 Axes>"
      ]
     },
     "metadata": {},
     "output_type": "display_data"
    }
   ],
   "source": [
    "galton.scatter('midparentHeight', 'childHeight')"
   ]
  },
  {
   "cell_type": "markdown",
   "metadata": {},
   "source": [
    "Suppose that a child's parents have an average height of 68 inches. How might we predict that child's height? A reasonable approach would be to identify other children whose parents' average height is close to 68 inches, and use the average heights of these children."
   ]
  },
  {
   "cell_type": "markdown",
   "metadata": {},
   "source": [
    "Let's identify the rows of the table where heights are within 0.5 inches of 68:"
   ]
  },
  {
   "cell_type": "code",
   "execution_count": 11,
   "metadata": {},
   "outputs": [
    {
     "data": {
      "image/png": "[encoded data removed]",
      "text/plain": [
       "<Figure size 500x500 with 1 Axes>"
      ]
     },
     "metadata": {},
     "output_type": "display_data"
    }
   ],
   "source": [
    "galton.scatter('midparentHeight', 'childHeight')\n",
    "\n",
    "# Add vertical red lines to the scatter plot, to indicate the range [67.5, 68.5]\n",
    "plots.plot([67.5, 67.5], [55, 80], color='red', lw=2)\n",
    "plots.plot([68.5, 68.5], [55, 80], color='red', lw=2);"
   ]
  },
  {
   "cell_type": "code",
   "execution_count": 12,
   "metadata": {},
   "outputs": [
    {
     "data": {
      "text/html": [
       "<table border=\"1\" class=\"dataframe\">\n",
       "    <thead>\n",
       "        <tr>\n",
       "            <th>family</th> <th>father</th> <th>mother</th> <th>children</th> <th>childNum</th> <th>gender</th> <th>childHeight</th> <th>midparentHeight</th>\n",
       "        </tr>\n",
       "    </thead>\n",
       "    <tbody>\n",
       "        <tr>\n",
       "            <td>11    </td> <td>74    </td> <td>62    </td> <td>8       </td> <td>1       </td> <td>male  </td> <td>74         </td> <td>68             </td>\n",
       "        </tr>\n",
       "        <tr>\n",
       "            <td>11    </td> <td>74    </td> <td>62    </td> <td>8       </td> <td>2       </td> <td>male  </td> <td>70         </td> <td>68             </td>\n",
       "        </tr>\n",
       "        <tr>\n",
       "            <td>11    </td> <td>74    </td> <td>62    </td> <td>8       </td> <td>3       </td> <td>female</td> <td>68         </td> <td>68             </td>\n",
       "        </tr>\n",
       "        <tr>\n",
       "            <td>11    </td> <td>74    </td> <td>62    </td> <td>8       </td> <td>4       </td> <td>female</td> <td>67         </td> <td>68             </td>\n",
       "        </tr>\n",
       "        <tr>\n",
       "            <td>11    </td> <td>74    </td> <td>62    </td> <td>8       </td> <td>5       </td> <td>female</td> <td>67         </td> <td>68             </td>\n",
       "        </tr>\n",
       "        <tr>\n",
       "            <td>11    </td> <td>74    </td> <td>62    </td> <td>8       </td> <td>6       </td> <td>female</td> <td>66         </td> <td>68             </td>\n",
       "        </tr>\n",
       "        <tr>\n",
       "            <td>11    </td> <td>74    </td> <td>62    </td> <td>8       </td> <td>7       </td> <td>female</td> <td>63.5       </td> <td>68             </td>\n",
       "        </tr>\n",
       "        <tr>\n",
       "            <td>11    </td> <td>74    </td> <td>62    </td> <td>8       </td> <td>8       </td> <td>female</td> <td>63         </td> <td>68             </td>\n",
       "        </tr>\n",
       "        <tr>\n",
       "            <td>12    </td> <td>74    </td> <td>61    </td> <td>1       </td> <td>1       </td> <td>female</td> <td>65         </td> <td>67.5           </td>\n",
       "        </tr>\n",
       "        <tr>\n",
       "            <td>19    </td> <td>73.2  </td> <td>63    </td> <td>1       </td> <td>1       </td> <td>female</td> <td>62.7       </td> <td>68.1           </td>\n",
       "        </tr>\n",
       "    </tbody>\n",
       "</table>\n",
       "<p>... (175 rows omitted)</p>"
      ],
      "text/plain": [
       "family | father | mother | children | childNum | gender | childHeight | midparentHeight\n",
       "11     | 74     | 62     | 8        | 1        | male   | 74          | 68\n",
       "11     | 74     | 62     | 8        | 2        | male   | 70          | 68\n",
       "11     | 74     | 62     | 8        | 3        | female | 68          | 68\n",
       "11     | 74     | 62     | 8        | 4        | female | 67          | 68\n",
       "11     | 74     | 62     | 8        | 5        | female | 67          | 68\n",
       "11     | 74     | 62     | 8        | 6        | female | 66          | 68\n",
       "11     | 74     | 62     | 8        | 7        | female | 63.5        | 68\n",
       "11     | 74     | 62     | 8        | 8        | female | 63          | 68\n",
       "12     | 74     | 61     | 1        | 1        | female | 65          | 67.5\n",
       "19     | 73.2   | 63     | 1        | 1        | female | 62.7        | 68.1\n",
       "... (175 rows omitted)"
      ]
     },
     "execution_count": 12,
     "metadata": {},
     "output_type": "execute_result"
    }
   ],
   "source": [
    "# Use the where method to identify rows where parents' average height is within 0.5 inches of 68\n",
    "nearby = galton.where('midparentHeight', are.between(67.5, 68.5))\n",
    "nearby"
   ]
  },
  {
   "cell_type": "code",
   "execution_count": 13,
   "metadata": {
    "scrolled": true,
    "tags": []
   },
   "outputs": [
    {
     "data": {
      "text/plain": [
       "67.620000000000005"
      ]
     },
     "execution_count": 13,
     "metadata": {},
     "output_type": "execute_result"
    }
   ],
   "source": [
    "# Calculate the average height of children in these rows\n",
    "nearby_mean = np.average(nearby.column('childHeight'))\n",
    "nearby_mean"
   ]
  },
  {
   "cell_type": "code",
   "execution_count": 14,
   "metadata": {},
   "outputs": [
    {
     "data": {
      "image/png": "[encoded data removed]",
      "text/plain": [
       "<Figure size 500x500 with 1 Axes>"
      ]
     },
     "metadata": {},
     "output_type": "display_data"
    }
   ],
   "source": [
    "galton.scatter('midparentHeight', 'childHeight')\n",
    "plots.plot([67.5, 67.5], [55, 80], color='red', lw=2)\n",
    "plots.plot([68.5, 68.5], [55, 80], color='red', lw=2)\n",
    "\n",
    "# Mark the predicted height for children whose parents' average height is 68 inches\n",
    "plots.scatter(68, nearby_mean, color='red', s=70);"
   ]
  },
  {
   "cell_type": "markdown",
   "metadata": {},
   "source": [
    "Now we have a sequence of steps for predicting a child's height: identify rows in the table where `midparentHeight` is within 0.5 inches of their parents' average height, then calculate the average of `childHeight` for those rows. \n",
    "\n",
    "It would be a good idea to write a function to perform these steps, so that we can reuse it again and again:"
   ]
  },
  {
   "cell_type": "code",
   "execution_count": 15,
   "metadata": {},
   "outputs": [],
   "source": [
    "def predict(h):\n",
    "    \"\"\"\n",
    "    Predict the height of a child based on the average height h of their parents.\n",
    "    \"\"\"\n",
    "    nearby = galton.where('midparentHeight', are.between(h - 1/2, h + 1/2))\n",
    "    return np.average(nearby.column('childHeight'))"
   ]
  },
  {
   "cell_type": "code",
   "execution_count": 16,
   "metadata": {},
   "outputs": [
    {
     "data": {
      "text/plain": [
       "67.620000000000005"
      ]
     },
     "execution_count": 16,
     "metadata": {},
     "output_type": "execute_result"
    }
   ],
   "source": [
    "predict(68)"
   ]
  },
  {
   "cell_type": "code",
   "execution_count": 17,
   "metadata": {},
   "outputs": [
    {
     "data": {
      "text/plain": [
       "68.561904761904756"
      ]
     },
     "execution_count": 17,
     "metadata": {},
     "output_type": "execute_result"
    }
   ],
   "source": [
    "predict(70)"
   ]
  },
  {
   "cell_type": "code",
   "execution_count": 18,
   "metadata": {},
   "outputs": [
    {
     "data": {
      "text/plain": [
       "70.099999999999994"
      ]
     },
     "execution_count": 18,
     "metadata": {},
     "output_type": "execute_result"
    }
   ],
   "source": [
    "predict(73)"
   ]
  },
  {
   "cell_type": "code",
   "execution_count": 19,
   "metadata": {},
   "outputs": [
    {
     "data": {
      "text/html": [
       "<table border=\"1\" class=\"dataframe\">\n",
       "    <thead>\n",
       "        <tr>\n",
       "            <th>family</th> <th>father</th> <th>mother</th> <th>children</th> <th>childNum</th> <th>gender</th> <th>childHeight</th> <th>midparentHeight</th>\n",
       "        </tr>\n",
       "    </thead>\n",
       "    <tbody>\n",
       "        <tr>\n",
       "            <td>1     </td> <td>78.5  </td> <td>67    </td> <td>4       </td> <td>1       </td> <td>male  </td> <td>73.2       </td> <td>72.75          </td>\n",
       "        </tr>\n",
       "        <tr>\n",
       "            <td>1     </td> <td>78.5  </td> <td>67    </td> <td>4       </td> <td>2       </td> <td>female</td> <td>69.2       </td> <td>72.75          </td>\n",
       "        </tr>\n",
       "        <tr>\n",
       "            <td>1     </td> <td>78.5  </td> <td>67    </td> <td>4       </td> <td>3       </td> <td>female</td> <td>69         </td> <td>72.75          </td>\n",
       "        </tr>\n",
       "        <tr>\n",
       "            <td>1     </td> <td>78.5  </td> <td>67    </td> <td>4       </td> <td>4       </td> <td>female</td> <td>69         </td> <td>72.75          </td>\n",
       "        </tr>\n",
       "        <tr>\n",
       "            <td>2     </td> <td>75.5  </td> <td>66.5  </td> <td>4       </td> <td>1       </td> <td>male  </td> <td>73.5       </td> <td>71             </td>\n",
       "        </tr>\n",
       "        <tr>\n",
       "            <td>2     </td> <td>75.5  </td> <td>66.5  </td> <td>4       </td> <td>2       </td> <td>male  </td> <td>72.5       </td> <td>71             </td>\n",
       "        </tr>\n",
       "        <tr>\n",
       "            <td>2     </td> <td>75.5  </td> <td>66.5  </td> <td>4       </td> <td>3       </td> <td>female</td> <td>65.5       </td> <td>71             </td>\n",
       "        </tr>\n",
       "        <tr>\n",
       "            <td>2     </td> <td>75.5  </td> <td>66.5  </td> <td>4       </td> <td>4       </td> <td>female</td> <td>65.5       </td> <td>71             </td>\n",
       "        </tr>\n",
       "        <tr>\n",
       "            <td>3     </td> <td>75    </td> <td>64    </td> <td>2       </td> <td>1       </td> <td>male  </td> <td>71         </td> <td>69.5           </td>\n",
       "        </tr>\n",
       "        <tr>\n",
       "            <td>3     </td> <td>75    </td> <td>64    </td> <td>2       </td> <td>2       </td> <td>female</td> <td>68         </td> <td>69.5           </td>\n",
       "        </tr>\n",
       "    </tbody>\n",
       "</table>\n",
       "<p>... (924 rows omitted)</p>"
      ],
      "text/plain": [
       "family | father | mother | children | childNum | gender | childHeight | midparentHeight\n",
       "1      | 78.5   | 67     | 4        | 1        | male   | 73.2        | 72.75\n",
       "1      | 78.5   | 67     | 4        | 2        | female | 69.2        | 72.75\n",
       "1      | 78.5   | 67     | 4        | 3        | female | 69          | 72.75\n",
       "1      | 78.5   | 67     | 4        | 4        | female | 69          | 72.75\n",
       "2      | 75.5   | 66.5   | 4        | 1        | male   | 73.5        | 71\n",
       "2      | 75.5   | 66.5   | 4        | 2        | male   | 72.5        | 71\n",
       "2      | 75.5   | 66.5   | 4        | 3        | female | 65.5        | 71\n",
       "2      | 75.5   | 66.5   | 4        | 4        | female | 65.5        | 71\n",
       "3      | 75     | 64     | 2        | 1        | male   | 71          | 69.5\n",
       "3      | 75     | 64     | 2        | 2        | female | 68          | 69.5\n",
       "... (924 rows omitted)"
      ]
     },
     "execution_count": 19,
     "metadata": {},
     "output_type": "execute_result"
    }
   ],
   "source": [
    "galton"
   ]
  },
  {
   "cell_type": "markdown",
   "metadata": {},
   "source": [
    "**Question:** use the `apply` method to predict the height of every child (row) in the table `galton`. Add this array of predictions back into the table as a new column `predictedHeight`."
   ]
  },
  {
   "cell_type": "code",
   "execution_count": 21,
   "metadata": {},
   "outputs": [],
   "source": [
    "predicted_height = galton.apply(predict, 'midparentHeight')\n",
    "galton = galton.with_column('predictedHeight', predicted_height)"
   ]
  },
  {
   "cell_type": "code",
   "execution_count": 22,
   "metadata": {},
   "outputs": [
    {
     "data": {
      "text/html": [
       "<table border=\"1\" class=\"dataframe\">\n",
       "    <thead>\n",
       "        <tr>\n",
       "            <th>family</th> <th>father</th> <th>mother</th> <th>children</th> <th>childNum</th> <th>gender</th> <th>childHeight</th> <th>midparentHeight</th> <th>predictedHeight</th>\n",
       "        </tr>\n",
       "    </thead>\n",
       "    <tbody>\n",
       "        <tr>\n",
       "            <td>1     </td> <td>78.5  </td> <td>67    </td> <td>4       </td> <td>1       </td> <td>male  </td> <td>73.2       </td> <td>72.75          </td> <td>70.1           </td>\n",
       "        </tr>\n",
       "        <tr>\n",
       "            <td>1     </td> <td>78.5  </td> <td>67    </td> <td>4       </td> <td>2       </td> <td>female</td> <td>69.2       </td> <td>72.75          </td> <td>70.1           </td>\n",
       "        </tr>\n",
       "        <tr>\n",
       "            <td>1     </td> <td>78.5  </td> <td>67    </td> <td>4       </td> <td>3       </td> <td>female</td> <td>69         </td> <td>72.75          </td> <td>70.1           </td>\n",
       "        </tr>\n",
       "        <tr>\n",
       "            <td>1     </td> <td>78.5  </td> <td>67    </td> <td>4       </td> <td>4       </td> <td>female</td> <td>69         </td> <td>72.75          </td> <td>70.1           </td>\n",
       "        </tr>\n",
       "        <tr>\n",
       "            <td>2     </td> <td>75.5  </td> <td>66.5  </td> <td>4       </td> <td>1       </td> <td>male  </td> <td>73.5       </td> <td>71             </td> <td>70.4158        </td>\n",
       "        </tr>\n",
       "        <tr>\n",
       "            <td>2     </td> <td>75.5  </td> <td>66.5  </td> <td>4       </td> <td>2       </td> <td>male  </td> <td>72.5       </td> <td>71             </td> <td>70.4158        </td>\n",
       "        </tr>\n",
       "        <tr>\n",
       "            <td>2     </td> <td>75.5  </td> <td>66.5  </td> <td>4       </td> <td>3       </td> <td>female</td> <td>65.5       </td> <td>71             </td> <td>70.4158        </td>\n",
       "        </tr>\n",
       "        <tr>\n",
       "            <td>2     </td> <td>75.5  </td> <td>66.5  </td> <td>4       </td> <td>4       </td> <td>female</td> <td>65.5       </td> <td>71             </td> <td>70.4158        </td>\n",
       "        </tr>\n",
       "        <tr>\n",
       "            <td>3     </td> <td>75    </td> <td>64    </td> <td>2       </td> <td>1       </td> <td>male  </td> <td>71         </td> <td>69.5           </td> <td>68.5025        </td>\n",
       "        </tr>\n",
       "        <tr>\n",
       "            <td>3     </td> <td>75    </td> <td>64    </td> <td>2       </td> <td>2       </td> <td>female</td> <td>68         </td> <td>69.5           </td> <td>68.5025        </td>\n",
       "        </tr>\n",
       "    </tbody>\n",
       "</table>\n",
       "<p>... (924 rows omitted)</p>"
      ],
      "text/plain": [
       "family | father | mother | children | childNum | gender | childHeight | midparentHeight | predictedHeight\n",
       "1      | 78.5   | 67     | 4        | 1        | male   | 73.2        | 72.75           | 70.1\n",
       "1      | 78.5   | 67     | 4        | 2        | female | 69.2        | 72.75           | 70.1\n",
       "1      | 78.5   | 67     | 4        | 3        | female | 69          | 72.75           | 70.1\n",
       "1      | 78.5   | 67     | 4        | 4        | female | 69          | 72.75           | 70.1\n",
       "2      | 75.5   | 66.5   | 4        | 1        | male   | 73.5        | 71              | 70.4158\n",
       "2      | 75.5   | 66.5   | 4        | 2        | male   | 72.5        | 71              | 70.4158\n",
       "2      | 75.5   | 66.5   | 4        | 3        | female | 65.5        | 71              | 70.4158\n",
       "2      | 75.5   | 66.5   | 4        | 4        | female | 65.5        | 71              | 70.4158\n",
       "3      | 75     | 64     | 2        | 1        | male   | 71          | 69.5            | 68.5025\n",
       "3      | 75     | 64     | 2        | 2        | female | 68          | 69.5            | 68.5025\n",
       "... (924 rows omitted)"
      ]
     },
     "execution_count": 22,
     "metadata": {},
     "output_type": "execute_result"
    }
   ],
   "source": [
    "galton"
   ]
  },
  {
   "cell_type": "markdown",
   "metadata": {},
   "source": [
    "Let's see how our predictions look on the scatter plot. Instead of providing a single column name as the second argument to `scatter`, we can provide a list of column names, and `scatter` will plot both of those columns:"
   ]
  },
  {
   "cell_type": "code",
   "execution_count": 23,
   "metadata": {},
   "outputs": [
    {
     "data": {
      "image/png": "[encoded data removed]",
      "text/plain": [
       "<Figure size 500x500 with 1 Axes>"
      ]
     },
     "metadata": {},
     "output_type": "display_data"
    }
   ],
   "source": [
    "galton.scatter('midparentHeight', ['childHeight', 'predictedHeight'])"
   ]
  },
  {
   "cell_type": "markdown",
   "metadata": {},
   "source": [
    "How accurate is our approach to predicting heights?"
   ]
  },
  {
   "cell_type": "markdown",
   "metadata": {},
   "source": [
    "**Question:** write a function called `difference` that takes two arguments, and returns the difference between them."
   ]
  },
  {
   "cell_type": "code",
   "execution_count": 24,
   "metadata": {},
   "outputs": [],
   "source": [
    "def difference(predicted, true):\n",
    "    return predicted - true"
   ]
  },
  {
   "cell_type": "code",
   "execution_count": 26,
   "metadata": {},
   "outputs": [
    {
     "data": {
      "text/plain": [
       "-6"
      ]
     },
     "execution_count": 26,
     "metadata": {},
     "output_type": "execute_result"
    }
   ],
   "source": [
    "difference(74, 80)"
   ]
  },
  {
   "cell_type": "markdown",
   "metadata": {},
   "source": [
    "**Question:** use the `apply` method to create an array of prediction errors for each row. Add this array to the `galton` table as a new column `errors`."
   ]
  },
  {
   "cell_type": "code",
   "execution_count": 28,
   "metadata": {},
   "outputs": [
    {
     "data": {
      "text/html": [
       "<table border=\"1\" class=\"dataframe\">\n",
       "    <thead>\n",
       "        <tr>\n",
       "            <th>family</th> <th>father</th> <th>mother</th> <th>children</th> <th>childNum</th> <th>gender</th> <th>childHeight</th> <th>midparentHeight</th> <th>predictedHeight</th> <th>errors</th>\n",
       "        </tr>\n",
       "    </thead>\n",
       "    <tbody>\n",
       "        <tr>\n",
       "            <td>1     </td> <td>78.5  </td> <td>67    </td> <td>4       </td> <td>1       </td> <td>male  </td> <td>73.2       </td> <td>72.75          </td> <td>70.1           </td> <td>-3.1    </td>\n",
       "        </tr>\n",
       "        <tr>\n",
       "            <td>1     </td> <td>78.5  </td> <td>67    </td> <td>4       </td> <td>2       </td> <td>female</td> <td>69.2       </td> <td>72.75          </td> <td>70.1           </td> <td>0.9     </td>\n",
       "        </tr>\n",
       "        <tr>\n",
       "            <td>1     </td> <td>78.5  </td> <td>67    </td> <td>4       </td> <td>3       </td> <td>female</td> <td>69         </td> <td>72.75          </td> <td>70.1           </td> <td>1.1     </td>\n",
       "        </tr>\n",
       "        <tr>\n",
       "            <td>1     </td> <td>78.5  </td> <td>67    </td> <td>4       </td> <td>4       </td> <td>female</td> <td>69         </td> <td>72.75          </td> <td>70.1           </td> <td>1.1     </td>\n",
       "        </tr>\n",
       "        <tr>\n",
       "            <td>2     </td> <td>75.5  </td> <td>66.5  </td> <td>4       </td> <td>1       </td> <td>male  </td> <td>73.5       </td> <td>71             </td> <td>70.4158        </td> <td>-3.08421</td>\n",
       "        </tr>\n",
       "        <tr>\n",
       "            <td>2     </td> <td>75.5  </td> <td>66.5  </td> <td>4       </td> <td>2       </td> <td>male  </td> <td>72.5       </td> <td>71             </td> <td>70.4158        </td> <td>-2.08421</td>\n",
       "        </tr>\n",
       "        <tr>\n",
       "            <td>2     </td> <td>75.5  </td> <td>66.5  </td> <td>4       </td> <td>3       </td> <td>female</td> <td>65.5       </td> <td>71             </td> <td>70.4158        </td> <td>4.91579 </td>\n",
       "        </tr>\n",
       "        <tr>\n",
       "            <td>2     </td> <td>75.5  </td> <td>66.5  </td> <td>4       </td> <td>4       </td> <td>female</td> <td>65.5       </td> <td>71             </td> <td>70.4158        </td> <td>4.91579 </td>\n",
       "        </tr>\n",
       "        <tr>\n",
       "            <td>3     </td> <td>75    </td> <td>64    </td> <td>2       </td> <td>1       </td> <td>male  </td> <td>71         </td> <td>69.5           </td> <td>68.5025        </td> <td>-2.4975 </td>\n",
       "        </tr>\n",
       "        <tr>\n",
       "            <td>3     </td> <td>75    </td> <td>64    </td> <td>2       </td> <td>2       </td> <td>female</td> <td>68         </td> <td>69.5           </td> <td>68.5025        </td> <td>0.5025  </td>\n",
       "        </tr>\n",
       "    </tbody>\n",
       "</table>\n",
       "<p>... (924 rows omitted)</p>"
      ],
      "text/plain": [
       "family | father | mother | children | childNum | gender | childHeight | midparentHeight | predictedHeight | errors\n",
       "1      | 78.5   | 67     | 4        | 1        | male   | 73.2        | 72.75           | 70.1            | -3.1\n",
       "1      | 78.5   | 67     | 4        | 2        | female | 69.2        | 72.75           | 70.1            | 0.9\n",
       "1      | 78.5   | 67     | 4        | 3        | female | 69          | 72.75           | 70.1            | 1.1\n",
       "1      | 78.5   | 67     | 4        | 4        | female | 69          | 72.75           | 70.1            | 1.1\n",
       "2      | 75.5   | 66.5   | 4        | 1        | male   | 73.5        | 71              | 70.4158         | -3.08421\n",
       "2      | 75.5   | 66.5   | 4        | 2        | male   | 72.5        | 71              | 70.4158         | -2.08421\n",
       "2      | 75.5   | 66.5   | 4        | 3        | female | 65.5        | 71              | 70.4158         | 4.91579\n",
       "2      | 75.5   | 66.5   | 4        | 4        | female | 65.5        | 71              | 70.4158         | 4.91579\n",
       "3      | 75     | 64     | 2        | 1        | male   | 71          | 69.5            | 68.5025         | -2.4975\n",
       "3      | 75     | 64     | 2        | 2        | female | 68          | 69.5            | 68.5025         | 0.5025\n",
       "... (924 rows omitted)"
      ]
     },
     "execution_count": 28,
     "metadata": {},
     "output_type": "execute_result"
    }
   ],
   "source": [
    "error_array = galton.apply(difference, 'predictedHeight', 'childHeight')\n",
    "galton = galton.with_column('errors', error_array)\n",
    "galton"
   ]
  },
  {
   "cell_type": "markdown",
   "metadata": {},
   "source": [
    "Let's look at the distribution of errors with a simple histogram:"
   ]
  },
  {
   "cell_type": "code",
   "execution_count": 29,
   "metadata": {},
   "outputs": [
    {
     "data": {
      "image/png": "[encoded data removed]",
      "text/plain": [
       "<Figure size 600x400 with 1 Axes>"
      ]
     },
     "metadata": {},
     "output_type": "display_data"
    }
   ],
   "source": [
    "galton.hist('errors')"
   ]
  },
  {
   "cell_type": "markdown",
   "metadata": {},
   "source": [
    "If we'd like, we can plot separate histograms for different groups of rows, based on the value of a particular variable. For example, we can create a separate histogram for the error of boys and girls, by adding the argument `group = 'gender'` to group rows by the `gender` column."
   ]
  },
  {
   "cell_type": "code",
   "execution_count": 30,
   "metadata": {},
   "outputs": [
    {
     "data": {
      "text/html": [
       "<table border=\"1\" class=\"dataframe\">\n",
       "    <thead>\n",
       "        <tr>\n",
       "            <th>family</th> <th>father</th> <th>mother</th> <th>children</th> <th>childNum</th> <th>gender</th> <th>childHeight</th> <th>midparentHeight</th> <th>predictedHeight</th> <th>errors</th>\n",
       "        </tr>\n",
       "    </thead>\n",
       "    <tbody>\n",
       "        <tr>\n",
       "            <td>1     </td> <td>78.5  </td> <td>67    </td> <td>4       </td> <td>1       </td> <td>male  </td> <td>73.2       </td> <td>72.75          </td> <td>70.1           </td> <td>-3.1    </td>\n",
       "        </tr>\n",
       "        <tr>\n",
       "            <td>1     </td> <td>78.5  </td> <td>67    </td> <td>4       </td> <td>2       </td> <td>female</td> <td>69.2       </td> <td>72.75          </td> <td>70.1           </td> <td>0.9     </td>\n",
       "        </tr>\n",
       "        <tr>\n",
       "            <td>1     </td> <td>78.5  </td> <td>67    </td> <td>4       </td> <td>3       </td> <td>female</td> <td>69         </td> <td>72.75          </td> <td>70.1           </td> <td>1.1     </td>\n",
       "        </tr>\n",
       "        <tr>\n",
       "            <td>1     </td> <td>78.5  </td> <td>67    </td> <td>4       </td> <td>4       </td> <td>female</td> <td>69         </td> <td>72.75          </td> <td>70.1           </td> <td>1.1     </td>\n",
       "        </tr>\n",
       "        <tr>\n",
       "            <td>2     </td> <td>75.5  </td> <td>66.5  </td> <td>4       </td> <td>1       </td> <td>male  </td> <td>73.5       </td> <td>71             </td> <td>70.4158        </td> <td>-3.08421</td>\n",
       "        </tr>\n",
       "        <tr>\n",
       "            <td>2     </td> <td>75.5  </td> <td>66.5  </td> <td>4       </td> <td>2       </td> <td>male  </td> <td>72.5       </td> <td>71             </td> <td>70.4158        </td> <td>-2.08421</td>\n",
       "        </tr>\n",
       "        <tr>\n",
       "            <td>2     </td> <td>75.5  </td> <td>66.5  </td> <td>4       </td> <td>3       </td> <td>female</td> <td>65.5       </td> <td>71             </td> <td>70.4158        </td> <td>4.91579 </td>\n",
       "        </tr>\n",
       "        <tr>\n",
       "            <td>2     </td> <td>75.5  </td> <td>66.5  </td> <td>4       </td> <td>4       </td> <td>female</td> <td>65.5       </td> <td>71             </td> <td>70.4158        </td> <td>4.91579 </td>\n",
       "        </tr>\n",
       "        <tr>\n",
       "            <td>3     </td> <td>75    </td> <td>64    </td> <td>2       </td> <td>1       </td> <td>male  </td> <td>71         </td> <td>69.5           </td> <td>68.5025        </td> <td>-2.4975 </td>\n",
       "        </tr>\n",
       "        <tr>\n",
       "            <td>3     </td> <td>75    </td> <td>64    </td> <td>2       </td> <td>2       </td> <td>female</td> <td>68         </td> <td>69.5           </td> <td>68.5025        </td> <td>0.5025  </td>\n",
       "        </tr>\n",
       "    </tbody>\n",
       "</table>\n",
       "<p>... (924 rows omitted)</p>"
      ],
      "text/plain": [
       "family | father | mother | children | childNum | gender | childHeight | midparentHeight | predictedHeight | errors\n",
       "1      | 78.5   | 67     | 4        | 1        | male   | 73.2        | 72.75           | 70.1            | -3.1\n",
       "1      | 78.5   | 67     | 4        | 2        | female | 69.2        | 72.75           | 70.1            | 0.9\n",
       "1      | 78.5   | 67     | 4        | 3        | female | 69          | 72.75           | 70.1            | 1.1\n",
       "1      | 78.5   | 67     | 4        | 4        | female | 69          | 72.75           | 70.1            | 1.1\n",
       "2      | 75.5   | 66.5   | 4        | 1        | male   | 73.5        | 71              | 70.4158         | -3.08421\n",
       "2      | 75.5   | 66.5   | 4        | 2        | male   | 72.5        | 71              | 70.4158         | -2.08421\n",
       "2      | 75.5   | 66.5   | 4        | 3        | female | 65.5        | 71              | 70.4158         | 4.91579\n",
       "2      | 75.5   | 66.5   | 4        | 4        | female | 65.5        | 71              | 70.4158         | 4.91579\n",
       "3      | 75     | 64     | 2        | 1        | male   | 71          | 69.5            | 68.5025         | -2.4975\n",
       "3      | 75     | 64     | 2        | 2        | female | 68          | 69.5            | 68.5025         | 0.5025\n",
       "... (924 rows omitted)"
      ]
     },
     "execution_count": 30,
     "metadata": {},
     "output_type": "execute_result"
    }
   ],
   "source": [
    "galton"
   ]
  },
  {
   "cell_type": "code",
   "execution_count": 31,
   "metadata": {},
   "outputs": [
    {
     "data": {
      "image/png": "[encoded data removed]",
      "text/plain": [
       "<Figure size 600x400 with 1 Axes>"
      ]
     },
     "metadata": {},
     "output_type": "display_data"
    }
   ],
   "source": [
    "galton.hist('errors', group='gender')"
   ]
  },
  {
   "cell_type": "markdown",
   "metadata": {},
   "source": [
    "What do you notice about these two histograms?"
   ]
  },
  {
   "cell_type": "code",
   "execution_count": null,
   "metadata": {},
   "outputs": [],
   "source": [
    "# The blue histogram is centered on positive error, so we are over-estimating the heights of female children.\n",
    "# At the same time, the yellow histogram is centered on a negative error, so we are under-estimating the heights of \n",
    "# male children. It looks like gender is another important variable for explaining the heights of children in this data."
   ]
  },
  {
   "cell_type": "markdown",
   "metadata": {},
   "source": [
    "## Discussion Activity"
   ]
  },
  {
   "cell_type": "markdown",
   "metadata": {},
   "source": [
    "**Question 1:** how can we also account for gender when making predictions about a child's height? Don't write any code yet; just explain what you would do to modify our prediction approach in a way that incorporates gender as well."
   ]
  },
  {
   "cell_type": "code",
   "execution_count": null,
   "metadata": {},
   "outputs": [],
   "source": [
    "# Find the average error for male and female children, and add that when predicting"
   ]
  },
  {
   "cell_type": "code",
   "execution_count": 32,
   "metadata": {},
   "outputs": [
    {
     "data": {
      "text/plain": [
       "2.6062429104050859"
      ]
     },
     "execution_count": 32,
     "metadata": {},
     "output_type": "execute_result"
    }
   ],
   "source": [
    "np.average(galton.where('gender', 'female').column('errors'))"
   ]
  },
  {
   "cell_type": "code",
   "execution_count": 33,
   "metadata": {},
   "outputs": [
    {
     "data": {
      "text/plain": [
       "-2.5882835266302431"
      ]
     },
     "execution_count": 33,
     "metadata": {},
     "output_type": "execute_result"
    }
   ],
   "source": [
    "np.average(galton.where('gender', 'male').column('errors'))"
   ]
  },
  {
   "cell_type": "markdown",
   "metadata": {},
   "source": [
    "**Question 2:** Create a new function `predict_smarter`, which takes two arguments: `h` for height, and `g` for gender. Define this function so that it returns a prediction for height using both `h` and `g`."
   ]
  },
  {
   "cell_type": "code",
   "execution_count": 34,
   "metadata": {},
   "outputs": [],
   "source": [
    "def predict_smarter(h, g):\n",
    "    \n",
    "    # Filter down to rows where midparentHeight is within 0.5 inches of h\n",
    "    nearby = galton.where('midparentHeight', are.between(h - 1/2, h + 1/2))\n",
    "    \n",
    "    # Further filter down rows to where gender is identical to g\n",
    "    nearby = nearby.where('gender', g)\n",
    "    \n",
    "    return np.average(nearby.column('childHeight'))"
   ]
  },
  {
   "cell_type": "code",
   "execution_count": 35,
   "metadata": {},
   "outputs": [
    {
     "data": {
      "text/plain": [
       "64.983516483516482"
      ]
     },
     "execution_count": 35,
     "metadata": {},
     "output_type": "execute_result"
    }
   ],
   "source": [
    "predict_smarter(68, 'female')"
   ]
  },
  {
   "cell_type": "code",
   "execution_count": 36,
   "metadata": {},
   "outputs": [
    {
     "data": {
      "text/plain": [
       "70.172340425531914"
      ]
     },
     "execution_count": 36,
     "metadata": {},
     "output_type": "execute_result"
    }
   ],
   "source": [
    "predict_smarter(68, 'male')"
   ]
  },
  {
   "cell_type": "code",
   "execution_count": 37,
   "metadata": {},
   "outputs": [
    {
     "data": {
      "text/html": [
       "<table border=\"1\" class=\"dataframe\">\n",
       "    <thead>\n",
       "        <tr>\n",
       "            <th>family</th> <th>father</th> <th>mother</th> <th>children</th> <th>childNum</th> <th>gender</th> <th>childHeight</th> <th>midparentHeight</th> <th>predictedHeight</th> <th>errors</th> <th>smartPredictedHeight</th>\n",
       "        </tr>\n",
       "    </thead>\n",
       "    <tbody>\n",
       "        <tr>\n",
       "            <td>1     </td> <td>78.5  </td> <td>67    </td> <td>4       </td> <td>1       </td> <td>male  </td> <td>73.2       </td> <td>72.75          </td> <td>70.1           </td> <td>-3.1    </td> <td>73.2                </td>\n",
       "        </tr>\n",
       "        <tr>\n",
       "            <td>1     </td> <td>78.5  </td> <td>67    </td> <td>4       </td> <td>2       </td> <td>female</td> <td>69.2       </td> <td>72.75          </td> <td>70.1           </td> <td>0.9     </td> <td>69.0667             </td>\n",
       "        </tr>\n",
       "        <tr>\n",
       "            <td>1     </td> <td>78.5  </td> <td>67    </td> <td>4       </td> <td>3       </td> <td>female</td> <td>69         </td> <td>72.75          </td> <td>70.1           </td> <td>1.1     </td> <td>69.0667             </td>\n",
       "        </tr>\n",
       "        <tr>\n",
       "            <td>1     </td> <td>78.5  </td> <td>67    </td> <td>4       </td> <td>4       </td> <td>female</td> <td>69         </td> <td>72.75          </td> <td>70.1           </td> <td>1.1     </td> <td>69.0667             </td>\n",
       "        </tr>\n",
       "        <tr>\n",
       "            <td>2     </td> <td>75.5  </td> <td>66.5  </td> <td>4       </td> <td>1       </td> <td>male  </td> <td>73.5       </td> <td>71             </td> <td>70.4158        </td> <td>-3.08421</td> <td>73.4889             </td>\n",
       "        </tr>\n",
       "        <tr>\n",
       "            <td>2     </td> <td>75.5  </td> <td>66.5  </td> <td>4       </td> <td>2       </td> <td>male  </td> <td>72.5       </td> <td>71             </td> <td>70.4158        </td> <td>-2.08421</td> <td>73.4889             </td>\n",
       "        </tr>\n",
       "        <tr>\n",
       "            <td>2     </td> <td>75.5  </td> <td>66.5  </td> <td>4       </td> <td>3       </td> <td>female</td> <td>65.5       </td> <td>71             </td> <td>70.4158        </td> <td>4.91579 </td> <td>67.65               </td>\n",
       "        </tr>\n",
       "        <tr>\n",
       "            <td>2     </td> <td>75.5  </td> <td>66.5  </td> <td>4       </td> <td>4       </td> <td>female</td> <td>65.5       </td> <td>71             </td> <td>70.4158        </td> <td>4.91579 </td> <td>67.65               </td>\n",
       "        </tr>\n",
       "        <tr>\n",
       "            <td>3     </td> <td>75    </td> <td>64    </td> <td>2       </td> <td>1       </td> <td>male  </td> <td>71         </td> <td>69.5           </td> <td>68.5025        </td> <td>-2.4975 </td> <td>70.7955             </td>\n",
       "        </tr>\n",
       "        <tr>\n",
       "            <td>3     </td> <td>75    </td> <td>64    </td> <td>2       </td> <td>2       </td> <td>female</td> <td>68         </td> <td>69.5           </td> <td>68.5025        </td> <td>0.5025  </td> <td>65.7                </td>\n",
       "        </tr>\n",
       "    </tbody>\n",
       "</table>\n",
       "<p>... (924 rows omitted)</p>"
      ],
      "text/plain": [
       "family | father | mother | children | childNum | gender | childHeight | midparentHeight | predictedHeight | errors   | smartPredictedHeight\n",
       "1      | 78.5   | 67     | 4        | 1        | male   | 73.2        | 72.75           | 70.1            | -3.1     | 73.2\n",
       "1      | 78.5   | 67     | 4        | 2        | female | 69.2        | 72.75           | 70.1            | 0.9      | 69.0667\n",
       "1      | 78.5   | 67     | 4        | 3        | female | 69          | 72.75           | 70.1            | 1.1      | 69.0667\n",
       "1      | 78.5   | 67     | 4        | 4        | female | 69          | 72.75           | 70.1            | 1.1      | 69.0667\n",
       "2      | 75.5   | 66.5   | 4        | 1        | male   | 73.5        | 71              | 70.4158         | -3.08421 | 73.4889\n",
       "2      | 75.5   | 66.5   | 4        | 2        | male   | 72.5        | 71              | 70.4158         | -2.08421 | 73.4889\n",
       "2      | 75.5   | 66.5   | 4        | 3        | female | 65.5        | 71              | 70.4158         | 4.91579  | 67.65\n",
       "2      | 75.5   | 66.5   | 4        | 4        | female | 65.5        | 71              | 70.4158         | 4.91579  | 67.65\n",
       "3      | 75     | 64     | 2        | 1        | male   | 71          | 69.5            | 68.5025         | -2.4975  | 70.7955\n",
       "3      | 75     | 64     | 2        | 2        | female | 68          | 69.5            | 68.5025         | 0.5025   | 65.7\n",
       "... (924 rows omitted)"
      ]
     },
     "execution_count": 37,
     "metadata": {},
     "output_type": "execute_result"
    }
   ],
   "source": [
    "# Apply the predict_smarter function to get a new prediction for all children in the table\n",
    "smarter_predicted_heights = galton.apply(predict_smarter, 'midparentHeight', 'gender')\n",
    "\n",
    "# Add these predictions as a new column\n",
    "galton = galton.with_column('smartPredictedHeight', smarter_predicted_heights)\n",
    "galton"
   ]
  },
  {
   "cell_type": "code",
   "execution_count": 38,
   "metadata": {},
   "outputs": [
    {
     "data": {
      "text/html": [
       "<table border=\"1\" class=\"dataframe\">\n",
       "    <thead>\n",
       "        <tr>\n",
       "            <th>family</th> <th>father</th> <th>mother</th> <th>children</th> <th>childNum</th> <th>gender</th> <th>childHeight</th> <th>midparentHeight</th> <th>predictedHeight</th> <th>errors</th> <th>smartPredictedHeight</th> <th>smartErrors</th>\n",
       "        </tr>\n",
       "    </thead>\n",
       "    <tbody>\n",
       "        <tr>\n",
       "            <td>1     </td> <td>78.5  </td> <td>67    </td> <td>4       </td> <td>1       </td> <td>male  </td> <td>73.2       </td> <td>72.75          </td> <td>70.1           </td> <td>-3.1    </td> <td>73.2                </td> <td>0          </td>\n",
       "        </tr>\n",
       "        <tr>\n",
       "            <td>1     </td> <td>78.5  </td> <td>67    </td> <td>4       </td> <td>2       </td> <td>female</td> <td>69.2       </td> <td>72.75          </td> <td>70.1           </td> <td>0.9     </td> <td>69.0667             </td> <td>-0.133333  </td>\n",
       "        </tr>\n",
       "        <tr>\n",
       "            <td>1     </td> <td>78.5  </td> <td>67    </td> <td>4       </td> <td>3       </td> <td>female</td> <td>69         </td> <td>72.75          </td> <td>70.1           </td> <td>1.1     </td> <td>69.0667             </td> <td>0.0666667  </td>\n",
       "        </tr>\n",
       "        <tr>\n",
       "            <td>1     </td> <td>78.5  </td> <td>67    </td> <td>4       </td> <td>4       </td> <td>female</td> <td>69         </td> <td>72.75          </td> <td>70.1           </td> <td>1.1     </td> <td>69.0667             </td> <td>0.0666667  </td>\n",
       "        </tr>\n",
       "        <tr>\n",
       "            <td>2     </td> <td>75.5  </td> <td>66.5  </td> <td>4       </td> <td>1       </td> <td>male  </td> <td>73.5       </td> <td>71             </td> <td>70.4158        </td> <td>-3.08421</td> <td>73.4889             </td> <td>-0.0111111 </td>\n",
       "        </tr>\n",
       "        <tr>\n",
       "            <td>2     </td> <td>75.5  </td> <td>66.5  </td> <td>4       </td> <td>2       </td> <td>male  </td> <td>72.5       </td> <td>71             </td> <td>70.4158        </td> <td>-2.08421</td> <td>73.4889             </td> <td>0.988889   </td>\n",
       "        </tr>\n",
       "        <tr>\n",
       "            <td>2     </td> <td>75.5  </td> <td>66.5  </td> <td>4       </td> <td>3       </td> <td>female</td> <td>65.5       </td> <td>71             </td> <td>70.4158        </td> <td>4.91579 </td> <td>67.65               </td> <td>2.15       </td>\n",
       "        </tr>\n",
       "        <tr>\n",
       "            <td>2     </td> <td>75.5  </td> <td>66.5  </td> <td>4       </td> <td>4       </td> <td>female</td> <td>65.5       </td> <td>71             </td> <td>70.4158        </td> <td>4.91579 </td> <td>67.65               </td> <td>2.15       </td>\n",
       "        </tr>\n",
       "        <tr>\n",
       "            <td>3     </td> <td>75    </td> <td>64    </td> <td>2       </td> <td>1       </td> <td>male  </td> <td>71         </td> <td>69.5           </td> <td>68.5025        </td> <td>-2.4975 </td> <td>70.7955             </td> <td>-0.204545  </td>\n",
       "        </tr>\n",
       "        <tr>\n",
       "            <td>3     </td> <td>75    </td> <td>64    </td> <td>2       </td> <td>2       </td> <td>female</td> <td>68         </td> <td>69.5           </td> <td>68.5025        </td> <td>0.5025  </td> <td>65.7                </td> <td>-2.3       </td>\n",
       "        </tr>\n",
       "    </tbody>\n",
       "</table>\n",
       "<p>... (924 rows omitted)</p>"
      ],
      "text/plain": [
       "family | father | mother | children | childNum | gender | childHeight | midparentHeight | predictedHeight | errors   | smartPredictedHeight | smartErrors\n",
       "1      | 78.5   | 67     | 4        | 1        | male   | 73.2        | 72.75           | 70.1            | -3.1     | 73.2                 | 0\n",
       "1      | 78.5   | 67     | 4        | 2        | female | 69.2        | 72.75           | 70.1            | 0.9      | 69.0667              | -0.133333\n",
       "1      | 78.5   | 67     | 4        | 3        | female | 69          | 72.75           | 70.1            | 1.1      | 69.0667              | 0.0666667\n",
       "1      | 78.5   | 67     | 4        | 4        | female | 69          | 72.75           | 70.1            | 1.1      | 69.0667              | 0.0666667\n",
       "2      | 75.5   | 66.5   | 4        | 1        | male   | 73.5        | 71              | 70.4158         | -3.08421 | 73.4889              | -0.0111111\n",
       "2      | 75.5   | 66.5   | 4        | 2        | male   | 72.5        | 71              | 70.4158         | -2.08421 | 73.4889              | 0.988889\n",
       "2      | 75.5   | 66.5   | 4        | 3        | female | 65.5        | 71              | 70.4158         | 4.91579  | 67.65                | 2.15\n",
       "2      | 75.5   | 66.5   | 4        | 4        | female | 65.5        | 71              | 70.4158         | 4.91579  | 67.65                | 2.15\n",
       "3      | 75     | 64     | 2        | 1        | male   | 71          | 69.5            | 68.5025         | -2.4975  | 70.7955              | -0.204545\n",
       "3      | 75     | 64     | 2        | 2        | female | 68          | 69.5            | 68.5025         | 0.5025   | 65.7                 | -2.3\n",
       "... (924 rows omitted)"
      ]
     },
     "execution_count": 38,
     "metadata": {},
     "output_type": "execute_result"
    }
   ],
   "source": [
    "# Apply the difference function once again to calculate errors for smartPredictedHeight\n",
    "smarter_pred_errs = galton.apply(difference, 'smartPredictedHeight', 'childHeight')\n",
    "galton = galton.with_column('smartErrors', smarter_pred_errs)\n",
    "galton"
   ]
  },
  {
   "cell_type": "code",
   "execution_count": 40,
   "metadata": {},
   "outputs": [
    {
     "data": {
      "image/png": "[encoded data removed]",
      "text/plain": [
       "<Figure size 600x400 with 1 Axes>"
      ]
     },
     "metadata": {},
     "output_type": "display_data"
    }
   ],
   "source": [
    "galton.hist('errors', group='gender')"
   ]
  },
  {
   "cell_type": "code",
   "execution_count": 39,
   "metadata": {},
   "outputs": [
    {
     "data": {
      "image/png": "[encoded data removed]",
      "text/plain": [
       "<Figure size 600x400 with 1 Axes>"
      ]
     },
     "metadata": {},
     "output_type": "display_data"
    }
   ],
   "source": [
    "# Plot the distributions of errors for male and female children\n",
    "galton.hist('smartErrors', group='gender')"
   ]
  },
  {
   "cell_type": "markdown",
   "metadata": {},
   "source": [
    "## Grouping by One Column"
   ]
  },
  {
   "cell_type": "markdown",
   "metadata": {},
   "source": [
    "Data scientists often need to classify individuals into groups according to shared features, and then identify some characteristics of the groups. This is easy in Python using the table method `group`."
   ]
  },
  {
   "cell_type": "markdown",
   "metadata": {},
   "source": [
    "We've seen the `group` method before in this class, when creating bar charts to visualize distributions of categorical variables:"
   ]
  },
  {
   "cell_type": "code",
   "execution_count": 41,
   "metadata": {},
   "outputs": [
    {
     "data": {
      "text/html": [
       "<table border=\"1\" class=\"dataframe\">\n",
       "    <thead>\n",
       "        <tr>\n",
       "            <th>Title</th> <th>Studio</th> <th>Gross</th> <th>Gross (Adjusted)</th> <th>Year</th> <th>Age</th>\n",
       "        </tr>\n",
       "    </thead>\n",
       "    <tbody>\n",
       "        <tr>\n",
       "            <td>Gone with the Wind              </td> <td>MGM            </td> <td>198676459</td> <td>1796176700      </td> <td>1939</td> <td>84  </td>\n",
       "        </tr>\n",
       "        <tr>\n",
       "            <td>Star Wars                       </td> <td>Fox            </td> <td>460998007</td> <td>1583483200      </td> <td>1977</td> <td>46  </td>\n",
       "        </tr>\n",
       "        <tr>\n",
       "            <td>The Sound of Music              </td> <td>Fox            </td> <td>158671368</td> <td>1266072700      </td> <td>1965</td> <td>58  </td>\n",
       "        </tr>\n",
       "        <tr>\n",
       "            <td>E.T.: The Extra-Terrestrial     </td> <td>Universal      </td> <td>435110554</td> <td>1261085000      </td> <td>1982</td> <td>41  </td>\n",
       "        </tr>\n",
       "        <tr>\n",
       "            <td>Titanic                         </td> <td>Paramount      </td> <td>658672302</td> <td>1204368000      </td> <td>1997</td> <td>26  </td>\n",
       "        </tr>\n",
       "        <tr>\n",
       "            <td>The Ten Commandments            </td> <td>Paramount      </td> <td>65500000 </td> <td>1164590000      </td> <td>1956</td> <td>67  </td>\n",
       "        </tr>\n",
       "        <tr>\n",
       "            <td>Jaws                            </td> <td>Universal      </td> <td>260000000</td> <td>1138620700      </td> <td>1975</td> <td>48  </td>\n",
       "        </tr>\n",
       "        <tr>\n",
       "            <td>Doctor Zhivago                  </td> <td>MGM            </td> <td>111721910</td> <td>1103564200      </td> <td>1965</td> <td>58  </td>\n",
       "        </tr>\n",
       "        <tr>\n",
       "            <td>The Exorcist                    </td> <td>Warner Brothers</td> <td>232906145</td> <td>983226600       </td> <td>1973</td> <td>50  </td>\n",
       "        </tr>\n",
       "        <tr>\n",
       "            <td>Snow White and the Seven Dwarves</td> <td>Disney         </td> <td>184925486</td> <td>969010000       </td> <td>1937</td> <td>86  </td>\n",
       "        </tr>\n",
       "    </tbody>\n",
       "</table>\n",
       "<p>... (190 rows omitted)</p>"
      ],
      "text/plain": [
       "Title                            | Studio          | Gross     | Gross (Adjusted) | Year | Age\n",
       "Gone with the Wind               | MGM             | 198676459 | 1796176700       | 1939 | 84\n",
       "Star Wars                        | Fox             | 460998007 | 1583483200       | 1977 | 46\n",
       "The Sound of Music               | Fox             | 158671368 | 1266072700       | 1965 | 58\n",
       "E.T.: The Extra-Terrestrial      | Universal       | 435110554 | 1261085000       | 1982 | 41\n",
       "Titanic                          | Paramount       | 658672302 | 1204368000       | 1997 | 26\n",
       "The Ten Commandments             | Paramount       | 65500000  | 1164590000       | 1956 | 67\n",
       "Jaws                             | Universal       | 260000000 | 1138620700       | 1975 | 48\n",
       "Doctor Zhivago                   | MGM             | 111721910 | 1103564200       | 1965 | 58\n",
       "The Exorcist                     | Warner Brothers | 232906145 | 983226600        | 1973 | 50\n",
       "Snow White and the Seven Dwarves | Disney          | 184925486 | 969010000        | 1937 | 86\n",
       "... (190 rows omitted)"
      ]
     },
     "execution_count": 41,
     "metadata": {},
     "output_type": "execute_result"
    }
   ],
   "source": [
    "# Load the table of highest-grossing movies\n",
    "top_movies = Table.read_table('data/top_movies_2017.csv')\n",
    "\n",
    "# Add a column of ages to the table\n",
    "ages = 2023 - top_movies.column('Year')\n",
    "top_movies = top_movies.with_column('Age', ages)\n",
    "top_movies"
   ]
  },
  {
   "cell_type": "code",
   "execution_count": 42,
   "metadata": {},
   "outputs": [
    {
     "data": {
      "text/html": [
       "<table border=\"1\" class=\"dataframe\">\n",
       "    <thead>\n",
       "        <tr>\n",
       "            <th>Studio</th> <th>count</th>\n",
       "        </tr>\n",
       "    </thead>\n",
       "    <tbody>\n",
       "        <tr>\n",
       "            <td>AVCO       </td> <td>1    </td>\n",
       "        </tr>\n",
       "        <tr>\n",
       "            <td>Buena Vista</td> <td>35   </td>\n",
       "        </tr>\n",
       "        <tr>\n",
       "            <td>Columbia   </td> <td>9    </td>\n",
       "        </tr>\n",
       "        <tr>\n",
       "            <td>Disney     </td> <td>11   </td>\n",
       "        </tr>\n",
       "        <tr>\n",
       "            <td>Dreamworks </td> <td>3    </td>\n",
       "        </tr>\n",
       "        <tr>\n",
       "            <td>Fox        </td> <td>24   </td>\n",
       "        </tr>\n",
       "        <tr>\n",
       "            <td>IFC        </td> <td>1    </td>\n",
       "        </tr>\n",
       "        <tr>\n",
       "            <td>Lionsgate  </td> <td>3    </td>\n",
       "        </tr>\n",
       "        <tr>\n",
       "            <td>MGM        </td> <td>7    </td>\n",
       "        </tr>\n",
       "        <tr>\n",
       "            <td>Metro      </td> <td>1    </td>\n",
       "        </tr>\n",
       "    </tbody>\n",
       "</table>\n",
       "<p>... (13 rows omitted)</p>"
      ],
      "text/plain": [
       "Studio      | count\n",
       "AVCO        | 1\n",
       "Buena Vista | 35\n",
       "Columbia    | 9\n",
       "Disney      | 11\n",
       "Dreamworks  | 3\n",
       "Fox         | 24\n",
       "IFC         | 1\n",
       "Lionsgate   | 3\n",
       "MGM         | 7\n",
       "Metro       | 1\n",
       "... (13 rows omitted)"
      ]
     },
     "execution_count": 42,
     "metadata": {},
     "output_type": "execute_result"
    }
   ],
   "source": [
    "# Use the group method to count how many rows in the table have each value of Studio\n",
    "studio_distribution = top_movies.group('Studio')\n",
    "studio_distribution"
   ]
  },
  {
   "cell_type": "markdown",
   "metadata": {},
   "source": [
    "When we call `group` with one argument (the name of a column in the table, e.g., \"Studio\"), `group` will count how many rows have this value. What if we don't want to count the values? We can supply a function as a second argument to `group`:"
   ]
  },
  {
   "cell_type": "code",
   "execution_count": 43,
   "metadata": {},
   "outputs": [
    {
     "data": {
      "text/html": [
       "<table border=\"1\" class=\"dataframe\">\n",
       "    <thead>\n",
       "        <tr>\n",
       "            <th>Studio</th> <th>Title average</th> <th>Gross average</th> <th>Gross (Adjusted) average</th> <th>Year average</th> <th>Age average</th>\n",
       "        </tr>\n",
       "    </thead>\n",
       "    <tbody>\n",
       "        <tr>\n",
       "            <td>AVCO       </td> <td>             </td> <td>1.04945e+08  </td> <td>7.60778e+08             </td> <td>1967        </td> <td>56         </td>\n",
       "        </tr>\n",
       "        <tr>\n",
       "            <td>Buena Vista</td> <td>             </td> <td>3.53439e+08  </td> <td>4.56746e+08             </td> <td>2005.83     </td> <td>17.1714    </td>\n",
       "        </tr>\n",
       "        <tr>\n",
       "            <td>Columbia   </td> <td>             </td> <td>9.56028e+07  </td> <td>4.58468e+08             </td> <td>1970        </td> <td>53         </td>\n",
       "        </tr>\n",
       "        <tr>\n",
       "            <td>Disney     </td> <td>             </td> <td>1.00063e+08  </td> <td>6.46036e+08             </td> <td>1953.36     </td> <td>69.6364    </td>\n",
       "        </tr>\n",
       "        <tr>\n",
       "            <td>Dreamworks </td> <td>             </td> <td>3.08477e+08  </td> <td>4.86249e+08             </td> <td>2001        </td> <td>22         </td>\n",
       "        </tr>\n",
       "        <tr>\n",
       "            <td>Fox        </td> <td>             </td> <td>2.32055e+08  </td> <td>6.2268e+08              </td> <td>1983.62     </td> <td>39.375     </td>\n",
       "        </tr>\n",
       "        <tr>\n",
       "            <td>IFC        </td> <td>             </td> <td>2.41438e+08  </td> <td>3.68219e+08             </td> <td>2002        </td> <td>21         </td>\n",
       "        </tr>\n",
       "        <tr>\n",
       "            <td>Lionsgate  </td> <td>             </td> <td>3.89938e+08  </td> <td>4.22882e+08             </td> <td>2013        </td> <td>10         </td>\n",
       "        </tr>\n",
       "        <tr>\n",
       "            <td>MGM        </td> <td>             </td> <td>1.00595e+08  </td> <td>7.88231e+08             </td> <td>1963.29     </td> <td>59.7143    </td>\n",
       "        </tr>\n",
       "        <tr>\n",
       "            <td>Metro      </td> <td>             </td> <td>9.18367e+06  </td> <td>4.08214e+08             </td> <td>1921        </td> <td>102        </td>\n",
       "        </tr>\n",
       "    </tbody>\n",
       "</table>\n",
       "<p>... (13 rows omitted)</p>"
      ],
      "text/plain": [
       "Studio      | Title average | Gross average | Gross (Adjusted) average | Year average | Age average\n",
       "AVCO        |               | 1.04945e+08   | 7.60778e+08              | 1967         | 56\n",
       "Buena Vista |               | 3.53439e+08   | 4.56746e+08              | 2005.83      | 17.1714\n",
       "Columbia    |               | 9.56028e+07   | 4.58468e+08              | 1970         | 53\n",
       "Disney      |               | 1.00063e+08   | 6.46036e+08              | 1953.36      | 69.6364\n",
       "Dreamworks  |               | 3.08477e+08   | 4.86249e+08              | 2001         | 22\n",
       "Fox         |               | 2.32055e+08   | 6.2268e+08               | 1983.62      | 39.375\n",
       "IFC         |               | 2.41438e+08   | 3.68219e+08              | 2002         | 21\n",
       "Lionsgate   |               | 3.89938e+08   | 4.22882e+08              | 2013         | 10\n",
       "MGM         |               | 1.00595e+08   | 7.88231e+08              | 1963.29      | 59.7143\n",
       "Metro       |               | 9.18367e+06   | 4.08214e+08              | 1921         | 102\n",
       "... (13 rows omitted)"
      ]
     },
     "execution_count": 43,
     "metadata": {},
     "output_type": "execute_result"
    }
   ],
   "source": [
    "# Use group to calculate the average of the other columns for each studio\n",
    "top_movies.group('Studio', np.average)"
   ]
  },
  {
   "cell_type": "code",
   "execution_count": 44,
   "metadata": {},
   "outputs": [
    {
     "data": {
      "text/html": [
       "<table border=\"1\" class=\"dataframe\">\n",
       "    <thead>\n",
       "        <tr>\n",
       "            <th>Studio</th> <th>Title min</th> <th>Gross min</th> <th>Gross (Adjusted) min</th> <th>Year min</th> <th>Age min</th>\n",
       "        </tr>\n",
       "    </thead>\n",
       "    <tbody>\n",
       "        <tr>\n",
       "            <td>AVCO       </td> <td>The Graduate                       </td> <td>104945305</td> <td>760778000           </td> <td>1967    </td> <td>56     </td>\n",
       "        </tr>\n",
       "        <tr>\n",
       "            <td>Buena Vista</td> <td>Aladdin                            </td> <td>156452370</td> <td>338409100           </td> <td>1987    </td> <td>6      </td>\n",
       "        </tr>\n",
       "        <tr>\n",
       "            <td>Columbia   </td> <td>Close Encounters of the Third Kind </td> <td>21750000 </td> <td>355950700           </td> <td>1954    </td> <td>39     </td>\n",
       "        </tr>\n",
       "        <tr>\n",
       "            <td>Disney     </td> <td>101 Dalmatians                     </td> <td>40356000 </td> <td>405593100           </td> <td>1937    </td> <td>56     </td>\n",
       "        </tr>\n",
       "        <tr>\n",
       "            <td>Dreamworks </td> <td>Saving Private Ryan                </td> <td>216540909</td> <td>406691500           </td> <td>1998    </td> <td>19     </td>\n",
       "        </tr>\n",
       "        <tr>\n",
       "            <td>Fox        </td> <td>9 to 5                             </td> <td>36000000 </td> <td>341357800           </td> <td>1953    </td> <td>7      </td>\n",
       "        </tr>\n",
       "        <tr>\n",
       "            <td>IFC        </td> <td>My Big Fat Greek Wedding           </td> <td>241438208</td> <td>368219200           </td> <td>2002    </td> <td>21     </td>\n",
       "        </tr>\n",
       "        <tr>\n",
       "            <td>Lionsgate  </td> <td>The Hunger Games                   </td> <td>337135885</td> <td>362062100           </td> <td>2012    </td> <td>9      </td>\n",
       "        </tr>\n",
       "        <tr>\n",
       "            <td>MGM        </td> <td>2001: A Space Odyssey              </td> <td>43656822 </td> <td>384863200           </td> <td>1939    </td> <td>35     </td>\n",
       "        </tr>\n",
       "        <tr>\n",
       "            <td>Metro      </td> <td>The Four Horsemen of the Apocalypse</td> <td>9183673  </td> <td>408214300           </td> <td>1921    </td> <td>102    </td>\n",
       "        </tr>\n",
       "    </tbody>\n",
       "</table>\n",
       "<p>... (13 rows omitted)</p>"
      ],
      "text/plain": [
       "Studio      | Title min                           | Gross min | Gross (Adjusted) min | Year min | Age min\n",
       "AVCO        | The Graduate                        | 104945305 | 760778000            | 1967     | 56\n",
       "Buena Vista | Aladdin                             | 156452370 | 338409100            | 1987     | 6\n",
       "Columbia    | Close Encounters of the Third Kind  | 21750000  | 355950700            | 1954     | 39\n",
       "Disney      | 101 Dalmatians                      | 40356000  | 405593100            | 1937     | 56\n",
       "Dreamworks  | Saving Private Ryan                 | 216540909 | 406691500            | 1998     | 19\n",
       "Fox         | 9 to 5                              | 36000000  | 341357800            | 1953     | 7\n",
       "IFC         | My Big Fat Greek Wedding            | 241438208 | 368219200            | 2002     | 21\n",
       "Lionsgate   | The Hunger Games                    | 337135885 | 362062100            | 2012     | 9\n",
       "MGM         | 2001: A Space Odyssey               | 43656822  | 384863200            | 1939     | 35\n",
       "Metro       | The Four Horsemen of the Apocalypse | 9183673   | 408214300            | 1921     | 102\n",
       "... (13 rows omitted)"
      ]
     },
     "execution_count": 44,
     "metadata": {},
     "output_type": "execute_result"
    }
   ],
   "source": [
    "# Use group to calculate the min values of the other columns for each studio\n",
    "top_movies.group('Studio', min)"
   ]
  },
  {
   "cell_type": "code",
   "execution_count": 45,
   "metadata": {},
   "outputs": [
    {
     "data": {
      "text/html": [
       "<table border=\"1\" class=\"dataframe\">\n",
       "    <thead>\n",
       "        <tr>\n",
       "            <th>Age</th> <th>Title max</th> <th>Studio max</th> <th>Gross max</th> <th>Gross (Adjusted) max</th> <th>Year max</th>\n",
       "        </tr>\n",
       "    </thead>\n",
       "    <tbody>\n",
       "        <tr>\n",
       "            <td>6   </td> <td>Wonder Woman                         </td> <td>Warner Brothers</td> <td>504014165</td> <td>504014165           </td> <td>2017    </td>\n",
       "        </tr>\n",
       "        <tr>\n",
       "            <td>7   </td> <td>Zootopia                             </td> <td>Warner Brothers</td> <td>532177324</td> <td>537326000           </td> <td>2016    </td>\n",
       "        </tr>\n",
       "        <tr>\n",
       "            <td>8   </td> <td>Star Wars: The Force Awakens         </td> <td>Universal      </td> <td>936662225</td> <td>961143200           </td> <td>2015    </td>\n",
       "        </tr>\n",
       "        <tr>\n",
       "            <td>9   </td> <td>The Hunger Games: Mockingjay - Part 1</td> <td>Warner Brothers</td> <td>350126372</td> <td>382981200           </td> <td>2014    </td>\n",
       "        </tr>\n",
       "        <tr>\n",
       "            <td>10  </td> <td>The Hunger Games: Catching Fire      </td> <td>Universal      </td> <td>424668047</td> <td>454409200           </td> <td>2013    </td>\n",
       "        </tr>\n",
       "        <tr>\n",
       "            <td>11  </td> <td>The Hunger Games                     </td> <td>Warner Brothers</td> <td>623357910</td> <td>683474000           </td> <td>2012    </td>\n",
       "        </tr>\n",
       "        <tr>\n",
       "            <td>12  </td> <td>Transformers: Dark of the Moon       </td> <td>Warner Brothers</td> <td>381011219</td> <td>426630300           </td> <td>2011    </td>\n",
       "        </tr>\n",
       "        <tr>\n",
       "            <td>13  </td> <td>Toy Story 3                          </td> <td>Paramount      </td> <td>415004880</td> <td>464074600           </td> <td>2010    </td>\n",
       "        </tr>\n",
       "        <tr>\n",
       "            <td>14  </td> <td>Up                                   </td> <td>Warner Brothers</td> <td>760507625</td> <td>865082100           </td> <td>2009    </td>\n",
       "        </tr>\n",
       "        <tr>\n",
       "            <td>15  </td> <td>The Dark Knight                      </td> <td>Warner Brothers</td> <td>534858444</td> <td>661980500           </td> <td>2008    </td>\n",
       "        </tr>\n",
       "    </tbody>\n",
       "</table>\n",
       "<p>... (62 rows omitted)</p>"
      ],
      "text/plain": [
       "Age  | Title max                             | Studio max      | Gross max | Gross (Adjusted) max | Year max\n",
       "6    | Wonder Woman                          | Warner Brothers | 504014165 | 504014165            | 2017\n",
       "7    | Zootopia                              | Warner Brothers | 532177324 | 537326000            | 2016\n",
       "8    | Star Wars: The Force Awakens          | Universal       | 936662225 | 961143200            | 2015\n",
       "9    | The Hunger Games: Mockingjay - Part 1 | Warner Brothers | 350126372 | 382981200            | 2014\n",
       "10   | The Hunger Games: Catching Fire       | Universal       | 424668047 | 454409200            | 2013\n",
       "11   | The Hunger Games                      | Warner Brothers | 623357910 | 683474000            | 2012\n",
       "12   | Transformers: Dark of the Moon        | Warner Brothers | 381011219 | 426630300            | 2011\n",
       "13   | Toy Story 3                           | Paramount       | 415004880 | 464074600            | 2010\n",
       "14   | Up                                    | Warner Brothers | 760507625 | 865082100            | 2009\n",
       "15   | The Dark Knight                       | Warner Brothers | 534858444 | 661980500            | 2008\n",
       "... (62 rows omitted)"
      ]
     },
     "execution_count": 45,
     "metadata": {},
     "output_type": "execute_result"
    }
   ],
   "source": [
    "top_movies.group('Age', max)"
   ]
  },
  {
   "cell_type": "code",
   "execution_count": 46,
   "metadata": {},
   "outputs": [
    {
     "data": {
      "text/html": [
       "<table border=\"1\" class=\"dataframe\">\n",
       "    <thead>\n",
       "        <tr>\n",
       "            <th>Age</th> <th>Title list</th> <th>Studio list</th> <th>Gross list</th> <th>Gross (Adjusted) list</th> <th>Year list</th>\n",
       "        </tr>\n",
       "    </thead>\n",
       "    <tbody>\n",
       "        <tr>\n",
       "            <td>6   </td> <td>['Beauty and the Beast (2017)', 'Wonder Woman', 'Guardia ...</td> <td>['Buena Vista', 'Warner Brothers', 'Buena Vista']           </td> <td>[504014165, 406381596, 389397196]                           </td> <td>[504014165, 406381596, 389397196]                           </td> <td>[2017, 2017, 2017]                                    </td>\n",
       "        </tr>\n",
       "        <tr>\n",
       "            <td>7   </td> <td>['Rogue One: A Star Wars Story', 'Finding Dory', 'Captai ...</td> <td>['Buena Vista', 'Buena Vista', 'Buena Vista', 'Universal ...</td> <td>[532177324, 486295561, 408084349, 368384330, 363070709,  ...</td> <td>[537326000, 499245400, 415654000, 384704200, 375984600,  ...</td> <td>[2016, 2016, 2016, 2016, 2016, 2016, 2016, 2016, 2016]</td>\n",
       "        </tr>\n",
       "        <tr>\n",
       "            <td>8   </td> <td>['Star Wars: The Force Awakens', 'Jurassic World', 'Aven ...</td> <td>['Buena Vista', 'Universal', 'Buena Vista', 'Buena Vista ...</td> <td>[936662225, 652270625, 459005868, 356461711, 353007020,  ...</td> <td>[961143200, 702747400, 475854300, 383928800, 364701500,  ...</td> <td>[2015, 2015, 2015, 2015, 2015, 2015]                  </td>\n",
       "        </tr>\n",
       "        <tr>\n",
       "            <td>9   </td> <td>['American Sniper', 'GUnited Artistsrdians of the Galaxy ...</td> <td>['Warner Brothers', 'Buena Vista', 'Lionsgate']             </td> <td>[350126372, 333176600, 337135885]                           </td> <td>[382981200, 366068600, 362062100]                           </td> <td>[2014, 2014, 2014]                                    </td>\n",
       "        </tr>\n",
       "        <tr>\n",
       "            <td>10  </td> <td>['The Hunger Games: Catching Fire', 'Frozen', 'Iron Man  ...</td> <td>['Lionsgate', 'Buena Vista', 'Buena Vista', 'Universal']    </td> <td>[424668047, 400738009, 409013994, 368061265]                </td> <td>[454409200, 435974700, 433906300, 416888500]                </td> <td>[2013, 2013, 2013, 2013]                              </td>\n",
       "        </tr>\n",
       "        <tr>\n",
       "            <td>11  </td> <td>[\"Marvel's The Avengers\", 'The Dark Knight Rises', 'The  ...</td> <td>['Buena Vista', 'Warner Brothers', 'Lionsgate']             </td> <td>[623357910, 448139099, 408010692]                           </td> <td>[683474000, 511902300, 452174400]                           </td> <td>[2012, 2012, 2012]                                    </td>\n",
       "        </tr>\n",
       "        <tr>\n",
       "            <td>12  </td> <td>['Harry Potter and the Deathly Hallows Part 2', 'Transfo ...</td> <td>['Warner Brothers', 'Paramount/Dreamworks']                 </td> <td>[381011219, 352390543]                                      </td> <td>[426630300, 393479300]                                      </td> <td>[2011, 2011]                                          </td>\n",
       "        </tr>\n",
       "        <tr>\n",
       "            <td>13  </td> <td>['Toy Story 3', 'Alice in Wonderland (2010)', 'Iron Man 2'] </td> <td>['Buena Vista', 'Buena Vista', 'Paramount']                 </td> <td>[415004880, 334191110, 312433331]                           </td> <td>[464074600, 373705500, 349375100]                           </td> <td>[2010, 2010, 2010]                                    </td>\n",
       "        </tr>\n",
       "        <tr>\n",
       "            <td>14  </td> <td>['Avatar', 'Transformers: Revenge of the Fallen', 'Harry ...</td> <td>['Fox', 'Paramount/Dreamworks', 'Warner Brothers', 'Buen ...</td> <td>[760507625, 402111870, 301959197, 293004164, 296623634]     </td> <td>[865082100, 479179200, 359788300, 349143900, 345910600]     </td> <td>[2009, 2009, 2009, 2009, 2009]                        </td>\n",
       "        </tr>\n",
       "        <tr>\n",
       "            <td>15  </td> <td>['The Dark Knight', 'Iron Man', 'Indiana Jones and the K ...</td> <td>['Warner Brothers', 'Paramount', 'Paramount']               </td> <td>[534858444, 318412101, 317101119]                           </td> <td>[661980500, 394234700, 392622400]                           </td> <td>[2008, 2008, 2008]                                    </td>\n",
       "        </tr>\n",
       "    </tbody>\n",
       "</table>\n",
       "<p>... (62 rows omitted)</p>"
      ],
      "text/plain": [
       "Age  | Title list                                                   | Studio list                                                  | Gross list                                                   | Gross (Adjusted) list                                        | Year list\n",
       "6    | ['Beauty and the Beast (2017)', 'Wonder Woman', 'Guardia ... | ['Buena Vista', 'Warner Brothers', 'Buena Vista']            | [504014165, 406381596, 389397196]                            | [504014165, 406381596, 389397196]                            | [2017, 2017, 2017]\n",
       "7    | ['Rogue One: A Star Wars Story', 'Finding Dory', 'Captai ... | ['Buena Vista', 'Buena Vista', 'Buena Vista', 'Universal ... | [532177324, 486295561, 408084349, 368384330, 363070709,  ... | [537326000, 499245400, 415654000, 384704200, 375984600,  ... | [2016, 2016, 2016, 2016, 2016, 2016, 2016, 2016, 2016]\n",
       "8    | ['Star Wars: The Force Awakens', 'Jurassic World', 'Aven ... | ['Buena Vista', 'Universal', 'Buena Vista', 'Buena Vista ... | [936662225, 652270625, 459005868, 356461711, 353007020,  ... | [961143200, 702747400, 475854300, 383928800, 364701500,  ... | [2015, 2015, 2015, 2015, 2015, 2015]\n",
       "9    | ['American Sniper', 'GUnited Artistsrdians of the Galaxy ... | ['Warner Brothers', 'Buena Vista', 'Lionsgate']              | [350126372, 333176600, 337135885]                            | [382981200, 366068600, 362062100]                            | [2014, 2014, 2014]\n",
       "10   | ['The Hunger Games: Catching Fire', 'Frozen', 'Iron Man  ... | ['Lionsgate', 'Buena Vista', 'Buena Vista', 'Universal']     | [424668047, 400738009, 409013994, 368061265]                 | [454409200, 435974700, 433906300, 416888500]                 | [2013, 2013, 2013, 2013]\n",
       "11   | [\"Marvel's The Avengers\", 'The Dark Knight Rises', 'The  ... | ['Buena Vista', 'Warner Brothers', 'Lionsgate']              | [623357910, 448139099, 408010692]                            | [683474000, 511902300, 452174400]                            | [2012, 2012, 2012]\n",
       "12   | ['Harry Potter and the Deathly Hallows Part 2', 'Transfo ... | ['Warner Brothers', 'Paramount/Dreamworks']                  | [381011219, 352390543]                                       | [426630300, 393479300]                                       | [2011, 2011]\n",
       "13   | ['Toy Story 3', 'Alice in Wonderland (2010)', 'Iron Man 2']  | ['Buena Vista', 'Buena Vista', 'Paramount']                  | [415004880, 334191110, 312433331]                            | [464074600, 373705500, 349375100]                            | [2010, 2010, 2010]\n",
       "14   | ['Avatar', 'Transformers: Revenge of the Fallen', 'Harry ... | ['Fox', 'Paramount/Dreamworks', 'Warner Brothers', 'Buen ... | [760507625, 402111870, 301959197, 293004164, 296623634]      | [865082100, 479179200, 359788300, 349143900, 345910600]      | [2009, 2009, 2009, 2009, 2009]\n",
       "15   | ['The Dark Knight', 'Iron Man', 'Indiana Jones and the K ... | ['Warner Brothers', 'Paramount', 'Paramount']                | [534858444, 318412101, 317101119]                            | [661980500, 394234700, 392622400]                            | [2008, 2008, 2008]\n",
       "... (62 rows omitted)"
      ]
     },
     "execution_count": 46,
     "metadata": {},
     "output_type": "execute_result"
    }
   ],
   "source": [
    "top_movies.group('Age', list)"
   ]
  },
  {
   "cell_type": "markdown",
   "metadata": {},
   "source": [
    "## Data Cleaning: Class Data Survey"
   ]
  },
  {
   "cell_type": "markdown",
   "metadata": {},
   "source": [
    "Thanks to everyone who filled out the class data survey! Let's take a look at the data."
   ]
  },
  {
   "cell_type": "code",
   "execution_count": 47,
   "metadata": {},
   "outputs": [
    {
     "data": {
      "text/html": [
       "<table border=\"1\" class=\"dataframe\">\n",
       "    <thead>\n",
       "        <tr>\n",
       "            <th>Area Code</th> <th>Major</th> <th>Height</th> <th>Eating Out</th> <th>Handedness</th> <th>Siblings</th> <th>Birth Order</th> <th>Exercise</th> <th>Pets</th> <th>Hours of Media</th> <th>Random</th> <th>Award</th> <th>Tattoo</th> <th>Sleep</th> <th>Color</th> <th>Coffee or Bagel</th> <th>Tie Dyed</th> <th>Commute Time</th> <th>Commute Mode</th> <th>WPM</th> <th>Insta Follows</th> <th>Social Media Accounts</th> <th>Platform</th> <th>Hours of Chores</th> <th>Cursive</th>\n",
       "        </tr>\n",
       "    </thead>\n",
       "    <tbody>\n",
       "        <tr>\n",
       "            <td>661      </td> <td>Physics                             </td> <td>66    </td> <td>0         </td> <td>Right-handed               </td> <td>0       </td> <td>1          </td> <td>10      </td> <td>1   </td> <td>20            </td> <td>2790  </td> <td>Nobel Prize  </td> <td>No    </td> <td>5    </td> <td>blue      </td> <td>Bagel          </td> <td>No      </td> <td>15          </td> <td>bus         </td> <td>80  </td> <td>125          </td> <td>7                    </td> <td>twitter </td> <td>3              </td> <td>No     </td>\n",
       "        </tr>\n",
       "        <tr>\n",
       "            <td>760      </td> <td>Economics                           </td> <td>71    </td> <td>1         </td> <td>Right-handed               </td> <td>3       </td> <td>4          </td> <td>5       </td> <td>1   </td> <td>4             </td> <td>8472  </td> <td>Olympic Medal</td> <td>No    </td> <td>8    </td> <td>blue      </td> <td>Bagel          </td> <td>No      </td> <td>10          </td> <td>bike        </td> <td>60  </td> <td>1323         </td> <td>3                    </td> <td>Twitter </td> <td>1              </td> <td>Yes    </td>\n",
       "        </tr>\n",
       "        <tr>\n",
       "            <td>951      </td> <td>pre psychological and brain sciences</td> <td>69    </td> <td>1         </td> <td>Right-handed               </td> <td>3       </td> <td>2          </td> <td>12      </td> <td>5   </td> <td>5             </td> <td>1953  </td> <td>Academy Award</td> <td>No    </td> <td>7    </td> <td>sky blue  </td> <td>Bagel          </td> <td>No      </td> <td>30          </td> <td>bus         </td> <td>28  </td> <td>nan          </td> <td>1                    </td> <td>Twitter </td> <td>3              </td> <td>Yes    </td>\n",
       "        </tr>\n",
       "        <tr>\n",
       "            <td>805      </td> <td>economics                           </td> <td>65    </td> <td>6         </td> <td>Right-handed               </td> <td>0       </td> <td>1          </td> <td>2       </td> <td>1   </td> <td>10            </td> <td>1115  </td> <td>Nobel Prize  </td> <td>No    </td> <td>8    </td> <td>light pink</td> <td>Coffee         </td> <td>No      </td> <td>30          </td> <td>bus         </td> <td>70  </td> <td>26           </td> <td>10                   </td> <td>wechat  </td> <td>2              </td> <td>No     </td>\n",
       "        </tr>\n",
       "        <tr>\n",
       "            <td>805      </td> <td>Communications                      </td> <td>66    </td> <td>5         </td> <td>Right-handed               </td> <td>0       </td> <td>1          </td> <td>2       </td> <td>2   </td> <td>4             </td> <td>1234  </td> <td>Academy Award</td> <td>No    </td> <td>10   </td> <td>Pink      </td> <td>Bagel          </td> <td>No      </td> <td>15          </td> <td>bike        </td> <td>50  </td> <td>400          </td> <td>7                    </td> <td>WeChat  </td> <td>3              </td> <td>No     </td>\n",
       "        </tr>\n",
       "        <tr>\n",
       "            <td>202      </td> <td>linguistics; environmental studies  </td> <td>67    </td> <td>1         </td> <td>Both left- and right-handed</td> <td>1       </td> <td>1          </td> <td>2       </td> <td>0   </td> <td>2             </td> <td>5037  </td> <td>Nobel Prize  </td> <td>No    </td> <td>8    </td> <td>blue      </td> <td>Bagel          </td> <td>No      </td> <td>15          </td> <td>bus         </td> <td>65  </td> <td>124          </td> <td>5                    </td> <td>nan     </td> <td>nan            </td> <td>No     </td>\n",
       "        </tr>\n",
       "        <tr>\n",
       "            <td>818      </td> <td>sociology                           </td> <td>62    </td> <td>3         </td> <td>Right-handed               </td> <td>0       </td> <td>1          </td> <td>11      </td> <td>0   </td> <td>3             </td> <td>3804  </td> <td>Olympic Medal</td> <td>No    </td> <td>10   </td> <td>purple    </td> <td>Bagel          </td> <td>Yes     </td> <td>15          </td> <td>bike        </td> <td>100 </td> <td>595          </td> <td>8                    </td> <td>twitter </td> <td>3              </td> <td>Yes    </td>\n",
       "        </tr>\n",
       "        <tr>\n",
       "            <td>408      </td> <td>English                             </td> <td>64    </td> <td>1         </td> <td>Right-handed               </td> <td>2       </td> <td>3          </td> <td>7       </td> <td>1   </td> <td>4             </td> <td>5647  </td> <td>Nobel Prize  </td> <td>No    </td> <td>7    </td> <td>Green     </td> <td>Coffee         </td> <td>Yes     </td> <td>10          </td> <td>bike        </td> <td>nan </td> <td>nan          </td> <td>5                    </td> <td>nan     </td> <td>nan            </td> <td>Yes    </td>\n",
       "        </tr>\n",
       "        <tr>\n",
       "            <td>408      </td> <td>Psychology                          </td> <td>70    </td> <td>4         </td> <td>Right-handed               </td> <td>1       </td> <td>1          </td> <td>5       </td> <td>1   </td> <td>20            </td> <td>4821  </td> <td>Nobel Prize  </td> <td>No    </td> <td>8    </td> <td>Black     </td> <td>Bagel          </td> <td>No      </td> <td>14          </td> <td>bus         </td> <td>135 </td> <td>650          </td> <td>4                    </td> <td>TikTok  </td> <td>0              </td> <td>Yes    </td>\n",
       "        </tr>\n",
       "        <tr>\n",
       "            <td>805      </td> <td>communication                       </td> <td>63    </td> <td>5         </td> <td>Right-handed               </td> <td>1       </td> <td>2          </td> <td>2       </td> <td>0   </td> <td>5             </td> <td>3419  </td> <td>Nobel Prize  </td> <td>No    </td> <td>7    </td> <td>purple    </td> <td>Coffee         </td> <td>No      </td> <td>15          </td> <td>bus         </td> <td>100 </td> <td>200          </td> <td>5                    </td> <td>ins     </td> <td>1              </td> <td>Yes    </td>\n",
       "        </tr>\n",
       "    </tbody>\n",
       "</table>\n",
       "<p>... (72 rows omitted)</p>"
      ],
      "text/plain": [
       "Area Code | Major                                | Height | Eating Out | Handedness                  | Siblings | Birth Order | Exercise | Pets | Hours of Media | Random | Award         | Tattoo | Sleep | Color      | Coffee or Bagel | Tie Dyed | Commute Time | Commute Mode | WPM  | Insta Follows | Social Media Accounts | Platform | Hours of Chores | Cursive\n",
       "661       | Physics                              | 66     | 0          | Right-handed                | 0        | 1           | 10       | 1    | 20             | 2790   | Nobel Prize   | No     | 5     | blue       | Bagel           | No       | 15           | bus          | 80   | 125           | 7                     | twitter  | 3               | No\n",
       "760       | Economics                            | 71     | 1          | Right-handed                | 3        | 4           | 5        | 1    | 4              | 8472   | Olympic Medal | No     | 8     | blue       | Bagel           | No       | 10           | bike         | 60   | 1323          | 3                     | Twitter  | 1               | Yes\n",
       "951       | pre psychological and brain sciences | 69     | 1          | Right-handed                | 3        | 2           | 12       | 5    | 5              | 1953   | Academy Award | No     | 7     | sky blue   | Bagel           | No       | 30           | bus          | 28   | nan           | 1                     | Twitter  | 3               | Yes\n",
       "805       | economics                            | 65     | 6          | Right-handed                | 0        | 1           | 2        | 1    | 10             | 1115   | Nobel Prize   | No     | 8     | light pink | Coffee          | No       | 30           | bus          | 70   | 26            | 10                    | wechat   | 2               | No\n",
       "805       | Communications                       | 66     | 5          | Right-handed                | 0        | 1           | 2        | 2    | 4              | 1234   | Academy Award | No     | 10    | Pink       | Bagel           | No       | 15           | bike         | 50   | 400           | 7                     | WeChat   | 3               | No\n",
       "202       | linguistics; environmental studies   | 67     | 1          | Both left- and right-handed | 1        | 1           | 2        | 0    | 2              | 5037   | Nobel Prize   | No     | 8     | blue       | Bagel           | No       | 15           | bus          | 65   | 124           | 5                     | nan      | nan             | No\n",
       "818       | sociology                            | 62     | 3          | Right-handed                | 0        | 1           | 11       | 0    | 3              | 3804   | Olympic Medal | No     | 10    | purple     | Bagel           | Yes      | 15           | bike         | 100  | 595           | 8                     | twitter  | 3               | Yes\n",
       "408       | English                              | 64     | 1          | Right-handed                | 2        | 3           | 7        | 1    | 4              | 5647   | Nobel Prize   | No     | 7     | Green      | Coffee          | Yes      | 10           | bike         | nan  | nan           | 5                     | nan      | nan             | Yes\n",
       "408       | Psychology                           | 70     | 4          | Right-handed                | 1        | 1           | 5        | 1    | 20             | 4821   | Nobel Prize   | No     | 8     | Black      | Bagel           | No       | 14           | bus          | 135  | 650           | 4                     | TikTok   | 0               | Yes\n",
       "805       | communication                        | 63     | 5          | Right-handed                | 1        | 2           | 2        | 0    | 5              | 3419   | Nobel Prize   | No     | 7     | purple     | Coffee          | No       | 15           | bus          | 100  | 200           | 5                     | ins      | 1               | Yes\n",
       "... (72 rows omitted)"
      ]
     },
     "execution_count": 47,
     "metadata": {},
     "output_type": "execute_result"
    }
   ],
   "source": [
    "# Load the class data survey\n",
    "survey = Table.read_table('data/cmpsc5a-classdata-w23.csv')\n",
    "survey"
   ]
  },
  {
   "cell_type": "code",
   "execution_count": 48,
   "metadata": {},
   "outputs": [
    {
     "data": {
      "text/html": [
       "<table border=\"1\" class=\"dataframe\">\n",
       "    <thead>\n",
       "        <tr>\n",
       "            <th>Major</th> <th>count</th>\n",
       "        </tr>\n",
       "    </thead>\n",
       "    <tbody>\n",
       "        <tr>\n",
       "            <td>Astrophysics                        </td> <td>1    </td>\n",
       "        </tr>\n",
       "        <tr>\n",
       "            <td>Bio-psychology                      </td> <td>1    </td>\n",
       "        </tr>\n",
       "        <tr>\n",
       "            <td>Biology                             </td> <td>2    </td>\n",
       "        </tr>\n",
       "        <tr>\n",
       "            <td>Chem                                </td> <td>1    </td>\n",
       "        </tr>\n",
       "        <tr>\n",
       "            <td>Chemistry                           </td> <td>1    </td>\n",
       "        </tr>\n",
       "        <tr>\n",
       "            <td>Communication                       </td> <td>1    </td>\n",
       "        </tr>\n",
       "        <tr>\n",
       "            <td>Communications                      </td> <td>1    </td>\n",
       "        </tr>\n",
       "        <tr>\n",
       "            <td>Econ                                </td> <td>3    </td>\n",
       "        </tr>\n",
       "        <tr>\n",
       "            <td>Econ                                </td> <td>1    </td>\n",
       "        </tr>\n",
       "        <tr>\n",
       "            <td>Econ and Accounting                 </td> <td>1    </td>\n",
       "        </tr>\n",
       "        <tr>\n",
       "            <td>Econ/Biochem                        </td> <td>1    </td>\n",
       "        </tr>\n",
       "        <tr>\n",
       "            <td>Economics                           </td> <td>11   </td>\n",
       "        </tr>\n",
       "        <tr>\n",
       "            <td>Economics / Psychology              </td> <td>1    </td>\n",
       "        </tr>\n",
       "        <tr>\n",
       "            <td>Economics and Accounting            </td> <td>4    </td>\n",
       "        </tr>\n",
       "        <tr>\n",
       "            <td>English                             </td> <td>1    </td>\n",
       "        </tr>\n",
       "        <tr>\n",
       "            <td>Environmental Studies               </td> <td>3    </td>\n",
       "        </tr>\n",
       "        <tr>\n",
       "            <td>Global Studies                      </td> <td>1    </td>\n",
       "        </tr>\n",
       "        <tr>\n",
       "            <td>Global studies                      </td> <td>1    </td>\n",
       "        </tr>\n",
       "        <tr>\n",
       "            <td>Math                                </td> <td>2    </td>\n",
       "        </tr>\n",
       "        <tr>\n",
       "            <td>PBS                                 </td> <td>1    </td>\n",
       "        </tr>\n",
       "        <tr>\n",
       "            <td>Physics                             </td> <td>2    </td>\n",
       "        </tr>\n",
       "        <tr>\n",
       "            <td>Pre-Bio                             </td> <td>2    </td>\n",
       "        </tr>\n",
       "        <tr>\n",
       "            <td>Pre-biology                         </td> <td>1    </td>\n",
       "        </tr>\n",
       "        <tr>\n",
       "            <td>Pre-psych and Brain Sciences        </td> <td>1    </td>\n",
       "        </tr>\n",
       "        <tr>\n",
       "            <td>Pre-sociology                       </td> <td>1    </td>\n",
       "        </tr>\n",
       "        <tr>\n",
       "            <td>Psych and Brain Sciences            </td> <td>1    </td>\n",
       "        </tr>\n",
       "        <tr>\n",
       "            <td>Psychological and Brain Sciences    </td> <td>1    </td>\n",
       "        </tr>\n",
       "        <tr>\n",
       "            <td>Psychology                          </td> <td>2    </td>\n",
       "        </tr>\n",
       "        <tr>\n",
       "            <td>Sociology                           </td> <td>12   </td>\n",
       "        </tr>\n",
       "        <tr>\n",
       "            <td>Sociology                           </td> <td>3    </td>\n",
       "        </tr>\n",
       "        <tr>\n",
       "            <td>Undeclared                          </td> <td>2    </td>\n",
       "        </tr>\n",
       "        <tr>\n",
       "            <td>biopsych                            </td> <td>1    </td>\n",
       "        </tr>\n",
       "        <tr>\n",
       "            <td>communication                       </td> <td>1    </td>\n",
       "        </tr>\n",
       "        <tr>\n",
       "            <td>data science and stats              </td> <td>1    </td>\n",
       "        </tr>\n",
       "        <tr>\n",
       "            <td>economics                           </td> <td>2    </td>\n",
       "        </tr>\n",
       "        <tr>\n",
       "            <td>linguistics; environmental studies  </td> <td>1    </td>\n",
       "        </tr>\n",
       "        <tr>\n",
       "            <td>microbiology                        </td> <td>1    </td>\n",
       "        </tr>\n",
       "        <tr>\n",
       "            <td>physics                             </td> <td>1    </td>\n",
       "        </tr>\n",
       "        <tr>\n",
       "            <td>pre psychological and brain sciences</td> <td>1    </td>\n",
       "        </tr>\n",
       "        <tr>\n",
       "            <td>pre-psychology                      </td> <td>1    </td>\n",
       "        </tr>\n",
       "        <tr>\n",
       "            <td>pre-sociology                       </td> <td>1    </td>\n",
       "        </tr>\n",
       "        <tr>\n",
       "            <td>sociology                           </td> <td>1    </td>\n",
       "        </tr>\n",
       "        <tr>\n",
       "            <td>sociology                           </td> <td>1    </td>\n",
       "        </tr>\n",
       "        <tr>\n",
       "            <td>statistics                          </td> <td>1    </td>\n",
       "        </tr>\n",
       "        <tr>\n",
       "            <td>undeclared                          </td> <td>1    </td>\n",
       "        </tr>\n",
       "    </tbody>\n",
       "</table>"
      ],
      "text/plain": [
       "<IPython.core.display.HTML object>"
      ]
     },
     "metadata": {},
     "output_type": "display_data"
    }
   ],
   "source": [
    "# Use the group function to count how many respondents are in each major\n",
    "survey.group('Major').show()"
   ]
  },
  {
   "cell_type": "markdown",
   "metadata": {},
   "source": [
    "**Question:** do you see any problems with these values?"
   ]
  },
  {
   "cell_type": "code",
   "execution_count": 49,
   "metadata": {},
   "outputs": [
    {
     "data": {
      "text/plain": [
       "array(['Astrophysics', 'Bio-psychology ', 'Biology', 'Chem', 'Chemistry',\n",
       "       'Communication ', 'Communications', 'Econ', 'Econ ',\n",
       "       'Econ and Accounting', 'Econ/Biochem', 'Economics',\n",
       "       'Economics / Psychology', 'Economics and Accounting', 'English',\n",
       "       'Environmental Studies', 'Global Studies', 'Global studies', 'Math',\n",
       "       'PBS', 'Physics', 'Pre-Bio', 'Pre-biology',\n",
       "       'Pre-psych and Brain Sciences', 'Pre-sociology ',\n",
       "       'Psych and Brain Sciences', 'Psychological and Brain Sciences',\n",
       "       'Psychology', 'Sociology', 'Sociology ', 'Undeclared', 'biopsych',\n",
       "       'communication', 'data science and stats', 'economics',\n",
       "       'linguistics; environmental studies', 'microbiology', 'physics',\n",
       "       'pre psychological and brain sciences', 'pre-psychology',\n",
       "       'pre-sociology', 'sociology', 'sociology ', 'statistics',\n",
       "       'undeclared '],\n",
       "      dtype='<U36')"
      ]
     },
     "execution_count": 49,
     "metadata": {},
     "output_type": "execute_result"
    }
   ],
   "source": [
    "# Get an array of the \"unique\" values of Major\n",
    "# Why do some majors appear multiple times?\n",
    "survey.group('Major').column('Major')"
   ]
  },
  {
   "cell_type": "code",
   "execution_count": 50,
   "metadata": {},
   "outputs": [
    {
     "data": {
      "text/plain": [
       "45"
      ]
     },
     "execution_count": 50,
     "metadata": {},
     "output_type": "execute_result"
    }
   ],
   "source": [
    "len(survey.group('Major').column('Major'))"
   ]
  },
  {
   "cell_type": "markdown",
   "metadata": {},
   "source": [
    "*Data cleaning* is an important part of data science. Raw datasets will often have inconsistent values, or even missing values, which we will have to deal with before doing any analysis."
   ]
  },
  {
   "cell_type": "code",
   "execution_count": 61,
   "metadata": {},
   "outputs": [
    {
     "data": {
      "text/plain": [
       "8"
      ]
     },
     "execution_count": 61,
     "metadata": {},
     "output_type": "execute_result"
    }
   ],
   "source": [
    "x = 4\n",
    "2 * x"
   ]
  },
  {
   "cell_type": "code",
   "execution_count": 59,
   "metadata": {},
   "outputs": [
    {
     "data": {
      "text/plain": [
       "1.0"
      ]
     },
     "execution_count": 59,
     "metadata": {},
     "output_type": "execute_result"
    }
   ],
   "source": [
    "np.sin(np.pi / 2)"
   ]
  },
  {
   "cell_type": "code",
   "execution_count": 58,
   "metadata": {},
   "outputs": [
    {
     "data": {
      "text/plain": [
       "'econ'"
      ]
     },
     "execution_count": 58,
     "metadata": {},
     "output_type": "execute_result"
    }
   ],
   "source": [
    "clean_major('Econ ')"
   ]
  },
  {
   "cell_type": "code",
   "execution_count": null,
   "metadata": {},
   "outputs": [],
   "source": [
    "major = 'Econ '\n",
    "major = major.lower()"
   ]
  },
  {
   "cell_type": "code",
   "execution_count": 52,
   "metadata": {},
   "outputs": [],
   "source": [
    "def clean_major(major):\n",
    "    \"\"\"\n",
    "    Given a raw value of the Major variable, return a new string with the following changes:\n",
    "      - all characters are lower case\n",
    "      - all spaces and hyphens are removed\n",
    "      - common words are replaced with their acronyms\n",
    "    \"\"\"\n",
    "    \n",
    "    # force all characters to be lower-case\n",
    "    major = major.lower()                 \n",
    "    \n",
    "    # remove spaces and hyphens\n",
    "    major = major.replace(' ', '')\n",
    "    major = major.replace('-', '')\n",
    "    \n",
    "    # replace words with common acronyms\n",
    "    major = major.replace('biology', 'bio')\n",
    "    major = major.replace('economics', 'econ')\n",
    "    major = major.replace('psychology', 'psych')\n",
    "    major = major.replace('psychological', 'psych')\n",
    "    major = major.replace('chemistry', 'chem')\n",
    "    \n",
    "    # some miscellaneous changes\n",
    "    major = major.replace('communication', 'communications')\n",
    "    \n",
    "    return major    "
   ]
  },
  {
   "cell_type": "code",
   "execution_count": 53,
   "metadata": {},
   "outputs": [],
   "source": [
    "# Add a column \"clean_major\", where we have applied the clean_major function\n",
    "survey = survey.with_column(\n",
    "    'cleaned_major',\n",
    "    survey.apply(clean_major, 'Major'))"
   ]
  },
  {
   "cell_type": "code",
   "execution_count": 54,
   "metadata": {},
   "outputs": [
    {
     "data": {
      "text/html": [
       "<table border=\"1\" class=\"dataframe\">\n",
       "    <thead>\n",
       "        <tr>\n",
       "            <th>Area Code</th> <th>Major</th> <th>Height</th> <th>Eating Out</th> <th>Handedness</th> <th>Siblings</th> <th>Birth Order</th> <th>Exercise</th> <th>Pets</th> <th>Hours of Media</th> <th>Random</th> <th>Award</th> <th>Tattoo</th> <th>Sleep</th> <th>Color</th> <th>Coffee or Bagel</th> <th>Tie Dyed</th> <th>Commute Time</th> <th>Commute Mode</th> <th>WPM</th> <th>Insta Follows</th> <th>Social Media Accounts</th> <th>Platform</th> <th>Hours of Chores</th> <th>Cursive</th> <th>cleaned_major</th>\n",
       "        </tr>\n",
       "    </thead>\n",
       "    <tbody>\n",
       "        <tr>\n",
       "            <td>661      </td> <td>Physics                             </td> <td>66    </td> <td>0         </td> <td>Right-handed               </td> <td>0       </td> <td>1          </td> <td>10      </td> <td>1   </td> <td>20            </td> <td>2790  </td> <td>Nobel Prize  </td> <td>No    </td> <td>5    </td> <td>blue      </td> <td>Bagel          </td> <td>No      </td> <td>15          </td> <td>bus         </td> <td>80  </td> <td>125          </td> <td>7                    </td> <td>twitter </td> <td>3              </td> <td>No     </td> <td>physics                         </td>\n",
       "        </tr>\n",
       "        <tr>\n",
       "            <td>760      </td> <td>Economics                           </td> <td>71    </td> <td>1         </td> <td>Right-handed               </td> <td>3       </td> <td>4          </td> <td>5       </td> <td>1   </td> <td>4             </td> <td>8472  </td> <td>Olympic Medal</td> <td>No    </td> <td>8    </td> <td>blue      </td> <td>Bagel          </td> <td>No      </td> <td>10          </td> <td>bike        </td> <td>60  </td> <td>1323         </td> <td>3                    </td> <td>Twitter </td> <td>1              </td> <td>Yes    </td> <td>econ                            </td>\n",
       "        </tr>\n",
       "        <tr>\n",
       "            <td>951      </td> <td>pre psychological and brain sciences</td> <td>69    </td> <td>1         </td> <td>Right-handed               </td> <td>3       </td> <td>2          </td> <td>12      </td> <td>5   </td> <td>5             </td> <td>1953  </td> <td>Academy Award</td> <td>No    </td> <td>7    </td> <td>sky blue  </td> <td>Bagel          </td> <td>No      </td> <td>30          </td> <td>bus         </td> <td>28  </td> <td>nan          </td> <td>1                    </td> <td>Twitter </td> <td>3              </td> <td>Yes    </td> <td>prepsychandbrainsciences        </td>\n",
       "        </tr>\n",
       "        <tr>\n",
       "            <td>805      </td> <td>economics                           </td> <td>65    </td> <td>6         </td> <td>Right-handed               </td> <td>0       </td> <td>1          </td> <td>2       </td> <td>1   </td> <td>10            </td> <td>1115  </td> <td>Nobel Prize  </td> <td>No    </td> <td>8    </td> <td>light pink</td> <td>Coffee         </td> <td>No      </td> <td>30          </td> <td>bus         </td> <td>70  </td> <td>26           </td> <td>10                   </td> <td>wechat  </td> <td>2              </td> <td>No     </td> <td>econ                            </td>\n",
       "        </tr>\n",
       "        <tr>\n",
       "            <td>805      </td> <td>Communications                      </td> <td>66    </td> <td>5         </td> <td>Right-handed               </td> <td>0       </td> <td>1          </td> <td>2       </td> <td>2   </td> <td>4             </td> <td>1234  </td> <td>Academy Award</td> <td>No    </td> <td>10   </td> <td>Pink      </td> <td>Bagel          </td> <td>No      </td> <td>15          </td> <td>bike        </td> <td>50  </td> <td>400          </td> <td>7                    </td> <td>WeChat  </td> <td>3              </td> <td>No     </td> <td>communicationss                 </td>\n",
       "        </tr>\n",
       "        <tr>\n",
       "            <td>202      </td> <td>linguistics; environmental studies  </td> <td>67    </td> <td>1         </td> <td>Both left- and right-handed</td> <td>1       </td> <td>1          </td> <td>2       </td> <td>0   </td> <td>2             </td> <td>5037  </td> <td>Nobel Prize  </td> <td>No    </td> <td>8    </td> <td>blue      </td> <td>Bagel          </td> <td>No      </td> <td>15          </td> <td>bus         </td> <td>65  </td> <td>124          </td> <td>5                    </td> <td>nan     </td> <td>nan            </td> <td>No     </td> <td>linguistics;environmentalstudies</td>\n",
       "        </tr>\n",
       "        <tr>\n",
       "            <td>818      </td> <td>sociology                           </td> <td>62    </td> <td>3         </td> <td>Right-handed               </td> <td>0       </td> <td>1          </td> <td>11      </td> <td>0   </td> <td>3             </td> <td>3804  </td> <td>Olympic Medal</td> <td>No    </td> <td>10   </td> <td>purple    </td> <td>Bagel          </td> <td>Yes     </td> <td>15          </td> <td>bike        </td> <td>100 </td> <td>595          </td> <td>8                    </td> <td>twitter </td> <td>3              </td> <td>Yes    </td> <td>sociology                       </td>\n",
       "        </tr>\n",
       "        <tr>\n",
       "            <td>408      </td> <td>English                             </td> <td>64    </td> <td>1         </td> <td>Right-handed               </td> <td>2       </td> <td>3          </td> <td>7       </td> <td>1   </td> <td>4             </td> <td>5647  </td> <td>Nobel Prize  </td> <td>No    </td> <td>7    </td> <td>Green     </td> <td>Coffee         </td> <td>Yes     </td> <td>10          </td> <td>bike        </td> <td>nan </td> <td>nan          </td> <td>5                    </td> <td>nan     </td> <td>nan            </td> <td>Yes    </td> <td>english                         </td>\n",
       "        </tr>\n",
       "        <tr>\n",
       "            <td>408      </td> <td>Psychology                          </td> <td>70    </td> <td>4         </td> <td>Right-handed               </td> <td>1       </td> <td>1          </td> <td>5       </td> <td>1   </td> <td>20            </td> <td>4821  </td> <td>Nobel Prize  </td> <td>No    </td> <td>8    </td> <td>Black     </td> <td>Bagel          </td> <td>No      </td> <td>14          </td> <td>bus         </td> <td>135 </td> <td>650          </td> <td>4                    </td> <td>TikTok  </td> <td>0              </td> <td>Yes    </td> <td>psych                           </td>\n",
       "        </tr>\n",
       "        <tr>\n",
       "            <td>805      </td> <td>communication                       </td> <td>63    </td> <td>5         </td> <td>Right-handed               </td> <td>1       </td> <td>2          </td> <td>2       </td> <td>0   </td> <td>5             </td> <td>3419  </td> <td>Nobel Prize  </td> <td>No    </td> <td>7    </td> <td>purple    </td> <td>Coffee         </td> <td>No      </td> <td>15          </td> <td>bus         </td> <td>100 </td> <td>200          </td> <td>5                    </td> <td>ins     </td> <td>1              </td> <td>Yes    </td> <td>communications                  </td>\n",
       "        </tr>\n",
       "    </tbody>\n",
       "</table>\n",
       "<p>... (72 rows omitted)</p>"
      ],
      "text/plain": [
       "Area Code | Major                                | Height | Eating Out | Handedness                  | Siblings | Birth Order | Exercise | Pets | Hours of Media | Random | Award         | Tattoo | Sleep | Color      | Coffee or Bagel | Tie Dyed | Commute Time | Commute Mode | WPM  | Insta Follows | Social Media Accounts | Platform | Hours of Chores | Cursive | cleaned_major\n",
       "661       | Physics                              | 66     | 0          | Right-handed                | 0        | 1           | 10       | 1    | 20             | 2790   | Nobel Prize   | No     | 5     | blue       | Bagel           | No       | 15           | bus          | 80   | 125           | 7                     | twitter  | 3               | No      | physics\n",
       "760       | Economics                            | 71     | 1          | Right-handed                | 3        | 4           | 5        | 1    | 4              | 8472   | Olympic Medal | No     | 8     | blue       | Bagel           | No       | 10           | bike         | 60   | 1323          | 3                     | Twitter  | 1               | Yes     | econ\n",
       "951       | pre psychological and brain sciences | 69     | 1          | Right-handed                | 3        | 2           | 12       | 5    | 5              | 1953   | Academy Award | No     | 7     | sky blue   | Bagel           | No       | 30           | bus          | 28   | nan           | 1                     | Twitter  | 3               | Yes     | prepsychandbrainsciences\n",
       "805       | economics                            | 65     | 6          | Right-handed                | 0        | 1           | 2        | 1    | 10             | 1115   | Nobel Prize   | No     | 8     | light pink | Coffee          | No       | 30           | bus          | 70   | 26            | 10                    | wechat   | 2               | No      | econ\n",
       "805       | Communications                       | 66     | 5          | Right-handed                | 0        | 1           | 2        | 2    | 4              | 1234   | Academy Award | No     | 10    | Pink       | Bagel           | No       | 15           | bike         | 50   | 400           | 7                     | WeChat   | 3               | No      | communicationss\n",
       "202       | linguistics; environmental studies   | 67     | 1          | Both left- and right-handed | 1        | 1           | 2        | 0    | 2              | 5037   | Nobel Prize   | No     | 8     | blue       | Bagel           | No       | 15           | bus          | 65   | 124           | 5                     | nan      | nan             | No      | linguistics;environmentalstudies\n",
       "818       | sociology                            | 62     | 3          | Right-handed                | 0        | 1           | 11       | 0    | 3              | 3804   | Olympic Medal | No     | 10    | purple     | Bagel           | Yes      | 15           | bike         | 100  | 595           | 8                     | twitter  | 3               | Yes     | sociology\n",
       "408       | English                              | 64     | 1          | Right-handed                | 2        | 3           | 7        | 1    | 4              | 5647   | Nobel Prize   | No     | 7     | Green      | Coffee          | Yes      | 10           | bike         | nan  | nan           | 5                     | nan      | nan             | Yes     | english\n",
       "408       | Psychology                           | 70     | 4          | Right-handed                | 1        | 1           | 5        | 1    | 20             | 4821   | Nobel Prize   | No     | 8     | Black      | Bagel           | No       | 14           | bus          | 135  | 650           | 4                     | TikTok   | 0               | Yes     | psych\n",
       "805       | communication                        | 63     | 5          | Right-handed                | 1        | 2           | 2        | 0    | 5              | 3419   | Nobel Prize   | No     | 7     | purple     | Coffee          | No       | 15           | bus          | 100  | 200           | 5                     | ins      | 1               | Yes     | communications\n",
       "... (72 rows omitted)"
      ]
     },
     "execution_count": 54,
     "metadata": {},
     "output_type": "execute_result"
    }
   ],
   "source": [
    "survey"
   ]
  },
  {
   "cell_type": "code",
   "execution_count": 55,
   "metadata": {},
   "outputs": [
    {
     "data": {
      "text/html": [
       "<table border=\"1\" class=\"dataframe\">\n",
       "    <thead>\n",
       "        <tr>\n",
       "            <th>cleaned_major</th> <th>count</th>\n",
       "        </tr>\n",
       "    </thead>\n",
       "    <tbody>\n",
       "        <tr>\n",
       "            <td>astrophysics                    </td> <td>1    </td>\n",
       "        </tr>\n",
       "        <tr>\n",
       "            <td>bio                             </td> <td>2    </td>\n",
       "        </tr>\n",
       "        <tr>\n",
       "            <td>biopsych                        </td> <td>2    </td>\n",
       "        </tr>\n",
       "        <tr>\n",
       "            <td>chem                            </td> <td>2    </td>\n",
       "        </tr>\n",
       "        <tr>\n",
       "            <td>communications                  </td> <td>2    </td>\n",
       "        </tr>\n",
       "        <tr>\n",
       "            <td>communicationss                 </td> <td>1    </td>\n",
       "        </tr>\n",
       "        <tr>\n",
       "            <td>datascienceandstats             </td> <td>1    </td>\n",
       "        </tr>\n",
       "        <tr>\n",
       "            <td>econ                            </td> <td>17   </td>\n",
       "        </tr>\n",
       "        <tr>\n",
       "            <td>econ/biochem                    </td> <td>1    </td>\n",
       "        </tr>\n",
       "        <tr>\n",
       "            <td>econ/psych                      </td> <td>1    </td>\n",
       "        </tr>\n",
       "        <tr>\n",
       "            <td>econandaccounting               </td> <td>5    </td>\n",
       "        </tr>\n",
       "        <tr>\n",
       "            <td>english                         </td> <td>1    </td>\n",
       "        </tr>\n",
       "        <tr>\n",
       "            <td>environmentalstudies            </td> <td>3    </td>\n",
       "        </tr>\n",
       "        <tr>\n",
       "            <td>globalstudies                   </td> <td>2    </td>\n",
       "        </tr>\n",
       "        <tr>\n",
       "            <td>linguistics;environmentalstudies</td> <td>1    </td>\n",
       "        </tr>\n",
       "        <tr>\n",
       "            <td>math                            </td> <td>2    </td>\n",
       "        </tr>\n",
       "        <tr>\n",
       "            <td>microbio                        </td> <td>1    </td>\n",
       "        </tr>\n",
       "        <tr>\n",
       "            <td>pbs                             </td> <td>1    </td>\n",
       "        </tr>\n",
       "        <tr>\n",
       "            <td>physics                         </td> <td>3    </td>\n",
       "        </tr>\n",
       "        <tr>\n",
       "            <td>prebio                          </td> <td>3    </td>\n",
       "        </tr>\n",
       "        <tr>\n",
       "            <td>prepsych                        </td> <td>1    </td>\n",
       "        </tr>\n",
       "        <tr>\n",
       "            <td>prepsychandbrainsciences        </td> <td>2    </td>\n",
       "        </tr>\n",
       "        <tr>\n",
       "            <td>presociology                    </td> <td>2    </td>\n",
       "        </tr>\n",
       "        <tr>\n",
       "            <td>psych                           </td> <td>2    </td>\n",
       "        </tr>\n",
       "        <tr>\n",
       "            <td>psychandbrainsciences           </td> <td>2    </td>\n",
       "        </tr>\n",
       "        <tr>\n",
       "            <td>sociology                       </td> <td>17   </td>\n",
       "        </tr>\n",
       "        <tr>\n",
       "            <td>statistics                      </td> <td>1    </td>\n",
       "        </tr>\n",
       "        <tr>\n",
       "            <td>undeclared                      </td> <td>3    </td>\n",
       "        </tr>\n",
       "    </tbody>\n",
       "</table>"
      ],
      "text/plain": [
       "<IPython.core.display.HTML object>"
      ]
     },
     "metadata": {},
     "output_type": "display_data"
    }
   ],
   "source": [
    "survey.group('cleaned_major').show()"
   ]
  },
  {
   "cell_type": "code",
   "execution_count": 56,
   "metadata": {},
   "outputs": [
    {
     "data": {
      "text/plain": [
       "28"
      ]
     },
     "execution_count": 56,
     "metadata": {},
     "output_type": "execute_result"
    }
   ],
   "source": [
    "len(survey.group('cleaned_major').column('cleaned_major'))"
   ]
  },
  {
   "cell_type": "markdown",
   "metadata": {},
   "source": [
    "This looks much better! We've gone from 45 unique values of the Major variable down to 28."
   ]
  },
  {
   "cell_type": "code",
   "execution_count": 57,
   "metadata": {},
   "outputs": [
    {
     "data": {
      "text/html": [
       "<table border=\"1\" class=\"dataframe\">\n",
       "    <thead>\n",
       "        <tr>\n",
       "            <th>cleaned_major</th> <th>Area Code average</th> <th>Major average</th> <th>Height average</th> <th>Eating Out average</th> <th>Handedness average</th> <th>Siblings average</th> <th>Birth Order average</th> <th>Exercise average</th> <th>Pets average</th> <th>Hours of Media average</th> <th>Random average</th> <th>Award average</th> <th>Tattoo average</th> <th>Sleep average</th> <th>Color average</th> <th>Coffee or Bagel average</th> <th>Tie Dyed average</th> <th>Commute Time average</th> <th>Commute Mode average</th> <th>WPM average</th> <th>Insta Follows average</th> <th>Social Media Accounts average</th> <th>Platform average</th> <th>Hours of Chores average</th> <th>Cursive average</th>\n",
       "        </tr>\n",
       "    </thead>\n",
       "    <tbody>\n",
       "        <tr>\n",
       "            <td>astrophysics       </td> <td>916              </td> <td>             </td> <td>65            </td> <td>5                 </td> <td>                  </td> <td>7               </td> <td>1                  </td> <td>1               </td> <td>0           </td> <td>24                    </td> <td>3696          </td> <td>             </td> <td>              </td> <td>6            </td> <td>             </td> <td>                       </td> <td>                </td> <td>15                  </td> <td>                    </td> <td>60         </td> <td>478                  </td> <td>9                            </td> <td>                </td> <td>1                      </td> <td>               </td>\n",
       "        </tr>\n",
       "        <tr>\n",
       "            <td>bio                </td> <td>630.5            </td> <td>             </td> <td>65.95         </td> <td>2                 </td> <td>                  </td> <td>1.5             </td> <td>1                  </td> <td>5               </td> <td>1.5         </td> <td>7                     </td> <td>1617          </td> <td>             </td> <td>              </td> <td>8            </td> <td>             </td> <td>                       </td> <td>                </td> <td>8.5                 </td> <td>                    </td> <td>48         </td> <td>167                  </td> <td>4.5                          </td> <td>                </td> <td>2.5                    </td> <td>               </td>\n",
       "        </tr>\n",
       "        <tr>\n",
       "            <td>biopsych           </td> <td>493              </td> <td>             </td> <td>63.75         </td> <td>2                 </td> <td>                  </td> <td>4.5             </td> <td>4.5                </td> <td>nan             </td> <td>0.5         </td> <td>nan                   </td> <td>5719.5        </td> <td>             </td> <td>              </td> <td>7            </td> <td>             </td> <td>                       </td> <td>                </td> <td>11                  </td> <td>                    </td> <td>nan        </td> <td>nan                  </td> <td>nan                          </td> <td>                </td> <td>nan                    </td> <td>               </td>\n",
       "        </tr>\n",
       "        <tr>\n",
       "            <td>chem               </td> <td>727.5            </td> <td>             </td> <td>64            </td> <td>2                 </td> <td>                  </td> <td>4               </td> <td>2.5                </td> <td>3               </td> <td>0.5         </td> <td>nan                   </td> <td>nan           </td> <td>             </td> <td>              </td> <td>nan          </td> <td>             </td> <td>                       </td> <td>                </td> <td>nan                 </td> <td>                    </td> <td>nan        </td> <td>nan                  </td> <td>nan                          </td> <td>                </td> <td>nan                    </td> <td>               </td>\n",
       "        </tr>\n",
       "        <tr>\n",
       "            <td>communications     </td> <td>860.5            </td> <td>             </td> <td>65.5          </td> <td>4                 </td> <td>                  </td> <td>0.5             </td> <td>1.5                </td> <td>3               </td> <td>0.5         </td> <td>6.5                   </td> <td>2593          </td> <td>             </td> <td>              </td> <td>7.5          </td> <td>             </td> <td>                       </td> <td>                </td> <td>12.5                </td> <td>                    </td> <td>70         </td> <td>100.5                </td> <td>4.5                          </td> <td>                </td> <td>1.5                    </td> <td>               </td>\n",
       "        </tr>\n",
       "        <tr>\n",
       "            <td>communicationss    </td> <td>805              </td> <td>             </td> <td>66            </td> <td>5                 </td> <td>                  </td> <td>0               </td> <td>1                  </td> <td>2               </td> <td>2           </td> <td>4                     </td> <td>1234          </td> <td>             </td> <td>              </td> <td>10           </td> <td>             </td> <td>                       </td> <td>                </td> <td>15                  </td> <td>                    </td> <td>50         </td> <td>400                  </td> <td>7                            </td> <td>                </td> <td>3                      </td> <td>               </td>\n",
       "        </tr>\n",
       "        <tr>\n",
       "            <td>datascienceandstats</td> <td>310              </td> <td>             </td> <td>61            </td> <td>0                 </td> <td>                  </td> <td>2               </td> <td>1                  </td> <td>nan             </td> <td>0           </td> <td>nan                   </td> <td>2417          </td> <td>             </td> <td>              </td> <td>nan          </td> <td>             </td> <td>                       </td> <td>                </td> <td>nan                 </td> <td>                    </td> <td>nan        </td> <td>nan                  </td> <td>nan                          </td> <td>                </td> <td>nan                    </td> <td>               </td>\n",
       "        </tr>\n",
       "        <tr>\n",
       "            <td>econ               </td> <td>719              </td> <td>             </td> <td>68.9412       </td> <td>3.29412           </td> <td>                  </td> <td>1.58824         </td> <td>2.11765            </td> <td>5.44118         </td> <td>1.52941     </td> <td>14                    </td> <td>5609.06       </td> <td>             </td> <td>              </td> <td>7.91176      </td> <td>             </td> <td>                       </td> <td>                </td> <td>13.6471             </td> <td>                    </td> <td>84.8824    </td> <td>641.529              </td> <td>3.47059                      </td> <td>                </td> <td>3.58824                </td> <td>               </td>\n",
       "        </tr>\n",
       "        <tr>\n",
       "            <td>econ/biochem       </td> <td>408              </td> <td>             </td> <td>67            </td> <td>2                 </td> <td>                  </td> <td>1               </td> <td>1                  </td> <td>5               </td> <td>1           </td> <td>8                     </td> <td>3415          </td> <td>             </td> <td>              </td> <td>7            </td> <td>             </td> <td>                       </td> <td>                </td> <td>15                  </td> <td>                    </td> <td>74         </td> <td>100                  </td> <td>5                            </td> <td>                </td> <td>2                      </td> <td>               </td>\n",
       "        </tr>\n",
       "        <tr>\n",
       "            <td>econ/psych         </td> <td>203              </td> <td>             </td> <td>72.5          </td> <td>4                 </td> <td>                  </td> <td>1               </td> <td>2                  </td> <td>6               </td> <td>1           </td> <td>10                    </td> <td>4444          </td> <td>             </td> <td>              </td> <td>8            </td> <td>             </td> <td>                       </td> <td>                </td> <td>15                  </td> <td>                    </td> <td>65         </td> <td>1400                 </td> <td>5                            </td> <td>                </td> <td>7                      </td> <td>               </td>\n",
       "        </tr>\n",
       "    </tbody>\n",
       "</table>\n",
       "<p>... (18 rows omitted)</p>"
      ],
      "text/plain": [
       "cleaned_major       | Area Code average | Major average | Height average | Eating Out average | Handedness average | Siblings average | Birth Order average | Exercise average | Pets average | Hours of Media average | Random average | Award average | Tattoo average | Sleep average | Color average | Coffee or Bagel average | Tie Dyed average | Commute Time average | Commute Mode average | WPM average | Insta Follows average | Social Media Accounts average | Platform average | Hours of Chores average | Cursive average\n",
       "astrophysics        | 916               |               | 65             | 5                  |                    | 7                | 1                   | 1                | 0            | 24                     | 3696           |               |                | 6             |               |                         |                  | 15                   |                      | 60          | 478                   | 9                             |                  | 1                       |\n",
       "bio                 | 630.5             |               | 65.95          | 2                  |                    | 1.5              | 1                   | 5                | 1.5          | 7                      | 1617           |               |                | 8             |               |                         |                  | 8.5                  |                      | 48          | 167                   | 4.5                           |                  | 2.5                     |\n",
       "biopsych            | 493               |               | 63.75          | 2                  |                    | 4.5              | 4.5                 | nan              | 0.5          | nan                    | 5719.5         |               |                | 7             |               |                         |                  | 11                   |                      | nan         | nan                   | nan                           |                  | nan                     |\n",
       "chem                | 727.5             |               | 64             | 2                  |                    | 4                | 2.5                 | 3                | 0.5          | nan                    | nan            |               |                | nan           |               |                         |                  | nan                  |                      | nan         | nan                   | nan                           |                  | nan                     |\n",
       "communications      | 860.5             |               | 65.5           | 4                  |                    | 0.5              | 1.5                 | 3                | 0.5          | 6.5                    | 2593           |               |                | 7.5           |               |                         |                  | 12.5                 |                      | 70          | 100.5                 | 4.5                           |                  | 1.5                     |\n",
       "communicationss     | 805               |               | 66             | 5                  |                    | 0                | 1                   | 2                | 2            | 4                      | 1234           |               |                | 10            |               |                         |                  | 15                   |                      | 50          | 400                   | 7                             |                  | 3                       |\n",
       "datascienceandstats | 310               |               | 61             | 0                  |                    | 2                | 1                   | nan              | 0            | nan                    | 2417           |               |                | nan           |               |                         |                  | nan                  |                      | nan         | nan                   | nan                           |                  | nan                     |\n",
       "econ                | 719               |               | 68.9412        | 3.29412            |                    | 1.58824          | 2.11765             | 5.44118          | 1.52941      | 14                     | 5609.06        |               |                | 7.91176       |               |                         |                  | 13.6471              |                      | 84.8824     | 641.529               | 3.47059                       |                  | 3.58824                 |\n",
       "econ/biochem        | 408               |               | 67             | 2                  |                    | 1                | 1                   | 5                | 1            | 8                      | 3415           |               |                | 7             |               |                         |                  | 15                   |                      | 74          | 100                   | 5                             |                  | 2                       |\n",
       "econ/psych          | 203               |               | 72.5           | 4                  |                    | 1                | 2                   | 6                | 1            | 10                     | 4444           |               |                | 8             |               |                         |                  | 15                   |                      | 65          | 1400                  | 5                             |                  | 7                       |\n",
       "... (18 rows omitted)"
      ]
     },
     "execution_count": 57,
     "metadata": {},
     "output_type": "execute_result"
    }
   ],
   "source": [
    "# Look at average values for each column by major\n",
    "survey.group('cleaned_major', np.average)"
   ]
  },
  {
   "cell_type": "markdown",
   "metadata": {},
   "source": [
    "**Question:** the value `nan` indicates that the average could not be computed. Why is this happening?"
   ]
  },
  {
   "cell_type": "code",
   "execution_count": null,
   "metadata": {},
   "outputs": [],
   "source": [
    "# ..."
   ]
  }
 ],
 "metadata": {
  "anaconda-cloud": {},
  "kernelspec": {
   "display_name": "Python 3 (ipykernel)",
   "language": "python",
   "name": "python3"
  },
  "language_info": {
   "codemirror_mode": {
    "name": "ipython",
    "version": 3
   },
   "file_extension": ".py",
   "mimetype": "text/x-python",
   "name": "python",
   "nbconvert_exporter": "python",
   "pygments_lexer": "ipython3",
   "version": "3.10.8"
  },
  "toc": {
   "base_numbering": 1,
   "nav_menu": {},
   "number_sections": false,
   "sideBar": true,
   "skip_h1_title": false,
   "title_cell": "Table of Contents",
   "title_sidebar": "Contents",
   "toc_cell": false,
   "toc_position": {},
   "toc_section_display": true,
   "toc_window_display": false
  }
 },
 "nbformat": 4,
 "nbformat_minor": 4
}
