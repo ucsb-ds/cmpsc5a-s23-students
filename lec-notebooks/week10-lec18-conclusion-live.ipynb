{
 "cells": [
  {
   "cell_type": "code",
   "execution_count": 2,
   "id": "6ad1fdc5-9243-4aac-ad39-ab0c6bbf229d",
   "metadata": {},
   "outputs": [],
   "source": [
    "from datascience import *\n",
    "import numpy as np\n",
    "\n",
    "%matplotlib inline\n",
    "import matplotlib.pyplot as plots\n",
    "plots.style.use('fivethirtyeight')"
   ]
  },
  {
   "cell_type": "markdown",
   "id": "247ca4c2-0858-4007-b97d-3f3109c0fb45",
   "metadata": {},
   "source": [
    "# Week 10: Lecture 18 Conclusion"
   ]
  },
  {
   "cell_type": "markdown",
   "id": "c1dad4f6-2ff7-4b98-988a-463f9bc7957d",
   "metadata": {},
   "source": [
    "## Do people with pets get more exercise?\n",
    "\n",
    "### Preparing the Data\n",
    "\n",
    "Let's load the class dataset again:"
   ]
  },
  {
   "cell_type": "code",
   "execution_count": 3,
   "id": "8a1cd351-80bf-46fb-a90a-bbaf25e5ba63",
   "metadata": {},
   "outputs": [
    {
     "data": {
      "text/html": [
       "<table border=\"1\" class=\"dataframe\">\n",
       "    <thead>\n",
       "        <tr>\n",
       "            <th>Area Code</th> <th>Major</th> <th>Height</th> <th>Eating Out</th> <th>Handedness</th> <th>Siblings</th> <th>Birth Order</th> <th>Exercise</th> <th>Pets</th> <th>Hours of Media</th> <th>Random</th> <th>Award</th> <th>Tattoo</th> <th>Sleep</th> <th>Color</th> <th>Coffee or Bagel</th> <th>Tie Dyed</th> <th>Commute Time</th> <th>Commute Mode</th> <th>WPM</th> <th>Insta Follows</th> <th>Social Media Accounts</th> <th>Platform</th> <th>Hours of Chores</th> <th>Cursive</th>\n",
       "        </tr>\n",
       "    </thead>\n",
       "    <tbody>\n",
       "        <tr>\n",
       "            <td>661      </td> <td>Physics                             </td> <td>66    </td> <td>0         </td> <td>Right-handed               </td> <td>0       </td> <td>1          </td> <td>10      </td> <td>1   </td> <td>20            </td> <td>2790  </td> <td>Nobel Prize  </td> <td>No    </td> <td>5    </td> <td>blue      </td> <td>Bagel          </td> <td>No      </td> <td>15          </td> <td>bus         </td> <td>80  </td> <td>125          </td> <td>7                    </td> <td>twitter </td> <td>3              </td> <td>No     </td>\n",
       "        </tr>\n",
       "        <tr>\n",
       "            <td>760      </td> <td>Economics                           </td> <td>71    </td> <td>1         </td> <td>Right-handed               </td> <td>3       </td> <td>4          </td> <td>5       </td> <td>1   </td> <td>4             </td> <td>8472  </td> <td>Olympic Medal</td> <td>No    </td> <td>8    </td> <td>blue      </td> <td>Bagel          </td> <td>No      </td> <td>10          </td> <td>bike        </td> <td>60  </td> <td>1323         </td> <td>3                    </td> <td>Twitter </td> <td>1              </td> <td>Yes    </td>\n",
       "        </tr>\n",
       "        <tr>\n",
       "            <td>951      </td> <td>pre psychological and brain sciences</td> <td>69    </td> <td>1         </td> <td>Right-handed               </td> <td>3       </td> <td>2          </td> <td>12      </td> <td>5   </td> <td>5             </td> <td>1953  </td> <td>Academy Award</td> <td>No    </td> <td>7    </td> <td>sky blue  </td> <td>Bagel          </td> <td>No      </td> <td>30          </td> <td>bus         </td> <td>28  </td> <td>nan          </td> <td>1                    </td> <td>Twitter </td> <td>3              </td> <td>Yes    </td>\n",
       "        </tr>\n",
       "        <tr>\n",
       "            <td>805      </td> <td>economics                           </td> <td>65    </td> <td>6         </td> <td>Right-handed               </td> <td>0       </td> <td>1          </td> <td>2       </td> <td>1   </td> <td>10            </td> <td>1115  </td> <td>Nobel Prize  </td> <td>No    </td> <td>8    </td> <td>light pink</td> <td>Coffee         </td> <td>No      </td> <td>30          </td> <td>bus         </td> <td>70  </td> <td>26           </td> <td>10                   </td> <td>wechat  </td> <td>2              </td> <td>No     </td>\n",
       "        </tr>\n",
       "        <tr>\n",
       "            <td>805      </td> <td>Communications                      </td> <td>66    </td> <td>5         </td> <td>Right-handed               </td> <td>0       </td> <td>1          </td> <td>2       </td> <td>2   </td> <td>4             </td> <td>1234  </td> <td>Academy Award</td> <td>No    </td> <td>10   </td> <td>Pink      </td> <td>Bagel          </td> <td>No      </td> <td>15          </td> <td>bike        </td> <td>50  </td> <td>400          </td> <td>7                    </td> <td>WeChat  </td> <td>3              </td> <td>No     </td>\n",
       "        </tr>\n",
       "        <tr>\n",
       "            <td>202      </td> <td>linguistics; environmental studies  </td> <td>67    </td> <td>1         </td> <td>Both left- and right-handed</td> <td>1       </td> <td>1          </td> <td>2       </td> <td>0   </td> <td>2             </td> <td>5037  </td> <td>Nobel Prize  </td> <td>No    </td> <td>8    </td> <td>blue      </td> <td>Bagel          </td> <td>No      </td> <td>15          </td> <td>bus         </td> <td>65  </td> <td>124          </td> <td>5                    </td> <td>nan     </td> <td>nan            </td> <td>No     </td>\n",
       "        </tr>\n",
       "        <tr>\n",
       "            <td>818      </td> <td>sociology                           </td> <td>62    </td> <td>3         </td> <td>Right-handed               </td> <td>0       </td> <td>1          </td> <td>11      </td> <td>0   </td> <td>3             </td> <td>3804  </td> <td>Olympic Medal</td> <td>No    </td> <td>10   </td> <td>purple    </td> <td>Bagel          </td> <td>Yes     </td> <td>15          </td> <td>bike        </td> <td>100 </td> <td>595          </td> <td>8                    </td> <td>twitter </td> <td>3              </td> <td>Yes    </td>\n",
       "        </tr>\n",
       "        <tr>\n",
       "            <td>408      </td> <td>English                             </td> <td>64    </td> <td>1         </td> <td>Right-handed               </td> <td>2       </td> <td>3          </td> <td>7       </td> <td>1   </td> <td>4             </td> <td>5647  </td> <td>Nobel Prize  </td> <td>No    </td> <td>7    </td> <td>Green     </td> <td>Coffee         </td> <td>Yes     </td> <td>10          </td> <td>bike        </td> <td>nan </td> <td>nan          </td> <td>5                    </td> <td>nan     </td> <td>nan            </td> <td>Yes    </td>\n",
       "        </tr>\n",
       "        <tr>\n",
       "            <td>408      </td> <td>Psychology                          </td> <td>70    </td> <td>4         </td> <td>Right-handed               </td> <td>1       </td> <td>1          </td> <td>5       </td> <td>1   </td> <td>20            </td> <td>4821  </td> <td>Nobel Prize  </td> <td>No    </td> <td>8    </td> <td>Black     </td> <td>Bagel          </td> <td>No      </td> <td>14          </td> <td>bus         </td> <td>135 </td> <td>650          </td> <td>4                    </td> <td>TikTok  </td> <td>0              </td> <td>Yes    </td>\n",
       "        </tr>\n",
       "        <tr>\n",
       "            <td>805      </td> <td>communication                       </td> <td>63    </td> <td>5         </td> <td>Right-handed               </td> <td>1       </td> <td>2          </td> <td>2       </td> <td>0   </td> <td>5             </td> <td>3419  </td> <td>Nobel Prize  </td> <td>No    </td> <td>7    </td> <td>purple    </td> <td>Coffee         </td> <td>No      </td> <td>15          </td> <td>bus         </td> <td>100 </td> <td>200          </td> <td>5                    </td> <td>ins     </td> <td>1              </td> <td>Yes    </td>\n",
       "        </tr>\n",
       "    </tbody>\n",
       "</table>\n",
       "<p>... (72 rows omitted)</p>"
      ],
      "text/plain": [
       "Area Code | Major                                | Height | Eating Out | Handedness                  | Siblings | Birth Order | Exercise | Pets | Hours of Media | Random | Award         | Tattoo | Sleep | Color      | Coffee or Bagel | Tie Dyed | Commute Time | Commute Mode | WPM  | Insta Follows | Social Media Accounts | Platform | Hours of Chores | Cursive\n",
       "661       | Physics                              | 66     | 0          | Right-handed                | 0        | 1           | 10       | 1    | 20             | 2790   | Nobel Prize   | No     | 5     | blue       | Bagel           | No       | 15           | bus          | 80   | 125           | 7                     | twitter  | 3               | No\n",
       "760       | Economics                            | 71     | 1          | Right-handed                | 3        | 4           | 5        | 1    | 4              | 8472   | Olympic Medal | No     | 8     | blue       | Bagel           | No       | 10           | bike         | 60   | 1323          | 3                     | Twitter  | 1               | Yes\n",
       "951       | pre psychological and brain sciences | 69     | 1          | Right-handed                | 3        | 2           | 12       | 5    | 5              | 1953   | Academy Award | No     | 7     | sky blue   | Bagel           | No       | 30           | bus          | 28   | nan           | 1                     | Twitter  | 3               | Yes\n",
       "805       | economics                            | 65     | 6          | Right-handed                | 0        | 1           | 2        | 1    | 10             | 1115   | Nobel Prize   | No     | 8     | light pink | Coffee          | No       | 30           | bus          | 70   | 26            | 10                    | wechat   | 2               | No\n",
       "805       | Communications                       | 66     | 5          | Right-handed                | 0        | 1           | 2        | 2    | 4              | 1234   | Academy Award | No     | 10    | Pink       | Bagel           | No       | 15           | bike         | 50   | 400           | 7                     | WeChat   | 3               | No\n",
       "202       | linguistics; environmental studies   | 67     | 1          | Both left- and right-handed | 1        | 1           | 2        | 0    | 2              | 5037   | Nobel Prize   | No     | 8     | blue       | Bagel           | No       | 15           | bus          | 65   | 124           | 5                     | nan      | nan             | No\n",
       "818       | sociology                            | 62     | 3          | Right-handed                | 0        | 1           | 11       | 0    | 3              | 3804   | Olympic Medal | No     | 10    | purple     | Bagel           | Yes      | 15           | bike         | 100  | 595           | 8                     | twitter  | 3               | Yes\n",
       "408       | English                              | 64     | 1          | Right-handed                | 2        | 3           | 7        | 1    | 4              | 5647   | Nobel Prize   | No     | 7     | Green      | Coffee          | Yes      | 10           | bike         | nan  | nan           | 5                     | nan      | nan             | Yes\n",
       "408       | Psychology                           | 70     | 4          | Right-handed                | 1        | 1           | 5        | 1    | 20             | 4821   | Nobel Prize   | No     | 8     | Black      | Bagel           | No       | 14           | bus          | 135  | 650           | 4                     | TikTok   | 0               | Yes\n",
       "805       | communication                        | 63     | 5          | Right-handed                | 1        | 2           | 2        | 0    | 5              | 3419   | Nobel Prize   | No     | 7     | purple     | Coffee          | No       | 15           | bus          | 100  | 200           | 5                     | ins      | 1               | Yes\n",
       "... (72 rows omitted)"
      ]
     },
     "execution_count": 3,
     "metadata": {},
     "output_type": "execute_result"
    }
   ],
   "source": [
    "class_data_w23 = Table.read_table('./data/cmpsc5a-classdata-w23.csv')\n",
    "class_data_w23"
   ]
  },
  {
   "cell_type": "markdown",
   "id": "7221a7e6-d064-4bec-a9c5-ab7e3f42da2f",
   "metadata": {},
   "source": [
    "There's a lot of data here that isn't relevant to our research question, so we can clean this up somewhat by selecting only the columns indicating number of pets and hours of exercise:"
   ]
  },
  {
   "cell_type": "markdown",
   "id": "2693e2de-8dd8-44fe-b04e-2d1854941322",
   "metadata": {},
   "source": [
    "**Question:** what table method can I use to get a table with only the Pets and Exercise columns?\n",
    "\n",
    "(a) `column`\n",
    "\n",
    "(b) `select`\n",
    "\n",
    "(c) `take`\n",
    "\n",
    "(d) `with_column`"
   ]
  },
  {
   "cell_type": "code",
   "execution_count": null,
   "id": "7386ad00",
   "metadata": {},
   "outputs": [],
   "source": [
    "# Answer: (b)!"
   ]
  },
  {
   "cell_type": "code",
   "execution_count": 4,
   "id": "0efaa6b9-4d97-4cac-87ab-51cb03916fe9",
   "metadata": {},
   "outputs": [
    {
     "data": {
      "text/html": [
       "<table border=\"1\" class=\"dataframe\">\n",
       "    <thead>\n",
       "        <tr>\n",
       "            <th>Pets</th> <th>Exercise</th>\n",
       "        </tr>\n",
       "    </thead>\n",
       "    <tbody>\n",
       "        <tr>\n",
       "            <td>1   </td> <td>10      </td>\n",
       "        </tr>\n",
       "        <tr>\n",
       "            <td>1   </td> <td>5       </td>\n",
       "        </tr>\n",
       "        <tr>\n",
       "            <td>5   </td> <td>12      </td>\n",
       "        </tr>\n",
       "        <tr>\n",
       "            <td>1   </td> <td>2       </td>\n",
       "        </tr>\n",
       "        <tr>\n",
       "            <td>2   </td> <td>2       </td>\n",
       "        </tr>\n",
       "        <tr>\n",
       "            <td>0   </td> <td>2       </td>\n",
       "        </tr>\n",
       "        <tr>\n",
       "            <td>0   </td> <td>11      </td>\n",
       "        </tr>\n",
       "        <tr>\n",
       "            <td>1   </td> <td>7       </td>\n",
       "        </tr>\n",
       "        <tr>\n",
       "            <td>1   </td> <td>5       </td>\n",
       "        </tr>\n",
       "        <tr>\n",
       "            <td>0   </td> <td>2       </td>\n",
       "        </tr>\n",
       "        <tr>\n",
       "            <td>1   </td> <td>nan     </td>\n",
       "        </tr>\n",
       "    </tbody>\n",
       "</table>\n",
       "<p>... (71 rows omitted)</p>"
      ],
      "text/plain": [
       "<IPython.core.display.HTML object>"
      ]
     },
     "metadata": {},
     "output_type": "display_data"
    }
   ],
   "source": [
    "pets_exercise_w23 = class_data_w23.select('Pets', 'Exercise')\n",
    "pets_exercise_w23.show(11)"
   ]
  },
  {
   "cell_type": "markdown",
   "id": "7e2f157c-6f79-4068-9ad0-8550b0b2eff6",
   "metadata": {},
   "source": [
    "There's still some more cleaning to do! Not everyone answered both of these questions, leading to values of `nan` in the table where responses are missing. We can further clean up the data by selecting only the rows where both `Pets` and `Exercise` are a number that is at least zero."
   ]
  },
  {
   "cell_type": "markdown",
   "id": "890ad1f0-3d37-4a64-9aa2-c281d2adabd3",
   "metadata": {},
   "source": [
    "**Question:** if I only want to keep rows where the values in a column satisfy some condition, which table method should I use?\n",
    "\n",
    "(a) `sort`\n",
    "\n",
    "(b) `drop`\n",
    "\n",
    "(c) `exclude`\n",
    "\n",
    "(d) `where`"
   ]
  },
  {
   "cell_type": "code",
   "execution_count": null,
   "id": "19ca6033",
   "metadata": {},
   "outputs": [],
   "source": [
    "# (d)!"
   ]
  },
  {
   "cell_type": "code",
   "execution_count": 6,
   "id": "d053f7bb-3119-4905-a86a-c8e2e538a669",
   "metadata": {},
   "outputs": [
    {
     "data": {
      "text/html": [
       "<table border=\"1\" class=\"dataframe\">\n",
       "    <thead>\n",
       "        <tr>\n",
       "            <th>Pets</th> <th>Exercise</th>\n",
       "        </tr>\n",
       "    </thead>\n",
       "    <tbody>\n",
       "        <tr>\n",
       "            <td>1   </td> <td>10      </td>\n",
       "        </tr>\n",
       "        <tr>\n",
       "            <td>1   </td> <td>5       </td>\n",
       "        </tr>\n",
       "        <tr>\n",
       "            <td>5   </td> <td>12      </td>\n",
       "        </tr>\n",
       "        <tr>\n",
       "            <td>1   </td> <td>2       </td>\n",
       "        </tr>\n",
       "        <tr>\n",
       "            <td>2   </td> <td>2       </td>\n",
       "        </tr>\n",
       "        <tr>\n",
       "            <td>0   </td> <td>2       </td>\n",
       "        </tr>\n",
       "        <tr>\n",
       "            <td>0   </td> <td>11      </td>\n",
       "        </tr>\n",
       "        <tr>\n",
       "            <td>1   </td> <td>7       </td>\n",
       "        </tr>\n",
       "        <tr>\n",
       "            <td>1   </td> <td>5       </td>\n",
       "        </tr>\n",
       "        <tr>\n",
       "            <td>0   </td> <td>2       </td>\n",
       "        </tr>\n",
       "    </tbody>\n",
       "</table>\n",
       "<p>... (65 rows omitted)</p>"
      ],
      "text/plain": [
       "Pets | Exercise\n",
       "1    | 10\n",
       "1    | 5\n",
       "5    | 12\n",
       "1    | 2\n",
       "2    | 2\n",
       "0    | 2\n",
       "0    | 11\n",
       "1    | 7\n",
       "1    | 5\n",
       "0    | 2\n",
       "... (65 rows omitted)"
      ]
     },
     "execution_count": 6,
     "metadata": {},
     "output_type": "execute_result"
    }
   ],
   "source": [
    "# Filter the table to rows where Pets >= 0\n",
    "pets_exercise_w23 = pets_exercise_w23.where('Pets', are.above_or_equal_to(0))\n",
    "\n",
    "# Further filter the table to rows where Exercise >= 0\n",
    "pets_exercise_w23 = pets_exercise_w23.where('Exercise', are.above_or_equal_to(0))\n",
    "\n",
    "pets_exercise_w23"
   ]
  },
  {
   "cell_type": "markdown",
   "id": "04e6dc70-7d2d-419d-bc5f-a7fac3c34c96",
   "metadata": {},
   "source": [
    "The rows containing any `nan` values should be gone. Since `nan` is not a number, it will not be allowed by our predicate: "
   ]
  },
  {
   "cell_type": "code",
   "execution_count": 5,
   "id": "89995f60-6165-4dee-9aa7-8a8725c46eaf",
   "metadata": {},
   "outputs": [
    {
     "data": {
      "text/plain": [
       "False"
      ]
     },
     "execution_count": 5,
     "metadata": {},
     "output_type": "execute_result"
    }
   ],
   "source": [
    "# We can treat the predicate like a function to see if nan is considered above or equal to 0\n",
    "predicate = are.above_or_equal_to(0)\n",
    "predicate(float('nan'))"
   ]
  },
  {
   "cell_type": "markdown",
   "id": "b1bf8efd-c2cd-4b6c-b760-0c3c7908358b",
   "metadata": {},
   "source": [
    "There are quite a few responses left! Let's see exactly how many."
   ]
  },
  {
   "cell_type": "markdown",
   "id": "97cbd75f-b25a-4e04-8540-1e1fa2ddedc0",
   "metadata": {},
   "source": [
    "**Question:** if I have a table `t` representing a dataset, how do I count how many individuals are in the dataset?\n",
    "\n",
    "(a) `t.columns`\n",
    "\n",
    "(b) `t.rows`\n",
    "\n",
    "(c) `t.num_columns`\n",
    "\n",
    "(d) `t.num_rows`"
   ]
  },
  {
   "cell_type": "code",
   "execution_count": null,
   "id": "29190216",
   "metadata": {},
   "outputs": [],
   "source": [
    "# Answer: (d)!"
   ]
  },
  {
   "cell_type": "code",
   "execution_count": 7,
   "id": "bb0909b0-a3f3-4f46-a364-a3495f65b64c",
   "metadata": {},
   "outputs": [
    {
     "data": {
      "text/plain": [
       "75"
      ]
     },
     "execution_count": 7,
     "metadata": {},
     "output_type": "execute_result"
    }
   ],
   "source": [
    "# Count how many respondents are left after cleaning\n",
    "pets_exercise_w23.num_rows"
   ]
  },
  {
   "cell_type": "markdown",
   "id": "27ccd47c-7702-4db0-a8b7-85efcfe74107",
   "metadata": {},
   "source": [
    "### Exploring the Data"
   ]
  },
  {
   "cell_type": "markdown",
   "id": "ddff1584-cdc0-45c1-8533-0923fb3def55",
   "metadata": {},
   "source": [
    "When you have a new dataset, it's a good idea to use some summary statistics and visualizations to get familiar with the data. We can make a couple of histograms to get a sense of responses for numbers of pets and hours of exercise:"
   ]
  },
  {
   "cell_type": "code",
   "execution_count": 8,
   "id": "436619f3-f5f5-4579-85b8-c7ef363bebe0",
   "metadata": {},
   "outputs": [
    {
     "data": {
      "image/png": "[encoded data removed]",
      "text/plain": [
       "<Figure size 600x400 with 1 Axes>"
      ]
     },
     "metadata": {},
     "output_type": "display_data"
    }
   ],
   "source": [
    "pet_bins = np.arange(-0.5, 6) # Create bins so that 0, 1, 2, ..., 5 are in the center\n",
    "pets_exercise_w23.hist('Pets', bins=pet_bins)"
   ]
  },
  {
   "cell_type": "markdown",
   "id": "d4afc599-8c4b-48c7-a779-6e1128958b84",
   "metadata": {},
   "source": [
    "**Question:** based on the histogram, about what fraction of the class has at least one pet?\n",
    "\n",
    "(a) 50%\n",
    "\n",
    "(b) 60%\n",
    "\n",
    "(c) 70%\n",
    "\n",
    "(d) 80%"
   ]
  },
  {
   "cell_type": "code",
   "execution_count": null,
   "id": "426f7452",
   "metadata": {},
   "outputs": [],
   "source": [
    "# 100% - 37% = 63% ~ 60%"
   ]
  },
  {
   "cell_type": "markdown",
   "id": "ffe4dabb-8389-4cf8-9ce3-096541f0afbb",
   "metadata": {},
   "source": [
    "We can calculate exactly what fraction of the class has at least one pet. There are several ways to do it!"
   ]
  },
  {
   "cell_type": "markdown",
   "id": "ea635f48-75e5-465a-ae85-3b541554f374",
   "metadata": {},
   "source": [
    "**Question:** which of the following expressions does *not* calculate the fraction of the class that has at least one pet?\n",
    "\n",
    "(a) `sum(pets_exercise_w23.column('Pets') >= 1) / 75`\n",
    "\n",
    "(b) `sum(pets_exercise_w23.column('Pets') > 0)`\n",
    "\n",
    "(c) `np.count_nonzero(pets_exercise_w23.column('Pets') > 0) / pets_exercise_w23.num_rows`\n",
    "\n",
    "(d) `np.mean(pets_exercise_w23.column('Pets') >= 1)`"
   ]
  },
  {
   "cell_type": "code",
   "execution_count": 10,
   "id": "912dbd85",
   "metadata": {},
   "outputs": [
    {
     "data": {
      "text/plain": [
       "0.62666666666666671"
      ]
     },
     "execution_count": 10,
     "metadata": {},
     "output_type": "execute_result"
    }
   ],
   "source": [
    "np.mean(pets_exercise_w23.column('Pets') >= 1)"
   ]
  },
  {
   "cell_type": "code",
   "execution_count": null,
   "id": "313f548b",
   "metadata": {},
   "outputs": [],
   "source": [
    "# Answer (b)\n",
    "# "
   ]
  },
  {
   "cell_type": "markdown",
   "id": "d7585d86-3754-44c8-ac2a-0f6555dda5ec",
   "metadata": {},
   "source": [
    "To check for an association between these variables, it's also a good idea to try a scatter plot:"
   ]
  },
  {
   "cell_type": "code",
   "execution_count": 11,
   "id": "f27a0c1a-0f57-410a-b87e-d42d2329122f",
   "metadata": {},
   "outputs": [
    {
     "data": {
      "image/png": "[encoded data removed]",
      "text/plain": [
       "<Figure size 500x500 with 1 Axes>"
      ]
     },
     "metadata": {},
     "output_type": "display_data"
    }
   ],
   "source": [
    "pets_exercise_w23.scatter('Pets', 'Exercise')"
   ]
  },
  {
   "cell_type": "markdown",
   "id": "a95be114-49f6-404f-bc2e-9466cb44bd23",
   "metadata": {},
   "source": [
    "Does the plot indicate any kind of association? Maybe---it looks like exercise may weakly trend upward with number of pets. We haven't proven anything yet, but we have found some evidence to motivate further analysis of this data."
   ]
  },
  {
   "cell_type": "markdown",
   "id": "d76abb8c-b158-4444-a5a7-627d546f9107",
   "metadata": {},
   "source": [
    "For one more visualization, let's create a column called `at_least_one_pet` indicating whether or not each respondent has any pet at all. There are a couple of ways to do this. We could define a function and evaluate it on each row of the table:"
   ]
  },
  {
   "cell_type": "code",
   "execution_count": 12,
   "id": "ad7ce86e-0d17-454a-a313-6f1de4ad846f",
   "metadata": {},
   "outputs": [],
   "source": [
    "def at_least_one(x):\n",
    "    \"\"\"\n",
    "    Returns True if x >= 1; otherwise returns False.\n",
    "    \"\"\"\n",
    "    return x >= 1"
   ]
  },
  {
   "cell_type": "code",
   "execution_count": 14,
   "id": "67592def",
   "metadata": {},
   "outputs": [
    {
     "data": {
      "text/plain": [
       "False"
      ]
     },
     "execution_count": 14,
     "metadata": {},
     "output_type": "execute_result"
    }
   ],
   "source": [
    "at_least_one(0)"
   ]
  },
  {
   "cell_type": "code",
   "execution_count": 13,
   "id": "4c0c37fe",
   "metadata": {},
   "outputs": [
    {
     "data": {
      "text/plain": [
       "True"
      ]
     },
     "execution_count": 13,
     "metadata": {},
     "output_type": "execute_result"
    }
   ],
   "source": [
    "at_least_one(1)"
   ]
  },
  {
   "cell_type": "markdown",
   "id": "ae94d04c-5c85-43bc-93f7-d3f018b39077",
   "metadata": {},
   "source": [
    "**Question:** if I want an array containing the values `at_least_one(x)` for each number `x` in the Pets column, which table method should I use?\n",
    "\n",
    "(a) `with_column`\n",
    "\n",
    "(b) `take`\n",
    "\n",
    "(c) `apply`\n",
    "\n",
    "(d) `group`"
   ]
  },
  {
   "cell_type": "code",
   "execution_count": 15,
   "id": "a0e5b85c-ce61-4495-87da-1f9c390ec627",
   "metadata": {},
   "outputs": [
    {
     "data": {
      "text/plain": [
       "array([ True,  True,  True,  True,  True, False, False,  True,  True,\n",
       "       False,  True,  True,  True, False, False, False,  True,  True,\n",
       "       False,  True, False, False,  True,  True,  True,  True,  True,\n",
       "        True,  True,  True,  True, False, False,  True,  True,  True,\n",
       "       False,  True,  True,  True,  True, False,  True, False, False,\n",
       "       False,  True, False, False,  True,  True,  True,  True, False,\n",
       "        True,  True,  True,  True, False, False, False,  True, False,\n",
       "       False,  True, False, False,  True,  True, False,  True,  True,\n",
       "       False,  True,  True], dtype=bool)"
      ]
     },
     "execution_count": 15,
     "metadata": {},
     "output_type": "execute_result"
    }
   ],
   "source": [
    "at_least_one_pet = pets_exercise_w23.apply(at_least_one, 'Pets')\n",
    "at_least_one_pet"
   ]
  },
  {
   "cell_type": "markdown",
   "id": "41352e56-54d9-47d2-8154-e7d2723fad54",
   "metadata": {},
   "source": [
    "But this calculation is simple enough that we can just work with the `Pets` column directly, as an array:"
   ]
  },
  {
   "cell_type": "code",
   "execution_count": 16,
   "id": "b45f5b27-7dd7-4c07-b7e3-343605dd1300",
   "metadata": {},
   "outputs": [
    {
     "data": {
      "text/plain": [
       "array([ True,  True,  True,  True,  True, False, False,  True,  True,\n",
       "       False,  True,  True,  True, False, False, False,  True,  True,\n",
       "       False,  True, False, False,  True,  True,  True,  True,  True,\n",
       "        True,  True,  True,  True, False, False,  True,  True,  True,\n",
       "       False,  True,  True,  True,  True, False,  True, False, False,\n",
       "       False,  True, False, False,  True,  True,  True,  True, False,\n",
       "        True,  True,  True,  True, False, False, False,  True, False,\n",
       "       False,  True, False, False,  True,  True, False,  True,  True,\n",
       "       False,  True,  True], dtype=bool)"
      ]
     },
     "execution_count": 16,
     "metadata": {},
     "output_type": "execute_result"
    }
   ],
   "source": [
    "at_least_one_pet = pets_exercise_w23.column('Pets') >= 1\n",
    "at_least_one_pet"
   ]
  },
  {
   "cell_type": "markdown",
   "id": "3202885b-a851-4f45-a170-df046648f28a",
   "metadata": {},
   "source": [
    "If we can avoid using the apply method, this is usually better---working with arrays directly is faster for the computer! But however we compute this array, we can add it as a column to our table."
   ]
  },
  {
   "cell_type": "markdown",
   "id": "ba8e9d4a-cbba-4732-9a3e-cbf2fe01216a",
   "metadata": {},
   "source": [
    "**Question:** what statement should I use to permanently add the `at_least_one_pet` array as a new column to the table?\n",
    "\n",
    "(a) `pets_exercise_w23.with_column('at_least_one_pet', at_least_one_pet)`\n",
    "\n",
    "(b) `pets_exercise_w23 = pets_exercise_w23.with_column('at_least_one_pet', at_least_one_pet)`\n",
    "\n",
    "(c) `pets_exercise_w23.column('at_least_one_pet') = at_least_one_pet`\n",
    "\n",
    "(d) Trick question: due to the Law of Impermanence, everything that is material is also temporary."
   ]
  },
  {
   "cell_type": "code",
   "execution_count": null,
   "id": "6d86ae6b-4903-4a6a-aa45-ea05d314b6a8",
   "metadata": {},
   "outputs": [],
   "source": [
    "# Add the at_least_one_pet column to the table\n",
    "# Answer: (b)"
   ]
  },
  {
   "cell_type": "code",
   "execution_count": 20,
   "id": "5f3b13f7",
   "metadata": {},
   "outputs": [
    {
     "data": {
      "text/html": [
       "<table border=\"1\" class=\"dataframe\">\n",
       "    <thead>\n",
       "        <tr>\n",
       "            <th>Pets</th> <th>Exercise</th> <th>at_least_one_pet</th>\n",
       "        </tr>\n",
       "    </thead>\n",
       "    <tbody>\n",
       "        <tr>\n",
       "            <td>1   </td> <td>10      </td> <td>True            </td>\n",
       "        </tr>\n",
       "        <tr>\n",
       "            <td>1   </td> <td>5       </td> <td>True            </td>\n",
       "        </tr>\n",
       "        <tr>\n",
       "            <td>5   </td> <td>12      </td> <td>True            </td>\n",
       "        </tr>\n",
       "        <tr>\n",
       "            <td>1   </td> <td>2       </td> <td>True            </td>\n",
       "        </tr>\n",
       "        <tr>\n",
       "            <td>2   </td> <td>2       </td> <td>True            </td>\n",
       "        </tr>\n",
       "        <tr>\n",
       "            <td>0   </td> <td>2       </td> <td>False           </td>\n",
       "        </tr>\n",
       "        <tr>\n",
       "            <td>0   </td> <td>11      </td> <td>False           </td>\n",
       "        </tr>\n",
       "        <tr>\n",
       "            <td>1   </td> <td>7       </td> <td>True            </td>\n",
       "        </tr>\n",
       "        <tr>\n",
       "            <td>1   </td> <td>5       </td> <td>True            </td>\n",
       "        </tr>\n",
       "        <tr>\n",
       "            <td>0   </td> <td>2       </td> <td>False           </td>\n",
       "        </tr>\n",
       "    </tbody>\n",
       "</table>\n",
       "<p>... (65 rows omitted)</p>"
      ],
      "text/plain": [
       "Pets | Exercise | at_least_one_pet\n",
       "1    | 10       | True\n",
       "1    | 5        | True\n",
       "5    | 12       | True\n",
       "1    | 2        | True\n",
       "2    | 2        | True\n",
       "0    | 2        | False\n",
       "0    | 11       | False\n",
       "1    | 7        | True\n",
       "1    | 5        | True\n",
       "0    | 2        | False\n",
       "... (65 rows omitted)"
      ]
     },
     "execution_count": 20,
     "metadata": {},
     "output_type": "execute_result"
    }
   ],
   "source": [
    "pets_exercise_w23"
   ]
  },
  {
   "cell_type": "code",
   "execution_count": 19,
   "id": "ccca4933",
   "metadata": {},
   "outputs": [],
   "source": [
    "pets_exercise_w23 = pets_exercise_w23.with_column('at_least_one_pet', at_least_one_pet)"
   ]
  },
  {
   "cell_type": "markdown",
   "id": "7236143b-348c-4627-a003-8fc70507fa46",
   "metadata": {},
   "source": [
    "Now let's make one last visualization:"
   ]
  },
  {
   "cell_type": "code",
   "execution_count": 21,
   "id": "d1abded6-19ae-46a1-b3dd-332c27f03d63",
   "metadata": {},
   "outputs": [
    {
     "data": {
      "image/png": "[encoded data removed]",
      "text/plain": [
       "<Figure size 600x400 with 1 Axes>"
      ]
     },
     "metadata": {},
     "output_type": "display_data"
    }
   ],
   "source": [
    "pets_exercise_w23.hist('Exercise', group='at_least_one_pet')"
   ]
  },
  {
   "cell_type": "markdown",
   "id": "be9188f1-2b41-4413-a9fc-602f6e8f81cf",
   "metadata": {},
   "source": [
    "This pair of histograms agrees with our earlier idea: that there may be some positive correlation between pet ownership and amount of exercise. Let's see what the average amount of exercise is for these two groups."
   ]
  },
  {
   "cell_type": "markdown",
   "id": "e9e63d12-a28d-41c8-8f4b-2dff0dfa0ba0",
   "metadata": {},
   "source": [
    "**Question:** I want to calculate the average value of Exercise for the group where `at_least_one_pet` is True and the group where it is False. What table method should I use?\n",
    "\n",
    "(a) `where`\n",
    "\n",
    "(b) `group`\n",
    "\n",
    "(c) `pivot`\n",
    "\n",
    "(d) `apply`"
   ]
  },
  {
   "cell_type": "code",
   "execution_count": null,
   "id": "c081d297",
   "metadata": {},
   "outputs": [],
   "source": [
    "# Answer: (b)"
   ]
  },
  {
   "cell_type": "code",
   "execution_count": 22,
   "id": "55b5c387-3070-4270-9f29-990a8dc77caf",
   "metadata": {},
   "outputs": [
    {
     "data": {
      "text/html": [
       "<table border=\"1\" class=\"dataframe\">\n",
       "    <thead>\n",
       "        <tr>\n",
       "            <th>at_least_one_pet</th> <th>Pets mean</th> <th>Exercise mean</th>\n",
       "        </tr>\n",
       "    </thead>\n",
       "    <tbody>\n",
       "        <tr>\n",
       "            <td>False           </td> <td>0        </td> <td>3.98214      </td>\n",
       "        </tr>\n",
       "        <tr>\n",
       "            <td>True            </td> <td>1.78723  </td> <td>5.97872      </td>\n",
       "        </tr>\n",
       "    </tbody>\n",
       "</table>"
      ],
      "text/plain": [
       "at_least_one_pet | Pets mean | Exercise mean\n",
       "False            | 0         | 3.98214\n",
       "True             | 1.78723   | 5.97872"
      ]
     },
     "execution_count": 22,
     "metadata": {},
     "output_type": "execute_result"
    }
   ],
   "source": [
    "group_means = pets_exercise_w23.group('at_least_one_pet', np.mean)\n",
    "group_means"
   ]
  },
  {
   "cell_type": "markdown",
   "id": "f04bbe4c-0cda-4508-8a38-cec1a857aacd",
   "metadata": {},
   "source": [
    "On average, survey respondents who have a pet get 2 more hours of exercise per week than those who do not. *This could just be due to random chance.* Maybe, by pure coincidence, highly active pet owners just happened to respond to the survey more often. We can't make any conclusions until we understand how likely it is that this result is due to chance alone."
   ]
  },
  {
   "cell_type": "markdown",
   "id": "e97452d7-b380-4f6e-8c73-7435573a8b14",
   "metadata": {},
   "source": [
    "### Formulating a Hypothesis"
   ]
  },
  {
   "cell_type": "markdown",
   "id": "596ff0a5-8561-4826-bec7-c869ca50e5cd",
   "metadata": {},
   "source": [
    "Based on what we have seen, we suspect that people who have a pet get more exercise (on average) than people who do not have a pet. To see if our data supports this claim, we need to do a hypothesis test.\n",
    "\n",
    "In this case, the **null hypothesis** is that there is no difference between the distributions of exercise between the two groups. In other words, if we were able to somehow get exercise and pet ownership data on the entire population, the blue and yellow histograms above would be identical. The null hypothesis is the model in which any discrepancy in exercise amount between the two groups is entirely due to random chance in who responded to the survey."
   ]
  },
  {
   "cell_type": "markdown",
   "id": "3b2c424c-5239-47ca-ad12-b1c5b9ba645c",
   "metadata": {},
   "source": [
    "We have a couple of choices for an alternative hypothesis, depending on what claims we want to assess.\n",
    "\n",
    " - Option 1: the two distributions are different. Maybe people who have pets get more exercise, maybe they get less exercise, but regardless of which of these is true, the distributions aren't identical.\n",
    " \n",
    " - Option 2: the distributions are different, and people who have pets get more exercise on average.\n",
    " \n",
    " - Option 3: the distributions are different, and people who have pets get less exercise on average."
   ]
  },
  {
   "cell_type": "markdown",
   "id": "f5861753-0817-406f-bba1-e6883370be5c",
   "metadata": {},
   "source": [
    "From our exploratory analysis, we suspect that Option 2 is true, so we will choose this to be our alternative hypothesis:"
   ]
  },
  {
   "cell_type": "markdown",
   "id": "7c5d2275-3a6a-4bdf-97b1-582b2f37fda6",
   "metadata": {},
   "source": [
    "**Alternative Hypothesis:** people who have pets get more exercise on average."
   ]
  },
  {
   "cell_type": "markdown",
   "id": "11c0e516-bce5-46c0-9204-95a32891db9f",
   "metadata": {},
   "source": [
    "### Testing the Hypothesis"
   ]
  },
  {
   "cell_type": "markdown",
   "id": "dfedc360-2d9e-4536-99c2-f4185e63282a",
   "metadata": {},
   "source": [
    "**Question:** if our null hypothesis is that two samples come from the same distribution, how do we decide if there is enough statistical evidence to disprove this claim?\n",
    "\n",
    "(a) Plot the histograms for each group and see if they look different\n",
    "\n",
    "(b) Check if the group means are close together or not\n",
    "\n",
    "(c) Calculate the TVD between the two samples\n",
    "\n",
    "(d) A/B Test"
   ]
  },
  {
   "cell_type": "code",
   "execution_count": null,
   "id": "dea04af9-7df8-4326-91ce-d2398526c09e",
   "metadata": {},
   "outputs": [],
   "source": [
    "# Answer: (d)"
   ]
  },
  {
   "cell_type": "markdown",
   "id": "3b90258b-bd49-43de-8a31-74afd00921fa",
   "metadata": {},
   "source": [
    "For this test, we will use the difference in means as the test statistic. The value of this statistic is `group_b_mean - group_a_mean`. In this case, Group A are students who do not have pets, and Group B are students who own at least one pet. With this in mind, notice that *larger values of the test statistic support the alternative hypothesis*.\n",
    "\n",
    "We can use the following function from last class to calculate the difference in group means from a table:"
   ]
  },
  {
   "cell_type": "code",
   "execution_count": 23,
   "id": "3c3c704b-401e-4358-aefb-0c6530f77ae3",
   "metadata": {},
   "outputs": [],
   "source": [
    "def difference_of_means(table, label, group_label):\n",
    "    \"\"\"\n",
    "    Calculates the difference in means between two groups of rows in a table.\n",
    "    Takes a table, the name of a column representing a numerical variable,\n",
    "    and the name of a column indicating which group each row belongs to.\n",
    "    \"\"\"\n",
    "    \n",
    "    # table with the two relevant columns\n",
    "    reduced = table.select(label, group_label)  \n",
    "    \n",
    "    # table containing group means\n",
    "    means_table = reduced.group(group_label, np.average)\n",
    "    \n",
    "    # array of group means\n",
    "    means = means_table.column(1)\n",
    "    \n",
    "    return means.item(1) - means.item(0)"
   ]
  },
  {
   "cell_type": "code",
   "execution_count": 24,
   "id": "de94cfa0-48b0-41ae-b39c-faf4040ba065",
   "metadata": {},
   "outputs": [
    {
     "data": {
      "text/plain": [
       "1.9965805471124622"
      ]
     },
     "execution_count": 24,
     "metadata": {},
     "output_type": "execute_result"
    }
   ],
   "source": [
    "# Calculate the observed value of the test statistic\n",
    "observed_test_stat = difference_of_means(pets_exercise_w23, 'Exercise', 'at_least_one_pet')\n",
    "observed_test_stat"
   ]
  },
  {
   "cell_type": "markdown",
   "id": "9b3b3e1b-688b-4cb1-a7e2-b605a6b1a3b4",
   "metadata": {},
   "source": [
    "### Simulating the Null Hypothesis"
   ]
  },
  {
   "cell_type": "markdown",
   "id": "0c17b772-4094-4ecf-8e7d-6eb758d99553",
   "metadata": {},
   "source": [
    "We will now simulate the values of the test statistic under the null hypothesis.\n",
    "\n",
    "Simulating the null hypothesis for A/B testing (i.e., that two samples came from the same distribution) is not as straightforward as simulating the null hypotheses for one-sample tests that we have seen. We haven't specified *what* this distribution is: only that it's the same for these two groups. Therefore, we can't just use `sample_proportions` or `np.random.choice`, since we don't know what probabilities to assign to each outcome.\n",
    "\n",
    "A/B tests get around this problem using a clever trick: we can get new samples of this distribution by *resampling* our data, i.e., creating new samples from our *data* instead of from some probability distribution.\n",
    "\n",
    "To simulate our dataset under the null hypothesis, we want to draw two samples, one from Group A and one from Group B. The null hypothesis is that these samples should come from the same distribution. Therefore, we can pool all of our data---from both groups---into one larger sample from whatever this distribution is. "
   ]
  },
  {
   "cell_type": "code",
   "execution_count": 25,
   "id": "c7fa9e73-aa04-40d1-a778-99065b4f4076",
   "metadata": {},
   "outputs": [
    {
     "data": {
      "image/png": "[encoded data removed]",
      "text/plain": [
       "<Figure size 600x400 with 1 Axes>"
      ]
     },
     "metadata": {},
     "output_type": "display_data"
    }
   ],
   "source": [
    "pets_exercise_w23.hist('Exercise', group='at_least_one_pet')\n",
    "plots.title('Distributions from our Separate Samples');"
   ]
  },
  {
   "cell_type": "code",
   "execution_count": 26,
   "id": "76a89f53-f173-4090-bfb3-b97654bcd7d6",
   "metadata": {},
   "outputs": [
    {
     "data": {
      "image/png": "[encoded data removed]",
      "text/plain": [
       "<Figure size 600x400 with 1 Axes>"
      ]
     },
     "metadata": {},
     "output_type": "display_data"
    }
   ],
   "source": [
    "pets_exercise_w23.hist('Exercise')\n",
    "plots.title('Distribution of our Combined Sample');"
   ]
  },
  {
   "cell_type": "markdown",
   "id": "b060f3a0-4d2a-4173-8cbf-00c85fd76e6a",
   "metadata": {},
   "source": [
    "If the two groups are from the same distribution, then *the group label doesn't matter*. If you have two coins that you know are fair, it doesn't matter which one you flip: you have the same likelihood of landing on heads. Similarly, if students with pets and students without pets exercise according to the same distribution, group membership doesn't have any impact on how much exercise a student is likely to get."
   ]
  },
  {
   "cell_type": "markdown",
   "id": "e723cc80-96dc-4a36-a93f-a2fe9b38a2f8",
   "metadata": {},
   "source": [
    "In order to get the distribution of our test statistic under the null hypothesis, we first need to repeatedly simulate the dataset that we have available---in other words, simulate survey responses for the group with pets and the group without pets. We can do this by randomly selecting our simulated \"Group A\" responses from the combined distribution (without replacement), and leaving the remaining responses in our simulated \"Group B\". An equivalent (but easier) way to implement this in code is to randomly shuffle the order of the group labels:"
   ]
  },
  {
   "cell_type": "code",
   "execution_count": 27,
   "id": "21d35bb7-7cc1-48a1-ada9-1f3e949981c6",
   "metadata": {},
   "outputs": [
    {
     "data": {
      "text/plain": [
       "array([False, False,  True,  True, False,  True,  True,  True, False,\n",
       "       False, False,  True,  True, False,  True, False, False,  True,\n",
       "        True, False, False, False,  True, False,  True,  True, False,\n",
       "        True,  True,  True, False,  True,  True, False,  True,  True,\n",
       "        True,  True,  True,  True,  True,  True,  True,  True,  True,\n",
       "        True, False,  True, False,  True, False,  True, False,  True,\n",
       "        True, False,  True,  True, False, False,  True,  True, False,\n",
       "       False,  True,  True, False,  True,  True,  True, False,  True,\n",
       "        True, False,  True], dtype=bool)"
      ]
     },
     "execution_count": 27,
     "metadata": {},
     "output_type": "execute_result"
    }
   ],
   "source": [
    "# Randomly shuffle (i.e., re-order) the group labels\n",
    "# This preserves the original size of each group\n",
    "shuffled_group_label = pets_exercise_w23.sample(with_replacement=False).column('at_least_one_pet')\n",
    "shuffled_group_label"
   ]
  },
  {
   "cell_type": "code",
   "execution_count": 28,
   "id": "6b53adc4-6190-4cd9-8129-ab810c7e3275",
   "metadata": {},
   "outputs": [
    {
     "data": {
      "text/html": [
       "<table border=\"1\" class=\"dataframe\">\n",
       "    <thead>\n",
       "        <tr>\n",
       "            <th>Exercise</th> <th>Group</th>\n",
       "        </tr>\n",
       "    </thead>\n",
       "    <tbody>\n",
       "        <tr>\n",
       "            <td>10      </td> <td>False</td>\n",
       "        </tr>\n",
       "        <tr>\n",
       "            <td>5       </td> <td>False</td>\n",
       "        </tr>\n",
       "        <tr>\n",
       "            <td>12      </td> <td>True </td>\n",
       "        </tr>\n",
       "        <tr>\n",
       "            <td>2       </td> <td>True </td>\n",
       "        </tr>\n",
       "        <tr>\n",
       "            <td>2       </td> <td>False</td>\n",
       "        </tr>\n",
       "        <tr>\n",
       "            <td>2       </td> <td>True </td>\n",
       "        </tr>\n",
       "        <tr>\n",
       "            <td>11      </td> <td>True </td>\n",
       "        </tr>\n",
       "        <tr>\n",
       "            <td>7       </td> <td>True </td>\n",
       "        </tr>\n",
       "        <tr>\n",
       "            <td>5       </td> <td>False</td>\n",
       "        </tr>\n",
       "        <tr>\n",
       "            <td>2       </td> <td>False</td>\n",
       "        </tr>\n",
       "    </tbody>\n",
       "</table>\n",
       "<p>... (65 rows omitted)</p>"
      ],
      "text/plain": [
       "Exercise | Group\n",
       "10       | False\n",
       "5        | False\n",
       "12       | True\n",
       "2        | True\n",
       "2        | False\n",
       "2        | True\n",
       "11       | True\n",
       "7        | True\n",
       "5        | False\n",
       "2        | False\n",
       "... (65 rows omitted)"
      ]
     },
     "execution_count": 28,
     "metadata": {},
     "output_type": "execute_result"
    }
   ],
   "source": [
    "# Add the suffled labels to a table with the values of Exercise in their original order\n",
    "# In effect, we have randomly sampled Group A and Group B from the combined distribution of Exercise\n",
    "shuffled_table = Table().with_columns(\n",
    "        'Exercise', pets_exercise_w23.column('Exercise'),\n",
    "        'Group', shuffled_group_label)\n",
    "shuffled_table"
   ]
  },
  {
   "cell_type": "markdown",
   "id": "3c667120-1738-48ca-9d50-42e28efeceb2",
   "metadata": {},
   "source": [
    "Then it's easy to compute the simulated value of our test statistic, using the `difference_of_means` function."
   ]
  },
  {
   "cell_type": "code",
   "execution_count": 29,
   "id": "6f451390-4ced-4f89-a313-e7516a0138d7",
   "metadata": {},
   "outputs": [
    {
     "data": {
      "text/plain": [
       "0.9422492401215798"
      ]
     },
     "execution_count": 29,
     "metadata": {},
     "output_type": "execute_result"
    }
   ],
   "source": [
    "difference_of_means(shuffled_table, 'Exercise', 'Group')"
   ]
  },
  {
   "cell_type": "markdown",
   "id": "8ea916c1-7896-4024-871e-2b63fd277b72",
   "metadata": {},
   "source": [
    "As usual, we will repeat this simulation process many times, constructing an array of simulated test statistics using the `np.append` method."
   ]
  },
  {
   "cell_type": "code",
   "execution_count": 30,
   "id": "984ccebd-a8e7-4a06-a42d-88bcefe845c0",
   "metadata": {},
   "outputs": [],
   "source": [
    "simulated_test_stats = make_array()\n",
    "\n",
    "for i in range(2000):\n",
    "\n",
    "    # Shuffle the group labels\n",
    "    shuffled_group_label = pets_exercise_w23.sample(with_replacement=False).column('at_least_one_pet')\n",
    "\n",
    "    # Make a table with original exercise values and shuffled group labels\n",
    "    shuffled_table = Table().with_columns(\n",
    "        'Exercise', pets_exercise_w23.column('Exercise'),\n",
    "        'Group', shuffled_group_label)\n",
    "    \n",
    "    # Calculate the test statistic\n",
    "    group_means = shuffled_table.group('Group', np.mean)\n",
    "    simulated_test_stat = group_means.column(1).item(1) - group_means.column(1).item(0)\n",
    "    \n",
    "    simulated_test_stats = np.append(simulated_test_stats, simulated_test_stat)"
   ]
  },
  {
   "cell_type": "markdown",
   "id": "e1219572-7186-44ce-9b7e-3e27571e2669",
   "metadata": {},
   "source": [
    "Finally, we plot a histogram of the distribution of test statistics under the null hypothesis, and we compare it our observed value:"
   ]
  },
  {
   "cell_type": "code",
   "execution_count": 31,
   "id": "90e50b9d-a749-417d-bd62-3816da558be8",
   "metadata": {},
   "outputs": [
    {
     "data": {
      "image/png": "[encoded data removed]",
      "text/plain": [
       "<Figure size 600x400 with 1 Axes>"
      ]
     },
     "metadata": {},
     "output_type": "display_data"
    }
   ],
   "source": [
    "Table().with_column('Test Stat Under the Null', simulated_test_stats).hist()\n",
    "\n",
    "# Mark the observed value of the test statistic\n",
    "plots.scatter(observed_test_stat, 0, color='red', s=40)\n",
    "plots.ylim([-0.05, 0.5]);"
   ]
  },
  {
   "cell_type": "markdown",
   "id": "44848139-34a5-47e9-b6be-b52afbf7f137",
   "metadata": {},
   "source": [
    "**Question:** how can I estimate the $p$-value of this test?\n",
    "\n",
    "(a) Since positive values of the test statistic support the alternative hypothesis, calculate the fraction of simulated test statistics that are negative.\n",
    "\n",
    "(b) Since positive values of the test statistic support the alternative hypothesis, calculate the fraction of simulated test statistics that are positive.\n",
    "\n",
    "(c) Calculate the fraction of simulated test statistics that are *at least* as large as the observed value.\n",
    "\n",
    "(d) Calculate the fraction of simulated test statistics that are *at most* as large as the observed value."
   ]
  },
  {
   "cell_type": "code",
   "execution_count": 32,
   "id": "9d704063-610b-4238-b8e1-faf6d9543d56",
   "metadata": {},
   "outputs": [],
   "source": [
    "# Estimate the p-value\n",
    "# Answer: (c)"
   ]
  },
  {
   "cell_type": "code",
   "execution_count": 33,
   "id": "209de3cf",
   "metadata": {},
   "outputs": [
    {
     "data": {
      "text/plain": [
       "0.012500000000000001"
      ]
     },
     "execution_count": 33,
     "metadata": {},
     "output_type": "execute_result"
    }
   ],
   "source": [
    "np.mean(simulated_test_stats >= observed_test_stat)"
   ]
  },
  {
   "cell_type": "markdown",
   "id": "d88e4a14-cd8e-4d6c-a9d5-90c3655cb458",
   "metadata": {},
   "source": [
    "**Question:** what is the outcome of this test?\n",
    "\n",
    "(a) We fail to reject the null hypothesis. \n",
    "\n",
    "(b) We reject the null hypothesis (the result is statistically significant).\n",
    "\n",
    "(c) We reject the null hypothesis (the result is highly statistically significant).\n",
    "\n",
    "(d) We have proven the null hypothesis to be true."
   ]
  },
  {
   "cell_type": "code",
   "execution_count": null,
   "id": "c0e3c9b9-88e0-48b9-97f9-7d8cb051b676",
   "metadata": {},
   "outputs": [],
   "source": [
    "# (b)"
   ]
  },
  {
   "cell_type": "markdown",
   "id": "c7c9a2c5-3e30-406e-b365-06bbd9759668",
   "metadata": {},
   "source": [
    "**Question:** Suppose that our statistics journal only accepts highly statistically significant results. Which of the following is *not* true?\n",
    "\n",
    "(a) We require the area of the tail to be less than 1% in order to reject the null hypothesis.\n",
    "\n",
    "(b) At a significance threshold of 0.01, if the null hypothesis is correct, there is still a 1% chance that we will (incorrectly) reject the null hypothesis.\n",
    "\n",
    "(c) If we have published 100 statistically significant results, it is possible that one or two of them are actually incorrect, even if the hypothesis test was done correctly ([relevant xkcd](https://xkcd.com/882/)).\n",
    "\n",
    "(d) If $p = 0.01$, there is a 1% chance that the null hypothesis is true."
   ]
  },
  {
   "cell_type": "code",
   "execution_count": null,
   "id": "97251840-7b50-448e-a13c-42cd30038ff8",
   "metadata": {},
   "outputs": [],
   "source": [
    "# Answer: (d)"
   ]
  }
 ],
 "metadata": {
  "kernelspec": {
   "display_name": "Python 3 (ipykernel)",
   "language": "python",
   "name": "python3"
  },
  "language_info": {
   "codemirror_mode": {
    "name": "ipython",
    "version": 3
   },
   "file_extension": ".py",
   "mimetype": "text/x-python",
   "name": "python",
   "nbconvert_exporter": "python",
   "pygments_lexer": "ipython3",
   "version": "3.10.8"
  },
  "toc": {
   "base_numbering": 1,
   "nav_menu": {},
   "number_sections": true,
   "sideBar": true,
   "skip_h1_title": false,
   "title_cell": "Table of Contents",
   "title_sidebar": "Contents",
   "toc_cell": false,
   "toc_position": {},
   "toc_section_display": true,
   "toc_window_display": false
  }
 },
 "nbformat": 4,
 "nbformat_minor": 5
}
