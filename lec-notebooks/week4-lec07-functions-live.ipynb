{
 "cells": [
  {
   "cell_type": "code",
   "execution_count": 2,
   "metadata": {},
   "outputs": [],
   "source": [
    "from datascience import *\n",
    "import numpy as np \n",
    "\n",
    "%matplotlib inline\n",
    "import matplotlib.pyplot as plots\n",
    "plots.style.use('fivethirtyeight')\n",
    "\n",
    "from IPython.display import Image"
   ]
  },
  {
   "cell_type": "markdown",
   "metadata": {},
   "source": [
    "# Lecture 7"
   ]
  },
  {
   "cell_type": "markdown",
   "metadata": {},
   "source": [
    "## Class Data Survey\n",
    "\n",
    "Please fill out the following survey before Wednesday's lecture:\n",
    "https://forms.gle/wv67cXJN6o83vqDbA\n",
    "\n",
    "We will use the data as a (hopefully) interesting case study for learning the `group` method next class. (Individuals will not be identified, and you are free to skip whatever questions you'd like.)"
   ]
  },
  {
   "cell_type": "markdown",
   "metadata": {},
   "source": [
    "## Histograms"
   ]
  },
  {
   "cell_type": "markdown",
   "metadata": {},
   "source": [
    "We will briefly review histograms. First, load the table of top movies from 2017, and add a column containing the age of each movie:"
   ]
  },
  {
   "cell_type": "code",
   "execution_count": 3,
   "metadata": {},
   "outputs": [
    {
     "data": {
      "text/html": [
       "<table border=\"1\" class=\"dataframe\">\n",
       "    <thead>\n",
       "        <tr>\n",
       "            <th>Title</th> <th>Studio</th> <th>Gross</th> <th>Gross (Adjusted)</th> <th>Year</th> <th>Age</th>\n",
       "        </tr>\n",
       "    </thead>\n",
       "    <tbody>\n",
       "        <tr>\n",
       "            <td>Gone with the Wind              </td> <td>MGM            </td> <td>198676459</td> <td>1796176700      </td> <td>1939</td> <td>84  </td>\n",
       "        </tr>\n",
       "        <tr>\n",
       "            <td>Star Wars                       </td> <td>Fox            </td> <td>460998007</td> <td>1583483200      </td> <td>1977</td> <td>46  </td>\n",
       "        </tr>\n",
       "        <tr>\n",
       "            <td>The Sound of Music              </td> <td>Fox            </td> <td>158671368</td> <td>1266072700      </td> <td>1965</td> <td>58  </td>\n",
       "        </tr>\n",
       "        <tr>\n",
       "            <td>E.T.: The Extra-Terrestrial     </td> <td>Universal      </td> <td>435110554</td> <td>1261085000      </td> <td>1982</td> <td>41  </td>\n",
       "        </tr>\n",
       "        <tr>\n",
       "            <td>Titanic                         </td> <td>Paramount      </td> <td>658672302</td> <td>1204368000      </td> <td>1997</td> <td>26  </td>\n",
       "        </tr>\n",
       "        <tr>\n",
       "            <td>The Ten Commandments            </td> <td>Paramount      </td> <td>65500000 </td> <td>1164590000      </td> <td>1956</td> <td>67  </td>\n",
       "        </tr>\n",
       "        <tr>\n",
       "            <td>Jaws                            </td> <td>Universal      </td> <td>260000000</td> <td>1138620700      </td> <td>1975</td> <td>48  </td>\n",
       "        </tr>\n",
       "        <tr>\n",
       "            <td>Doctor Zhivago                  </td> <td>MGM            </td> <td>111721910</td> <td>1103564200      </td> <td>1965</td> <td>58  </td>\n",
       "        </tr>\n",
       "        <tr>\n",
       "            <td>The Exorcist                    </td> <td>Warner Brothers</td> <td>232906145</td> <td>983226600       </td> <td>1973</td> <td>50  </td>\n",
       "        </tr>\n",
       "        <tr>\n",
       "            <td>Snow White and the Seven Dwarves</td> <td>Disney         </td> <td>184925486</td> <td>969010000       </td> <td>1937</td> <td>86  </td>\n",
       "        </tr>\n",
       "    </tbody>\n",
       "</table>\n",
       "<p>... (190 rows omitted)</p>"
      ],
      "text/plain": [
       "Title                            | Studio          | Gross     | Gross (Adjusted) | Year | Age\n",
       "Gone with the Wind               | MGM             | 198676459 | 1796176700       | 1939 | 84\n",
       "Star Wars                        | Fox             | 460998007 | 1583483200       | 1977 | 46\n",
       "The Sound of Music               | Fox             | 158671368 | 1266072700       | 1965 | 58\n",
       "E.T.: The Extra-Terrestrial      | Universal       | 435110554 | 1261085000       | 1982 | 41\n",
       "Titanic                          | Paramount       | 658672302 | 1204368000       | 1997 | 26\n",
       "The Ten Commandments             | Paramount       | 65500000  | 1164590000       | 1956 | 67\n",
       "Jaws                             | Universal       | 260000000 | 1138620700       | 1975 | 48\n",
       "Doctor Zhivago                   | MGM             | 111721910 | 1103564200       | 1965 | 58\n",
       "The Exorcist                     | Warner Brothers | 232906145 | 983226600        | 1973 | 50\n",
       "Snow White and the Seven Dwarves | Disney          | 184925486 | 969010000        | 1937 | 86\n",
       "... (190 rows omitted)"
      ]
     },
     "execution_count": 3,
     "metadata": {},
     "output_type": "execute_result"
    }
   ],
   "source": [
    "# Highest grossing movies as of 2017\n",
    "top_movies = Table.read_table('data/top_movies_2017.csv')\n",
    "\n",
    "# Add a column of ages\n",
    "ages = 2023 - top_movies.column('Year')\n",
    "top_movies = top_movies.with_column('Age', ages)\n",
    "\n",
    "top_movies "
   ]
  },
  {
   "cell_type": "markdown",
   "metadata": {},
   "source": [
    "Remember that *bins* are defined by an array, and we can use the `hist` method to visualize the distribution of ages with a histogram:"
   ]
  },
  {
   "cell_type": "code",
   "execution_count": 4,
   "metadata": {},
   "outputs": [
    {
     "data": {
      "image/png": "[encoded data removed]",
      "text/plain": [
       "<Figure size 600x400 with 1 Axes>"
      ]
     },
     "metadata": {},
     "output_type": "display_data"
    }
   ],
   "source": [
    "# Define the bins [0, 5), [5, 10), [10, 15), ..., [65, 102]\n",
    "my_bins = make_array(0, 5, 10, 15, 25, 40, 65, 102)\n",
    "\n",
    "top_movies.hist('Age', bins = my_bins, unit = 'Year')"
   ]
  },
  {
   "cell_type": "markdown",
   "metadata": {},
   "source": [
    "If we don't want to specify bins ourselves, we can omit the `bins=my_bins` argument, and let Python select bins for us:"
   ]
  },
  {
   "cell_type": "code",
   "execution_count": 5,
   "metadata": {},
   "outputs": [
    {
     "data": {
      "image/png": "[encoded data removed]",
      "text/plain": [
       "<Figure size 600x400 with 1 Axes>"
      ]
     },
     "metadata": {},
     "output_type": "display_data"
    }
   ],
   "source": [
    "top_movies.hist('Age', unit = 'Year')"
   ]
  },
  {
   "cell_type": "markdown",
   "metadata": {},
   "source": [
    "## Lists\n",
    "\n",
    "Much like arrays, lists are another way of storing sequences in Python. You can create a new list using square brackets `[` and `]`:"
   ]
  },
  {
   "cell_type": "code",
   "execution_count": 6,
   "metadata": {},
   "outputs": [],
   "source": [
    "# To create an array:\n",
    "arr = make_array(1, 2, 3, 4, 10)"
   ]
  },
  {
   "cell_type": "code",
   "execution_count": 7,
   "metadata": {},
   "outputs": [],
   "source": [
    "# To make a list:\n",
    "L = [1, 2, 3, 4, 10]"
   ]
  },
  {
   "cell_type": "code",
   "execution_count": 8,
   "metadata": {},
   "outputs": [],
   "source": [
    "# Define our first list\n",
    "L = [42, 'capybara', min, make_array(1, 2, 3, 4)]"
   ]
  },
  {
   "cell_type": "markdown",
   "metadata": {},
   "source": [
    "This list has 4 elements. You can confirm this using the `len` function:"
   ]
  },
  {
   "cell_type": "code",
   "execution_count": 9,
   "metadata": {},
   "outputs": [
    {
     "data": {
      "text/plain": [
       "4"
      ]
     },
     "execution_count": 9,
     "metadata": {},
     "output_type": "execute_result"
    }
   ],
   "source": [
    "len(L)"
   ]
  },
  {
   "cell_type": "markdown",
   "metadata": {},
   "source": [
    "Individual elements of a list can also be accessed using square brackets:"
   ]
  },
  {
   "cell_type": "code",
   "execution_count": 12,
   "metadata": {},
   "outputs": [
    {
     "data": {
      "text/plain": [
       "1"
      ]
     },
     "execution_count": 12,
     "metadata": {},
     "output_type": "execute_result"
    }
   ],
   "source": [
    "arr.item(0) # Use item to access array entries"
   ]
  },
  {
   "cell_type": "code",
   "execution_count": 13,
   "metadata": {},
   "outputs": [
    {
     "ename": "AttributeError",
     "evalue": "'list' object has no attribute 'item'",
     "output_type": "error",
     "traceback": [
      "\u001b[0;31m---------------------------------------------------------------------------\u001b[0m",
      "\u001b[0;31mAttributeError\u001b[0m                            Traceback (most recent call last)",
      "Cell \u001b[0;32mIn[13], line 1\u001b[0m\n\u001b[0;32m----> 1\u001b[0m \u001b[43mL\u001b[49m\u001b[38;5;241;43m.\u001b[39;49m\u001b[43mitem\u001b[49m(\u001b[38;5;241m0\u001b[39m) \u001b[38;5;66;03m# Will this work?\u001b[39;00m\n",
      "\u001b[0;31mAttributeError\u001b[0m: 'list' object has no attribute 'item'"
     ]
    }
   ],
   "source": [
    "L.item(0) # Will this work?"
   ]
  },
  {
   "cell_type": "code",
   "execution_count": 14,
   "metadata": {},
   "outputs": [
    {
     "data": {
      "text/plain": [
       "42"
      ]
     },
     "execution_count": 14,
     "metadata": {},
     "output_type": "execute_result"
    }
   ],
   "source": [
    "L[0]"
   ]
  },
  {
   "cell_type": "code",
   "execution_count": 15,
   "metadata": {},
   "outputs": [
    {
     "data": {
      "text/plain": [
       "'capybara'"
      ]
     },
     "execution_count": 15,
     "metadata": {},
     "output_type": "execute_result"
    }
   ],
   "source": [
    "L[1]"
   ]
  },
  {
   "cell_type": "markdown",
   "metadata": {},
   "source": [
    "**Question:** the last element of `L` is an array. How can you look up the first element of this array?"
   ]
  },
  {
   "cell_type": "code",
   "execution_count": 18,
   "metadata": {},
   "outputs": [
    {
     "data": {
      "text/plain": [
       "1"
      ]
     },
     "execution_count": 18,
     "metadata": {},
     "output_type": "execute_result"
    }
   ],
   "source": [
    "L[3].item(0)"
   ]
  },
  {
   "cell_type": "markdown",
   "metadata": {},
   "source": [
    "We can use lists to add new rows to a table. Let's load a table of top movies each year:"
   ]
  },
  {
   "cell_type": "code",
   "execution_count": 20,
   "metadata": {},
   "outputs": [
    {
     "data": {
      "text/html": [
       "<table border=\"1\" class=\"dataframe\">\n",
       "    <thead>\n",
       "        <tr>\n",
       "            <th>Title</th> <th>Studio</th> <th>Gross</th> <th>Gross (Adjusted)</th> <th>Year</th> <th>Age</th>\n",
       "        </tr>\n",
       "    </thead>\n",
       "    <tbody>\n",
       "        <tr>\n",
       "            <td>Gone with the Wind              </td> <td>MGM            </td> <td>198676459</td> <td>1796176700      </td> <td>1939</td> <td>84  </td>\n",
       "        </tr>\n",
       "        <tr>\n",
       "            <td>Star Wars                       </td> <td>Fox            </td> <td>460998007</td> <td>1583483200      </td> <td>1977</td> <td>46  </td>\n",
       "        </tr>\n",
       "        <tr>\n",
       "            <td>The Sound of Music              </td> <td>Fox            </td> <td>158671368</td> <td>1266072700      </td> <td>1965</td> <td>58  </td>\n",
       "        </tr>\n",
       "        <tr>\n",
       "            <td>E.T.: The Extra-Terrestrial     </td> <td>Universal      </td> <td>435110554</td> <td>1261085000      </td> <td>1982</td> <td>41  </td>\n",
       "        </tr>\n",
       "        <tr>\n",
       "            <td>Titanic                         </td> <td>Paramount      </td> <td>658672302</td> <td>1204368000      </td> <td>1997</td> <td>26  </td>\n",
       "        </tr>\n",
       "        <tr>\n",
       "            <td>The Ten Commandments            </td> <td>Paramount      </td> <td>65500000 </td> <td>1164590000      </td> <td>1956</td> <td>67  </td>\n",
       "        </tr>\n",
       "        <tr>\n",
       "            <td>Jaws                            </td> <td>Universal      </td> <td>260000000</td> <td>1138620700      </td> <td>1975</td> <td>48  </td>\n",
       "        </tr>\n",
       "        <tr>\n",
       "            <td>Doctor Zhivago                  </td> <td>MGM            </td> <td>111721910</td> <td>1103564200      </td> <td>1965</td> <td>58  </td>\n",
       "        </tr>\n",
       "        <tr>\n",
       "            <td>The Exorcist                    </td> <td>Warner Brothers</td> <td>232906145</td> <td>983226600       </td> <td>1973</td> <td>50  </td>\n",
       "        </tr>\n",
       "        <tr>\n",
       "            <td>Snow White and the Seven Dwarves</td> <td>Disney         </td> <td>184925486</td> <td>969010000       </td> <td>1937</td> <td>86  </td>\n",
       "        </tr>\n",
       "    </tbody>\n",
       "</table>\n",
       "<p>... (190 rows omitted)</p>"
      ],
      "text/plain": [
       "Title                            | Studio          | Gross     | Gross (Adjusted) | Year | Age\n",
       "Gone with the Wind               | MGM             | 198676459 | 1796176700       | 1939 | 84\n",
       "Star Wars                        | Fox             | 460998007 | 1583483200       | 1977 | 46\n",
       "The Sound of Music               | Fox             | 158671368 | 1266072700       | 1965 | 58\n",
       "E.T.: The Extra-Terrestrial      | Universal       | 435110554 | 1261085000       | 1982 | 41\n",
       "Titanic                          | Paramount       | 658672302 | 1204368000       | 1997 | 26\n",
       "The Ten Commandments             | Paramount       | 65500000  | 1164590000       | 1956 | 67\n",
       "Jaws                             | Universal       | 260000000 | 1138620700       | 1975 | 48\n",
       "Doctor Zhivago                   | MGM             | 111721910 | 1103564200       | 1965 | 58\n",
       "The Exorcist                     | Warner Brothers | 232906145 | 983226600        | 1973 | 50\n",
       "Snow White and the Seven Dwarves | Disney          | 184925486 | 969010000        | 1937 | 86\n",
       "... (190 rows omitted)"
      ]
     },
     "execution_count": 20,
     "metadata": {},
     "output_type": "execute_result"
    }
   ],
   "source": [
    "top_movies"
   ]
  },
  {
   "cell_type": "code",
   "execution_count": 25,
   "metadata": {},
   "outputs": [
    {
     "data": {
      "text/html": [
       "<table border=\"1\" class=\"dataframe\">\n",
       "    <thead>\n",
       "        <tr>\n",
       "            <th>Title</th> <th>Studio</th> <th>Gross</th> <th>Gross (Adjusted)</th> <th>Year</th> <th>Age</th>\n",
       "        </tr>\n",
       "    </thead>\n",
       "    <tbody>\n",
       "        <tr>\n",
       "            <td>Avatar                        </td> <td>Sony           </td> <td>2.9e+09    </td> <td>2.9e+09         </td> <td>2022</td> <td>1   </td>\n",
       "        </tr>\n",
       "        <tr>\n",
       "            <td>Beauty and the Beast (2017)   </td> <td>Buena Vista    </td> <td>5.04014e+08</td> <td>5.04014e+08     </td> <td>2017</td> <td>6   </td>\n",
       "        </tr>\n",
       "        <tr>\n",
       "            <td>Wonder Woman                  </td> <td>Warner Brothers</td> <td>4.06382e+08</td> <td>4.06382e+08     </td> <td>2017</td> <td>6   </td>\n",
       "        </tr>\n",
       "        <tr>\n",
       "            <td>Guardians of the Galaxy Vol. 2</td> <td>Buena Vista    </td> <td>3.89397e+08</td> <td>3.89397e+08     </td> <td>2017</td> <td>6   </td>\n",
       "        </tr>\n",
       "        <tr>\n",
       "            <td>Rogue One: A Star Wars Story  </td> <td>Buena Vista    </td> <td>5.32177e+08</td> <td>5.37326e+08     </td> <td>2016</td> <td>7   </td>\n",
       "        </tr>\n",
       "        <tr>\n",
       "            <td>Finding Dory                  </td> <td>Buena Vista    </td> <td>4.86296e+08</td> <td>4.99245e+08     </td> <td>2016</td> <td>7   </td>\n",
       "        </tr>\n",
       "        <tr>\n",
       "            <td>Captain America: Civil War    </td> <td>Buena Vista    </td> <td>4.08084e+08</td> <td>4.15654e+08     </td> <td>2016</td> <td>7   </td>\n",
       "        </tr>\n",
       "        <tr>\n",
       "            <td>The Secret Life of Pets       </td> <td>Universal      </td> <td>3.68384e+08</td> <td>3.84704e+08     </td> <td>2016</td> <td>7   </td>\n",
       "        </tr>\n",
       "        <tr>\n",
       "            <td>Deadpool                      </td> <td>Fox            </td> <td>3.63071e+08</td> <td>3.75985e+08     </td> <td>2016</td> <td>7   </td>\n",
       "        </tr>\n",
       "        <tr>\n",
       "            <td>The Jungle Book (2016)        </td> <td>Buena Vista    </td> <td>3.64001e+08</td> <td>3.70808e+08     </td> <td>2016</td> <td>7   </td>\n",
       "        </tr>\n",
       "    </tbody>\n",
       "</table>\n",
       "<p>... (191 rows omitted)</p>"
      ],
      "text/plain": [
       "Title                          | Studio          | Gross       | Gross (Adjusted) | Year | Age\n",
       "Avatar                         | Sony            | 2.9e+09     | 2.9e+09          | 2022 | 1\n",
       "Beauty and the Beast (2017)    | Buena Vista     | 5.04014e+08 | 5.04014e+08      | 2017 | 6\n",
       "Wonder Woman                   | Warner Brothers | 4.06382e+08 | 4.06382e+08      | 2017 | 6\n",
       "Guardians of the Galaxy Vol. 2 | Buena Vista     | 3.89397e+08 | 3.89397e+08      | 2017 | 6\n",
       "Rogue One: A Star Wars Story   | Buena Vista     | 5.32177e+08 | 5.37326e+08      | 2016 | 7\n",
       "Finding Dory                   | Buena Vista     | 4.86296e+08 | 4.99245e+08      | 2016 | 7\n",
       "Captain America: Civil War     | Buena Vista     | 4.08084e+08 | 4.15654e+08      | 2016 | 7\n",
       "The Secret Life of Pets        | Universal       | 3.68384e+08 | 3.84704e+08      | 2016 | 7\n",
       "Deadpool                       | Fox             | 3.63071e+08 | 3.75985e+08      | 2016 | 7\n",
       "The Jungle Book (2016)         | Buena Vista     | 3.64001e+08 | 3.70808e+08      | 2016 | 7\n",
       "... (191 rows omitted)"
      ]
     },
     "execution_count": 25,
     "metadata": {},
     "output_type": "execute_result"
    }
   ],
   "source": [
    "new_row = ['Avatar', 'Sony', 2.9 * 10 ** 9, 2.9 * 10 ** 9, 2022, 1]\n",
    "top_movies.with_row(new_row).sort('Age')"
   ]
  },
  {
   "cell_type": "markdown",
   "metadata": {},
   "source": [
    "## Functions ##"
   ]
  },
  {
   "cell_type": "markdown",
   "metadata": {},
   "source": [
    "Let's start out by defining a simple function. Given an array of numbers `values`, define `spread(values)` to be the difference between the max and min value:"
   ]
  },
  {
   "cell_type": "code",
   "execution_count": 29,
   "metadata": {},
   "outputs": [],
   "source": [
    "# A normal Python comment"
   ]
  },
  {
   "cell_type": "code",
   "execution_count": 27,
   "metadata": {},
   "outputs": [],
   "source": [
    "def spread(arr):\n",
    "    \"\"\"\n",
    "    Takes a set of values and computes the difference between the max and min value.\n",
    "    (Using triple quotes, I can write a string on multiple lines.)\n",
    "    This string serves as a comment, called a 'docstring.'\n",
    "    \"\"\"\n",
    "    return max(arr) - min(arr)"
   ]
  },
  {
   "cell_type": "code",
   "execution_count": 30,
   "metadata": {},
   "outputs": [
    {
     "name": "stdout",
     "output_type": "stream",
     "text": [
      "Help on function spread in module __main__:\n",
      "\n",
      "spread(values)\n",
      "    Takes a set of values and computes the difference between the max and min value.\n",
      "    (Using triple quotes, I can write a string on multiple lines.)\n",
      "    This string serves as a comment, called a 'docstring.'\n",
      "\n"
     ]
    }
   ],
   "source": [
    "help(spread)"
   ]
  },
  {
   "cell_type": "code",
   "execution_count": 28,
   "metadata": {},
   "outputs": [
    {
     "data": {
      "text/plain": [
       "14"
      ]
     },
     "execution_count": 28,
     "metadata": {},
     "output_type": "execute_result"
    }
   ],
   "source": [
    "ages = make_array(18, 20, 22, 32)\n",
    "spread(ages)"
   ]
  },
  {
   "cell_type": "markdown",
   "metadata": {},
   "source": [
    "Here's another example of a function:"
   ]
  },
  {
   "cell_type": "markdown",
   "metadata": {},
   "source": [
    "**Question:** define a function `triple` that takes a single input `x` and triples its value:"
   ]
  },
  {
   "cell_type": "code",
   "execution_count": 31,
   "metadata": {},
   "outputs": [],
   "source": [
    "def triple(x):\n",
    "    return x * 3"
   ]
  },
  {
   "cell_type": "code",
   "execution_count": 32,
   "metadata": {},
   "outputs": [
    {
     "data": {
      "text/plain": [
       "9"
      ]
     },
     "execution_count": 32,
     "metadata": {},
     "output_type": "execute_result"
    }
   ],
   "source": [
    "triple(3)"
   ]
  },
  {
   "cell_type": "code",
   "execution_count": 33,
   "metadata": {},
   "outputs": [
    {
     "data": {
      "text/plain": [
       "12"
      ]
     },
     "execution_count": 33,
     "metadata": {},
     "output_type": "execute_result"
    }
   ],
   "source": [
    "num = 4\n",
    "triple(num)"
   ]
  },
  {
   "cell_type": "code",
   "execution_count": 34,
   "metadata": {},
   "outputs": [
    {
     "data": {
      "text/plain": [
       "60"
      ]
     },
     "execution_count": 34,
     "metadata": {},
     "output_type": "execute_result"
    }
   ],
   "source": [
    "triple(num * 5)"
   ]
  },
  {
   "cell_type": "markdown",
   "metadata": {},
   "source": [
    "**Discussion question:** What does the function below do?\n",
    "What kind of input does it take?\n",
    "What output will it give?\n",
    "What's a reasonable name?"
   ]
  },
  {
   "cell_type": "code",
   "execution_count": 36,
   "metadata": {},
   "outputs": [],
   "source": [
    "def percentages(s):\n",
    "    percents = s / sum(s) * 100  # Define percents on a new line\n",
    "    return np.round(percents, 2)"
   ]
  },
  {
   "cell_type": "code",
   "execution_count": 37,
   "metadata": {},
   "outputs": [
    {
     "data": {
      "text/plain": [
       "array([ 15.07,  16.44,  68.49])"
      ]
     },
     "execution_count": 37,
     "metadata": {},
     "output_type": "execute_result"
    }
   ],
   "source": [
    "s = make_array(1.1, 1.2, 5.0)\n",
    "percentages(s)"
   ]
  },
  {
   "cell_type": "code",
   "execution_count": 38,
   "metadata": {},
   "outputs": [
    {
     "ename": "NameError",
     "evalue": "name 'percents' is not defined",
     "output_type": "error",
     "traceback": [
      "\u001b[0;31m---------------------------------------------------------------------------\u001b[0m",
      "\u001b[0;31mNameError\u001b[0m                                 Traceback (most recent call last)",
      "Cell \u001b[0;32mIn[38], line 1\u001b[0m\n\u001b[0;32m----> 1\u001b[0m \u001b[43mpercents\u001b[49m\n",
      "\u001b[0;31mNameError\u001b[0m: name 'percents' is not defined"
     ]
    }
   ],
   "source": [
    "percents # Doesn't work"
   ]
  },
  {
   "cell_type": "code",
   "execution_count": null,
   "metadata": {},
   "outputs": [],
   "source": [
    "# What does this function do?\n",
    "# Calculating percentages\n",
    "\n",
    "# What kind of input is reasonable for s?\n",
    "# An array of numbers!"
   ]
  },
  {
   "cell_type": "code",
   "execution_count": null,
   "metadata": {},
   "outputs": [],
   "source": [
    "# Suggestion: try breaking up the function into several steps\n",
    "# Test out what each step does with different values of s\n",
    "# ..."
   ]
  },
  {
   "cell_type": "markdown",
   "metadata": {},
   "source": [
    "Functions can also take in multiple arguments! Remember the Pythagorean Theorem? Let's define a function to compute the hypotenuse length for a right triangle with side lengths $x$ and $y$:\n",
    "\n",
    "$ h = \\sqrt{ x^2 + y^2 } $"
   ]
  },
  {
   "cell_type": "code",
   "execution_count": 39,
   "metadata": {},
   "outputs": [],
   "source": [
    "def hypotenuse(x, y):\n",
    "    \"\"\"\n",
    "    Compute the length of the hypotenuse for a right triangle with side lengths x and y.\n",
    "    \"\"\"\n",
    "    hypot_squared = x ** 2 + y ** 2\n",
    "    return np.sqrt(hypot_squared)"
   ]
  },
  {
   "cell_type": "code",
   "execution_count": 40,
   "metadata": {},
   "outputs": [
    {
     "data": {
      "text/plain": [
       "15.0"
      ]
     },
     "execution_count": 40,
     "metadata": {},
     "output_type": "execute_result"
    }
   ],
   "source": [
    "hypotenuse(9, 12)"
   ]
  },
  {
   "cell_type": "code",
   "execution_count": 41,
   "metadata": {},
   "outputs": [
    {
     "data": {
      "text/plain": [
       "2.8284271247461903"
      ]
     },
     "execution_count": 41,
     "metadata": {},
     "output_type": "execute_result"
    }
   ],
   "source": [
    "hypotenuse(2, 2)"
   ]
  },
  {
   "cell_type": "markdown",
   "metadata": {},
   "source": [
    "**Question:** If you drive $x$ miles in $t$ hours, then your average speed is $x / t$ miles per hour. Write a function called `average_speed` with two arguments `x` and `t` that returns average speed."
   ]
  },
  {
   "cell_type": "code",
   "execution_count": 42,
   "metadata": {},
   "outputs": [],
   "source": [
    "def average_speed(x, t):\n",
    "    return x / t"
   ]
  },
  {
   "cell_type": "code",
   "execution_count": 43,
   "metadata": {},
   "outputs": [
    {
     "data": {
      "text/plain": [
       "60.0"
      ]
     },
     "execution_count": 43,
     "metadata": {},
     "output_type": "execute_result"
    }
   ],
   "source": [
    "average_speed(120, 2)"
   ]
  },
  {
   "cell_type": "code",
   "execution_count": 45,
   "metadata": {},
   "outputs": [
    {
     "data": {
      "text/plain": [
       "'hello world'"
      ]
     },
     "execution_count": 45,
     "metadata": {},
     "output_type": "execute_result"
    }
   ],
   "source": [
    "def add_strings(s, t):\n",
    "    return s + t\n",
    "\n",
    "add_strings('hello ', 'world')"
   ]
  },
  {
   "cell_type": "code",
   "execution_count": 46,
   "metadata": {},
   "outputs": [
    {
     "data": {
      "text/plain": [
       "array([ 6,  8, 10, 12])"
      ]
     },
     "execution_count": 46,
     "metadata": {},
     "output_type": "execute_result"
    }
   ],
   "source": [
    "s = make_array(1, 2, 3, 4)\n",
    "t = make_array(5, 6, 7, 8)\n",
    "\n",
    "add_strings(s, t)"
   ]
  },
  {
   "cell_type": "markdown",
   "metadata": {},
   "source": [
    "## Apply"
   ]
  },
  {
   "cell_type": "markdown",
   "metadata": {},
   "source": [
    "The table method `apply` calls a function on every entry of a column (or multiple columns), returning an array with the results. Let's look at some basic examples."
   ]
  },
  {
   "cell_type": "markdown",
   "metadata": {},
   "source": [
    "Earlier, we loaded the table of top movies as of 2017, then added a column containing the age of each movie:"
   ]
  },
  {
   "cell_type": "code",
   "execution_count": 48,
   "metadata": {},
   "outputs": [
    {
     "data": {
      "text/html": [
       "<table border=\"1\" class=\"dataframe\">\n",
       "    <thead>\n",
       "        <tr>\n",
       "            <th>Title</th> <th>Studio</th> <th>Gross</th> <th>Gross (Adjusted)</th> <th>Year</th>\n",
       "        </tr>\n",
       "    </thead>\n",
       "    <tbody>\n",
       "        <tr>\n",
       "            <td>Gone with the Wind              </td> <td>MGM            </td> <td>198676459</td> <td>1796176700      </td> <td>1939</td>\n",
       "        </tr>\n",
       "        <tr>\n",
       "            <td>Star Wars                       </td> <td>Fox            </td> <td>460998007</td> <td>1583483200      </td> <td>1977</td>\n",
       "        </tr>\n",
       "        <tr>\n",
       "            <td>The Sound of Music              </td> <td>Fox            </td> <td>158671368</td> <td>1266072700      </td> <td>1965</td>\n",
       "        </tr>\n",
       "        <tr>\n",
       "            <td>E.T.: The Extra-Terrestrial     </td> <td>Universal      </td> <td>435110554</td> <td>1261085000      </td> <td>1982</td>\n",
       "        </tr>\n",
       "        <tr>\n",
       "            <td>Titanic                         </td> <td>Paramount      </td> <td>658672302</td> <td>1204368000      </td> <td>1997</td>\n",
       "        </tr>\n",
       "        <tr>\n",
       "            <td>The Ten Commandments            </td> <td>Paramount      </td> <td>65500000 </td> <td>1164590000      </td> <td>1956</td>\n",
       "        </tr>\n",
       "        <tr>\n",
       "            <td>Jaws                            </td> <td>Universal      </td> <td>260000000</td> <td>1138620700      </td> <td>1975</td>\n",
       "        </tr>\n",
       "        <tr>\n",
       "            <td>Doctor Zhivago                  </td> <td>MGM            </td> <td>111721910</td> <td>1103564200      </td> <td>1965</td>\n",
       "        </tr>\n",
       "        <tr>\n",
       "            <td>The Exorcist                    </td> <td>Warner Brothers</td> <td>232906145</td> <td>983226600       </td> <td>1973</td>\n",
       "        </tr>\n",
       "        <tr>\n",
       "            <td>Snow White and the Seven Dwarves</td> <td>Disney         </td> <td>184925486</td> <td>969010000       </td> <td>1937</td>\n",
       "        </tr>\n",
       "    </tbody>\n",
       "</table>"
      ],
      "text/plain": [
       "Title                            | Studio          | Gross     | Gross (Adjusted) | Year\n",
       "Gone with the Wind               | MGM             | 198676459 | 1796176700       | 1939\n",
       "Star Wars                        | Fox             | 460998007 | 1583483200       | 1977\n",
       "The Sound of Music               | Fox             | 158671368 | 1266072700       | 1965\n",
       "E.T.: The Extra-Terrestrial      | Universal       | 435110554 | 1261085000       | 1982\n",
       "Titanic                          | Paramount       | 658672302 | 1204368000       | 1997\n",
       "The Ten Commandments             | Paramount       | 65500000  | 1164590000       | 1956\n",
       "Jaws                             | Universal       | 260000000 | 1138620700       | 1975\n",
       "Doctor Zhivago                   | MGM             | 111721910 | 1103564200       | 1965\n",
       "The Exorcist                     | Warner Brothers | 232906145 | 983226600        | 1973\n",
       "Snow White and the Seven Dwarves | Disney          | 184925486 | 969010000        | 1937"
      ]
     },
     "execution_count": 48,
     "metadata": {},
     "output_type": "execute_result"
    }
   ],
   "source": [
    "# Load the table of top movies from 2017\n",
    "# Remember this table doesn't have a column for movies ages---we had to calculate that ourselves\n",
    "top_movies_without_age = Table.read_table('data/top_movies_2017.csv')\n",
    "\n",
    "# Select only the top 10 movies so that we don't print out 200 rows\n",
    "top10 = top_movies_without_age.sort('Gross (Adjusted)', descending=True).take(np.arange(10))\n",
    "top10"
   ]
  },
  {
   "cell_type": "markdown",
   "metadata": {},
   "source": [
    "One way to get a column of ages (which we did earlier in this notebook) is to first extract the column of years as an array:"
   ]
  },
  {
   "cell_type": "code",
   "execution_count": 49,
   "metadata": {},
   "outputs": [
    {
     "data": {
      "text/html": [
       "<table border=\"1\" class=\"dataframe\">\n",
       "    <thead>\n",
       "        <tr>\n",
       "            <th>Title</th> <th>Studio</th> <th>Gross</th> <th>Gross (Adjusted)</th> <th>Year</th> <th>Age</th>\n",
       "        </tr>\n",
       "    </thead>\n",
       "    <tbody>\n",
       "        <tr>\n",
       "            <td>Gone with the Wind              </td> <td>MGM            </td> <td>198676459</td> <td>1796176700      </td> <td>1939</td> <td>84  </td>\n",
       "        </tr>\n",
       "        <tr>\n",
       "            <td>Star Wars                       </td> <td>Fox            </td> <td>460998007</td> <td>1583483200      </td> <td>1977</td> <td>46  </td>\n",
       "        </tr>\n",
       "        <tr>\n",
       "            <td>The Sound of Music              </td> <td>Fox            </td> <td>158671368</td> <td>1266072700      </td> <td>1965</td> <td>58  </td>\n",
       "        </tr>\n",
       "        <tr>\n",
       "            <td>E.T.: The Extra-Terrestrial     </td> <td>Universal      </td> <td>435110554</td> <td>1261085000      </td> <td>1982</td> <td>41  </td>\n",
       "        </tr>\n",
       "        <tr>\n",
       "            <td>Titanic                         </td> <td>Paramount      </td> <td>658672302</td> <td>1204368000      </td> <td>1997</td> <td>26  </td>\n",
       "        </tr>\n",
       "        <tr>\n",
       "            <td>The Ten Commandments            </td> <td>Paramount      </td> <td>65500000 </td> <td>1164590000      </td> <td>1956</td> <td>67  </td>\n",
       "        </tr>\n",
       "        <tr>\n",
       "            <td>Jaws                            </td> <td>Universal      </td> <td>260000000</td> <td>1138620700      </td> <td>1975</td> <td>48  </td>\n",
       "        </tr>\n",
       "        <tr>\n",
       "            <td>Doctor Zhivago                  </td> <td>MGM            </td> <td>111721910</td> <td>1103564200      </td> <td>1965</td> <td>58  </td>\n",
       "        </tr>\n",
       "        <tr>\n",
       "            <td>The Exorcist                    </td> <td>Warner Brothers</td> <td>232906145</td> <td>983226600       </td> <td>1973</td> <td>50  </td>\n",
       "        </tr>\n",
       "        <tr>\n",
       "            <td>Snow White and the Seven Dwarves</td> <td>Disney         </td> <td>184925486</td> <td>969010000       </td> <td>1937</td> <td>86  </td>\n",
       "        </tr>\n",
       "    </tbody>\n",
       "</table>"
      ],
      "text/plain": [
       "Title                            | Studio          | Gross     | Gross (Adjusted) | Year | Age\n",
       "Gone with the Wind               | MGM             | 198676459 | 1796176700       | 1939 | 84\n",
       "Star Wars                        | Fox             | 460998007 | 1583483200       | 1977 | 46\n",
       "The Sound of Music               | Fox             | 158671368 | 1266072700       | 1965 | 58\n",
       "E.T.: The Extra-Terrestrial      | Universal       | 435110554 | 1261085000       | 1982 | 41\n",
       "Titanic                          | Paramount       | 658672302 | 1204368000       | 1997 | 26\n",
       "The Ten Commandments             | Paramount       | 65500000  | 1164590000       | 1956 | 67\n",
       "Jaws                             | Universal       | 260000000 | 1138620700       | 1975 | 48\n",
       "Doctor Zhivago                   | MGM             | 111721910 | 1103564200       | 1965 | 58\n",
       "The Exorcist                     | Warner Brothers | 232906145 | 983226600        | 1973 | 50\n",
       "Snow White and the Seven Dwarves | Disney          | 184925486 | 969010000        | 1937 | 86"
      ]
     },
     "execution_count": 49,
     "metadata": {},
     "output_type": "execute_result"
    }
   ],
   "source": [
    "ages = 2023 - top10.column('Year')\n",
    "top10.with_column('Age', ages)  "
   ]
  },
  {
   "cell_type": "markdown",
   "metadata": {},
   "source": [
    "Another approach is to use the `apply` method."
   ]
  },
  {
   "cell_type": "markdown",
   "metadata": {},
   "source": [
    "**Question:** define a function called `get_age` which takes a single argument `movie_year` and returns the age of the movie."
   ]
  },
  {
   "cell_type": "code",
   "execution_count": 50,
   "metadata": {},
   "outputs": [],
   "source": [
    "def get_age(movie_year):\n",
    "    return 2023 - movie_year"
   ]
  },
  {
   "cell_type": "code",
   "execution_count": 51,
   "metadata": {},
   "outputs": [
    {
     "data": {
      "text/plain": [
       "1"
      ]
     },
     "execution_count": 51,
     "metadata": {},
     "output_type": "execute_result"
    }
   ],
   "source": [
    "get_age(2022)"
   ]
  },
  {
   "cell_type": "markdown",
   "metadata": {},
   "source": [
    "We can then **apply** our new `get_age` function to each row of the table, using the `apply` method:"
   ]
  },
  {
   "cell_type": "code",
   "execution_count": 52,
   "metadata": {},
   "outputs": [
    {
     "data": {
      "text/plain": [
       "array([84, 46, 58, 41, 26, 67, 48, 58, 50, 86])"
      ]
     },
     "execution_count": 52,
     "metadata": {},
     "output_type": "execute_result"
    }
   ],
   "source": [
    "# Apply takes two (or more) arguments:\n",
    "# First is the name of the function to apply \n",
    "# The remaining arguments are names of columns that we are applying the function to\n",
    "ages = top10.apply(get_age, 'Year')\n",
    "ages"
   ]
  },
  {
   "cell_type": "code",
   "execution_count": 53,
   "metadata": {},
   "outputs": [
    {
     "data": {
      "text/html": [
       "<table border=\"1\" class=\"dataframe\">\n",
       "    <thead>\n",
       "        <tr>\n",
       "            <th>Title</th> <th>Studio</th> <th>Gross</th> <th>Gross (Adjusted)</th> <th>Year</th> <th>Age</th>\n",
       "        </tr>\n",
       "    </thead>\n",
       "    <tbody>\n",
       "        <tr>\n",
       "            <td>Gone with the Wind              </td> <td>MGM            </td> <td>198676459</td> <td>1796176700      </td> <td>1939</td> <td>84  </td>\n",
       "        </tr>\n",
       "        <tr>\n",
       "            <td>Star Wars                       </td> <td>Fox            </td> <td>460998007</td> <td>1583483200      </td> <td>1977</td> <td>46  </td>\n",
       "        </tr>\n",
       "        <tr>\n",
       "            <td>The Sound of Music              </td> <td>Fox            </td> <td>158671368</td> <td>1266072700      </td> <td>1965</td> <td>58  </td>\n",
       "        </tr>\n",
       "        <tr>\n",
       "            <td>E.T.: The Extra-Terrestrial     </td> <td>Universal      </td> <td>435110554</td> <td>1261085000      </td> <td>1982</td> <td>41  </td>\n",
       "        </tr>\n",
       "        <tr>\n",
       "            <td>Titanic                         </td> <td>Paramount      </td> <td>658672302</td> <td>1204368000      </td> <td>1997</td> <td>26  </td>\n",
       "        </tr>\n",
       "        <tr>\n",
       "            <td>The Ten Commandments            </td> <td>Paramount      </td> <td>65500000 </td> <td>1164590000      </td> <td>1956</td> <td>67  </td>\n",
       "        </tr>\n",
       "        <tr>\n",
       "            <td>Jaws                            </td> <td>Universal      </td> <td>260000000</td> <td>1138620700      </td> <td>1975</td> <td>48  </td>\n",
       "        </tr>\n",
       "        <tr>\n",
       "            <td>Doctor Zhivago                  </td> <td>MGM            </td> <td>111721910</td> <td>1103564200      </td> <td>1965</td> <td>58  </td>\n",
       "        </tr>\n",
       "        <tr>\n",
       "            <td>The Exorcist                    </td> <td>Warner Brothers</td> <td>232906145</td> <td>983226600       </td> <td>1973</td> <td>50  </td>\n",
       "        </tr>\n",
       "        <tr>\n",
       "            <td>Snow White and the Seven Dwarves</td> <td>Disney         </td> <td>184925486</td> <td>969010000       </td> <td>1937</td> <td>86  </td>\n",
       "        </tr>\n",
       "    </tbody>\n",
       "</table>"
      ],
      "text/plain": [
       "Title                            | Studio          | Gross     | Gross (Adjusted) | Year | Age\n",
       "Gone with the Wind               | MGM             | 198676459 | 1796176700       | 1939 | 84\n",
       "Star Wars                        | Fox             | 460998007 | 1583483200       | 1977 | 46\n",
       "The Sound of Music               | Fox             | 158671368 | 1266072700       | 1965 | 58\n",
       "E.T.: The Extra-Terrestrial      | Universal       | 435110554 | 1261085000       | 1982 | 41\n",
       "Titanic                          | Paramount       | 658672302 | 1204368000       | 1997 | 26\n",
       "The Ten Commandments             | Paramount       | 65500000  | 1164590000       | 1956 | 67\n",
       "Jaws                             | Universal       | 260000000 | 1138620700       | 1975 | 48\n",
       "Doctor Zhivago                   | MGM             | 111721910 | 1103564200       | 1965 | 58\n",
       "The Exorcist                     | Warner Brothers | 232906145 | 983226600        | 1973 | 50\n",
       "Snow White and the Seven Dwarves | Disney          | 184925486 | 969010000        | 1937 | 86"
      ]
     },
     "execution_count": 53,
     "metadata": {},
     "output_type": "execute_result"
    }
   ],
   "source": [
    "# Again, use the with_column method to add the new ages array as a column of the table\n",
    "top10.with_column('Age', ages)"
   ]
  },
  {
   "cell_type": "markdown",
   "metadata": {},
   "source": [
    "The `apply` method also works with functions that take several arguments."
   ]
  },
  {
   "cell_type": "code",
   "execution_count": 54,
   "metadata": {},
   "outputs": [],
   "source": [
    "def get_movie_info(title, gross_adj, year):\n",
    "    \"\"\"\n",
    "    Create a string explaining some basic information about a movie.\n",
    "    Takes 3 arguments: the movie title, adjusted gross earnings, and year as arguments.\n",
    "    \"\"\"\n",
    "    age = 2023 - year\n",
    "    millions = gross_adj / 1000000\n",
    "    millions_rounded_down = int(millions)\n",
    "    return 'The movie ' + title + ' is ' + str(age) + ' years old and made over $' + str(millions_rounded_down) + ' million'"
   ]
  },
  {
   "cell_type": "code",
   "execution_count": 55,
   "metadata": {},
   "outputs": [
    {
     "data": {
      "text/plain": [
       "array([ 'The movie Gone with the Wind is 84 years old and made over $1796 million',\n",
       "       'The movie Star Wars is 46 years old and made over $1583 million',\n",
       "       'The movie The Sound of Music is 58 years old and made over $1266 million',\n",
       "       'The movie E.T.: The Extra-Terrestrial is 41 years old and made over $1261 million',\n",
       "       'The movie Titanic is 26 years old and made over $1204 million',\n",
       "       'The movie The Ten Commandments is 67 years old and made over $1164 million',\n",
       "       'The movie Jaws is 48 years old and made over $1138 million',\n",
       "       'The movie Doctor Zhivago is 58 years old and made over $1103 million',\n",
       "       'The movie The Exorcist is 50 years old and made over $983 million',\n",
       "       'The movie Snow White and the Seven Dwarves is 86 years old and made over $969 million'],\n",
       "      dtype='<U85')"
      ]
     },
     "execution_count": 55,
     "metadata": {},
     "output_type": "execute_result"
    }
   ],
   "source": [
    "# Since get_movie_info takes 3 arguments, we need to name 3 columns in the apply function:\n",
    "top10.apply(get_movie_info, 'Title', 'Gross (Adjusted)', 'Year')"
   ]
  },
  {
   "cell_type": "markdown",
   "metadata": {},
   "source": [
    "The order of columns matters! If the order of columns doesn't match the function signature `get_movie_info(title, gross_adj, year)`, then problems can occur:"
   ]
  },
  {
   "cell_type": "code",
   "execution_count": 56,
   "metadata": {},
   "outputs": [
    {
     "data": {
      "text/plain": [
       "array([ 'The movie Gone with the Wind is -1796174677 years old and made over $0 million',\n",
       "       'The movie Star Wars is -1583481177 years old and made over $0 million',\n",
       "       'The movie The Sound of Music is -1266070677 years old and made over $0 million',\n",
       "       'The movie E.T.: The Extra-Terrestrial is -1261082977 years old and made over $0 million',\n",
       "       'The movie Titanic is -1204365977 years old and made over $0 million',\n",
       "       'The movie The Ten Commandments is -1164587977 years old and made over $0 million',\n",
       "       'The movie Jaws is -1138618677 years old and made over $0 million',\n",
       "       'The movie Doctor Zhivago is -1103562177 years old and made over $0 million',\n",
       "       'The movie The Exorcist is -983224577 years old and made over $0 million',\n",
       "       'The movie Snow White and the Seven Dwarves is -969007977 years old and made over $0 million'],\n",
       "      dtype='<U91')"
      ]
     },
     "execution_count": 56,
     "metadata": {},
     "output_type": "execute_result"
    }
   ],
   "source": [
    "# Apply get_movie_info again, but with the columns out of order\n",
    "top10.apply(get_movie_info, 'Title', 'Year', 'Gross (Adjusted)')"
   ]
  },
  {
   "cell_type": "markdown",
   "metadata": {},
   "source": [
    "## Challenge Questions"
   ]
  },
  {
   "cell_type": "markdown",
   "metadata": {},
   "source": [
    "Suppose that we are investigating different models of hybrid cars. A table of hybrid car specs can be read in from `data/cars2016.csv`:"
   ]
  },
  {
   "cell_type": "code",
   "execution_count": 57,
   "metadata": {},
   "outputs": [
    {
     "data": {
      "text/html": [
       "<table border=\"1\" class=\"dataframe\">\n",
       "    <thead>\n",
       "        <tr>\n",
       "            <th>name</th> <th>height</th> <th>length</th> <th>width</th> <th>brand</th> <th>city_mpg</th> <th>highway_mpg</th> <th>transmission_type</th> <th>engine_torque</th> <th>engine_horsepower</th> <th>year</th> <th>is_hybrid</th>\n",
       "        </tr>\n",
       "    </thead>\n",
       "    <tbody>\n",
       "        <tr>\n",
       "            <td>2009 Audi A3 3.2                </td> <td>140   </td> <td>143   </td> <td>202  </td> <td>Audi </td> <td>18      </td> <td>25         </td> <td>Automatic transmission</td> <td>236          </td> <td>250              </td> <td>2009</td> <td>True     </td>\n",
       "        </tr>\n",
       "        <tr>\n",
       "            <td>2009 Audi A3 2.0 T AT           </td> <td>140   </td> <td>143   </td> <td>202  </td> <td>Audi </td> <td>22      </td> <td>28         </td> <td>Automatic transmission</td> <td>207          </td> <td>200              </td> <td>2009</td> <td>True     </td>\n",
       "        </tr>\n",
       "        <tr>\n",
       "            <td>2009 Audi A3 2.0 T              </td> <td>140   </td> <td>143   </td> <td>202  </td> <td>Audi </td> <td>21      </td> <td>30         </td> <td>Manual transmission   </td> <td>207          </td> <td>200              </td> <td>2009</td> <td>True     </td>\n",
       "        </tr>\n",
       "        <tr>\n",
       "            <td>2009 Audi A3 2.0 T Quattro      </td> <td>140   </td> <td>143   </td> <td>202  </td> <td>Audi </td> <td>21      </td> <td>28         </td> <td>Automatic transmission</td> <td>207          </td> <td>200              </td> <td>2009</td> <td>True     </td>\n",
       "        </tr>\n",
       "        <tr>\n",
       "            <td>2009 Audi A3 2.0 T Quattro      </td> <td>140   </td> <td>143   </td> <td>202  </td> <td>Audi </td> <td>21      </td> <td>28         </td> <td>Automatic transmission</td> <td>207          </td> <td>200              </td> <td>2009</td> <td>True     </td>\n",
       "        </tr>\n",
       "        <tr>\n",
       "            <td>2009 Audi A5 3.2                </td> <td>91    </td> <td>17    </td> <td>62   </td> <td>Audi </td> <td>16      </td> <td>27         </td> <td>Manual transmission   </td> <td>243          </td> <td>265              </td> <td>2009</td> <td>True     </td>\n",
       "        </tr>\n",
       "        <tr>\n",
       "            <td>2009 Audi A5 3.2 AT             </td> <td>91    </td> <td>17    </td> <td>62   </td> <td>Audi </td> <td>17      </td> <td>26         </td> <td>Automatic transmission</td> <td>243          </td> <td>265              </td> <td>2009</td> <td>True     </td>\n",
       "        </tr>\n",
       "        <tr>\n",
       "            <td>2009 Audi Q7 4.2                </td> <td>201   </td> <td>221   </td> <td>191  </td> <td>Audi </td> <td>13      </td> <td>18         </td> <td>Automatic transmission</td> <td>325          </td> <td>350              </td> <td>2009</td> <td>True     </td>\n",
       "        </tr>\n",
       "        <tr>\n",
       "            <td>2009 Audi Q7 3.6                </td> <td>201   </td> <td>221   </td> <td>191  </td> <td>Audi </td> <td>14      </td> <td>20         </td> <td>Automatic transmission</td> <td>266          </td> <td>280              </td> <td>2009</td> <td>True     </td>\n",
       "        </tr>\n",
       "        <tr>\n",
       "            <td>2009 Audi A4 Sedan 2.0 T Quattro</td> <td>147   </td> <td>96    </td> <td>34   </td> <td>Audi </td> <td>22      </td> <td>30         </td> <td>Manual transmission   </td> <td>258          </td> <td>211              </td> <td>2009</td> <td>True     </td>\n",
       "        </tr>\n",
       "    </tbody>\n",
       "</table>\n",
       "<p>... (5065 rows omitted)</p>"
      ],
      "text/plain": [
       "name                             | height | length | width | brand | city_mpg | highway_mpg | transmission_type      | engine_torque | engine_horsepower | year | is_hybrid\n",
       "2009 Audi A3 3.2                 | 140    | 143    | 202   | Audi  | 18       | 25          | Automatic transmission | 236           | 250               | 2009 | True\n",
       "2009 Audi A3 2.0 T AT            | 140    | 143    | 202   | Audi  | 22       | 28          | Automatic transmission | 207           | 200               | 2009 | True\n",
       "2009 Audi A3 2.0 T               | 140    | 143    | 202   | Audi  | 21       | 30          | Manual transmission    | 207           | 200               | 2009 | True\n",
       "2009 Audi A3 2.0 T Quattro       | 140    | 143    | 202   | Audi  | 21       | 28          | Automatic transmission | 207           | 200               | 2009 | True\n",
       "2009 Audi A3 2.0 T Quattro       | 140    | 143    | 202   | Audi  | 21       | 28          | Automatic transmission | 207           | 200               | 2009 | True\n",
       "2009 Audi A5 3.2                 | 91     | 17     | 62    | Audi  | 16       | 27          | Manual transmission    | 243           | 265               | 2009 | True\n",
       "2009 Audi A5 3.2 AT              | 91     | 17     | 62    | Audi  | 17       | 26          | Automatic transmission | 243           | 265               | 2009 | True\n",
       "2009 Audi Q7 4.2                 | 201    | 221    | 191   | Audi  | 13       | 18          | Automatic transmission | 325           | 350               | 2009 | True\n",
       "2009 Audi Q7 3.6                 | 201    | 221    | 191   | Audi  | 14       | 20          | Automatic transmission | 266           | 280               | 2009 | True\n",
       "2009 Audi A4 Sedan 2.0 T Quattro | 147    | 96     | 34    | Audi  | 22       | 30          | Manual transmission    | 258           | 211               | 2009 | True\n",
       "... (5065 rows omitted)"
      ]
     },
     "execution_count": 57,
     "metadata": {},
     "output_type": "execute_result"
    }
   ],
   "source": [
    "cars = Table.read_table('data/cars2016.csv')\n",
    "cars"
   ]
  },
  {
   "cell_type": "markdown",
   "metadata": {},
   "source": [
    "**Question 1:** generate a histogram to visualize the distribution of highway MPG for models from the year 2012."
   ]
  },
  {
   "cell_type": "code",
   "execution_count": 59,
   "metadata": {},
   "outputs": [
    {
     "data": {
      "image/png": "[encoded data removed]",
      "text/plain": [
       "<Figure size 600x400 with 1 Axes>"
      ]
     },
     "metadata": {},
     "output_type": "display_data"
    }
   ],
   "source": [
    "cars.where('year', are.equal_to(2012)).hist('highway_mpg')"
   ]
  },
  {
   "cell_type": "markdown",
   "metadata": {},
   "source": [
    "The `cars` table has a column `year`, making it easy to select only rows from the year 2012. But it's not always this easy when working with real-world datasets. What if the `cars2016.csv` file didn't have a column for years? Let's drop this column using the `drop` method:"
   ]
  },
  {
   "cell_type": "code",
   "execution_count": 77,
   "metadata": {},
   "outputs": [
    {
     "data": {
      "text/html": [
       "<table border=\"1\" class=\"dataframe\">\n",
       "    <thead>\n",
       "        <tr>\n",
       "            <th>name</th> <th>height</th> <th>length</th> <th>width</th> <th>brand</th> <th>city_mpg</th> <th>highway_mpg</th> <th>transmission_type</th> <th>engine_torque</th> <th>engine_horsepower</th> <th>is_hybrid</th>\n",
       "        </tr>\n",
       "    </thead>\n",
       "    <tbody>\n",
       "        <tr>\n",
       "            <td>2009 Audi A3 3.2                </td> <td>140   </td> <td>143   </td> <td>202  </td> <td>Audi </td> <td>18      </td> <td>25         </td> <td>Automatic transmission</td> <td>236          </td> <td>250              </td> <td>True     </td>\n",
       "        </tr>\n",
       "        <tr>\n",
       "            <td>2009 Audi A3 2.0 T AT           </td> <td>140   </td> <td>143   </td> <td>202  </td> <td>Audi </td> <td>22      </td> <td>28         </td> <td>Automatic transmission</td> <td>207          </td> <td>200              </td> <td>True     </td>\n",
       "        </tr>\n",
       "        <tr>\n",
       "            <td>2009 Audi A3 2.0 T              </td> <td>140   </td> <td>143   </td> <td>202  </td> <td>Audi </td> <td>21      </td> <td>30         </td> <td>Manual transmission   </td> <td>207          </td> <td>200              </td> <td>True     </td>\n",
       "        </tr>\n",
       "        <tr>\n",
       "            <td>2009 Audi A3 2.0 T Quattro      </td> <td>140   </td> <td>143   </td> <td>202  </td> <td>Audi </td> <td>21      </td> <td>28         </td> <td>Automatic transmission</td> <td>207          </td> <td>200              </td> <td>True     </td>\n",
       "        </tr>\n",
       "        <tr>\n",
       "            <td>2009 Audi A3 2.0 T Quattro      </td> <td>140   </td> <td>143   </td> <td>202  </td> <td>Audi </td> <td>21      </td> <td>28         </td> <td>Automatic transmission</td> <td>207          </td> <td>200              </td> <td>True     </td>\n",
       "        </tr>\n",
       "        <tr>\n",
       "            <td>2009 Audi A5 3.2                </td> <td>91    </td> <td>17    </td> <td>62   </td> <td>Audi </td> <td>16      </td> <td>27         </td> <td>Manual transmission   </td> <td>243          </td> <td>265              </td> <td>True     </td>\n",
       "        </tr>\n",
       "        <tr>\n",
       "            <td>2009 Audi A5 3.2 AT             </td> <td>91    </td> <td>17    </td> <td>62   </td> <td>Audi </td> <td>17      </td> <td>26         </td> <td>Automatic transmission</td> <td>243          </td> <td>265              </td> <td>True     </td>\n",
       "        </tr>\n",
       "        <tr>\n",
       "            <td>2009 Audi Q7 4.2                </td> <td>201   </td> <td>221   </td> <td>191  </td> <td>Audi </td> <td>13      </td> <td>18         </td> <td>Automatic transmission</td> <td>325          </td> <td>350              </td> <td>True     </td>\n",
       "        </tr>\n",
       "        <tr>\n",
       "            <td>2009 Audi Q7 3.6                </td> <td>201   </td> <td>221   </td> <td>191  </td> <td>Audi </td> <td>14      </td> <td>20         </td> <td>Automatic transmission</td> <td>266          </td> <td>280              </td> <td>True     </td>\n",
       "        </tr>\n",
       "        <tr>\n",
       "            <td>2009 Audi A4 Sedan 2.0 T Quattro</td> <td>147   </td> <td>96    </td> <td>34   </td> <td>Audi </td> <td>22      </td> <td>30         </td> <td>Manual transmission   </td> <td>258          </td> <td>211              </td> <td>True     </td>\n",
       "        </tr>\n",
       "    </tbody>\n",
       "</table>\n",
       "<p>... (5065 rows omitted)</p>"
      ],
      "text/plain": [
       "name                             | height | length | width | brand | city_mpg | highway_mpg | transmission_type      | engine_torque | engine_horsepower | is_hybrid\n",
       "2009 Audi A3 3.2                 | 140    | 143    | 202   | Audi  | 18       | 25          | Automatic transmission | 236           | 250               | True\n",
       "2009 Audi A3 2.0 T AT            | 140    | 143    | 202   | Audi  | 22       | 28          | Automatic transmission | 207           | 200               | True\n",
       "2009 Audi A3 2.0 T               | 140    | 143    | 202   | Audi  | 21       | 30          | Manual transmission    | 207           | 200               | True\n",
       "2009 Audi A3 2.0 T Quattro       | 140    | 143    | 202   | Audi  | 21       | 28          | Automatic transmission | 207           | 200               | True\n",
       "2009 Audi A3 2.0 T Quattro       | 140    | 143    | 202   | Audi  | 21       | 28          | Automatic transmission | 207           | 200               | True\n",
       "2009 Audi A5 3.2                 | 91     | 17     | 62    | Audi  | 16       | 27          | Manual transmission    | 243           | 265               | True\n",
       "2009 Audi A5 3.2 AT              | 91     | 17     | 62    | Audi  | 17       | 26          | Automatic transmission | 243           | 265               | True\n",
       "2009 Audi Q7 4.2                 | 201    | 221    | 191   | Audi  | 13       | 18          | Automatic transmission | 325           | 350               | True\n",
       "2009 Audi Q7 3.6                 | 201    | 221    | 191   | Audi  | 14       | 20          | Automatic transmission | 266           | 280               | True\n",
       "2009 Audi A4 Sedan 2.0 T Quattro | 147    | 96     | 34    | Audi  | 22       | 30          | Manual transmission    | 258           | 211               | True\n",
       "... (5065 rows omitted)"
      ]
     },
     "execution_count": 77,
     "metadata": {},
     "output_type": "execute_result"
    }
   ],
   "source": [
    "cars_without_year = cars.drop('year')\n",
    "cars_without_year"
   ]
  },
  {
   "cell_type": "markdown",
   "metadata": {},
   "source": [
    "Can we still guess the year for each row in the table? Take a look at the `name` column! Let's look at the value of `name` for several rows in the table:"
   ]
  },
  {
   "cell_type": "code",
   "execution_count": 78,
   "metadata": {},
   "outputs": [
    {
     "name": "stdout",
     "output_type": "stream",
     "text": [
      "2009 Audi A3 3.2\n",
      "2012 Audi A3 2.0 T\n",
      "2009 Nissan Pathfinder S 4x4\n",
      "2012 Buick Verano Convenience Group\n"
     ]
    }
   ],
   "source": [
    "names_array = cars_without_year.column('name')\n",
    "print(names_array.item(0))\n",
    "print(names_array.item(100))\n",
    "print(names_array.item(1000))\n",
    "print(names_array.item(5000))"
   ]
  },
  {
   "cell_type": "markdown",
   "metadata": {},
   "source": [
    "Do you see a pattern?"
   ]
  },
  {
   "cell_type": "markdown",
   "metadata": {},
   "source": [
    "Given a string `s` with multiple words (separated by spaces), you can use the string method `s.split()` to get a list of each word:"
   ]
  },
  {
   "cell_type": "code",
   "execution_count": 71,
   "metadata": {},
   "outputs": [
    {
     "data": {
      "text/plain": [
       "['2009', 'Audi', 'A3', '3.2']"
      ]
     },
     "execution_count": 71,
     "metadata": {},
     "output_type": "execute_result"
    }
   ],
   "source": [
    "\"2009 Audi A3 3.2\".split()"
   ]
  },
  {
   "cell_type": "markdown",
   "metadata": {},
   "source": [
    "**Question 2:** define a function called `get_year` with a single argument `name`. The function should take a name from the `cars` table, e.g. \"2009 Audi A3 3.2\", and return a reasonable guess for the year of the car, as an int. "
   ]
  },
  {
   "cell_type": "code",
   "execution_count": 79,
   "metadata": {},
   "outputs": [],
   "source": [
    "def get_year(name):\n",
    "    words_in_name = name.split()       # Get a list with each \"word\" in the string name\n",
    "    year_as_string = words_in_name[0]  # The first \"word\" is usually the year, as a string\n",
    "    return int(year_as_string)         # Convert the string to an int and return it"
   ]
  },
  {
   "cell_type": "code",
   "execution_count": 73,
   "metadata": {},
   "outputs": [
    {
     "data": {
      "text/plain": [
       "2009"
      ]
     },
     "execution_count": 73,
     "metadata": {},
     "output_type": "execute_result"
    }
   ],
   "source": [
    "# Test it out:\n",
    "get_year(\"2009 Audi A3 3.2\")"
   ]
  },
  {
   "cell_type": "markdown",
   "metadata": {},
   "source": [
    "**Question 3:** using the `apply` method and your new `get_year` function, create an array of ints called `inferred_years`. Add this array to the `cars_without_year` table as a column called `inferred_year`."
   ]
  },
  {
   "cell_type": "code",
   "execution_count": 81,
   "metadata": {},
   "outputs": [
    {
     "data": {
      "text/html": [
       "<table border=\"1\" class=\"dataframe\">\n",
       "    <thead>\n",
       "        <tr>\n",
       "            <th>name</th> <th>height</th> <th>length</th> <th>width</th> <th>brand</th> <th>city_mpg</th> <th>highway_mpg</th> <th>transmission_type</th> <th>engine_torque</th> <th>engine_horsepower</th> <th>is_hybrid</th> <th>inferred_year</th>\n",
       "        </tr>\n",
       "    </thead>\n",
       "    <tbody>\n",
       "        <tr>\n",
       "            <td>2009 Audi A3 3.2                </td> <td>140   </td> <td>143   </td> <td>202  </td> <td>Audi </td> <td>18      </td> <td>25         </td> <td>Automatic transmission</td> <td>236          </td> <td>250              </td> <td>True     </td> <td>2009         </td>\n",
       "        </tr>\n",
       "        <tr>\n",
       "            <td>2009 Audi A3 2.0 T AT           </td> <td>140   </td> <td>143   </td> <td>202  </td> <td>Audi </td> <td>22      </td> <td>28         </td> <td>Automatic transmission</td> <td>207          </td> <td>200              </td> <td>True     </td> <td>2009         </td>\n",
       "        </tr>\n",
       "        <tr>\n",
       "            <td>2009 Audi A3 2.0 T              </td> <td>140   </td> <td>143   </td> <td>202  </td> <td>Audi </td> <td>21      </td> <td>30         </td> <td>Manual transmission   </td> <td>207          </td> <td>200              </td> <td>True     </td> <td>2009         </td>\n",
       "        </tr>\n",
       "        <tr>\n",
       "            <td>2009 Audi A3 2.0 T Quattro      </td> <td>140   </td> <td>143   </td> <td>202  </td> <td>Audi </td> <td>21      </td> <td>28         </td> <td>Automatic transmission</td> <td>207          </td> <td>200              </td> <td>True     </td> <td>2009         </td>\n",
       "        </tr>\n",
       "        <tr>\n",
       "            <td>2009 Audi A3 2.0 T Quattro      </td> <td>140   </td> <td>143   </td> <td>202  </td> <td>Audi </td> <td>21      </td> <td>28         </td> <td>Automatic transmission</td> <td>207          </td> <td>200              </td> <td>True     </td> <td>2009         </td>\n",
       "        </tr>\n",
       "        <tr>\n",
       "            <td>2009 Audi A5 3.2                </td> <td>91    </td> <td>17    </td> <td>62   </td> <td>Audi </td> <td>16      </td> <td>27         </td> <td>Manual transmission   </td> <td>243          </td> <td>265              </td> <td>True     </td> <td>2009         </td>\n",
       "        </tr>\n",
       "        <tr>\n",
       "            <td>2009 Audi A5 3.2 AT             </td> <td>91    </td> <td>17    </td> <td>62   </td> <td>Audi </td> <td>17      </td> <td>26         </td> <td>Automatic transmission</td> <td>243          </td> <td>265              </td> <td>True     </td> <td>2009         </td>\n",
       "        </tr>\n",
       "        <tr>\n",
       "            <td>2009 Audi Q7 4.2                </td> <td>201   </td> <td>221   </td> <td>191  </td> <td>Audi </td> <td>13      </td> <td>18         </td> <td>Automatic transmission</td> <td>325          </td> <td>350              </td> <td>True     </td> <td>2009         </td>\n",
       "        </tr>\n",
       "        <tr>\n",
       "            <td>2009 Audi Q7 3.6                </td> <td>201   </td> <td>221   </td> <td>191  </td> <td>Audi </td> <td>14      </td> <td>20         </td> <td>Automatic transmission</td> <td>266          </td> <td>280              </td> <td>True     </td> <td>2009         </td>\n",
       "        </tr>\n",
       "        <tr>\n",
       "            <td>2009 Audi A4 Sedan 2.0 T Quattro</td> <td>147   </td> <td>96    </td> <td>34   </td> <td>Audi </td> <td>22      </td> <td>30         </td> <td>Manual transmission   </td> <td>258          </td> <td>211              </td> <td>True     </td> <td>2009         </td>\n",
       "        </tr>\n",
       "    </tbody>\n",
       "</table>\n",
       "<p>... (5065 rows omitted)</p>"
      ],
      "text/plain": [
       "name                             | height | length | width | brand | city_mpg | highway_mpg | transmission_type      | engine_torque | engine_horsepower | is_hybrid | inferred_year\n",
       "2009 Audi A3 3.2                 | 140    | 143    | 202   | Audi  | 18       | 25          | Automatic transmission | 236           | 250               | True      | 2009\n",
       "2009 Audi A3 2.0 T AT            | 140    | 143    | 202   | Audi  | 22       | 28          | Automatic transmission | 207           | 200               | True      | 2009\n",
       "2009 Audi A3 2.0 T               | 140    | 143    | 202   | Audi  | 21       | 30          | Manual transmission    | 207           | 200               | True      | 2009\n",
       "2009 Audi A3 2.0 T Quattro       | 140    | 143    | 202   | Audi  | 21       | 28          | Automatic transmission | 207           | 200               | True      | 2009\n",
       "2009 Audi A3 2.0 T Quattro       | 140    | 143    | 202   | Audi  | 21       | 28          | Automatic transmission | 207           | 200               | True      | 2009\n",
       "2009 Audi A5 3.2                 | 91     | 17     | 62    | Audi  | 16       | 27          | Manual transmission    | 243           | 265               | True      | 2009\n",
       "2009 Audi A5 3.2 AT              | 91     | 17     | 62    | Audi  | 17       | 26          | Automatic transmission | 243           | 265               | True      | 2009\n",
       "2009 Audi Q7 4.2                 | 201    | 221    | 191   | Audi  | 13       | 18          | Automatic transmission | 325           | 350               | True      | 2009\n",
       "2009 Audi Q7 3.6                 | 201    | 221    | 191   | Audi  | 14       | 20          | Automatic transmission | 266           | 280               | True      | 2009\n",
       "2009 Audi A4 Sedan 2.0 T Quattro | 147    | 96     | 34    | Audi  | 22       | 30          | Manual transmission    | 258           | 211               | True      | 2009\n",
       "... (5065 rows omitted)"
      ]
     },
     "execution_count": 81,
     "metadata": {},
     "output_type": "execute_result"
    }
   ],
   "source": [
    "inferred_years = cars_without_year.apply(get_year, 'name')\n",
    "cars_without_year = cars_without_year.with_column('inferred_year', inferred_years)\n",
    "cars_without_year"
   ]
  },
  {
   "cell_type": "code",
   "execution_count": 84,
   "metadata": {},
   "outputs": [
    {
     "data": {
      "image/png": "[encoded data removed]",
      "text/plain": [
       "<Figure size 600x400 with 1 Axes>"
      ]
     },
     "metadata": {},
     "output_type": "display_data"
    }
   ],
   "source": [
    "# Try out the histogram of highway MPGs for 2012 again, using our guesses for year instead. Does it look the same?\n",
    "cars_without_year.where('inferred_year', are.equal_to(2012)).hist('highway_mpg')"
   ]
  },
  {
   "cell_type": "markdown",
   "metadata": {},
   "source": [
    "Instead of highway MPG, let's look at *combined MPG*. The EPA defines combined MPG as a specific weighted average of city MPG and highway MPG. Given numbers `city_mpg` and `highway_mpg`, the formula is `combined_mpg = 0.55 * city_mpg + 0.45 * highway_mpg`."
   ]
  },
  {
   "cell_type": "markdown",
   "metadata": {},
   "source": [
    "**Question 4:** by defining your own function to calculate `combined_mpg` from two arguments, and using the `apply` method, create an array of combined MPGs. Add this array to the `cars_without_year` table as a column called `combined_mpg`."
   ]
  },
  {
   "cell_type": "code",
   "execution_count": 86,
   "metadata": {},
   "outputs": [],
   "source": [
    "# First define the combined_mpg function:\n",
    "\n",
    "def combined_mpg(city_mpg, highway_mpg):\n",
    "    \"\"\"\n",
    "    Calculate the EPA estimated combined MPG.\n",
    "    \"\"\"\n",
    "    return 0.55 * city_mpg + 0.45 * highway_mpg"
   ]
  },
  {
   "cell_type": "code",
   "execution_count": 87,
   "metadata": {},
   "outputs": [
    {
     "data": {
      "text/html": [
       "<table border=\"1\" class=\"dataframe\">\n",
       "    <thead>\n",
       "        <tr>\n",
       "            <th>name</th> <th>height</th> <th>length</th> <th>width</th> <th>brand</th> <th>city_mpg</th> <th>highway_mpg</th> <th>transmission_type</th> <th>engine_torque</th> <th>engine_horsepower</th> <th>is_hybrid</th> <th>inferred_year</th> <th>combined_mpg</th>\n",
       "        </tr>\n",
       "    </thead>\n",
       "    <tbody>\n",
       "        <tr>\n",
       "            <td>2009 Audi A3 3.2                </td> <td>140   </td> <td>143   </td> <td>202  </td> <td>Audi </td> <td>18      </td> <td>25         </td> <td>Automatic transmission</td> <td>236          </td> <td>250              </td> <td>True     </td> <td>2009         </td> <td>21.15       </td>\n",
       "        </tr>\n",
       "        <tr>\n",
       "            <td>2009 Audi A3 2.0 T AT           </td> <td>140   </td> <td>143   </td> <td>202  </td> <td>Audi </td> <td>22      </td> <td>28         </td> <td>Automatic transmission</td> <td>207          </td> <td>200              </td> <td>True     </td> <td>2009         </td> <td>24.7        </td>\n",
       "        </tr>\n",
       "        <tr>\n",
       "            <td>2009 Audi A3 2.0 T              </td> <td>140   </td> <td>143   </td> <td>202  </td> <td>Audi </td> <td>21      </td> <td>30         </td> <td>Manual transmission   </td> <td>207          </td> <td>200              </td> <td>True     </td> <td>2009         </td> <td>25.05       </td>\n",
       "        </tr>\n",
       "        <tr>\n",
       "            <td>2009 Audi A3 2.0 T Quattro      </td> <td>140   </td> <td>143   </td> <td>202  </td> <td>Audi </td> <td>21      </td> <td>28         </td> <td>Automatic transmission</td> <td>207          </td> <td>200              </td> <td>True     </td> <td>2009         </td> <td>24.15       </td>\n",
       "        </tr>\n",
       "        <tr>\n",
       "            <td>2009 Audi A3 2.0 T Quattro      </td> <td>140   </td> <td>143   </td> <td>202  </td> <td>Audi </td> <td>21      </td> <td>28         </td> <td>Automatic transmission</td> <td>207          </td> <td>200              </td> <td>True     </td> <td>2009         </td> <td>24.15       </td>\n",
       "        </tr>\n",
       "        <tr>\n",
       "            <td>2009 Audi A5 3.2                </td> <td>91    </td> <td>17    </td> <td>62   </td> <td>Audi </td> <td>16      </td> <td>27         </td> <td>Manual transmission   </td> <td>243          </td> <td>265              </td> <td>True     </td> <td>2009         </td> <td>20.95       </td>\n",
       "        </tr>\n",
       "        <tr>\n",
       "            <td>2009 Audi A5 3.2 AT             </td> <td>91    </td> <td>17    </td> <td>62   </td> <td>Audi </td> <td>17      </td> <td>26         </td> <td>Automatic transmission</td> <td>243          </td> <td>265              </td> <td>True     </td> <td>2009         </td> <td>21.05       </td>\n",
       "        </tr>\n",
       "        <tr>\n",
       "            <td>2009 Audi Q7 4.2                </td> <td>201   </td> <td>221   </td> <td>191  </td> <td>Audi </td> <td>13      </td> <td>18         </td> <td>Automatic transmission</td> <td>325          </td> <td>350              </td> <td>True     </td> <td>2009         </td> <td>15.25       </td>\n",
       "        </tr>\n",
       "        <tr>\n",
       "            <td>2009 Audi Q7 3.6                </td> <td>201   </td> <td>221   </td> <td>191  </td> <td>Audi </td> <td>14      </td> <td>20         </td> <td>Automatic transmission</td> <td>266          </td> <td>280              </td> <td>True     </td> <td>2009         </td> <td>16.7        </td>\n",
       "        </tr>\n",
       "        <tr>\n",
       "            <td>2009 Audi A4 Sedan 2.0 T Quattro</td> <td>147   </td> <td>96    </td> <td>34   </td> <td>Audi </td> <td>22      </td> <td>30         </td> <td>Manual transmission   </td> <td>258          </td> <td>211              </td> <td>True     </td> <td>2009         </td> <td>25.6        </td>\n",
       "        </tr>\n",
       "    </tbody>\n",
       "</table>\n",
       "<p>... (5065 rows omitted)</p>"
      ],
      "text/plain": [
       "name                             | height | length | width | brand | city_mpg | highway_mpg | transmission_type      | engine_torque | engine_horsepower | is_hybrid | inferred_year | combined_mpg\n",
       "2009 Audi A3 3.2                 | 140    | 143    | 202   | Audi  | 18       | 25          | Automatic transmission | 236           | 250               | True      | 2009          | 21.15\n",
       "2009 Audi A3 2.0 T AT            | 140    | 143    | 202   | Audi  | 22       | 28          | Automatic transmission | 207           | 200               | True      | 2009          | 24.7\n",
       "2009 Audi A3 2.0 T               | 140    | 143    | 202   | Audi  | 21       | 30          | Manual transmission    | 207           | 200               | True      | 2009          | 25.05\n",
       "2009 Audi A3 2.0 T Quattro       | 140    | 143    | 202   | Audi  | 21       | 28          | Automatic transmission | 207           | 200               | True      | 2009          | 24.15\n",
       "2009 Audi A3 2.0 T Quattro       | 140    | 143    | 202   | Audi  | 21       | 28          | Automatic transmission | 207           | 200               | True      | 2009          | 24.15\n",
       "2009 Audi A5 3.2                 | 91     | 17     | 62    | Audi  | 16       | 27          | Manual transmission    | 243           | 265               | True      | 2009          | 20.95\n",
       "2009 Audi A5 3.2 AT              | 91     | 17     | 62    | Audi  | 17       | 26          | Automatic transmission | 243           | 265               | True      | 2009          | 21.05\n",
       "2009 Audi Q7 4.2                 | 201    | 221    | 191   | Audi  | 13       | 18          | Automatic transmission | 325           | 350               | True      | 2009          | 15.25\n",
       "2009 Audi Q7 3.6                 | 201    | 221    | 191   | Audi  | 14       | 20          | Automatic transmission | 266           | 280               | True      | 2009          | 16.7\n",
       "2009 Audi A4 Sedan 2.0 T Quattro | 147    | 96     | 34    | Audi  | 22       | 30          | Manual transmission    | 258           | 211               | True      | 2009          | 25.6\n",
       "... (5065 rows omitted)"
      ]
     },
     "execution_count": 87,
     "metadata": {},
     "output_type": "execute_result"
    }
   ],
   "source": [
    "# Then use the apply method:\n",
    "combined_mpgs = cars_without_year.apply(combined_mpg, 'city_mpg', 'highway_mpg')\n",
    "cars_without_year = cars_without_year.with_column('combined_mpg', combined_mpgs)\n",
    "cars_without_year"
   ]
  },
  {
   "cell_type": "markdown",
   "metadata": {},
   "source": [
    "**Bonus challenge question:** we've been careful to refer to the years in the `inferred_year` columns as guesses, since while our approach to guessing the years is reasonable, it might not be 100% accurate. Can you calculate the accuracy of our prediction (as a percentage)?\n",
    "\n",
    "*Hint 1:* remember that the `inferred_year` column from the `cars_without_year` table contains our predictions, while the `year` column from the `cars` table contains the true years.\n",
    "\n",
    "*Hint 2:* you can do this using the `apply` method, but remember that `apply` only works on a single table. Feel free to add extra columns to your tables as needed to answer this question.\n",
    "\n",
    "*Hint 3:* I've provided a useful function below. It uses an `if` statement, which we have't learned about yet, but see if you can understand the behavior of this function anyway:"
   ]
  },
  {
   "cell_type": "code",
   "execution_count": 90,
   "metadata": {},
   "outputs": [],
   "source": [
    "def numbers_are_equal(x, y):\n",
    "    \"\"\"\n",
    "    Returns 1 if x and y are equal, and 0 otherwise.\n",
    "    \"\"\"\n",
    "    if x == y:     # This is a \"conditional statement.\" We will learn about them next week!\n",
    "        return 1\n",
    "    else:\n",
    "        return 0"
   ]
  },
  {
   "cell_type": "code",
   "execution_count": 88,
   "metadata": {},
   "outputs": [
    {
     "data": {
      "text/html": [
       "<table border=\"1\" class=\"dataframe\">\n",
       "    <thead>\n",
       "        <tr>\n",
       "            <th>name</th> <th>height</th> <th>length</th> <th>width</th> <th>brand</th> <th>city_mpg</th> <th>highway_mpg</th> <th>transmission_type</th> <th>engine_torque</th> <th>engine_horsepower</th> <th>year</th> <th>is_hybrid</th> <th>inferred_year</th>\n",
       "        </tr>\n",
       "    </thead>\n",
       "    <tbody>\n",
       "        <tr>\n",
       "            <td>2009 Audi A3 3.2                </td> <td>140   </td> <td>143   </td> <td>202  </td> <td>Audi </td> <td>18      </td> <td>25         </td> <td>Automatic transmission</td> <td>236          </td> <td>250              </td> <td>2009</td> <td>True     </td> <td>2009         </td>\n",
       "        </tr>\n",
       "        <tr>\n",
       "            <td>2009 Audi A3 2.0 T AT           </td> <td>140   </td> <td>143   </td> <td>202  </td> <td>Audi </td> <td>22      </td> <td>28         </td> <td>Automatic transmission</td> <td>207          </td> <td>200              </td> <td>2009</td> <td>True     </td> <td>2009         </td>\n",
       "        </tr>\n",
       "        <tr>\n",
       "            <td>2009 Audi A3 2.0 T              </td> <td>140   </td> <td>143   </td> <td>202  </td> <td>Audi </td> <td>21      </td> <td>30         </td> <td>Manual transmission   </td> <td>207          </td> <td>200              </td> <td>2009</td> <td>True     </td> <td>2009         </td>\n",
       "        </tr>\n",
       "        <tr>\n",
       "            <td>2009 Audi A3 2.0 T Quattro      </td> <td>140   </td> <td>143   </td> <td>202  </td> <td>Audi </td> <td>21      </td> <td>28         </td> <td>Automatic transmission</td> <td>207          </td> <td>200              </td> <td>2009</td> <td>True     </td> <td>2009         </td>\n",
       "        </tr>\n",
       "        <tr>\n",
       "            <td>2009 Audi A3 2.0 T Quattro      </td> <td>140   </td> <td>143   </td> <td>202  </td> <td>Audi </td> <td>21      </td> <td>28         </td> <td>Automatic transmission</td> <td>207          </td> <td>200              </td> <td>2009</td> <td>True     </td> <td>2009         </td>\n",
       "        </tr>\n",
       "        <tr>\n",
       "            <td>2009 Audi A5 3.2                </td> <td>91    </td> <td>17    </td> <td>62   </td> <td>Audi </td> <td>16      </td> <td>27         </td> <td>Manual transmission   </td> <td>243          </td> <td>265              </td> <td>2009</td> <td>True     </td> <td>2009         </td>\n",
       "        </tr>\n",
       "        <tr>\n",
       "            <td>2009 Audi A5 3.2 AT             </td> <td>91    </td> <td>17    </td> <td>62   </td> <td>Audi </td> <td>17      </td> <td>26         </td> <td>Automatic transmission</td> <td>243          </td> <td>265              </td> <td>2009</td> <td>True     </td> <td>2009         </td>\n",
       "        </tr>\n",
       "        <tr>\n",
       "            <td>2009 Audi Q7 4.2                </td> <td>201   </td> <td>221   </td> <td>191  </td> <td>Audi </td> <td>13      </td> <td>18         </td> <td>Automatic transmission</td> <td>325          </td> <td>350              </td> <td>2009</td> <td>True     </td> <td>2009         </td>\n",
       "        </tr>\n",
       "        <tr>\n",
       "            <td>2009 Audi Q7 3.6                </td> <td>201   </td> <td>221   </td> <td>191  </td> <td>Audi </td> <td>14      </td> <td>20         </td> <td>Automatic transmission</td> <td>266          </td> <td>280              </td> <td>2009</td> <td>True     </td> <td>2009         </td>\n",
       "        </tr>\n",
       "        <tr>\n",
       "            <td>2009 Audi A4 Sedan 2.0 T Quattro</td> <td>147   </td> <td>96    </td> <td>34   </td> <td>Audi </td> <td>22      </td> <td>30         </td> <td>Manual transmission   </td> <td>258          </td> <td>211              </td> <td>2009</td> <td>True     </td> <td>2009         </td>\n",
       "        </tr>\n",
       "    </tbody>\n",
       "</table>\n",
       "<p>... (5065 rows omitted)</p>"
      ],
      "text/plain": [
       "name                             | height | length | width | brand | city_mpg | highway_mpg | transmission_type      | engine_torque | engine_horsepower | year | is_hybrid | inferred_year\n",
       "2009 Audi A3 3.2                 | 140    | 143    | 202   | Audi  | 18       | 25          | Automatic transmission | 236           | 250               | 2009 | True      | 2009\n",
       "2009 Audi A3 2.0 T AT            | 140    | 143    | 202   | Audi  | 22       | 28          | Automatic transmission | 207           | 200               | 2009 | True      | 2009\n",
       "2009 Audi A3 2.0 T               | 140    | 143    | 202   | Audi  | 21       | 30          | Manual transmission    | 207           | 200               | 2009 | True      | 2009\n",
       "2009 Audi A3 2.0 T Quattro       | 140    | 143    | 202   | Audi  | 21       | 28          | Automatic transmission | 207           | 200               | 2009 | True      | 2009\n",
       "2009 Audi A3 2.0 T Quattro       | 140    | 143    | 202   | Audi  | 21       | 28          | Automatic transmission | 207           | 200               | 2009 | True      | 2009\n",
       "2009 Audi A5 3.2                 | 91     | 17     | 62    | Audi  | 16       | 27          | Manual transmission    | 243           | 265               | 2009 | True      | 2009\n",
       "2009 Audi A5 3.2 AT              | 91     | 17     | 62    | Audi  | 17       | 26          | Automatic transmission | 243           | 265               | 2009 | True      | 2009\n",
       "2009 Audi Q7 4.2                 | 201    | 221    | 191   | Audi  | 13       | 18          | Automatic transmission | 325           | 350               | 2009 | True      | 2009\n",
       "2009 Audi Q7 3.6                 | 201    | 221    | 191   | Audi  | 14       | 20          | Automatic transmission | 266           | 280               | 2009 | True      | 2009\n",
       "2009 Audi A4 Sedan 2.0 T Quattro | 147    | 96     | 34    | Audi  | 22       | 30          | Manual transmission    | 258           | 211               | 2009 | True      | 2009\n",
       "... (5065 rows omitted)"
      ]
     },
     "execution_count": 88,
     "metadata": {},
     "output_type": "execute_result"
    }
   ],
   "source": [
    "# Ultimately, we will want to use the apply method. Since this only works on a single table, let's first add the inferred_year column to the original cars table:\n",
    "cars = cars.with_column('inferred_year', cars_without_year.column('inferred_year'))\n",
    "cars"
   ]
  },
  {
   "cell_type": "code",
   "execution_count": 91,
   "metadata": {},
   "outputs": [],
   "source": [
    "# Now we apply the numbers_are_equal function to the columns year and inferred_year.\n",
    "# This will give us an array with values of 1 corresponding to correct rows, and 0 corresponding to incorrect rows.\n",
    "row_is_correct = cars.apply(numbers_are_equal, 'year', 'inferred_year')"
   ]
  },
  {
   "cell_type": "code",
   "execution_count": 93,
   "metadata": {},
   "outputs": [
    {
     "data": {
      "text/plain": [
       "99.625615763546804"
      ]
     },
     "execution_count": 93,
     "metadata": {},
     "output_type": "execute_result"
    }
   ],
   "source": [
    "# To calculate the percent accuracy of our predictions for year, divide the number of correct rows by the total number of rows:\n",
    "accuracy = 100 * sum(row_is_correct) / len(row_is_correct)\n",
    "accuracy"
   ]
  },
  {
   "cell_type": "code",
   "execution_count": 94,
   "metadata": {},
   "outputs": [],
   "source": [
    "# 99.63% accuracy. Not bad!"
   ]
  }
 ],
 "metadata": {
  "anaconda-cloud": {},
  "kernelspec": {
   "display_name": "Python 3 (ipykernel)",
   "language": "python",
   "name": "python3"
  },
  "language_info": {
   "codemirror_mode": {
    "name": "ipython",
    "version": 3
   },
   "file_extension": ".py",
   "mimetype": "text/x-python",
   "name": "python",
   "nbconvert_exporter": "python",
   "pygments_lexer": "ipython3",
   "version": "3.10.8"
  },
  "toc": {
   "base_numbering": 1,
   "nav_menu": {},
   "number_sections": true,
   "sideBar": true,
   "skip_h1_title": false,
   "title_cell": "Table of Contents",
   "title_sidebar": "Contents",
   "toc_cell": false,
   "toc_position": {},
   "toc_section_display": true,
   "toc_window_display": false
  }
 },
 "nbformat": 4,
 "nbformat_minor": 4
}
