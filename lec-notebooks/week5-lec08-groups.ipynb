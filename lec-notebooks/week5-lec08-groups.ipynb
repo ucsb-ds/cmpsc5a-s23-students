{
 "cells": [
  {
   "cell_type": "code",
   "execution_count": null,
   "metadata": {},
   "outputs": [],
   "source": [
    "from datascience import *\n",
    "import numpy as np\n",
    "\n",
    "%matplotlib inline\n",
    "import matplotlib.pyplot as plots\n",
    "plots.style.use('fivethirtyeight')"
   ]
  },
  {
   "cell_type": "markdown",
   "metadata": {
    "tags": []
   },
   "source": [
    "# Lecture 8"
   ]
  },
  {
   "cell_type": "markdown",
   "metadata": {},
   "source": [
    "## Warm up: Defining and Applying Functions"
   ]
  },
  {
   "cell_type": "code",
   "execution_count": null,
   "metadata": {},
   "outputs": [],
   "source": [
    "# Load Galton's dataset of parent and child heights\n",
    "galton = Table.read_table('data/galton.csv').drop(3)\n",
    "galton"
   ]
  },
  {
   "cell_type": "markdown",
   "metadata": {},
   "source": [
    "**Question:** define a function called `average_height` that takes two arguments and returns their average."
   ]
  },
  {
   "cell_type": "code",
   "execution_count": null,
   "metadata": {},
   "outputs": [],
   "source": [
    "# ..."
   ]
  },
  {
   "cell_type": "markdown",
   "metadata": {},
   "source": [
    "**Question:** use the `apply` method to create an array with the average height of `mother` and `father` for each row in the `galton` table."
   ]
  },
  {
   "cell_type": "code",
   "execution_count": null,
   "metadata": {},
   "outputs": [],
   "source": [
    "# ..."
   ]
  },
  {
   "cell_type": "markdown",
   "metadata": {},
   "source": [
    "**Question:** add a new column of average parent heights to the table, with the column name `midparentHeight`."
   ]
  },
  {
   "cell_type": "code",
   "execution_count": null,
   "metadata": {},
   "outputs": [],
   "source": [
    "# ..."
   ]
  },
  {
   "cell_type": "markdown",
   "metadata": {},
   "source": [
    "## Prediction ##"
   ]
  },
  {
   "cell_type": "markdown",
   "metadata": {},
   "source": [
    "Can we use the average height of a child's parents to predict the child's height? Scatter plots are a good way to look for relationships between two variables:"
   ]
  },
  {
   "cell_type": "code",
   "execution_count": null,
   "metadata": {},
   "outputs": [],
   "source": [
    "galton.scatter('midparentHeight', 'childHeight')"
   ]
  },
  {
   "cell_type": "markdown",
   "metadata": {},
   "source": [
    "Suppose that a child's parents have an average height of 68 inches. How might we predict that child's height? A reasonable approach would be to identify other children whose parents' average height is close to 68 inches, and use the average heights of these children."
   ]
  },
  {
   "cell_type": "markdown",
   "metadata": {},
   "source": [
    "Let's identify the rows of the table where heights are within 0.5 inches of 68:"
   ]
  },
  {
   "cell_type": "code",
   "execution_count": null,
   "metadata": {},
   "outputs": [],
   "source": [
    "galton.scatter('midparentHeight', 'childHeight')\n",
    "\n",
    "# Add vertical red lines to the scatter plot, to indicate the range [67.5, 68.5]\n",
    "plots.plot([67.5, 67.5], [55, 80], color='red', lw=2)\n",
    "plots.plot([68.5, 68.5], [55, 80], color='red', lw=2);"
   ]
  },
  {
   "cell_type": "code",
   "execution_count": null,
   "metadata": {},
   "outputs": [],
   "source": [
    "# Use the where method to identify rows where parents' average height is within 0.5 inches of 68\n",
    "nearby = galton.where('midparentHeight', are.between(67.5, 68.5))\n",
    "nearby"
   ]
  },
  {
   "cell_type": "code",
   "execution_count": null,
   "metadata": {
    "scrolled": true,
    "tags": []
   },
   "outputs": [],
   "source": [
    "# Calculate the average height of children in these rows\n",
    "nearby_mean = nearby.column('childHeight').mean()\n",
    "nearby_mean"
   ]
  },
  {
   "cell_type": "code",
   "execution_count": null,
   "metadata": {},
   "outputs": [],
   "source": [
    "galton.scatter('midparentHeight', 'childHeight')\n",
    "plots.plot([67.5, 67.5], [55, 80], color='red', lw=2)\n",
    "plots.plot([68.5, 68.5], [55, 80], color='red', lw=2)\n",
    "\n",
    "# Mark the predicted height for children whose parents' average height is 68 inches\n",
    "plots.scatter(68, nearby_mean, color='red', s=70);"
   ]
  },
  {
   "cell_type": "markdown",
   "metadata": {},
   "source": [
    "Now we have a sequence of steps for predicting a child's height: identify rows in the table where `midparentHeight` is within 0.5 inches of their parents' average height, then calculate the average of `childHeight` for those rows. \n",
    "\n",
    "It would be a good idea to write a function to perform these steps, so that we can reuse it again and again:"
   ]
  },
  {
   "cell_type": "code",
   "execution_count": null,
   "metadata": {},
   "outputs": [],
   "source": [
    "def predict(h):\n",
    "    \"\"\"\n",
    "    Predict the height of a child based on the average height h of their parents.\n",
    "    \"\"\"\n",
    "    nearby = galton.where('midparentHeight', are.between(h - 1/2, h + 1/2))\n",
    "    return np.average(nearby.column('childHeight'))"
   ]
  },
  {
   "cell_type": "code",
   "execution_count": null,
   "metadata": {},
   "outputs": [],
   "source": [
    "predict(68)"
   ]
  },
  {
   "cell_type": "code",
   "execution_count": null,
   "metadata": {},
   "outputs": [],
   "source": [
    "predict(70)"
   ]
  },
  {
   "cell_type": "code",
   "execution_count": null,
   "metadata": {},
   "outputs": [],
   "source": [
    "predict(73)"
   ]
  },
  {
   "cell_type": "markdown",
   "metadata": {},
   "source": [
    "**Question:** use the `apply` method to predict the height of every child (row) in the table `galton`. Add this array of predictions back into the table as a new column `predictedHeight`."
   ]
  },
  {
   "cell_type": "code",
   "execution_count": null,
   "metadata": {},
   "outputs": [],
   "source": [
    "# ..."
   ]
  },
  {
   "cell_type": "markdown",
   "metadata": {},
   "source": [
    "Let's see how our predictions look on the scatter plot. Instead of providing a single column name as the second argument to `scatter`, we can provide a list of column names, and `scatter` will plot both of those columns:"
   ]
  },
  {
   "cell_type": "code",
   "execution_count": null,
   "metadata": {},
   "outputs": [],
   "source": [
    "galton.scatter('midparentHeight', ['childHeight', 'predictedHeight'])"
   ]
  },
  {
   "cell_type": "markdown",
   "metadata": {},
   "source": [
    "How accurate is our approach to predicting heights?"
   ]
  },
  {
   "cell_type": "markdown",
   "metadata": {},
   "source": [
    "**Question:** write a function called `difference` that takes two arguments, and returns the difference between them."
   ]
  },
  {
   "cell_type": "code",
   "execution_count": null,
   "metadata": {},
   "outputs": [],
   "source": [
    "# ..."
   ]
  },
  {
   "cell_type": "markdown",
   "metadata": {},
   "source": [
    "**Question:** use the `apply` method to create an array of prediction errors for each row. Add this array to the `galton` table as a new column `errors`."
   ]
  },
  {
   "cell_type": "code",
   "execution_count": null,
   "metadata": {},
   "outputs": [],
   "source": [
    "# ..."
   ]
  },
  {
   "cell_type": "markdown",
   "metadata": {},
   "source": [
    "Let's look at the distribution of errors with a simple histogram:"
   ]
  },
  {
   "cell_type": "code",
   "execution_count": null,
   "metadata": {},
   "outputs": [],
   "source": [
    "galton.hist('errors')"
   ]
  },
  {
   "cell_type": "markdown",
   "metadata": {},
   "source": [
    "If we'd like, we can plot separate histograms for different groups of rows, based on the value of a particular variable. For example, we can create a separate histogram for the error of boys and girls, by adding the argument `group = 'gender'` to group rows by the `gender` column."
   ]
  },
  {
   "cell_type": "code",
   "execution_count": null,
   "metadata": {},
   "outputs": [],
   "source": [
    "galton.hist('errors', group='gender')"
   ]
  },
  {
   "cell_type": "markdown",
   "metadata": {},
   "source": [
    "What do you notice about these two histograms?"
   ]
  },
  {
   "cell_type": "code",
   "execution_count": null,
   "metadata": {},
   "outputs": [],
   "source": [
    "# ..."
   ]
  },
  {
   "cell_type": "markdown",
   "metadata": {},
   "source": [
    "## Discussion Activity"
   ]
  },
  {
   "cell_type": "markdown",
   "metadata": {},
   "source": [
    "**Question 1:** how can we also account for gender when making predictions about a child's height? Don't write any code yet; just explain what you would do to modify our prediction approach in a way that incorporates gender as well."
   ]
  },
  {
   "cell_type": "code",
   "execution_count": null,
   "metadata": {},
   "outputs": [],
   "source": [
    "# ..."
   ]
  },
  {
   "cell_type": "markdown",
   "metadata": {},
   "source": [
    "**Question 2:** Create a new function `predict_smarter`, which takes two arguments: `h` for height, and `g` for gender. Define this function so that it returns a prediction for height using both `h` and `g`."
   ]
  },
  {
   "cell_type": "code",
   "execution_count": null,
   "metadata": {},
   "outputs": [],
   "source": [
    "# ..."
   ]
  },
  {
   "cell_type": "code",
   "execution_count": null,
   "metadata": {},
   "outputs": [],
   "source": [
    "predict_smarter(68, 'female')"
   ]
  },
  {
   "cell_type": "code",
   "execution_count": null,
   "metadata": {},
   "outputs": [],
   "source": [
    "predict_smarter(68, 'male')"
   ]
  },
  {
   "cell_type": "code",
   "execution_count": null,
   "metadata": {},
   "outputs": [],
   "source": [
    "# Apply the predict_smarter function to get a new prediction for all children in the table\n",
    "smarter_predicted_heights = galton.apply(predict_smarter, 'midparentHeight', 'gender')\n",
    "\n",
    "# Add these predictions as a new column\n",
    "galton = galton.with_column('smartPredictedHeight', smarter_predicted_heights)\n",
    "galton"
   ]
  },
  {
   "cell_type": "code",
   "execution_count": null,
   "metadata": {},
   "outputs": [],
   "source": [
    "# Apply the difference function once again to calculate errors for smartPredictedHeight\n",
    "smarter_pred_errs = galton.apply(difference, 'childHeight', 'smartPredictedHeight')\n",
    "galton = galton.with_column('smartErrors', smarter_pred_errs)\n",
    "galton"
   ]
  },
  {
   "cell_type": "code",
   "execution_count": null,
   "metadata": {},
   "outputs": [],
   "source": [
    "# Plot the distributions of errors for male and female children\n",
    "galton.hist('smartErrors', group='gender')"
   ]
  },
  {
   "cell_type": "markdown",
   "metadata": {},
   "source": [
    "## Grouping by One Column"
   ]
  },
  {
   "cell_type": "markdown",
   "metadata": {},
   "source": [
    "Data scientists often need to classify individuals into groups according to shared features, and then identify some characteristics of the groups. This is easy in Python using the table method `group`."
   ]
  },
  {
   "cell_type": "markdown",
   "metadata": {},
   "source": [
    "We've seen the `group` method before in this class, when creating bar charts to visualize distributions of categorical variables:"
   ]
  },
  {
   "cell_type": "code",
   "execution_count": null,
   "metadata": {},
   "outputs": [],
   "source": [
    "# Load the table of highest-grossing movies\n",
    "top_movies = Table.read_table('data/top_movies_2017.csv')\n",
    "\n",
    "# Add a column of ages to the table\n",
    "ages = 2023 - top_movies.column('Year')\n",
    "top_movies = top_movies.with_column('Age', ages)\n",
    "top_movies "
   ]
  },
  {
   "cell_type": "code",
   "execution_count": null,
   "metadata": {},
   "outputs": [],
   "source": [
    "# Use the group method to count how many rows in the table have each value of Studio\n",
    "studio_distribution = top_movies.group('Studio')\n",
    "studio_distribution"
   ]
  },
  {
   "cell_type": "markdown",
   "metadata": {},
   "source": [
    "When we call `group` with one argument (the name of a column in the table, e.g., \"Studio\"), `group` will count how many rows have this value. What if we don't want to count the values? We can supply a function as a second argument to `group`:"
   ]
  },
  {
   "cell_type": "code",
   "execution_count": null,
   "metadata": {},
   "outputs": [],
   "source": [
    "# Use group to calculate the average of the other columns for each studio\n",
    "top_movies.group('Studio', np.average)"
   ]
  },
  {
   "cell_type": "code",
   "execution_count": null,
   "metadata": {},
   "outputs": [],
   "source": [
    "# Use group to calculate the min values of the other columns for each studio\n",
    "top_movies.group('Studio', min)"
   ]
  },
  {
   "cell_type": "code",
   "execution_count": null,
   "metadata": {},
   "outputs": [],
   "source": [
    "top_movies.group('Age', max)"
   ]
  },
  {
   "cell_type": "markdown",
   "metadata": {},
   "source": [
    "## Data Cleaning: Class Data Survey"
   ]
  },
  {
   "cell_type": "markdown",
   "metadata": {},
   "source": [
    "Thanks to everyone who filled out the class data survey! Let's take a look at the data."
   ]
  },
  {
   "cell_type": "code",
   "execution_count": null,
   "metadata": {},
   "outputs": [],
   "source": [
    "# Load the class data survey\n",
    "survey = Table.read_table('data/cmpsc5a-classdata-w23.csv')\n",
    "survey"
   ]
  },
  {
   "cell_type": "code",
   "execution_count": null,
   "metadata": {},
   "outputs": [],
   "source": [
    "# Use the group function to count how many respondents are in each major\n",
    "survey.group('Major').show()"
   ]
  },
  {
   "cell_type": "markdown",
   "metadata": {},
   "source": [
    "**Question:** do you see any problems with these values?"
   ]
  },
  {
   "cell_type": "code",
   "execution_count": null,
   "metadata": {},
   "outputs": [],
   "source": [
    "# ..."
   ]
  },
  {
   "cell_type": "code",
   "execution_count": null,
   "metadata": {},
   "outputs": [],
   "source": [
    "# Get an array of the \"unique\" values of Major\n",
    "# Why do some majors appear multiple times?\n",
    "survey.group('Major').column('Major')"
   ]
  },
  {
   "cell_type": "code",
   "execution_count": null,
   "metadata": {},
   "outputs": [],
   "source": [
    "len(survey.group('Major').column('Major'))"
   ]
  },
  {
   "cell_type": "markdown",
   "metadata": {},
   "source": [
    "*Data cleaning* is an important part of data science. Raw datasets will often have inconsistent values, or even missing values, which we will have to deal with before doing any analysis."
   ]
  },
  {
   "cell_type": "code",
   "execution_count": null,
   "metadata": {},
   "outputs": [],
   "source": [
    "def clean_major(major):\n",
    "    \"\"\"\n",
    "    Given a raw value of the Major variable, return a new string with the following changes:\n",
    "      - all characters are lower case\n",
    "      - all spaces and hyphens are removed\n",
    "      - common words are replaced with their acronyms\n",
    "    \"\"\"\n",
    "    \n",
    "    # force all characters to be lower-case\n",
    "    major = major.lower()                 \n",
    "    \n",
    "    # remove spaces and hyphens\n",
    "    major = major.replace(' ', '')\n",
    "    major = major.replace('-', '')\n",
    "    \n",
    "    # replace words with common acronyms\n",
    "    major = major.replace('biology', 'bio')\n",
    "    major = major.replace('economics', 'econ')\n",
    "    major = major.replace('psychology', 'psych')\n",
    "    major = major.replace('psychological', 'psych')\n",
    "    major = major.replace('chemistry', 'chem')\n",
    "    \n",
    "    # some miscellaneous changes\n",
    "    major = major.replace('communication', 'communications')\n",
    "    \n",
    "    return major    "
   ]
  },
  {
   "cell_type": "code",
   "execution_count": null,
   "metadata": {},
   "outputs": [],
   "source": [
    "# Add a column \"clean_major\", where we have applied the clean_major function\n",
    "survey = survey.with_column(\n",
    "    'cleaned_major',\n",
    "    survey.apply(clean_major, 'Major'))"
   ]
  },
  {
   "cell_type": "code",
   "execution_count": null,
   "metadata": {},
   "outputs": [],
   "source": [
    "survey.group('cleaned_major').show()"
   ]
  },
  {
   "cell_type": "code",
   "execution_count": null,
   "metadata": {},
   "outputs": [],
   "source": [
    "len(survey.group('cleaned_major').column('cleaned_major'))"
   ]
  },
  {
   "cell_type": "markdown",
   "metadata": {},
   "source": [
    "This looks much better! We've gone from 45 unique values of the Major variable down to 28."
   ]
  },
  {
   "cell_type": "code",
   "execution_count": null,
   "metadata": {},
   "outputs": [],
   "source": [
    "# Look at average values for each column by major\n",
    "survey.group('cleaned_major', np.average)"
   ]
  },
  {
   "cell_type": "markdown",
   "metadata": {},
   "source": [
    "**Question:** the value `nan` indicates that the average could not be computed. Why is this happening?"
   ]
  },
  {
   "cell_type": "code",
   "execution_count": null,
   "metadata": {},
   "outputs": [],
   "source": [
    "# ..."
   ]
  }
 ],
 "metadata": {
  "anaconda-cloud": {},
  "kernelspec": {
   "display_name": "Python 3 (ipykernel)",
   "language": "python",
   "name": "python3"
  },
  "language_info": {
   "codemirror_mode": {
    "name": "ipython",
    "version": 3
   },
   "file_extension": ".py",
   "mimetype": "text/x-python",
   "name": "python",
   "nbconvert_exporter": "python",
   "pygments_lexer": "ipython3",
   "version": "3.10.8"
  },
  "toc": {
   "base_numbering": 1,
   "nav_menu": {},
   "number_sections": false,
   "sideBar": true,
   "skip_h1_title": false,
   "title_cell": "Table of Contents",
   "title_sidebar": "Contents",
   "toc_cell": false,
   "toc_position": {},
   "toc_section_display": true,
   "toc_window_display": false
  }
 },
 "nbformat": 4,
 "nbformat_minor": 4
}
