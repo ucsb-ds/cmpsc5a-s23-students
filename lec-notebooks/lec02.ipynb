{
 "cells": [
  {
   "cell_type": "code",
   "execution_count": null,
   "metadata": {},
   "outputs": [],
   "source": [
    "from datascience import *\n",
    "import numpy as np\n",
    "\n",
    "%matplotlib inline\n",
    "import matplotlib.pyplot as plots\n",
    "from datetime import date\n",
    "plots.style.use('fivethirtyeight')"
   ]
  },
  {
   "cell_type": "markdown",
   "metadata": {},
   "source": [
    "# Words of Caution\n",
    "- Remember to run the cell above. It's for setting up the environment so you can have access to what's needed for this lecture. For now, don't worry about what it means: we'll learn more about what's inside of it in the next few lectures.\n",
    "- Data science is not just about code, so please don't go over this notebook by itself. Have the relevant textbook sections or lecture video at hand so that you can go over the discussion along with the code. Thank you! "
   ]
  },
  {
   "cell_type": "markdown",
   "metadata": {
    "tags": []
   },
   "source": [
    "# Markdown\n",
    "1. write bold and italic\n",
    "1. create a list\n",
    "    1. bullet\n",
    "    1. numbered\n",
    "1. create a table\n",
    "1. write a formula\n",
    "1. write code\n",
    "1. add a link\n",
    "1. add an image"
   ]
  },
  {
   "cell_type": "markdown",
   "metadata": {},
   "source": [
    "# Intro to Python\n",
    "\n",
    "let's do some basic math operations on numbers: \n",
    "- add\n",
    "- divide\n",
    "- multiply\n",
    "- raise\n",
    "- evaluate inequalities\n",
    "\n",
    "Let's do some operations on text (aka: string)\n",
    "- add\n",
    "- multiply\n",
    "\n",
    "Optional: Let's do some operations on dates"
   ]
  },
  {
   "cell_type": "markdown",
   "metadata": {},
   "source": [
    "# Names (aka: variables)\n",
    "- let's assign some values to variables/names\n",
    "- let's use the variables\n",
    "- let's overwrite variables"
   ]
  },
  {
   "cell_type": "markdown",
   "metadata": {},
   "source": [
    "## Why Names?\n",
    "- Calculate the annual salary for a person working full-time under California minimum wage of 15 USD/hour. \n",
    "- on 2023-01-01, the minimum wage was raised to 15.50 USD/hour. Recalculate the minimum wage."
   ]
  },
  {
   "cell_type": "code",
   "execution_count": null,
   "metadata": {},
   "outputs": [],
   "source": [
    "hours_per_week = 40\n",
    "weeks_per_year = 52\n",
    "salary = 15.0 # USD/h"
   ]
  },
  {
   "cell_type": "code",
   "execution_count": null,
   "metadata": {},
   "outputs": [],
   "source": [
    "hours_per_year = hours_per_week * weeks_per_year"
   ]
  },
  {
   "cell_type": "code",
   "execution_count": null,
   "metadata": {},
   "outputs": [],
   "source": [
    "weekly_wages = hours_per_week * salary\n",
    "weekly_wages"
   ]
  },
  {
   "cell_type": "code",
   "execution_count": null,
   "metadata": {},
   "outputs": [],
   "source": [
    "yearly_wages = hours_per_year * salary\n",
    "yearly_wages"
   ]
  },
  {
   "cell_type": "markdown",
   "metadata": {},
   "source": [
    "# Functions\n",
    "- let's use some built-in functions. E.g:\n",
    "    - absolute value\n",
    "    - the lower of two values\n",
    "    - round    \n",
    "- let's use keywords for arguments\n",
    "- let's define our own function\n",
    "- lets use the `help()` function to learn about the usage of functions"
   ]
  },
  {
   "cell_type": "markdown",
   "metadata": {},
   "source": [
    "# Tables A)\n",
    "1. read a CSV from `data/cones.csv` into a table using `Table.read_table()`\n",
    "1. show the first n_rows using `show()`\n",
    "1. select a single column from the table using `select()`\n",
    "1. select multiple columns from the table using `select()`\n",
    "1. remove a column from the table using `drop()`\n",
    "1. subset the table to only chocolate cones using `where()` \n",
    "1. sort the cones by price using `sort()`\n",
    "    1. most expensive first\n",
    "    1. cheapest first\n",
    "1. add a new column containing your rating using `with_column()`\n",
    "    \n",
    "Remember that you can use the `help()` function or `?` to learn about each function"
   ]
  },
  {
   "cell_type": "markdown",
   "metadata": {
    "jp-MarkdownHeadingCollapsed": true,
    "tags": []
   },
   "source": [
    "# Tables B)\n",
    "1. read the CSV `data/skyscrapers.csv`\n",
    "1. show the number of skyscrapers in the dataset using the *attribute* `num_rows`\n",
    "1. sort the table by completion year. What can we learn?\n",
    "1. subset the data to skyscrapers in 'Los Angeles'\n",
    "    1. subset to skyscrapers in `Los Angeles` that were built in the year 1971\n",
    "1. get data on the 'Empire State Building' in 'New York City'\n",
    "1. rename the column 'completed' column using `relabel()`\n",
    "1. get all skyscrapers in 'New York City' and sort them by when they have been built"
   ]
  },
  {
   "cell_type": "markdown",
   "metadata": {
    "tags": []
   },
   "source": [
    "# Visualizations\n",
    "1. read the csv `data/movies_by_year.csv`\n",
    "1. Plot the number of movies vs the total gross using `scatter()`\n",
    "    - add a trendline\n",
    "1. Plot the number of movies over time using `plot()`"
   ]
  },
  {
   "cell_type": "code",
   "execution_count": null,
   "metadata": {},
   "outputs": [],
   "source": []
  }
 ],
 "metadata": {
  "anaconda-cloud": {},
  "kernelspec": {
   "display_name": "Python 3 (ipykernel)",
   "language": "python",
   "name": "python3"
  },
  "language_info": {
   "codemirror_mode": {
    "name": "ipython",
    "version": 3
   },
   "file_extension": ".py",
   "mimetype": "text/x-python",
   "name": "python",
   "nbconvert_exporter": "python",
   "pygments_lexer": "ipython3",
   "version": "3.10.6"
  },
  "toc": {
   "base_numbering": 1,
   "nav_menu": {},
   "number_sections": true,
   "sideBar": true,
   "skip_h1_title": false,
   "title_cell": "Table of Contents",
   "title_sidebar": "Contents",
   "toc_cell": false,
   "toc_position": {},
   "toc_section_display": true,
   "toc_window_display": false
  }
 },
 "nbformat": 4,
 "nbformat_minor": 4
}
