{
 "cells": [
  {
   "cell_type": "code",
   "execution_count": null,
   "metadata": {
    "tags": []
   },
   "outputs": [],
   "source": [
    "from datascience import *\n",
    "%matplotlib inline\n",
    "\n",
    "import matplotlib.pyplot as plt\n",
    "plt.style.use('fivethirtyeight')\n",
    "import numpy as np\n",
    "import warnings\n",
    "warnings.simplefilter(action='ignore', category=np.VisibleDeprecationWarning)"
   ]
  },
  {
   "cell_type": "markdown",
   "metadata": {},
   "source": [
    "## Simulation"
   ]
  },
  {
   "cell_type": "code",
   "execution_count": null,
   "metadata": {
    "tags": []
   },
   "outputs": [],
   "source": []
  },
  {
   "cell_type": "markdown",
   "metadata": {},
   "source": [
    "# Chance #"
   ]
  },
  {
   "cell_type": "markdown",
   "metadata": {},
   "source": [
    "### Probability Question\n",
    "- I have three cards: ace of hearts, king of diamonds, and queen of spades.\n",
    "- I shuffle them and draw two cards at random without replacement.\n",
    "- What is the chance that I get the Queen followed by the King?"
   ]
  },
  {
   "cell_type": "code",
   "execution_count": null,
   "metadata": {},
   "outputs": [],
   "source": []
  },
  {
   "cell_type": "markdown",
   "metadata": {
    "tags": []
   },
   "source": [
    "---\n",
    "back to slides\n",
    "\n",
    "---"
   ]
  },
  {
   "cell_type": "markdown",
   "metadata": {},
   "source": [
    "### Another Question\n",
    "- I have three cards: ace of hearts, king of diamonds, and queen of spades.\n",
    "- I shuffle them and draw two cards at random without replacement.\n",
    "- What is the chance that one of the cards I draw is a King and the other is Queen?"
   ]
  },
  {
   "cell_type": "code",
   "execution_count": null,
   "metadata": {},
   "outputs": [],
   "source": []
  },
  {
   "cell_type": "markdown",
   "metadata": {
    "tags": []
   },
   "source": [
    "--- \n",
    "back to slides\n",
    "\n",
    "---"
   ]
  },
  {
   "cell_type": "markdown",
   "metadata": {},
   "source": [
    "## Discussion question\n",
    "A population has 100 people, including Rick and Morty.\n",
    "We sample two people at random without replacement.\n",
    "\n",
    "1. P(both Rick and Morty are in the sample)\n",
    "1. P(neither Rick nor Morty is in the sample)"
   ]
  },
  {
   "cell_type": "markdown",
   "metadata": {
    "tags": []
   },
   "source": [
    "---\n",
    "back to slides\n",
    "\n",
    "---"
   ]
  },
  {
   "cell_type": "markdown",
   "metadata": {},
   "source": [
    "### The Monty Hall Problem ###"
   ]
  },
  {
   "cell_type": "code",
   "execution_count": null,
   "metadata": {
    "tags": []
   },
   "outputs": [],
   "source": [
    "doors = make_array('car', 'first goat', 'second goat')\n",
    "doors"
   ]
  },
  {
   "cell_type": "code",
   "execution_count": null,
   "metadata": {
    "tags": []
   },
   "outputs": [],
   "source": [
    "def monty_hall():\n",
    "    \"\"\"Return \n",
    "    [contestant's guess, what Monty reveals, what remains behind the other door]\"\"\"\n",
    "    \n",
    "    contestant_choice = np.random.choice(doors)\n",
    "    \n",
    "    if contestant_choice == 'first goat':\n",
    "        monty_choice = 'second goat'\n",
    "        remaining_choice = 'car' # Contestant wins if they switch door\n",
    "    \n",
    "    if contestant_choice == 'second goat':\n",
    "        monty_choice = 'first goat'\n",
    "        remaining_choice = 'car' # Contestant wins if they switch door\n",
    "    \n",
    "    if contestant_choice == 'car':\n",
    "        monty_choice = np.random.choice(['first goat', 'second goat'])\n",
    "        if monty_choice == 'first goat':\n",
    "            remaining_choice = 'second goat' # Contestant looses if they switch door\n",
    "        elif monty_choice == 'second goat':\n",
    "            remaining_choice = 'first goat' # Contestant looses if they switch door        \n",
    "        \n",
    "    return [contestant_choice, monty_choice, remaining_choice]"
   ]
  },
  {
   "cell_type": "code",
   "execution_count": null,
   "metadata": {
    "tags": []
   },
   "outputs": [],
   "source": [
    "monty_hall()"
   ]
  },
  {
   "cell_type": "code",
   "execution_count": null,
   "metadata": {
    "tags": []
   },
   "outputs": [],
   "source": [
    "results = Table(['Guess', 'Revealed', 'Remaining'])\n",
    "\n",
    "for i in np.arange(10000):\n",
    "    results.append(monty_hall())"
   ]
  },
  {
   "cell_type": "code",
   "execution_count": null,
   "metadata": {
    "tags": []
   },
   "outputs": [],
   "source": [
    "results.show(3)"
   ]
  },
  {
   "cell_type": "code",
   "execution_count": null,
   "metadata": {
    "tags": []
   },
   "outputs": [],
   "source": [
    "results.group('Guess').barh('Guess')"
   ]
  },
  {
   "cell_type": "code",
   "execution_count": null,
   "metadata": {
    "tags": []
   },
   "outputs": [],
   "source": [
    "results.group('Remaining').barh('Remaining')"
   ]
  },
  {
   "cell_type": "code",
   "execution_count": null,
   "metadata": {},
   "outputs": [],
   "source": []
  }
 ],
 "metadata": {
  "kernelspec": {
   "display_name": "Python 3 (ipykernel)",
   "language": "python",
   "name": "python3"
  },
  "language_info": {
   "codemirror_mode": {
    "name": "ipython",
    "version": 3
   },
   "file_extension": ".py",
   "mimetype": "text/x-python",
   "name": "python",
   "nbconvert_exporter": "python",
   "pygments_lexer": "ipython3",
   "version": "3.10.6"
  }
 },
 "nbformat": 4,
 "nbformat_minor": 4
}
