{
 "cells": [
  {
   "cell_type": "code",
   "execution_count": null,
   "metadata": {},
   "outputs": [],
   "source": [
    "from datascience import *\n",
    "import numpy as np\n",
    "\n",
    "%matplotlib inline\n",
    "import matplotlib.pyplot as plots\n",
    "plots.style.use('fivethirtyeight')"
   ]
  },
  {
   "cell_type": "markdown",
   "metadata": {},
   "source": [
    "## Comparison ##"
   ]
  },
  {
   "cell_type": "markdown",
   "metadata": {},
   "source": [
    "Let's look at some basic comparisons:"
   ]
  },
  {
   "cell_type": "code",
   "execution_count": null,
   "metadata": {},
   "outputs": [],
   "source": [
    "3 > 1"
   ]
  },
  {
   "cell_type": "code",
   "execution_count": null,
   "metadata": {},
   "outputs": [],
   "source": [
    "3 < 1"
   ]
  },
  {
   "cell_type": "code",
   "execution_count": null,
   "metadata": {},
   "outputs": [],
   "source": [
    "3 == 3"
   ]
  },
  {
   "cell_type": "markdown",
   "metadata": {},
   "source": [
    "What does `3 <= 3` evaluate to?"
   ]
  },
  {
   "cell_type": "code",
   "execution_count": null,
   "metadata": {},
   "outputs": [],
   "source": [
    "# ..."
   ]
  },
  {
   "cell_type": "markdown",
   "metadata": {},
   "source": [
    "What does `3 < 3` evaluate to?"
   ]
  },
  {
   "cell_type": "code",
   "execution_count": null,
   "metadata": {},
   "outputs": [],
   "source": [
    "# ..."
   ]
  },
  {
   "cell_type": "markdown",
   "metadata": {},
   "source": [
    "What does `3 != 3` evaluate to?"
   ]
  },
  {
   "cell_type": "code",
   "execution_count": null,
   "metadata": {},
   "outputs": [],
   "source": [
    "# ..."
   ]
  },
  {
   "cell_type": "markdown",
   "metadata": {},
   "source": [
    "Comparisons return a value of `True` or `False`, which are *Boolean* values:"
   ]
  },
  {
   "cell_type": "code",
   "execution_count": null,
   "metadata": {},
   "outputs": [],
   "source": [
    "type(True)"
   ]
  },
  {
   "cell_type": "code",
   "execution_count": null,
   "metadata": {},
   "outputs": [],
   "source": [
    "type(False)"
   ]
  },
  {
   "cell_type": "code",
   "execution_count": null,
   "metadata": {},
   "outputs": [],
   "source": [
    "type(3 > 1)"
   ]
  },
  {
   "cell_type": "code",
   "execution_count": null,
   "metadata": {},
   "outputs": [],
   "source": [
    "# The values True and False are case-sensitive\n",
    "true"
   ]
  },
  {
   "cell_type": "code",
   "execution_count": null,
   "metadata": {},
   "outputs": [],
   "source": [
    "# True and False are not strings!"
   ]
  },
  {
   "cell_type": "code",
   "execution_count": null,
   "metadata": {},
   "outputs": [],
   "source": [
    "'True' == True"
   ]
  },
  {
   "cell_type": "markdown",
   "metadata": {},
   "source": [
    "We can also compare some non-numeric values, like strings:"
   ]
  },
  {
   "cell_type": "code",
   "execution_count": null,
   "metadata": {},
   "outputs": [],
   "source": [
    "'Rat' == 'Mouse'"
   ]
  },
  {
   "cell_type": "code",
   "execution_count": null,
   "metadata": {},
   "outputs": [],
   "source": [
    "# What is this true?\n",
    "'Capybara' > 'Beaver'"
   ]
  },
  {
   "cell_type": "markdown",
   "metadata": {},
   "source": [
    "When checking for equality, we use two equal signs `==` instead of one equal sign `=`:"
   ]
  },
  {
   "cell_type": "code",
   "execution_count": null,
   "metadata": {},
   "outputs": [],
   "source": [
    "3 = 4"
   ]
  },
  {
   "cell_type": "markdown",
   "metadata": {},
   "source": [
    "Remember that `=` is already used in Python to assign values to variables, so `3 = 4` will try to overwrite the value of `3`. Fortunately, Python does not allow this!"
   ]
  },
  {
   "cell_type": "code",
   "execution_count": null,
   "metadata": {},
   "outputs": [],
   "source": [
    "3 == 4"
   ]
  },
  {
   "cell_type": "markdown",
   "metadata": {},
   "source": [
    "We can compare the values of ints and floats:"
   ]
  },
  {
   "cell_type": "code",
   "execution_count": null,
   "metadata": {},
   "outputs": [],
   "source": [
    "3 == 3.0"
   ]
  },
  {
   "cell_type": "code",
   "execution_count": null,
   "metadata": {},
   "outputs": [],
   "source": [
    "3 == 3.0000000001"
   ]
  },
  {
   "cell_type": "markdown",
   "metadata": {},
   "source": [
    "Python has limited numerical precision:"
   ]
  },
  {
   "cell_type": "code",
   "execution_count": null,
   "metadata": {},
   "outputs": [],
   "source": [
    "3 == 3.0000000000000001\n",
    "# floating point error in python, 15-16 decimal places saved in memory "
   ]
  },
  {
   "cell_type": "markdown",
   "metadata": {},
   "source": [
    "**Question:** let's define some variables:"
   ]
  },
  {
   "cell_type": "code",
   "execution_count": null,
   "metadata": {},
   "outputs": [],
   "source": [
    "x = 14\n",
    "y = 3"
   ]
  },
  {
   "cell_type": "markdown",
   "metadata": {},
   "source": [
    "What does `x > 15` return? How about `x > y`?"
   ]
  },
  {
   "cell_type": "code",
   "execution_count": null,
   "metadata": {},
   "outputs": [],
   "source": [
    "# ..."
   ]
  },
  {
   "cell_type": "markdown",
   "metadata": {},
   "source": [
    "## Combining comparisons"
   ]
  },
  {
   "cell_type": "markdown",
   "metadata": {},
   "source": [
    "We can also check several comparisons simultaneously:"
   ]
  },
  {
   "cell_type": "code",
   "execution_count": null,
   "metadata": {},
   "outputs": [],
   "source": [
    "12 < x < 20"
   ]
  },
  {
   "cell_type": "code",
   "execution_count": null,
   "metadata": {},
   "outputs": [],
   "source": [
    "10 < x-y < 13"
   ]
  },
  {
   "cell_type": "code",
   "execution_count": null,
   "metadata": {},
   "outputs": [],
   "source": [
    "1 < 2 < 3 < 4 <= 5 <= 6 != 7"
   ]
  },
  {
   "cell_type": "code",
   "execution_count": null,
   "metadata": {},
   "outputs": [],
   "source": [
    "# The expression is True if and only if every single comparison is True.\n",
    "# Why is this expression False?\n",
    "1 < 2 < 3 < 4 <= 5 <= 6 != 7 > 8"
   ]
  },
  {
   "cell_type": "markdown",
   "metadata": {},
   "source": [
    "## Comparisons with arrays"
   ]
  },
  {
   "cell_type": "code",
   "execution_count": null,
   "metadata": {},
   "outputs": [],
   "source": [
    "# Compare with a single value...\n",
    "make_array(1, 2, 3, 4, 5) >= 3"
   ]
  },
  {
   "cell_type": "code",
   "execution_count": null,
   "metadata": {},
   "outputs": [],
   "source": [
    "# ...or compare multiple values\n",
    "x = make_array(1, 2, 3, 4, 5)\n",
    "y = make_array(5, 4, 3, 2, 1)\n",
    "x == y"
   ]
  },
  {
   "cell_type": "code",
   "execution_count": null,
   "metadata": {},
   "outputs": [],
   "source": [
    "# We can only compare two arrays with the same length:\n",
    "x > make_array(3, 4, 5)"
   ]
  },
  {
   "cell_type": "markdown",
   "metadata": {},
   "source": [
    "Summing an array or list of `bool` values will count the number of `True` values:"
   ]
  },
  {
   "cell_type": "code",
   "execution_count": null,
   "metadata": {},
   "outputs": [],
   "source": [
    "sum(make_array(True, True, False, False, False))"
   ]
  },
  {
   "cell_type": "code",
   "execution_count": null,
   "metadata": {},
   "outputs": [],
   "source": [
    "True + True + True + False"
   ]
  },
  {
   "cell_type": "code",
   "execution_count": null,
   "metadata": {},
   "outputs": [],
   "source": [
    "sum(x == y)"
   ]
  },
  {
   "cell_type": "markdown",
   "metadata": {},
   "source": [
    "**Question:** how many capybars are in this array of rodents?"
   ]
  },
  {
   "cell_type": "code",
   "execution_count": null,
   "metadata": {},
   "outputs": [],
   "source": [
    "rodents = make_array('capybara', 'guinea pig', 'beaver', 'mouse', 'rat', 'guinea pig', 'mouse', \n",
    "           'guinea pig', 'hamster', 'hamster', 'guinea pig', 'beaver', 'mouse', 'hamster', \n",
    "           'mouse', 'guinea pig', 'guinea pig', 'hamster', 'mouse', 'capybara', 'capybara', \n",
    "           'mouse', 'marmot', 'capybara', 'mouse', 'marmot', 'capybara', 'guinea pig', 'beaver', \n",
    "           'beaver', 'marmot', 'marmot', 'capybara', 'hamster', 'beaver', 'hamster', 'hamster', \n",
    "           'capybara', 'beaver', 'hamster', 'mouse', 'capybara', 'guinea pig', 'capybara', 'capybara', \n",
    "           'mouse', 'marmot', 'beaver', 'rat', 'guinea pig', 'guinea pig', 'hamster')"
   ]
  },
  {
   "cell_type": "code",
   "execution_count": null,
   "metadata": {},
   "outputs": [],
   "source": [
    "# ..."
   ]
  },
  {
   "cell_type": "markdown",
   "metadata": {},
   "source": [
    "## `If` Statements"
   ]
  },
  {
   "cell_type": "markdown",
   "metadata": {},
   "source": [
    "`If` statements are often used in functions to change behavior based on the value of the arguments. Here is a simple example:"
   ]
  },
  {
   "cell_type": "code",
   "execution_count": null,
   "metadata": {},
   "outputs": [],
   "source": [
    "def sign(x):\n",
    "    if x > 0:\n",
    "        return \"positive\"\n",
    "    elif x < 0:\n",
    "        return \"negative\"\n",
    "    else:\n",
    "        return \"zero\""
   ]
  },
  {
   "cell_type": "code",
   "execution_count": null,
   "metadata": {},
   "outputs": [],
   "source": [
    "sign(1)"
   ]
  },
  {
   "cell_type": "code",
   "execution_count": null,
   "metadata": {},
   "outputs": [],
   "source": [
    "sign(-1)"
   ]
  },
  {
   "cell_type": "code",
   "execution_count": null,
   "metadata": {},
   "outputs": [],
   "source": [
    "sign(0)"
   ]
  },
  {
   "cell_type": "markdown",
   "metadata": {},
   "source": [
    "Here is another example:"
   ]
  },
  {
   "cell_type": "code",
   "execution_count": null,
   "metadata": {},
   "outputs": [],
   "source": [
    "def federal_income_tax(income): \n",
    "    \"\"\"\n",
    "    Calculate 2022 federal income tax for single filers.\n",
    "    \"\"\"\n",
    "    if income < 0:\n",
    "        return 0.0\n",
    "    elif income < 10275:\n",
    "        return 0.1 * income \n",
    "    elif income < 41775:\n",
    "        return 1027.50 + 0.12 * (income - 10275)\n",
    "    elif income < 89075:\n",
    "        return 4807.50 + 0.22 * (income - 41775)\n",
    "    elif income < 170050:\n",
    "        return 15213.50 + 0.24 * (income - 89075)\n",
    "    elif income < 215951:\n",
    "        return 34647.50 + 0.32 * (income - 170050)\n",
    "    elif income < 539900:\n",
    "        return 49335.50 + 0.35 * (income - 215950)\n",
    "    else:\n",
    "        return 162718 + 0.37 * (income - 539900)"
   ]
  },
  {
   "cell_type": "code",
   "execution_count": null,
   "metadata": {},
   "outputs": [],
   "source": [
    "# Use the apply method to calculate taxes for various taxable incomes between 0 and $600000\n",
    "incomes_array = np.arange(0, 600000, 20)\n",
    "incomes_table = Table().with_column('taxable income', incomes_array)\n",
    "incomes_table = incomes_table.with_column(\n",
    "    'federal income tax',\n",
    "    incomes_table.apply(federal_income_tax, 'taxable income'))\n",
    "incomes_table.show(5)\n",
    "\n",
    "# Plot\n",
    "incomes_table.plot('taxable income')"
   ]
  },
  {
   "cell_type": "markdown",
   "metadata": {},
   "source": [
    "Here is a complicated example:"
   ]
  },
  {
   "cell_type": "code",
   "execution_count": null,
   "metadata": {},
   "outputs": [],
   "source": [
    "def rock_paper_scissors(player1, player2):\n",
    "    \"\"\"\n",
    "    Evaluate a game of rock-paper-scissors.\n",
    "    Each player must provide a string 'rock', 'paper', or 'scissors'.\n",
    "    \"\"\"\n",
    "    \n",
    "    # First clause of the outer if statement\n",
    "    if player1 == 'rock':\n",
    "        \n",
    "        # If player1 plays 'rock', then we evaluate this inner if statement:\n",
    "        if player2 == 'rock':\n",
    "            return \"It's a draw!\"\n",
    "        elif player2 == 'paper':\n",
    "            return \"Player 2 wins!\"\n",
    "        elif player2 == 'scissors':\n",
    "            return \"Player 1 wins!\"\n",
    "        else:\n",
    "            return 'Player 2 gave an invalid value \"' + str(player2) + '\"'\n",
    "    \n",
    "    # Second clause of the outer if statement\n",
    "    elif player1 == 'paper':\n",
    "        \n",
    "        # If player1 plays 'paper', then we evaluate this inner if statement:\n",
    "        if player2 == 'paper':\n",
    "            return \"It's a draw!\"\n",
    "        elif player2 == 'scissors':\n",
    "            return \"Player 2 wins!\"\n",
    "        elif player2 == 'rock':\n",
    "            return \"Player 1 wins!\"\n",
    "        else:\n",
    "            return 'Player 2 gave an invalid value \"' + str(player2) + '\"'\n",
    "        \n",
    "    # Third clause of the outer if statement\n",
    "    elif player1 == 'scissors':\n",
    "        \n",
    "        # If player1 plays 'scissors', then we evaluate this inner if statement:\n",
    "        if player2 == 'scissors':\n",
    "            return \"It's a draw!\"\n",
    "        elif player2 == 'rock':\n",
    "            return \"Player 2 wins!\"\n",
    "        elif player2 == 'paper':\n",
    "            return \"Player 1 wins!\"\n",
    "        else:\n",
    "            return 'Player 2 gave an invalid value \"' + str(player2) + '\"'\n",
    "        \n",
    "    # Final clause of the outer if statement\n",
    "    # If Python gets here, then the value of player1 is neither 'rock', 'paper', nor 'scissors',\n",
    "    # so they must have provided an invalid value.\n",
    "    else:\n",
    "        return 'Player 1 gave an invalid value \"' + str(player1) + '\"'"
   ]
  },
  {
   "cell_type": "code",
   "execution_count": null,
   "metadata": {},
   "outputs": [],
   "source": [
    "rock_paper_scissors('rock', 'paper')"
   ]
  },
  {
   "cell_type": "code",
   "execution_count": null,
   "metadata": {},
   "outputs": [],
   "source": [
    "rock_paper_scissors('scissors', 'paper')"
   ]
  },
  {
   "cell_type": "code",
   "execution_count": null,
   "metadata": {},
   "outputs": [],
   "source": [
    "rock_paper_scissors('paper', 'chainsaw')"
   ]
  },
  {
   "cell_type": "markdown",
   "metadata": {},
   "source": [
    "Make sure to indent properly!"
   ]
  },
  {
   "cell_type": "code",
   "execution_count": null,
   "metadata": {},
   "outputs": [],
   "source": [
    "def bad_sign(x):\n",
    "    if x > 0:\n",
    "    return 'positive' # everything to be executed when x > 0 should be indented\n",
    "    elif x < 0:\n",
    "    return 'negative' # this line is also missing an indent\n",
    "    else:\n",
    "    return 'zero' # this line is also missing an indent"
   ]
  },
  {
   "cell_type": "markdown",
   "metadata": {},
   "source": [
    "**Discussion Question:** suppose we want to bin a dataset by placing values into the bins $[0, 1)$, $[1, 2)$, and $[2, 3]$. For example, the number 1 would belong to the $[1, 2)$ bin. Write a function called `bin_data` that takes a single argument `x`. If `x` belongs to one of the three bins, return the left edge of that bin (e.g., if `x = 0.5`, we would return `0`). Otherwise, return the string `\"None\"`."
   ]
  },
  {
   "cell_type": "code",
   "execution_count": null,
   "metadata": {},
   "outputs": [],
   "source": [
    "# ..."
   ]
  },
  {
   "cell_type": "markdown",
   "metadata": {},
   "source": [
    "## `For` Loops"
   ]
  },
  {
   "cell_type": "markdown",
   "metadata": {},
   "source": [
    "`for` loops allow us to iterate over arrays or lists, performing a set of instructions for each value in the sequence:"
   ]
  },
  {
   "cell_type": "code",
   "execution_count": null,
   "metadata": {},
   "outputs": [],
   "source": [
    "pet_array = make_array('mouse', 'capybara', 'marmot')\n",
    "\n",
    "for pet in pet_array:\n",
    "    message = 'I love my ' + pet\n",
    "    print(message)"
   ]
  },
  {
   "cell_type": "code",
   "execution_count": null,
   "metadata": {},
   "outputs": [],
   "source": [
    "pet = pet_array.item(0)\n",
    "message = 'I love my ' + pet\n",
    "print(message)\n",
    "\n",
    "pet = pet_array.item(1)\n",
    "message = 'I love my ' + pet\n",
    "print(message)\n",
    "\n",
    "pet = pet_array.item(2)\n",
    "message = 'I love my ' + pet\n",
    "print(message)"
   ]
  },
  {
   "cell_type": "markdown",
   "metadata": {},
   "source": [
    "Here's another example, which iterates over a list instead of an array:"
   ]
  },
  {
   "cell_type": "code",
   "execution_count": null,
   "metadata": {},
   "outputs": [],
   "source": [
    "for number in [1, 2, 3, 4, 5, 6]:\n",
    "    if number < 3:\n",
    "        print('The number ' + str(number) + ' is less than 3')"
   ]
  },
  {
   "cell_type": "markdown",
   "metadata": {},
   "source": [
    "**Question:** how can I print out every integer between 5 and 10 (inclusive)?"
   ]
  },
  {
   "cell_type": "code",
   "execution_count": null,
   "metadata": {},
   "outputs": [],
   "source": [
    "# ..."
   ]
  },
  {
   "cell_type": "markdown",
   "metadata": {},
   "source": [
    "## Appending Arrays"
   ]
  },
  {
   "cell_type": "markdown",
   "metadata": {},
   "source": [
    "Usually when we use `for` loops, we would like to calculate and store some value each iteration---not just print it out. The `np.append` function will let us add a value (or values) to an existing array."
   ]
  },
  {
   "cell_type": "code",
   "execution_count": null,
   "metadata": {},
   "outputs": [],
   "source": [
    "# Define two arrays\n",
    "first = np.arange(4)\n",
    "second = np.arange(10, 17)"
   ]
  },
  {
   "cell_type": "code",
   "execution_count": null,
   "metadata": {},
   "outputs": [],
   "source": [
    "first"
   ]
  },
  {
   "cell_type": "code",
   "execution_count": null,
   "metadata": {},
   "outputs": [],
   "source": [
    "second"
   ]
  },
  {
   "cell_type": "code",
   "execution_count": null,
   "metadata": {},
   "outputs": [],
   "source": [
    "# Add a single value to the first array\n",
    "np.append(first, 4)"
   ]
  },
  {
   "cell_type": "code",
   "execution_count": null,
   "metadata": {},
   "outputs": [],
   "source": [
    "# Append doesn't modify the array itself! \n",
    "# It returns a new array with the extra value added.\n",
    "first"
   ]
  },
  {
   "cell_type": "code",
   "execution_count": null,
   "metadata": {},
   "outputs": [],
   "source": [
    "# We can also use append to combine two arrays together\n",
    "np.append(first, second)"
   ]
  },
  {
   "cell_type": "markdown",
   "metadata": {},
   "source": [
    "We can use the `np.append` function inside of a `for` loop to construct an array on element at a time. For example, suppose we want to calculate the absolute values of some numbers:"
   ]
  },
  {
   "cell_type": "code",
   "execution_count": null,
   "metadata": {},
   "outputs": [],
   "source": [
    "numbers = make_array(-1.5, 3.5, 2.5, 0.5, -2.0, -4.0)"
   ]
  },
  {
   "cell_type": "markdown",
   "metadata": {},
   "source": [
    "We can first create an empty array using `make_array()`, and then use a `for` loop to append the absolute values on at a time."
   ]
  },
  {
   "cell_type": "code",
   "execution_count": null,
   "metadata": {},
   "outputs": [],
   "source": [
    "abs_vals = make_array() # Create an empty array \n",
    "for number in numbers: # Iterate over each number in the array\n",
    "    abs_vals = np.append(abs_vals, abs(number)) # Append the absolute value to the abs_vals array\n",
    "    \n",
    "abs_vals"
   ]
  },
  {
   "cell_type": "markdown",
   "metadata": {},
   "source": [
    "**Question:** Below is a list of taxable incomes. Using a `for` loop, create an array called `taxes` that contains the amount of federal income tax each of these individuals must pay."
   ]
  },
  {
   "cell_type": "code",
   "execution_count": null,
   "metadata": {},
   "outputs": [],
   "source": [
    "# ..."
   ]
  },
  {
   "cell_type": "markdown",
   "metadata": {},
   "source": [
    "## Warming Up with Simulations: A Preview of Next Week"
   ]
  },
  {
   "cell_type": "markdown",
   "metadata": {},
   "source": [
    "We can use the `np.random.choice` function to randomly select entries from an array. Let's take a look:"
   ]
  },
  {
   "cell_type": "code",
   "execution_count": null,
   "metadata": {},
   "outputs": [],
   "source": [
    "mornings = make_array('wake up', 'sleep in')\n",
    "mornings"
   ]
  },
  {
   "cell_type": "code",
   "execution_count": null,
   "metadata": {},
   "outputs": [],
   "source": [
    "np.random.choice(mornings)"
   ]
  },
  {
   "cell_type": "code",
   "execution_count": null,
   "metadata": {},
   "outputs": [],
   "source": [
    "# Make one random choice for each day of the week\n",
    "np.random.choice(mornings, 7)"
   ]
  },
  {
   "cell_type": "code",
   "execution_count": null,
   "metadata": {},
   "outputs": [],
   "source": [
    "sum(np.random.choice(mornings, 7) == 'wake up')"
   ]
  },
  {
   "cell_type": "code",
   "execution_count": null,
   "metadata": {},
   "outputs": [],
   "source": [
    "morning_week = np.random.choice(mornings, 7)\n",
    "morning_week"
   ]
  },
  {
   "cell_type": "code",
   "execution_count": null,
   "metadata": {},
   "outputs": [],
   "source": [
    "morning_week"
   ]
  },
  {
   "cell_type": "code",
   "execution_count": null,
   "metadata": {},
   "outputs": [],
   "source": [
    "def roll_a_die(d):\n",
    "    \"\"\"\n",
    "    Roll a die with d sides.\n",
    "    \"\"\"\n",
    "    die_faces = np.arange(1, d)\n",
    "    return np.random.choice(die_faces)"
   ]
  },
  {
   "cell_type": "code",
   "execution_count": null,
   "metadata": {},
   "outputs": [],
   "source": [
    "roll_a_die(20)"
   ]
  },
  {
   "cell_type": "markdown",
   "metadata": {},
   "source": [
    "### Example: Simulating Rock-Paper-Scissors"
   ]
  },
  {
   "cell_type": "markdown",
   "metadata": {},
   "source": [
    "Simulate 100 games of rock-paper-scissors, with each player making random plays each round:"
   ]
  },
  {
   "cell_type": "code",
   "execution_count": null,
   "metadata": {},
   "outputs": [],
   "source": [
    "num_games = 100\n",
    "plays = ['rock', 'paper', 'scissors']\n",
    "player1_moves = np.random.choice(plays, num_games) # randomly pick player 1's moves\n",
    "player2_moves = np.random.choice(plays, num_games) # randomly pick player 2's moves\n",
    "\n",
    "player1_moves"
   ]
  },
  {
   "cell_type": "markdown",
   "metadata": {},
   "source": [
    "Let's use the `rock_paper_scissors` function to determine which player wins in each of these games. There are two ways we can approach this. One is to put all the relevant data into a table, and use the `apply` method:"
   ]
  },
  {
   "cell_type": "code",
   "execution_count": null,
   "metadata": {},
   "outputs": [],
   "source": [
    "# APPROACH 1: Use the apply method\n",
    "rps_games = Table().with_columns(\n",
    "    'Player 1 Move', player1_moves,\n",
    "    'Player 2 Move', player2_moves)\n",
    "outcomes_apply = rps_games.apply(rock_paper_scissors, 'Player 1 Move', 'Player 2 Move')"
   ]
  },
  {
   "cell_type": "markdown",
   "metadata": {},
   "source": [
    "Another approach is to use a `for` loop."
   ]
  },
  {
   "cell_type": "code",
   "execution_count": null,
   "metadata": {},
   "outputs": [],
   "source": [
    "# APPROACH 2: Use a for loop\n",
    "outcomes_for = make_array() # Create an empty array\n",
    "for game_number in np.arange(num_games): # Iterate over game_number = 0, 1, 2, ..., 99\n",
    "    \n",
    "    # Use .item to look up the entries of player1_move and player2_move at the position game_number\n",
    "    player1_move = player1_moves.item(game_number) \n",
    "    player2_move = player2_moves.item(game_number)\n",
    "    \n",
    "    # Evaluate the game\n",
    "    outcome = rock_paper_scissors(player1_move, player2_move)\n",
    "    \n",
    "    # Append the outcome to the array\n",
    "    outcomes_for = np.append(outcomes_for, outcome)"
   ]
  },
  {
   "cell_type": "markdown",
   "metadata": {},
   "source": [
    "We now have two arrays, `outcomes_apply` and `outcomes_for`, which should contain the same information. Let's check that the entries of these arrays are identical:"
   ]
  },
  {
   "cell_type": "code",
   "execution_count": null,
   "metadata": {},
   "outputs": [],
   "source": [
    "# Out of the 100 entries in each of these arrays, how many are equal?\n",
    "sum(outcomes_apply == outcomes_for)"
   ]
  },
  {
   "cell_type": "markdown",
   "metadata": {},
   "source": [
    "Let's see the distribution of outcomes over 100 games:"
   ]
  },
  {
   "cell_type": "code",
   "execution_count": null,
   "metadata": {},
   "outputs": [],
   "source": [
    "rps_games = rps_games.with_column('Outcome', outcomes_apply)\n",
    "rps_games"
   ]
  },
  {
   "cell_type": "code",
   "execution_count": null,
   "metadata": {},
   "outputs": [],
   "source": [
    "rps_games.group('Outcome').barh('Outcome')"
   ]
  },
  {
   "cell_type": "markdown",
   "metadata": {},
   "source": [
    "Is this roughly what you would expect?"
   ]
  },
  {
   "cell_type": "markdown",
   "metadata": {},
   "source": [
    "### Example: Simulating Coin Tosses"
   ]
  },
  {
   "cell_type": "markdown",
   "metadata": {},
   "source": [
    "Suppose that we toss a coin 100 times. How many times do we end up with heads?"
   ]
  },
  {
   "cell_type": "code",
   "execution_count": null,
   "metadata": {},
   "outputs": [],
   "source": [
    "coin = make_array('heads', 'tails')"
   ]
  },
  {
   "cell_type": "code",
   "execution_count": null,
   "metadata": {},
   "outputs": [],
   "source": [
    "sum(np.random.choice(coin, 100) == 'heads')"
   ]
  },
  {
   "cell_type": "markdown",
   "metadata": {},
   "source": [
    "The number of heads can vary quite widely. Let's repeat this experiment many times, and examine the distribution for the number of heads each trial."
   ]
  },
  {
   "cell_type": "code",
   "execution_count": null,
   "metadata": {},
   "outputs": [],
   "source": [
    "def num_heads():\n",
    "    \"\"\"\n",
    "    Simulate 100 coin tosses and count the number of heads.\n",
    "    \"\"\"\n",
    "    return sum(np.random.choice(coin, 100) == 'heads')"
   ]
  },
  {
   "cell_type": "code",
   "execution_count": null,
   "metadata": {},
   "outputs": [],
   "source": [
    "# Decide how many times you want to repeat the experiment\n",
    "repetitions = 10000"
   ]
  },
  {
   "cell_type": "code",
   "execution_count": null,
   "metadata": {},
   "outputs": [],
   "source": [
    "# Simulate the outcomes\n",
    "outcomes = make_array()\n",
    "for i in np.arange(repetitions):\n",
    "    outcomes = np.append(outcomes, num_heads())"
   ]
  },
  {
   "cell_type": "code",
   "execution_count": null,
   "metadata": {},
   "outputs": [],
   "source": [
    "# Plot a histogram with the distribution of outcomes\n",
    "heads = Table().with_column('Heads', outcomes)\n",
    "heads.hist(bins = np.arange(29.5, 70.6))"
   ]
  },
  {
   "cell_type": "code",
   "execution_count": null,
   "metadata": {},
   "outputs": [],
   "source": [
    "np.mean(outcomes)"
   ]
  }
 ],
 "metadata": {
  "anaconda-cloud": {},
  "kernelspec": {
   "display_name": "Python 3 (ipykernel)",
   "language": "python",
   "name": "python3"
  },
  "language_info": {
   "codemirror_mode": {
    "name": "ipython",
    "version": 3
   },
   "file_extension": ".py",
   "mimetype": "text/x-python",
   "name": "python",
   "nbconvert_exporter": "python",
   "pygments_lexer": "ipython3",
   "version": "3.10.8"
  },
  "toc": {
   "base_numbering": 1,
   "nav_menu": {},
   "number_sections": true,
   "sideBar": true,
   "skip_h1_title": false,
   "title_cell": "Table of Contents",
   "title_sidebar": "Contents",
   "toc_cell": false,
   "toc_position": {},
   "toc_section_display": true,
   "toc_window_display": false
  }
 },
 "nbformat": 4,
 "nbformat_minor": 4
}
