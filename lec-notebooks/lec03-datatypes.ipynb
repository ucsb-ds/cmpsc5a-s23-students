{
 "cells": [
  {
   "cell_type": "code",
   "execution_count": null,
   "metadata": {
    "tags": []
   },
   "outputs": [],
   "source": [
    "from datascience import *\n",
    "import numpy as np"
   ]
  },
  {
   "cell_type": "markdown",
   "metadata": {},
   "source": [
    "# Review of Tables\n",
    "\n",
    "## Basics\n",
    "\n",
    "- what is a CSV?\n",
    "- read the CSV 'data/skyscrapers.csv' using `read_table()`\n",
    "- display a table using `show()`\n",
    "- sort a table using `sort()` ascending/descending\n",
    "- select column(s) using `select()`\n",
    "- drop column(s) using `drop()`"
   ]
  },
  {
   "cell_type": "markdown",
   "metadata": {
    "tags": []
   },
   "source": [
    "## Subsetting:\n",
    "- subset rows using `where()`\n",
    "    - skyscrapers in LA\n",
    "    - skyscrapers in LA that were completed in 1971\n",
    "- subset rows using `where()` and [predicates](http://www.data8.org/datascience/reference-nb/datascience-reference.html#Table.where-Predicates)\n",
    "    - skyscrapers that were completed after 2014\n",
    "    - skyscrapers that were completed in the 1990s\n",
    "    \n",
    "> some predicates: \n",
    "> - `are.equal_to()` \n",
    "> - `are.above()`,`are.below()`\n",
    "> - `are.above_or_equal_to()`, `are.below_or_equal_to()`, \n",
    "> - `are.between()`, `are.between_or_equal_to()`, \n",
    "\n",
    "- skyscrapers that are a 'Tower' (using `are.containing()`) \n",
    "- skyscrapers that are in Chicago or Houston  (using `are.contained_in()`)"
   ]
  },
  {
   "cell_type": "markdown",
   "metadata": {
    "tags": []
   },
   "source": [
    "## Visualizations\n",
    "1. read the csv `data/movies_by_year.csv`\n",
    "1. Plot the number of movies vs the total gross using `scatter()`\n",
    "    - add a trendline\n",
    "1. Plot the number of movies over time using `plot()`"
   ]
  },
  {
   "cell_type": "markdown",
   "metadata": {},
   "source": [
    "# Numbers \n",
    "Python has two real number types \n",
    "- int: an integer of any size\n",
    "- float: a number with an optional fractional part\n",
    "\n",
    "An **int** never has a decimal point; a **float** always does. A float might be printed using scientific notation\n",
    "Three limitations of float values:\n",
    "- They have limited size (but the limit is huge)\n",
    "- They have limited precision of 15-16 decimal places\n",
    "- After arithmetic, the final few decimal places can be wrong"
   ]
  },
  {
   "cell_type": "markdown",
   "metadata": {
    "tags": []
   },
   "source": [
    "## Basics\n",
    "- ints vs floats\n",
    "- multiplication of two ints -> int\n",
    "- division of two ints -> float\n",
    "- raise integer by integer -> int\n",
    "- raise by float -> float\n",
    "- inspect data type using `type()` function\n",
    "\n",
    "## why integers and float\n",
    "- (accurately) representing very large numbers\n",
    "- floats have a limit in precision\n",
    "    - `10/3 != 3 1/3`\n",
    "    - difference between two precise numbers\n",
    "    - $(\\sqrt 13)^2 \\neq 13$\n",
    "    \n",
    "## Converting (\"Casting\") between int and float\n",
    "- careful with decimals/rounding\n",
    "\n",
    "## Scientific notation\n",
    "- divide by large number\n",
    "- write scientific notation\n",
    "- underscores for thousand separators"
   ]
  },
  {
   "cell_type": "markdown",
   "metadata": {},
   "source": [
    "# Text / Strings\n",
    "A string value is a snippet of text of any length\n",
    "- `'a'`\n",
    "- `'word'`\n",
    "- `\"there can be 2 sentences. Here's the second!\"`\n",
    "\n",
    "Strings consisting of numbers can be converted to numbers\n",
    "- `int('12')`\n",
    "- `float('1.2')`\n",
    "\n",
    "Any value can be converted to a string\n",
    "- `str(5)`\n",
    "\n",
    "\n",
    "## Basics\n",
    "- single quotes vs double quotes \n",
    "    - escaping\n",
    "    - apostrophe\n",
    "- add/concatenate strings\n",
    "- multiply by int/float\n",
    "- add string and number\n",
    "    - convert\n",
    "- convert from string to number\n",
    "- string formatting"
   ]
  },
  {
   "cell_type": "markdown",
   "metadata": {
    "tags": []
   },
   "source": [
    "## Discussion question:\n",
    "Assume you have run the following statements:\n",
    "```python\n",
    "x = 3\n",
    "y = '4'\n",
    "z = '5.6'\n",
    "```\n",
    "\n",
    "What's the source of the error in each example?\n",
    "1. `x + y`\n",
    "1. `x + int(y + z)`\n",
    "1. `str(x) + int(y)`\n",
    "1. `y + float(z)`\n"
   ]
  },
  {
   "cell_type": "markdown",
   "metadata": {
    "tags": []
   },
   "source": [
    "# Boolean\n",
    "- inequalities\n",
    "- logic (and / or)"
   ]
  },
  {
   "cell_type": "markdown",
   "metadata": {},
   "source": [
    "# Types\n",
    "We’ve seen 6 types so far:\n",
    "- `int: 2`\n",
    "- `float: 2.2`\n",
    "- `str: 'Red fish, blue fish'`\n",
    "- `builtin_function_or_method: abs`\n",
    "- `Table`\n",
    "- `boolean`\n",
    "\n",
    "\n",
    "The `type` function can tell you the type of a value\n",
    "- `type(2)`\n",
    "- `type(2 + 2)`\n",
    "\n",
    "An expression’s “type” is based on its value, not how it looks\n",
    "\n",
    "- `x = 2`\n",
    "- `type(x)`"
   ]
  },
  {
   "cell_type": "markdown",
   "metadata": {},
   "source": [
    "## Arrays \n",
    "An array contains a sequence of values\n",
    "- All elements of an array should have the same type\n",
    "- Arithmetic is applied to each element individually\n",
    "- Adding arrays adds elements (**if same length!**)\n",
    "- A column of a table is an array"
   ]
  },
  {
   "cell_type": "markdown",
   "metadata": {},
   "source": [
    "## Let's:\n",
    "- Create an array using `make_array()`\n",
    "- multiply/raise/add/divide array with/by constant\n",
    "- sum up all elements in array using `sum()`\n",
    "- calculate the average value\n",
    "- create a new array \n",
    "- add two arrays\n",
    "    - check the size of array using `len()`\n",
    "- make an array of strings\n",
    "- use numpy functions on arrays\n",
    "    - `np.average()`\n",
    "    - `np.median()`"
   ]
  },
  {
   "cell_type": "markdown",
   "metadata": {},
   "source": [
    "## Columns of Tables are Arrays \n",
    "- select the height coumn of the skyscrapers using\n",
    "    - `select`\n",
    "    - `column`\n",
    "- calculate the average height of the skyscrapers in SF vs LA"
   ]
  },
  {
   "cell_type": "code",
   "execution_count": null,
   "metadata": {},
   "outputs": [],
   "source": []
  }
 ],
 "metadata": {
  "anaconda-cloud": {},
  "kernelspec": {
   "display_name": "Python 3 (ipykernel)",
   "language": "python",
   "name": "python3"
  },
  "language_info": {
   "codemirror_mode": {
    "name": "ipython",
    "version": 3
   },
   "file_extension": ".py",
   "mimetype": "text/x-python",
   "name": "python",
   "nbconvert_exporter": "python",
   "pygments_lexer": "ipython3",
   "version": "3.10.6"
  },
  "toc": {
   "base_numbering": 1,
   "nav_menu": {},
   "number_sections": true,
   "sideBar": true,
   "skip_h1_title": false,
   "title_cell": "Table of Contents",
   "title_sidebar": "Contents",
   "toc_cell": false,
   "toc_position": {},
   "toc_section_display": true,
   "toc_window_display": false
  }
 },
 "nbformat": 4,
 "nbformat_minor": 4
}
