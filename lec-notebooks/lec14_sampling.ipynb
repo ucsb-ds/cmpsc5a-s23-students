{
 "cells": [
  {
   "cell_type": "code",
   "execution_count": 2,
   "metadata": {
    "tags": []
   },
   "outputs": [],
   "source": [
    "from datascience import *\n",
    "import numpy as np\n",
    "\n",
    "%matplotlib inline\n",
    "import matplotlib.pyplot as plots\n",
    "plots.style.use('fivethirtyeight')"
   ]
  },
  {
   "cell_type": "markdown",
   "metadata": {},
   "source": [
    "# Lecture 14\n",
    "\n",
    "In this lecture we will:\n",
    "1. Simulate the Monty Hall Problem\n",
    "2. Demonstrate Deterministic and Random Sampling\n",
    "3. Probability Distributions and Empirical Distributions\n",
    "4. Law of Large Numbers"
   ]
  },
  {
   "cell_type": "markdown",
   "metadata": {},
   "source": [
    "## Addendum"
   ]
  },
  {
   "cell_type": "code",
   "execution_count": 51,
   "metadata": {
    "tags": []
   },
   "outputs": [],
   "source": [
    "p1 = 2*(1/100 * 1/99) + 2 * (1/100 * 98/99) + 2 * (98/100 * 1/99)"
   ]
  },
  {
   "cell_type": "code",
   "execution_count": 50,
   "metadata": {
    "tags": []
   },
   "outputs": [],
   "source": [
    "p2 = 1 - (98/100) * (97/99)"
   ]
  },
  {
   "cell_type": "code",
   "execution_count": 55,
   "metadata": {
    "tags": []
   },
   "outputs": [
    {
     "data": {
      "text/plain": [
       "False"
      ]
     },
     "execution_count": 55,
     "metadata": {},
     "output_type": "execute_result"
    }
   ],
   "source": [
    "p1 == p2"
   ]
  },
  {
   "cell_type": "code",
   "execution_count": 53,
   "metadata": {
    "tags": []
   },
   "outputs": [
    {
     "data": {
      "text/plain": [
       "(0.0397979797979798, 0.03979797979797983)"
      ]
     },
     "execution_count": 53,
     "metadata": {},
     "output_type": "execute_result"
    }
   ],
   "source": [
    "p1, p2"
   ]
  },
  {
   "cell_type": "code",
   "execution_count": 54,
   "metadata": {
    "tags": []
   },
   "outputs": [
    {
     "data": {
      "text/plain": [
       "True"
      ]
     },
     "execution_count": 54,
     "metadata": {},
     "output_type": "execute_result"
    }
   ],
   "source": [
    "round(p1, 10) == round(p2, 10)"
   ]
  },
  {
   "cell_type": "markdown",
   "metadata": {},
   "source": [
    "---\n",
    "\n",
    "## The Monty Hall Problem \n",
    "\n",
    "Here we simulate the Monty Hall problem.  We break the process into three steps. \n",
    "\n",
    "1. Simulate the prize behind the door we picked (this is the only chance event):\n"
   ]
  },
  {
   "cell_type": "code",
   "execution_count": 3,
   "metadata": {
    "tags": []
   },
   "outputs": [],
   "source": [
    "prizes = make_array(\"goat\", \"goat\", \"car\")"
   ]
  },
  {
   "cell_type": "code",
   "execution_count": 4,
   "metadata": {
    "tags": []
   },
   "outputs": [
    {
     "data": {
      "text/html": [
       "<table border=\"1\" class=\"dataframe\">\n",
       "    <thead>\n",
       "        <tr>\n",
       "            <th>My Choice</th>\n",
       "        </tr>\n",
       "    </thead>\n",
       "    <tbody>\n",
       "        <tr>\n",
       "            <td>goat     </td>\n",
       "        </tr>\n",
       "        <tr>\n",
       "            <td>goat     </td>\n",
       "        </tr>\n",
       "        <tr>\n",
       "            <td>goat     </td>\n",
       "        </tr>\n",
       "        <tr>\n",
       "            <td>car      </td>\n",
       "        </tr>\n",
       "        <tr>\n",
       "            <td>goat     </td>\n",
       "        </tr>\n",
       "        <tr>\n",
       "            <td>goat     </td>\n",
       "        </tr>\n",
       "        <tr>\n",
       "            <td>goat     </td>\n",
       "        </tr>\n",
       "        <tr>\n",
       "            <td>car      </td>\n",
       "        </tr>\n",
       "        <tr>\n",
       "            <td>goat     </td>\n",
       "        </tr>\n",
       "        <tr>\n",
       "            <td>goat     </td>\n",
       "        </tr>\n",
       "    </tbody>\n",
       "</table>\n",
       "<p>... (9990 rows omitted)</p>"
      ],
      "text/plain": [
       "My Choice\n",
       "goat\n",
       "goat\n",
       "goat\n",
       "car\n",
       "goat\n",
       "goat\n",
       "goat\n",
       "car\n",
       "goat\n",
       "goat\n",
       "... (9990 rows omitted)"
      ]
     },
     "execution_count": 4,
     "metadata": {},
     "output_type": "execute_result"
    }
   ],
   "source": [
    "N = 10_000\n",
    "outcomes = Table().with_column(\"My Choice\", np.random.choice(prizes, N))\n",
    "outcomes"
   ]
  },
  {
   "cell_type": "markdown",
   "metadata": {},
   "source": [
    "2. Then Monty Hall reveals a Goat behind one of the other doors."
   ]
  },
  {
   "cell_type": "code",
   "execution_count": 5,
   "metadata": {
    "tags": []
   },
   "outputs": [
    {
     "data": {
      "text/html": [
       "<table border=\"1\" class=\"dataframe\">\n",
       "    <thead>\n",
       "        <tr>\n",
       "            <th>My Choice</th> <th>Monty's Door</th>\n",
       "        </tr>\n",
       "    </thead>\n",
       "    <tbody>\n",
       "        <tr>\n",
       "            <td>goat     </td> <td>goat        </td>\n",
       "        </tr>\n",
       "        <tr>\n",
       "            <td>goat     </td> <td>goat        </td>\n",
       "        </tr>\n",
       "        <tr>\n",
       "            <td>goat     </td> <td>goat        </td>\n",
       "        </tr>\n",
       "        <tr>\n",
       "            <td>car      </td> <td>goat        </td>\n",
       "        </tr>\n",
       "        <tr>\n",
       "            <td>goat     </td> <td>goat        </td>\n",
       "        </tr>\n",
       "        <tr>\n",
       "            <td>goat     </td> <td>goat        </td>\n",
       "        </tr>\n",
       "        <tr>\n",
       "            <td>goat     </td> <td>goat        </td>\n",
       "        </tr>\n",
       "        <tr>\n",
       "            <td>car      </td> <td>goat        </td>\n",
       "        </tr>\n",
       "        <tr>\n",
       "            <td>goat     </td> <td>goat        </td>\n",
       "        </tr>\n",
       "        <tr>\n",
       "            <td>goat     </td> <td>goat        </td>\n",
       "        </tr>\n",
       "    </tbody>\n",
       "</table>\n",
       "<p>... (9990 rows omitted)</p>"
      ],
      "text/plain": [
       "My Choice | Monty's Door\n",
       "goat      | goat\n",
       "goat      | goat\n",
       "goat      | goat\n",
       "car       | goat\n",
       "goat      | goat\n",
       "goat      | goat\n",
       "goat      | goat\n",
       "car       | goat\n",
       "goat      | goat\n",
       "goat      | goat\n",
       "... (9990 rows omitted)"
      ]
     },
     "execution_count": 5,
     "metadata": {},
     "output_type": "execute_result"
    }
   ],
   "source": [
    "outcomes = outcomes.with_column(\"Monty's Door\", \"goat\")\n",
    "outcomes"
   ]
  },
  {
   "cell_type": "markdown",
   "metadata": {},
   "source": [
    "3. Finally we compute the prize behind the remaining door.  Since Monty revealed one of the goats, the prize behind the remaining door depends only on our initial choice.  If we picked a car, then the remaining door has a goat.  Otherwise it has a car."
   ]
  },
  {
   "cell_type": "code",
   "execution_count": 6,
   "metadata": {
    "tags": []
   },
   "outputs": [],
   "source": [
    "def other_door(my_choice):\n",
    "    if my_choice == \"car\":\n",
    "        return \"goat\"\n",
    "    else:\n",
    "        return \"car\""
   ]
  },
  {
   "cell_type": "code",
   "execution_count": 7,
   "metadata": {
    "tags": []
   },
   "outputs": [
    {
     "data": {
      "text/html": [
       "<table border=\"1\" class=\"dataframe\">\n",
       "    <thead>\n",
       "        <tr>\n",
       "            <th>My Choice</th> <th>Monty's Door</th> <th>Other Door</th>\n",
       "        </tr>\n",
       "    </thead>\n",
       "    <tbody>\n",
       "        <tr>\n",
       "            <td>goat     </td> <td>goat        </td> <td>car       </td>\n",
       "        </tr>\n",
       "        <tr>\n",
       "            <td>goat     </td> <td>goat        </td> <td>car       </td>\n",
       "        </tr>\n",
       "        <tr>\n",
       "            <td>goat     </td> <td>goat        </td> <td>car       </td>\n",
       "        </tr>\n",
       "        <tr>\n",
       "            <td>car      </td> <td>goat        </td> <td>goat      </td>\n",
       "        </tr>\n",
       "        <tr>\n",
       "            <td>goat     </td> <td>goat        </td> <td>car       </td>\n",
       "        </tr>\n",
       "        <tr>\n",
       "            <td>goat     </td> <td>goat        </td> <td>car       </td>\n",
       "        </tr>\n",
       "        <tr>\n",
       "            <td>goat     </td> <td>goat        </td> <td>car       </td>\n",
       "        </tr>\n",
       "        <tr>\n",
       "            <td>car      </td> <td>goat        </td> <td>goat      </td>\n",
       "        </tr>\n",
       "        <tr>\n",
       "            <td>goat     </td> <td>goat        </td> <td>car       </td>\n",
       "        </tr>\n",
       "        <tr>\n",
       "            <td>goat     </td> <td>goat        </td> <td>car       </td>\n",
       "        </tr>\n",
       "    </tbody>\n",
       "</table>\n",
       "<p>... (9990 rows omitted)</p>"
      ],
      "text/plain": [
       "My Choice | Monty's Door | Other Door\n",
       "goat      | goat         | car\n",
       "goat      | goat         | car\n",
       "goat      | goat         | car\n",
       "car       | goat         | goat\n",
       "goat      | goat         | car\n",
       "goat      | goat         | car\n",
       "goat      | goat         | car\n",
       "car       | goat         | goat\n",
       "goat      | goat         | car\n",
       "goat      | goat         | car\n",
       "... (9990 rows omitted)"
      ]
     },
     "execution_count": 7,
     "metadata": {},
     "output_type": "execute_result"
    }
   ],
   "source": [
    "outcomes = outcomes.with_column(\"Other Door\", outcomes.apply(other_door, \"My Choice\"))\n",
    "outcomes"
   ]
  },
  {
   "cell_type": "markdown",
   "metadata": {},
   "source": [
    "Notice that in the above table each row has two goats and a car.  Each row simulates an outcome of playing the game."
   ]
  },
  {
   "cell_type": "markdown",
   "metadata": {},
   "source": [
    "If we stayed with our initial choice how often would we get a car?"
   ]
  },
  {
   "cell_type": "code",
   "execution_count": 8,
   "metadata": {
    "tags": []
   },
   "outputs": [
    {
     "data": {
      "image/png": "[encoded data removed]",
      "text/plain": [
       "<Figure size 600x400 with 1 Axes>"
      ]
     },
     "metadata": {},
     "output_type": "display_data"
    }
   ],
   "source": [
    "outcomes.group(\"My Choice\").barh(\"My Choice\")"
   ]
  },
  {
   "cell_type": "markdown",
   "metadata": {},
   "source": [
    "If we switched to the Other door how often would we win?"
   ]
  },
  {
   "cell_type": "code",
   "execution_count": 9,
   "metadata": {
    "tags": []
   },
   "outputs": [
    {
     "data": {
      "image/png": "[encoded data removed]",
      "text/plain": [
       "<Figure size 600x400 with 1 Axes>"
      ]
     },
     "metadata": {},
     "output_type": "display_data"
    }
   ],
   "source": [
    "outcomes.group(\"Other Door\").barh(\"Other Door\")"
   ]
  },
  {
   "cell_type": "markdown",
   "metadata": {},
   "source": [
    "Would you switch?"
   ]
  },
  {
   "cell_type": "markdown",
   "metadata": {},
   "source": [
    "---\n",
    "<center> Return to Slides </center>\n",
    "\n",
    "---"
   ]
  },
  {
   "cell_type": "markdown",
   "metadata": {},
   "source": [
    "## Random Sampling ##"
   ]
  },
  {
   "cell_type": "markdown",
   "metadata": {},
   "source": [
    "Here we will use a dataset of all United airlines flights from 6/1/15 to 8/9/15.  This data contains their destination and how long they were delayed, in minutes."
   ]
  },
  {
   "cell_type": "code",
   "execution_count": 10,
   "metadata": {
    "tags": []
   },
   "outputs": [
    {
     "data": {
      "text/html": [
       "<table border=\"1\" class=\"dataframe\">\n",
       "    <thead>\n",
       "        <tr>\n",
       "            <th>Row</th> <th>Date</th> <th>Flight Number</th> <th>Destination</th> <th>Delay</th>\n",
       "        </tr>\n",
       "    </thead>\n",
       "    <tbody>\n",
       "        <tr>\n",
       "            <td>0   </td> <td>6/1/15</td> <td>73           </td> <td>HNL        </td> <td>257  </td>\n",
       "        </tr>\n",
       "        <tr>\n",
       "            <td>1   </td> <td>6/1/15</td> <td>217          </td> <td>EWR        </td> <td>28   </td>\n",
       "        </tr>\n",
       "        <tr>\n",
       "            <td>2   </td> <td>6/1/15</td> <td>237          </td> <td>STL        </td> <td>-3   </td>\n",
       "        </tr>\n",
       "        <tr>\n",
       "            <td>3   </td> <td>6/1/15</td> <td>250          </td> <td>SAN        </td> <td>0    </td>\n",
       "        </tr>\n",
       "        <tr>\n",
       "            <td>4   </td> <td>6/1/15</td> <td>267          </td> <td>PHL        </td> <td>64   </td>\n",
       "        </tr>\n",
       "        <tr>\n",
       "            <td>5   </td> <td>6/1/15</td> <td>273          </td> <td>SEA        </td> <td>-6   </td>\n",
       "        </tr>\n",
       "        <tr>\n",
       "            <td>6   </td> <td>6/1/15</td> <td>278          </td> <td>SEA        </td> <td>-8   </td>\n",
       "        </tr>\n",
       "        <tr>\n",
       "            <td>7   </td> <td>6/1/15</td> <td>292          </td> <td>EWR        </td> <td>12   </td>\n",
       "        </tr>\n",
       "        <tr>\n",
       "            <td>8   </td> <td>6/1/15</td> <td>300          </td> <td>HNL        </td> <td>20   </td>\n",
       "        </tr>\n",
       "        <tr>\n",
       "            <td>9   </td> <td>6/1/15</td> <td>317          </td> <td>IND        </td> <td>-10  </td>\n",
       "        </tr>\n",
       "    </tbody>\n",
       "</table>\n",
       "<p>... (13815 rows omitted)</p>"
      ],
      "text/plain": [
       "Row  | Date   | Flight Number | Destination | Delay\n",
       "0    | 6/1/15 | 73            | HNL         | 257\n",
       "1    | 6/1/15 | 217           | EWR         | 28\n",
       "2    | 6/1/15 | 237           | STL         | -3\n",
       "3    | 6/1/15 | 250           | SAN         | 0\n",
       "4    | 6/1/15 | 267           | PHL         | 64\n",
       "5    | 6/1/15 | 273           | SEA         | -6\n",
       "6    | 6/1/15 | 278           | SEA         | -8\n",
       "7    | 6/1/15 | 292           | EWR         | 12\n",
       "8    | 6/1/15 | 300           | HNL         | 20\n",
       "9    | 6/1/15 | 317           | IND         | -10\n",
       "... (13815 rows omitted)"
      ]
     },
     "execution_count": 10,
     "metadata": {},
     "output_type": "execute_result"
    }
   ],
   "source": [
    "united = Table.read_table('data/united.csv')\n",
    "united = ( # Adding row numbers so we can see samples more easily\n",
    "    united\n",
    "    .with_column('Row', np.arange(united.num_rows))\n",
    "    .move_to_start('Row') \n",
    ")\n",
    "united"
   ]
  },
  {
   "cell_type": "markdown",
   "metadata": {},
   "source": [
    "For each of the following, is this a deterministic or random sampling strategy?"
   ]
  },
  {
   "cell_type": "code",
   "execution_count": 10,
   "metadata": {},
   "outputs": [
    {
     "data": {
      "text/html": [
       "<table border=\"1\" class=\"dataframe\">\n",
       "    <thead>\n",
       "        <tr>\n",
       "            <th>Row</th> <th>Date</th> <th>Flight Number</th> <th>Destination</th> <th>Delay</th>\n",
       "        </tr>\n",
       "    </thead>\n",
       "    <tbody>\n",
       "        <tr>\n",
       "            <td>26  </td> <td>6/1/15</td> <td>502          </td> <td>JFK        </td> <td>-4   </td>\n",
       "        </tr>\n",
       "        <tr>\n",
       "            <td>33  </td> <td>6/1/15</td> <td>637          </td> <td>JFK        </td> <td>141  </td>\n",
       "        </tr>\n",
       "        <tr>\n",
       "            <td>39  </td> <td>6/1/15</td> <td>704          </td> <td>JFK        </td> <td>-8   </td>\n",
       "        </tr>\n",
       "        <tr>\n",
       "            <td>50  </td> <td>6/1/15</td> <td>758          </td> <td>JFK        </td> <td>-5   </td>\n",
       "        </tr>\n",
       "        <tr>\n",
       "            <td>51  </td> <td>6/1/15</td> <td>760          </td> <td>JFK        </td> <td>352  </td>\n",
       "        </tr>\n",
       "        <tr>\n",
       "            <td>56  </td> <td>6/1/15</td> <td>824          </td> <td>JFK        </td> <td>3    </td>\n",
       "        </tr>\n",
       "        <tr>\n",
       "            <td>57  </td> <td>6/1/15</td> <td>898          </td> <td>JFK        </td> <td>290  </td>\n",
       "        </tr>\n",
       "        <tr>\n",
       "            <td>179 </td> <td>6/2/15</td> <td>502          </td> <td>JFK        </td> <td>0    </td>\n",
       "        </tr>\n",
       "        <tr>\n",
       "            <td>188 </td> <td>6/2/15</td> <td>637          </td> <td>JFK        </td> <td>202  </td>\n",
       "        </tr>\n",
       "        <tr>\n",
       "            <td>194 </td> <td>6/2/15</td> <td>704          </td> <td>JFK        </td> <td>-11  </td>\n",
       "        </tr>\n",
       "    </tbody>\n",
       "</table>\n",
       "<p>... (593 rows omitted)</p>"
      ],
      "text/plain": [
       "Row  | Date   | Flight Number | Destination | Delay\n",
       "26   | 6/1/15 | 502           | JFK         | -4\n",
       "33   | 6/1/15 | 637           | JFK         | 141\n",
       "39   | 6/1/15 | 704           | JFK         | -8\n",
       "50   | 6/1/15 | 758           | JFK         | -5\n",
       "51   | 6/1/15 | 760           | JFK         | 352\n",
       "56   | 6/1/15 | 824           | JFK         | 3\n",
       "57   | 6/1/15 | 898           | JFK         | 290\n",
       "179  | 6/2/15 | 502           | JFK         | 0\n",
       "188  | 6/2/15 | 637           | JFK         | 202\n",
       "194  | 6/2/15 | 704           | JFK         | -11\n",
       "... (593 rows omitted)"
      ]
     },
     "execution_count": 10,
     "metadata": {},
     "output_type": "execute_result"
    }
   ],
   "source": [
    "united.where('Destination', 'JFK')"
   ]
  },
  {
   "cell_type": "markdown",
   "metadata": {},
   "source": [
    "<details><summary>Answer</summary>\n",
    "\n",
    "**Deterministic**\n",
    "\n",
    "</details>"
   ]
  },
  {
   "cell_type": "code",
   "execution_count": 11,
   "metadata": {
    "tags": []
   },
   "outputs": [
    {
     "data": {
      "text/html": [
       "<table border=\"1\" class=\"dataframe\">\n",
       "    <thead>\n",
       "        <tr>\n",
       "            <th>Row</th> <th>Date</th> <th>Flight Number</th> <th>Destination</th> <th>Delay</th>\n",
       "        </tr>\n",
       "    </thead>\n",
       "    <tbody>\n",
       "        <tr>\n",
       "            <td>9151</td> <td>7/31/15</td> <td>1681         </td> <td>PHL        </td> <td>26   </td>\n",
       "        </tr>\n",
       "        <tr>\n",
       "            <td>4919</td> <td>7/3/15 </td> <td>1947         </td> <td>BWI        </td> <td>-7   </td>\n",
       "        </tr>\n",
       "        <tr>\n",
       "            <td>6786</td> <td>7/16/15</td> <td>1029         </td> <td>DFW        </td> <td>176  </td>\n",
       "        </tr>\n",
       "    </tbody>\n",
       "</table>"
      ],
      "text/plain": [
       "Row  | Date    | Flight Number | Destination | Delay\n",
       "9151 | 7/31/15 | 1681          | PHL         | 26\n",
       "4919 | 7/3/15  | 1947          | BWI         | -7\n",
       "6786 | 7/16/15 | 1029          | DFW         | 176"
      ]
     },
     "execution_count": 11,
     "metadata": {},
     "output_type": "execute_result"
    }
   ],
   "source": [
    "united.sample(3, with_replacement=True)"
   ]
  },
  {
   "cell_type": "markdown",
   "metadata": {},
   "source": [
    "<details><summary>Answer</summary>\n",
    "\n",
    "**Random**\n",
    "\n",
    "</details>"
   ]
  },
  {
   "cell_type": "code",
   "execution_count": 12,
   "metadata": {
    "tags": []
   },
   "outputs": [
    {
     "data": {
      "text/html": [
       "<table border=\"1\" class=\"dataframe\">\n",
       "    <thead>\n",
       "        <tr>\n",
       "            <th>Row</th> <th>Date</th> <th>Flight Number</th> <th>Destination</th> <th>Delay</th>\n",
       "        </tr>\n",
       "    </thead>\n",
       "    <tbody>\n",
       "        <tr>\n",
       "            <td>6622 </td> <td>7/15/15</td> <td>760          </td> <td>JFK        </td> <td>21   </td>\n",
       "        </tr>\n",
       "        <tr>\n",
       "            <td>10007</td> <td>8/6/15 </td> <td>704          </td> <td>JFK        </td> <td>7    </td>\n",
       "        </tr>\n",
       "        <tr>\n",
       "            <td>11728</td> <td>8/17/15</td> <td>898          </td> <td>JFK        </td> <td>6    </td>\n",
       "        </tr>\n",
       "    </tbody>\n",
       "</table>"
      ],
      "text/plain": [
       "Row   | Date    | Flight Number | Destination | Delay\n",
       "6622  | 7/15/15 | 760           | JFK         | 21\n",
       "10007 | 8/6/15  | 704           | JFK         | 7\n",
       "11728 | 8/17/15 | 898           | JFK         | 6"
      ]
     },
     "execution_count": 12,
     "metadata": {},
     "output_type": "execute_result"
    }
   ],
   "source": [
    "(\n",
    "    united\n",
    "    .where('Destination', 'JFK')\n",
    "    .sample(3, with_replacement=True)\n",
    ")"
   ]
  },
  {
   "cell_type": "markdown",
   "metadata": {},
   "source": [
    "<details><summary>Answer</summary>\n",
    "\n",
    "**Random**\n",
    "\n",
    "</details>"
   ]
  },
  {
   "cell_type": "markdown",
   "metadata": {},
   "source": [
    "---\n",
    "<center> Return to Slides </center>\n",
    "\n",
    "---"
   ]
  },
  {
   "cell_type": "markdown",
   "metadata": {},
   "source": [
    "## Distributions "
   ]
  },
  {
   "cell_type": "code",
   "execution_count": 14,
   "metadata": {
    "tags": []
   },
   "outputs": [
    {
     "data": {
      "text/html": [
       "<table border=\"1\" class=\"dataframe\">\n",
       "    <thead>\n",
       "        <tr>\n",
       "            <th>Face</th>\n",
       "        </tr>\n",
       "    </thead>\n",
       "    <tbody>\n",
       "        <tr>\n",
       "            <td>1   </td>\n",
       "        </tr>\n",
       "        <tr>\n",
       "            <td>2   </td>\n",
       "        </tr>\n",
       "        <tr>\n",
       "            <td>3   </td>\n",
       "        </tr>\n",
       "        <tr>\n",
       "            <td>4   </td>\n",
       "        </tr>\n",
       "        <tr>\n",
       "            <td>5   </td>\n",
       "        </tr>\n",
       "        <tr>\n",
       "            <td>6   </td>\n",
       "        </tr>\n",
       "    </tbody>\n",
       "</table>"
      ],
      "text/plain": [
       "Face\n",
       "1\n",
       "2\n",
       "3\n",
       "4\n",
       "5\n",
       "6"
      ]
     },
     "execution_count": 14,
     "metadata": {},
     "output_type": "execute_result"
    }
   ],
   "source": [
    "die = Table().with_column('Face', np.arange(1, 7))\n",
    "die"
   ]
  },
  {
   "cell_type": "markdown",
   "metadata": {},
   "source": [
    "What is the **Probability Distribution** of drawing each face assuming each face is equally likely (a \"fair die\")?"
   ]
  },
  {
   "cell_type": "code",
   "execution_count": 15,
   "metadata": {
    "tags": []
   },
   "outputs": [
    {
     "data": {
      "image/png": "[encoded data removed]",
      "text/plain": [
       "<Figure size 600x400 with 1 Axes>"
      ]
     },
     "metadata": {},
     "output_type": "display_data"
    }
   ],
   "source": [
    "roll_bins = np.arange(0.5, 6.6, 1)\n",
    "die.hist(bins=roll_bins)"
   ]
  },
  {
   "cell_type": "markdown",
   "metadata": {},
   "source": [
    "We can sample from the die table many times with replacement:"
   ]
  },
  {
   "cell_type": "code",
   "execution_count": 16,
   "metadata": {
    "tags": []
   },
   "outputs": [
    {
     "data": {
      "text/html": [
       "<table border=\"1\" class=\"dataframe\">\n",
       "    <thead>\n",
       "        <tr>\n",
       "            <th>Face</th>\n",
       "        </tr>\n",
       "    </thead>\n",
       "    <tbody>\n",
       "        <tr>\n",
       "            <td>5   </td>\n",
       "        </tr>\n",
       "        <tr>\n",
       "            <td>2   </td>\n",
       "        </tr>\n",
       "        <tr>\n",
       "            <td>1   </td>\n",
       "        </tr>\n",
       "    </tbody>\n",
       "</table>"
      ],
      "text/plain": [
       "Face\n",
       "5\n",
       "2\n",
       "1"
      ]
     },
     "execution_count": 16,
     "metadata": {},
     "output_type": "execute_result"
    }
   ],
   "source": [
    "die.sample(3)"
   ]
  },
  {
   "cell_type": "markdown",
   "metadata": {},
   "source": [
    "We can construct an **Empirical Distribution** from our simulation:"
   ]
  },
  {
   "cell_type": "code",
   "execution_count": 36,
   "metadata": {
    "tags": []
   },
   "outputs": [
    {
     "data": {
      "image/png": "[encoded data removed]",
      "text/plain": [
       "<Figure size 600x400 with 1 Axes>"
      ]
     },
     "metadata": {},
     "output_type": "display_data"
    }
   ],
   "source": [
    "die.sample(10).hist(bins=roll_bins)"
   ]
  },
  {
   "cell_type": "markdown",
   "metadata": {},
   "source": [
    "If we increase the number of trials in our simulation, what happens to the distribution?"
   ]
  },
  {
   "cell_type": "code",
   "execution_count": 18,
   "metadata": {
    "tags": []
   },
   "outputs": [
    {
     "data": {
      "image/png": "[encoded data removed]",
      "text/plain": [
       "<Figure size 600x400 with 1 Axes>"
      ]
     },
     "metadata": {},
     "output_type": "display_data"
    }
   ],
   "source": [
    "die.sample(100).hist(bins=roll_bins)"
   ]
  },
  {
   "cell_type": "code",
   "execution_count": 19,
   "metadata": {
    "tags": []
   },
   "outputs": [
    {
     "data": {
      "image/png": "[encoded data removed]",
      "text/plain": [
       "<Figure size 600x400 with 1 Axes>"
      ]
     },
     "metadata": {},
     "output_type": "display_data"
    }
   ],
   "source": [
    "die.sample(100_000).hist(bins=roll_bins)"
   ]
  },
  {
   "cell_type": "markdown",
   "metadata": {},
   "source": [
    "---\n",
    "<center> Return to Slides </center>\n",
    "\n",
    "---"
   ]
  },
  {
   "cell_type": "markdown",
   "metadata": {},
   "source": [
    "## Large Random Samples "
   ]
  },
  {
   "cell_type": "markdown",
   "metadata": {},
   "source": [
    "The United flight delays is a relatively large dataset:"
   ]
  },
  {
   "cell_type": "code",
   "execution_count": 20,
   "metadata": {
    "tags": []
   },
   "outputs": [
    {
     "data": {
      "text/plain": [
       "13825"
      ]
     },
     "execution_count": 20,
     "metadata": {},
     "output_type": "execute_result"
    }
   ],
   "source": [
    "united.num_rows"
   ]
  },
  {
   "cell_type": "markdown",
   "metadata": {},
   "source": [
    "We can plot the distribution of delays for the population:"
   ]
  },
  {
   "cell_type": "code",
   "execution_count": 21,
   "metadata": {
    "tags": []
   },
   "outputs": [
    {
     "data": {
      "image/png": "[encoded data removed]",
      "text/plain": [
       "<Figure size 600x400 with 1 Axes>"
      ]
     },
     "metadata": {},
     "output_type": "display_data"
    }
   ],
   "source": [
    "united.hist('Delay', bins = 50)"
   ]
  },
  {
   "cell_type": "markdown",
   "metadata": {},
   "source": [
    "There appears to be some very delayed flights!"
   ]
  },
  {
   "cell_type": "code",
   "execution_count": 22,
   "metadata": {
    "tags": []
   },
   "outputs": [
    {
     "data": {
      "text/html": [
       "<table border=\"1\" class=\"dataframe\">\n",
       "    <thead>\n",
       "        <tr>\n",
       "            <th>Row</th> <th>Date</th> <th>Flight Number</th> <th>Destination</th> <th>Delay</th>\n",
       "        </tr>\n",
       "    </thead>\n",
       "    <tbody>\n",
       "        <tr>\n",
       "            <td>3140 </td> <td>6/21/15</td> <td>1964         </td> <td>SEA        </td> <td>580  </td>\n",
       "        </tr>\n",
       "        <tr>\n",
       "            <td>3154 </td> <td>6/22/15</td> <td>300          </td> <td>HNL        </td> <td>537  </td>\n",
       "        </tr>\n",
       "        <tr>\n",
       "            <td>3069 </td> <td>6/21/15</td> <td>1149         </td> <td>IAD        </td> <td>508  </td>\n",
       "        </tr>\n",
       "        <tr>\n",
       "            <td>2888 </td> <td>6/20/15</td> <td>353          </td> <td>ORD        </td> <td>505  </td>\n",
       "        </tr>\n",
       "        <tr>\n",
       "            <td>12627</td> <td>8/23/15</td> <td>1589         </td> <td>ORD        </td> <td>458  </td>\n",
       "        </tr>\n",
       "        <tr>\n",
       "            <td>7949 </td> <td>7/23/15</td> <td>1960         </td> <td>LAX        </td> <td>438  </td>\n",
       "        </tr>\n",
       "        <tr>\n",
       "            <td>3412 </td> <td>6/23/15</td> <td>1606         </td> <td>ORD        </td> <td>430  </td>\n",
       "        </tr>\n",
       "        <tr>\n",
       "            <td>578  </td> <td>6/4/15 </td> <td>1743         </td> <td>LAX        </td> <td>408  </td>\n",
       "        </tr>\n",
       "        <tr>\n",
       "            <td>2474 </td> <td>6/17/15</td> <td>1122         </td> <td>HNL        </td> <td>405  </td>\n",
       "        </tr>\n",
       "        <tr>\n",
       "            <td>8426 </td> <td>7/27/15</td> <td>572          </td> <td>ORD        </td> <td>385  </td>\n",
       "        </tr>\n",
       "    </tbody>\n",
       "</table>\n",
       "<p>... (13815 rows omitted)</p>"
      ],
      "text/plain": [
       "Row   | Date    | Flight Number | Destination | Delay\n",
       "3140  | 6/21/15 | 1964          | SEA         | 580\n",
       "3154  | 6/22/15 | 300           | HNL         | 537\n",
       "3069  | 6/21/15 | 1149          | IAD         | 508\n",
       "2888  | 6/20/15 | 353           | ORD         | 505\n",
       "12627 | 8/23/15 | 1589          | ORD         | 458\n",
       "7949  | 7/23/15 | 1960          | LAX         | 438\n",
       "3412  | 6/23/15 | 1606          | ORD         | 430\n",
       "578   | 6/4/15  | 1743          | LAX         | 408\n",
       "2474  | 6/17/15 | 1122          | HNL         | 405\n",
       "8426  | 7/27/15 | 572           | ORD         | 385\n",
       "... (13815 rows omitted)"
      ]
     },
     "execution_count": 22,
     "metadata": {},
     "output_type": "execute_result"
    }
   ],
   "source": [
    "united.sort('Delay', descending=True)"
   ]
  },
  {
   "cell_type": "markdown",
   "metadata": {},
   "source": [
    "Let's truncate the extreme flights with a histogram from -20 to 201. (More on why we do this later.)"
   ]
  },
  {
   "cell_type": "code",
   "execution_count": 23,
   "metadata": {
    "tags": []
   },
   "outputs": [
    {
     "data": {
      "image/png": "[encoded data removed]",
      "text/plain": [
       "<Figure size 600x400 with 1 Axes>"
      ]
     },
     "metadata": {},
     "output_type": "display_data"
    }
   ],
   "source": [
    "united_bins = np.arange(-20, 201, 5)\n",
    "united.hist('Delay', bins=united_bins)"
   ]
  },
  {
   "cell_type": "markdown",
   "metadata": {},
   "source": [
    "What happens if we take a small sample from this population of flights and compute the distribution of delays:"
   ]
  },
  {
   "cell_type": "code",
   "execution_count": 24,
   "metadata": {
    "tags": []
   },
   "outputs": [
    {
     "data": {
      "image/png": "[encoded data removed]",
      "text/plain": [
       "<Figure size 600x400 with 1 Axes>"
      ]
     },
     "metadata": {},
     "output_type": "display_data"
    }
   ],
   "source": [
    "united.sample(10).hist('Delay', bins=united_bins)"
   ]
  },
  {
   "cell_type": "markdown",
   "metadata": {},
   "source": [
    "If we increase the sample size"
   ]
  },
  {
   "cell_type": "code",
   "execution_count": 25,
   "metadata": {
    "tags": []
   },
   "outputs": [
    {
     "data": {
      "image/png": "[encoded data removed]",
      "text/plain": [
       "<Figure size 600x400 with 1 Axes>"
      ]
     },
     "metadata": {},
     "output_type": "display_data"
    }
   ],
   "source": [
    "united.sample(1000).hist('Delay', bins=united_bins)"
   ]
  },
  {
   "cell_type": "code",
   "execution_count": 26,
   "metadata": {
    "tags": []
   },
   "outputs": [
    {
     "data": {
      "image/png": "[encoded data removed]",
      "text/plain": [
       "<Figure size 600x400 with 1 Axes>"
      ]
     },
     "metadata": {},
     "output_type": "display_data"
    }
   ],
   "source": [
    "united.sample(2000).hist('Delay', bins=united_bins)"
   ]
  },
  {
   "cell_type": "markdown",
   "metadata": {},
   "source": [
    "---\n",
    "<center> Return to Slides </center>\n",
    "\n",
    "---"
   ]
  },
  {
   "cell_type": "markdown",
   "metadata": {},
   "source": [
    "## Simulating Statistics ##"
   ]
  },
  {
   "cell_type": "markdown",
   "metadata": {},
   "source": [
    "Because we have access to the population (this is rare!) we can compute the parameters directly from the data.  For example, supposed we wanted to know the median flight delay:\n"
   ]
  },
  {
   "cell_type": "code",
   "execution_count": 27,
   "metadata": {},
   "outputs": [
    {
     "data": {
      "text/plain": [
       "2.0"
      ]
     },
     "execution_count": 27,
     "metadata": {},
     "output_type": "execute_result"
    }
   ],
   "source": [
    "np.median(united.column('Delay'))"
   ]
  },
  {
   "cell_type": "markdown",
   "metadata": {},
   "source": [
    "In practice, we will often have a sample.  The median of the sample is a statistic that estimates the median of the population."
   ]
  },
  {
   "cell_type": "code",
   "execution_count": 28,
   "metadata": {},
   "outputs": [
    {
     "data": {
      "text/plain": [
       "9.0"
      ]
     },
     "execution_count": 28,
     "metadata": {},
     "output_type": "execute_result"
    }
   ],
   "source": [
    "np.median(united.sample(10).column('Delay'))"
   ]
  },
  {
   "cell_type": "markdown",
   "metadata": {},
   "source": [
    "But is it a good estimate?  \n",
    "\n",
    "It depends on the sample size (and how close we want it to be).  Here we define a function to simulate the process of computing the median from a random sample of a given size:"
   ]
  },
  {
   "cell_type": "code",
   "execution_count": 28,
   "metadata": {
    "tags": []
   },
   "outputs": [],
   "source": [
    "def sample_median(size):\n",
    "    return np.median(united.sample(size).column('Delay'))"
   ]
  },
  {
   "cell_type": "code",
   "execution_count": 29,
   "metadata": {
    "tags": []
   },
   "outputs": [
    {
     "data": {
      "text/plain": [
       "-2.0"
      ]
     },
     "execution_count": 29,
     "metadata": {},
     "output_type": "execute_result"
    }
   ],
   "source": [
    "sample_median(10)"
   ]
  },
  {
   "cell_type": "markdown",
   "metadata": {},
   "source": [
    "We can then simulate this sampling process many times:"
   ]
  },
  {
   "cell_type": "code",
   "execution_count": 30,
   "metadata": {
    "tags": []
   },
   "outputs": [],
   "source": [
    "sample_medians = make_array()\n",
    "\n",
    "for i in np.arange(1000):\n",
    "    new_median = sample_median(10)\n",
    "    sample_medians = np.append(sample_medians, new_median)"
   ]
  },
  {
   "cell_type": "code",
   "execution_count": 31,
   "metadata": {
    "tags": []
   },
   "outputs": [
    {
     "data": {
      "image/png": "[encoded data removed]",
      "text/plain": [
       "<Figure size 600x400 with 1 Axes>"
      ]
     },
     "metadata": {},
     "output_type": "display_data"
    }
   ],
   "source": [
    "medians = Table().with_columns(\n",
    "    \"Sample Medians\", sample_medians,\n",
    "    \"Sample Size\", 10)\n",
    "medians.hist(\"Sample Medians\", bins = 50)"
   ]
  },
  {
   "cell_type": "code",
   "execution_count": 32,
   "metadata": {
    "tags": []
   },
   "outputs": [],
   "source": [
    "sample_medians2 = make_array()\n",
    "\n",
    "for i in np.arange(1000):\n",
    "    new_median = sample_median(1000)\n",
    "    sample_medians2 = np.append(sample_medians2, new_median)"
   ]
  },
  {
   "cell_type": "code",
   "execution_count": 33,
   "metadata": {
    "tags": []
   },
   "outputs": [
    {
     "data": {
      "image/png": "[encoded data removed]",
      "text/plain": [
       "<Figure size 600x400 with 1 Axes>"
      ]
     },
     "metadata": {},
     "output_type": "display_data"
    }
   ],
   "source": [
    "medians.append(Table().with_columns(\n",
    "    \"Sample Medians\", sample_medians2,\n",
    "    \"Sample Size\", 1000)).hist(\"Sample Medians\", group=\"Sample Size\", bins=50)"
   ]
  },
  {
   "cell_type": "code",
   "execution_count": null,
   "metadata": {},
   "outputs": [],
   "source": []
  }
 ],
 "metadata": {
  "anaconda-cloud": {},
  "kernelspec": {
   "display_name": "Python 3 (ipykernel)",
   "language": "python",
   "name": "python3"
  },
  "language_info": {
   "codemirror_mode": {
    "name": "ipython",
    "version": 3
   },
   "file_extension": ".py",
   "mimetype": "text/x-python",
   "name": "python",
   "nbconvert_exporter": "python",
   "pygments_lexer": "ipython3",
   "version": "3.10.6"
  }
 },
 "nbformat": 4,
 "nbformat_minor": 4
}
