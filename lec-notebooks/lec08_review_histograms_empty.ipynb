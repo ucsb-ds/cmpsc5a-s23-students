{
 "cells": [
  {
   "cell_type": "markdown",
   "id": "dca999cb-742e-4625-9e4d-5d1f34d00449",
   "metadata": {},
   "source": [
    "# Lecture 08 Review of Histograms"
   ]
  },
  {
   "cell_type": "code",
   "execution_count": null,
   "id": "729fa552-531b-4638-8c9d-695f04f240ce",
   "metadata": {
    "tags": []
   },
   "outputs": [],
   "source": [
    "from datascience import *\n",
    "import numpy as np\n",
    "%matplotlib inline\n",
    "import matplotlib.pyplot as plots\n",
    "plots.style.use('fivethirtyeight')\n",
    "plots.rcParams[\"patch.force_edgecolor\"] = True"
   ]
  },
  {
   "cell_type": "code",
   "execution_count": null,
   "id": "c30d438d-9e7c-4f7a-988a-2784087cdc2e",
   "metadata": {
    "tags": []
   },
   "outputs": [],
   "source": [
    "top_movies = Table.read_table('data/top_movies_2017.csv')"
   ]
  },
  {
   "cell_type": "code",
   "execution_count": null,
   "id": "1db08054-13ac-462b-8a6d-d1a4c8abb369",
   "metadata": {
    "tags": []
   },
   "outputs": [],
   "source": [
    "this_year = 2023\n",
    "ages = this_year - top_movies.column('Year')\n",
    "top_movies = top_movies.with_column('Age', ages)\n",
    "top_movies"
   ]
  },
  {
   "cell_type": "markdown",
   "id": "72bf635d-16c4-4d2d-bccd-829cf9003981",
   "metadata": {
    "tags": []
   },
   "source": [
    "# Grouping by categorical variable\n",
    "We can group our movies by the *categorical* variable 'Studio', to find out how many movies were produced by each studio, using the `group()` function."
   ]
  },
  {
   "cell_type": "code",
   "execution_count": null,
   "id": "13f58c51-6185-44a5-bd97-a901831f2505",
   "metadata": {},
   "outputs": [],
   "source": []
  },
  {
   "cell_type": "markdown",
   "id": "421258e1-38da-4be6-830f-c7596b821301",
   "metadata": {},
   "source": [
    "we can then go ahead and plot those in a bar plot. Remember. The First parameter is the variable to use on x-axis, second parameter is the variable to use on the y-axis. Check the [`bar()` documentation](https://www.data8.org/datascience/_autosummary/datascience.tables.Table.barh.html#datascience.tables.Table.bar)"
   ]
  },
  {
   "cell_type": "code",
   "execution_count": null,
   "id": "2e806dda-b3e9-4526-8009-6b28123443b7",
   "metadata": {
    "tags": []
   },
   "outputs": [],
   "source": []
  },
  {
   "cell_type": "markdown",
   "id": "2acd21d4-d36a-4bd3-ab4f-738fc665b105",
   "metadata": {},
   "source": [
    "Let's make it better\n",
    "- Sort the bars in decreasing order\n",
    "- Only show the 10 largest studios\n",
    "- Turn it around by 90 degrees"
   ]
  },
  {
   "cell_type": "code",
   "execution_count": null,
   "id": "9045d6ed-e74f-4739-aab1-df9fc6f330f1",
   "metadata": {
    "tags": []
   },
   "outputs": [],
   "source": []
  },
  {
   "cell_type": "markdown",
   "id": "4d83763f-0350-4329-afa2-cf8d9b673e3a",
   "metadata": {
    "tags": []
   },
   "source": [
    "# Grouping by numerical variable\n",
    "We want to find out something about the age distribition of movies. I.e. seeing how many movies were produced in different age brackets.\n",
    "\n",
    "We fist calculate the age of all movies (as of 2023)"
   ]
  },
  {
   "cell_type": "code",
   "execution_count": null,
   "id": "7ca17ed1-8d38-4946-bb2b-3b0a8dcdde0e",
   "metadata": {
    "tags": []
   },
   "outputs": [],
   "source": []
  },
  {
   "cell_type": "markdown",
   "id": "7fbde74b-239c-4e5b-ac89-d7975014b346",
   "metadata": {
    "tags": []
   },
   "source": [
    "we then group by the years using the `group()` function"
   ]
  },
  {
   "cell_type": "code",
   "execution_count": null,
   "id": "c5d73207-daed-4468-9b19-d535e4ecc5e7",
   "metadata": {
    "tags": []
   },
   "outputs": [],
   "source": []
  },
  {
   "cell_type": "code",
   "execution_count": null,
   "id": "85976997-c1af-4e6d-975f-a26bac1d27a0",
   "metadata": {
    "tags": []
   },
   "outputs": [],
   "source": []
  },
  {
   "cell_type": "markdown",
   "id": "f52e7db6-5d90-4f34-9010-bc29b527bf07",
   "metadata": {},
   "source": [
    "# Binning\n",
    "This was a bit boring. We'd much rather create some groups (bins) in which we aggregate a ranges of ages.\n",
    "I.e. count all moves that are 0-10 years old, all movies that are 10-20 years old etc."
   ]
  },
  {
   "cell_type": "code",
   "execution_count": null,
   "id": "9caa2a06-6735-4119-8f3a-b9bd516e3246",
   "metadata": {
    "tags": []
   },
   "outputs": [],
   "source": []
  },
  {
   "cell_type": "markdown",
   "id": "c020b640-a313-4dfe-87a5-e0246ab727f7",
   "metadata": {},
   "source": [
    "Now make bar plot"
   ]
  },
  {
   "cell_type": "code",
   "execution_count": null,
   "id": "3362265e-522b-47a2-805e-9ebd69533909",
   "metadata": {
    "tags": []
   },
   "outputs": [],
   "source": []
  },
  {
   "cell_type": "markdown",
   "id": "79fb5873-3965-440e-90a1-c18a3f452da7",
   "metadata": {},
   "source": [
    "# Making a histogram\n",
    "We are not fully satisfied. \n",
    "- The movies in the first bar are not e.g. 0 years old. They are between 0 and 10.\n",
    "- Even worse: What happens if our bins are not uniform ... we loose our perspective on the x-axis"
   ]
  },
  {
   "cell_type": "code",
   "execution_count": null,
   "id": "4fc793b8-4528-48e0-9017-c78839cb804a",
   "metadata": {
    "tags": []
   },
   "outputs": [],
   "source": [
    "my_bins = make_array(0, 10, 20, 40, 65, 102)\n",
    "..."
   ]
  },
  {
   "cell_type": "markdown",
   "id": "4f92d935-e04e-4c2c-9dca-b15c87ae8388",
   "metadata": {
    "tags": []
   },
   "source": [
    "We can fix this by using the [`hist()` function](http://www.data8.org/datascience/_autosummary/datascience.tables.Table.hist.html#datascience.tables.Table.hist)"
   ]
  },
  {
   "cell_type": "code",
   "execution_count": null,
   "id": "4f6369c4-26ac-4a9b-83b0-14e0137586cc",
   "metadata": {
    "tags": []
   },
   "outputs": [],
   "source": []
  },
  {
   "cell_type": "markdown",
   "id": "8c3e20ad-6102-4c85-a2e1-5c02c8167806",
   "metadata": {},
   "source": [
    "## What does the \"percent per unit\" mean?\n",
    "\n",
    "Let's inspect our binned data"
   ]
  },
  {
   "cell_type": "code",
   "execution_count": null,
   "id": "4b2b5a7e-3ebb-4645-97f2-7965410566d0",
   "metadata": {
    "tags": []
   },
   "outputs": [],
   "source": [
    "binned_data"
   ]
  },
  {
   "cell_type": "markdown",
   "id": "155a4175-0656-40e3-bdbe-06541cdaf30e",
   "metadata": {},
   "source": [
    "Add a column containing the percentage of data in each bin. Hint: use `sum()` function."
   ]
  },
  {
   "cell_type": "code",
   "execution_count": null,
   "id": "e9d210ec-5591-4e25-aa18-8b1a380017a5",
   "metadata": {},
   "outputs": [],
   "source": []
  },
  {
   "cell_type": "markdown",
   "id": "6da8d3c0-0930-4892-8ddf-d8f7052cf3e0",
   "metadata": {},
   "source": [
    "## Bin width\n",
    "now we calculate the bin width. I.e. how many years each bin spans. We use the `np.diff()` function"
   ]
  },
  {
   "cell_type": "code",
   "execution_count": null,
   "id": "956f4ec4-1729-4e28-8ecf-9b86c4871b2b",
   "metadata": {
    "tags": []
   },
   "outputs": [],
   "source": []
  },
  {
   "cell_type": "code",
   "execution_count": null,
   "id": "6f2a43ad-e230-4100-9dcd-8d8df0eeedb8",
   "metadata": {
    "tags": []
   },
   "outputs": [],
   "source": []
  },
  {
   "cell_type": "code",
   "execution_count": null,
   "id": "276a7bb6-2d1b-4d74-a2f7-db601a2930bd",
   "metadata": {
    "tags": []
   },
   "outputs": [],
   "source": []
  },
  {
   "cell_type": "markdown",
   "id": "9a0991f1-d401-412f-971b-5a09826b7b79",
   "metadata": {},
   "source": [
    "we want to add a new column to the table. However, the `bin_width` is one element shorter than the table.\n",
    "We therefore shorten the table by one"
   ]
  },
  {
   "cell_type": "code",
   "execution_count": null,
   "id": "56d5e225-5dcb-4afb-9763-f87a701cf6f3",
   "metadata": {
    "tags": []
   },
   "outputs": [],
   "source": [
    "binned_data_ = binned_data.take(np.arange(binned_data.num_rows - 1)) \n",
    "binned_data_ = binned_data_.with_column('Width', width)\n",
    "binned_data_"
   ]
  },
  {
   "cell_type": "markdown",
   "id": "08416886-e449-43e6-b4f7-1acdf3fdb7b6",
   "metadata": {},
   "source": [
    "Now we can calculate the percent per unit"
   ]
  },
  {
   "cell_type": "code",
   "execution_count": null,
   "id": "7d34103b-2daf-4881-ab38-c9bad5d677c6",
   "metadata": {
    "tags": []
   },
   "outputs": [],
   "source": [
    "percent_per_unit = binned_data_.column('Percent') / binned_data_.column('Width')\n",
    "percent_per_unit"
   ]
  },
  {
   "cell_type": "code",
   "execution_count": null,
   "id": "b9def012-97d9-4b86-99e5-589fa19a476a",
   "metadata": {
    "tags": []
   },
   "outputs": [],
   "source": [
    "binned_data_.with_column('percent per unit', percent_per_unit)"
   ]
  },
  {
   "cell_type": "code",
   "execution_count": null,
   "id": "bf893418-ab16-46c1-a44d-f023a93d5905",
   "metadata": {},
   "outputs": [],
   "source": [
    "top_movies.hist('Age', bins = my_bins, unit='Year')"
   ]
  },
  {
   "cell_type": "markdown",
   "id": "2f57c43e-1e4f-4728-9d4c-ffb01fffeb12",
   "metadata": {
    "tags": []
   },
   "source": [
    "# Discussion question\n",
    "https://ipm.ucanr.edu/calludt.cgi/WXSTATIONDATA?STN=STBARBRA.C\n",
    "\n",
    "- University of California Statewide Integrated Pest Management Program\n",
    "- How to Manage Pests: California Weather Data\n",
    "- Retrieve data in comma delimited data file format\n",
    " \n",
    "Weather database request:  \n",
    " \n",
    "Time Period: January 1, 1993 to January 1, 2023, retrieved on May 2, 2023\"\n",
    " (10958 days)\n",
    "\n",
    "|Variable  | Description                  |Units                         |\n",
    "|:--    | :--| :-- |\n",
    "|   1      | Database name                |                              |\n",
    "|   2      | Date: year,month,day         |yyyymmdd\"                     |\n",
    "|   3      | Observation time             |hhmm                          |\n",
    "|   4      | Precipitation, amount        |Millimeters\"                  |\n",
    "|   5      | Precipitation, type          |(coded)\"                      |\n",
    "|   6      | Air temperature, maximum     |Celsius\"                      |\n",
    "|   7      | Air temperature, minimum     |Celsius\"                      |\n",
    "|   8      | Air temperature, observed    |Celsius\"                      |\n",
    "|   9      | Weather conditions           |(coded)\"                      |\n",
    "|  10      | Wind, direction              |N,NE,E,SE,S,SW,W,NW, 0=calm\"  |\n",
    "|  11      | Wind, speed                  |Meters per second\"            |\n",
    "|  12      | Bulb temperature, wet        |Celsius\"                      |\n",
    "|  13      | Bulb temperature, dry        |Celsius\"                      |\n",
    "|  14      | Soil temperature, maximum    |Celsius\"                      |\n",
    "|  15      | Soil temperature, minimum    |Celsius\"                      |\n",
    "|  16      | Pan evaporation              |Millimeters\"                  |\n",
    "|  17      | Solar radiation              |Watts per sq. meters\"         |\n",
    "|  18      | Reference evapotranspiration |Millimeters\"                  |\n",
    "|  19      | Relative humidity, minimum   |Percent\"                      |\n",
    "|  20      | Relative humidity, maximum   |Percent                       |\n",
    "\n",
    "\n",
    "\n",
    "Weather Type\n",
    "Weather type contains information about the weather at the observation time. Also, if a significant weather event occurs during a day, hail or a tornado for instance, the occurrence may be noted in this field.\n",
    "\n",
    "|Code  | Meaning    |\n",
    "| :--   | :--|\n",
    "|C\t|Clear\t                                   |\n",
    "|R\t|Rain                                      |\n",
    "|PC\t|Partly cloudy\t                           |\n",
    "|R+\t|Heavy rain                                |\n",
    "|CY\t|Cloudy\t                                   |\n",
    "|W\t|Rain showers                              |\n",
    "|HZ\t|Haze or smoke\t                           |\n",
    "|W+\t|Heavy showers                             |\n",
    "|DS\t|Dust storm\t                               |\n",
    "|S\t|Snow                                      |\n",
    "|F\t|Fog\t                                   |\n",
    "|S+\t|Heavy snow                                |\n",
    "|F+\t|Heavy fog\t                               |\n",
    "|BS\t|Blowing snow                              |\n",
    "|DZ\t|Drizzle\t                               |\n",
    "|IP\t|Sleet                                     |\n",
    "|TH\t|Thunderstorm\t                           |\n",
    "|HL\t|Hail                                      |\n",
    "|TO\t|Tornado\t                               |\n",
    "|SR\t|Snow and rain mixed                       |\n",
    "|T\t|Thunder, no rain\t                       |\n",
    "|HW\t|High winds                                |\n",
    "|L\t|Lightning, no thunder\tDW\tDew present    |"
   ]
  },
  {
   "cell_type": "code",
   "execution_count": null,
   "id": "d2496024-db05-4c6b-9655-63f2b7cb2d7d",
   "metadata": {
    "tags": []
   },
   "outputs": [],
   "source": [
    "weather = Table.read_table('data/sb_weather2.csv')\n",
    "weather"
   ]
  },
  {
   "cell_type": "code",
   "execution_count": null,
   "id": "0751aba8-d692-48d3-9ec3-23e5f3f47706",
   "metadata": {
    "tags": []
   },
   "outputs": [],
   "source": [
    "(weather\n",
    "    .group('Wx')\n",
    "    .barh('Wx', 'count')\n",
    ")"
   ]
  },
  {
   "cell_type": "code",
   "execution_count": null,
   "id": "81be0aad-9ff7-4c6e-bf1f-fbccf72d8e1f",
   "metadata": {
    "tags": []
   },
   "outputs": [],
   "source": [
    "weather.hist('Air max')"
   ]
  },
  {
   "cell_type": "code",
   "execution_count": null,
   "id": "77e089b4-1367-404a-a314-f956ee934322",
   "metadata": {
    "tags": []
   },
   "outputs": [],
   "source": [
    "weather.scatter('Air max', 'min')"
   ]
  },
  {
   "cell_type": "code",
   "execution_count": null,
   "id": "63d965dd-a27e-49d2-8cbe-d777faa63877",
   "metadata": {},
   "outputs": [],
   "source": []
  }
 ],
 "metadata": {
  "kernelspec": {
   "display_name": "Python 3 (ipykernel)",
   "language": "python",
   "name": "python3"
  },
  "language_info": {
   "codemirror_mode": {
    "name": "ipython",
    "version": 3
   },
   "file_extension": ".py",
   "mimetype": "text/x-python",
   "name": "python",
   "nbconvert_exporter": "python",
   "pygments_lexer": "ipython3",
   "version": "3.10.6"
  }
 },
 "nbformat": 4,
 "nbformat_minor": 5
}
