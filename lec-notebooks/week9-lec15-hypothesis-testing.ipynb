{
 "cells": [
  {
   "cell_type": "code",
   "execution_count": null,
   "metadata": {},
   "outputs": [],
   "source": [
    "from datascience import *\n",
    "import numpy as np\n",
    "\n",
    "%matplotlib inline\n",
    "import matplotlib.pyplot as plots\n",
    "plots.style.use('fivethirtyeight')"
   ]
  },
  {
   "cell_type": "markdown",
   "metadata": {},
   "source": [
    "# Lecture 15: Hypothesis Testing"
   ]
  },
  {
   "cell_type": "markdown",
   "metadata": {},
   "source": [
    "## Alameda County Jury Panels ##"
   ]
  },
  {
   "cell_type": "markdown",
   "metadata": {},
   "source": [
    "Let's create a table of data from the ACLU, indicating the proportions of each ethnicity within the population of eligible jurors and on the jury panels."
   ]
  },
  {
   "cell_type": "code",
   "execution_count": null,
   "metadata": {},
   "outputs": [],
   "source": [
    "jury = Table().with_columns(\n",
    "    'Ethnicity', make_array('Asian', 'Black', 'Latino', 'White', 'Other'),\n",
    "    'Eligible', make_array(0.15, 0.18, 0.12, 0.54, 0.01),\n",
    "    'Panels', make_array(0.26, 0.08, 0.08, 0.54, 0.04)\n",
    ")\n",
    "\n",
    "jury"
   ]
  },
  {
   "cell_type": "code",
   "execution_count": null,
   "metadata": {},
   "outputs": [],
   "source": [
    "jury.barh('Ethnicity')"
   ]
  },
  {
   "cell_type": "markdown",
   "metadata": {},
   "source": [
    "It looks like Asian panelists are overrepresented, while Black and Latino panelists are underrepresented. Are these differences statistically significant?"
   ]
  },
  {
   "cell_type": "markdown",
   "metadata": {},
   "source": [
    "Let's simulate the model in which panelists are chosen by a simple random sample from the eligible population---i.e., everyone is equally likely to be selected. Remember the `sample_proportions` function?"
   ]
  },
  {
   "cell_type": "code",
   "execution_count": null,
   "metadata": {},
   "outputs": [],
   "source": [
    "sample_proportions?"
   ]
  },
  {
   "cell_type": "markdown",
   "metadata": {},
   "source": [
    "We can use this function to simulate a random sample of 1,423 panelists from the eligible population, with probabilities equal to the proportions in the `Eligible` column. Instead of returning counts, the `sample_proportions` function calculates the fraction of the sample within each category:"
   ]
  },
  {
   "cell_type": "code",
   "execution_count": null,
   "metadata": {},
   "outputs": [],
   "source": [
    "# Let's simulate a random draw of 1423 jurors from this distribution\n",
    "simulated = sample_proportions(1423, jury.column('Eligible'))\n",
    "simulated"
   ]
  },
  {
   "cell_type": "markdown",
   "metadata": {},
   "source": [
    "The actual observed distribution (usually) looks quite different from the simulation. Try running this several times to confirm!"
   ]
  },
  {
   "cell_type": "code",
   "execution_count": null,
   "metadata": {},
   "outputs": [],
   "source": [
    "simulated = sample_proportions(1423, jury.column('Eligible'))\n",
    "jury_with_simulated = jury.with_column('Simulated', simulated)\n",
    "jury_with_simulated.barh('Ethnicity')"
   ]
  },
  {
   "cell_type": "markdown",
   "metadata": {},
   "source": [
    "### Comparing Distributions: Total Variation Distance (TVD)"
   ]
  },
  {
   "cell_type": "markdown",
   "metadata": {},
   "source": [
    "The *total variation distance* is a statistic for measuring the difference between two categorical distributions. The `jury` table contains two distributions: one in the `Panels` column, and one in the `Eligible` column. Let's calculate the TVD between these two distributions."
   ]
  },
  {
   "cell_type": "code",
   "execution_count": null,
   "metadata": {},
   "outputs": [],
   "source": [
    "# Step 1: Calculate the differences in proportion / probability for each category\n",
    "diffs = jury.column('Panels') - jury.column('Eligible')\n",
    "jury_with_difference = jury.with_column('Step 1: Difference', diffs)\n",
    "jury_with_difference"
   ]
  },
  {
   "cell_type": "code",
   "execution_count": null,
   "metadata": {},
   "outputs": [],
   "source": [
    "# Step 2: Calculate the absolute value of the differences\n",
    "abs_diffs = jury_with_difference.apply(abs, 'Step 1: Difference')\n",
    "jury_with_difference = jury_with_difference.with_column('Step 2: Abs. Differences', abs_diffs)\n",
    "jury_with_difference"
   ]
  },
  {
   "cell_type": "code",
   "execution_count": null,
   "metadata": {},
   "outputs": [],
   "source": [
    "# Step 3: Calculate 0.5 times the sum of the absolute diferences\n",
    "observed_tvd = 0.5 * sum(jury_with_difference.column('Step 2: Abs. Differences'))\n",
    "print('The TVD between the Panel and Eligible distributions is:', observed_tvd)"
   ]
  },
  {
   "cell_type": "markdown",
   "metadata": {},
   "source": [
    "**Question**: write a function called `tvd` that takes two arguments, `dist1` and `dist2`, which are **arrays** of numbers (summing to 1) indicating proportions in two different distributions. The function should return the total variation distance between the two distributions. For example, if `dist1 = make_array(0.15, 0.18, 0.12, 0.54, 0.01)` and `dist2 = make_array(0.26, 0.08, 0.08, 0.54, 0.04)`, then it should be true that `tvd(dist1, dist2) == 0.14`."
   ]
  },
  {
   "cell_type": "code",
   "execution_count": null,
   "metadata": {},
   "outputs": [],
   "source": [
    "def tvd(dist1, dist2):\n",
    "    return ..."
   ]
  },
  {
   "cell_type": "code",
   "execution_count": null,
   "metadata": {},
   "outputs": [],
   "source": [
    "# Test the function\n",
    "dist1 = jury.column('Eligible')\n",
    "dist2 = jury.column('Panels')\n",
    "tvd(dist1, dist2) == 0.14  # This should be True!"
   ]
  },
  {
   "cell_type": "code",
   "execution_count": null,
   "metadata": {},
   "outputs": [],
   "source": [
    "# The TVD of two identical distributions should be zero\n",
    "tvd(jury.column('Eligible'), jury.column('Eligible'))"
   ]
  },
  {
   "cell_type": "markdown",
   "metadata": {},
   "source": [
    "**Challenge question:** what is the largest possible value of the TVD between any two distributions?"
   ]
  },
  {
   "cell_type": "code",
   "execution_count": null,
   "metadata": {},
   "outputs": [],
   "source": [
    "# ..."
   ]
  },
  {
   "cell_type": "markdown",
   "metadata": {},
   "source": [
    "After using the `sample_proportions` function to simulate the jury composition under the \"all eligible members have an equal selection probability\" model, we can calculate the value of the TVD statistic between this simulated distribution and the distribution of the eligible population:"
   ]
  },
  {
   "cell_type": "code",
   "execution_count": null,
   "metadata": {},
   "outputs": [],
   "source": [
    "# The TVD of a model simluation from its expected values\n",
    "tvd(sample_proportions(1423, model), jury.column('Eligible'))"
   ]
  },
  {
   "cell_type": "markdown",
   "metadata": {},
   "source": [
    "### Use TVD to Decide if the Jury Selection is Biased"
   ]
  },
  {
   "cell_type": "code",
   "execution_count": null,
   "metadata": {},
   "outputs": [],
   "source": [
    "def simulated_tvd():\n",
    "    \"\"\"\n",
    "    Simulate the TVD between the eligible population and panel distributions, \n",
    "    according to the model where panels are simple random samples of the\n",
    "    eligible population.\n",
    "    \"\"\"\n",
    "    sampled_panel_proportions = sample_proportions(1423, jury.column('Eligible'))\n",
    "    return tvd(sampled_panel_proportions, jury.column('Eligible'))"
   ]
  },
  {
   "cell_type": "code",
   "execution_count": null,
   "metadata": {},
   "outputs": [],
   "source": [
    "# Sample the distribution of TVDs under the \"unbiased random selection\" model\n",
    "tvds = make_array()\n",
    "num_simulations = 10000\n",
    "for i in np.arange(num_simulations):\n",
    "    new_tvd = simulated_tvd()\n",
    "    tvds = np.append(tvds, new_tvd)"
   ]
  },
  {
   "cell_type": "code",
   "execution_count": null,
   "metadata": {},
   "outputs": [],
   "source": [
    "# Use a histogram to visualize the empirical distribution of the TVD under the model\n",
    "title = 'Simulated TVDs (if model is true)'\n",
    "bins = np.arange(0, .05, .005)\n",
    "Table().with_column(title, tvds).hist(bins = bins)\n",
    "\n",
    "# Place a red dot where the actual observed TVD lies compared to this distribution\n",
    "# You can ignore this code if you'd like.\n",
    "# But if you're interested in what we're doing here, you can check out the matplotlib documentation:\n",
    "# https://matplotlib.org/stable/api/_as_gen/matplotlib.pyplot.xlim.html\n",
    "# https://matplotlib.org/stable/api/_as_gen/matplotlib.pyplot.scatter.html\n",
    "plots.xlim(0, 0.15)\n",
    "plots.ylim(-5, 50)\n",
    "plots.scatter(observed_tvd, 0, color='red', s=30)\n",
    "plots.title(title);"
   ]
  },
  {
   "cell_type": "markdown",
   "metadata": {},
   "source": [
    "**Question:** is the model of unbiased random sampling consistent with the observed data? What does that mean?"
   ]
  },
  {
   "cell_type": "markdown",
   "metadata": {},
   "source": [
    "## Hypothesis Testing: Basic Example"
   ]
  },
  {
   "cell_type": "markdown",
   "metadata": {},
   "source": [
    "Suppose I found a coin on the sidewalk and want to see if it's biased (i.e., not a 50-50 chance of landing heads-tails). I flipped the coin 100 times, and recorded the results in the following table:"
   ]
  },
  {
   "cell_type": "code",
   "execution_count": null,
   "metadata": {},
   "outputs": [],
   "source": [
    "flips = Table.read_table('./data/coin-flips.csv')\n",
    "flips.show(4)"
   ]
  },
  {
   "cell_type": "markdown",
   "metadata": {},
   "source": [
    "**Question 1:** what would be a good **null hypothesis** here? I.e., what model could we simulate to help us decide if the coin is biased?"
   ]
  },
  {
   "cell_type": "code",
   "execution_count": null,
   "metadata": {},
   "outputs": [],
   "source": [
    "# ..."
   ]
  },
  {
   "cell_type": "markdown",
   "metadata": {},
   "source": [
    "**Question 2:** given this null hypothesis, what is the natural **alternative hypothesis**? I.e., what should we accept as true if we manage to disprove the null hypothesis?"
   ]
  },
  {
   "cell_type": "code",
   "execution_count": null,
   "metadata": {},
   "outputs": [],
   "source": [
    "# ..."
   ]
  },
  {
   "cell_type": "markdown",
   "metadata": {},
   "source": [
    "**Question 3:** what should I use as a **test statistic**? And what is the observed value of this test statistic from the `flips` table?"
   ]
  },
  {
   "cell_type": "code",
   "execution_count": null,
   "metadata": {},
   "outputs": [],
   "source": [
    "# ..."
   ]
  },
  {
   "cell_type": "markdown",
   "metadata": {},
   "source": [
    "**Question 4:** write code to simulate the value of the test statistic under the null hypothesis 10,000 times. Plot a histogram of this empirical distribution of the statistic."
   ]
  },
  {
   "cell_type": "code",
   "execution_count": null,
   "metadata": {},
   "outputs": [],
   "source": [
    "# ..."
   ]
  },
  {
   "cell_type": "markdown",
   "metadata": {},
   "source": [
    "**Question 5:** Based on this histogram and the oserved value of the test statistic from Question 3, can we reject the null hypothesis or not?"
   ]
  },
  {
   "cell_type": "code",
   "execution_count": null,
   "metadata": {},
   "outputs": [],
   "source": [
    "# ..."
   ]
  },
  {
   "cell_type": "markdown",
   "metadata": {},
   "source": [
    "**Question 6:** If we fail to reject the null hypothesis, does this imply that the null hypothesis is probably true? I.e., have we proven that the coin has an equal chance of landing on heads or tails?"
   ]
  },
  {
   "cell_type": "code",
   "execution_count": null,
   "metadata": {},
   "outputs": [],
   "source": [
    "# ..."
   ]
  },
  {
   "cell_type": "markdown",
   "metadata": {},
   "source": [
    "## Hypothesis Testing: Commute Times"
   ]
  },
  {
   "cell_type": "markdown",
   "metadata": {},
   "source": [
    "Let's define a \"short commute\" as a commute that is strictly less than 15 minutes. According to [Statista](https://www.statista.com/chart/24684/average-duration-of-a-one-way-commute/), 24% of Americans have a short commute. Since many of you live on campus or in IV, we might expect the fraction of students in CMPSC 5a who have a short commute is higher. Does the evidence support this claim?"
   ]
  },
  {
   "cell_type": "markdown",
   "metadata": {},
   "source": [
    "**Question:** if everone in the class had filled out the class data survey, would we need to do a hypothesis test?"
   ]
  },
  {
   "cell_type": "code",
   "execution_count": null,
   "metadata": {},
   "outputs": [],
   "source": [
    "# ..."
   ]
  },
  {
   "cell_type": "markdown",
   "metadata": {},
   "source": [
    "**Null hypothesis:** 24% of students in CMPSC 5a have a short commute.\n",
    "\n",
    "**Alternative Hypothesis:** the fraction of CMPSC 5a students who have a short commute is *not* 24%."
   ]
  },
  {
   "cell_type": "markdown",
   "metadata": {},
   "source": [
    "To perform a hypothesis test, let's load and clean the `Commute Time` column from the class data survey."
   ]
  },
  {
   "cell_type": "code",
   "execution_count": null,
   "metadata": {},
   "outputs": [],
   "source": [
    "class_data = Table.read_table('./data/cmpsc5a-classdata-w23.csv')\n",
    "commute_data = class_data.where('Commute Time', are.above_or_equal_to(0)).select('Commute Time')\n",
    "commute_data.show(5)"
   ]
  },
  {
   "cell_type": "markdown",
   "metadata": {},
   "source": [
    "**Question:** what test statistic should we use? Calculate the observed value of the test statistic from the `commute_data` table."
   ]
  },
  {
   "cell_type": "code",
   "execution_count": null,
   "metadata": {},
   "outputs": [],
   "source": [
    "# ..."
   ]
  },
  {
   "cell_type": "markdown",
   "metadata": {},
   "source": [
    "To approximate the distribution of the test statistic, we will need to simulate the results of the class survey (at least the `Commute Time` column) under the null hypothesis. In other words, we will simulate what fraction of the 78 respondents have a short commute, if 24% of the class has a short commute."
   ]
  },
  {
   "cell_type": "code",
   "execution_count": null,
   "metadata": {},
   "outputs": [],
   "source": [
    "def simulate_responses():\n",
    "    \"\"\"\n",
    "    Simulate the fraction of survey respondents with a short commute,\n",
    "    under the null hypothesis that 28% of the class has a short commute.\n",
    "    \"\"\"\n",
    "    outcome_probabilities = make_array(0.24, 0.76)\n",
    "    n_responses = 78\n",
    "    simulated_fractions = sample_proportions(n_responses, outcome_probabilities)\n",
    "    return simulated_fractions.item(0)"
   ]
  },
  {
   "cell_type": "markdown",
   "metadata": {},
   "source": [
    "We will approximate the distribution of the test statistic under the null hypothesis by simulating the responses 10,000 times. We will then plot a histogram of the results, and compare it to the observed value of the test statistic."
   ]
  },
  {
   "cell_type": "code",
   "execution_count": null,
   "metadata": {},
   "outputs": [],
   "source": [
    "simulated_stats = make_array()\n",
    "for i in range(10000):\n",
    "    simulated_stats = np.append(simulated_stats, simulate_responses())\n",
    "    \n",
    "# Generate a histogram for the distribution of the test statistic\n",
    "my_bins = np.arange(0, 0.6, 0.025)\n",
    "Table().with_column('Simulated Fraction with Short Commute', simulated_stats).hist(0, bins=my_bins)\n",
    "\n",
    "# Plot the observed value of the test statistic\n",
    "plots.ylim([-0.5, 9])\n",
    "plots.scatter(observed_frac, 0, color='red', s=30);"
   ]
  },
  {
   "cell_type": "markdown",
   "metadata": {},
   "source": [
    "**Question:** can we reject the null hypothesis? And does the location of the test statistic tell us whether the true fraction of the class with a short commute is greater than or less than 24%?"
   ]
  },
  {
   "cell_type": "code",
   "execution_count": null,
   "metadata": {},
   "outputs": [],
   "source": [
    "# ..."
   ]
  },
  {
   "cell_type": "markdown",
   "metadata": {},
   "source": [
    "## Hypothesis Testing: Random Numbers"
   ]
  },
  {
   "cell_type": "markdown",
   "metadata": {},
   "source": [
    "In the class data survey, we asked you to select a \"very random 4-digit number.\" Let's see how random your random numbers actually were."
   ]
  },
  {
   "cell_type": "markdown",
   "metadata": {},
   "source": [
    "**Null Hypothesis:** survey respondents selected truly random 4-digit numbers (with each possibility equally likely).\n",
    "\n",
    "**Alternative Hypothesis:** your numbers were not truly random (at least not uniformly distributed)."
   ]
  },
  {
   "cell_type": "markdown",
   "metadata": {},
   "source": [
    "Let's load the `Random` column to see which numbers were submitted:"
   ]
  },
  {
   "cell_type": "code",
   "execution_count": null,
   "metadata": {},
   "outputs": [],
   "source": [
    "random_nums_data = class_data.where('Random', are.above_or_equal_to(1000)).select('Random')\n",
    "random_nums_data.show(5)\n",
    "print('Number of responses (after cleaning):', random_nums_data.num_rows)"
   ]
  },
  {
   "cell_type": "code",
   "execution_count": null,
   "metadata": {},
   "outputs": [],
   "source": [
    "# Visualize the responses in a histogram\n",
    "four_digit_bins = np.arange(1000, 10000, 500)\n",
    "random_nums_data.relabeled('Random', 'Response').hist(bins=four_digit_bins)\n",
    "plots.title('Distribution of \"Random\" Numbers from the Survey');"
   ]
  },
  {
   "cell_type": "markdown",
   "metadata": {},
   "source": [
    "In order to simulate survey responses under the null hypothesis, we can use the `np.random.choice` function:"
   ]
  },
  {
   "cell_type": "code",
   "execution_count": null,
   "metadata": {},
   "outputs": [],
   "source": [
    "possibilities = np.arange(1000, 10000) # List all the possible 4-digit numbers\n",
    "sample_size = 81 # How many 4-digit numbers should we draw to simulate the survey outcome?\n",
    "simulated_random_responses = np.random.choice(possibilities, sample_size)"
   ]
  },
  {
   "cell_type": "code",
   "execution_count": null,
   "metadata": {},
   "outputs": [],
   "source": [
    "# Use a histogram to visualize the simulated random responses\n",
    "Table().with_column('Response', simulated_random_responses).hist(bins=four_digit_bins) \n",
    "plots.title('Simulated Distribution of 81 Truly Random Numbers');"
   ]
  },
  {
   "cell_type": "markdown",
   "metadata": {},
   "source": [
    "**Question:** what test statistic can we use to compare the distribution of survey responses to the distribution in which each 4-digit number is equally likely?"
   ]
  },
  {
   "cell_type": "code",
   "execution_count": null,
   "metadata": {},
   "outputs": [],
   "source": [
    "# ..."
   ]
  },
  {
   "cell_type": "code",
   "execution_count": null,
   "metadata": {},
   "outputs": [],
   "source": [
    "def compute_4_digit_distribution(numbers):\n",
    "    \"\"\"\n",
    "    Takes an array of 4-digit numbers.\n",
    "    For each possible 4-digit number 1000, 1001, ..., 9999, calculate the fraction of the time\n",
    "    this integer shows up in the numbers array.\n",
    "    Returns an array with 9,000 entries that sum to 1.\n",
    "    \"\"\"\n",
    "    \n",
    "    # Make sure that numbers are integers\n",
    "    numbers_as_ints = numbers.astype(int)\n",
    "    \n",
    "    # The np.bincount function counts how many times the values 0, 1, 2, ... show up in an array\n",
    "    # The function returns an array of these counts\n",
    "    counts = np.bincount(numbers_as_ints - 1000, minlength=9000)\n",
    "    \n",
    "    # Divide by len(counts) to convert counts into proportions\n",
    "    return counts / len(counts)"
   ]
  },
  {
   "cell_type": "code",
   "execution_count": null,
   "metadata": {},
   "outputs": [],
   "source": [
    "compute_4_digit_distribution(random_nums_data.column('Random'))"
   ]
  },
  {
   "cell_type": "markdown",
   "metadata": {},
   "source": [
    "In order to calculate this statistic, we will need to construct the distribution of numbers under the null hypothesis. Since there are 9,000 four-digit numbers, if each is equally likely, it will occur with probability 1/9000. Therefore, we can represent the distribution of numbers under the null hypothesis with the following array:"
   ]
  },
  {
   "cell_type": "code",
   "execution_count": null,
   "metadata": {},
   "outputs": [],
   "source": [
    "uniform_distribution_probabilities = np.ones(9000) / 9000\n",
    "uniform_distribution_probabilities"
   ]
  },
  {
   "cell_type": "markdown",
   "metadata": {},
   "source": [
    "Then we can use our `tvd` function from earlier to calculate total variation distances."
   ]
  },
  {
   "cell_type": "code",
   "execution_count": null,
   "metadata": {},
   "outputs": [],
   "source": [
    "simulated_tvds = make_array()\n",
    "for i in range(2000):\n",
    "    \n",
    "    simulated_random_responses = np.random.choice(possibilities, sample_size)\n",
    "    simulated_response_distribution = compute_4_digit_distribution(simulated_random_responses)\n",
    "    simulated_tvds = np.append(simulated_tvds, tvd(uniform_distribution_probabilities, simulated_response_distribution))"
   ]
  },
  {
   "cell_type": "markdown",
   "metadata": {},
   "source": [
    "Finally, we plot a histogram of the results, and compare this empirical distribution of the test statistic to the value of the statistic from the class distribution:"
   ]
  },
  {
   "cell_type": "code",
   "execution_count": null,
   "metadata": {},
   "outputs": [],
   "source": [
    "# Create a histogram of simulated TVDs\n",
    "tvd_bins_small = np.arange(0.4950, 0.4960, 0.0002)\n",
    "Table().with_column('Simulated TVDs', simulated_tvds).hist(bins=tvd_bins_small)\n",
    "\n",
    "# Plot the observed value of the test statistic \n",
    "observed_tvd = tvd(\n",
    "    compute_4_digit_distribution(random_nums_data.column('Random')),\n",
    "    uniform_distribution_probabilities)\n",
    "plots.ylim([-500, 3400])\n",
    "plots.scatter(observed_tvd, 0, color='red', s=30);"
   ]
  },
  {
   "cell_type": "code",
   "execution_count": null,
   "metadata": {},
   "outputs": [],
   "source": [
    "# Calculate what fraction of the simulated TVDs are below that of the class TVD\n",
    "print('Fraction of simulated TVDs that are less than the class TVD:', \n",
    "      np.average(simulated_tvds < observed_tvd))"
   ]
  },
  {
   "cell_type": "markdown",
   "metadata": {},
   "source": [
    "**Question:** what can we conclude from this test?"
   ]
  },
  {
   "cell_type": "code",
   "execution_count": null,
   "metadata": {},
   "outputs": [],
   "source": [
    "# ..."
   ]
  }
 ],
 "metadata": {
  "anaconda-cloud": {},
  "kernelspec": {
   "display_name": "Python 3 (ipykernel)",
   "language": "python",
   "name": "python3"
  },
  "language_info": {
   "codemirror_mode": {
    "name": "ipython",
    "version": 3
   },
   "file_extension": ".py",
   "mimetype": "text/x-python",
   "name": "python",
   "nbconvert_exporter": "python",
   "pygments_lexer": "ipython3",
   "version": "3.10.8"
  },
  "toc": {
   "base_numbering": 1,
   "nav_menu": {},
   "number_sections": false,
   "sideBar": true,
   "skip_h1_title": false,
   "title_cell": "Table of Contents",
   "title_sidebar": "Contents",
   "toc_cell": false,
   "toc_position": {},
   "toc_section_display": true,
   "toc_window_display": true
  }
 },
 "nbformat": 4,
 "nbformat_minor": 4
}
