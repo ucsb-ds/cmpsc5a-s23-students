{
 "cells": [
  {
   "cell_type": "code",
   "execution_count": null,
   "metadata": {},
   "outputs": [],
   "source": [
    "from datascience import *\n",
    "import numpy as np\n",
    "\n",
    "%matplotlib inline\n",
    "import matplotlib.pyplot as plots\n",
    "plots.style.use('fivethirtyeight')"
   ]
  },
  {
   "cell_type": "markdown",
   "metadata": {},
   "source": [
    "# Lecture 14"
   ]
  },
  {
   "cell_type": "markdown",
   "metadata": {},
   "source": [
    "## Sampling from a Population"
   ]
  },
  {
   "cell_type": "code",
   "execution_count": null,
   "metadata": {},
   "outputs": [],
   "source": [
    "# Load a table of United Airlines flights\n",
    "united = Table.read_table('data/united.csv')\n",
    "united"
   ]
  },
  {
   "cell_type": "markdown",
   "metadata": {},
   "source": [
    "This table represents our *population*, consisting of almost 14,000 individuals. Let's use a histogram to visualize the probability distribution of the `Delay` variable:"
   ]
  },
  {
   "cell_type": "code",
   "execution_count": null,
   "metadata": {},
   "outputs": [],
   "source": [
    "united_bins = np.arange(-20, 201, 5)\n",
    "united.hist('Delay', bins = united_bins, unit='min')\n",
    "plots.title('Probability Distribution of Delay');"
   ]
  },
  {
   "cell_type": "markdown",
   "metadata": {},
   "source": [
    "**Review Question:** does the histogram indicate that most flights are early or that most flights are late? (*Hint:* we are using equally-sized bins with a width of 5 minutes.)"
   ]
  },
  {
   "cell_type": "code",
   "execution_count": null,
   "metadata": {},
   "outputs": [],
   "source": [
    "# ..."
   ]
  },
  {
   "cell_type": "markdown",
   "metadata": {},
   "source": [
    "Using the `sample` table method, we can draw simple random samples of the population contained in the `united` table. (Remember that a *simple random sample* is one in which all equally-sized subsets of the population have an equal chance of showing up in the sample.) By default, `sample` sets `with_replacement=True`, so that the simple random sample occurs with replacement.\n",
    "\n",
    "Once our sample is drawn, we will visualize the *empirical distributions* of the `Delay` variable, using a histogram with the same bins."
   ]
  },
  {
   "cell_type": "code",
   "execution_count": null,
   "metadata": {},
   "outputs": [],
   "source": [
    "# Empirical distribution with a sample size of 10\n",
    "united.sample(10).hist('Delay', bins = united_bins, unit='min')\n",
    "plots.title('Empirical Distribution of Delay (n=10)');"
   ]
  },
  {
   "cell_type": "code",
   "execution_count": null,
   "metadata": {},
   "outputs": [],
   "source": [
    "# Empirical distribution with a sample size of 100\n",
    "united.sample(100).hist('Delay', bins = united_bins, unit='min')\n",
    "plots.title('Empirical Distribution of Delay (n=100)');"
   ]
  },
  {
   "cell_type": "code",
   "execution_count": null,
   "metadata": {},
   "outputs": [],
   "source": [
    "# Empirical distribution with a sample size of 1000\n",
    "united.sample(1000).hist('Delay', bins = united_bins, unit='min')\n",
    "plots.title('Empirical Distribution of Delay (n=1000)');"
   ]
  },
  {
   "cell_type": "markdown",
   "metadata": {},
   "source": [
    "Due to the law of large numbers (the book refers to this as the \"law of averages\"), it is very likely that the empirical distribution will get closer and closer to the underlying probability distribution as the sample gets larger."
   ]
  },
  {
   "cell_type": "markdown",
   "metadata": {},
   "source": [
    "## Inference"
   ]
  },
  {
   "cell_type": "markdown",
   "metadata": {},
   "source": [
    "Let's load the class data survey and select the `Pets` column, which contains the number of pets that each student in the class has. In this example, our population consists of respondents to the class data survey."
   ]
  },
  {
   "cell_type": "code",
   "execution_count": null,
   "metadata": {},
   "outputs": [],
   "source": [
    "class_data = Table.read_table('./data/cmpsc5a-classdata-w23.csv')\n",
    "class_population = class_data.select('Pets').where('Pets', are.above_or_equal_to(0))\n",
    "class_population"
   ]
  },
  {
   "cell_type": "markdown",
   "metadata": {},
   "source": [
    "Somewhere in this table is the largest value of `Pets`---don't look for it just yet! This largest value is an example of a *parameter* of the population."
   ]
  },
  {
   "cell_type": "markdown",
   "metadata": {},
   "source": [
    "What if only 10 students had responded to the survey? Using the `sample` method, we will choose a simple random sample (without replacement) from the `class_population` table:"
   ]
  },
  {
   "cell_type": "code",
   "execution_count": null,
   "metadata": {},
   "outputs": [],
   "source": [
    "class_sample = class_population.sample(10, with_replacement=False)\n",
    "class_sample"
   ]
  },
  {
   "cell_type": "markdown",
   "metadata": {},
   "source": [
    "**Question:** think of a reasonable *statistic* that we could use to estimate the largest value of `Pets` in the population from the data in the `class_sample` table. Calculate the value of that statistic."
   ]
  },
  {
   "cell_type": "code",
   "execution_count": null,
   "metadata": {},
   "outputs": [],
   "source": [
    "pets_max_estimate = ..."
   ]
  },
  {
   "cell_type": "code",
   "execution_count": null,
   "metadata": {},
   "outputs": [],
   "source": [
    "pets_max_estimate = max(class_sample.column('Pets'))\n",
    "pets_max_estimate"
   ]
  },
  {
   "cell_type": "markdown",
   "metadata": {},
   "source": [
    "How accurate was this estimate? Compare it with the true value of the parameter below:"
   ]
  },
  {
   "cell_type": "code",
   "execution_count": null,
   "metadata": {},
   "outputs": [],
   "source": [
    "max(class_population.column('Pets'))"
   ]
  },
  {
   "cell_type": "markdown",
   "metadata": {},
   "source": [
    "## Sampling Distribution"
   ]
  },
  {
   "cell_type": "markdown",
   "metadata": {},
   "source": [
    "A reasonable choice for a statistic to estimate the parameter `max(class_population.column('Pets'))` is to use the maximum value of `Pets` in `class_sample`:"
   ]
  },
  {
   "cell_type": "code",
   "execution_count": null,
   "metadata": {},
   "outputs": [],
   "source": [
    "pets_max_estimate = max(class_sample.column('Pets'))\n",
    "pets_max_estimate"
   ]
  },
  {
   "cell_type": "markdown",
   "metadata": {},
   "source": [
    "But this value depends on the sample `class_sample`, which is a random sample. Try re-drawing the class sample and re-calculating the `pets_max_estimate` statistic several times. You should see a few different values."
   ]
  },
  {
   "cell_type": "code",
   "execution_count": null,
   "metadata": {},
   "outputs": [],
   "source": [
    "# Randomly re-draw the sample\n",
    "class_sample = class_population.sample(10, with_replacement=False)\n",
    "\n",
    "# Re-calculate the statistic\n",
    "pets_max_estimate = max(class_sample.column('Pets'))\n",
    "pets_max_estimate"
   ]
  },
  {
   "cell_type": "markdown",
   "metadata": {},
   "source": [
    "Since the statistic `pets_max_estimate` is a random quantity, it is associated with a probability distribution, which depends on the underlying population `class_population` and our strategy for selecting the sample (e.g., a simple random sample without replacement)."
   ]
  },
  {
   "cell_type": "markdown",
   "metadata": {},
   "source": [
    "This statistic is simple enough that we can actually calculate the sampling distribution by hand! Let's look at the probability distribution for `Pets` from the full population, using the `group` method:"
   ]
  },
  {
   "cell_type": "code",
   "execution_count": null,
   "metadata": {},
   "outputs": [],
   "source": [
    "print('Population size:', class_population.num_rows)\n",
    "pet_count_frequencies = class_population.group('Pets')\n",
    "pet_count_frequencies"
   ]
  },
  {
   "cell_type": "markdown",
   "metadata": {},
   "source": [
    "**Question 1:** if we randomly select one survey respondent, where each respondent is equally likely, what is the probability that the respondent will not have a pet?"
   ]
  },
  {
   "cell_type": "code",
   "execution_count": null,
   "metadata": {},
   "outputs": [],
   "source": [
    "# ..."
   ]
  },
  {
   "cell_type": "markdown",
   "metadata": {},
   "source": [
    "**Question 2:** if we randomly select two survey respondents *without replacement*, where each respondent is equally likely, what is the probability that neither of these two respondents will have a pet?"
   ]
  },
  {
   "cell_type": "code",
   "execution_count": null,
   "metadata": {},
   "outputs": [],
   "source": [
    "# ..."
   ]
  },
  {
   "cell_type": "markdown",
   "metadata": {},
   "source": [
    "**Question 3 (hard):** if we randomly select 10 survey respondents without replacement, where each respondent is equally likely, what is the probability that none of the 10 respondents will have a pet?\n",
    "\n",
    "You may find it helpful to write a `for` loop to calculate the number."
   ]
  },
  {
   "cell_type": "code",
   "execution_count": null,
   "metadata": {},
   "outputs": [],
   "source": [
    "# ..."
   ]
  },
  {
   "cell_type": "code",
   "execution_count": null,
   "metadata": {},
   "outputs": [],
   "source": [
    "remaining_population_size = 81\n",
    "remaining_petless_respondents = 30\n",
    "prob_no_pets = 1\n",
    "\n",
    "for i in np.arange(10):\n",
    "    \n",
    "    # Calculate the probability that the next respondent has no pets,\n",
    "    # given that all of the previous respondents didn't have pets either\n",
    "    prob_respondent_i_is_petless = remaining_petless_respondents / remaining_population_size\n",
    "    \n",
    "    # Update the probability of prob_no_pets using the multiplication rule\n",
    "    prob_no_pets = prob_no_pets * prob_respondent_i_is_petless\n",
    "    \n",
    "    # Update the remaining population sizes for the next round\n",
    "    remaining_population_size = remaining_population_size - 1\n",
    "    remaining_petless_respondents = remaining_petless_respondents - 1\n",
    "    \n",
    "print('Probability that none of 10 respondents have pets:', prob_no_pets)"
   ]
  },
  {
   "cell_type": "markdown",
   "metadata": {},
   "source": [
    "**Question 4:** given the information above, what is the probability that `pets_max_estimate == 0`?"
   ]
  },
  {
   "cell_type": "code",
   "execution_count": null,
   "metadata": {},
   "outputs": [],
   "source": [
    "# ..."
   ]
  },
  {
   "cell_type": "markdown",
   "metadata": {},
   "source": [
    "We can calculate the other probabilities P(`pets_max_estimate == 1`), P(`pets_max_estimate == 2`), and so on in a similar manner. In the interest of finishing lecture on time, we won't go into details, but the function `prob_sample_max_is_x` below will calculate these probabilities for you, using the help of a function `prob_sample_max_is_at_most_x`. \n",
    "\n",
    "If you want a take-home challenge, try to understand what the two functions are doing, and how they use the basic probability rules to calculate the probability that `pets_max_estimate == x`!"
   ]
  },
  {
   "cell_type": "code",
   "execution_count": null,
   "metadata": {},
   "outputs": [],
   "source": [
    "def prob_sample_max_is_x(x, n):\n",
    "    \"\"\"\n",
    "    Calculate the probability that the maximum value of pets in a simple random sample\n",
    "    (without replacement) of n respondents is equal to x.\n",
    "    \"\"\"\n",
    " \n",
    "    # If x > 0, then by the addition rule, P(max <= x) == P(max == x) + P(max < x).\n",
    "    # Therefore, P(max == x) = P(max <= x) - P(max < x).\n",
    "    # Since x is an integer, P(max < x) = P(max <= x - 1).\n",
    "    \n",
    "    # We define a \"helper function\" prob_sample_max_is_at_most_x to calculate P(max <= x).\n",
    "    \n",
    "    if x == 0:\n",
    "        return prob_sample_max_is_at_most_x(0, n)\n",
    "    elif x > 0:\n",
    "        return prob_sample_max_is_at_most_x(x, n) - prob_sample_max_is_at_most_x(x - 1, n)\n",
    "    \n",
    "    \n",
    "def prob_sample_max_is_at_most_x(x, n):\n",
    "    \"\"\"\n",
    "    Calculate the probability that the maximum value of pets in a simple random sample\n",
    "    (without replacement) of n respondents is <= x. \n",
    "    \n",
    "    E.g., prob_sample_max_is_at_most_x(0, 10) should return the same value we got for prob_no_pets above.\n",
    "    \n",
    "    This is an example of a \"helper function.\"\n",
    "    When we're coding a complicated function, it's often helpful to define extra functions\n",
    "    that the original function can call multiple times.\n",
    "    \"\"\"\n",
    "    \n",
    "    remaining_population_size = 81\n",
    "    \n",
    "    # Calculate how many respondents have at most x pets\n",
    "    remaining_respondents_with_at_most_x_pets = pet_count_frequencies.where(\n",
    "        'Pets', are.below_or_equal_to(x)).column('count').sum()\n",
    "    \n",
    "    prob_pets_at_most_x = 1\n",
    "    \n",
    "    for i in np.arange(n):\n",
    "        \n",
    "        # Calculate the probability that the next respondent has at most x pets,\n",
    "        # given that all of the previous respondents had at most x pets as well\n",
    "        prob_respondent_i_at_most_x = remaining_respondents_with_at_most_x_pets / remaining_population_size\n",
    "        \n",
    "        # Update the probability of prob_pets_at_most_x using the multiplication rule\n",
    "        prob_pets_at_most_x = prob_pets_at_most_x * prob_respondent_i_at_most_x\n",
    "        \n",
    "        # Update the remaining population sizes for the next round\n",
    "        remaining_population_size = remaining_population_size - 1\n",
    "        remaining_respondents_with_at_most_x_pets = remaining_respondents_with_at_most_x_pets - 1\n",
    "        \n",
    "    return prob_pets_at_most_x"
   ]
  },
  {
   "cell_type": "markdown",
   "metadata": {},
   "source": [
    "Let's create a table indicating numbers of pets between 0 and 6, and use the `apply` method to calculate the probability that `pets_max_estimate` takes on each of these values, given a sample size of 10."
   ]
  },
  {
   "cell_type": "code",
   "execution_count": null,
   "metadata": {},
   "outputs": [],
   "source": [
    "sampling_dist = Table().with_columns(\n",
    "    'Pets', np.arange(0, 7),\n",
    "    'sample size', 10)\n",
    "sampling_dist = sampling_dist.with_column(\n",
    "    'Probability', sampling_dist.apply(prob_sample_max_is_x, 'Pets', 'sample size'))\n",
    "sampling_dist"
   ]
  },
  {
   "cell_type": "code",
   "execution_count": null,
   "metadata": {},
   "outputs": [],
   "source": [
    "# Visualize the sampling distribution using a bar chart\n",
    "sampling_dist.bar('Pets', 'Probability')\n",
    "plots.title('Sampling Distribution of the max statistic (n=10)');"
   ]
  },
  {
   "cell_type": "markdown",
   "metadata": {},
   "source": [
    "**Question:** given a sample size of 10, does the max statistic provide a good estimate for the maximum value of `Pets` in the original population?"
   ]
  },
  {
   "cell_type": "code",
   "execution_count": null,
   "metadata": {},
   "outputs": [],
   "source": [
    "# ..."
   ]
  },
  {
   "cell_type": "markdown",
   "metadata": {},
   "source": [
    "What if we triple the sample size?"
   ]
  },
  {
   "cell_type": "code",
   "execution_count": null,
   "metadata": {},
   "outputs": [],
   "source": [
    "# Re-compute the table indicating the sampling distribution,\n",
    "# but now use a sample size of n = 30\n",
    "sampling_dist = Table().with_columns(\n",
    "    'Pets', np.arange(0, 7),\n",
    "    'sample size', 30)\n",
    "sampling_dist = sampling_dist.with_column(\n",
    "    'Probability', sampling_dist.apply(prob_sample_max_is_x, 'Pets', 'sample size'))\n",
    "\n",
    "# Visualize the sampling distribution using a bar chart\n",
    "sampling_dist.bar('Pets', 'Probability')\n",
    "plots.title('Sampling Distribution of the max statistic (n=30)');"
   ]
  },
  {
   "cell_type": "markdown",
   "metadata": {},
   "source": [
    "What if the sample includes the entire population?"
   ]
  },
  {
   "cell_type": "code",
   "execution_count": null,
   "metadata": {},
   "outputs": [],
   "source": [
    "# Re-compute the table indicating the sampling distribution,\n",
    "# but now use a sample size of n = 81\n",
    "sampling_dist = Table().with_columns(\n",
    "    'Pets', np.arange(0, 7),\n",
    "    'sample size', 81)\n",
    "sampling_dist = sampling_dist.with_column(\n",
    "    'Probability', sampling_dist.apply(prob_sample_max_is_x, 'Pets', 'sample size'))\n",
    "\n",
    "# Visualize the sampling distribution using a bar chart\n",
    "sampling_dist.bar('Pets', 'Probability')\n",
    "plots.title('Sampling Distribution of the max statistic (n=81)');"
   ]
  },
  {
   "cell_type": "markdown",
   "metadata": {},
   "source": [
    "**Question:** why is 5 the only possible value that the max statistic can have when the sample size is 81? (Remember we are sampling without replacement!)"
   ]
  },
  {
   "cell_type": "code",
   "execution_count": null,
   "metadata": {},
   "outputs": [],
   "source": [
    "# ..."
   ]
  },
  {
   "cell_type": "markdown",
   "metadata": {},
   "source": [
    "## Statistics"
   ]
  },
  {
   "cell_type": "markdown",
   "metadata": {},
   "source": [
    "Let's return to the table of United flights. One example of a parameter in this population is the median delay:"
   ]
  },
  {
   "cell_type": "code",
   "execution_count": null,
   "metadata": {},
   "outputs": [],
   "source": [
    "# (Population) Parameter\n",
    "np.median(united.column('Delay'))"
   ]
  },
  {
   "cell_type": "markdown",
   "metadata": {},
   "source": [
    "In order to estimate the paramter from a sample, we might reasonably calculate the median delay from that sample:"
   ]
  },
  {
   "cell_type": "code",
   "execution_count": null,
   "metadata": {},
   "outputs": [],
   "source": [
    "# (Sample) Statistic\n",
    "np.median(united.sample(10).column('Delay'))"
   ]
  },
  {
   "cell_type": "code",
   "execution_count": null,
   "metadata": {},
   "outputs": [],
   "source": [
    "# (Sample) Statistic\n",
    "np.median(united.sample(100).column('Delay'))"
   ]
  },
  {
   "cell_type": "markdown",
   "metadata": {},
   "source": [
    "Is this statistic a good estimator for the median parameter? In order to find out, we'll need to know--or at least approximate--the sampling distribution. The math on this one is very complicated, so instead of calculating the probability distribution exactly, we will approximate it by constructing an empirical distribution of the statistic."
   ]
  },
  {
   "cell_type": "code",
   "execution_count": null,
   "metadata": {},
   "outputs": [],
   "source": [
    "# For 2000 simulations: create a simple random sample with 10 rows from the table, \n",
    "# then calculate the median delay statistic. Save the values of these statistics\n",
    "# to an array sample_medians.\n",
    "\n",
    "num_simulations = 2000\n",
    "sample_medians = make_array()\n",
    "\n",
    "for i in np.arange(num_simulations):\n",
    "    new_median = np.median(united.sample(10).column('Delay'))\n",
    "    sample_medians = np.append(sample_medians, new_median)"
   ]
  },
  {
   "cell_type": "code",
   "execution_count": null,
   "metadata": {},
   "outputs": [],
   "source": [
    "# Plot the empirical distribution with a histogram\n",
    "median_bins = np.arange(-5, 30)\n",
    "Table().with_column('Sample medians (size=10)', sample_medians).hist(bins=median_bins)"
   ]
  },
  {
   "cell_type": "markdown",
   "metadata": {},
   "source": [
    "What if we increase the sample size from 10 to 1000?"
   ]
  },
  {
   "cell_type": "code",
   "execution_count": null,
   "metadata": {},
   "outputs": [],
   "source": [
    "sample_medians = make_array()\n",
    "\n",
    "# This loop will take a moment to finish!\n",
    "for i in np.arange(num_simulations):\n",
    "    new_median = np.median(united.sample(1000).column('Delay'))\n",
    "    sample_medians = np.append(sample_medians, new_median)"
   ]
  },
  {
   "cell_type": "code",
   "execution_count": null,
   "metadata": {},
   "outputs": [],
   "source": [
    "# Plot the empirical distribution with a histogram\n",
    "Table().with_column('Sample medians (size=1K)', sample_medians).hist(bins=median_bins)"
   ]
  },
  {
   "cell_type": "markdown",
   "metadata": {},
   "source": [
    "We can overlay several histograms into one plot, to get an even clearer idea of what happens to the (empirical) sampling distribution as the sample size becomes larger:"
   ]
  },
  {
   "cell_type": "code",
   "execution_count": null,
   "metadata": {},
   "outputs": [],
   "source": [
    "sample_medians_10 = make_array()\n",
    "sample_medians_100 = make_array()\n",
    "sample_medians_1000 = make_array()\n",
    "\n",
    "num_simulations = 2000\n",
    "\n",
    "# Perform the simulations\n",
    "# This loop will take a moment to finish!\n",
    "for i in np.arange(num_simulations):\n",
    "    new_median_10 = np.median(united.sample(10).column('Delay'))\n",
    "    sample_medians_10 = np.append(sample_medians_10, new_median_10)\n",
    "    new_median_100 = np.median(united.sample(100).column('Delay'))\n",
    "    sample_medians_100 = np.append(sample_medians_100, new_median_100)\n",
    "    new_median_1000 = np.median(united.sample(1000).column('Delay'))\n",
    "    sample_medians_1000 = np.append(sample_medians_1000, new_median_1000)\n",
    "    \n",
    "# Plot the histogram\n",
    "sample_medians = Table().with_columns('Size 10', sample_medians_10, \n",
    "                                  'Size 100', sample_medians_100,\n",
    "                                  'Size 1000', sample_medians_1000)\n",
    "sample_medians.hist(bins=median_bins)"
   ]
  },
  {
   "cell_type": "markdown",
   "metadata": {},
   "source": [
    "## Swain vs. Alabama ##"
   ]
  },
  {
   "cell_type": "markdown",
   "metadata": {},
   "source": [
    "We want to simulate the model where the jury panel is selected by a simple random sample of the elgible population. If this model is correct, how do we simulate the number of Black men on the jury panel?\n",
    "\n",
    "The `np.random.choice` function has an optional argument `p`, which takes an array of floats indicating the probability of each element in the array.\n",
    "For example, the following statement selects the string `\"Black\"` with probability 0.26, and `\"Not Black\"` with probability 0.74:"
   ]
  },
  {
   "cell_type": "code",
   "execution_count": null,
   "metadata": {},
   "outputs": [],
   "source": [
    "np.random.choice(make_array('Black', 'Not Black'), p=make_array(0.26, 0.74))"
   ]
  },
  {
   "cell_type": "markdown",
   "metadata": {},
   "source": [
    "Using this function, we can use `for` and `if` control statements to simulate a truly random jury selection, and count the number of Black men on each simulated panel."
   ]
  },
  {
   "cell_type": "code",
   "execution_count": null,
   "metadata": {},
   "outputs": [],
   "source": [
    "def sample_number_black_members(panel_size, p):\n",
    "    \"\"\"\n",
    "    Simulate the selection of a jury panel of size panel_size,\n",
    "    from an eligible population where the proportion of Black men is p.\n",
    "    Return the numbe of Black men on the panel.\n",
    "    \"\"\"\n",
    "    \n",
    "    n_black_members = 0\n",
    "    \n",
    "    for i in np.arange(panel_size):\n",
    "        \n",
    "        # Decide if jury member i is Black with probability p\n",
    "        race = np.random.choice(make_array('Black', 'Not Black'), p=make_array(p, 1-p))\n",
    "        if race == 'Black':\n",
    "            n_black_members = n_black_members + 1\n",
    "            \n",
    "    return n_black_members"
   ]
  },
  {
   "cell_type": "code",
   "execution_count": null,
   "metadata": {},
   "outputs": [],
   "source": [
    "sample_number_black_members(100, 0.26)"
   ]
  },
  {
   "cell_type": "markdown",
   "metadata": {},
   "source": [
    "Let's simulate 1,000 truly random jury panels, and plot the empirical distribution of the number of Black men in these panels."
   ]
  },
  {
   "cell_type": "code",
   "execution_count": null,
   "metadata": {},
   "outputs": [],
   "source": [
    "n_black_members_per_panel = make_array()\n",
    "\n",
    "for i in np.arange(1000):  \n",
    "    n_black_members_per_panel = np.append(\n",
    "        n_black_members_per_panel,\n",
    "        sample_number_black_members(100, 0.26))"
   ]
  },
  {
   "cell_type": "code",
   "execution_count": null,
   "metadata": {},
   "outputs": [],
   "source": [
    "Table().with_column('Number of Black Men on Panel of 100', panels).hist(bins=np.arange(5.5,40.))"
   ]
  },
  {
   "cell_type": "markdown",
   "metadata": {},
   "source": [
    "**Question:** Is this model consistent with the data that Swain's jury panel had 8 Black men?"
   ]
  },
  {
   "cell_type": "code",
   "execution_count": null,
   "metadata": {},
   "outputs": [],
   "source": [
    "# ..."
   ]
  },
  {
   "cell_type": "markdown",
   "metadata": {},
   "source": [
    "Mathematically, it is possible to calculate a 0.0005% chance that Swain's panel would have 8 or fewer Black members, if eligble members were truly selected with equal probability. (This is an example of a \"Binomial distribution,\" which you can learn about in PSTAT 120a!)"
   ]
  },
  {
   "cell_type": "markdown",
   "metadata": {},
   "source": [
    "## Mendel and Pea Flowers ##"
   ]
  },
  {
   "cell_type": "code",
   "execution_count": null,
   "metadata": {},
   "outputs": [],
   "source": [
    "## Mendel had 929 plants, of which 709 had purple flowers\n",
    "observed_purples = 709 / 929\n",
    "observed_purples"
   ]
  },
  {
   "cell_type": "markdown",
   "metadata": {},
   "source": [
    "Instead of using a `for` loop to simulate 929 plants independently, we can use the function `sample_proportions` to do it for us---and faster!"
   ]
  },
  {
   "cell_type": "code",
   "execution_count": null,
   "metadata": {},
   "outputs": [],
   "source": [
    "sample_proportions?"
   ]
  },
  {
   "cell_type": "code",
   "execution_count": null,
   "metadata": {},
   "outputs": [],
   "source": [
    "predicted_proportions = make_array(.75, .25)\n",
    "sample_proportions(929, predicted_proportions)"
   ]
  },
  {
   "cell_type": "code",
   "execution_count": null,
   "metadata": {},
   "outputs": [],
   "source": [
    "purples = make_array()\n",
    "\n",
    "for i in np.arange(10000):\n",
    "    new_purple = sample_proportions(929, predicted_proportions).item(0) * 100\n",
    "    purples = np.append(purples, new_purple)"
   ]
  },
  {
   "cell_type": "code",
   "execution_count": null,
   "metadata": {
    "scrolled": true,
    "tags": []
   },
   "outputs": [],
   "source": [
    "Table().with_column('Percent of purple flowers in sample of 929', purples).hist()"
   ]
  },
  {
   "cell_type": "markdown",
   "metadata": {},
   "source": [
    "Is this model consistent with Mendel's real-world data that 76.3% of the plants had purple flowers?"
   ]
  }
 ],
 "metadata": {
  "anaconda-cloud": {},
  "kernelspec": {
   "display_name": "Python 3 (ipykernel)",
   "language": "python",
   "name": "python3"
  },
  "language_info": {
   "codemirror_mode": {
    "name": "ipython",
    "version": 3
   },
   "file_extension": ".py",
   "mimetype": "text/x-python",
   "name": "python",
   "nbconvert_exporter": "python",
   "pygments_lexer": "ipython3",
   "version": "3.10.8"
  },
  "toc": {
   "base_numbering": 1,
   "nav_menu": {},
   "number_sections": true,
   "sideBar": true,
   "skip_h1_title": false,
   "title_cell": "Table of Contents",
   "title_sidebar": "Contents",
   "toc_cell": false,
   "toc_position": {},
   "toc_section_display": true,
   "toc_window_display": false
  }
 },
 "nbformat": 4,
 "nbformat_minor": 4
}
