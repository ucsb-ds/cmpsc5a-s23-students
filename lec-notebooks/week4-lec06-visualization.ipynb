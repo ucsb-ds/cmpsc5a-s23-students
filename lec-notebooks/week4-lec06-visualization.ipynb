{
 "cells": [
  {
   "cell_type": "code",
   "execution_count": null,
   "metadata": {},
   "outputs": [],
   "source": [
    "from datascience import *\n",
    "import numpy as np\n",
    "\n",
    "%matplotlib inline\n",
    "import matplotlib.pyplot as plots\n",
    "plots.style.use('fivethirtyeight')\n",
    "\n",
    "from IPython.display import display, Image"
   ]
  },
  {
   "cell_type": "markdown",
   "metadata": {},
   "source": [
    "# Week 4: Lecture 6 Visualization"
   ]
  },
  {
   "cell_type": "markdown",
   "metadata": {},
   "source": [
    "## Line Graphs ##"
   ]
  },
  {
   "cell_type": "markdown",
   "metadata": {},
   "source": [
    "Let's first re-load the census data from last lecture:"
   ]
  },
  {
   "cell_type": "code",
   "execution_count": null,
   "metadata": {},
   "outputs": [],
   "source": [
    "# Download data from census.gov and import it into a table\n",
    "data_url = 'http://www2.census.gov/programs-surveys/popest/technical-documentation/file-layouts/2010-2019/nc-est2019-agesex-res.csv'\n",
    "full_census_table = Table.read_table(data_url)\n",
    "\n",
    "# Select population estimates for 2019\n",
    "census_table_2019 = full_census_table.select('SEX', 'AGE', 'POPESTIMATE2019')\n",
    "\n",
    "# Re-name the 2019 column to something a little simpler\n",
    "census_table_2019 = census_table_2019.relabeled('POPESTIMATE2019', '2019')\n",
    "\n",
    "# Remove age code 999. Why?\n",
    "no_999 = census_table_2019.where('AGE', are.below(999))\n",
    "no_999"
   ]
  },
  {
   "cell_type": "markdown",
   "metadata": {},
   "source": [
    "Now we'll create a table with a separate column for male and female populations."
   ]
  },
  {
   "cell_type": "code",
   "execution_count": null,
   "metadata": {},
   "outputs": [],
   "source": [
    "# First, extract the male and female populations into arrays\n",
    "male_pop_array = no_999.where('SEX', 1).column('2019')\n",
    "female_pop_array = no_999.where('SEX', 2).column('2019')"
   ]
  },
  {
   "cell_type": "code",
   "execution_count": null,
   "metadata": {},
   "outputs": [],
   "source": [
    "# Next, make a new table with columns for age, male population, and female population\n",
    "pop_2019 = Table().with_columns(\n",
    "    'Age', np.arange(101),\n",
    "    'Male Pop', male_pop_array,\n",
    "    'Female Pop', female_pop_array)\n",
    "pop_2019"
   ]
  },
  {
   "cell_type": "markdown",
   "metadata": {},
   "source": [
    "Use the `plot` method to create a line graph of the populations by age."
   ]
  },
  {
   "cell_type": "code",
   "execution_count": null,
   "metadata": {},
   "outputs": [],
   "source": [
    "pop_2019.plot('Age')\n",
    "# The 'Age' argument specifies that the 'Age' column should form the x-axis.\n",
    "# All other columns are plotted on the y-axis."
   ]
  },
  {
   "cell_type": "markdown",
   "metadata": {},
   "source": [
    "Now we'll try to plot how the percentage of the population that is female changes by age:"
   ]
  },
  {
   "cell_type": "code",
   "execution_count": null,
   "metadata": {},
   "outputs": [],
   "source": [
    "pop_2019"
   ]
  },
  {
   "cell_type": "code",
   "execution_count": null,
   "metadata": {},
   "outputs": [],
   "source": [
    "# Calculate the percent female for each age\n",
    "total_pop = pop_2019.column('Male Pop') + pop_2019.column('Female Pop')\n",
    "pct_female_array = 100 * pop_2019.column('Female Pop') / total_pop\n",
    "\n",
    "# Add this array to the pop_2019 table\n",
    "pop_2019 = pop_2019.with_columns('Percent Female', pct_female_array)\n",
    "pop_2019"
   ]
  },
  {
   "cell_type": "code",
   "execution_count": null,
   "metadata": {},
   "outputs": [],
   "source": [
    "pop_2019.plot('Age')"
   ]
  },
  {
   "cell_type": "markdown",
   "metadata": {},
   "source": [
    "Uh oh! Since populations are several orders of magnitude larger than percentages, we shouldn't plot these on the same y-axis."
   ]
  },
  {
   "cell_type": "code",
   "execution_count": null,
   "metadata": {},
   "outputs": [],
   "source": [
    "# Give .plot a second argument 'Percent Female', \n",
    "# to only plot the 'Percent Female' column on the y-axis.\n",
    "pop_2019.plot('Age', 'Percent Female')"
   ]
  },
  {
   "cell_type": "markdown",
   "metadata": {},
   "source": [
    "## Scatter Plots ##"
   ]
  },
  {
   "cell_type": "code",
   "execution_count": null,
   "metadata": {},
   "outputs": [],
   "source": [
    "# Actors and their highest grossing movies\n",
    "actors = Table.read_table('data/actors.csv')\n",
    "actors"
   ]
  },
  {
   "cell_type": "markdown",
   "metadata": {},
   "source": [
    "Is there an association between the `Number of Movies` an actor / actress has been in, and the `Total Gross` of their movies? Use the `scatter` method to visually check if these variables are correlated."
   ]
  },
  {
   "cell_type": "code",
   "execution_count": null,
   "metadata": {},
   "outputs": [],
   "source": [
    "actors.scatter('Number of Movies', 'Total Gross')\n",
    "# 1st argument puts 'Number of Movies' on the x-axis\n",
    "# 2nd argument puts 'Total Gross' on the y-axis"
   ]
  },
  {
   "cell_type": "code",
   "execution_count": null,
   "metadata": {},
   "outputs": [],
   "source": [
    "actors.scatter('Number of Movies', 'Average per Movie')"
   ]
  },
  {
   "cell_type": "markdown",
   "metadata": {},
   "source": [
    "Can we identify the outlier?"
   ]
  },
  {
   "cell_type": "code",
   "execution_count": null,
   "metadata": {},
   "outputs": [],
   "source": [
    "actors.where('Average per Movie', are.above(400))"
   ]
  },
  {
   "cell_type": "code",
   "execution_count": null,
   "metadata": {},
   "outputs": [],
   "source": [
    "display(Image(url='https://upload.wikimedia.org/wikipedia/en/5/5c/C-3PO_droid.png'))"
   ]
  },
  {
   "cell_type": "markdown",
   "metadata": {},
   "source": [
    "## Bar Charts ##"
   ]
  },
  {
   "cell_type": "code",
   "execution_count": null,
   "metadata": {
    "scrolled": true
   },
   "outputs": [],
   "source": [
    "# Highest grossing movies as of 2017\n",
    "top_movies = Table.read_table('data/top_movies_2017.csv')\n",
    "top_movies "
   ]
  },
  {
   "cell_type": "code",
   "execution_count": null,
   "metadata": {},
   "outputs": [],
   "source": [
    "# Convert to millions of dollars for readability\n",
    "millions = np.round(top_movies.column('Gross (Adjusted)') / 1000000, 3)\n",
    "top_movies = top_movies.with_column('Millions', millions)\n",
    "top_movies"
   ]
  },
  {
   "cell_type": "code",
   "execution_count": null,
   "metadata": {},
   "outputs": [],
   "source": [
    "# Let's focus on the top 10, sorted by Gross (Adjusted)\n",
    "top10_adjusted = top_movies.sort('Gross (Adjusted)', descending=True).take(np.arange(10))\n",
    "top10_adjusted"
   ]
  },
  {
   "cell_type": "markdown",
   "metadata": {},
   "source": [
    "Make a bar chart with the `barh` method:"
   ]
  },
  {
   "cell_type": "code",
   "execution_count": null,
   "metadata": {
    "scrolled": true
   },
   "outputs": [],
   "source": [
    "top10_adjusted.barh('Title', 'Millions')"
   ]
  },
  {
   "cell_type": "code",
   "execution_count": null,
   "metadata": {},
   "outputs": [],
   "source": [
    "top10_not_adjusted = top_movies.sort('Gross', descending=True).take(np.arange(10))\n",
    "top10_not_adjusted"
   ]
  },
  {
   "cell_type": "markdown",
   "metadata": {},
   "source": [
    "**Discussion question:** generate the chart shown in the slides!\n",
    "I.e., create a bar chart showing the age (# years since release) for the 10 highest grossing movies (non-adjusted)."
   ]
  },
  {
   "cell_type": "code",
   "execution_count": null,
   "metadata": {},
   "outputs": [],
   "source": [
    "# ..."
   ]
  },
  {
   "cell_type": "markdown",
   "metadata": {},
   "source": [
    "## Categorical Distributions"
   ]
  },
  {
   "cell_type": "code",
   "execution_count": null,
   "metadata": {},
   "outputs": [],
   "source": [
    "top_movies"
   ]
  },
  {
   "cell_type": "markdown",
   "metadata": {},
   "source": [
    "We can count how many times each studio appears in the table using the `group` method:"
   ]
  },
  {
   "cell_type": "code",
   "execution_count": null,
   "metadata": {},
   "outputs": [],
   "source": [
    "studio_distribution = top_movies.group('Studio')\n",
    "studio_distribution"
   ]
  },
  {
   "cell_type": "code",
   "execution_count": null,
   "metadata": {},
   "outputs": [],
   "source": [
    "studio_distribution.sort('count', descending=True)"
   ]
  },
  {
   "cell_type": "code",
   "execution_count": null,
   "metadata": {},
   "outputs": [],
   "source": [
    "sum(studio_distribution.column('count'))"
   ]
  },
  {
   "cell_type": "markdown",
   "metadata": {},
   "source": [
    "## Bar Charts"
   ]
  },
  {
   "cell_type": "markdown",
   "metadata": {},
   "source": [
    "We can use the `barh` method to visualize the distribution of a categorical variable:"
   ]
  },
  {
   "cell_type": "code",
   "execution_count": null,
   "metadata": {},
   "outputs": [],
   "source": [
    "studio_distribution.barh('Studio')"
   ]
  },
  {
   "cell_type": "code",
   "execution_count": null,
   "metadata": {},
   "outputs": [],
   "source": [
    "studio_distribution.sort('count', descending=True).barh('Studio')"
   ]
  },
  {
   "cell_type": "markdown",
   "metadata": {
    "tags": []
   },
   "source": [
    "## Numerical Distributions"
   ]
  },
  {
   "cell_type": "code",
   "execution_count": null,
   "metadata": {},
   "outputs": [],
   "source": [
    "top_movies"
   ]
  },
  {
   "cell_type": "code",
   "execution_count": null,
   "metadata": {
    "tags": []
   },
   "outputs": [],
   "source": [
    "ages = 2023 - top_movies.column('Year')\n",
    "top_movies = top_movies.with_column('Age', ages)"
   ]
  },
  {
   "cell_type": "code",
   "execution_count": null,
   "metadata": {},
   "outputs": [],
   "source": [
    "top_movies"
   ]
  },
  {
   "cell_type": "code",
   "execution_count": null,
   "metadata": {},
   "outputs": [],
   "source": [
    "top_movies.sort('Age')"
   ]
  },
  {
   "cell_type": "markdown",
   "metadata": {},
   "source": [
    "Can we use a bar chart to visualize the distribution of a *numerical* variable?"
   ]
  },
  {
   "cell_type": "code",
   "execution_count": null,
   "metadata": {},
   "outputs": [],
   "source": [
    "# Create bar chart for the distribution of gross revenue\n",
    "top_movies.group('Gross').barh('Gross')"
   ]
  },
  {
   "cell_type": "markdown",
   "metadata": {},
   "source": [
    "## Binning ##"
   ]
  },
  {
   "cell_type": "code",
   "execution_count": null,
   "metadata": {},
   "outputs": [],
   "source": [
    "top_movies"
   ]
  },
  {
   "cell_type": "code",
   "execution_count": null,
   "metadata": {},
   "outputs": [],
   "source": [
    "# Figure out the smallest and largest values of \"Age\" in the dataset\n",
    "ages = top_movies.column('Age')\n",
    "min(ages), max(ages)"
   ]
  },
  {
   "cell_type": "code",
   "execution_count": null,
   "metadata": {},
   "outputs": [],
   "source": [
    "my_bins = make_array(0, 5, 10, 15, 25, 40, 65, 102)\n",
    "# The upper bound on the LAST BIN ONLY is inclusive!"
   ]
  },
  {
   "cell_type": "markdown",
   "metadata": {},
   "source": [
    "**Question:** how many bins are there?"
   ]
  },
  {
   "cell_type": "code",
   "execution_count": null,
   "metadata": {},
   "outputs": [],
   "source": [
    "# ..."
   ]
  },
  {
   "cell_type": "markdown",
   "metadata": {},
   "source": [
    "Use the table method `bin` to count the number of movies in each bin:"
   ]
  },
  {
   "cell_type": "code",
   "execution_count": null,
   "metadata": {},
   "outputs": [],
   "source": [
    "binned_data = top_movies.bin('Age', bins = my_bins)\n",
    "binned_data"
   ]
  },
  {
   "cell_type": "markdown",
   "metadata": {},
   "source": [
    "**Question:** how many movies are in the bin [5, 10)?"
   ]
  },
  {
   "cell_type": "code",
   "execution_count": null,
   "metadata": {},
   "outputs": [],
   "source": [
    "# ..."
   ]
  },
  {
   "cell_type": "markdown",
   "metadata": {},
   "source": [
    "**Question:** does the `binned_data` table contain as many rows as you would expect?"
   ]
  },
  {
   "cell_type": "code",
   "execution_count": null,
   "metadata": {},
   "outputs": [],
   "source": [
    "# ..."
   ]
  },
  {
   "cell_type": "code",
   "execution_count": null,
   "metadata": {},
   "outputs": [],
   "source": [
    "sum(binned_data.column('Age count'))"
   ]
  },
  {
   "cell_type": "markdown",
   "metadata": {},
   "source": [
    "Let's try some new bins:"
   ]
  },
  {
   "cell_type": "code",
   "execution_count": null,
   "metadata": {},
   "outputs": [],
   "source": [
    "binned_data = top_movies.bin('Age', bins = np.arange(0, 102, 25))\n",
    "binned_data"
   ]
  },
  {
   "cell_type": "markdown",
   "metadata": {},
   "source": [
    "Are all 200 of the movies accounted for?"
   ]
  },
  {
   "cell_type": "code",
   "execution_count": null,
   "metadata": {},
   "outputs": [],
   "source": [
    "sum(binned_data.column('Age count'))"
   ]
  },
  {
   "cell_type": "markdown",
   "metadata": {},
   "source": [
    "**Question:** why is there a movie missing?"
   ]
  },
  {
   "cell_type": "code",
   "execution_count": null,
   "metadata": {},
   "outputs": [],
   "source": [
    "# ..."
   ]
  },
  {
   "cell_type": "markdown",
   "metadata": {},
   "source": [
    "## Histograms ##"
   ]
  },
  {
   "cell_type": "code",
   "execution_count": null,
   "metadata": {},
   "outputs": [],
   "source": [
    "binned_data = top_movies.bin('Age', bins = my_bins)\n",
    "binned_data"
   ]
  },
  {
   "cell_type": "markdown",
   "metadata": {},
   "source": [
    "Use the table method `hist` to generate a histogram that visualizes the distribution of movie ages:"
   ]
  },
  {
   "cell_type": "code",
   "execution_count": null,
   "metadata": {},
   "outputs": [],
   "source": [
    "# Let's make our first histogram!\n",
    "top_movies.hist('Age', bins = my_bins, unit = 'Year')"
   ]
  },
  {
   "cell_type": "markdown",
   "metadata": {},
   "source": [
    "**Question:** which bin contains the largest number of movies? "
   ]
  },
  {
   "cell_type": "code",
   "execution_count": null,
   "metadata": {},
   "outputs": [],
   "source": [
    "# ..."
   ]
  },
  {
   "cell_type": "markdown",
   "metadata": {},
   "source": [
    "Bins with unequal widths are valid, but typically we use equally-spaced bins."
   ]
  },
  {
   "cell_type": "markdown",
   "metadata": {},
   "source": [
    "**Question:** how do we easily generate an array of bins from 0 to 110 (inclusive), all of width 10?"
   ]
  },
  {
   "cell_type": "code",
   "execution_count": null,
   "metadata": {},
   "outputs": [],
   "source": [
    "even_bins = ..."
   ]
  },
  {
   "cell_type": "code",
   "execution_count": null,
   "metadata": {},
   "outputs": [],
   "source": [
    "# Let's try equally spaced bins instead.\n",
    "top_movies.hist('Age', bins=even_bins, unit = 'Year')"
   ]
  },
  {
   "cell_type": "markdown",
   "metadata": {},
   "source": [
    "If you don't want to manually define bins, the `hist` method can do it automatically!"
   ]
  },
  {
   "cell_type": "code",
   "execution_count": null,
   "metadata": {},
   "outputs": [],
   "source": [
    "# Use .hist without providing an argument for bins\n",
    "top_movies.hist('Age', unit='Year')"
   ]
  },
  {
   "cell_type": "markdown",
   "metadata": {},
   "source": [
    "The three histograms above all visualize the same distribution of movie ages, but they look quite different due to choice of bins."
   ]
  },
  {
   "cell_type": "code",
   "execution_count": null,
   "metadata": {},
   "outputs": [],
   "source": [
    "# Add a column containing what percent of movies are in each bin\n",
    "age_count_array = binned_data.column('Age count')\n",
    "percent_in_each_bin = 100 * age_count_array / sum(age_count_array)\n",
    "binned_data = binned_data.with_column('Percent', percent_in_each_bin)\n",
    "binned_data"
   ]
  },
  {
   "cell_type": "markdown",
   "metadata": {},
   "source": [
    "## Height ##\n",
    "\n",
    "### Question: What is the height of the [40, 65] bin?"
   ]
  },
  {
   "cell_type": "code",
   "execution_count": null,
   "metadata": {},
   "outputs": [],
   "source": [
    "# Step 1: Calculate % of movies in the [40, 65) bin\n",
    "# we know it should 57/200\n",
    "age_count_array = binned_data.column('Age count')\n",
    "age_count_array\n",
    "percent = age_count_array.item(5)/sum(age_count_array)\n",
    "percent # we are expecting 57/200 = 0.285 or 28.5%"
   ]
  },
  {
   "cell_type": "code",
   "execution_count": null,
   "metadata": {},
   "outputs": [],
   "source": [
    "# Step 2: Calculate the width of the 40-65 bin\n",
    "width = 65 - 40"
   ]
  },
  {
   "cell_type": "code",
   "execution_count": null,
   "metadata": {},
   "outputs": [],
   "source": [
    "# Step 3: Area of rectangle = height * width\n",
    "#         --> height = percent / width\n",
    "height = percent/width\n",
    "height"
   ]
  },
  {
   "cell_type": "markdown",
   "metadata": {},
   "source": [
    "### What are the heights of the rest of the bins?"
   ]
  },
  {
   "cell_type": "code",
   "execution_count": null,
   "metadata": {},
   "outputs": [],
   "source": [
    "binned_data"
   ]
  },
  {
   "cell_type": "markdown",
   "metadata": {},
   "source": [
    "Use the `np.diff()` function to calculate the bin widths:"
   ]
  },
  {
   "cell_type": "code",
   "execution_count": null,
   "metadata": {},
   "outputs": [],
   "source": [
    "bin_widths_array = np.diff(binned_data.column('bin'))\n",
    "bin_widths_array"
   ]
  },
  {
   "cell_type": "markdown",
   "metadata": {},
   "source": [
    "Use the `exclude` table method to remove the last row from the `binned_data` table, so we can add the bin widths to the table:"
   ]
  },
  {
   "cell_type": "code",
   "execution_count": null,
   "metadata": {},
   "outputs": [],
   "source": [
    "binned_data_and_widths = binned_data.exclude(-1).with_column('width', bin_widths_array)\n",
    "binned_data_and_widths"
   ]
  },
  {
   "cell_type": "markdown",
   "metadata": {},
   "source": [
    "Calculate bin heights using the formula\n",
    "\\begin{equation}\n",
    "    \\text{height} = \\frac{\\text{% in bin}}{\\text{width of bin}}\n",
    "\\end{equation}"
   ]
  },
  {
   "cell_type": "code",
   "execution_count": null,
   "metadata": {},
   "outputs": [],
   "source": [
    "# Get the bin heights\n",
    "bin_heights_array = binned_data_and_widths.column('Percent') / binned_data_and_widths.column('width')\n",
    "binned_data_and_widths = binned_data_and_widths.with_column('height', bin_heights_array)\n",
    "binned_data_and_widths"
   ]
  },
  {
   "cell_type": "code",
   "execution_count": null,
   "metadata": {
    "tags": []
   },
   "outputs": [],
   "source": [
    "# Do these heights look right?\n",
    "top_movies.hist('Age', bins = my_bins, unit = 'Year')"
   ]
  }
 ],
 "metadata": {
  "anaconda-cloud": {},
  "kernelspec": {
   "display_name": "Python 3 (ipykernel)",
   "language": "python",
   "name": "python3"
  },
  "language_info": {
   "codemirror_mode": {
    "name": "ipython",
    "version": 3
   },
   "file_extension": ".py",
   "mimetype": "text/x-python",
   "name": "python",
   "nbconvert_exporter": "python",
   "pygments_lexer": "ipython3",
   "version": "3.10.8"
  },
  "toc": {
   "base_numbering": 1,
   "nav_menu": {},
   "number_sections": false,
   "sideBar": true,
   "skip_h1_title": false,
   "title_cell": "Table of Contents",
   "title_sidebar": "Contents",
   "toc_cell": false,
   "toc_position": {},
   "toc_section_display": true,
   "toc_window_display": false
  }
 },
 "nbformat": 4,
 "nbformat_minor": 4
}
