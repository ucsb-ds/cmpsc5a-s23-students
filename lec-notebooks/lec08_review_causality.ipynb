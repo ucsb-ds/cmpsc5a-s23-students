{
 "cells": [
  {
   "cell_type": "markdown",
   "id": "da6ef0bc-73e4-40dc-b1b9-08875f507af9",
   "metadata": {
    "tags": []
   },
   "source": [
    "# A quick review on correlation and causation"
   ]
  },
  {
   "cell_type": "code",
   "execution_count": null,
   "id": "d4597bb4-f9ec-4d98-89cc-1f0bc77c4762",
   "metadata": {
    "tags": []
   },
   "outputs": [],
   "source": [
    "from datascience import *\n",
    "import numpy as np\n",
    "\n",
    "%matplotlib inline\n",
    "import matplotlib.pyplot as plots\n",
    "plots.style.use('fivethirtyeight')"
   ]
  },
  {
   "cell_type": "markdown",
   "id": "e8f2f108-2bca-44d6-b142-75cdb10e9628",
   "metadata": {},
   "source": [
    "## Inspect a dataset on baby birth weight"
   ]
  },
  {
   "cell_type": "code",
   "execution_count": null,
   "id": "ee88b294-dff8-4580-865d-db1bc0e1fcf3",
   "metadata": {
    "tags": []
   },
   "outputs": [],
   "source": [
    "births = Table.read_table('data/baby.csv')\n",
    "births"
   ]
  },
  {
   "cell_type": "code",
   "execution_count": null,
   "id": "0feec724-7bf2-4590-8be9-aeeed24471de",
   "metadata": {
    "tags": []
   },
   "outputs": [],
   "source": [
    "births.select('Maternal Smoker', 'Birth Weight').group('Maternal Smoker', np.average)"
   ]
  },
  {
   "cell_type": "code",
   "execution_count": null,
   "id": "80fe9d9f-ff3c-4d90-8e6f-0bc548244f5c",
   "metadata": {
    "tags": []
   },
   "outputs": [],
   "source": [
    "births.group('Maternal Smoker', np.average)"
   ]
  },
  {
   "cell_type": "markdown",
   "id": "16a24f77-ce46-4ad0-b34d-890edab33896",
   "metadata": {
    "tags": []
   },
   "source": [
    "## Examine a dataset on a randomize experiment"
   ]
  },
  {
   "cell_type": "code",
   "execution_count": null,
   "id": "51b7a3a3-734d-4e25-a912-dc6c110a499d",
   "metadata": {
    "tags": []
   },
   "outputs": [],
   "source": [
    "botox = Table.read_table('data/bta.csv')\n",
    "botox"
   ]
  },
  {
   "cell_type": "code",
   "execution_count": null,
   "id": "a5395a8d-6b81-4579-828c-e531e61fa0be",
   "metadata": {
    "tags": []
   },
   "outputs": [],
   "source": [
    "botox.group('Group', np.average)"
   ]
  },
  {
   "cell_type": "code",
   "execution_count": null,
   "id": "bb5da923-75d2-4a21-a8ba-a9887850fbce",
   "metadata": {},
   "outputs": [],
   "source": []
  }
 ],
 "metadata": {
  "kernelspec": {
   "display_name": "Python 3 (ipykernel)",
   "language": "python",
   "name": "python3"
  },
  "language_info": {
   "codemirror_mode": {
    "name": "ipython",
    "version": 3
   },
   "file_extension": ".py",
   "mimetype": "text/x-python",
   "name": "python",
   "nbconvert_exporter": "python",
   "pygments_lexer": "ipython3",
   "version": "3.10.6"
  }
 },
 "nbformat": 4,
 "nbformat_minor": 5
}
